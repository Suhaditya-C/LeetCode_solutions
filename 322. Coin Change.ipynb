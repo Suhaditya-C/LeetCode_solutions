{
 "cells": [
  {
   "cell_type": "markdown",
   "id": "6c13835f",
   "metadata": {},
   "source": [
    "# 322. Coin Change\n",
    "\n",
    "You are given an integer array coins representing coins of different denominations and an integer amount representing a total amount of money.\n",
    "\n",
    "Return the fewest number of coins that you need to make up that amount. If that amount of money cannot be made up by any combination of the coins, return -1.\n",
    "\n",
    "You may assume that you have an infinite number of each kind of coin.\n",
    "\n",
    " \n",
    "\n",
    "Example 1:\n",
    "\n",
    "Input: coins = [1,2,5], amount = 11\n",
    "Output: 3\n",
    "Explanation: 11 = 5 + 5 + 1\n",
    "Example 2:\n",
    "\n",
    "Input: coins = [2], amount = 3\n",
    "Output: -1\n",
    "Example 3:\n",
    "\n",
    "Input: coins = [1], amount = 0\n",
    "Output: 0\n",
    " \n",
    "\n",
    "Constraints:\n",
    "\n",
    "1 <= coins.length <= 12\n",
    "1 <= coins[i] <= 231 - 1\n",
    "0 <= amount <= 104"
   ]
  },
  {
   "cell_type": "markdown",
   "id": "551a1b41",
   "metadata": {},
   "source": [
    "## Solution:\n",
    "\n",
    "Recursion: Time Limit Exceeded"
   ]
  },
  {
   "cell_type": "code",
   "execution_count": 9,
   "id": "9d876f4c",
   "metadata": {},
   "outputs": [
    {
     "name": "stdout",
     "output_type": "stream",
     "text": [
      "-1\n"
     ]
    }
   ],
   "source": [
    "coins = [2]; amount = 3\n",
    "def count(amount):\n",
    "    cnt=0\n",
    "    res=float('inf')\n",
    "    if amount==0:\n",
    "        return 0\n",
    "    if amount<0:\n",
    "        return float('inf')\n",
    "    for coin in coins:\n",
    "        cnt=1+count(amount-coin)\n",
    "        res=min(res,cnt)\n",
    "    return res\n",
    "if count(amount)!=float('inf'):\n",
    "    print(count(amount))\n",
    "else:\n",
    "    print(-1)"
   ]
  },
  {
   "cell_type": "markdown",
   "id": "0bca1f41",
   "metadata": {},
   "source": [
    "Using Memoization"
   ]
  },
  {
   "cell_type": "code",
   "execution_count": 10,
   "id": "4f856670",
   "metadata": {},
   "outputs": [
    {
     "name": "stdout",
     "output_type": "stream",
     "text": [
      "-1\n"
     ]
    }
   ],
   "source": [
    "coins = [2]; amount = 3\n",
    "memo={}\n",
    "def count(amount):\n",
    "    if amount in memo:\n",
    "        return memo[amount]\n",
    "    cnt=0\n",
    "    res=float('inf')\n",
    "    if amount==0:\n",
    "        return 0\n",
    "    if amount<0:\n",
    "        return float('inf')\n",
    "    for coin in coins:\n",
    "        cnt=1+count(amount-coin)\n",
    "        res=min(res,cnt)\n",
    "    memo[amount]=res\n",
    "    return res\n",
    "if count(amount)!=float('inf'):\n",
    "    print(count(amount))\n",
    "else:\n",
    "    print(-1)"
   ]
  },
  {
   "cell_type": "markdown",
   "id": "7efc41c5",
   "metadata": {},
   "source": [
    "Using DP - Tabulation (Bottom Up Approach)"
   ]
  },
  {
   "cell_type": "code",
   "execution_count": 26,
   "id": "f33687a5",
   "metadata": {},
   "outputs": [
    {
     "data": {
      "text/plain": [
       "2"
      ]
     },
     "execution_count": 26,
     "metadata": {},
     "output_type": "execute_result"
    }
   ],
   "source": [
    "coins = [1,2,3]; amount = 6\n",
    "dp = [float('inf')] * (amount + 1)\n",
    "dp[0]=0\n",
    "for i in range(1,amount+1):\n",
    "    for coin in coins:\n",
    "        if amount-coin>=0:\n",
    "            min_coins=1+dp[i-coin]\n",
    "            dp[i]=min(dp[i],min_coins)\n",
    "dp[amount]"
   ]
  },
  {
   "cell_type": "code",
   "execution_count": 25,
   "id": "be718c2f",
   "metadata": {},
   "outputs": [
    {
     "data": {
      "text/plain": [
       "0"
      ]
     },
     "execution_count": 25,
     "metadata": {},
     "output_type": "execute_result"
    }
   ],
   "source": [
    "coins = [1]; amount = 0\n",
    "dp = [float('inf')] * (amount + 1)\n",
    "dp[0]=0\n",
    "for i in range(1,amount+1):\n",
    "    for coin in coins:\n",
    "        if amount-coin>=0:\n",
    "            min_coins=1+dp[i-coin]\n",
    "            dp[i]=min(dp[i],min_coins)\n",
    "dp[amount]"
   ]
  },
  {
   "cell_type": "code",
   "execution_count": null,
   "id": "5cfe7be3",
   "metadata": {},
   "outputs": [],
   "source": []
  }
 ],
 "metadata": {
  "kernelspec": {
   "display_name": "Python 3",
   "language": "python",
   "name": "python3"
  },
  "language_info": {
   "codemirror_mode": {
    "name": "ipython",
    "version": 3
   },
   "file_extension": ".py",
   "mimetype": "text/x-python",
   "name": "python",
   "nbconvert_exporter": "python",
   "pygments_lexer": "ipython3",
   "version": "3.10.9"
  }
 },
 "nbformat": 4,
 "nbformat_minor": 5
}

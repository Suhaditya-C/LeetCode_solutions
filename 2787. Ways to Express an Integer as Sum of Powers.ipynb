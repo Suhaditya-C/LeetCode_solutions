{
 "cells": [
  {
   "cell_type": "markdown",
   "id": "64af26f5",
   "metadata": {},
   "source": [
    "# 2787. Ways to Express an Integer as Sum of Powers\n",
    "\n",
    "Given two positive integers n and x.\n",
    "\n",
    "Return the number of ways n can be expressed as the sum of the xth power of unique positive integers, in other words, the number of sets of unique integers [n1, n2, ..., nk] where n = n1x + n2x + ... + nkx.\n",
    "\n",
    "Since the result can be very large, return it modulo 109 + 7.\n",
    "\n",
    "For example, if n = 160 and x = 3, one way to express n is n = 23 + 33 + 53.\n",
    "\n",
    " \n",
    "\n",
    "Example 1:\n",
    "\n",
    "Input: n = 10, x = 2\n",
    "Output: 1\n",
    "Explanation: We can express n as the following: n = 32 + 12 = 10.\n",
    "It can be shown that it is the only way to express 10 as the sum of the 2nd power of unique integers.\n",
    "Example 2:\n",
    "\n",
    "Input: n = 4, x = 1\n",
    "Output: 2\n",
    "Explanation: We can express n in the following ways:\n",
    "- n = 41 = 4.\n",
    "- n = 31 + 11 = 4.\n",
    " \n",
    "\n",
    "Constraints:\n",
    "\n",
    "1 <= n <= 300\n",
    "1 <= x <= 5"
   ]
  },
  {
   "cell_type": "markdown",
   "id": "c9e6dce5",
   "metadata": {},
   "source": [
    "## Solution: \n",
    "Top Down Approach - DFS with Memoisation\n",
    "\n",
    "Memory Limit Exceeded\n",
    "1502 / 1502 testcases passed"
   ]
  },
  {
   "cell_type": "code",
   "execution_count": 31,
   "id": "ddbd65fe",
   "metadata": {},
   "outputs": [
    {
     "data": {
      "text/plain": [
       "1"
      ]
     },
     "execution_count": 31,
     "metadata": {},
     "output_type": "execute_result"
    }
   ],
   "source": [
    "import math\n",
    "n=10;x=2\n",
    "MOD=10**9+7\n",
    "k=int(n**(1/x))+1\n",
    "memo={}\n",
    "def DFS(i,sum):\n",
    "    \n",
    "    global k\n",
    "    if sum>n:\n",
    "        return 0\n",
    "\n",
    "    if i>k:\n",
    "        if sum==n:\n",
    "            return 1\n",
    "        return 0\n",
    "    \n",
    "    if (i,sum) in memo:\n",
    "        return memo[(i,sum)]\n",
    "    \n",
    "    #include\n",
    "    skip=DFS(i+1,sum+i**x)\n",
    "    #skip\n",
    "    include=DFS(i+1,sum)\n",
    "    memo[(i,sum)]=skip+include\n",
    "    return memo[(i,sum)]\n",
    "\n",
    "DFS(1,0)"
   ]
  },
  {
   "cell_type": "code",
   "execution_count": 25,
   "id": "e4077a77",
   "metadata": {},
   "outputs": [
    {
     "data": {
      "text/plain": [
       "{(4, 5): 0,\n",
       " (3, 5): 0,\n",
       " (4, 10): 1,\n",
       " (4, 1): 0,\n",
       " (3, 1): 1,\n",
       " (2, 1): 1,\n",
       " (4, 4): 0,\n",
       " (3, 4): 0,\n",
       " (4, 9): 0,\n",
       " (4, 0): 0,\n",
       " (3, 0): 0,\n",
       " (2, 0): 0,\n",
       " (1, 0): 1}"
      ]
     },
     "execution_count": 25,
     "metadata": {},
     "output_type": "execute_result"
    }
   ],
   "source": [
    "memo"
   ]
  },
  {
   "cell_type": "code",
   "execution_count": 26,
   "id": "7c05f721",
   "metadata": {},
   "outputs": [
    {
     "data": {
      "text/plain": [
       "13"
      ]
     },
     "execution_count": 26,
     "metadata": {},
     "output_type": "execute_result"
    }
   ],
   "source": [
    "len(memo)"
   ]
  },
  {
   "cell_type": "code",
   "execution_count": 27,
   "id": "dcd2fc47",
   "metadata": {},
   "outputs": [
    {
     "data": {
      "text/plain": [
       "1"
      ]
     },
     "execution_count": 27,
     "metadata": {},
     "output_type": "execute_result"
    }
   ],
   "source": [
    "import math\n",
    "n=10;x=2\n",
    "MOD=10**9+7\n",
    "k=round(n**(1/x))\n",
    "memo={}\n",
    "def DFS(i,rem):\n",
    "    \n",
    "    global k,MOD\n",
    "    if rem<0:\n",
    "        return 0\n",
    "\n",
    "    if rem==0:\n",
    "        return 1\n",
    "\n",
    "    if i>k:  \n",
    "        return 0\n",
    "    \n",
    "    if (i,rem) in memo:\n",
    "        return memo[(i,rem)]%MOD\n",
    "    \n",
    "    #include\n",
    "    skip=DFS(i+1,rem-i**x)\n",
    "    #skip\n",
    "    include=DFS(i+1,rem)\n",
    "    memo[(i,rem)]=(skip+include)\n",
    "    return memo[(i,rem)]%MOD\n",
    "\n",
    "DFS(1,n)  "
   ]
  },
  {
   "cell_type": "code",
   "execution_count": 28,
   "id": "8f4d2992",
   "metadata": {},
   "outputs": [
    {
     "data": {
      "text/plain": [
       "{(3, 5): 0,\n",
       " (3, 9): 1,\n",
       " (2, 9): 1,\n",
       " (3, 6): 0,\n",
       " (3, 10): 0,\n",
       " (2, 10): 0,\n",
       " (1, 10): 1}"
      ]
     },
     "execution_count": 28,
     "metadata": {},
     "output_type": "execute_result"
    }
   ],
   "source": [
    "memo"
   ]
  },
  {
   "cell_type": "code",
   "execution_count": 29,
   "id": "2f92fc5e",
   "metadata": {},
   "outputs": [
    {
     "data": {
      "text/plain": [
       "7"
      ]
     },
     "execution_count": 29,
     "metadata": {},
     "output_type": "execute_result"
    }
   ],
   "source": [
    "len(memo)"
   ]
  },
  {
   "cell_type": "code",
   "execution_count": 4,
   "id": "9d4d0ecb",
   "metadata": {},
   "outputs": [
    {
     "data": {
      "text/plain": [
       "4"
      ]
     },
     "execution_count": 4,
     "metadata": {},
     "output_type": "execute_result"
    }
   ],
   "source": [
    "k"
   ]
  },
  {
   "cell_type": "code",
   "execution_count": 5,
   "id": "5ad5d49b",
   "metadata": {},
   "outputs": [
    {
     "data": {
      "text/plain": [
       "{(4, 28): 0,\n",
       " (4, 55): 0,\n",
       " (3, 55): 0,\n",
       " (4, 36): 0,\n",
       " (4, 63): 0,\n",
       " (3, 63): 0,\n",
       " (2, 63): 0,\n",
       " (4, 29): 0,\n",
       " (4, 56): 0,\n",
       " (3, 56): 0,\n",
       " (4, 37): 0,\n",
       " (4, 64): 1,\n",
       " (3, 64): 1,\n",
       " (2, 64): 1,\n",
       " (1, 64): 1}"
      ]
     },
     "execution_count": 5,
     "metadata": {},
     "output_type": "execute_result"
    }
   ],
   "source": [
    "memo"
   ]
  },
  {
   "cell_type": "markdown",
   "id": "3287c0bd",
   "metadata": {},
   "source": [
    "# Bottom up Approach- Tabulisation"
   ]
  },
  {
   "cell_type": "code",
   "execution_count": 8,
   "id": "86cfaffb",
   "metadata": {},
   "outputs": [
    {
     "data": {
      "text/plain": [
       "2"
      ]
     },
     "execution_count": 8,
     "metadata": {},
     "output_type": "execute_result"
    }
   ],
   "source": [
    "n=4;x=1\n",
    "MOD=10**9+7\n",
    "dp=[[0 for _ in range(n+1)] for _ in range(n+1)]\n",
    "dp[0][0]=1 #dp[i][j]= no. of ways of reaching a sum of j using upto i integers\n",
    "\n",
    "for i in range(1,n+1):\n",
    "    power=i**x\n",
    "    for j in range(n+1):\n",
    "        #skip i:\n",
    "        skip=dp[i-1][j]\n",
    "        #include i:\n",
    "        include=dp[i-1][j-power] if power<=j else 0\n",
    "        if power>j:\n",
    "            dp[i][j] = skip%MOD\n",
    "        else:\n",
    "            dp[i][j]=(skip+include)%MOD\n",
    "dp[n][n]\n"
   ]
  },
  {
   "cell_type": "code",
   "execution_count": 7,
   "id": "67865fcb",
   "metadata": {},
   "outputs": [
    {
     "data": {
      "text/plain": [
       "[[1, 0, 0, 0, 0],\n",
       " [1, 1, 0, 0, 0],\n",
       " [1, 1, 1, 1, 0],\n",
       " [1, 1, 1, 2, 1],\n",
       " [1, 1, 1, 2, 2]]"
      ]
     },
     "execution_count": 7,
     "metadata": {},
     "output_type": "execute_result"
    }
   ],
   "source": [
    "dp"
   ]
  }
 ],
 "metadata": {
  "kernelspec": {
   "display_name": "Python 3",
   "language": "python",
   "name": "python3"
  },
  "language_info": {
   "codemirror_mode": {
    "name": "ipython",
    "version": 3
   },
   "file_extension": ".py",
   "mimetype": "text/x-python",
   "name": "python",
   "nbconvert_exporter": "python",
   "pygments_lexer": "ipython3",
   "version": "3.10.9"
  }
 },
 "nbformat": 4,
 "nbformat_minor": 5
}

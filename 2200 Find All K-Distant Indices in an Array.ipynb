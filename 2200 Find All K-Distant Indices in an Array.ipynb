{
 "cells": [
  {
   "cell_type": "markdown",
   "id": "306b5319",
   "metadata": {},
   "source": [
    "# Find All K-Distant Indices in an Array\n",
    "\n",
    "You are given a 0-indexed integer array nums and two integers key and k. A k-distant index is an index i of nums for which there exists at least one index j such that |i - j| <= k and nums[j] == key.\n",
    "\n",
    "Return a list of all k-distant indices sorted in increasing order.\n",
    "\n",
    " \n",
    "\n",
    "Example 1:\n",
    "\n",
    "Input: nums = [3,4,9,1,3,9,5], key = 9, k = 1\n",
    "Output: [1,2,3,4,5,6]\n",
    "Explanation: Here, nums[2] == key and nums[5] == key.\n",
    "- For index 0, |0 - 2| > k and |0 - 5| > k, so there is no j where |0 - j| <= k and nums[j] == key. Thus, 0 is not a k-distant index.\n",
    "- For index 1, |1 - 2| <= k and nums[2] == key, so 1 is a k-distant index.\n",
    "- For index 2, |2 - 2| <= k and nums[2] == key, so 2 is a k-distant index.\n",
    "- For index 3, |3 - 2| <= k and nums[2] == key, so 3 is a k-distant index.\n",
    "- For index 4, |4 - 5| <= k and nums[5] == key, so 4 is a k-distant index.\n",
    "- For index 5, |5 - 5| <= k and nums[5] == key, so 5 is a k-distant index.\n",
    "- For index 6, |6 - 5| <= k and nums[5] == key, so 6 is a k-distant index.\n",
    "Thus, we return [1,2,3,4,5,6] which is sorted in increasing order. \n",
    "Example 2:\n",
    "\n",
    "Input: nums = [2,2,2,2,2], key = 2, k = 2\n",
    "Output: [0,1,2,3,4]\n",
    "Explanation: For all indices i in nums, there exists some index j such that |i - j| <= k and nums[j] == key, so every index is a k-distant index. \n",
    "Hence, we return [0,1,2,3,4].\n",
    " \n",
    "\n",
    "Constraints:\n",
    "\n",
    "1 <= nums.length <= 1000\n",
    "1 <= nums[i] <= 1000\n",
    "key is an integer from the array nums.\n",
    "1 <= k <= nums.length"
   ]
  },
  {
   "cell_type": "markdown",
   "id": "3d0b93c8",
   "metadata": {},
   "source": [
    "## Solution"
   ]
  },
  {
   "cell_type": "code",
   "execution_count": null,
   "id": "772de815",
   "metadata": {},
   "outputs": [
    {
     "data": {
      "text/plain": [
       "[1, 2, 3, 4, 5, 6]"
      ]
     },
     "execution_count": 4,
     "metadata": {},
     "output_type": "execute_result"
    }
   ],
   "source": [
    "nums = [3,4,9,1,3,9,5]; key = 9; k = 1\n",
    "res=set()\n",
    "for i in range(len(nums)):\n",
    "    if nums[i]==key:\n",
    "        for j in range(max(i-k,0),min(i+k+1,len(nums))):\n",
    "            res.add(j)\n",
    "list(res)"
   ]
  }
 ],
 "metadata": {
  "kernelspec": {
   "display_name": "Python 3",
   "language": "python",
   "name": "python3"
  },
  "language_info": {
   "codemirror_mode": {
    "name": "ipython",
    "version": 3
   },
   "file_extension": ".py",
   "mimetype": "text/x-python",
   "name": "python",
   "nbconvert_exporter": "python",
   "pygments_lexer": "ipython3",
   "version": "3.10.9"
  }
 },
 "nbformat": 4,
 "nbformat_minor": 5
}

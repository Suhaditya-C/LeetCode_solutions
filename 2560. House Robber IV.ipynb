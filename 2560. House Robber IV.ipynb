{
 "cells": [
  {
   "cell_type": "markdown",
   "metadata": {},
   "source": [
    "# 2560. House Robber IV\n",
    "\n",
    "There are several consecutive houses along a street, each of which has some money inside. There is also a robber, who wants to steal money from the homes, but he refuses to steal from adjacent homes.\n",
    "\n",
    "The capability of the robber is the maximum amount of money he steals from one house of all the houses he robbed.\n",
    "\n",
    "You are given an integer array nums representing how much money is stashed in each house. More formally, the ith house from the left has nums[i] dollars.\n",
    "\n",
    "You are also given an integer k, representing the minimum number of houses the robber will steal from. It is always possible to steal at least k houses.\n",
    "\n",
    "Return the minimum capability of the robber out of all the possible ways to steal at least k houses.\n",
    "\n",
    " \n",
    "\n",
    "Example 1:\n",
    "\n",
    "Input: nums = [2,3,5,9], k = 2\n",
    "Output: 5\n",
    "Explanation: \n",
    "There are three ways to rob at least 2 houses:\n",
    "- Rob the houses at indices 0 and 2. Capability is max(nums[0], nums[2]) = 5.\n",
    "- Rob the houses at indices 0 and 3. Capability is max(nums[0], nums[3]) = 9.\n",
    "- Rob the houses at indices 1 and 3. Capability is max(nums[1], nums[3]) = 9.\n",
    "Therefore, we return min(5, 9, 9) = 5.\n",
    "Example 2:\n",
    "\n",
    "Input: nums = [2,7,9,3,1], k = 2\n",
    "Output: 2\n",
    "Explanation: There are 7 ways to rob the houses. The way which leads to minimum capability is to rob the house at index 0 and 4. Return max(nums[0], nums[4]) = 2.\n",
    " \n",
    "\n",
    "Constraints:\n",
    "\n",
    "1 <= nums.length <= 105\n",
    "1 <= nums[i] <= 109\n",
    "1 <= k <= (nums.length + 1)/2"
   ]
  },
  {
   "cell_type": "markdown",
   "metadata": {},
   "source": [
    "### Aim is to find the element which is max among k non adjacent element and min of all such elements. Ultimately, we have to find the element which is >= k non adjacent elements."
   ]
  },
  {
   "cell_type": "markdown",
   "metadata": {},
   "source": [
    "Brute Force--Linear Search"
   ]
  },
  {
   "cell_type": "code",
   "execution_count": 23,
   "metadata": {},
   "outputs": [
    {
     "data": {
      "text/plain": [
       "21"
      ]
     },
     "execution_count": 23,
     "metadata": {},
     "output_type": "execute_result"
    }
   ],
   "source": [
    "nums = [24,1,55,46,4,61,21,52]; k = 3\n",
    "res=0\n",
    "for i in range(min(nums),max(nums)+1):\n",
    "    count=0\n",
    "    j=0\n",
    "    while j<(len(nums)):\n",
    "        if nums[j]<=i:\n",
    "            count+=1\n",
    "            j+=1\n",
    "        j+=1\n",
    "    if count>=k:\n",
    "        res=i\n",
    "        break\n",
    "res"
   ]
  },
  {
   "cell_type": "markdown",
   "metadata": {},
   "source": [
    "Binary Search\n",
    "Search Space- min(nums) to max(nums)"
   ]
  },
  {
   "cell_type": "code",
   "execution_count": null,
   "metadata": {},
   "outputs": [
    {
     "data": {
      "text/plain": [
       "5"
      ]
     },
     "execution_count": 32,
     "metadata": {},
     "output_type": "execute_result"
    }
   ],
   "source": [
    "nums = [2,3,5,9]; k = 2\n",
    "l=min(nums)\n",
    "r=max(nums)\n",
    "while l<=r:\n",
    "    mid=(l+r)//2\n",
    "    count=0 #no. of houses can be robbed\n",
    "    i=0\n",
    "    while i <(len(nums)): #iterate through nums and find no. of non adjacent elements <=k\n",
    "        if nums[i]<=mid:\n",
    "            count+=1\n",
    "            i+=1 #skip adjacent elements\n",
    "        i+=1\n",
    "    if count>=k: # if no. of houses>=k,mid is a possible answer, we try to find a lesser value, so we move towards left\n",
    "        r=mid-1\n",
    "    else: #if no. of values in nums <= mid is less than k then move towards a higher mid value to capture the min of max\n",
    "        l=mid+1\n",
    "res=l\n",
    "res  "
   ]
  }
 ],
 "metadata": {
  "kernelspec": {
   "display_name": "Python 3",
   "language": "python",
   "name": "python3"
  },
  "language_info": {
   "codemirror_mode": {
    "name": "ipython",
    "version": 3
   },
   "file_extension": ".py",
   "mimetype": "text/x-python",
   "name": "python",
   "nbconvert_exporter": "python",
   "pygments_lexer": "ipython3",
   "version": "3.12.4"
  }
 },
 "nbformat": 4,
 "nbformat_minor": 2
}

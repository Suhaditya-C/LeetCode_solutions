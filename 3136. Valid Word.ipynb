{
 "cells": [
  {
   "cell_type": "markdown",
   "id": "d636eb21",
   "metadata": {},
   "source": [
    "# 3136. Valid Word\n",
    "\n",
    "A word is considered valid if:\n",
    "\n",
    "It contains a minimum of 3 characters.\n",
    "It contains only digits (0-9), and English letters (uppercase and lowercase).\n",
    "It includes at least one vowel.\n",
    "It includes at least one consonant.\n",
    "You are given a string word.\n",
    "\n",
    "Return true if word is valid, otherwise, return false.\n",
    "\n",
    "Notes:\n",
    "\n",
    "'a', 'e', 'i', 'o', 'u', and their uppercases are vowels.\n",
    "A consonant is an English letter that is not a vowel.\n",
    " \n",
    "\n",
    "Example 1:\n",
    "\n",
    "Input: word = \"234Adas\"\n",
    "\n",
    "Output: true\n",
    "\n",
    "Explanation:\n",
    "\n",
    "This word satisfies the conditions.\n",
    "\n",
    "Example 2:\n",
    "\n",
    "Input: word = \"b3\"\n",
    "\n",
    "Output: false\n",
    "\n",
    "Explanation:\n",
    "\n",
    "The length of this word is fewer than 3, and does not have a vowel.\n",
    "\n",
    "Example 3:\n",
    "\n",
    "Input: word = \"a3$e\"\n",
    "\n",
    "Output: false\n",
    "\n",
    "Explanation:\n",
    "\n",
    "This word contains a '$' character and does not have a consonant.\n",
    "\n",
    " \n",
    "\n",
    "Constraints:\n",
    "\n",
    "1 <= word.length <= 20\n",
    "word consists of English uppercase and lowercase letters, digits, '@', '#', and '$'."
   ]
  },
  {
   "cell_type": "code",
   "execution_count": 1,
   "id": "1ea367f7",
   "metadata": {},
   "outputs": [
    {
     "data": {
      "text/plain": [
       "True"
      ]
     },
     "execution_count": 1,
     "metadata": {},
     "output_type": "execute_result"
    }
   ],
   "source": [
    "class Solution:\n",
    "    def isValid(self, word: str) -> bool:\n",
    "        if len(word)<3:\n",
    "            return False\n",
    "        has_cons=False\n",
    "        has_vowel=False\n",
    "        vowels='aeiouAEIOU'\n",
    "        for w in word:\n",
    "            if w.isalpha():\n",
    "                if w in vowels:\n",
    "                    has_vowel=True\n",
    "                else:\n",
    "                    has_cons=True\n",
    "            elif not w.isdigit():\n",
    "                return False\n",
    "\n",
    "        return has_vowel and has_cons\n",
    "        \n",
    "sol=Solution()\n",
    "sol.isValid(\"234Adas\")"
   ]
  }
 ],
 "metadata": {
  "kernelspec": {
   "display_name": "Python 3",
   "language": "python",
   "name": "python3"
  },
  "language_info": {
   "codemirror_mode": {
    "name": "ipython",
    "version": 3
   },
   "file_extension": ".py",
   "mimetype": "text/x-python",
   "name": "python",
   "nbconvert_exporter": "python",
   "pygments_lexer": "ipython3",
   "version": "3.10.9"
  }
 },
 "nbformat": 4,
 "nbformat_minor": 5
}

{
 "cells": [
  {
   "cell_type": "markdown",
   "id": "d75d2117",
   "metadata": {},
   "source": [
    "# 2845. Count of Interesting Subarrays\n",
    "\n",
    "You are given a 0-indexed integer array nums, an integer modulo, and an integer k.\n",
    "\n",
    "Your task is to find the count of subarrays that are interesting.\n",
    "\n",
    "A subarray nums[l..r] is interesting if the following condition holds:\n",
    "\n",
    "Let cnt be the number of indices i in the range [l, r] such that nums[i] % modulo == k. Then, cnt % modulo == k.\n",
    "Return an integer denoting the count of interesting subarrays.\n",
    "\n",
    "Note: A subarray is a contiguous non-empty sequence of elements within an array.\n",
    "\n",
    " \n",
    "\n",
    "Example 1:\n",
    "\n",
    "Input: nums = [3,2,4], modulo = 2, k = 1\n",
    "Output: 3\n",
    "Explanation: In this example the interesting subarrays are: \n",
    "The subarray nums[0..0] which is [3]. \n",
    "- There is only one index, i = 0, in the range [0, 0] that satisfies nums[i] % modulo == k. \n",
    "- Hence, cnt = 1 and cnt % modulo == k.  \n",
    "The subarray nums[0..1] which is [3,2].\n",
    "- There is only one index, i = 0, in the range [0, 1] that satisfies nums[i] % modulo == k.  \n",
    "- Hence, cnt = 1 and cnt % modulo == k.\n",
    "The subarray nums[0..2] which is [3,2,4]. \n",
    "- There is only one index, i = 0, in the range [0, 2] that satisfies nums[i] % modulo == k. \n",
    "- Hence, cnt = 1 and cnt % modulo == k. \n",
    "It can be shown that there are no other interesting subarrays. So, the answer is 3.\n",
    "Example 2:\n",
    "\n",
    "Input: nums = [3,1,9,6], modulo = 3, k = 0\n",
    "Output: 2\n",
    "Explanation: In this example the interesting subarrays are: \n",
    "The subarray nums[0..3] which is [3,1,9,6]. \n",
    "- There are three indices, i = 0, 2, 3, in the range [0, 3] that satisfy nums[i] % modulo == k. \n",
    "- Hence, cnt = 3 and cnt % modulo == k. \n",
    "The subarray nums[1..1] which is [1]. \n",
    "- There is no index, i, in the range [1, 1] that satisfies nums[i] % modulo == k. \n",
    "- Hence, cnt = 0 and cnt % modulo == k. \n",
    "It can be shown that there are no other interesting subarrays. So, the answer is 2.\n",
    " \n",
    "\n",
    "Constraints:\n",
    "\n",
    "1 <= nums.length <= 105 \n",
    "1 <= nums[i] <= 109\n",
    "1 <= modulo <= 109\n",
    "0 <= k < modulo"
   ]
  },
  {
   "cell_type": "markdown",
   "id": "e1c9b7fc",
   "metadata": {},
   "source": [
    "## Solution: Brute Force\n",
    "\n",
    "Time Limit Exceeded\n",
    "609 / 617 testcases passed"
   ]
  },
  {
   "cell_type": "code",
   "execution_count": 25,
   "id": "f98a41e0",
   "metadata": {},
   "outputs": [
    {
     "data": {
      "text/plain": [
       "3"
      ]
     },
     "execution_count": 25,
     "metadata": {},
     "output_type": "execute_result"
    }
   ],
   "source": [
    "nums = [3,2,4]; modulo = 2; k = 1\n",
    "n=len(nums)\n",
    "res=0\n",
    "for i in range(n):\n",
    "    count=0\n",
    "    j=i\n",
    "    while j<n:\n",
    "        if nums[j]%modulo==k:\n",
    "            count+=1\n",
    "        if count%modulo==k:\n",
    "            res+=1\n",
    "        j+=1\n",
    "res"
   ]
  },
  {
   "cell_type": "markdown",
   "id": "ddecc291",
   "metadata": {},
   "source": [
    "## Efficient Solution:\n",
    "Using prefix sum"
   ]
  },
  {
   "cell_type": "code",
   "execution_count": 5,
   "id": "f03ccabd",
   "metadata": {},
   "outputs": [
    {
     "data": {
      "text/plain": [
       "6"
      ]
     },
     "execution_count": 5,
     "metadata": {},
     "output_type": "execute_result"
    }
   ],
   "source": [
    "nums = [1,9,6,1]; modulo = 2; k = 1\n",
    "n=len(nums)\n",
    "if modulo==1:\n",
    "    res=n*(n+1)/2\n",
    "else:\n",
    "    res=0\n",
    "    prefix_sum=[0]*(n+1) # at index i, stores the no. of indices at which num % modulo=k i.e. the cnt upto index i; the difference of elements in this array gives the cnt in the subarray between the respective indices of the elements\n",
    "    for i in range(1,n+1):\n",
    "        prefix_sum[i]=prefix_sum[i-1]+(1 if nums[i-1]%modulo==k else 0)\n",
    "\n",
    "    #next check if (prefix_sum[i]-prefix_sum[j])%modulo==k. find all such pairs, to do it in linear time count prefix_sum[j]=(prefix_sum[i]-k+modulo)%modulo where it exists before prefix_sum[i]\n",
    "    freq={}\n",
    "    for i in range(n+1):\n",
    "        x=(prefix_sum[i]+modulo-k)%modulo\n",
    "        if x in freq:\n",
    "            res+=freq[x]\n",
    "        freq[prefix_sum[i]%modulo]=1 if prefix_sum[i]%modulo not in freq else freq[prefix_sum[i]%modulo]+1\n",
    "#we are doing prefix_sum[i]%modulo instead of just prefix_sum[i] to detect pairs having nos. > modulo as 0<=x<modulo always.\n",
    "res"
   ]
  },
  {
   "cell_type": "code",
   "execution_count": 3,
   "id": "2d16da08",
   "metadata": {},
   "outputs": [
    {
     "data": {
      "text/plain": [
       "[0, 1, 2, 2, 3]"
      ]
     },
     "execution_count": 3,
     "metadata": {},
     "output_type": "execute_result"
    }
   ],
   "source": [
    "prefix_sum"
   ]
  },
  {
   "cell_type": "code",
   "execution_count": 4,
   "id": "987ca18f",
   "metadata": {},
   "outputs": [
    {
     "data": {
      "text/plain": [
       "{0: 3, 1: 2}"
      ]
     },
     "execution_count": 4,
     "metadata": {},
     "output_type": "execute_result"
    }
   ],
   "source": [
    "freq"
   ]
  }
 ],
 "metadata": {
  "kernelspec": {
   "display_name": "Python 3",
   "language": "python",
   "name": "python3"
  },
  "language_info": {
   "codemirror_mode": {
    "name": "ipython",
    "version": 3
   },
   "file_extension": ".py",
   "mimetype": "text/x-python",
   "name": "python",
   "nbconvert_exporter": "python",
   "pygments_lexer": "ipython3",
   "version": "3.12.4"
  }
 },
 "nbformat": 4,
 "nbformat_minor": 5
}

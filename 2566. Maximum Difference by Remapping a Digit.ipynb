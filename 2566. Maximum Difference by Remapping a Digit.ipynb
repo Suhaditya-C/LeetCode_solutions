{
 "cells": [
  {
   "cell_type": "markdown",
   "id": "a20e3f9f",
   "metadata": {},
   "source": [
    "# 2566. Maximum Difference by Remapping a Digit\n",
    "\n",
    "You are given an integer num. You know that Bob will sneakily remap one of the 10 possible digits (0 to 9) to another digit.\n",
    "\n",
    "Return the difference between the maximum and minimum values Bob can make by remapping exactly one digit in num.\n",
    "\n",
    "Notes:\n",
    "\n",
    "When Bob remaps a digit d1 to another digit d2, Bob replaces all occurrences of d1 in num with d2.\n",
    "Bob can remap a digit to itself, in which case num does not change.\n",
    "Bob can remap different digits for obtaining minimum and maximum values respectively.\n",
    "The resulting number after remapping can contain leading zeroes.\n",
    " \n",
    "\n",
    "Example 1:\n",
    "\n",
    "Input: num = 11891\n",
    "Output: 99009\n",
    "Explanation: \n",
    "To achieve the maximum value, Bob can remap the digit 1 to the digit 9 to yield 99899.\n",
    "To achieve the minimum value, Bob can remap the digit 1 to the digit 0, yielding 890.\n",
    "The difference between these two numbers is 99009.\n",
    "Example 2:\n",
    "\n",
    "Input: num = 90\n",
    "Output: 99\n",
    "Explanation:\n",
    "The maximum value that can be returned by the function is 99 (if 0 is replaced by 9) and the minimum value that can be returned by the function is 0 (if 9 is replaced by 0).\n",
    "Thus, we return 99.\n",
    " \n",
    "\n",
    "Constraints:\n",
    "\n",
    "1 <= num <= 108"
   ]
  },
  {
   "cell_type": "markdown",
   "id": "980ef86c",
   "metadata": {},
   "source": [
    "## Solution:\n",
    "\n",
    "Hint: \n",
    "\n",
    "Hint 1\n",
    "Try to remap the first non-nine digit to 9 to obtain the maximum number.\n",
    "\n",
    "Hint 2\n",
    "Try to remap the first non-zero digit to 0 to obtain the minimum number."
   ]
  },
  {
   "cell_type": "code",
   "execution_count": 28,
   "id": "1ccfc8df",
   "metadata": {},
   "outputs": [
    {
     "data": {
      "text/plain": [
       "988"
      ]
     },
     "execution_count": 28,
     "metadata": {},
     "output_type": "execute_result"
    }
   ],
   "source": [
    "num = 911\n",
    "mpp1,mpp2={},{}\n",
    "maxnum,minnum='',''\n",
    "\n",
    "for char in str(num):\n",
    "    if char !='9' and len(mpp1)==0:\n",
    "        mpp1[char]='9'\n",
    "\n",
    "    if char!='0'and len(mpp2)==0:\n",
    "        mpp2[char]='0'\n",
    "\n",
    "    if len(mpp1)==1 and len(mpp2)==1:\n",
    "        break\n",
    "\n",
    "for char in str(num):\n",
    "    if char in mpp1:\n",
    "        maxnum+=mpp1[char]\n",
    "    else:\n",
    "        maxnum+=char\n",
    "    \n",
    "    if char in mpp2:\n",
    "        minnum+=mpp2[char]\n",
    "    else:\n",
    "        minnum+=char\n",
    "\n",
    "res=int(maxnum)-int(minnum)\n",
    "res"
   ]
  }
 ],
 "metadata": {
  "kernelspec": {
   "display_name": "Python 3",
   "language": "python",
   "name": "python3"
  },
  "language_info": {
   "codemirror_mode": {
    "name": "ipython",
    "version": 3
   },
   "file_extension": ".py",
   "mimetype": "text/x-python",
   "name": "python",
   "nbconvert_exporter": "python",
   "pygments_lexer": "ipython3",
   "version": "3.10.9"
  }
 },
 "nbformat": 4,
 "nbformat_minor": 5
}

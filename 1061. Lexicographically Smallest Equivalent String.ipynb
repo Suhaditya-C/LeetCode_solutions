{
 "cells": [
  {
   "cell_type": "markdown",
   "id": "bc2c26a2",
   "metadata": {},
   "source": [
    "# 1061. Lexicographically Smallest Equivalent String\n",
    "\n",
    "You are given two strings of the same length s1 and s2 and a string baseStr.\n",
    "\n",
    "We say s1[i] and s2[i] are equivalent characters.\n",
    "\n",
    "For example, if s1 = \"abc\" and s2 = \"cde\", then we have 'a' == 'c', 'b' == 'd', and 'c' == 'e'.\n",
    "Equivalent characters follow the usual rules of any equivalence relation:\n",
    "\n",
    "Reflexivity: 'a' == 'a'.\n",
    "Symmetry: 'a' == 'b' implies 'b' == 'a'.\n",
    "Transitivity: 'a' == 'b' and 'b' == 'c' implies 'a' == 'c'.\n",
    "For example, given the equivalency information from s1 = \"abc\" and s2 = \"cde\", \"acd\" and \"aab\" are equivalent strings of baseStr = \"eed\", and \"aab\" is the lexicographically smallest equivalent string of baseStr.\n",
    "\n",
    "Return the lexicographically smallest equivalent string of baseStr by using the equivalency information from s1 and s2.\n",
    "\n",
    " \n",
    "\n",
    "Example 1:\n",
    "\n",
    "Input: s1 = \"parker\", s2 = \"morris\", baseStr = \"parser\"\n",
    "Output: \"makkek\"\n",
    "Explanation: Based on the equivalency information in s1 and s2, we can group their characters as [m,p], [a,o], [k,r,s], [e,i].\n",
    "The characters in each group are equivalent and sorted in lexicographical order.\n",
    "So the answer is \"makkek\".\n",
    "Example 2:\n",
    "\n",
    "Input: s1 = \"hello\", s2 = \"world\", baseStr = \"hold\"\n",
    "Output: \"hdld\"\n",
    "Explanation: Based on the equivalency information in s1 and s2, we can group their characters as [h,w], [d,e,o], [l,r].\n",
    "So only the second letter 'o' in baseStr is changed to 'd', the answer is \"hdld\".\n",
    "Example 3:\n",
    "\n",
    "Input: s1 = \"leetcode\", s2 = \"programs\", baseStr = \"sourcecode\"\n",
    "Output: \"aauaaaaada\"\n",
    "Explanation: We group the equivalent characters in s1 and s2 as [a,o,e,r,s,c], [l,p], [g,t] and [d,m], thus all letters in baseStr except 'u' and 'd' are transformed to 'a', the answer is \"aauaaaaada\".\n",
    " \n",
    "\n",
    "Constraints:\n",
    "\n",
    "1 <= s1.length, s2.length, baseStr <= 1000\n",
    "s1.length == s2.length\n",
    "s1, s2, and baseStr consist of lowercase English letters."
   ]
  },
  {
   "cell_type": "markdown",
   "id": "14e8392b",
   "metadata": {},
   "source": [
    "## Solution: DFS"
   ]
  },
  {
   "cell_type": "code",
   "execution_count": 6,
   "id": "29f010eb",
   "metadata": {},
   "outputs": [],
   "source": [
    "from collections import defaultdict"
   ]
  },
  {
   "cell_type": "code",
   "execution_count": 22,
   "id": "038193e4",
   "metadata": {},
   "outputs": [
    {
     "data": {
      "text/plain": [
       "'makkek'"
      ]
     },
     "execution_count": 22,
     "metadata": {},
     "output_type": "execute_result"
    }
   ],
   "source": [
    "s1 = \"parker\"; s2 = \"morris\"; baseStr = \"parser\"\n",
    "adj=defaultdict(list)\n",
    "cache={}\n",
    "n=len(s1)\n",
    "for i in range(n):\n",
    "    adj[s1[i]].append(s2[i])\n",
    "    adj[s2[i]].append(s1[i])\n",
    "    \n",
    "def dfs(ch):\n",
    "    visited.add(ch)\n",
    "    min_ch=ch\n",
    "    for nei in adj[ch]:\n",
    "        if nei in visited:\n",
    "            continue\n",
    "        nextch=dfs(nei)\n",
    "        min_ch=min(min_ch,nextch)\n",
    "\n",
    "    return min_ch\n",
    "\n",
    "res=''\n",
    "for ch in baseStr:\n",
    "    visited=set()\n",
    "    res+=(dfs(ch))\n",
    "res"
   ]
  }
 ],
 "metadata": {
  "kernelspec": {
   "display_name": "base",
   "language": "python",
   "name": "python3"
  },
  "language_info": {
   "codemirror_mode": {
    "name": "ipython",
    "version": 3
   },
   "file_extension": ".py",
   "mimetype": "text/x-python",
   "name": "python",
   "nbconvert_exporter": "python",
   "pygments_lexer": "ipython3",
   "version": "3.12.7"
  }
 },
 "nbformat": 4,
 "nbformat_minor": 5
}

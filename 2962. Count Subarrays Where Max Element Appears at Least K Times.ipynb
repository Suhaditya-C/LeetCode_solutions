{
 "cells": [
  {
   "cell_type": "markdown",
   "id": "cd589d41",
   "metadata": {},
   "source": [
    "# 2962. Count Subarrays Where Max Element Appears at Least K Times\n",
    "\n",
    "You are given an integer array nums and a positive integer k.\n",
    "\n",
    "Return the number of subarrays where the maximum element of nums appears at least k times in that subarray.\n",
    "\n",
    "A subarray is a contiguous sequence of elements within an array.\n",
    "\n",
    " \n",
    "\n",
    "Example 1:\n",
    "\n",
    "Input: nums = [1,3,2,3,3], k = 2\n",
    "Output: 6\n",
    "Explanation: The subarrays that contain the element 3 at least 2 times are: [1,3,2,3], [1,3,2,3,3], [3,2,3], [3,2,3,3], [2,3,3] and [3,3].\n",
    "Example 2:\n",
    "\n",
    "Input: nums = [1,4,2,1], k = 3\n",
    "Output: 0\n",
    "Explanation: No subarray contains the element 4 at least 3 times.\n",
    " \n",
    "\n",
    "Constraints:\n",
    "\n",
    "1 <= nums.length <= 105\n",
    "1 <= nums[i] <= 106\n",
    "1 <= k <= 105"
   ]
  },
  {
   "cell_type": "markdown",
   "id": "1188ce21",
   "metadata": {},
   "source": [
    "## Solution: Sliding Window"
   ]
  },
  {
   "cell_type": "code",
   "execution_count": 6,
   "id": "17828bfc",
   "metadata": {},
   "outputs": [
    {
     "data": {
      "text/plain": [
       "6"
      ]
     },
     "execution_count": 6,
     "metadata": {},
     "output_type": "execute_result"
    }
   ],
   "source": [
    "nums = [1,3,2,3,3]; k = 2\n",
    "max_num=max(nums)\n",
    "n=len(nums)\n",
    "left=0\n",
    "res=0\n",
    "cnt=0\n",
    "for right in range(n): #Slide the right window thru the nums\n",
    "    if nums[right]==max_num:\n",
    "        cnt+=1\n",
    "    while cnt>=k:\n",
    "        res+=n-right\n",
    "        if nums[left]==max_num:\n",
    "            cnt-=1\n",
    "        left+=1 #Shrink the window\n",
    "res"
   ]
  }
 ],
 "metadata": {
  "kernelspec": {
   "display_name": "Python 3",
   "language": "python",
   "name": "python3"
  },
  "language_info": {
   "codemirror_mode": {
    "name": "ipython",
    "version": 3
   },
   "file_extension": ".py",
   "mimetype": "text/x-python",
   "name": "python",
   "nbconvert_exporter": "python",
   "pygments_lexer": "ipython3",
   "version": "3.12.4"
  }
 },
 "nbformat": 4,
 "nbformat_minor": 5
}

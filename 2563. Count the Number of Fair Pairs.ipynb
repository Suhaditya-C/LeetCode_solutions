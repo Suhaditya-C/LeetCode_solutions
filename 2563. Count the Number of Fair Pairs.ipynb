{
 "cells": [
  {
   "cell_type": "markdown",
   "id": "cf93e4d4",
   "metadata": {},
   "source": [
    "# 2563. Count the Number of Fair Pairs\n",
    "\n",
    "Given a 0-indexed integer array nums of size n and two integers lower and upper, return the number of fair pairs.\n",
    "\n",
    "A pair (i, j) is fair if:\n",
    "\n",
    "0 <= i < j < n, and\n",
    "lower <= nums[i] + nums[j] <= upper\n",
    " \n",
    "\n",
    "Example 1:\n",
    "\n",
    "Input: nums = [0,1,7,4,4,5], lower = 3, upper = 6\n",
    "Output: 6\n",
    "Explanation: There are 6 fair pairs: (0,3), (0,4), (0,5), (1,3), (1,4), and (1,5).\n",
    "Example 2:\n",
    "\n",
    "Input: nums = [1,7,9,2,5], lower = 11, upper = 11\n",
    "Output: 1\n",
    "Explanation: There is a single fair pair: (2,3).\n",
    " \n",
    "\n",
    "Constraints:\n",
    "\n",
    "1 <= nums.length <= 105\n",
    "nums.length == n\n",
    "-109 <= nums[i] <= 109\n",
    "-109 <= lower <= upper <= 109"
   ]
  },
  {
   "cell_type": "markdown",
   "id": "6aaeaa69",
   "metadata": {},
   "source": [
    "## Solution: Brute Force"
   ]
  },
  {
   "cell_type": "code",
   "execution_count": 1,
   "id": "b2fbe61e",
   "metadata": {},
   "outputs": [
    {
     "data": {
      "text/plain": [
       "6"
      ]
     },
     "execution_count": 1,
     "metadata": {},
     "output_type": "execute_result"
    }
   ],
   "source": [
    "nums = [0,1,7,4,4,5]; lower = 3; upper = 6\n",
    "n=len(nums)\n",
    "res=0\n",
    "for i in range(n-1):\n",
    "    for j in range(i+1,n):\n",
    "        if lower<=nums[i]+nums[j]<=upper:\n",
    "            res+=1\n",
    "res"
   ]
  },
  {
   "cell_type": "markdown",
   "id": "e1512c4a",
   "metadata": {},
   "source": [
    "## Efficient Solution: Sort Array in Increasing order (even though i<j, we are concerned with the sum), for each num in the array find the lowest and highest num that can be paired with the num to meet the condition: Two Pointer Approach"
   ]
  },
  {
   "cell_type": "code",
   "execution_count": 9,
   "id": "65b39ea1",
   "metadata": {},
   "outputs": [
    {
     "data": {
      "text/plain": [
       "6"
      ]
     },
     "execution_count": 9,
     "metadata": {},
     "output_type": "execute_result"
    }
   ],
   "source": [
    "nums = [0,1,7,4,4,5]; lower = 3; upper = 6\n",
    "n=len(nums)\n",
    "res=0\n",
    "upto_l=0\n",
    "upto_u=0\n",
    "nums.sort()\n",
    "nums\n",
    "left=0\n",
    "right=n-1 #start with lowest and highest num's sum and shrink the window accordingly\n",
    "# Find all sum of nums <lower\n",
    "while left<right:\n",
    "    if nums[left]+nums[right]<lower:\n",
    "        # Add size of window\n",
    "        upto_l+=right-left #As the lower number can pair with higher number and all nums below it\n",
    "        #Advance left pointer\n",
    "        left+=1 #As sum will increase\n",
    "    else:\n",
    "        right-=1\n",
    "        #Retreat right pointer as sum will decrease\n",
    "left=0\n",
    "right=n-1 #start with lowest and highest num's sum and shrink the window accordingly\n",
    "# Find all sum of nums <=upper\n",
    "while left<right:\n",
    "    if nums[left]+nums[right]<=upper:\n",
    "        # Add size of window\n",
    "        upto_u+=right-left #As the lower number can pair with higher number and all nums below it\n",
    "        #Advance left pointer\n",
    "        left+=1 #As sum will increase\n",
    "    else:\n",
    "        right-=1\n",
    "        #Retreat right pointer as sum will decrease\n",
    "\n",
    "res=upto_u-upto_l #Final result will be nums<=upper bound- nums<=lower bound\n",
    "res"
   ]
  }
 ],
 "metadata": {
  "kernelspec": {
   "display_name": "Python 3",
   "language": "python",
   "name": "python3"
  },
  "language_info": {
   "codemirror_mode": {
    "name": "ipython",
    "version": 3
   },
   "file_extension": ".py",
   "mimetype": "text/x-python",
   "name": "python",
   "nbconvert_exporter": "python",
   "pygments_lexer": "ipython3",
   "version": "3.12.4"
  }
 },
 "nbformat": 4,
 "nbformat_minor": 5
}

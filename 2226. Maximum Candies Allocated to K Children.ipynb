{
 "cells": [
  {
   "cell_type": "markdown",
   "metadata": {},
   "source": [
    "# 2226. Maximum Candies Allocated to K Children"
   ]
  },
  {
   "cell_type": "markdown",
   "metadata": {},
   "source": [
    "You are given a 0-indexed integer array candies. Each element in the array denotes a pile of candies of size candies[i]. You can divide each pile into any number of sub piles, but you cannot merge two piles together.\n",
    "\n",
    "You are also given an integer k. You should allocate piles of candies to k children such that each child gets the same number of candies. Each child can be allocated candies from only one pile of candies and some piles of candies may go unused.\n",
    "\n",
    "Return the maximum number of candies each child can get.\n",
    "\n",
    " \n",
    "\n",
    "Example 1:\n",
    "\n",
    "Input: candies = [5,8,6], k = 3\n",
    "Output: 5\n",
    "Explanation: We can divide candies[1] into 2 piles of size 5 and 3, and candies[2] into 2 piles of size 5 and 1. We now have five piles of candies of sizes 5, 5, 3, 5, and 1. We can allocate the 3 piles of size 5 to 3 children. It can be proven that each child cannot receive more than 5 candies.\n",
    "Example 2:\n",
    "\n",
    "Input: candies = [2,5], k = 11\n",
    "Output: 0\n",
    "Explanation: There are 11 children but only 7 candies in total, so it is impossible to ensure each child receives at least one candy. Thus, each child gets no candy and the answer is 0.\n",
    " \n",
    "\n",
    "Constraints:\n",
    "\n",
    "1 <= candies.length <= 105\n",
    "1 <= candies[i] <= 107\n",
    "1 <= k <= 1012\n"
   ]
  },
  {
   "cell_type": "markdown",
   "metadata": {},
   "source": [
    "### Brute Force"
   ]
  },
  {
   "cell_type": "code",
   "execution_count": null,
   "metadata": {},
   "outputs": [
    {
     "data": {
      "text/plain": [
       "5"
      ]
     },
     "execution_count": 11,
     "metadata": {},
     "output_type": "execute_result"
    }
   ],
   "source": [
    "candies = [5,8,6]; k = 3\n",
    "n=sum(candies)\n",
    "res=0\n",
    "if n>=k:\n",
    "    #ideally the min no. of candies a sub pile can have is 1 and maximum is sum(candies)//k--since candies have to equally distributed\n",
    "    #make array of min to max\n",
    "    #traverse through the array from right to left to check if no. of subpiles created with the max no. >= k, if not--move to next element and then check until the condition is satisfied\n",
    "    i=n//k\n",
    "    while i>=1:\n",
    "        s=0\n",
    "        for c in candies:\n",
    "            s+=c//i\n",
    "        if s>=k: #if sum of subpiles with i no. of candies>=k, then i no. of candies can be distributed per children\n",
    "            res=i\n",
    "            break\n",
    "        i-=1    \n",
    "res"
   ]
  },
  {
   "cell_type": "markdown",
   "metadata": {},
   "source": [
    "Time Limit Exceeded"
   ]
  },
  {
   "cell_type": "markdown",
   "metadata": {},
   "source": [
    "### Do Binary Search"
   ]
  },
  {
   "cell_type": "code",
   "execution_count": null,
   "metadata": {},
   "outputs": [
    {
     "data": {
      "text/plain": [
       "3"
      ]
     },
     "execution_count": 20,
     "metadata": {},
     "output_type": "execute_result"
    }
   ],
   "source": [
    "candies = [4,7,5]; k = 4\n",
    "n=sum(candies)\n",
    "r=0 #if n<k, it returns 0\n",
    "\n",
    "if n>=k:\n",
    "    #ideally the min no. of candies a sub pile can have is 1 and maximum is sum(candies)//k--since candies have to equally distributed\n",
    "    #make array of min to max\n",
    "    l=1\n",
    "    r=n//k\n",
    "    #traverse through the array with binary search to check if no. of subpiles created with the max no. >= k, if not--move to next element and then check until the condition is satisfied\n",
    "    while l<=r:\n",
    "        mid=l+(r-l)//2\n",
    "        s=0\n",
    "        for c in candies:\n",
    "            s+=c//mid\n",
    "        if s>=k: #if sum of subpiles with i no. of candies>k, check the array after i for max candies\n",
    "            l=mid+1\n",
    "        else:\n",
    "            r=mid-1\n",
    "        \n",
    "r"
   ]
  }
 ],
 "metadata": {
  "kernelspec": {
   "display_name": "Python 3",
   "language": "python",
   "name": "python3"
  },
  "language_info": {
   "codemirror_mode": {
    "name": "ipython",
    "version": 3
   },
   "file_extension": ".py",
   "mimetype": "text/x-python",
   "name": "python",
   "nbconvert_exporter": "python",
   "pygments_lexer": "ipython3",
   "version": "3.12.4"
  }
 },
 "nbformat": 4,
 "nbformat_minor": 2
}

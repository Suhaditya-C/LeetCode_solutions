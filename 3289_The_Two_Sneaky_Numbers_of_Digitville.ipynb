{
  "nbformat": 4,
  "nbformat_minor": 0,
  "metadata": {
    "colab": {
      "provenance": [],
      "authorship_tag": "ABX9TyPuZw7MU4mR3JG4OeoU40ul",
      "include_colab_link": true
    },
    "kernelspec": {
      "name": "python3",
      "display_name": "Python 3"
    },
    "language_info": {
      "name": "python"
    }
  },
  "cells": [
    {
      "cell_type": "markdown",
      "metadata": {
        "id": "view-in-github",
        "colab_type": "text"
      },
      "source": [
        "<a href=\"https://colab.research.google.com/github/Suhaditya-C/LeetCode_solutions/blob/main/3289_The_Two_Sneaky_Numbers_of_Digitville.ipynb\" target=\"_parent\"><img src=\"https://colab.research.google.com/assets/colab-badge.svg\" alt=\"Open In Colab\"/></a>"
      ]
    },
    {
      "cell_type": "markdown",
      "source": [
        "# 3289. The Two Sneaky Numbers of Digitville\n",
        "\n",
        "In the town of Digitville, there was a list of numbers called nums containing integers from 0 to n - 1. Each number was supposed to appear exactly once in the list, however, two mischievous numbers sneaked in an additional time, making the list longer than usual.\n",
        "\n",
        "As the town detective, your task is to find these two sneaky numbers. Return an array of size two containing the two numbers (in any order), so peace can return to Digitville.\n",
        "\n",
        "\n",
        "\n",
        "Example 1:\n",
        "\n",
        "Input: nums = [0,1,1,0]\n",
        "\n",
        "Output: [0,1]\n",
        "\n",
        "Explanation:\n",
        "\n",
        "The numbers 0 and 1 each appear twice in the array.\n",
        "\n",
        "Example 2:\n",
        "\n",
        "Input: nums = [0,3,2,1,3,2]\n",
        "\n",
        "Output: [2,3]\n",
        "\n",
        "Explanation:\n",
        "\n",
        "The numbers 2 and 3 each appear twice in the array.\n",
        "\n",
        "Example 3:\n",
        "\n",
        "Input: nums = [7,1,5,4,3,4,6,0,9,5,8,2]\n",
        "\n",
        "Output: [4,5]\n",
        "\n",
        "Explanation:\n",
        "\n",
        "The numbers 4 and 5 each appear twice in the array.\n",
        "\n",
        "\n",
        "\n",
        "Constraints:\n",
        "\n",
        "2 <= n <= 100\n",
        "nums.length == n + 2\n",
        "0 <= nums[i] < n\n",
        "The input is generated such that nums contains exactly two repeated elements."
      ],
      "metadata": {
        "id": "BHODRj8a-DeW"
      }
    },
    {
      "cell_type": "markdown",
      "source": [
        "## Solution: Simple hash mapping"
      ],
      "metadata": {
        "id": "OyM3_GkC-I-X"
      }
    },
    {
      "cell_type": "code",
      "execution_count": 1,
      "metadata": {
        "colab": {
          "base_uri": "https://localhost:8080/"
        },
        "id": "lKC-P_J6-AUd",
        "outputId": "472511c8-c705-443a-861d-98cfaf70e21f"
      },
      "outputs": [
        {
          "output_type": "execute_result",
          "data": {
            "text/plain": [
              "[5, 4]"
            ]
          },
          "metadata": {},
          "execution_count": 1
        }
      ],
      "source": [
        "nums = [7,1,5,4,3,4,6,0,9,5,8,2]\n",
        "from collections import Counter\n",
        "mpp=Counter(nums)\n",
        "res=[key for key in mpp.keys() if mpp[key]==2]\n",
        "res"
      ]
    },
    {
      "cell_type": "markdown",
      "source": [
        "## Alternate Solution: Sorting and one pass"
      ],
      "metadata": {
        "id": "MfCQdUbqAZ5B"
      }
    },
    {
      "cell_type": "code",
      "source": [
        "nums = [7,1,5,4,3,4,6,0,9,5,8,2]\n",
        "nums.sort()\n",
        "res=[nums[i] for i in range(1,len(nums)) if nums[i]==nums[i-1]]\n",
        "res"
      ],
      "metadata": {
        "colab": {
          "base_uri": "https://localhost:8080/"
        },
        "id": "9Al30PKaAZo_",
        "outputId": "55161bc2-9316-4860-e472-0435a3643670"
      },
      "execution_count": 6,
      "outputs": [
        {
          "output_type": "execute_result",
          "data": {
            "text/plain": [
              "[4, 5]"
            ]
          },
          "metadata": {},
          "execution_count": 6
        }
      ]
    }
  ]
}
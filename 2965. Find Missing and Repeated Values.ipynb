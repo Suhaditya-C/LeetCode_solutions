{
 "cells": [
  {
   "cell_type": "markdown",
   "id": "0581ca84-8afb-4901-b0c4-183bda5553f7",
   "metadata": {},
   "source": [
    "## 2965. Find Missing and Repeated Values\n",
    "\n",
    "You are given a 0-indexed 2D integer matrix grid of size n * n with values in the range [1, n2]. Each integer appears exactly once except a which appears twice and b which is missing. The task is to find the repeating and missing numbers a and b.\n",
    "\n",
    "Return a 0-indexed integer array ans of size 2 where ans[0] equals to a and ans[1] equals to b.\n",
    "\n",
    " \n",
    "\n",
    "Example 1:\n",
    "\n",
    "Input: grid = [[1,3],[2,2]]\n",
    "Output: [2,4]\n",
    "Explanation: Number 2 is repeated and number 4 is missing so the answer is [2,4].\n",
    "Example 2:\n",
    "\n",
    "Input: grid = [[9,1,7],[8,9,2],[3,4,6]]\n",
    "Output: [9,5]\n",
    "Explanation: Number 9 is repeated and number 5 is missing so the answer is [9,5].\n",
    " \n",
    "\n",
    "Constraints:\n",
    "\n",
    "2 <= n == grid.length == grid[i].length <= 50\n",
    "1 <= grid[i][j] <= n * n\n",
    "For all x that 1 <= x <= n * n there is exactly one x that is not equal to any of the grid members.\n",
    "For all x that 1 <= x <= n * n there is exactly one x that is equal to exactly two of the grid members.\n",
    "For all x that 1 <= x <= n * n except two of them there is exatly one pair of i, j that 0 <= i, j <= n - 1 and grid[i][j] == x."
   ]
  },
  {
   "cell_type": "markdown",
   "id": "96ab6c51-647e-40af-92d4-578eeab671fd",
   "metadata": {},
   "source": [
    "Brute Force"
   ]
  },
  {
   "cell_type": "code",
   "execution_count": 24,
   "id": "7de82f5c-faa1-4500-a8cc-bbd48b225d02",
   "metadata": {},
   "outputs": [],
   "source": [
    "grid = [[9,1,7],[8,9,2],[3,4,6]]"
   ]
  },
  {
   "cell_type": "code",
   "execution_count": 20,
   "id": "da21a93d-44ea-485e-b644-6f5dc7cbee7a",
   "metadata": {},
   "outputs": [
    {
     "data": {
      "text/plain": [
       "[9, 5]"
      ]
     },
     "execution_count": 20,
     "metadata": {},
     "output_type": "execute_result"
    }
   ],
   "source": [
    "map={}\n",
    "m=len(grid)\n",
    "for i in range(m):\n",
    "    for j in range(m):\n",
    "        if grid[i][j] not in map:\n",
    "            map[grid[i][j]]=1\n",
    "        else:\n",
    "            map[grid[i][j]]+=1\n",
    "for k in range(1,m*m+1):\n",
    "    if k in map and map[k]==2:\n",
    "        a=k #repeating value\n",
    "    elif k not in map:\n",
    "        b=k #missing value\n",
    "[a,b]"
   ]
  },
  {
   "cell_type": "markdown",
   "id": "9d7246d4-c07f-4af1-b923-ba791b046b7a",
   "metadata": {},
   "source": [
    "Efficient Solution"
   ]
  },
  {
   "cell_type": "code",
   "execution_count": 27,
   "id": "eeef08dc-4888-4804-83b2-0e0775a0b4dc",
   "metadata": {},
   "outputs": [
    {
     "data": {
      "text/plain": [
       "[9, 5]"
      ]
     },
     "execution_count": 27,
     "metadata": {},
     "output_type": "execute_result"
    }
   ],
   "source": [
    "seen=set()\n",
    "m=len(grid)\n",
    "sum=m*m*(m*m+1)//2 #expected sum\n",
    "for i in range(m):\n",
    "    for j in range(m):\n",
    "        if grid[i][j] not in seen:\n",
    "            sum-=grid[i][j] #expected - actual sum considering 1 instance of elements present\n",
    "            seen.add(grid[i][j])\n",
    "        else:\n",
    "            a=grid[i][j] #duplicate value\n",
    "#missing value\n",
    "b=sum\n",
    "[a,b]"
   ]
  }
 ],
 "metadata": {
  "kernelspec": {
   "display_name": "Python 3 (ipykernel)",
   "language": "python",
   "name": "python3"
  },
  "language_info": {
   "codemirror_mode": {
    "name": "ipython",
    "version": 3
   },
   "file_extension": ".py",
   "mimetype": "text/x-python",
   "name": "python",
   "nbconvert_exporter": "python",
   "pygments_lexer": "ipython3",
   "version": "3.12.4"
  }
 },
 "nbformat": 4,
 "nbformat_minor": 5
}

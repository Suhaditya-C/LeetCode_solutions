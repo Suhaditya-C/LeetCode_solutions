{
  "nbformat": 4,
  "nbformat_minor": 0,
  "metadata": {
    "colab": {
      "provenance": [],
      "authorship_tag": "ABX9TyO9B/JpZWPDgsLNODv179ly",
      "include_colab_link": true
    },
    "kernelspec": {
      "name": "python3",
      "display_name": "Python 3"
    },
    "language_info": {
      "name": "python"
    }
  },
  "cells": [
    {
      "cell_type": "markdown",
      "metadata": {
        "id": "view-in-github",
        "colab_type": "text"
      },
      "source": [
        "<a href=\"https://colab.research.google.com/github/Suhaditya-C/LeetCode_solutions/blob/main/1415_The_k_th_Lexicographical_String_of_All_Happy_Strings_of_Length_n.ipynb\" target=\"_parent\"><img src=\"https://colab.research.google.com/assets/colab-badge.svg\" alt=\"Open In Colab\"/></a>"
      ]
    },
    {
      "cell_type": "markdown",
      "source": [
        "## 1415. The k-th Lexicographical String of All Happy Strings of Length n\n",
        "\n",
        "A happy string is a string that:\n",
        "\n",
        "consists only of letters of the set ['a', 'b', 'c'].\n",
        "s[i] != s[i + 1] for all values of i from 1 to s.length - 1 (string is 1-indexed).\n",
        "For example, strings \"abc\", \"ac\", \"b\" and \"abcbabcbcb\" are all happy strings and strings \"aa\", \"baa\" and \"ababbc\" are not happy strings.\n",
        "\n",
        "Given two integers n and k, consider a list of all happy strings of length n sorted in lexicographical order.\n",
        "\n",
        "Return the kth string of this list or return an empty string if there are less than k happy strings of length n.\n",
        "\n",
        "Example 1:\n",
        "\n",
        "Input: n = 1, k = 3\n",
        "Output: \"c\"\n",
        "Explanation: The list [\"a\", \"b\", \"c\"] contains all happy strings of length 1. The third string is \"c\".\n",
        "Example 2:\n",
        "\n",
        "Input: n = 1, k = 4\n",
        "Output: \"\"\n",
        "Explanation: There are only 3 happy strings of length 1.\n",
        "Example 3:\n",
        "\n",
        "Input: n = 3, k = 9\n",
        "Output: \"cab\"\n",
        "Explanation: There are 12 different happy string of length 3 [\"aba\", \"abc\", \"aca\", \"acb\", \"bab\", \"bac\", \"bca\", \"bcb\", \"cab\", \"cac\", \"cba\", \"cbc\"]. You will find the 9th string = \"cab\"\n",
        "\n",
        "Constraints:\n",
        "\n",
        "1 <= n <= 10\n",
        "1 <= k <= 100"
      ],
      "metadata": {
        "id": "NDbIedqyunC4"
      }
    },
    {
      "cell_type": "markdown",
      "source": [
        "### Backtracking"
      ],
      "metadata": {
        "id": "xMWWdHRQutBR"
      }
    },
    {
      "cell_type": "code",
      "source": [
        "n=1;k=3\n",
        "res=''\n",
        "count=0\n",
        "def backtrack(string):\n",
        "    global count,res\n",
        "    # Base Case\n",
        "    if len(string)==n:\n",
        "        count+=1\n",
        "        if count==k:\n",
        "            res=''.join(string)\n",
        "            return True\n",
        "        return False\n",
        "\n",
        "    for char in 'abc':\n",
        "        if len(string)>0 and string[-1]==char:\n",
        "            continue\n",
        "\n",
        "        string.append(char)\n",
        "        if backtrack(string):\n",
        "            return True\n",
        "        string.pop()\n",
        "    return False\n",
        "backtrack([])\n",
        "res"
      ],
      "metadata": {
        "colab": {
          "base_uri": "https://localhost:8080/",
          "height": 36
        },
        "id": "k0vXDT_z3CXq",
        "outputId": "ce153f73-ef31-41a5-b563-f7c778689a62"
      },
      "execution_count": 2,
      "outputs": [
        {
          "output_type": "execute_result",
          "data": {
            "text/plain": [
              "'c'"
            ],
            "application/vnd.google.colaboratory.intrinsic+json": {
              "type": "string"
            }
          },
          "metadata": {},
          "execution_count": 2
        }
      ]
    },
    {
      "cell_type": "markdown",
      "source": [
        "Final Solution"
      ],
      "metadata": {
        "id": "B9EHiZ0OSWth"
      }
    },
    {
      "cell_type": "code",
      "source": [
        "class Solution:\n",
        "    def __init__(self):\n",
        "        self.res = \"\"\n",
        "        self.count = 0\n",
        "\n",
        "    def getHappyString(self, n: int, k: int) -> str:\n",
        "        self.count = 0\n",
        "        self.res = \"\"\n",
        "        self._backtrack(n, k, [])\n",
        "        return self.res\n",
        "\n",
        "    def _backtrack(self, n: int, k: int, cur: list) -> bool:\n",
        "        # Base case\n",
        "        if len(cur) == n:\n",
        "            self.count += 1\n",
        "            if self.count == k:\n",
        "                self.res = \"\".join(cur)\n",
        "                return True\n",
        "            return False\n",
        "\n",
        "        for ch in \"abc\":\n",
        "            if cur and cur[-1] == ch:\n",
        "                continue\n",
        "\n",
        "            cur.append(ch)\n",
        "            if self._backtrack(n, k, cur):\n",
        "                return True\n",
        "            cur.pop()\n",
        "\n",
        "        return False\n",
        "sol=Solution()\n",
        "sol.getHappyString(n=3,k=5)"
      ],
      "metadata": {
        "colab": {
          "base_uri": "https://localhost:8080/",
          "height": 36
        },
        "id": "-AFyGsG7SX0P",
        "outputId": "3a92273c-46a7-4c6a-e506-848bee929312"
      },
      "execution_count": 1,
      "outputs": [
        {
          "output_type": "execute_result",
          "data": {
            "text/plain": [
              "'bab'"
            ],
            "application/vnd.google.colaboratory.intrinsic+json": {
              "type": "string"
            }
          },
          "metadata": {},
          "execution_count": 1
        }
      ]
    }
  ]
}
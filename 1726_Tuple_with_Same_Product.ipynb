{
  "nbformat": 4,
  "nbformat_minor": 0,
  "metadata": {
    "colab": {
      "provenance": [],
      "authorship_tag": "ABX9TyM+KBoeRpa3Km/akeV4EXbQ",
      "include_colab_link": true
    },
    "kernelspec": {
      "name": "python3",
      "display_name": "Python 3"
    },
    "language_info": {
      "name": "python"
    }
  },
  "cells": [
    {
      "cell_type": "markdown",
      "metadata": {
        "id": "view-in-github",
        "colab_type": "text"
      },
      "source": [
        "<a href=\"https://colab.research.google.com/github/Suhaditya-C/LeetCode_solutions/blob/main/1726_Tuple_with_Same_Product.ipynb\" target=\"_parent\"><img src=\"https://colab.research.google.com/assets/colab-badge.svg\" alt=\"Open In Colab\"/></a>"
      ]
    },
    {
      "cell_type": "markdown",
      "source": [
        "## 1726. Tuple with Same Product\n",
        "\n",
        "Given an array nums of distinct positive integers, return the number of tuples (a, b, c, d) such that a * b = c * d where a, b, c, and d are elements of nums, and a != b != c != d.\n",
        "\n",
        "Example 1:\n",
        "\n",
        "Input: nums = [2,3,4,6]\n",
        "Output: 8\n",
        "Explanation: There are 8 valid tuples:\n",
        "(2,6,3,4) , (2,6,4,3) , (6,2,3,4) , (6,2,4,3)\n",
        "(3,4,2,6) , (4,3,2,6) , (3,4,6,2) , (4,3,6,2)\n",
        "Example 2:\n",
        "\n",
        "Input: nums = [1,2,4,5,10]\n",
        "Output: 16\n",
        "Explanation: There are 16 valid tuples:\n",
        "(1,10,2,5) , (1,10,5,2) , (10,1,2,5) , (10,1,5,2)\n",
        "(2,5,1,10) , (2,5,10,1) , (5,2,1,10) , (5,2,10,1)\n",
        "(2,10,4,5) , (2,10,5,4) , (10,2,4,5) , (10,2,5,4)\n",
        "(4,5,2,10) , (4,5,10,2) , (5,4,2,10) , (5,4,10,2)\n",
        "\n",
        "Constraints:\n",
        "\n",
        "1 <= nums.length <= 1000\n",
        "1 <= nums[i] <= 104\n",
        "All elements in nums are distinct."
      ],
      "metadata": {
        "id": "zzc2LyJ8TX8t"
      }
    },
    {
      "cell_type": "code",
      "source": [
        "nums = [2,3,4,6,8,12]\n",
        "map={}\n",
        "res=0\n",
        "for i in range(len(nums)-1): #Find all products\n",
        "    for j in range(i+1,len(nums)):\n",
        "        prod=nums[i]*nums[j]\n",
        "        if prod not in map: # map their frequency\n",
        "            map[prod]=1\n",
        "        else:\n",
        "            map[prod]+=1\n",
        "for keys,values in map.items():\n",
        "    if values>1:\n",
        "        res+=8*values*(values-1)//2 #nC2*8 no. of tuples are formed\n",
        "res"
      ],
      "metadata": {
        "id": "twgxGdTSL8I5",
        "colab": {
          "base_uri": "https://localhost:8080/"
        },
        "outputId": "5b92cda6-882a-4d29-dd54-756522d0d8c4"
      },
      "execution_count": 1,
      "outputs": [
        {
          "output_type": "execute_result",
          "data": {
            "text/plain": [
              "40"
            ]
          },
          "metadata": {},
          "execution_count": 1
        }
      ]
    },
    {
      "cell_type": "markdown",
      "source": [
        "Final Solution"
      ],
      "metadata": {
        "id": "NVNgvrzwnj3r"
      }
    },
    {
      "cell_type": "code",
      "source": [
        "class Solution:\n",
        "    def tupleSameProduct(self, nums: List[int]) -> int:\n",
        "        map={}\n",
        "        res=0\n",
        "        for i in range(len(nums)-1):\n",
        "            for j in range(i+1,len(nums)):\n",
        "                prod=nums[i]*nums[j]\n",
        "                if prod not in map:\n",
        "                    map[prod]=1\n",
        "                else:\n",
        "                    map[prod]+=1\n",
        "        for keys,values in map.items():\n",
        "            if values>1:\n",
        "                res+=8*values*(values-1)//2 #nC2\n",
        "        return res"
      ],
      "metadata": {
        "id": "FU6C6cebni8F"
      },
      "execution_count": null,
      "outputs": []
    }
  ]
}
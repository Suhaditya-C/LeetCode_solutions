{
  "nbformat": 4,
  "nbformat_minor": 0,
  "metadata": {
    "colab": {
      "provenance": [],
      "authorship_tag": "ABX9TyPmFJ8/feUCp6dapZxqmGWq",
      "include_colab_link": true
    },
    "kernelspec": {
      "name": "python3",
      "display_name": "Python 3"
    },
    "language_info": {
      "name": "python"
    }
  },
  "cells": [
    {
      "cell_type": "markdown",
      "metadata": {
        "id": "view-in-github",
        "colab_type": "text"
      },
      "source": [
        "<a href=\"https://colab.research.google.com/github/Suhaditya-C/LeetCode_solutions/blob/main/3508_Implement_Router.ipynb\" target=\"_parent\"><img src=\"https://colab.research.google.com/assets/colab-badge.svg\" alt=\"Open In Colab\"/></a>"
      ]
    },
    {
      "cell_type": "markdown",
      "source": [
        "# 3508. Implement Router\n",
        "\n",
        "Design a data structure that can efficiently manage data packets in a network router. Each data packet consists of the following attributes:\n",
        "\n",
        "source: A unique identifier for the machine that generated the packet.\n",
        "destination: A unique identifier for the target machine.\n",
        "timestamp: The time at which the packet arrived at the router.\n",
        "Implement the Router class:\n",
        "\n",
        "Router(int memoryLimit): Initializes the Router object with a fixed memory limit.\n",
        "\n",
        "memoryLimit is the maximum number of packets the router can store at any given time.\n",
        "If adding a new packet would exceed this limit, the oldest packet must be removed to free up space.\n",
        "bool addPacket(int source, int destination, int timestamp): Adds a packet with the given attributes to the router.\n",
        "\n",
        "A packet is considered a duplicate if another packet with the same source, destination, and timestamp already exists in the router.\n",
        "Return true if the packet is successfully added (i.e., it is not a duplicate); otherwise return false.\n",
        "int[] forwardPacket(): Forwards the next packet in FIFO (First In First Out) order.\n",
        "\n",
        "Remove the packet from storage.\n",
        "Return the packet as an array [source, destination, timestamp].\n",
        "If there are no packets to forward, return an empty array.\n",
        "int getCount(int destination, int startTime, int endTime):\n",
        "\n",
        "Returns the number of packets currently stored in the router (i.e., not yet forwarded) that have the specified destination and have timestamps in the inclusive range [startTime, endTime].\n",
        "Note that queries for addPacket will be made in increasing order of timestamp.\n",
        "\n",
        "\n",
        "\n",
        "Example 1:\n",
        "\n",
        "Input:\n",
        "[\"Router\", \"addPacket\", \"addPacket\", \"addPacket\", \"addPacket\", \"addPacket\", \"forwardPacket\", \"addPacket\", \"getCount\"]\n",
        "[[3], [1, 4, 90], [2, 5, 90], [1, 4, 90], [3, 5, 95], [4, 5, 105], [], [5, 2, 110], [5, 100, 110]]\n",
        "\n",
        "Output:\n",
        "[null, true, true, false, true, true, [2, 5, 90], true, 1]\n",
        "\n",
        "Explanation\n",
        "\n",
        "Router router = new Router(3); // Initialize Router with memoryLimit of 3.\n",
        "router.addPacket(1, 4, 90); // Packet is added. Return True.\n",
        "router.addPacket(2, 5, 90); // Packet is added. Return True.\n",
        "router.addPacket(1, 4, 90); // This is a duplicate packet. Return False.\n",
        "router.addPacket(3, 5, 95); // Packet is added. Return True\n",
        "router.addPacket(4, 5, 105); // Packet is added, [1, 4, 90] is removed as number of packets exceeds memoryLimit. Return True.\n",
        "router.forwardPacket(); // Return [2, 5, 90] and remove it from router.\n",
        "router.addPacket(5, 2, 110); // Packet is added. Return True.\n",
        "router.getCount(5, 100, 110); // The only packet with destination 5 and timestamp in the inclusive range [100, 110] is [4, 5, 105]. Return 1.\n",
        "Example 2:\n",
        "\n",
        "Input:\n",
        "[\"Router\", \"addPacket\", \"forwardPacket\", \"forwardPacket\"]\n",
        "[[2], [7, 4, 90], [], []]\n",
        "\n",
        "Output:\n",
        "[null, true, [7, 4, 90], []]\n",
        "\n",
        "Explanation\n",
        "\n",
        "Router router = new Router(2); // Initialize Router with memoryLimit of 2.\n",
        "router.addPacket(7, 4, 90); // Return True.\n",
        "router.forwardPacket(); // Return [7, 4, 90].\n",
        "router.forwardPacket(); // There are no packets left, return [].\n",
        "\n",
        "\n",
        "Constraints:\n",
        "\n",
        "2 <= memoryLimit <= 105\n",
        "1 <= source, destination <= 2 * 105\n",
        "1 <= timestamp <= 109\n",
        "1 <= startTime <= endTime <= 109\n",
        "At most 105 calls will be made to addPacket, forwardPacket, and getCount methods altogether.\n",
        "queries for addPacket will be made in increasing order of timestamp."
      ],
      "metadata": {
        "id": "FjhK7DBoUSLl"
      }
    },
    {
      "cell_type": "markdown",
      "source": [
        "## Solution: Data Structures used: Deque, hashset and hashmap. Search Technique- Binary Search"
      ],
      "metadata": {
        "id": "sB9xwnqiUY0b"
      }
    },
    {
      "cell_type": "code",
      "source": [
        "from typing import List\n",
        "from collections import deque,defaultdict\n",
        "class Router:\n",
        "\n",
        "    def __init__(self, memoryLimit: int):\n",
        "        self.ml=memoryLimit\n",
        "        self.q=deque()\n",
        "        self.destmap=defaultdict(list)\n",
        "\n",
        "    def addPacket(self, source: int, destination: int, timestamp: int) -> bool:\n",
        "        if (source,destination,timestamp) in self.q:\n",
        "            return False\n",
        "        if len(self.q)>=self.ml:\n",
        "            _,d_old,t_old=self.q.popleft()\n",
        "            self.destmap[d_old].remove(t_old)\n",
        "\n",
        "        self.q.append((source,destination,timestamp))\n",
        "        self.destmap[destination].append(timestamp)\n",
        "        return True\n",
        "\n",
        "\n",
        "    def forwardPacket(self) -> List[int]:\n",
        "        if self.q:\n",
        "            source,destination,timestamp=self.q.popleft()\n",
        "            self.destmap[destination].remove(timestamp)\n",
        "            return [source,destination,timestamp]\n",
        "        return []\n",
        "\n",
        "\n",
        "    def getCount(self, destination: int, startTime: int, endTime: int) -> int:\n",
        "        cnt=0\n",
        "        for ts in self.destmap[destination]:\n",
        "            if startTime<=ts<=endTime:\n",
        "                cnt+=1\n",
        "        return cnt\n",
        "\n",
        "\n",
        "# Your Router object will be instantiated and called as such:\n",
        "# obj = Router(memoryLimit)\n",
        "# param_1 = obj.addPacket(source,destination,timestamp)\n",
        "# param_2 = obj.forwardPacket()\n",
        "# param_3 = obj.getCount(destination,startTime,endTime)"
      ],
      "metadata": {
        "id": "gwQ4q3ZQWwht"
      },
      "execution_count": 15,
      "outputs": []
    },
    {
      "cell_type": "code",
      "execution_count": 16,
      "metadata": {
        "colab": {
          "base_uri": "https://localhost:8080/"
        },
        "id": "-rQWRQ0DT0kU",
        "outputId": "fefd2968-c780-4824-a867-9c94fb7bdce2"
      },
      "outputs": [
        {
          "output_type": "execute_result",
          "data": {
            "text/plain": [
              "[None, True, True, False, True, True, [2, 5, 90], True, 1]"
            ]
          },
          "metadata": {},
          "execution_count": 16
        }
      ],
      "source": [
        "calls=[\"Router\",\"addPacket\",\"addPacket\",\"addPacket\",\"addPacket\",\"addPacket\",\"forwardPacket\",\"addPacket\",\"getCount\"]\n",
        "inputs=[[3],[1,4,90],[2,5,90],[1,4,90],[3,5,95],[4,5,105],[],[5,2,110],[5,100,110]]\n",
        "res=[]\n",
        "for i in range(len(calls)):\n",
        "    if calls[i]==\"Router\":\n",
        "        memoryLimit=inputs[i][0]\n",
        "        obj = Router(memoryLimit)\n",
        "        res.append(None)\n",
        "    elif calls[i]==\"addPacket\":\n",
        "        source,destination,timestamp=inputs[i][0],inputs[i][1],inputs[i][2]\n",
        "        res.append(obj.addPacket(source,destination,timestamp))\n",
        "    elif calls[i]==\"forwardPacket\":\n",
        "        res.append(obj.forwardPacket())\n",
        "    else:\n",
        "        destination,startTime,endTime=inputs[i][0],inputs[i][1],inputs[i][2]\n",
        "        res.append(obj.getCount(destination,startTime,endTime))\n",
        "res"
      ]
    },
    {
      "cell_type": "markdown",
      "source": [
        "### Time Limit Exceeded-- Using Binary Search in Next Attempt"
      ],
      "metadata": {
        "id": "UkwS3-NdlE9c"
      }
    },
    {
      "cell_type": "code",
      "source": [
        "from typing import List\n",
        "from collections import deque,defaultdict\n",
        "class Router:\n",
        "\n",
        "    def __init__(self, memoryLimit: int):\n",
        "        self.ml=memoryLimit\n",
        "        self.q=deque()\n",
        "        self.destmap=defaultdict(list)\n",
        "\n",
        "    def addPacket(self, source: int, destination: int, timestamp: int) -> bool:\n",
        "        if (source,destination,timestamp) in self.q:\n",
        "            return False\n",
        "        if len(self.q)>=self.ml:\n",
        "            _,d_old,t_old=self.q.popleft()\n",
        "            self.destmap[d_old].remove(t_old)\n",
        "\n",
        "        self.q.append((source,destination,timestamp))\n",
        "        self.destmap[destination].append(timestamp)\n",
        "        return True\n",
        "\n",
        "\n",
        "    def forwardPacket(self) -> List[int]:\n",
        "        if self.q:\n",
        "            source,destination,timestamp=self.q.popleft()\n",
        "            self.destmap[destination].remove(timestamp)\n",
        "            return [source,destination,timestamp]\n",
        "        return []\n",
        "\n",
        "\n",
        "    def getCount(self, destination: int, startTime: int, endTime: int) -> int:\n",
        "\n",
        "        arr=self.destmap[destination]\n",
        "        n = len(arr)\n",
        "        if n == 0:\n",
        "            return 0\n",
        "\n",
        "        l,r=0,n-1\n",
        "        while l<=r:\n",
        "            mid=(l+r)//2\n",
        "            if startTime>arr[mid]:\n",
        "                l=mid+1\n",
        "            else:\n",
        "                r=mid-1\n",
        "        left=l\n",
        "        l=0\n",
        "        r=len(arr)-1\n",
        "        while l<=r:\n",
        "            mid=(l+r)//2\n",
        "            if endTime>=arr[mid]:\n",
        "                l=mid+1\n",
        "            else:\n",
        "                r=mid-1\n",
        "        right=l\n",
        "        return right-left\n",
        "\n",
        "\n",
        "\n",
        "# Your Router object will be instantiated and called as such:\n",
        "# obj = Router(memoryLimit)\n",
        "# param_1 = obj.addPacket(source,destination,timestamp)\n",
        "# param_2 = obj.forwardPacket()\n",
        "# param_3 = obj.getCount(destination,startTime,endTime)\n",
        "\n",
        "calls=[\"Router\",\"addPacket\",\"addPacket\",\"addPacket\",\"addPacket\",\"addPacket\",\"forwardPacket\",\"addPacket\",\"getCount\"]\n",
        "inputs=[[3],[1,4,90],[2,5,90],[1,4,90],[3,5,95],[4,5,105],[],[5,2,110],[5,100,110]]\n",
        "res=[]\n",
        "for i in range(len(calls)):\n",
        "    if calls[i]==\"Router\":\n",
        "        memoryLimit=inputs[i][0]\n",
        "        obj = Router(memoryLimit)\n",
        "        res.append(None)\n",
        "    elif calls[i]==\"addPacket\":\n",
        "        source,destination,timestamp=inputs[i][0],inputs[i][1],inputs[i][2]\n",
        "        res.append(obj.addPacket(source,destination,timestamp))\n",
        "    elif calls[i]==\"forwardPacket\":\n",
        "        res.append(obj.forwardPacket())\n",
        "    else:\n",
        "        destination,startTime,endTime=inputs[i][0],inputs[i][1],inputs[i][2]\n",
        "        res.append(obj.getCount(destination,startTime,endTime))\n",
        "res"
      ],
      "metadata": {
        "colab": {
          "base_uri": "https://localhost:8080/"
        },
        "id": "rdmFN4YUeCp7",
        "outputId": "9e512811-9d1a-468b-ea39-e265e5fad0fe"
      },
      "execution_count": 24,
      "outputs": [
        {
          "output_type": "execute_result",
          "data": {
            "text/plain": [
              "[None, True, True, False, True, True, [2, 5, 90], True, 1]"
            ]
          },
          "metadata": {},
          "execution_count": 24
        }
      ]
    },
    {
      "cell_type": "markdown",
      "source": [
        "### Still TLE: Implement duplicate packet search in a set instead of the current linear search that we are doing"
      ],
      "metadata": {
        "id": "cREMwm3-qP2t"
      }
    },
    {
      "cell_type": "code",
      "source": [
        "from typing import List\n",
        "from collections import deque,defaultdict\n",
        "class Router:\n",
        "\n",
        "    def __init__(self, memoryLimit: int):\n",
        "        self.ml=memoryLimit\n",
        "        self.q=deque()\n",
        "        self.destmap=defaultdict(list)\n",
        "        self.seen=set()\n",
        "\n",
        "    def addPacket(self, source: int, destination: int, timestamp: int) -> bool:\n",
        "        if (source,destination,timestamp) in self.seen:\n",
        "            return False\n",
        "        if len(self.q)>=self.ml:\n",
        "            s_old,d_old,t_old=self.q.popleft()\n",
        "            self.destmap[d_old].remove(t_old)\n",
        "            self.seen.remove((s_old,d_old,t_old))\n",
        "\n",
        "        self.q.append((source,destination,timestamp))\n",
        "        self.destmap[destination].append(timestamp)\n",
        "        self.seen.add((source,destination,timestamp))\n",
        "        return True\n",
        "\n",
        "\n",
        "    def forwardPacket(self) -> List[int]:\n",
        "        if self.q:\n",
        "            source,destination,timestamp=self.q.popleft()\n",
        "            self.destmap[destination].remove(timestamp)\n",
        "            self.seen.remove((source,destination,timestamp))\n",
        "            return [source,destination,timestamp]\n",
        "        return []\n",
        "\n",
        "\n",
        "    def getCount(self, destination: int, startTime: int, endTime: int) -> int:\n",
        "\n",
        "        arr=self.destmap[destination]\n",
        "        n = len(arr)\n",
        "        if n == 0:\n",
        "            return 0\n",
        "\n",
        "        l,r=0,n-1\n",
        "        while l<=r:\n",
        "            mid=(l+r)//2\n",
        "            if startTime>arr[mid]:\n",
        "                l=mid+1\n",
        "            else:\n",
        "                r=mid-1\n",
        "        left=l\n",
        "        l=0\n",
        "        r=len(arr)-1\n",
        "        while l<=r:\n",
        "            mid=(l+r)//2\n",
        "            if endTime>=arr[mid]:\n",
        "                l=mid+1\n",
        "            else:\n",
        "                r=mid-1\n",
        "        right=l\n",
        "        return right-left\n",
        "\n",
        "\n",
        "\n",
        "# Your Router object will be instantiated and called as such:\n",
        "# obj = Router(memoryLimit)\n",
        "# param_1 = obj.addPacket(source,destination,timestamp)\n",
        "# param_2 = obj.forwardPacket()\n",
        "# param_3 = obj.getCount(destination,startTime,endTime)\n",
        "\n",
        "calls=[\"Router\",\"addPacket\",\"addPacket\",\"addPacket\",\"addPacket\",\"addPacket\",\"forwardPacket\",\"addPacket\",\"getCount\"]\n",
        "inputs=[[3],[1,4,90],[2,5,90],[1,4,90],[3,5,95],[4,5,105],[],[5,2,110],[5,100,110]]\n",
        "res=[]\n",
        "for i in range(len(calls)):\n",
        "    if calls[i]==\"Router\":\n",
        "        memoryLimit=inputs[i][0]\n",
        "        obj = Router(memoryLimit)\n",
        "        res.append(None)\n",
        "    elif calls[i]==\"addPacket\":\n",
        "        source,destination,timestamp=inputs[i][0],inputs[i][1],inputs[i][2]\n",
        "        res.append(obj.addPacket(source,destination,timestamp))\n",
        "    elif calls[i]==\"forwardPacket\":\n",
        "        res.append(obj.forwardPacket())\n",
        "    else:\n",
        "        destination,startTime,endTime=inputs[i][0],inputs[i][1],inputs[i][2]\n",
        "        res.append(obj.getCount(destination,startTime,endTime))\n",
        "res"
      ],
      "metadata": {
        "colab": {
          "base_uri": "https://localhost:8080/"
        },
        "id": "w7dh_bWDqdoa",
        "outputId": "d01c6a15-cda8-4035-f85d-5157226cc1b3"
      },
      "execution_count": 25,
      "outputs": [
        {
          "output_type": "execute_result",
          "data": {
            "text/plain": [
              "[None, True, True, False, True, True, [2, 5, 90], True, 1]"
            ]
          },
          "metadata": {},
          "execution_count": 25
        }
      ]
    },
    {
      "cell_type": "markdown",
      "source": [
        "## Accepted!!"
      ],
      "metadata": {
        "id": "hT2a2_CyrBh6"
      }
    }
  ]
}
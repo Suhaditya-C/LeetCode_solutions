{
 "cells": [
  {
   "cell_type": "markdown",
   "id": "76bbed45",
   "metadata": {},
   "source": [
    "# 33. Search in Rotated Sorted Array\n",
    "\n",
    "There is an integer array nums sorted in ascending order (with distinct values).\n",
    "\n",
    "Prior to being passed to your function, nums is possibly rotated at an unknown pivot index k (1 <= k < nums.length) such that the resulting array is [nums[k], nums[k+1], ..., nums[n-1], nums[0], nums[1], ..., nums[k-1]] (0-indexed). For example, [0,1,2,4,5,6,7] might be rotated at pivot index 3 and become [4,5,6,7,0,1,2].\n",
    "\n",
    "Given the array nums after the possible rotation and an integer target, return the index of target if it is in nums, or -1 if it is not in nums.\n",
    "\n",
    "You must write an algorithm with O(log n) runtime complexity.\n",
    "\n",
    " \n",
    "\n",
    "Example 1:\n",
    "\n",
    "Input: nums = [4,5,6,7,0,1,2], target = 0\n",
    "Output: 4\n",
    "Example 2:\n",
    "\n",
    "Input: nums = [4,5,6,7,0,1,2], target = 3\n",
    "Output: -1\n",
    "Example 3:\n",
    "\n",
    "Input: nums = [1], target = 0\n",
    "Output: -1\n",
    " \n",
    "\n",
    "Constraints:\n",
    "\n",
    "1 <= nums.length <= 5000\n",
    "-104 <= nums[i] <= 104\n",
    "All values of nums are unique.\n",
    "nums is an ascending array that is possibly rotated.\n",
    "-104 <= target <= 104"
   ]
  },
  {
   "cell_type": "markdown",
   "id": "5e486c25",
   "metadata": {},
   "source": [
    "## Solution"
   ]
  },
  {
   "cell_type": "code",
   "execution_count": 87,
   "id": "4133beeb",
   "metadata": {},
   "outputs": [
    {
     "data": {
      "text/plain": [
       "0"
      ]
     },
     "execution_count": 87,
     "metadata": {},
     "output_type": "execute_result"
    }
   ],
   "source": [
    "nums = [1,3]       # Rotated sorted array\n",
    "target = 1         # Target value to search\n",
    "l = 0\n",
    "n = len(nums)\n",
    "r = n - 1\n",
    "res = -1\n",
    "\n",
    "# Step 1: Find the peak (maximum element in the rotated array)\n",
    "while l < r:\n",
    "    mid = (l + r + 1) // 2  # Use upper mid to avoid infinite loop when l == mid\n",
    "    if nums[mid] > nums[0]:  # If mid element is greater than first, peak lies to the right\n",
    "        l = mid              # Move l to mid\n",
    "    else:                    # Else, peak lies to the left\n",
    "        r = mid - 1          # Shrink r\n",
    "\n",
    "peak = nums[l]  # After loop, l == r, which points to the peak (maximum element)\n",
    "\n",
    "# Step 2: Check if target is the peak itself\n",
    "if target == peak:\n",
    "    res = l  # If target is the peak, we found it\n",
    "\n",
    "else:\n",
    "    # Step 3: Decide which side of the array to perform binary search\n",
    "    if nums[0] <= target:\n",
    "        # If target is in the left sorted portion\n",
    "        r = l - 1   # Search from beginning to element before peak\n",
    "        l = 0\n",
    "    else:\n",
    "        # If target is in the right sorted portion\n",
    "        r = n - 1   # Search from element after peak to end\n",
    "        l = l + 1\n",
    "\n",
    "    # Step 4: Standard binary search in the chosen subarray\n",
    "    while l < r:\n",
    "        mid = (l + r) // 2\n",
    "        if nums[mid] < target:\n",
    "            l = mid + 1\n",
    "        else:\n",
    "            r = mid  # Narrow down toward the target\n",
    "\n",
    "# Step 5: Final check if target is found at index l\n",
    "res = l if l < n and nums[l] == target else -1\n",
    "res"
   ]
  },
  {
   "cell_type": "code",
   "execution_count": 85,
   "id": "e6e2bacd",
   "metadata": {},
   "outputs": [
    {
     "data": {
      "text/plain": [
       "3"
      ]
     },
     "execution_count": 85,
     "metadata": {},
     "output_type": "execute_result"
    }
   ],
   "source": [
    "peak"
   ]
  }
 ],
 "metadata": {
  "kernelspec": {
   "display_name": "Python 3",
   "language": "python",
   "name": "python3"
  },
  "language_info": {
   "codemirror_mode": {
    "name": "ipython",
    "version": 3
   },
   "file_extension": ".py",
   "mimetype": "text/x-python",
   "name": "python",
   "nbconvert_exporter": "python",
   "pygments_lexer": "ipython3",
   "version": "3.10.9"
  }
 },
 "nbformat": 4,
 "nbformat_minor": 5
}

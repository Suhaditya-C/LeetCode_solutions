{
  "nbformat": 4,
  "nbformat_minor": 0,
  "metadata": {
    "colab": {
      "provenance": [],
      "authorship_tag": "ABX9TyODP0mQI/+dK1mdalDwMBbT",
      "include_colab_link": true
    },
    "kernelspec": {
      "name": "python3",
      "display_name": "Python 3"
    },
    "language_info": {
      "name": "python"
    }
  },
  "cells": [
    {
      "cell_type": "markdown",
      "metadata": {
        "id": "view-in-github",
        "colab_type": "text"
      },
      "source": [
        "<a href=\"https://colab.research.google.com/github/Suhaditya-C/LeetCode_solutions/blob/main/2375_Construct_Smallest_Number_From_DI_String.ipynb\" target=\"_parent\"><img src=\"https://colab.research.google.com/assets/colab-badge.svg\" alt=\"Open In Colab\"/></a>"
      ]
    },
    {
      "cell_type": "markdown",
      "source": [
        "## 2375. Construct Smallest Number From DI String\n",
        "\n",
        "You are given a 0-indexed string pattern of length n consisting of the characters 'I' meaning increasing and 'D' meaning decreasing.\n",
        "\n",
        "A 0-indexed string num of length n + 1 is created using the following conditions:\n",
        "\n",
        "num consists of the digits '1' to '9', where each digit is used at most once.\n",
        "If pattern[i] == 'I', then num[i] < num[i + 1].\n",
        "If pattern[i] == 'D', then num[i] > num[i + 1].\n",
        "Return the lexicographically smallest possible string num that meets the conditions.\n",
        "\n",
        "\n",
        "\n",
        "Example 1:\n",
        "\n",
        "Input: pattern = \"IIIDIDDD\"\n",
        "Output: \"123549876\"\n",
        "Explanation:\n",
        "At indices 0, 1, 2, and 4 we must have that num[i] < num[i+1].\n",
        "At indices 3, 5, 6, and 7 we must have that num[i] > num[i+1].\n",
        "Some possible values of num are \"245639871\", \"135749862\", and \"123849765\".\n",
        "It can be proven that \"123549876\" is the smallest possible num that meets the conditions.\n",
        "Note that \"123414321\" is not possible because the digit '1' is used more than once.\n",
        "Example 2:\n",
        "\n",
        "Input: pattern = \"DDD\"\n",
        "Output: \"4321\"\n",
        "Explanation:\n",
        "Some possible values of num are \"9876\", \"7321\", and \"8742\".\n",
        "It can be proven that \"4321\" is the smallest possible num that meets the conditions.\n",
        "\n",
        "\n",
        "Constraints:\n",
        "\n",
        "1 <= pattern.length <= 8\n",
        "pattern consists of only the letters 'I' and 'D'."
      ],
      "metadata": {
        "id": "W4sjKxRBM50P"
      }
    },
    {
      "cell_type": "markdown",
      "source": [
        "Using Stack"
      ],
      "metadata": {
        "id": "_OOJBQxqNDwt"
      }
    },
    {
      "cell_type": "code",
      "source": [
        "pattern = \"DDD\"\n",
        "n=len(pattern)\n",
        "res,stack=[],[]\n",
        "for i in range(n+1):\n",
        "    stack.append(i+1) #start storing elements first, then pop it if increasing. If decreasing, then stack stores and then empties the elements is LIFO order so that res gets the nos. in decreasing order\n",
        "    while stack and (i==n or pattern[i]=='I'): # Iterates until stack is empty and current pattern is increasing\n",
        "        # if last element of pattern is reached, then we would empty the entire stack until it is empty\n",
        "        res.append(str(stack.pop()))\n",
        "res=\"\".join(res)\n",
        "res"
      ],
      "metadata": {
        "id": "4oz2XxbSfr00",
        "colab": {
          "base_uri": "https://localhost:8080/",
          "height": 36
        },
        "outputId": "d6bb27e6-707b-439a-b928-758bb72a9708"
      },
      "execution_count": null,
      "outputs": [
        {
          "output_type": "execute_result",
          "data": {
            "text/plain": [
              "'4321'"
            ],
            "application/vnd.google.colaboratory.intrinsic+json": {
              "type": "string"
            }
          },
          "metadata": {},
          "execution_count": 16
        }
      ]
    },
    {
      "cell_type": "markdown",
      "source": [
        "Final Solution"
      ],
      "metadata": {
        "id": "1Z_9PeqhNFmE"
      }
    },
    {
      "cell_type": "code",
      "execution_count": 4,
      "metadata": {
        "colab": {
          "base_uri": "https://localhost:8080/",
          "height": 36
        },
        "id": "Wn2fTtdcM3bV",
        "outputId": "0df731a8-3461-4802-f36f-e456f5643001"
      },
      "outputs": [
        {
          "output_type": "execute_result",
          "data": {
            "text/plain": [
              "'1234765'"
            ],
            "application/vnd.google.colaboratory.intrinsic+json": {
              "type": "string"
            }
          },
          "metadata": {},
          "execution_count": 4
        }
      ],
      "source": [
        "class Solution:\n",
        "    def smallestNumber(self, pattern: str) -> str:\n",
        "        n=len(pattern)\n",
        "        res,stack=[],[]\n",
        "        for i in range(n+1):\n",
        "            stack.append(i+1) #start storing elements first, then pop it if increasing. If decreasing, then stack stores and then empties the elements is LIFO order so that res gets the nos. in decreasing order\n",
        "            while stack and (i==n or pattern[i]=='I'): # Iterates until stack is empty and current pattern is increasing\n",
        "                # if last element of pattern is reached, then we would empty the entire stack until it is empty\n",
        "                res.append(str(stack.pop()))\n",
        "        return ''.join(res)\n",
        "sol=Solution()\n",
        "sol.smallestNumber('IIIIDD')"
      ]
    }
  ]
}
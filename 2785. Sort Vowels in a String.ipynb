{
 "cells": [
  {
   "cell_type": "markdown",
   "id": "3f93f923",
   "metadata": {},
   "source": [
    "# 2785. Sort Vowels in a String\n",
    "\n",
    "Given a 0-indexed string s, permute s to get a new string t such that:\n",
    "\n",
    "All consonants remain in their original places. More formally, if there is an index i with 0 <= i < s.length such that s[i] is a consonant, then t[i] = s[i].\n",
    "The vowels must be sorted in the nondecreasing order of their ASCII values. More formally, for pairs of indices i, j with 0 <= i < j < s.length such that s[i] and s[j] are vowels, then t[i] must not have a higher ASCII value than t[j].\n",
    "Return the resulting string.\n",
    "\n",
    "The vowels are 'a', 'e', 'i', 'o', and 'u', and they can appear in lowercase or uppercase. Consonants comprise all letters that are not vowels.\n",
    "\n",
    " \n",
    "\n",
    "Example 1:\n",
    "\n",
    "Input: s = \"lEetcOde\"\n",
    "Output: \"lEOtcede\"\n",
    "Explanation: 'E', 'O', and 'e' are the vowels in s; 'l', 't', 'c', and 'd' are all consonants. The vowels are sorted according to their ASCII values, and the consonants remain in the same places.\n",
    "Example 2:\n",
    "\n",
    "Input: s = \"lYmpH\"\n",
    "Output: \"lYmpH\"\n",
    "Explanation: There are no vowels in s (all characters in s are consonants), so we return \"lYmpH\".\n",
    " \n",
    "\n",
    "Constraints:\n",
    "\n",
    "1 <= s.length <= 105\n",
    "s consists only of letters of the English alphabet in uppercase and lowercase."
   ]
  },
  {
   "cell_type": "markdown",
   "id": "35e38ff6",
   "metadata": {},
   "source": [
    "## Solution"
   ]
  },
  {
   "cell_type": "code",
   "execution_count": 10,
   "id": "fbbfb2b5",
   "metadata": {},
   "outputs": [
    {
     "data": {
      "text/plain": [
       "'lEOtcede'"
      ]
     },
     "execution_count": 10,
     "metadata": {},
     "output_type": "execute_result"
    }
   ],
   "source": [
    "s = \"lEetcOde\"\n",
    "arr=[]\n",
    "res=''\n",
    "for char in s:\n",
    "    if char in 'aeiouAEIOU':\n",
    "        arr.append(char)\n",
    "arr.sort()\n",
    "j=0\n",
    "for char in s:\n",
    "    if char in 'aeiouAEIOU' and j<len(arr):\n",
    "        res+=arr[j]\n",
    "        j+=1\n",
    "    else:\n",
    "        res+=char\n",
    "res"
   ]
  },
  {
   "cell_type": "code",
   "execution_count": null,
   "id": "bf74a61a",
   "metadata": {},
   "outputs": [
    {
     "data": {
      "text/plain": [
       "['E', 'O', 'e', 'e']"
      ]
     },
     "execution_count": 6,
     "metadata": {},
     "output_type": "execute_result"
    }
   ],
   "source": []
  },
  {
   "cell_type": "code",
   "execution_count": 1,
   "id": "0d71cc34",
   "metadata": {},
   "outputs": [
    {
     "data": {
      "text/plain": [
       "97"
      ]
     },
     "execution_count": 1,
     "metadata": {},
     "output_type": "execute_result"
    }
   ],
   "source": [
    "ord('a')"
   ]
  },
  {
   "cell_type": "markdown",
   "id": "db737aa9",
   "metadata": {},
   "source": []
  }
 ],
 "metadata": {
  "kernelspec": {
   "display_name": "Python 3",
   "language": "python",
   "name": "python3"
  },
  "language_info": {
   "codemirror_mode": {
    "name": "ipython",
    "version": 3
   },
   "file_extension": ".py",
   "mimetype": "text/x-python",
   "name": "python",
   "nbconvert_exporter": "python",
   "pygments_lexer": "ipython3",
   "version": "3.10.9"
  }
 },
 "nbformat": 4,
 "nbformat_minor": 5
}

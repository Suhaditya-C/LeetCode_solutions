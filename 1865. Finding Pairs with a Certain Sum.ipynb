{
 "cells": [
  {
   "cell_type": "markdown",
   "id": "f7a3ac7e",
   "metadata": {},
   "source": [
    "# 1865. Finding Pairs with a Certain Sum\n",
    "\n",
    "You are given two integer arrays nums1 and nums2. You are tasked to implement a data structure that supports queries of two types:\n",
    "\n",
    "Add a positive integer to an element of a given index in the array nums2.\n",
    "Count the number of pairs (i, j) such that nums1[i] + nums2[j] equals a given value (0 <= i < nums1.length and 0 <= j < nums2.length).\n",
    "Implement the FindSumPairs class:\n",
    "\n",
    "FindSumPairs(int[] nums1, int[] nums2) Initializes the FindSumPairs object with two integer arrays nums1 and nums2.\n",
    "void add(int index, int val) Adds val to nums2[index], i.e., apply nums2[index] += val.\n",
    "int count(int tot) Returns the number of pairs (i, j) such that nums1[i] + nums2[j] == tot.\n",
    " \n",
    "\n",
    "Example 1:\n",
    "\n",
    "Input\n",
    "[\"FindSumPairs\", \"count\", \"add\", \"count\", \"count\", \"add\", \"add\", \"count\"]\n",
    "[[[1, 1, 2, 2, 2, 3], [1, 4, 5, 2, 5, 4]], [7], [3, 2], [8], [4], [0, 1], [1, 1], [7]]\n",
    "Output\n",
    "[null, 8, null, 2, 1, null, null, 11]\n",
    "\n",
    "Explanation\n",
    "FindSumPairs findSumPairs = new FindSumPairs([1, 1, 2, 2, 2, 3], [1, 4, 5, 2, 5, 4]);\n",
    "findSumPairs.count(7);  // return 8; pairs (2,2), (3,2), (4,2), (2,4), (3,4), (4,4) make 2 + 5 and pairs (5,1), (5,5) make 3 + 4\n",
    "findSumPairs.add(3, 2); // now nums2 = [1,4,5,4,5,4]\n",
    "findSumPairs.count(8);  // return 2; pairs (5,2), (5,4) make 3 + 5\n",
    "findSumPairs.count(4);  // return 1; pair (5,0) makes 3 + 1\n",
    "findSumPairs.add(0, 1); // now nums2 = [2,4,5,4,5,4]\n",
    "findSumPairs.add(1, 1); // now nums2 = [2,5,5,4,5,4]\n",
    "findSumPairs.count(7);  // return 11; pairs (2,1), (2,2), (2,4), (3,1), (3,2), (3,4), (4,1), (4,2), (4,4) make 2 + 5 and pairs (5,3), (5,5) make 3 + 4\n",
    " \n",
    "\n",
    "Constraints:\n",
    "\n",
    "1 <= nums1.length <= 1000\n",
    "1 <= nums2.length <= 105\n",
    "1 <= nums1[i] <= 109\n",
    "1 <= nums2[i] <= 105\n",
    "0 <= index < nums2.length\n",
    "1 <= val <= 105\n",
    "1 <= tot <= 109\n",
    "At most 1000 calls are made to add and count each."
   ]
  },
  {
   "cell_type": "markdown",
   "id": "89524788",
   "metadata": {},
   "source": [
    "## Solution"
   ]
  },
  {
   "cell_type": "code",
   "execution_count": 4,
   "id": "133a34a8",
   "metadata": {},
   "outputs": [],
   "source": [
    "from collections import Counter\n",
    "from typing import List"
   ]
  },
  {
   "cell_type": "code",
   "execution_count": 16,
   "id": "cd836f6b",
   "metadata": {},
   "outputs": [],
   "source": [
    "class FindSumPairs:\n",
    "\n",
    "    def __init__(self, nums1: List[int], nums2: List[int]):\n",
    "        self.nums1 = nums1\n",
    "        self.nums2 = nums2\n",
    "        self.mpp = Counter(nums2)\n",
    "        \n",
    "\n",
    "    def add(self, index: int, val: int) -> None:\n",
    "        old_val = self.nums2[index]\n",
    "        self.mpp[old_val] -= 1\n",
    "        self.nums2[index] += val\n",
    "        self.mpp[self.nums2[index]] += 1\n",
    "        \n",
    "\n",
    "    def count(self, tot: int) -> int:\n",
    "        cnt=0\n",
    "        for num in self.nums1:\n",
    "            target=tot-num\n",
    "            if target in self.mpp:\n",
    "                cnt+=self.mpp[target]\n",
    "        return cnt"
   ]
  },
  {
   "cell_type": "code",
   "execution_count": 17,
   "id": "2ed367c0",
   "metadata": {},
   "outputs": [
    {
     "data": {
      "text/plain": [
       "8"
      ]
     },
     "execution_count": 17,
     "metadata": {},
     "output_type": "execute_result"
    }
   ],
   "source": [
    "# Your FindSumPairs object will be instantiated and called as such:\n",
    "obj = FindSumPairs([1, 1, 2, 2, 2, 3], [1, 4, 5, 2, 5, 4])\n",
    "#obj.add(index,val)\n",
    "param_2 = obj.count(7)\n",
    "param_2"
   ]
  }
 ],
 "metadata": {
  "kernelspec": {
   "display_name": "Python 3",
   "language": "python",
   "name": "python3"
  },
  "language_info": {
   "codemirror_mode": {
    "name": "ipython",
    "version": 3
   },
   "file_extension": ".py",
   "mimetype": "text/x-python",
   "name": "python",
   "nbconvert_exporter": "python",
   "pygments_lexer": "ipython3",
   "version": "3.10.9"
  }
 },
 "nbformat": 4,
 "nbformat_minor": 5
}

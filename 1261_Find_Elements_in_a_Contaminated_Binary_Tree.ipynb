{
  "nbformat": 4,
  "nbformat_minor": 0,
  "metadata": {
    "colab": {
      "provenance": [],
      "authorship_tag": "ABX9TyNi5YEqmnHzX8hHuY2ghQx1",
      "include_colab_link": true
    },
    "kernelspec": {
      "name": "python3",
      "display_name": "Python 3"
    },
    "language_info": {
      "name": "python"
    }
  },
  "cells": [
    {
      "cell_type": "markdown",
      "metadata": {
        "id": "view-in-github",
        "colab_type": "text"
      },
      "source": [
        "<a href=\"https://colab.research.google.com/github/Suhaditya-C/LeetCode_solutions/blob/main/1261_Find_Elements_in_a_Contaminated_Binary_Tree.ipynb\" target=\"_parent\"><img src=\"https://colab.research.google.com/assets/colab-badge.svg\" alt=\"Open In Colab\"/></a>"
      ]
    },
    {
      "cell_type": "markdown",
      "source": [
        "## 1261. Find Elements in a Contaminated Binary Tree\n",
        "\n",
        "Given a binary tree with the following rules:\n",
        "\n",
        "root.val == 0\n",
        "For any treeNode:\n",
        "If treeNode.val has a value x and treeNode.left != null, then treeNode.left.val == 2 * x + 1\n",
        "If treeNode.val has a value x and treeNode.right != null, then treeNode.right.val == 2 * x + 2\n",
        "Now the binary tree is contaminated, which means all treeNode.val have been changed to -1.\n",
        "\n",
        "Implement the FindElements class:\n",
        "\n",
        "FindElements(TreeNode* root) Initializes the object with a contaminated binary tree and recovers it.\n",
        "bool find(int target) Returns true if the target value exists in the recovered binary tree.\n",
        "\n",
        "\n",
        "Example 1:\n",
        "\n",
        "\n",
        "Input\n",
        "[\"FindElements\",\"find\",\"find\"]\n",
        "[[[-1,null,-1]],[1],[2]]\n",
        "Output\n",
        "[null,false,true]\n",
        "Explanation\n",
        "FindElements findElements = new FindElements([-1,null,-1]);\n",
        "findElements.find(1); // return False\n",
        "findElements.find(2); // return True\n",
        "Example 2:\n",
        "\n",
        "\n",
        "Input\n",
        "[\"FindElements\",\"find\",\"find\",\"find\"]\n",
        "[[[-1,-1,-1,-1,-1]],[1],[3],[5]]\n",
        "Output\n",
        "[null,true,true,false]\n",
        "Explanation\n",
        "FindElements findElements = new FindElements([-1,-1,-1,-1,-1]);\n",
        "findElements.find(1); // return True\n",
        "findElements.find(3); // return True\n",
        "findElements.find(5); // return False\n",
        "Example 3:\n",
        "\n",
        "\n",
        "Input\n",
        "[\"FindElements\",\"find\",\"find\",\"find\",\"find\"]\n",
        "[[[-1,null,-1,-1,null,-1]],[2],[3],[4],[5]]\n",
        "Output\n",
        "[null,true,false,false,true]\n",
        "Explanation\n",
        "FindElements findElements = new FindElements([-1,null,-1,-1,null,-1]);\n",
        "findElements.find(2); // return True\n",
        "findElements.find(3); // return False\n",
        "findElements.find(4); // return False\n",
        "findElements.find(5); // return True\n",
        "\n",
        "Constraints:\n",
        "\n",
        "TreeNode.val == -1\n",
        "The height of the binary tree is less than or equal to 20\n",
        "The total number of nodes is between [1, 104]\n",
        "Total calls of find() is between [1, 104]\n",
        "0 <= target <= 106"
      ],
      "metadata": {
        "id": "a0fvCJWs5sED"
      }
    },
    {
      "cell_type": "markdown",
      "source": [
        "Use Preorder DFS"
      ],
      "metadata": {
        "id": "K4Kk3IMX5zjO"
      }
    },
    {
      "cell_type": "code",
      "execution_count": 4,
      "metadata": {
        "id": "uDKnYC525p7o"
      },
      "outputs": [],
      "source": [
        "from typing import Optional\n",
        "# Definition for a binary tree node.\n",
        "class TreeNode:\n",
        "    def __init__(self, val=0, left=None, right=None):\n",
        "        self.val = val\n",
        "        self.left = left\n",
        "        self.right = right\n",
        "class FindElements:\n",
        "\n",
        "    def __init__(self, root: Optional[TreeNode]):\n",
        "        self.store=set()\n",
        "        def dfs(node,value):\n",
        "            if node==None:\n",
        "                return\n",
        "            node.val=value\n",
        "            self.store.add(value)\n",
        "            dfs(node.left,2*value+1)\n",
        "            dfs(node.right,2*value+2)\n",
        "\n",
        "        dfs(root,0)\n",
        "\n",
        "    def find(self, target: int) -> bool:\n",
        "        return target in self.store\n",
        "\n",
        "# Your FindElements object will be instantiated and called as such:\n",
        "# obj = FindElements(root)\n",
        "# param_1 = obj.find(target)"
      ]
    }
  ]
}
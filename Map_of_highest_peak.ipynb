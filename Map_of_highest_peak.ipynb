{
  "nbformat": 4,
  "nbformat_minor": 0,
  "metadata": {
    "colab": {
      "provenance": [],
      "authorship_tag": "ABX9TyNSAtd+QBh+LkEirJArjDm8",
      "include_colab_link": true
    },
    "kernelspec": {
      "name": "python3",
      "display_name": "Python 3"
    },
    "language_info": {
      "name": "python"
    }
  },
  "cells": [
    {
      "cell_type": "markdown",
      "metadata": {
        "id": "view-in-github",
        "colab_type": "text"
      },
      "source": [
        "<a href=\"https://colab.research.google.com/github/Suhaditya-C/LeetCode_solutions/blob/main/Map_of_highest_peak.ipynb\" target=\"_parent\"><img src=\"https://colab.research.google.com/assets/colab-badge.svg\" alt=\"Open In Colab\"/></a>"
      ]
    },
    {
      "cell_type": "markdown",
      "source": [
        "## Map of Highest Peak\n",
        "\n",
        "You are given an integer matrix isWater of size m x n that represents a map of land and water cells.\n",
        "\n",
        "If isWater[i][j] == 0, cell (i, j) is a land cell.\n",
        "If isWater[i][j] == 1, cell (i, j) is a water cell.\n",
        "You must assign each cell a height in a way that follows these rules:\n",
        "\n",
        "The height of each cell must be non-negative.\n",
        "If the cell is a water cell, its height must be 0.\n",
        "Any two adjacent cells must have an absolute height difference of at most 1. A cell is adjacent to another cell if the former is directly north, east, south, or west of the latter (i.e., their sides are touching).\n",
        "Find an assignment of heights such that the maximum height in the matrix is maximized.\n",
        "\n",
        "Return an integer matrix height of size m x n where height[i][j] is cell (i, j)'s height. If there are multiple solutions, return any of them.\n",
        "\n",
        "Example 1:\n",
        "\n",
        "Input: isWater = [[0,1],[0,0]]\n",
        "Output: [[1,0],[2,1]]\n",
        "Explanation: The image shows the assigned heights of each cell.\n",
        "The blue cell is the water cell, and the green cells are the land cells.\n",
        "Example 2:\n",
        "\n",
        "Input: isWater = [[0,0,1],[1,0,0],[0,0,0]]\n",
        "Output: [[1,1,0],[0,1,1],[1,2,2]]\n",
        "Explanation: A height of 2 is the maximum possible height of any assignment.\n",
        "Any height assignment that has a maximum height of 2 while still meeting the rules will also be accepted.\n",
        "\n",
        "Constraints:\n",
        "\n",
        "m == isWater.length\n",
        "n == isWater[i].length\n",
        "1 <= m, n <= 1000\n",
        "isWater[i][j] is 0 or 1.\n",
        "There is at least one water cell."
      ],
      "metadata": {
        "id": "Y2LFWr1U-4Sq"
      }
    },
    {
      "cell_type": "markdown",
      "source": [
        "Using Multi Source BFS"
      ],
      "metadata": {
        "id": "s595VxdoInGq"
      }
    },
    {
      "cell_type": "code",
      "source": [
        "import heapq"
      ],
      "metadata": {
        "id": "lAkX-jBkAWjU"
      },
      "execution_count": null,
      "outputs": []
    },
    {
      "cell_type": "code",
      "source": [
        "isWater = [[0,0,1],[1,0,0],[0,0,0]]\n",
        "rows=len(isWater)\n",
        "cols=len(isWater[0])\n",
        "visited = [[-1 for _ in range(cols)] for _ in range(rows)]\n",
        "pq=[]\n",
        "dir=[[0,-1],[0,1],[1,0],[-1,0]]\n",
        "for i in range(rows):\n",
        "  for j in range(cols):\n",
        "    if isWater[i][j]==1:\n",
        "      visited[i][j]=0\n",
        "      heapq.heappush(pq,(0,i,j))\n",
        "while pq:\n",
        "  h,r,c=heapq.heappop(pq)\n",
        "  for d in dir:\n",
        "    nr=r+d[0]\n",
        "    nc=c+d[1]\n",
        "    if 0<=nr<rows and 0<=nc<cols and visited[nr][nc]==-1:\n",
        "      visited[nr][nc]=h+1\n",
        "      heapq.heappush(pq,(visited[nr][nc],nr,nc))\n",
        "visited"
      ],
      "metadata": {
        "id": "gI2p-EzZv420",
        "colab": {
          "base_uri": "https://localhost:8080/"
        },
        "outputId": "888a2d5d-9ff8-47a3-ee8e-5f5386677435"
      },
      "execution_count": null,
      "outputs": [
        {
          "output_type": "execute_result",
          "data": {
            "text/plain": [
              "[[1, 1, 0], [0, 1, 1], [1, 2, 2]]"
            ]
          },
          "metadata": {},
          "execution_count": 19
        }
      ]
    },
    {
      "cell_type": "markdown",
      "source": [
        "Final Solution"
      ],
      "metadata": {
        "id": "DF3ziEA6ItlC"
      }
    },
    {
      "cell_type": "code",
      "source": [
        "class Solution:\n",
        "    def highestPeak(self, isWater: List[List[int]]) -> List[List[int]]:\n",
        "      rows=len(isWater)\n",
        "      cols=len(isWater[0])\n",
        "      visited = [[-1 for _ in range(cols)] for _ in range(rows)]\n",
        "      pq=[]\n",
        "      dir=[[0,-1],[0,1],[1,0],[-1,0]]\n",
        "      for i in range(rows):\n",
        "        for j in range(cols):\n",
        "          if isWater[i][j]==1:\n",
        "            visited[i][j]=0\n",
        "            heapq.heappush(pq,(0,i,j))\n",
        "      while pq:\n",
        "        h,r,c=heapq.heappop(pq)\n",
        "        for d in dir:\n",
        "          nr=r+d[0]\n",
        "          nc=c+d[1]\n",
        "          if 0<=nr<rows and 0<=nc<cols and visited[nr][nc]==-1:\n",
        "            visited[nr][nc]=h+1\n",
        "            heapq.heappush(pq,(visited[nr][nc],nr,nc))\n",
        "      return visited"
      ],
      "metadata": {
        "id": "7-vz66HXIsaA"
      },
      "execution_count": null,
      "outputs": []
    }
  ]
}
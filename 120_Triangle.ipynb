{
  "nbformat": 4,
  "nbformat_minor": 0,
  "metadata": {
    "colab": {
      "provenance": [],
      "authorship_tag": "ABX9TyPjD3MG3E1wyn3j3yKnffgR",
      "include_colab_link": true
    },
    "kernelspec": {
      "name": "python3",
      "display_name": "Python 3"
    },
    "language_info": {
      "name": "python"
    }
  },
  "cells": [
    {
      "cell_type": "markdown",
      "metadata": {
        "id": "view-in-github",
        "colab_type": "text"
      },
      "source": [
        "<a href=\"https://colab.research.google.com/github/Suhaditya-C/LeetCode_solutions/blob/main/120_Triangle.ipynb\" target=\"_parent\"><img src=\"https://colab.research.google.com/assets/colab-badge.svg\" alt=\"Open In Colab\"/></a>"
      ]
    },
    {
      "cell_type": "markdown",
      "source": [
        "# 120. Triangle\n",
        "\n",
        "Given a triangle array, return the minimum path sum from top to bottom.\n",
        "\n",
        "For each step, you may move to an adjacent number of the row below. More formally, if you are on index i on the current row, you may move to either index i or index i + 1 on the next row.\n",
        "\n",
        "\n",
        "\n",
        "Example 1:\n",
        "\n",
        "Input: triangle = [[2],[3,4],[6,5,7],[4,1,8,3]]\n",
        "Output: 11\n",
        "Explanation: The triangle looks like:\n",
        "   2\n",
        "  3 4\n",
        " 6 5 7\n",
        "4 1 8 3\n",
        "The minimum path sum from top to bottom is 2 + 3 + 5 + 1 = 11 (underlined above).\n",
        "Example 2:\n",
        "\n",
        "Input: triangle = [[-10]]\n",
        "Output: -10\n",
        "\n",
        "\n",
        "Constraints:\n",
        "\n",
        "1 <= triangle.length <= 200\n",
        "triangle[0].length == 1\n",
        "triangle[i].length == triangle[i - 1].length + 1\n",
        "-104 <= triangle[i][j] <= 104\n",
        "\n",
        "\n",
        "Follow up: Could you do this using only O(n) extra space, where n is the total number of rows in the triangle?"
      ],
      "metadata": {
        "id": "a6qw0cicFwni"
      }
    },
    {
      "cell_type": "markdown",
      "source": [
        "## Solution: DP update\n",
        "Link to my solution: https://leetcode.com/problems/triangle/solutions/7223393/clean-dp-intuitive-top-down-update"
      ],
      "metadata": {
        "id": "dhk-zRnxF21Y"
      }
    },
    {
      "cell_type": "code",
      "execution_count": 11,
      "metadata": {
        "colab": {
          "base_uri": "https://localhost:8080/"
        },
        "id": "ZobxUjdwFtGF",
        "outputId": "6b4e2141-90db-41d7-a033-af17f2e4bf72"
      },
      "outputs": [
        {
          "output_type": "execute_result",
          "data": {
            "text/plain": [
              "-1"
            ]
          },
          "metadata": {},
          "execution_count": 11
        }
      ],
      "source": [
        "from typing import List\n",
        "class Solution:\n",
        "    def minimumTotal(self, triangle: List[List[int]]) -> int:\n",
        "        for i in range(1, len(triangle)):\n",
        "            for j in range(len(triangle[i])):\n",
        "                if j == 0:\n",
        "                    # first element → only from directly above\n",
        "                    triangle[i][j] += triangle[i-1][j]\n",
        "                elif j == len(triangle[i]) - 1:\n",
        "                    # last element → only from above-left\n",
        "                    triangle[i][j] += triangle[i-1][j-1]\n",
        "                else:\n",
        "                    # middle elements → min of above and above-left\n",
        "                    triangle[i][j] += min(triangle[i-1][j], triangle[i-1][j-1])\n",
        "\n",
        "        # the minimum path sum is the minimum in the last row\n",
        "        return min(triangle[-1])\n",
        "\n",
        "\n",
        "sol=Solution()\n",
        "sol.minimumTotal(triangle = [[-1],[2,3],[1,-1,-3]])\n"
      ]
    }
  ]
}
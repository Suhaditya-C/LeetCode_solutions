{
 "cells": [
  {
   "cell_type": "markdown",
   "id": "4815c06f",
   "metadata": {},
   "source": [
    "# 1935. Maximum Number of Words You Can Type\n",
    "\n",
    "There is a malfunctioning keyboard where some letter keys do not work. All other keys on the keyboard work properly.\n",
    "\n",
    "Given a string text of words separated by a single space (no leading or trailing spaces) and a string brokenLetters of all distinct letter keys that are broken, return the number of words in text you can fully type using this keyboard.\n",
    "\n",
    " \n",
    "\n",
    "Example 1:\n",
    "\n",
    "Input: text = \"hello world\", brokenLetters = \"ad\"\n",
    "Output: 1\n",
    "Explanation: We cannot type \"world\" because the 'd' key is broken.\n",
    "Example 2:\n",
    "\n",
    "Input: text = \"leet code\", brokenLetters = \"lt\"\n",
    "Output: 1\n",
    "Explanation: We cannot type \"leet\" because the 'l' and 't' keys are broken.\n",
    "Example 3:\n",
    "\n",
    "Input: text = \"leet code\", brokenLetters = \"e\"\n",
    "Output: 0\n",
    "Explanation: We cannot type either word because the 'e' key is broken.\n",
    " \n",
    "\n",
    "Constraints:\n",
    "\n",
    "1 <= text.length <= 104\n",
    "0 <= brokenLetters.length <= 26\n",
    "text consists of words separated by a single space without any leading or trailing spaces.\n",
    "Each word only consists of lowercase English letters.\n",
    "brokenLetters consists of distinct lowercase English letters."
   ]
  },
  {
   "cell_type": "markdown",
   "id": "27e26d71",
   "metadata": {},
   "source": [
    "## Solution"
   ]
  },
  {
   "cell_type": "code",
   "execution_count": null,
   "id": "63ce5e79",
   "metadata": {},
   "outputs": [
    {
     "data": {
      "text/plain": [
       "1"
      ]
     },
     "execution_count": 5,
     "metadata": {},
     "output_type": "execute_result"
    }
   ],
   "source": [
    "text = \"hello world\"; brokenLetters = \"ad\"\n",
    "res=0\n",
    "for t in text.split():\n",
    "    if len(set(t).intersection(set(brokenLetters)))==0:\n",
    "        res+=1\n",
    "res"
   ]
  },
  {
   "cell_type": "code",
   "execution_count": 4,
   "id": "e4deba5e",
   "metadata": {},
   "outputs": [
    {
     "data": {
      "text/plain": [
       "{'d'}"
      ]
     },
     "execution_count": 4,
     "metadata": {},
     "output_type": "execute_result"
    }
   ],
   "source": [
    "text = \"hello world\"; brokenLetters = \"ad\"\n",
    "set('world').intersection(set(brokenLetters))"
   ]
  }
 ],
 "metadata": {
  "kernelspec": {
   "display_name": "Python 3",
   "language": "python",
   "name": "python3"
  },
  "language_info": {
   "codemirror_mode": {
    "name": "ipython",
    "version": 3
   },
   "file_extension": ".py",
   "mimetype": "text/x-python",
   "name": "python",
   "nbconvert_exporter": "python",
   "pygments_lexer": "ipython3",
   "version": "3.10.9"
  }
 },
 "nbformat": 4,
 "nbformat_minor": 5
}

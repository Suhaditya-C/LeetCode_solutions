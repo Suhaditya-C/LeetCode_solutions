{
 "cells": [
  {
   "cell_type": "markdown",
   "id": "324f1968",
   "metadata": {},
   "source": [
    "# 2138. Divide a String Into Groups of Size k\n",
    "\n",
    "A string s can be partitioned into groups of size k using the following procedure:\n",
    "\n",
    "The first group consists of the first k characters of the string, the second group consists of the next k characters of the string, and so on. Each element can be a part of exactly one group.\n",
    "For the last group, if the string does not have k characters remaining, a character fill is used to complete the group.\n",
    "Note that the partition is done so that after removing the fill character from the last group (if it exists) and concatenating all the groups in order, the resultant string should be s.\n",
    "\n",
    "Given the string s, the size of each group k and the character fill, return a string array denoting the composition of every group s has been divided into, using the above procedure.\n",
    "\n",
    " \n",
    "\n",
    "Example 1:\n",
    "\n",
    "Input: s = \"abcdefghi\", k = 3, fill = \"x\"\n",
    "Output: [\"abc\",\"def\",\"ghi\"]\n",
    "Explanation:\n",
    "The first 3 characters \"abc\" form the first group.\n",
    "The next 3 characters \"def\" form the second group.\n",
    "The last 3 characters \"ghi\" form the third group.\n",
    "Since all groups can be completely filled by characters from the string, we do not need to use fill.\n",
    "Thus, the groups formed are \"abc\", \"def\", and \"ghi\".\n",
    "Example 2:\n",
    "\n",
    "Input: s = \"abcdefghij\", k = 3, fill = \"x\"\n",
    "Output: [\"abc\",\"def\",\"ghi\",\"jxx\"]\n",
    "Explanation:\n",
    "Similar to the previous example, we are forming the first three groups \"abc\", \"def\", and \"ghi\".\n",
    "For the last group, we can only use the character 'j' from the string. To complete this group, we add 'x' twice.\n",
    "Thus, the 4 groups formed are \"abc\", \"def\", \"ghi\", and \"jxx\".\n",
    " \n",
    "\n",
    "Constraints:\n",
    "\n",
    "1 <= s.length <= 100\n",
    "s consists of lowercase English letters only.\n",
    "1 <= k <= 100\n",
    "fill is a lowercase English letter."
   ]
  },
  {
   "cell_type": "markdown",
   "id": "82967f40",
   "metadata": {},
   "source": [
    "## Solution"
   ]
  },
  {
   "cell_type": "code",
   "execution_count": 35,
   "id": "26a18d14",
   "metadata": {},
   "outputs": [],
   "source": [
    "from typing import List\n",
    "\n",
    "class Solution:\n",
    "    def divideString(self, s: str, k: int, fill: str) -> List[str]:\n",
    "        res = []        # This will store the final list of substrings\n",
    "        group = ''      # Temporary string to build each group of length k\n",
    "\n",
    "        # Iterate over each character in the string\n",
    "        for i in range(len(s)):\n",
    "            group += s[i]  # Add character to the current group\n",
    "\n",
    "            # When group size reaches k, append it to result and reset group\n",
    "            if (i + 1) % k == 0:\n",
    "                res.append(group)\n",
    "                group = ''\n",
    "\n",
    "            # If it's the last character and group is not yet full, append it anyway\n",
    "            if i == len(s) - 1:\n",
    "                res.append(group)\n",
    "\n",
    "        # If the last group is not of size k, fill it with the fill character\n",
    "        if len(s) % k != 0:\n",
    "            res[-1] += fill * (k - len(s) % k)\n",
    "\n",
    "        return res  # Return the final list of k-sized substrings (with fill if needed)\n"
   ]
  },
  {
   "cell_type": "code",
   "execution_count": 36,
   "id": "edad3f14",
   "metadata": {},
   "outputs": [
    {
     "data": {
      "text/plain": [
       "['abc', 'def', 'ghi', 'jxx']"
      ]
     },
     "execution_count": 36,
     "metadata": {},
     "output_type": "execute_result"
    }
   ],
   "source": [
    "sol=Solution()\n",
    "sol.divideString(s = \"abcdefghij\", k = 3, fill = \"x\")"
   ]
  }
 ],
 "metadata": {
  "kernelspec": {
   "display_name": "Python 3",
   "language": "python",
   "name": "python3"
  },
  "language_info": {
   "codemirror_mode": {
    "name": "ipython",
    "version": 3
   },
   "file_extension": ".py",
   "mimetype": "text/x-python",
   "name": "python",
   "nbconvert_exporter": "python",
   "pygments_lexer": "ipython3",
   "version": "3.10.9"
  }
 },
 "nbformat": 4,
 "nbformat_minor": 5
}

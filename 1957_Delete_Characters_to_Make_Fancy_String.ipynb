{
  "nbformat": 4,
  "nbformat_minor": 0,
  "metadata": {
    "colab": {
      "provenance": [],
      "authorship_tag": "ABX9TyMda5kDynZdpZEgHmthBroW",
      "include_colab_link": true
    },
    "kernelspec": {
      "name": "python3",
      "display_name": "Python 3"
    },
    "language_info": {
      "name": "python"
    }
  },
  "cells": [
    {
      "cell_type": "markdown",
      "metadata": {
        "id": "view-in-github",
        "colab_type": "text"
      },
      "source": [
        "<a href=\"https://colab.research.google.com/github/Suhaditya-C/LeetCode_solutions/blob/main/1957_Delete_Characters_to_Make_Fancy_String.ipynb\" target=\"_parent\"><img src=\"https://colab.research.google.com/assets/colab-badge.svg\" alt=\"Open In Colab\"/></a>"
      ]
    },
    {
      "cell_type": "markdown",
      "source": [
        "# 1957. Delete Characters to Make Fancy String\n",
        "\n",
        "A fancy string is a string where no three consecutive characters are equal.\n",
        "\n",
        "Given a string s, delete the minimum possible number of characters from s to make it fancy.\n",
        "\n",
        "Return the final string after the deletion. It can be shown that the answer will always be unique.\n",
        "\n",
        "\n",
        "\n",
        "Example 1:\n",
        "\n",
        "Input: s = \"leeetcode\"\n",
        "Output: \"leetcode\"\n",
        "Explanation:\n",
        "Remove an 'e' from the first group of 'e's to create \"leetcode\".\n",
        "No three consecutive characters are equal, so return \"leetcode\".\n",
        "Example 2:\n",
        "\n",
        "Input: s = \"aaabaaaa\"\n",
        "Output: \"aabaa\"\n",
        "Explanation:\n",
        "Remove an 'a' from the first group of 'a's to create \"aabaaaa\".\n",
        "Remove two 'a's from the second group of 'a's to create \"aabaa\".\n",
        "No three consecutive characters are equal, so return \"aabaa\".\n",
        "Example 3:\n",
        "\n",
        "Input: s = \"aab\"\n",
        "Output: \"aab\"\n",
        "Explanation: No three consecutive characters are equal, so return \"aab\".\n",
        "\n",
        "\n",
        "Constraints:\n",
        "\n",
        "1 <= s.length <= 105\n",
        "s consists only of lowercase English letters."
      ],
      "metadata": {
        "id": "I_ge3KGIN0Iy"
      }
    },
    {
      "cell_type": "markdown",
      "source": [
        "## Solution"
      ],
      "metadata": {
        "id": "sKN3ZXoPN4sU"
      }
    },
    {
      "cell_type": "code",
      "source": [
        "s = \"aaabaaaa\"\n",
        "prev_char=s[0]\n",
        "cnt=1\n",
        "res=s[0]\n",
        "for i in range(1, len(s)):\n",
        "    if s[i]==prev_char:\n",
        "        cnt+=1\n",
        "    else:\n",
        "        cnt=1\n",
        "    prev_char=s[i]\n",
        "    if cnt>=3:\n",
        "        continue\n",
        "\n",
        "    res+=s[i]\n",
        "res"
      ],
      "metadata": {
        "colab": {
          "base_uri": "https://localhost:8080/",
          "height": 36
        },
        "id": "Cmz_RGlFN4Jr",
        "outputId": "1dfee4b0-9021-45cf-dab8-5187c5c43a03"
      },
      "execution_count": 6,
      "outputs": [
        {
          "output_type": "execute_result",
          "data": {
            "text/plain": [
              "'aabaa'"
            ],
            "application/vnd.google.colaboratory.intrinsic+json": {
              "type": "string"
            }
          },
          "metadata": {},
          "execution_count": 6
        }
      ]
    }
  ]
}
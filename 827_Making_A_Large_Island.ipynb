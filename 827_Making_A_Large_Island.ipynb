{
  "nbformat": 4,
  "nbformat_minor": 0,
  "metadata": {
    "colab": {
      "provenance": [],
      "authorship_tag": "ABX9TyMlESkD9DPSaW3yG7+GeY6T",
      "include_colab_link": true
    },
    "kernelspec": {
      "name": "python3",
      "display_name": "Python 3"
    },
    "language_info": {
      "name": "python"
    }
  },
  "cells": [
    {
      "cell_type": "markdown",
      "metadata": {
        "id": "view-in-github",
        "colab_type": "text"
      },
      "source": [
        "<a href=\"https://colab.research.google.com/github/Suhaditya-C/LeetCode_solutions/blob/main/827_Making_A_Large_Island.ipynb\" target=\"_parent\"><img src=\"https://colab.research.google.com/assets/colab-badge.svg\" alt=\"Open In Colab\"/></a>"
      ]
    },
    {
      "cell_type": "markdown",
      "source": [
        "## 827. Making A Large Island"
      ],
      "metadata": {
        "id": "veIMB1De4qpl"
      }
    },
    {
      "cell_type": "markdown",
      "source": [
        "You are given an n x n binary matrix grid. You are allowed to change at most one 0 to be 1.\n",
        "\n",
        "Return the size of the largest island in grid after applying this operation.\n",
        "\n",
        "An island is a 4-directionally connected group of 1s.\n",
        "\n",
        "Example 1:\n",
        "\n",
        "Input: grid = [[1,0],[0,1]]\n",
        "Output: 3\n",
        "Explanation: Change one 0 to 1 and connect two 1s, then we get an island with area = 3.\n",
        "Example 2:\n",
        "\n",
        "Input: grid = [[1,1],[1,0]]\n",
        "Output: 4\n",
        "Explanation: Change the 0 to 1 and make the island bigger, only one island with area = 4.\n",
        "Example 3:\n",
        "\n",
        "Input: grid = [[1,1],[1,1]]\n",
        "Output: 4\n",
        "Explanation: Can't change any 0 to 1, only one island with area = 4.\n",
        "\n",
        "Constraints:\n",
        "\n",
        "n == grid.length\n",
        "n == grid[i].length\n",
        "1 <= n <= 500\n",
        "grid[i][j] is either 0 or 1."
      ],
      "metadata": {
        "id": "D0jRgapFEAaB"
      }
    },
    {
      "cell_type": "code",
      "source": [
        "from collections import defaultdict"
      ],
      "metadata": {
        "id": "Wvq9WOCz5mpt"
      },
      "execution_count": 1,
      "outputs": []
    },
    {
      "cell_type": "code",
      "source": [
        "grid=[[1,1],[1,0]]\n",
        "n=len(grid)\n",
        "\n",
        "# defing Out of Bounds function\n",
        "def oob(r,c):\n",
        "    return r<0 or c<0 or r>=n or c>=n # returns true if cell is not in grid\n",
        "\n",
        "# Defining DFS to traverse thru each land cell and return size of island it is part of:\n",
        "def DFS(r,c,label):\n",
        "    if oob(r,c) or grid[r][c]!=1: #if not land cell\n",
        "        return 0\n",
        "    size=1 # each time dfs is invoked size is initialised as 1 and returned to the chain added after the terminal dfs returns 0\n",
        "    grid[r][c]=label  # labelling the island as unique island no. visited\n",
        "    nei=[[r+1,c],[r-1,c],[r,c+1],[r,c-1]]\n",
        "    for nr, nc in nei:\n",
        "        size+=DFS(nr,nc,label)\n",
        "    return size\n",
        "\n",
        "\n",
        "# Precompute Areas\n",
        "size_map=defaultdict(int) #stores size against each island label\n",
        "label=2 #marking 1st traversed island as 2 and then updating it\n",
        "for r in range(n):\n",
        "    for c in range(n):\n",
        "        if grid[r][c]==1:\n",
        "            size_map[label]=DFS(r,c,label)      # traverses through neighboring land cell and computes the size of the island it is part of\n",
        "            label+=1\n",
        "\n",
        "# Flip Function: flips 0 to 1 and connecting islands adjacent to the cell\n",
        "def flip(r,c):\n",
        "    nei=[[r+1,c],[r-1,c],[r,c+1],[r,c-1]]\n",
        "    res=1  #the flipped water cell also contributes to land area\n",
        "    visit=set()\n",
        "    for i,j in nei:\n",
        "        if oob(i,j)==0 and grid[i][j] not in visit:\n",
        "            res+=size_map[grid[i][j]]\n",
        "            visit.add(grid[i][j])\n",
        "    return res\n",
        "\n",
        "# implement the flip function and find the max size\n",
        "res= 0 if not size_map else max(size_map.values())\n",
        "for a in range(n):\n",
        "    for b in range(n):\n",
        "        if grid[a][b]==0:           # iterating thru water cells to flip it and connecting the adjacent islands to find the total size\n",
        "            res=max(res,flip(a,b))\n",
        "res"
      ],
      "metadata": {
        "colab": {
          "base_uri": "https://localhost:8080/"
        },
        "id": "G4ECbXcZJ-UG",
        "outputId": "3abd6208-d207-4066-f1c1-6b77253c960f"
      },
      "execution_count": 2,
      "outputs": [
        {
          "output_type": "execute_result",
          "data": {
            "text/plain": [
              "4"
            ]
          },
          "metadata": {},
          "execution_count": 2
        }
      ]
    }
  ]
}
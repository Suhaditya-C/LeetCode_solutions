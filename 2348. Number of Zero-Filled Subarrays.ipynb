{
 "cells": [
  {
   "cell_type": "markdown",
   "id": "7318a543",
   "metadata": {},
   "source": [
    "# 2348. Number of Zero-Filled Subarrays\n",
    "\n",
    "Given an integer array nums, return the number of subarrays filled with 0.\n",
    "\n",
    "A subarray is a contiguous non-empty sequence of elements within an array.\n",
    "\n",
    " \n",
    "\n",
    "Example 1:\n",
    "\n",
    "Input: nums = [1,3,0,0,2,0,0,4]\n",
    "Output: 6\n",
    "Explanation: \n",
    "There are 4 occurrences of [0] as a subarray.\n",
    "There are 2 occurrences of [0,0] as a subarray.\n",
    "There is no occurrence of a subarray with a size more than 2 filled with 0. Therefore, we return 6.\n",
    "Example 2:\n",
    "\n",
    "Input: nums = [0,0,0,2,0,0]\n",
    "Output: 9\n",
    "Explanation:\n",
    "There are 5 occurrences of [0] as a subarray.\n",
    "There are 3 occurrences of [0,0] as a subarray.\n",
    "There is 1 occurrence of [0,0,0] as a subarray.\n",
    "There is no occurrence of a subarray with a size more than 3 filled with 0. Therefore, we return 9.\n",
    "Example 3:\n",
    "\n",
    "Input: nums = [2,10,2019]\n",
    "Output: 0\n",
    "Explanation: There is no subarray filled with 0. Therefore, we return 0.\n",
    " \n",
    "\n",
    "Constraints:\n",
    "\n",
    "1 <= nums.length <= 105\n",
    "-109 <= nums[i] <= 109"
   ]
  },
  {
   "cell_type": "markdown",
   "id": "84510795",
   "metadata": {},
   "source": [
    "## Solution"
   ]
  },
  {
   "cell_type": "code",
   "execution_count": 4,
   "id": "9dd3b3b6",
   "metadata": {},
   "outputs": [
    {
     "data": {
      "text/plain": [
       "6"
      ]
     },
     "execution_count": 4,
     "metadata": {},
     "output_type": "execute_result"
    }
   ],
   "source": [
    "nums = [1,3,0,0,2,0,0,4] \n",
    "streak=0\n",
    "res=0\n",
    "for num in nums:\n",
    "    if num==0:\n",
    "        streak+=1\n",
    "        res+=streak #since no. of zero subarrays from n consecutive 0s is n(n+1)/2 i.e. 1+2+...+n\n",
    "    else:\n",
    "         \n",
    "        streak=0\n",
    "res"
   ]
  }
 ],
 "metadata": {
  "kernelspec": {
   "display_name": "Python 3",
   "language": "python",
   "name": "python3"
  },
  "language_info": {
   "codemirror_mode": {
    "name": "ipython",
    "version": 3
   },
   "file_extension": ".py",
   "mimetype": "text/x-python",
   "name": "python",
   "nbconvert_exporter": "python",
   "pygments_lexer": "ipython3",
   "version": "3.10.9"
  }
 },
 "nbformat": 4,
 "nbformat_minor": 5
}

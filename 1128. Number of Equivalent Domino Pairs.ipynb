{
 "cells": [
  {
   "cell_type": "markdown",
   "id": "83b8bfe3",
   "metadata": {},
   "source": [
    "# 1128. Number of Equivalent Domino Pairs\n",
    "\n",
    "Given a list of dominoes, dominoes[i] = [a, b] is equivalent to dominoes[j] = [c, d] if and only if either (a == c and b == d), or (a == d and b == c) - that is, one domino can be rotated to be equal to another domino.\n",
    "\n",
    "Return the number of pairs (i, j) for which 0 <= i < j < dominoes.length, and dominoes[i] is equivalent to dominoes[j].\n",
    "\n",
    " \n",
    "\n",
    "Example 1:\n",
    "\n",
    "Input: dominoes = [[1,2],[2,1],[3,4],[5,6]]\n",
    "Output: 1\n",
    "Example 2:\n",
    "\n",
    "Input: dominoes = [[1,2],[1,2],[1,1],[1,2],[2,2]]\n",
    "Output: 3\n",
    " \n",
    "\n",
    "Constraints:\n",
    "\n",
    "1 <= dominoes.length <= 4 * 104\n",
    "dominoes[i].length == 2\n",
    "1 <= dominoes[i][j] <= 9"
   ]
  },
  {
   "cell_type": "markdown",
   "id": "d84cdcf8",
   "metadata": {},
   "source": [
    "## Solution"
   ]
  },
  {
   "cell_type": "code",
   "execution_count": 5,
   "id": "a67a727e",
   "metadata": {},
   "outputs": [
    {
     "data": {
      "text/plain": [
       "1"
      ]
     },
     "execution_count": 5,
     "metadata": {},
     "output_type": "execute_result"
    }
   ],
   "source": [
    "dominoes = [[1,2],[2,1],[3,4],[5,6]]\n",
    "res=0\n",
    "seen={} #Stores the dominoes which has been seen\n",
    "for d in (dominoes):\n",
    "    if (d[0],d[1]) in seen or (d[1],d[0]) in seen:\n",
    "        if (d[0],d[1]) in seen:\n",
    "            seen[(d[0],d[1])]+=1\n",
    "        else:\n",
    "            seen[(d[1],d[0])]+=1\n",
    "    else:\n",
    "        seen[(d[0],d[1])]=1\n",
    "for s in seen:\n",
    "    if seen[s]>1:\n",
    "        res+=(seen[s])*(seen[s]-1)//2\n",
    "res  "
   ]
  },
  {
   "cell_type": "code",
   "execution_count": 2,
   "id": "548776f0",
   "metadata": {},
   "outputs": [
    {
     "data": {
      "text/plain": [
       "False"
      ]
     },
     "execution_count": 2,
     "metadata": {},
     "output_type": "execute_result"
    }
   ],
   "source": [
    "seen={(1,2):1}\n",
    "1 in seen.keys()"
   ]
  },
  {
   "cell_type": "markdown",
   "id": "09894942",
   "metadata": {},
   "source": [
    "seen={[1,2]:1}"
   ]
  }
 ],
 "metadata": {
  "kernelspec": {
   "display_name": "Python 3",
   "language": "python",
   "name": "python3"
  },
  "language_info": {
   "codemirror_mode": {
    "name": "ipython",
    "version": 3
   },
   "file_extension": ".py",
   "mimetype": "text/x-python",
   "name": "python",
   "nbconvert_exporter": "python",
   "pygments_lexer": "ipython3",
   "version": "3.12.4"
  }
 },
 "nbformat": 4,
 "nbformat_minor": 5
}

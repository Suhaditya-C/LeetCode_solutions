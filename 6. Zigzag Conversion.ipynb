{
 "cells": [
  {
   "cell_type": "markdown",
   "id": "b34b5b18",
   "metadata": {},
   "source": [
    "# 6. Zigzag Conversion\n",
    "\n",
    "The string \"PAYPALISHIRING\" is written in a zigzag pattern on a given number of rows like this: (you may want to display this pattern in a fixed font for better legibility)\n",
    "\n",
    "P   A   H   N\n",
    "A P L S I I G\n",
    "Y   I   R\n",
    "And then read line by line: \"PAHNAPLSIIGYIR\"\n",
    "\n",
    "Write the code that will take a string and make this conversion given a number of rows:\n",
    "\n",
    "string convert(string s, int numRows);\n",
    " \n",
    "\n",
    "Example 1:\n",
    "\n",
    "Input: s = \"PAYPALISHIRING\", numRows = 3\n",
    "Output: \"PAHNAPLSIIGYIR\"\n",
    "Example 2:\n",
    "\n",
    "Input: s = \"PAYPALISHIRING\", numRows = 4\n",
    "Output: \"PINALSIGYAHRPI\"\n",
    "Explanation:\n",
    "P     I    N\n",
    "A   L S  I G\n",
    "Y A   H R\n",
    "P     I\n",
    "Example 3:\n",
    "\n",
    "Input: s = \"A\", numRows = 1\n",
    "Output: \"A\"\n",
    " \n",
    "\n",
    "Constraints:\n",
    "\n",
    "1 <= s.length <= 1000\n",
    "s consists of English letters (lower-case and upper-case), ',' and '.'.\n",
    "1 <= numRows <= 1000"
   ]
  },
  {
   "cell_type": "markdown",
   "id": "037cb6bd",
   "metadata": {},
   "source": [
    "## Solution: Use two pointers: cur_row index and direction i.e. go_down"
   ]
  },
  {
   "cell_type": "code",
   "execution_count": null,
   "id": "4c5c2c02",
   "metadata": {},
   "outputs": [
    {
     "data": {
      "text/plain": [
       "'PINALSIGYAHRPI'"
      ]
     },
     "execution_count": 3,
     "metadata": {},
     "output_type": "execute_result"
    }
   ],
   "source": [
    "s = \"PAYPALISHIRING\"; numRows = 4\n",
    "n=min(len(s),numRows) #if length of string is less than numRows , it will not reach the bottom\n",
    "arr=['']*n\n",
    "cur_row=0\n",
    "go_down=True\n",
    "for char in s:\n",
    "    arr[cur_row]+=char\n",
    "    if cur_row==n-1: #apply conditions to change the direction\n",
    "        go_down=False\n",
    "    elif cur_row==0:\n",
    "        go_down=True\n",
    "\n",
    "    cur_row=cur_row+1 if go_down==True else cur_row-1 #increment or decrement row index based on direction\n",
    "res=''.join(arr)\n",
    "res"
   ]
  },
  {
   "cell_type": "markdown",
   "id": "88ff0a3e",
   "metadata": {},
   "source": [
    "Edge Case: For single row or single character"
   ]
  },
  {
   "cell_type": "code",
   "execution_count": 6,
   "id": "8e186a43",
   "metadata": {},
   "outputs": [
    {
     "data": {
      "text/plain": [
       "'ABC'"
      ]
     },
     "execution_count": 6,
     "metadata": {},
     "output_type": "execute_result"
    }
   ],
   "source": [
    "s=\"ABC\"; numRows = 1\n",
    "n=min(len(s),numRows) #if length of string is less than numRows , it will not reach the bottom\n",
    "if n==1:\n",
    "    res=s\n",
    "else:\n",
    "    arr=['']*n\n",
    "    cur_row=0\n",
    "    go_down=True\n",
    "    for char in s:\n",
    "        arr[cur_row]+=char\n",
    "        if cur_row==n-1: #apply conditions to change the direction\n",
    "            go_down=False\n",
    "        elif cur_row==0:\n",
    "            go_down=True\n",
    "\n",
    "        cur_row=cur_row+1 if go_down==True else cur_row-1 #increment or decrement row index based on direction\n",
    "    res=''.join(arr)\n",
    "res"
   ]
  }
 ],
 "metadata": {
  "kernelspec": {
   "display_name": "Python 3",
   "language": "python",
   "name": "python3"
  },
  "language_info": {
   "codemirror_mode": {
    "name": "ipython",
    "version": 3
   },
   "file_extension": ".py",
   "mimetype": "text/x-python",
   "name": "python",
   "nbconvert_exporter": "python",
   "pygments_lexer": "ipython3",
   "version": "3.12.4"
  }
 },
 "nbformat": 4,
 "nbformat_minor": 5
}

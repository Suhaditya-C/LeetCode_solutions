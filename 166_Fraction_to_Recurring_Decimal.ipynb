{
  "nbformat": 4,
  "nbformat_minor": 0,
  "metadata": {
    "colab": {
      "provenance": [],
      "authorship_tag": "ABX9TyPM7NPFxlcDduauOIM10r6o",
      "include_colab_link": true
    },
    "kernelspec": {
      "name": "python3",
      "display_name": "Python 3"
    },
    "language_info": {
      "name": "python"
    }
  },
  "cells": [
    {
      "cell_type": "markdown",
      "metadata": {
        "id": "view-in-github",
        "colab_type": "text"
      },
      "source": [
        "<a href=\"https://colab.research.google.com/github/Suhaditya-C/LeetCode_solutions/blob/main/166_Fraction_to_Recurring_Decimal.ipynb\" target=\"_parent\"><img src=\"https://colab.research.google.com/assets/colab-badge.svg\" alt=\"Open In Colab\"/></a>"
      ]
    },
    {
      "cell_type": "markdown",
      "source": [
        "# 166. Fraction to Recurring Decimal\n",
        "\n",
        "Given two integers representing the numerator and denominator of a fraction, return the fraction in string format.\n",
        "\n",
        "If the fractional part is repeating, enclose the repeating part in parentheses.\n",
        "\n",
        "If multiple answers are possible, return any of them.\n",
        "\n",
        "It is guaranteed that the length of the answer string is less than 104 for all the given inputs.\n",
        "\n",
        "\n",
        "\n",
        "Example 1:\n",
        "\n",
        "Input: numerator = 1, denominator = 2\n",
        "Output: \"0.5\"\n",
        "Example 2:\n",
        "\n",
        "Input: numerator = 2, denominator = 1\n",
        "Output: \"2\"\n",
        "Example 3:\n",
        "\n",
        "Input: numerator = 4, denominator = 333\n",
        "Output: \"0.(012)\"\n",
        "\n",
        "\n",
        "Constraints:\n",
        "\n",
        "-231 <= numerator, denominator <= 231 - 1\n",
        "denominator != 0"
      ],
      "metadata": {
        "id": "7nwUzT1wEhXh"
      }
    },
    {
      "cell_type": "markdown",
      "source": [
        "## Solution:\n",
        "\n",
        "Link to my solution: https://leetcode.com/problems/fraction-to-recurring-decimal/solutions/7221013/beats-100-easy-intuitive-long-division-simulation-with-hashmap"
      ],
      "metadata": {
        "id": "bYkhtKVfElfb"
      }
    },
    {
      "cell_type": "code",
      "execution_count": 43,
      "metadata": {
        "id": "UxSogGfxEVUl",
        "colab": {
          "base_uri": "https://localhost:8080/",
          "height": 35
        },
        "outputId": "3cbb2bc7-f858-4ceb-90da-d4e8e0830bfb"
      },
      "outputs": [
        {
          "output_type": "execute_result",
          "data": {
            "text/plain": [
              "'-6.25'"
            ],
            "application/vnd.google.colaboratory.intrinsic+json": {
              "type": "string"
            }
          },
          "metadata": {},
          "execution_count": 43
        }
      ],
      "source": [
        "class Solution:\n",
        "    def fractionToDecimal(self, numerator: int, denominator: int):\n",
        "        mpp = {}  # map remainder -> quotient digit\n",
        "        recurring = False\n",
        "\n",
        "        # Work with absolute values for easier handling\n",
        "        num, den = abs(numerator), abs(denominator)\n",
        "\n",
        "        # Integer part of division\n",
        "        res = str(num // den)\n",
        "\n",
        "        # First remainder\n",
        "        remainder = num % den\n",
        "        if remainder == 0:\n",
        "            # Exact division, no fractional part\n",
        "            return '-' + res if numerator * denominator < 0 else res\n",
        "\n",
        "        # Long division simulation for fractional part\n",
        "        while remainder > 0:\n",
        "            if str(remainder) in mpp:\n",
        "                # If remainder repeats, cycle detected\n",
        "                mpp[str(remainder)] = '(' + mpp[str(remainder)]\n",
        "                recurring = True\n",
        "                break\n",
        "\n",
        "            # Scale remainder by 10, find next digit\n",
        "            dividend = remainder * 10\n",
        "            mpp[str(remainder)] = str(dividend // den)\n",
        "\n",
        "            # Update remainder\n",
        "            remainder = dividend % den\n",
        "\n",
        "        # Build decimal: integer part + fractional digits\n",
        "        res += '.' + ''.join(mpp.values())\n",
        "\n",
        "        # Close recurring cycle if exists\n",
        "        res = res + ')' if recurring else res\n",
        "\n",
        "        # Adjust sign based on numerator * denominator\n",
        "        return '-' + res if numerator * denominator < 0 else res\n",
        "\n",
        "sol=Solution()\n",
        "sol.fractionToDecimal(numerator = -50, denominator = 8)"
      ]
    }
  ]
}
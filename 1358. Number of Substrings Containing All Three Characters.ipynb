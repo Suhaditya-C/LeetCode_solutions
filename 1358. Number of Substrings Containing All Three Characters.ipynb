{
 "cells": [
  {
   "cell_type": "markdown",
   "metadata": {},
   "source": [
    "# 1358. Number of Substrings Containing All Three Characters\n",
    "\n",
    "Given a string s consisting only of characters a, b and c.\n",
    "\n",
    "Return the number of substrings containing at least one occurrence of all these characters a, b and c.\n",
    "\n",
    " \n",
    "\n",
    "Example 1:\n",
    "\n",
    "Input: s = \"abcabc\"\n",
    "Output: 10\n",
    "Explanation: The substrings containing at least one occurrence of the characters a, b and c are \"abc\", \"abca\", \"abcab\", \"abcabc\", \"bca\", \"bcab\", \"bcabc\", \"cab\", \"cabc\" and \"abc\" (again). \n",
    "Example 2:\n",
    "\n",
    "Input: s = \"aaacb\"\n",
    "Output: 3\n",
    "Explanation: The substrings containing at least one occurrence of the characters a, b and c are \"aaacb\", \"aacb\" and \"acb\". \n",
    "Example 3:\n",
    "\n",
    "Input: s = \"abc\"\n",
    "Output: 1\n",
    " \n",
    "\n",
    "Constraints:\n",
    "\n",
    "3 <= s.length <= 5 x 10^4\n",
    "s only consists of a, b or c characters."
   ]
  },
  {
   "cell_type": "code",
   "execution_count": 22,
   "metadata": {},
   "outputs": [],
   "source": [
    "from collections import defaultdict"
   ]
  },
  {
   "cell_type": "code",
   "execution_count": 23,
   "metadata": {},
   "outputs": [],
   "source": [
    "class Solution:\n",
    "    def numberOfSubstrings(self, s: str) -> int:\n",
    "        abc=defaultdict(int) #to store abc and their count\n",
    "        left=0\n",
    "        res=0\n",
    "        #update count of abc and non abc\n",
    "        for right in range(len(s)):\n",
    "            if s[right] in 'abc':\n",
    "                abc[s[right]]+=1\n",
    "            # implement sliding window\n",
    "            while len(abc)==3:\n",
    "                #if sliding window is valid then we can keep expanding until the end as they would be counted as separate sub matrices\n",
    "                res+=len(s)-right\n",
    "                #now slide the left pointer and remove the remove the char from abc/non abc which was being previously pointed\n",
    "                if s[left] in 'abc':\n",
    "                    abc[s[left]]-=1\n",
    "\n",
    "                # if a abc in sliding window does not exist, remove that from char from dict\n",
    "                #it updates the len(vowel) condition\n",
    "                if abc[s[left]]==0:\n",
    "                    del abc[s[left]]\n",
    "                left+=1\n",
    "        return res"
   ]
  },
  {
   "cell_type": "code",
   "execution_count": 24,
   "metadata": {},
   "outputs": [
    {
     "data": {
      "text/plain": [
       "10"
      ]
     },
     "execution_count": 24,
     "metadata": {},
     "output_type": "execute_result"
    }
   ],
   "source": [
    "sol=Solution()\n",
    "sol.numberOfSubstrings('abcabc')"
   ]
  },
  {
   "cell_type": "markdown",
   "metadata": {},
   "source": [
    "Using the constraint- s only consists of a, b or c characters.:\n",
    "Efficient Solution"
   ]
  },
  {
   "cell_type": "code",
   "execution_count": 21,
   "metadata": {},
   "outputs": [
    {
     "data": {
      "text/plain": [
       "10"
      ]
     },
     "execution_count": 21,
     "metadata": {},
     "output_type": "execute_result"
    }
   ],
   "source": [
    "s='abcabc'\n",
    "abc=[0]*3 #to store abc and their count\n",
    "left=0\n",
    "res=0\n",
    "#update count of abc and non abc\n",
    "for right in range(len(s)):\n",
    "    abc[ord(s[right])-ord('a')]+=1 #if a the 0th index is updated, if b 1st index is updated, if c 2nd index is updated.\n",
    "    # implement sliding window\n",
    "    while abc[0]>0 and abc[1]>0 and abc[2]> 0:\n",
    "        \n",
    "        #if sliding window is valid then we can keep expanding until the end as #they would be counted as separate sub matrices\n",
    "        res+=len(s)-right\n",
    "        \n",
    "        #now slide the left pointer and remove the reduce the count of the char from abc which was being previously pointed\n",
    "\n",
    "        abc[ord(s[left])-ord('a')]-=1\n",
    "\n",
    "        left+=1\n",
    "res"
   ]
  }
 ],
 "metadata": {
  "kernelspec": {
   "display_name": "Python 3",
   "language": "python",
   "name": "python3"
  },
  "language_info": {
   "codemirror_mode": {
    "name": "ipython",
    "version": 3
   },
   "file_extension": ".py",
   "mimetype": "text/x-python",
   "name": "python",
   "nbconvert_exporter": "python",
   "pygments_lexer": "ipython3",
   "version": "3.12.4"
  }
 },
 "nbformat": 4,
 "nbformat_minor": 2
}

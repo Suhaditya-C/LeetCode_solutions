{
 "cells": [
  {
   "cell_type": "markdown",
   "id": "4e763036",
   "metadata": {},
   "source": [
    "# Maximum Matching of Players With Trainers\n",
    "\n",
    "You are given a 0-indexed integer array players, where players[i] represents the ability of the ith player. You are also given a 0-indexed integer array trainers, where trainers[j] represents the training capacity of the jth trainer.\n",
    "\n",
    "The ith player can match with the jth trainer if the player's ability is less than or equal to the trainer's training capacity. Additionally, the ith player can be matched with at most one trainer, and the jth trainer can be matched with at most one player.\n",
    "\n",
    "Return the maximum number of matchings between players and trainers that satisfy these conditions.\n",
    "\n",
    " \n",
    "\n",
    "Example 1:\n",
    "\n",
    "Input: players = [4,7,9], trainers = [8,2,5,8]\n",
    "Output: 2\n",
    "Explanation:\n",
    "One of the ways we can form two matchings is as follows:\n",
    "- players[0] can be matched with trainers[0] since 4 <= 8.\n",
    "- players[1] can be matched with trainers[3] since 7 <= 8.\n",
    "It can be proven that 2 is the maximum number of matchings that can be formed.\n",
    "Example 2:\n",
    "\n",
    "Input: players = [1,1,1], trainers = [10]\n",
    "Output: 1\n",
    "Explanation:\n",
    "The trainer can be matched with any of the 3 players.\n",
    "Each player can only be matched with one trainer, so the maximum answer is 1.\n",
    " \n",
    "\n",
    "Constraints:\n",
    "\n",
    "1 <= players.length, trainers.length <= 105\n",
    "1 <= players[i], trainers[j] <= 109"
   ]
  },
  {
   "cell_type": "markdown",
   "id": "c63eac66",
   "metadata": {},
   "source": [
    "## Solution: Two Pointers"
   ]
  },
  {
   "cell_type": "code",
   "execution_count": 7,
   "id": "e3e5758e",
   "metadata": {},
   "outputs": [
    {
     "data": {
      "text/plain": [
       "2"
      ]
     },
     "execution_count": 7,
     "metadata": {},
     "output_type": "execute_result"
    }
   ],
   "source": [
    "players = [2,1]; trainers = [2,1,2,2,3,3,2,4,1,1,4,1,3,3,4,1,3,2,3,2,2,3,1,2,4]\n",
    "players.sort()\n",
    "trainers.sort()\n",
    "res=0\n",
    "i,j=0,0\n",
    "while i<len(players) and j<len(trainers):\n",
    "    if players[i]<=trainers[j]:\n",
    "        res+=1\n",
    "        i+=1\n",
    "        j+=1\n",
    "    else:\n",
    "        j+=1\n",
    "res"
   ]
  }
 ],
 "metadata": {
  "kernelspec": {
   "display_name": "Python 3",
   "language": "python",
   "name": "python3"
  },
  "language_info": {
   "codemirror_mode": {
    "name": "ipython",
    "version": 3
   },
   "file_extension": ".py",
   "mimetype": "text/x-python",
   "name": "python",
   "nbconvert_exporter": "python",
   "pygments_lexer": "ipython3",
   "version": "3.10.9"
  }
 },
 "nbformat": 4,
 "nbformat_minor": 5
}

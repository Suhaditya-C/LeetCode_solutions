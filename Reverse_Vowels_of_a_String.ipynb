{
  "nbformat": 4,
  "nbformat_minor": 0,
  "metadata": {
    "colab": {
      "provenance": [],
      "authorship_tag": "ABX9TyNMWdW0JAWLQ0S/unzTxupE",
      "include_colab_link": true
    },
    "kernelspec": {
      "name": "python3",
      "display_name": "Python 3"
    },
    "language_info": {
      "name": "python"
    }
  },
  "cells": [
    {
      "cell_type": "markdown",
      "metadata": {
        "id": "view-in-github",
        "colab_type": "text"
      },
      "source": [
        "<a href=\"https://colab.research.google.com/github/Suhaditya-C/LeetCode_solutions/blob/main/Reverse_Vowels_of_a_String.ipynb\" target=\"_parent\"><img src=\"https://colab.research.google.com/assets/colab-badge.svg\" alt=\"Open In Colab\"/></a>"
      ]
    },
    {
      "cell_type": "markdown",
      "source": [
        "## 345. Reverse Vowels of a String\n",
        "\n",
        "Given a string s, reverse only all the vowels in the string and return it.\n",
        "\n",
        "The vowels are 'a', 'e', 'i', 'o', and 'u', and they can appear in both lower and upper cases, more than once.\n",
        "\n",
        "Example 1:\n",
        "\n",
        "Input: s = \"IceCreAm\"\n",
        "\n",
        "Output: \"AceCreIm\"\n",
        "\n",
        "Explanation:\n",
        "\n",
        "The vowels in s are ['I', 'e', 'e', 'A']. On reversing the vowels, s becomes \"AceCreIm\".\n",
        "\n",
        "Example 2:\n",
        "\n",
        "Input: s = \"leetcode\"\n",
        "\n",
        "Output: \"leotcede\"\n",
        "\n",
        "Constraints:\n",
        "\n",
        "1 <= s.length <= 3 * 105\n",
        "s consist of printable ASCII characters."
      ],
      "metadata": {
        "id": "oPsI3FXaG_Zl"
      }
    },
    {
      "cell_type": "markdown",
      "source": [
        "### Reverse Vowels"
      ],
      "metadata": {
        "id": "rLFf9n-u3J_m"
      }
    },
    {
      "cell_type": "code",
      "source": [
        "s = \"leetcode\"\n",
        "res=''\n",
        "vowels=''\n",
        "for letter in s:\n",
        "  if letter in 'aeiouAEIOU':\n",
        "    vowels+=letter\n",
        "vowels\n",
        "i=0\n",
        "j=0\n",
        "while i<len(s) and j<len(vowels):\n",
        "  if s[i]==vowels[j]:\n",
        "    res+=vowels[len(vowels)-j-1]\n",
        "    j+=1\n",
        "  else:\n",
        "    res+=s[i]\n",
        "  i+=1\n",
        "res+=s[i:len(s)]\n",
        "res"
      ],
      "metadata": {
        "colab": {
          "base_uri": "https://localhost:8080/",
          "height": 36
        },
        "id": "NyTNL6rS0l-k",
        "outputId": "4d2979e3-31e4-41cc-c4f0-9902da26a146"
      },
      "execution_count": 1,
      "outputs": [
        {
          "output_type": "execute_result",
          "data": {
            "text/plain": [
              "'leotcede'"
            ],
            "application/vnd.google.colaboratory.intrinsic+json": {
              "type": "string"
            }
          },
          "metadata": {},
          "execution_count": 1
        }
      ]
    },
    {
      "cell_type": "markdown",
      "source": [
        "### Method 2"
      ],
      "metadata": {
        "id": "h8QqrDg8DpGe"
      }
    },
    {
      "cell_type": "code",
      "source": [
        "s = \"leetcode\"\n",
        "vloc=[]\n",
        "s=list(s)\n",
        "vloc=[]\n",
        "l=len(s)\n",
        "for i in range(l):\n",
        "  if s[i] in 'aeiouAEIOU':\n",
        "    vloc.append(i)\n",
        "for j in range(len(vloc)//2):\n",
        "  tmp=s[vloc[j]]\n",
        "  s[vloc[j]]=s[vloc[len(vloc)-j-1]]\n",
        "  s[vloc[len(vloc)-j-1]]=tmp\n",
        "s=''.join(s)\n",
        "s"
      ],
      "metadata": {
        "id": "b-HhvMGl2crg",
        "colab": {
          "base_uri": "https://localhost:8080/",
          "height": 36
        },
        "outputId": "27644c45-3ead-4d7c-8df5-edf8f2bc4fd6"
      },
      "execution_count": 2,
      "outputs": [
        {
          "output_type": "execute_result",
          "data": {
            "text/plain": [
              "'leotcede'"
            ],
            "application/vnd.google.colaboratory.intrinsic+json": {
              "type": "string"
            }
          },
          "metadata": {},
          "execution_count": 2
        }
      ]
    },
    {
      "cell_type": "markdown",
      "source": [
        "Final Solution"
      ],
      "metadata": {
        "id": "9blkEWSyHutq"
      }
    },
    {
      "cell_type": "code",
      "source": [
        "class Solution:\n",
        "    def reverseVowels(self, s: str) -> str:\n",
        "      vloc=[]\n",
        "      s=list(s)\n",
        "      vloc=[]\n",
        "      l=len(s)\n",
        "      for i in range(l):\n",
        "        if s[i] in 'aeiouAEIOU':\n",
        "          vloc.append(i)\n",
        "      for j in range(len(vloc)//2):\n",
        "        tmp=s[vloc[j]]\n",
        "        s[vloc[j]]=s[vloc[len(vloc)-j-1]]\n",
        "        s[vloc[len(vloc)-j-1]]=tmp\n",
        "      s=''.join(s)\n",
        "      return s"
      ],
      "metadata": {
        "id": "KexRuZWAHssK"
      },
      "execution_count": null,
      "outputs": []
    }
  ]
}
{
 "cells": [
  {
   "cell_type": "markdown",
   "id": "66644ff2",
   "metadata": {},
   "source": [
    "# 2444. Count Subarrays With Fixed Bounds\n",
    "You are given an integer array nums and two integers minK and maxK.\n",
    "\n",
    "A fixed-bound subarray of nums is a subarray that satisfies the following conditions:\n",
    "\n",
    "The minimum value in the subarray is equal to minK.\n",
    "The maximum value in the subarray is equal to maxK.\n",
    "Return the number of fixed-bound subarrays.\n",
    "\n",
    "A subarray is a contiguous part of an array.\n",
    "\n",
    "Example 1:\n",
    "\n",
    "Input: nums = [1,3,5,2,7,5], minK = 1, maxK = 5\n",
    "Output: 2\n",
    "Explanation: The fixed-bound subarrays are [1,3,5] and [1,3,5,2].\n",
    "Example 2:\n",
    "\n",
    "Input: nums = [1,1,1,1], minK = 1, maxK = 1\n",
    "Output: 10\n",
    "Explanation: Every subarray of nums is a fixed-bound subarray. There are 10 possible subarrays.\n",
    " \n",
    "\n",
    "Constraints:\n",
    "\n",
    "2 <= nums.length <= 105\n",
    "1 <= nums[i], minK, maxK <= 106"
   ]
  },
  {
   "cell_type": "markdown",
   "id": "1c8b8969",
   "metadata": {},
   "source": [
    "# Solution: Sliding Window Approach"
   ]
  },
  {
   "cell_type": "code",
   "execution_count": null,
   "id": "1da379a7",
   "metadata": {},
   "outputs": [
    {
     "data": {
      "text/plain": [
       "2"
      ]
     },
     "execution_count": 1,
     "metadata": {},
     "output_type": "execute_result"
    }
   ],
   "source": [
    "nums = [1,3,5,2,7,5]; minK = 1; maxK = 5\n",
    "invalid=-1\n",
    "min_idx=-1\n",
    "max_idx=-1\n",
    "res=0\n",
    "for i in range(len(nums)):\n",
    "    #Get the index for the num which does not fall in the range\n",
    "    if nums[i]<minK or nums[i]>maxK:\n",
    "        invalid=i\n",
    "    if nums[i]==minK:\n",
    "        min_idx=i\n",
    "    if nums[i]==maxK:\n",
    "        max_idx=i\n",
    "    valid_cnt=max(0,min(min_idx,max_idx)-invalid)\n",
    "    res+=valid_cnt\n",
    "res   "
   ]
  }
 ],
 "metadata": {
  "kernelspec": {
   "display_name": "Python 3",
   "language": "python",
   "name": "python3"
  },
  "language_info": {
   "codemirror_mode": {
    "name": "ipython",
    "version": 3
   },
   "file_extension": ".py",
   "mimetype": "text/x-python",
   "name": "python",
   "nbconvert_exporter": "python",
   "pygments_lexer": "ipython3",
   "version": "3.12.4"
  }
 },
 "nbformat": 4,
 "nbformat_minor": 5
}

{
 "cells": [
  {
   "cell_type": "markdown",
   "id": "caddfa6a",
   "metadata": {},
   "source": [
    "# 904. Fruit Into Baskets\n",
    "\n",
    "You are visiting a farm that has a single row of fruit trees arranged from left to right. The trees are represented by an integer array fruits where fruits[i] is the type of fruit the ith tree produces.\n",
    "\n",
    "You want to collect as much fruit as possible. However, the owner has some strict rules that you must follow:\n",
    "\n",
    "You only have two baskets, and each basket can only hold a single type of fruit. There is no limit on the amount of fruit each basket can hold.\n",
    "Starting from any tree of your choice, you must pick exactly one fruit from every tree (including the start tree) while moving to the right. The picked fruits must fit in one of your baskets.\n",
    "Once you reach a tree with fruit that cannot fit in your baskets, you must stop.\n",
    "Given the integer array fruits, return the maximum number of fruits you can pick.\n",
    "\n",
    " \n",
    "\n",
    "Example 1:\n",
    "\n",
    "Input: fruits = [1,2,1]\n",
    "Output: 3\n",
    "Explanation: We can pick from all 3 trees.\n",
    "Example 2:\n",
    "\n",
    "Input: fruits = [0,1,2,2]\n",
    "Output: 3\n",
    "Explanation: We can pick from trees [1,2,2].\n",
    "If we had started at the first tree, we would only pick from trees [0,1].\n",
    "Example 3:\n",
    "\n",
    "Input: fruits = [1,2,3,2,2]\n",
    "Output: 4\n",
    "Explanation: We can pick from trees [2,3,2,2].\n",
    "If we had started at the first tree, we would only pick from trees [1,2].\n",
    " \n",
    "\n",
    "Constraints:\n",
    "\n",
    "1 <= fruits.length <= 105\n",
    "0 <= fruits[i] < fruits.length"
   ]
  },
  {
   "cell_type": "markdown",
   "id": "06a65bc5",
   "metadata": {},
   "source": [
    "## Solution: Sliding Window\n",
    "\n",
    "Time Limit Exceeded"
   ]
  },
  {
   "cell_type": "code",
   "execution_count": 14,
   "id": "27cc84bc",
   "metadata": {},
   "outputs": [
    {
     "name": "stdout",
     "output_type": "stream",
     "text": [
      "deque([1])\n",
      "deque([1, 0])\n",
      "deque([1, 0, 1])\n",
      "deque([1, 0, 1, 4])\n",
      "deque([1, 0, 1, 4])\n",
      "deque([0, 1, 4])\n",
      "deque([1, 4, 1])\n",
      "deque([1, 4, 1, 4])\n",
      "deque([1, 4, 1, 4, 1])\n",
      "deque([1, 4, 1, 4, 1, 2])\n",
      "deque([1, 4, 1, 4, 1, 2])\n",
      "deque([4, 1, 4, 1, 2])\n",
      "deque([1, 4, 1, 2])\n",
      "deque([4, 1, 2])\n",
      "deque([1, 2, 3])\n",
      "deque([1, 2, 3])\n"
     ]
    },
    {
     "data": {
      "text/plain": [
       "5"
      ]
     },
     "execution_count": 14,
     "metadata": {},
     "output_type": "execute_result"
    }
   ],
   "source": [
    "from collections import deque\n",
    "fruits = [1,0,1,4,1,4,1,2,3]\n",
    "left=0\n",
    "res=0\n",
    "seen=set()\n",
    "window=deque()\n",
    "\n",
    "for right in range(len(fruits)):\n",
    "    window.append(fruits[right])\n",
    "    print(window)\n",
    "    \n",
    "    if len(set(window))>2:\n",
    "        res=max(res,right-left)\n",
    "        while len(set(window))>2:\n",
    "            left+=1\n",
    "            print(window)\n",
    "            window.popleft()\n",
    "    else:\n",
    "        res=max(res,right-left+1)\n",
    "res"
   ]
  },
  {
   "cell_type": "markdown",
   "id": "f500c21a",
   "metadata": {},
   "source": [
    "Use a hashmap instead: Accepted Solution"
   ]
  },
  {
   "cell_type": "code",
   "execution_count": null,
   "id": "c647b109",
   "metadata": {},
   "outputs": [
    {
     "data": {
      "text/plain": [
       "5"
      ]
     },
     "execution_count": 21,
     "metadata": {},
     "output_type": "execute_result"
    }
   ],
   "source": [
    "from collections import defaultdict\n",
    "\n",
    "fruits = [1,0,1,4,1,4,1,2,3]  # Input list of fruits (types)\n",
    "left = 0                      # Left pointer for sliding window\n",
    "res = 0                       # Result: max number of fruits picked\n",
    "seen = set()                  # Unused variable, can be removed\n",
    "window = defaultdict(int)     # Dictionary to count fruit types in window\n",
    "\n",
    "for right in range(len(fruits)):           # Iterate over each fruit (right pointer)\n",
    "    window[fruits[right]] += 1             # Add current fruit to window count\n",
    "    if len(window) > 2:                    # If more than 2 types in window\n",
    "        res = max(res, right - left)       # Update result with current window size\n",
    "        while len(window) > 2:             # Shrink window from left until only 2 types remain\n",
    "            window[fruits[left]] -= 1      # Remove leftmost fruit from count\n",
    "            if window[fruits[left]] == 0:  # If count becomes zero, remove fruit type\n",
    "                del window[fruits[left]]\n",
    "            left += 1                      # Move left pointer right\n",
    "    else:\n",
    "        res = max(res, right - left + 1)   # Update result with current window size if <= 2 types\n",
    "res                                        # Final result: max number of fruits"
   ]
  }
 ],
 "metadata": {
  "kernelspec": {
   "display_name": "Python 3",
   "language": "python",
   "name": "python3"
  },
  "language_info": {
   "codemirror_mode": {
    "name": "ipython",
    "version": 3
   },
   "file_extension": ".py",
   "mimetype": "text/x-python",
   "name": "python",
   "nbconvert_exporter": "python",
   "pygments_lexer": "ipython3",
   "version": "3.10.9"
  }
 },
 "nbformat": 4,
 "nbformat_minor": 5
}

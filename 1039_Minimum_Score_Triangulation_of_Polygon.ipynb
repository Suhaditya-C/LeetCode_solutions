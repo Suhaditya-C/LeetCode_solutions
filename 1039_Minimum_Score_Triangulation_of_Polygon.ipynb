{
  "nbformat": 4,
  "nbformat_minor": 0,
  "metadata": {
    "colab": {
      "provenance": [],
      "authorship_tag": "ABX9TyNLGVHWmruey06XaQ+eQP4U",
      "include_colab_link": true
    },
    "kernelspec": {
      "name": "python3",
      "display_name": "Python 3"
    },
    "language_info": {
      "name": "python"
    }
  },
  "cells": [
    {
      "cell_type": "markdown",
      "metadata": {
        "id": "view-in-github",
        "colab_type": "text"
      },
      "source": [
        "<a href=\"https://colab.research.google.com/github/Suhaditya-C/LeetCode_solutions/blob/main/1039_Minimum_Score_Triangulation_of_Polygon.ipynb\" target=\"_parent\"><img src=\"https://colab.research.google.com/assets/colab-badge.svg\" alt=\"Open In Colab\"/></a>"
      ]
    },
    {
      "cell_type": "markdown",
      "source": [
        "# 1039. Minimum Score Triangulation of Polygon\n",
        "\n",
        "You have a convex n-sided polygon where each vertex has an integer value. You are given an integer array values where values[i] is the value of the ith vertex in clockwise order.\n",
        "\n",
        "Polygon triangulation is a process where you divide a polygon into a set of triangles and the vertices of each triangle must also be vertices of the original polygon. Note that no other shapes other than triangles are allowed in the division. This process will result in n - 2 triangles.\n",
        "\n",
        "You will triangulate the polygon. For each triangle, the weight of that triangle is the product of the values at its vertices. The total score of the triangulation is the sum of these weights over all n - 2 triangles.\n",
        "\n",
        "Return the minimum possible score that you can achieve with some triangulation of the polygon.\n",
        "\n",
        "\n",
        "\n",
        "Example 1:\n",
        "\n",
        "\n",
        "\n",
        "Input: values = [1,2,3]\n",
        "\n",
        "Output: 6\n",
        "\n",
        "Explanation: The polygon is already triangulated, and the score of the only triangle is 6.\n",
        "\n",
        "Example 2:\n",
        "\n",
        "\n",
        "\n",
        "Input: values = [3,7,4,5]\n",
        "\n",
        "Output: 144\n",
        "\n",
        "Explanation: There are two triangulations, with possible scores: 3*7*5 + 4*5*7 = 245, or 3*4*5 + 3*4*7 = 144.\n",
        "The minimum score is 144.\n",
        "\n",
        "Example 3:\n",
        "\n",
        "\n",
        "\n",
        "Input: values = [1,3,1,4,1,5]\n",
        "\n",
        "Output: 13\n",
        "\n",
        "Explanation: The minimum score triangulation is 1*1*3 + 1*1*4 + 1*1*5 + 1*1*1 = 13.\n",
        "\n",
        "\n",
        "\n",
        "Constraints:\n",
        "\n",
        "n == values.length\n",
        "3 <= n <= 50\n",
        "1 <= values[i] <= 100"
      ],
      "metadata": {
        "id": "BF07YfHAaXqz"
      }
    },
    {
      "cell_type": "markdown",
      "source": [
        "## Solution: Dynamic Programming: DFS with Memoisation\n",
        "Without loss of generality, there is a triangle that uses adjacent vertices A[0] and A[N-1] (where N = A.length). Depending on your choice K of it, this breaks down the triangulation into two subproblems A[1:K] and A[K+1:N-1]."
      ],
      "metadata": {
        "id": "F0rHsdGzab2O"
      }
    },
    {
      "cell_type": "code",
      "source": [
        "values = [1,3,1,4,1,5]\n",
        "#Memoisation\n",
        "memo={}\n",
        "n=len(values)\n",
        "def DFS(i,j): #DFS(i,j)-> min score triangulation of a polygon from vertices i to j going clockwise (j>i)\n",
        "    #Base Case\n",
        "    if j-i<=1:\n",
        "        return 0\n",
        "    if (i,j) in memo:\n",
        "        return memo[(i,j)]\n",
        "\n",
        "    res=float('inf')\n",
        "    for k in range(i+1,j): # Where the entire is polygon is divided into 2 other polygons and a triangle: 1 polygon i to k , triangle i,j,k and a polygon k to j\n",
        "        right_score=DFS(i,k) #Right Polygon\n",
        "        left_score=DFS(k,j) #Left Polygon\n",
        "        current_triangle= values[i]*values[j]*values[k] #score of the triangle formed by vertices i,j,k\n",
        "        res=min(res,left_score+current_triangle+right_score)\n",
        "    memo[(i,j)]=res\n",
        "    return res\n",
        "DFS(0,n-1)"
      ],
      "metadata": {
        "colab": {
          "base_uri": "https://localhost:8080/"
        },
        "id": "hVI83Bu0adZ4",
        "outputId": "c99351c5-1d46-4c24-838c-7400e282479f"
      },
      "execution_count": 2,
      "outputs": [
        {
          "output_type": "execute_result",
          "data": {
            "text/plain": [
              "13"
            ]
          },
          "metadata": {},
          "execution_count": 2
        }
      ]
    }
  ]
}
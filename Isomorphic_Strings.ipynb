{
 "cells": [
  {
   "cell_type": "markdown",
   "metadata": {},
   "source": [
    "# 205. Isomorphic Strings\n",
    "\n",
    "Given two strings s and t, determine if they are isomorphic.\n",
    "\n",
    "Two strings s and t are isomorphic if the characters in s can be replaced to get t.\n",
    "\n",
    "All occurrences of a character must be replaced with another character while preserving the order of characters. No two characters may map to the same character, but a character may map to itself."
   ]
  },
  {
   "cell_type": "markdown",
   "metadata": {},
   "source": [
    "Method 1"
   ]
  },
  {
   "cell_type": "code",
   "execution_count": 3,
   "metadata": {},
   "outputs": [
    {
     "name": "stdout",
     "output_type": "stream",
     "text": [
      "True\n"
     ]
    },
    {
     "data": {
      "text/plain": [
       "[0, 1, 1]"
      ]
     },
     "execution_count": 3,
     "metadata": {},
     "output_type": "execute_result"
    }
   ],
   "source": [
    "s = \"egg\" ; t = \"add\"\n",
    "map1 = []\n",
    "map2 = []\n",
    "for idx in s:\n",
    "    map1.append(s.index(idx))\n",
    "for idx in t:\n",
    "    map2.append(t.index(idx))\n",
    "if map1 == map2:\n",
    "    print(True)\n",
    "else:\n",
    "    print(False)    \n",
    "map1"
   ]
  },
  {
   "cell_type": "markdown",
   "metadata": {},
   "source": [
    "Method 2"
   ]
  },
  {
   "cell_type": "code",
   "execution_count": 27,
   "metadata": {},
   "outputs": [
    {
     "name": "stdout",
     "output_type": "stream",
     "text": [
      "False\n"
     ]
    }
   ],
   "source": [
    "s=\"bbbaaaba\"\n",
    "t=\"aaabbbba\"\n",
    "map1={}\n",
    "map2={}\n",
    "flag=True\n",
    "for i in range(len(s)):\n",
    "    c1=s[i];c2=t[i]\n",
    "    if (c1 in map1 and map1[c1]!=c2) or (c2 in map2 and map2[c2]!=c1):\n",
    "        flag=False\n",
    "        break\n",
    "    map1[c1]=c2\n",
    "    map2[c2]=c1\n",
    "if flag:\n",
    "    print(True)\n",
    "else:\n",
    "    print(False)    "
   ]
  },
  {
   "cell_type": "markdown",
   "metadata": {},
   "source": [
    "Final Leetcode Solution"
   ]
  },
  {
   "cell_type": "code",
   "execution_count": 28,
   "metadata": {},
   "outputs": [],
   "source": [
    "class Solution:\n",
    "    def isIsomorphic(self, s: str, t: str) -> bool:\n",
    "        flag=True\n",
    "        map1=[]\n",
    "        map2=[]\n",
    "        if len(s)==len(t):\n",
    "            for i in range(len(s)):\n",
    "                map1.append(s.index(s[i]))\n",
    "                map2.append(t.index(t[i]))\n",
    "            if map1!=map2:\n",
    "                flag=False\n",
    "        else:\n",
    "            flag=False\n",
    "        return flag"
   ]
  }
 ],
 "metadata": {
  "kernelspec": {
   "display_name": "Python 3",
   "language": "python",
   "name": "python3"
  },
  "language_info": {
   "codemirror_mode": {
    "name": "ipython",
    "version": 3
   },
   "file_extension": ".py",
   "mimetype": "text/x-python",
   "name": "python",
   "nbconvert_exporter": "python",
   "pygments_lexer": "ipython3",
   "version": "3.12.4"
  }
 },
 "nbformat": 4,
 "nbformat_minor": 2
}

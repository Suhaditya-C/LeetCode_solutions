{
 "cells": [
  {
   "cell_type": "markdown",
   "id": "3d69c8b9",
   "metadata": {},
   "source": [
    "# 47. Permutations II\n",
    "\n",
    "Given a collection of numbers, nums, that might contain duplicates, return all possible unique permutations in any order.\n",
    "\n",
    " \n",
    "\n",
    "Example 1:\n",
    "\n",
    "Input: nums = [1,1,2]\n",
    "Output:\n",
    "[[1,1,2],\n",
    " [1,2,1],\n",
    " [2,1,1]]\n",
    "Example 2:\n",
    "\n",
    "Input: nums = [1,2,3]\n",
    "Output: [[1,2,3],[1,3,2],[2,1,3],[2,3,1],[3,1,2],[3,2,1]]\n",
    " \n",
    "\n",
    "Constraints:\n",
    "\n",
    "1 <= nums.length <= 8\n",
    "-10 <= nums[i] <= 10"
   ]
  },
  {
   "cell_type": "markdown",
   "id": "3352d78f",
   "metadata": {},
   "source": [
    "## Solution: Backtracking with memoisation"
   ]
  },
  {
   "cell_type": "code",
   "execution_count": 6,
   "id": "bec7b3b0",
   "metadata": {},
   "outputs": [
    {
     "data": {
      "text/plain": [
       "[[1, 1, 2], [1, 2, 1], [2, 1, 1]]"
      ]
     },
     "execution_count": 6,
     "metadata": {},
     "output_type": "execute_result"
    }
   ],
   "source": [
    "from collections import Counter\n",
    "nums = [1,1,2]\n",
    "mpp=Counter(nums)\n",
    "res=[]\n",
    "def DFS(arr):\n",
    "    if len(arr)==len(nums):\n",
    "        if arr not in res:\n",
    "            res.append(arr.copy()) #if copy is not used, you’re actually storing a reference to the same arr list in memory — not a frozen snapshot.\n",
    "        return\n",
    "    for i in range(len(nums)):\n",
    "        if arr.count(nums[i])<mpp[nums[i]]:\n",
    "            arr.append(nums[i])\n",
    "            DFS(arr)\n",
    "            arr.pop()\n",
    "DFS([])\n",
    "res    "
   ]
  },
  {
   "cell_type": "markdown",
   "id": "2f0b9fee",
   "metadata": {},
   "source": [
    "## Optimized code uses the counter directly to check whether it should be added or not"
   ]
  },
  {
   "cell_type": "code",
   "execution_count": 12,
   "id": "c5bf7cfc",
   "metadata": {},
   "outputs": [
    {
     "data": {
      "text/plain": [
       "[[1, 1, 2], [1, 2, 1], [2, 1, 1]]"
      ]
     },
     "execution_count": 12,
     "metadata": {},
     "output_type": "execute_result"
    }
   ],
   "source": [
    "from collections import Counter\n",
    "nums = [1,1,2]\n",
    "mpp=Counter(nums)\n",
    "res=[]\n",
    "def DFS(arr):\n",
    "    if len(arr)==len(nums):\n",
    "        if arr not in res:\n",
    "            res.append(arr.copy()) #if copy is not used, you’re actually storing a reference to the same arr list in memory — not a frozen snapshot.\n",
    "        return\n",
    "    for num in mpp: # Iterate thru the counter only. No need to go through the entire list\n",
    "        if mpp[num]>0:\n",
    "            mpp[num]-=1\n",
    "            arr.append(num)\n",
    "            DFS(arr)\n",
    "            arr.pop()\n",
    "            mpp[num]+=1\n",
    "DFS([])\n",
    "res    "
   ]
  }
 ],
 "metadata": {
  "kernelspec": {
   "display_name": "Python 3",
   "language": "python",
   "name": "python3"
  },
  "language_info": {
   "codemirror_mode": {
    "name": "ipython",
    "version": 3
   },
   "file_extension": ".py",
   "mimetype": "text/x-python",
   "name": "python",
   "nbconvert_exporter": "python",
   "pygments_lexer": "ipython3",
   "version": "3.10.9"
  }
 },
 "nbformat": 4,
 "nbformat_minor": 5
}

{
 "cells": [
  {
   "cell_type": "markdown",
   "id": "0755760b-a4b4-43fc-a7f1-9022290c19ec",
   "metadata": {},
   "source": [
    "# 2874. Maximum Value of an Ordered Triplet II\n",
    "\n",
    "You are given a 0-indexed integer array nums.\n",
    "\n",
    "Return the maximum value over all triplets of indices (i, j, k) such that i < j < k. If all such triplets have a negative value, return 0.\n",
    "\n",
    "The value of a triplet of indices (i, j, k) is equal to (nums[i] - nums[j]) * nums[k].\n",
    "\n",
    " \n",
    "\n",
    "Example 1:\n",
    "\n",
    "Input: nums = [12,6,1,2,7]\n",
    "Output: 77\n",
    "Explanation: The value of the triplet (0, 2, 4) is (nums[0] - nums[2]) * nums[4] = 77.\n",
    "It can be shown that there are no ordered triplets of indices with a value greater than 77. \n",
    "Example 2:\n",
    "\n",
    "Input: nums = [1,10,3,4,19]\n",
    "Output: 133\n",
    "Explanation: The value of the triplet (1, 2, 4) is (nums[1] - nums[2]) * nums[4] = 133.\n",
    "It can be shown that there are no ordered triplets of indices with a value greater than 133.\n",
    "Example 3:\n",
    "\n",
    "Input: nums = [1,2,3]\n",
    "Output: 0\n",
    "Explanation: The only ordered triplet of indices (0, 1, 2) has a negative value of (nums[0] - nums[1]) * nums[2] = -3. Hence, the answer would be 0.\n",
    " \n",
    "\n",
    "Constraints:\n",
    "\n",
    "3 <= nums.length <= 105\n",
    "1 <= nums[i] <= 106"
   ]
  },
  {
   "cell_type": "markdown",
   "id": "84c4590d-5cb1-4b1c-b16a-48fb0871a9d3",
   "metadata": {},
   "source": [
    "### Brute Force Solution"
   ]
  },
  {
   "cell_type": "code",
   "execution_count": 2,
   "id": "ec43a884-0780-4789-8eab-b03167d78cfe",
   "metadata": {},
   "outputs": [
    {
     "data": {
      "text/plain": [
       "133"
      ]
     },
     "execution_count": 2,
     "metadata": {},
     "output_type": "execute_result"
    }
   ],
   "source": [
    "nums = [1,10,3,4,19]\n",
    "res=0\n",
    "n=len(nums)\n",
    "for i in range(n-2):\n",
    "    for j in range(i+1,n-1):\n",
    "        for k in range(j+1,n):\n",
    "            res=max(res,(nums[i] - nums[j]) * nums[k])\n",
    "res"
   ]
  },
  {
   "cell_type": "markdown",
   "id": "ce1a86f1-12ee-4ac3-9fd0-152e12db5bd3",
   "metadata": {},
   "source": [
    "### More Efficient Solution:\n",
    "### use 2 loops, minimise nums[j]"
   ]
  },
  {
   "cell_type": "code",
   "execution_count": 5,
   "id": "678abe85-64d6-4c2d-9231-b30e51617b2e",
   "metadata": {},
   "outputs": [
    {
     "data": {
      "text/plain": [
       "133"
      ]
     },
     "execution_count": 5,
     "metadata": {},
     "output_type": "execute_result"
    }
   ],
   "source": [
    "nums = [1,10,3,4,19]\n",
    "i=0\n",
    "res=0\n",
    "n=len(nums)\n",
    "for j in range(i+1,n-1):\n",
    "    if nums[j]>nums[i]: #then shift the left pointer as the result will be negative\n",
    "        i=j\n",
    "        continue\n",
    "    else: #then check further\n",
    "        for k in range(j+1,n):\n",
    "            res=max(res,(nums[i] - nums[j]) * nums[k])\n",
    "res"
   ]
  },
  {
   "cell_type": "markdown",
   "id": "b0b3713c-415c-4e2c-a599-ec61268f5a87",
   "metadata": {
    "editable": true,
    "slideshow": {
     "slide_type": ""
    },
    "tags": []
   },
   "source": [
    "### More Efficient Solution (in Linear Time)"
   ]
  },
  {
   "cell_type": "code",
   "execution_count": 2,
   "id": "cfac1e84-d515-497f-a878-545572a8b46c",
   "metadata": {},
   "outputs": [
    {
     "data": {
      "text/plain": [
       "133"
      ]
     },
     "execution_count": 2,
     "metadata": {},
     "output_type": "execute_result"
    }
   ],
   "source": [
    "nums = [1,10,3,4,19]\n",
    "#maximize max_nums_i\n",
    "#maximize diff\n",
    "max_nums_i=nums[0] #As you iterate thru the array, store the max of nums[i] observed till then\n",
    "diff=0 #stores the max difference (nums[i]-nums[j]) observed till iteration\n",
    "res=0\n",
    "n=len(nums)\n",
    "for k in range(1,n): #Since i<j<k we choose the iterate k as ith and jth elements can be checked for the given conditions as we move forward\n",
    "    max_nums_i=max(max_nums_i,nums[k]) #update max nums[i] encountered\n",
    "    res=max(res,diff*nums[k])\n",
    "    diff=max(diff,max_nums_i-nums[k]) #update max diff(as we iterate thru the array, max nums[i] is updated and so is the max diff from the previous iterations)\n",
    "res"
   ]
  }
 ],
 "metadata": {
  "kernelspec": {
   "display_name": "Python 3 (ipykernel)",
   "language": "python",
   "name": "python3"
  },
  "language_info": {
   "codemirror_mode": {
    "name": "ipython",
    "version": 3
   },
   "file_extension": ".py",
   "mimetype": "text/x-python",
   "name": "python",
   "nbconvert_exporter": "python",
   "pygments_lexer": "ipython3",
   "version": "3.12.4"
  }
 },
 "nbformat": 4,
 "nbformat_minor": 5
}

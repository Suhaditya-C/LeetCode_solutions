{
 "cells": [
  {
   "attachments": {
    "image-2.png": {
     "image/png": "[encoded data removed]"
    },
    "image-3.png": {
     "image/png": "[encoded data removed]"
    },
    "image.png": {
     "image/png": "[encoded data removed]"
    }
   },
   "cell_type": "markdown",
   "id": "36eb562c",
   "metadata": {},
   "source": [
    "# 3440. Reschedule Meetings for Maximum Free Time II\n",
    "\n",
    "You are given an integer eventTime denoting the duration of an event. You are also given two integer arrays startTime and endTime, each of length n.\n",
    "\n",
    "These represent the start and end times of n non-overlapping meetings that occur during the event between time t = 0 and time t = eventTime, where the ith meeting occurs during the time [startTime[i], endTime[i]].\n",
    "\n",
    "You can reschedule at most one meeting by moving its start time while maintaining the same duration, such that the meetings remain non-overlapping, to maximize the longest continuous period of free time during the event.\n",
    "\n",
    "Return the maximum amount of free time possible after rearranging the meetings.\n",
    "\n",
    "Note that the meetings can not be rescheduled to a time outside the event and they should remain non-overlapping.\n",
    "\n",
    "Note: In this version, it is valid for the relative ordering of the meetings to change after rescheduling one meeting.\n",
    "\n",
    "Example 1:\n",
    "\n",
    "Input: eventTime = 5, startTime = [1,3], endTime = [2,5]\n",
    "\n",
    "Output: 2\n",
    "\n",
    "Explanation:\n",
    "\n",
    "![image.png](attachment:image.png)\n",
    "\n",
    "\n",
    "Reschedule the meeting at [1, 2] to [2, 3], leaving no meetings during the time [0, 2].\n",
    "\n",
    "Example 2:\n",
    "\n",
    "Input: eventTime = 10, startTime = [0,7,9], endTime = [1,8,10]\n",
    "\n",
    "Output: 7\n",
    "\n",
    "Explanation:\n",
    "\n",
    "![image-2.png](attachment:image-2.png)\n",
    "\n",
    "Reschedule the meeting at [0, 1] to [8, 9], leaving no meetings during the time [0, 7].\n",
    "\n",
    "Example 3:\n",
    "\n",
    "Input: eventTime = 10, startTime = [0,3,7,9], endTime = [1,4,8,10]\n",
    "\n",
    "Output: 6\n",
    "\n",
    "Explanation:\n",
    "\n",
    "![image-3.png](attachment:image-3.png)\n",
    "\n",
    "Reschedule the meeting at [3, 4] to [8, 9], leaving no meetings during the time [1, 7].\n",
    "\n",
    "Example 4:\n",
    "\n",
    "Input: eventTime = 5, startTime = [0,1,2,3,4], endTime = [1,2,3,4,5]\n",
    "\n",
    "Output: 0\n",
    "\n",
    "Explanation:\n",
    "\n",
    "There is no time during the event not occupied by meetings.\n",
    "\n",
    "Constraints:\n",
    "\n",
    "1 <= eventTime <= 109\n",
    "n == startTime.length == endTime.length\n",
    "2 <= n <= 105\n",
    "0 <= startTime[i] < endTime[i] <= eventTime\n",
    "endTime[i] <= startTime[i + 1] where i lies in the range [0, n - 2]."
   ]
  },
  {
   "cell_type": "code",
   "execution_count": 33,
   "id": "3c3acae1",
   "metadata": {},
   "outputs": [
    {
     "data": {
      "text/plain": [
       "24"
      ]
     },
     "execution_count": 33,
     "metadata": {},
     "output_type": "execute_result"
    }
   ],
   "source": [
    "eventTime = 41\n",
    "startTime = [17, 24]\n",
    "endTime = [19, 25]\n",
    "\n",
    "n = len(startTime)\n",
    "gaps = []             # List to store lengths of breaks (inactive intervals)\n",
    "meetings = [0] * (n + 1)  # 1-based indexing for meeting durations\n",
    "last_end = 0          # Tracks the end time of the last interval\n",
    "\n",
    "# Calculate the lengths of breaks between active intervals and store meeting durations\n",
    "for i in range(1, n + 1):\n",
    "    meetings[i] = (endTime[i - 1] - startTime[i - 1])          # Meeting duration\n",
    "    gaps.append(startTime[i - 1] - last_end)                   # Gap before current meeting\n",
    "    last_end = endTime[i - 1]                                  # Update last_end to current meeting's end\n",
    "\n",
    "# Add the final break after the last meeting until the end of the event\n",
    "gaps.append(eventTime - last_end)\n",
    "\n",
    "# Suffix max gap from i+1 to end\n",
    "suffix_max = [0] * (n + 1)\n",
    "for i in range(n - 1, 0, -1):\n",
    "    suffix_max[i] = max(suffix_max[i + 1], gaps[i + 1])       # Max of future gaps\n",
    "\n",
    "# Prefix max gap from start to i-2\n",
    "prefix_max = [0] * (n + 1)\n",
    "for i in range(2, n + 1):\n",
    "    prefix_max[i] = max(prefix_max[i - 1], gaps[i - 2])        # Max of previous gaps\n",
    "\n",
    "res = 0  # Stores the maximum continuous free time achievable\n",
    "\n",
    "# Try shifting each meeting and see if it fits in any neighboring gap to maximize free time\n",
    "for i in range(1, n + 1):\n",
    "    if meetings[i] <= max(prefix_max[i], suffix_max[i]):       # If meeting fits in some gap\n",
    "        res = max(res, gaps[i - 1] + gaps[i] + meetings[i])    # Shift it and merge neighboring gaps\n",
    "    else:\n",
    "        res = max(res, gaps[i - 1] + gaps[i])                  # Can't shift, just merge current two gaps\n",
    "\n",
    "res  # Final result: maximum continuous free time\n",
    "\n"
   ]
  },
  {
   "cell_type": "code",
   "execution_count": 28,
   "id": "980c03f9",
   "metadata": {},
   "outputs": [
    {
     "data": {
      "text/plain": [
       "[0, 2, 1]"
      ]
     },
     "execution_count": 28,
     "metadata": {},
     "output_type": "execute_result"
    }
   ],
   "source": [
    "meetings"
   ]
  },
  {
   "cell_type": "code",
   "execution_count": 29,
   "id": "d7e4a4da",
   "metadata": {},
   "outputs": [
    {
     "data": {
      "text/plain": [
       "[0, 0, 17]"
      ]
     },
     "execution_count": 29,
     "metadata": {},
     "output_type": "execute_result"
    }
   ],
   "source": [
    "prefix_max"
   ]
  },
  {
   "cell_type": "code",
   "execution_count": 30,
   "id": "ca4d8815",
   "metadata": {},
   "outputs": [
    {
     "data": {
      "text/plain": [
       "[0, 16, 0]"
      ]
     },
     "execution_count": 30,
     "metadata": {},
     "output_type": "execute_result"
    }
   ],
   "source": [
    "suffix_max"
   ]
  },
  {
   "cell_type": "code",
   "execution_count": 31,
   "id": "6df5cc36",
   "metadata": {},
   "outputs": [
    {
     "data": {
      "text/plain": [
       "[17, 5, 16]"
      ]
     },
     "execution_count": 31,
     "metadata": {},
     "output_type": "execute_result"
    }
   ],
   "source": [
    "gaps"
   ]
  },
  {
   "cell_type": "code",
   "execution_count": 32,
   "id": "0149c7eb",
   "metadata": {},
   "outputs": [
    {
     "data": {
      "text/plain": [
       "2"
      ]
     },
     "execution_count": 32,
     "metadata": {},
     "output_type": "execute_result"
    }
   ],
   "source": [
    "n"
   ]
  }
 ],
 "metadata": {
  "kernelspec": {
   "display_name": "Python 3",
   "language": "python",
   "name": "python3"
  },
  "language_info": {
   "codemirror_mode": {
    "name": "ipython",
    "version": 3
   },
   "file_extension": ".py",
   "mimetype": "text/x-python",
   "name": "python",
   "nbconvert_exporter": "python",
   "pygments_lexer": "ipython3",
   "version": "3.10.9"
  }
 },
 "nbformat": 4,
 "nbformat_minor": 5
}

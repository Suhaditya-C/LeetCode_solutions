{
 "cells": [
  {
   "cell_type": "markdown",
   "id": "fca6355a",
   "metadata": {},
   "source": [
    "# 2561. Rearranging Fruits\n",
    "\n",
    "You have two fruit baskets containing n fruits each. You are given two 0-indexed integer arrays basket1 and basket2 representing the cost of fruit in each basket. You want to make both baskets equal. To do so, you can use the following operation as many times as you want:\n",
    "\n",
    "Chose two indices i and j, and swap the ith fruit of basket1 with the jth fruit of basket2.\n",
    "The cost of the swap is min(basket1[i],basket2[j]).\n",
    "Two baskets are considered equal if sorting them according to the fruit cost makes them exactly the same baskets.\n",
    "\n",
    "Return the minimum cost to make both the baskets equal or -1 if impossible.\n",
    "\n",
    " \n",
    "\n",
    "Example 1:\n",
    "\n",
    "Input: basket1 = [4,2,2,2], basket2 = [1,4,1,2]\n",
    "Output: 1\n",
    "Explanation: Swap index 1 of basket1 with index 0 of basket2, which has cost 1. Now basket1 = [4,1,2,2] and basket2 = [2,4,1,2]. Rearranging both the arrays makes them equal.\n",
    "Example 2:\n",
    "\n",
    "Input: basket1 = [2,3,4,1], basket2 = [3,2,5,1]\n",
    "Output: -1\n",
    "Explanation: It can be shown that it is impossible to make both the baskets equal.\n",
    " \n",
    "\n",
    "Constraints:\n",
    "\n",
    "basket1.length == basket2.length\n",
    "1 <= basket1.length <= 105\n",
    "1 <= basket1[i],basket2[i] <= 109"
   ]
  },
  {
   "cell_type": "markdown",
   "id": "15b87d06",
   "metadata": {},
   "source": [
    "## Solution: Greedy"
   ]
  },
  {
   "cell_type": "code",
   "execution_count": 57,
   "id": "9072008a",
   "metadata": {},
   "outputs": [
    {
     "data": {
      "text/plain": [
       "8"
      ]
     },
     "execution_count": 57,
     "metadata": {},
     "output_type": "execute_result"
    }
   ],
   "source": [
    "from collections import Counter\n",
    "\n",
    "# Two baskets of fruits (represented by integers)\n",
    "basket1 = [4, 4, 4, 4, 3]\n",
    "basket2 = [5, 5, 5, 5, 3]\n",
    "\n",
    "# Dictionary to store the combined frequency of all fruit types from both baskets\n",
    "freq = {}\n",
    "\n",
    "# Result flag; will be set to -1 if it's impossible to equalize the baskets\n",
    "res = 0\n",
    "\n",
    "# Count frequency of each fruit in basket1\n",
    "for b in basket1:\n",
    "    if b not in freq:\n",
    "        freq[b] = 1\n",
    "    else:\n",
    "        freq[b] += 1\n",
    "\n",
    "# Add frequency of each fruit from basket2 to the same dictionary\n",
    "for b in basket2:\n",
    "    if b not in freq:\n",
    "        freq[b] = 1\n",
    "    else:\n",
    "        freq[b] += 1\n",
    "\n",
    "# Count frequencies separately for each basket\n",
    "count1 = Counter(basket1)\n",
    "count2 = Counter(basket2)\n",
    "\n",
    "# Lists to store excess fruits from each basket that need to be swapped\n",
    "excess1 = []\n",
    "excess2 = []\n",
    "\n",
    "# For each fruit type in combined frequency\n",
    "for key, value in freq.items():\n",
    "    # If total number of a fruit is odd, it's impossible to split evenly\n",
    "    if value % 2 != 0:\n",
    "        res = -1\n",
    "        break\n",
    "\n",
    "    # If basket1 has more than half the total count, it has excess to give\n",
    "    if key in count1:\n",
    "        if count1[key] > value // 2:\n",
    "            excess1.extend([key] * (count1[key] - value // 2))\n",
    "\n",
    "    # Similarly, if basket2 has more than half the total count, it has excess\n",
    "    if key in count2:\n",
    "        if count2[key] > value // 2:\n",
    "            excess2.extend([key] * (count2[key] - value // 2))\n",
    "\n",
    "# Sort excess1 in increasing and excess2 in decreasing order to minimize cost\n",
    "excess1.sort()\n",
    "excess2.sort(reverse=True)\n",
    "\n",
    "# For each pair of mismatched fruits, compute the minimum of the two values\n",
    "direct_ex = [min(a, b) for a, b in zip(excess1, excess2)]\n",
    "\n",
    "# Find the smallest fruit value across all to use for optimal double swap (2*m)\n",
    "m = min(freq)\n",
    "\n",
    "# For each pair, either swap directly or swap via smallest element (2*m), whichever is cheaper\n",
    "min_cost = sum(min(2 * m, direct_ex[i]) for i in range(len(direct_ex)))\n",
    "\n",
    "# If feasible, return min_cost; otherwise, return -1\n",
    "min_cost if res == 0 else -1\n"
   ]
  },
  {
   "cell_type": "code",
   "execution_count": 49,
   "id": "ad564548",
   "metadata": {},
   "outputs": [
    {
     "data": {
      "text/plain": [
       "([4], [5])"
      ]
     },
     "execution_count": 49,
     "metadata": {},
     "output_type": "execute_result"
    }
   ],
   "source": [
    "excess1,excess2"
   ]
  },
  {
   "cell_type": "code",
   "execution_count": 50,
   "id": "5a826e23",
   "metadata": {},
   "outputs": [
    {
     "data": {
      "text/plain": [
       "[4]"
      ]
     },
     "execution_count": 50,
     "metadata": {},
     "output_type": "execute_result"
    }
   ],
   "source": [
    "direct_ex"
   ]
  }
 ],
 "metadata": {
  "kernelspec": {
   "display_name": "Python 3",
   "language": "python",
   "name": "python3"
  },
  "language_info": {
   "codemirror_mode": {
    "name": "ipython",
    "version": 3
   },
   "file_extension": ".py",
   "mimetype": "text/x-python",
   "name": "python",
   "nbconvert_exporter": "python",
   "pygments_lexer": "ipython3",
   "version": "3.10.9"
  }
 },
 "nbformat": 4,
 "nbformat_minor": 5
}

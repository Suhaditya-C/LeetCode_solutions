{
 "cells": [
  {
   "cell_type": "markdown",
   "id": "a9678709",
   "metadata": {},
   "source": [
    "# 3024. Type of Triangle\n",
    "\n",
    "You are given a 0-indexed integer array nums of size 3 which can form the sides of a triangle.\n",
    "\n",
    "A triangle is called equilateral if it has all sides of equal length.\n",
    "A triangle is called isosceles if it has exactly two sides of equal length.\n",
    "A triangle is called scalene if all its sides are of different lengths.\n",
    "Return a string representing the type of triangle that can be formed or \"none\" if it cannot form a triangle.\n",
    "\n",
    " \n",
    "\n",
    "Example 1:\n",
    "\n",
    "Input: nums = [3,3,3]\n",
    "Output: \"equilateral\"\n",
    "Explanation: Since all the sides are of equal length, therefore, it will form an equilateral triangle.\n",
    "Example 2:\n",
    "\n",
    "Input: nums = [3,4,5]\n",
    "Output: \"scalene\"\n",
    "Explanation: \n",
    "nums[0] + nums[1] = 3 + 4 = 7, which is greater than nums[2] = 5.\n",
    "nums[0] + nums[2] = 3 + 5 = 8, which is greater than nums[1] = 4.\n",
    "nums[1] + nums[2] = 4 + 5 = 9, which is greater than nums[0] = 3. \n",
    "Since the sum of the two sides is greater than the third side for all three cases, therefore, it can form a triangle.\n",
    "As all the sides are of different lengths, it will form a scalene triangle.\n",
    " \n",
    "\n",
    "Constraints:\n",
    "\n",
    "nums.length == 3\n",
    "1 <= nums[i] <= 100"
   ]
  },
  {
   "cell_type": "markdown",
   "id": "caffac53",
   "metadata": {},
   "source": [
    "## Solution"
   ]
  },
  {
   "cell_type": "code",
   "execution_count": 2,
   "id": "0ecbb36c",
   "metadata": {},
   "outputs": [],
   "source": [
    "from typing import List"
   ]
  },
  {
   "cell_type": "code",
   "execution_count": 4,
   "id": "aa5819d0",
   "metadata": {},
   "outputs": [
    {
     "data": {
      "text/plain": [
       "'none'"
      ]
     },
     "execution_count": 4,
     "metadata": {},
     "output_type": "execute_result"
    }
   ],
   "source": [
    "class Solution:\n",
    "    def triangleType(self, nums: List[int]) -> str:\n",
    "        if nums[0]==nums[1]==nums[2]:\n",
    "            return 'equilateral'\n",
    "        if nums[0]+nums[1]>nums[2] and nums[1]+nums[2]>nums[0] and nums[2]+nums[0]>nums[1]:\n",
    "            if nums[0]==nums[1] or nums[1]==nums[2] or nums[2]==nums[0]:\n",
    "                return 'isosceles'\n",
    "        \n",
    "            return 'scalene'\n",
    "        return 'none'\n",
    "    \n",
    "sol=Solution()\n",
    "sol.triangleType([2,5,2])"
   ]
  }
 ],
 "metadata": {
  "kernelspec": {
   "display_name": "Python 3",
   "language": "python",
   "name": "python3"
  },
  "language_info": {
   "codemirror_mode": {
    "name": "ipython",
    "version": 3
   },
   "file_extension": ".py",
   "mimetype": "text/x-python",
   "name": "python",
   "nbconvert_exporter": "python",
   "pygments_lexer": "ipython3",
   "version": "3.12.4"
  }
 },
 "nbformat": 4,
 "nbformat_minor": 5
}

{
 "cells": [
  {
   "attachments": {
    "image-2.png": {
     "image/png": "[encoded data removed]"
    },
    "image.png": {
     "image/png": "[encoded data removed]"
    }
   },
   "cell_type": "markdown",
   "id": "06d5a5a2",
   "metadata": {},
   "source": [
    "# 2359. Find Closest Node to Given Two Nodes\n",
    "\n",
    "You are given a directed graph of n nodes numbered from 0 to n - 1, where each node has at most one outgoing edge.\n",
    "\n",
    "The graph is represented with a given 0-indexed array edges of size n, indicating that there is a directed edge from node i to node edges[i]. If there is no outgoing edge from i, then edges[i] == -1.\n",
    "\n",
    "You are also given two integers node1 and node2.\n",
    "\n",
    "Return the index of the node that can be reached from both node1 and node2, such that the maximum between the distance from node1 to that node, and from node2 to that node is minimized. If there are multiple answers, return the node with the smallest index, and if no possible answer exists, return -1.\n",
    "\n",
    "Note that edges may contain cycles.\n",
    "\n",
    " \n",
    "\n",
    "Example 1:\n",
    "\n",
    "![image.png](attachment:image.png)\n",
    "\n",
    "Input: edges = [2,2,3,-1], node1 = 0, node2 = 1\n",
    "Output: 2\n",
    "Explanation: The distance from node 0 to node 2 is 1, and the distance from node 1 to node 2 is 1.\n",
    "The maximum of those two distances is 1. It can be proven that we cannot get a node with a smaller maximum distance than 1, so we return node 2.\n",
    "Example 2:\n",
    "\n",
    "![image-2.png](attachment:image-2.png)\n",
    "\n",
    "Input: edges = [1,2,-1], node1 = 0, node2 = 2\n",
    "Output: 2\n",
    "\n",
    "Explanation: The distance from node 0 to node 2 is 2, and the distance from node 2 to itself is 0.\n",
    "The maximum of those two distances is 2. It can be proven that we cannot get a node with a smaller maximum distance than 2, so we return node 2.\n",
    " \n",
    "\n",
    "Constraints:\n",
    "\n",
    "n == edges.length\n",
    "2 <= n <= 105\n",
    "-1 <= edges[i] < n\n",
    "edges[i] != i\n",
    "0 <= node1, node2 < n"
   ]
  },
  {
   "cell_type": "markdown",
   "id": "fe1c67ce",
   "metadata": {},
   "source": [
    "## Solution: DFS\n",
    "\n",
    "1. The basic approach here is that we run two dfs's from each node to calculate the distance to every reachable node from it.\n",
    "\n",
    "2. So for every node i we we look at the maximum of these two distances (from the dfs's) and we pick the node where that maximum is minimized."
   ]
  },
  {
   "cell_type": "code",
   "execution_count": 8,
   "id": "450ee52f",
   "metadata": {},
   "outputs": [
    {
     "data": {
      "text/plain": [
       "2"
      ]
     },
     "execution_count": 8,
     "metadata": {},
     "output_type": "execute_result"
    }
   ],
   "source": [
    "edges = [2,2,3,-1]; node1 = 0; node2 = 1\n",
    "minmax=float('inf')\n",
    "res=-1\n",
    "n=len(edges)\n",
    "def DFS(node,distance, edges):\n",
    "    dist=[-1]*n\n",
    "    while node!=-1 and dist[node]==-1:\n",
    "        dist[node]=distance\n",
    "        distance+=1\n",
    "        node=edges[node]\n",
    "    return dist\n",
    "\n",
    "distance1=DFS(node1,0,edges)\n",
    "distance2=DFS(node2,0,edges)\n",
    "\n",
    "for i in range(n):\n",
    "    if distance1[i]>-1 and distance2[i]>-1:\n",
    "        maxd=max(distance1[i],distance2[i])\n",
    "        if maxd<minmax:\n",
    "            minmax=maxd\n",
    "            res=i\n",
    "res"
   ]
  }
 ],
 "metadata": {
  "kernelspec": {
   "display_name": "base",
   "language": "python",
   "name": "python3"
  },
  "language_info": {
   "codemirror_mode": {
    "name": "ipython",
    "version": 3
   },
   "file_extension": ".py",
   "mimetype": "text/x-python",
   "name": "python",
   "nbconvert_exporter": "python",
   "pygments_lexer": "ipython3",
   "version": "3.12.7"
  }
 },
 "nbformat": 4,
 "nbformat_minor": 5
}

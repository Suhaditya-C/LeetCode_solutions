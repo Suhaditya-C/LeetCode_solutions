{
 "cells": [
  {
   "cell_type": "markdown",
   "id": "95b50e08",
   "metadata": {},
   "source": [
    "# 3484. Design Spreadsheet\n",
    "\n",
    "A spreadsheet is a grid with 26 columns (labeled from 'A' to 'Z') and a given number of rows. Each cell in the spreadsheet can hold an integer value between 0 and 105.\n",
    "\n",
    "Implement the Spreadsheet class:\n",
    "\n",
    "Spreadsheet(int rows) Initializes a spreadsheet with 26 columns (labeled 'A' to 'Z') and the specified number of rows. All cells are initially set to 0.\n",
    "void setCell(String cell, int value) Sets the value of the specified cell. The cell reference is provided in the format \"AX\" (e.g., \"A1\", \"B10\"), where the letter represents the column (from 'A' to 'Z') and the number represents a 1-indexed row.\n",
    "void resetCell(String cell) Resets the specified cell to 0.\n",
    "int getValue(String formula) Evaluates a formula of the form \"=X+Y\", where X and Y are either cell references or non-negative integers, and returns the computed sum.\n",
    "Note: If getValue references a cell that has not been explicitly set using setCell, its value is considered 0.\n",
    "\n",
    " \n",
    "\n",
    "Example 1:\n",
    "\n",
    "Input:\n",
    "[\"Spreadsheet\", \"getValue\", \"setCell\", \"getValue\", \"setCell\", \"getValue\", \"resetCell\", \"getValue\"]\n",
    "[[3], [\"=5+7\"], [\"A1\", 10], [\"=A1+6\"], [\"B2\", 15], [\"=A1+B2\"], [\"A1\"], [\"=A1+B2\"]]\n",
    "\n",
    "Output:\n",
    "[null, 12, null, 16, null, 25, null, 15]\n",
    "\n",
    "Explanation\n",
    "\n",
    "Spreadsheet spreadsheet = new Spreadsheet(3); // Initializes a spreadsheet with 3 rows and 26 columns\n",
    "spreadsheet.getValue(\"=5+7\"); // returns 12 (5+7)\n",
    "spreadsheet.setCell(\"A1\", 10); // sets A1 to 10\n",
    "spreadsheet.getValue(\"=A1+6\"); // returns 16 (10+6)\n",
    "spreadsheet.setCell(\"B2\", 15); // sets B2 to 15\n",
    "spreadsheet.getValue(\"=A1+B2\"); // returns 25 (10+15)\n",
    "spreadsheet.resetCell(\"A1\"); // resets A1 to 0\n",
    "spreadsheet.getValue(\"=A1+B2\"); // returns 15 (0+15)\n",
    " \n",
    "\n",
    "Constraints:\n",
    "\n",
    "1 <= rows <= 103\n",
    "0 <= value <= 105\n",
    "The formula is always in the format \"=X+Y\", where X and Y are either valid cell references or non-negative integers with values less than or equal to 105.\n",
    "Each cell reference consists of a capital letter from 'A' to 'Z' followed by a row number between 1 and rows.\n",
    "At most 104 calls will be made in total to setCell, resetCell, and getValue."
   ]
  },
  {
   "cell_type": "markdown",
   "id": "2c53ea1e",
   "metadata": {},
   "source": [
    "## Solution: Hashmap"
   ]
  },
  {
   "cell_type": "code",
   "execution_count": null,
   "id": "9b253aab",
   "metadata": {},
   "outputs": [],
   "source": [
    "class Spreadsheet:\n",
    "\n",
    "    def __init__(self, rows: int):\n",
    "        self.rows=rows\n",
    "        self.mpp={}\n",
    "        \n",
    "\n",
    "    def setCell(self, cell: str, value: int) -> None:\n",
    "        self.mpp[cell]=value\n",
    "        \n",
    "\n",
    "    def resetCell(self, cell: str) -> None:\n",
    "        self.mpp[cell]=0\n",
    "        \n",
    "\n",
    "    def getValue(self, formula: str) -> int:\n",
    "        formula=formula[1:]\n",
    "        for i in range(len(formula)):\n",
    "            if formula[i]=='+':\n",
    "                a=formula[:i]\n",
    "                b=formula[i+1:]\n",
    "\n",
    "        a= self.mpp.get(a,0) if a[0].isalpha() else int(a) \n",
    "        b= self.mpp.get(b,0) if b[0].isalpha() else int(b)\n",
    "        return a+b\n",
    "\n",
    "# Your Spreadsheet object will be instantiated and called as such:\n",
    "# obj = Spreadsheet(rows)\n",
    "# obj.setCell(cell,value)\n",
    "# obj.resetCell(cell)\n",
    "# param_3 = obj.getValue(formula)"
   ]
  },
  {
   "cell_type": "code",
   "execution_count": 16,
   "id": "08507a12",
   "metadata": {},
   "outputs": [
    {
     "data": {
      "text/plain": [
       "[None, 12, None, 16, None, 25, None, 15]"
      ]
     },
     "execution_count": 16,
     "metadata": {},
     "output_type": "execute_result"
    }
   ],
   "source": [
    "calls=[\"Spreadsheet\",\"getValue\",\"setCell\",\"getValue\",\"setCell\",\"getValue\",\"resetCell\",\"getValue\"]\n",
    "inputs=[[3],[\"=5+7\"],[\"A1\",10],[\"=A1+6\"],[\"B2\",15],[\"=A1+B2\"],[\"A1\"],[\"=A1+B2\"]]\n",
    "res=[]\n",
    "for i in range(len(calls)):\n",
    "    if calls[i]==\"Spreadsheet\":\n",
    "        rows=inputs[i][0]\n",
    "        obj = Spreadsheet(rows)\n",
    "        res.append(None)\n",
    "    elif calls[i]==\"getValue\":\n",
    "        formula=inputs[i][0]\n",
    "        res.append(obj.getValue(formula))\n",
    "    elif calls[i]==\"setCell\":\n",
    "        cell,value=inputs[i][0],inputs[i][1]\n",
    "        res.append(obj.setCell(cell,value))\n",
    "    else:\n",
    "        cell=inputs[i][0]\n",
    "        res.append(obj.resetCell(cell))\n",
    "res"
   ]
  },
  {
   "cell_type": "code",
   "execution_count": 12,
   "id": "5baffe01",
   "metadata": {},
   "outputs": [
    {
     "data": {
      "text/plain": [
       "False"
      ]
     },
     "execution_count": 12,
     "metadata": {},
     "output_type": "execute_result"
    }
   ],
   "source": [
    "s='=2+3'\n",
    "[a,b]=[(ch) for ch in s if ch!='=' and ch!='+']\n",
    "a,b\n",
    "a.isalpha()"
   ]
  },
  {
   "cell_type": "markdown",
   "id": "612196c0",
   "metadata": {},
   "source": []
  }
 ],
 "metadata": {
  "kernelspec": {
   "display_name": "Python 3",
   "language": "python",
   "name": "python3"
  },
  "language_info": {
   "codemirror_mode": {
    "name": "ipython",
    "version": 3
   },
   "file_extension": ".py",
   "mimetype": "text/x-python",
   "name": "python",
   "nbconvert_exporter": "python",
   "pygments_lexer": "ipython3",
   "version": "3.10.9"
  }
 },
 "nbformat": 4,
 "nbformat_minor": 5
}

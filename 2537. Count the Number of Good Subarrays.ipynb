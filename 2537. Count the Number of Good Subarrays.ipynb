{
 "cells": [
  {
   "cell_type": "markdown",
   "id": "d480c1d8",
   "metadata": {},
   "source": [
    "# 2537. Count the Number of Good Subarrays\n",
    "\n",
    "Given an integer array nums and an integer k, return the number of good subarrays of nums.\n",
    "\n",
    "A subarray arr is good if there are at least k pairs of indices (i, j) such that i < j and arr[i] == arr[j].\n",
    "\n",
    "A subarray is a contiguous non-empty sequence of elements within an array.\n",
    "\n",
    " \n",
    "\n",
    "Example 1:\n",
    "\n",
    "Input: nums = [1,1,1,1,1], k = 10\n",
    "Output: 1\n",
    "Explanation: The only good subarray is the array nums itself.\n",
    "Example 2:\n",
    "\n",
    "Input: nums = [3,1,4,3,2,2,4], k = 2\n",
    "Output: 4\n",
    "Explanation: There are 4 different good subarrays:\n",
    "- [3,1,4,3,2,2] that has 2 pairs.\n",
    "- [3,1,4,3,2,2,4] that has 3 pairs.\n",
    "- [1,4,3,2,2,4] that has 2 pairs.\n",
    "- [4,3,2,2,4] that has 2 pairs.\n",
    " \n",
    "\n",
    "Constraints:\n",
    "\n",
    "1 <= nums.length <= 105\n",
    "1 <= nums[i], k <= 109"
   ]
  },
  {
   "cell_type": "markdown",
   "id": "a56fa0ab",
   "metadata": {},
   "source": [
    "## Solution: Brute Force\n",
    "\n",
    "Time Limit Exceeded"
   ]
  },
  {
   "cell_type": "code",
   "execution_count": 9,
   "id": "14b9e4b8",
   "metadata": {},
   "outputs": [
    {
     "data": {
      "text/plain": [
       "1"
      ]
     },
     "execution_count": 9,
     "metadata": {},
     "output_type": "execute_result"
    }
   ],
   "source": [
    "nums = [1,1,1,1,1]; k = 10\n",
    "res=0\n",
    "for i in range(len(nums)-1):\n",
    "    counter={}# num->count in the current subarray\n",
    "    pairs=0\n",
    "    #Iterate thru the all the elements after i-1 to form subarrays\n",
    "    for j in range(i,len(nums)):\n",
    "        if nums[j] not in counter:\n",
    "            counter[nums[j]]=1\n",
    "        else:\n",
    "            pairs+=counter[nums[j]] # we have to count pairs of indices (i, j) such that i < j and arr[i] == arr[j]\n",
    "            # When you add nums[j] to the subarray, for each previous occurrence of nums[j], it can form a new pair with the current j\n",
    "            counter[nums[j]]+=1\n",
    "              \n",
    "        if pairs>=k:\n",
    "            res+=1\n",
    "res  "
   ]
  },
  {
   "cell_type": "markdown",
   "id": "df91c552",
   "metadata": {},
   "source": [
    "## Efficient Solution: Sliding Window"
   ]
  },
  {
   "cell_type": "code",
   "execution_count": 22,
   "id": "750944fd",
   "metadata": {},
   "outputs": [
    {
     "data": {
      "text/plain": [
       "4"
      ]
     },
     "execution_count": 22,
     "metadata": {},
     "output_type": "execute_result"
    }
   ],
   "source": [
    "nums = [3,1,4,3,2,2,4]; k = 2\n",
    "res=0\n",
    "left=0\n",
    "counter={}# num->count in the current subarray\n",
    "pairs=0\n",
    "\n",
    "for right in range(len(nums)):\n",
    "    if nums[right] not in counter:\n",
    "        counter[nums[right]]=1\n",
    "    else:\n",
    "        pairs+=counter[nums[right]] # we have to count pairs of indices (i, right) such that i < right and arr[i] == arr[right]\n",
    "        # When you add nums[right] to the subarray, for each previous occurrence of nums[right], it can form a new pair with the current right\n",
    "        counter[nums[right]]+=1\n",
    "    #Shrink window when no. of pairs ==k\n",
    "    while pairs>=k:\n",
    "        counter[nums[left]]-=1 #reduce freq of that no\n",
    "        pairs-=counter[nums[left]] #as the element is removed, reduce all the pairs formed by it with the existing elements\n",
    "        #increment left pointer\n",
    "        left+=1\n",
    "    res+=left\n",
    "res \n"
   ]
  }
 ],
 "metadata": {
  "kernelspec": {
   "display_name": "Python 3",
   "language": "python",
   "name": "python3"
  },
  "language_info": {
   "codemirror_mode": {
    "name": "ipython",
    "version": 3
   },
   "file_extension": ".py",
   "mimetype": "text/x-python",
   "name": "python",
   "nbconvert_exporter": "python",
   "pygments_lexer": "ipython3",
   "version": "3.12.4"
  }
 },
 "nbformat": 4,
 "nbformat_minor": 5
}

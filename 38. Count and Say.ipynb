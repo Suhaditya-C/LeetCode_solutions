{
 "cells": [
  {
   "cell_type": "markdown",
   "id": "a16e8468",
   "metadata": {},
   "source": [
    "# 38. Count and Say\n",
    "\n",
    "The count-and-say sequence is a sequence of digit strings defined by the recursive formula:\n",
    "\n",
    "countAndSay(1) = \"1\"\n",
    "countAndSay(n) is the run-length encoding of countAndSay(n - 1).\n",
    "Run-length encoding (RLE) is a string compression method that works by replacing consecutive identical characters (repeated 2 or more times) with the concatenation of the character and the number marking the count of the characters (length of the run). For example, to compress the string \"3322251\" we replace \"33\" with \"23\", replace \"222\" with \"32\", replace \"5\" with \"15\" and replace \"1\" with \"11\". Thus the compressed string becomes \"23321511\".\n",
    "\n",
    "Given a positive integer n, return the nth element of the count-and-say sequence.\n",
    "\n",
    "Example 1:\n",
    "\n",
    "Input: n = 4\n",
    "\n",
    "Output: \"1211\"\n",
    "\n",
    "Explanation:\n",
    "\n",
    "countAndSay(1) = \"1\"\n",
    "countAndSay(2) = RLE of \"1\" = \"11\"\n",
    "countAndSay(3) = RLE of \"11\" = \"21\"\n",
    "countAndSay(4) = RLE of \"21\" = \"1211\"\n",
    "Example 2:\n",
    "\n",
    "Input: n = 1\n",
    "\n",
    "Output: \"1\"\n",
    "\n",
    "Explanation:\n",
    "\n",
    "This is the base case.\n",
    "\n",
    "Constraints:\n",
    "\n",
    "1 <= n <= 30"
   ]
  },
  {
   "cell_type": "markdown",
   "id": "a04ebea4",
   "metadata": {},
   "source": [
    "## Solution: Recursion\n",
    "\n",
    "Create a helper function that maps an integer to pairs of its digits and their frequencies. For example, if you call this function with \"223314444411\", then it maps it to an array of pairs [[2,2], [3,2], [1,1], [4,5], [1, 2]].\n",
    "\n",
    "Create another helper function that takes the array of pairs and creates a new integer. For example, if you call this function with [[2,2], [3,2], [1,1], [4,5], [1, 2]], it should create \"22\"+\"23\"+\"11\"+\"54\"+\"21\" = \"2223115421\".\n",
    "\n",
    "Now, with the two helper functions, you can start with \"1\" and call the two functions alternatively n-1 times. The answer is the last integer you will obtain."
   ]
  },
  {
   "cell_type": "code",
   "execution_count": 24,
   "id": "737c0923",
   "metadata": {},
   "outputs": [
    {
     "data": {
      "text/plain": [
       "'1211'"
      ]
     },
     "execution_count": 24,
     "metadata": {},
     "output_type": "execute_result"
    }
   ],
   "source": [
    "n = 4\n",
    "def recursion(n):\n",
    "    if n==1:\n",
    "        return '1' #Base case\n",
    "    \n",
    "    res='1'\n",
    "    #Define the helper function here\n",
    "    def helper1(a):\n",
    "        string=''\n",
    "        cnt=1\n",
    "        for i in range(1,len(a)):\n",
    "            if a[i]==a[i-1]:\n",
    "                cnt+=1\n",
    "            else:\n",
    "                string+=str(cnt)+a[i-1] #builds the string in such a way that it counts the recurring digit and adds count and digit to the previous string\n",
    "                cnt=1\n",
    "        string+=str(cnt)+a[-1] # to process the last element of the string\n",
    "        return string\n",
    "     \n",
    "    for _ in range(1,n):\n",
    "        res=helper1(res)\n",
    "    return res\n",
    "\n",
    "recursion(4)\n"
   ]
  },
  {
   "cell_type": "markdown",
   "id": "84a7e75f",
   "metadata": {},
   "source": [
    "Helper Function"
   ]
  },
  {
   "cell_type": "code",
   "execution_count": null,
   "id": "70bdcd66",
   "metadata": {},
   "outputs": [
    {
     "data": {
      "text/plain": [
       "'2223115421'"
      ]
     },
     "execution_count": 22,
     "metadata": {},
     "output_type": "execute_result"
    }
   ],
   "source": [
    "a=\"223314444411\"\n",
    "def helper1(a):\n",
    "    res1=''\n",
    "    cnt=1\n",
    "    for i in range(1,len(a)):\n",
    "        if a[i]==a[i-1]:\n",
    "            cnt+=1\n",
    "        else:\n",
    "            res1+=str(cnt)+a[i-1] #builds the string in such a way that it counts the recurring digit and adds count and digit to the previous string\n",
    "            cnt=1\n",
    "    res1+=str(cnt)+a[-1] # to process the last element of the string\n",
    "    return res1  \n",
    "b=helper1(a)\n",
    "b\n",
    "\n",
    "          "
   ]
  },
  {
   "cell_type": "markdown",
   "id": "6a7e8647",
   "metadata": {},
   "source": []
  }
 ],
 "metadata": {
  "kernelspec": {
   "display_name": "Python 3",
   "language": "python",
   "name": "python3"
  },
  "language_info": {
   "codemirror_mode": {
    "name": "ipython",
    "version": 3
   },
   "file_extension": ".py",
   "mimetype": "text/x-python",
   "name": "python",
   "nbconvert_exporter": "python",
   "pygments_lexer": "ipython3",
   "version": "3.12.4"
  }
 },
 "nbformat": 4,
 "nbformat_minor": 5
}

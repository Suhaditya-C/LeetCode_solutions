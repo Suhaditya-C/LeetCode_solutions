{
 "cells": [
  {
   "cell_type": "markdown",
   "id": "9588e13e-f485-4cc1-b51e-c84576f8df39",
   "metadata": {},
   "source": [
    "# 2140. Solving Questions With Brainpower\n",
    "\n",
    "You are given a 0-indexed 2D integer array questions where questions[i] = [pointsi, brainpoweri].\n",
    "\n",
    "The array describes the questions of an exam, where you have to process the questions in order (i.e., starting from question 0) and make a decision whether to solve or skip each question. Solving question i will earn you pointsi points but you will be unable to solve each of the next brainpoweri questions. If you skip question i, you get to make the decision on the next question.\n",
    "\n",
    "For example, given questions = [[3, 2], [4, 3], [4, 4], [2, 5]]:\n",
    "If question 0 is solved, you will earn 3 points but you will be unable to solve questions 1 and 2.\n",
    "If instead, question 0 is skipped and question 1 is solved, you will earn 4 points but you will be unable to solve questions 2 and 3.\n",
    "Return the maximum points you can earn for the exam.\n",
    "\n",
    "Example 1:\n",
    "\n",
    "Input: questions = [[3,2],[4,3],[4,4],[2,5]]\n",
    "Output: 5\n",
    "Explanation: The maximum points can be earned by solving questions 0 and 3.\n",
    "- Solve question 0: Earn 3 points, will be unable to solve the next 2 questions\n",
    "- Unable to solve questions 1 and 2\n",
    "- Solve question 3: Earn 2 points\n",
    "Total points earned: 3 + 2 = 5. There is no other way to earn 5 or more points.\n",
    "Example 2:\n",
    "\n",
    "Input: questions = [[1,1],[2,2],[3,3],[4,4],[5,5]]\n",
    "Output: 7\n",
    "Explanation: The maximum points can be earned by solving questions 1 and 4.\n",
    "- Skip question 0\n",
    "- Solve question 1: Earn 2 points, will be unable to solve the next 2 questions\n",
    "- Unable to solve questions 2 and 3\n",
    "- Solve question 4: Earn 5 points\n",
    "Total points earned: 2 + 5 = 7. There is no other way to earn 7 or more points.\n",
    " \n",
    "\n",
    "Constraints:\n",
    "\n",
    "1 <= questions.length <= 105\n",
    "questions[i].length == 2\n",
    "1 <= pointsi, brainpoweri <= 105"
   ]
  },
  {
   "cell_type": "markdown",
   "id": "dae8fe7c-4360-4535-b1e4-7b67f28f95af",
   "metadata": {},
   "source": [
    "## Solution:\n",
    "### Back Tracking: Recursively check the max. points given we have 2 choices- either skip or solve the question. Each branch therefore has 2 possibilities and we have to return the max points out of those two branches to its emerging nodes.\n",
    "\n",
    "### DP-Cache: To make the recursion faster we store the results in an array and to avoid recomputation of the points to the same question"
   ]
  },
  {
   "cell_type": "markdown",
   "id": "b9472f03-6474-4f0b-bae6-424642570e3c",
   "metadata": {},
   "source": [
    "#### Without Using Cache"
   ]
  },
  {
   "cell_type": "code",
   "execution_count": 1,
   "id": "3cb9a34d-b225-4ea2-aae5-0637cd509873",
   "metadata": {},
   "outputs": [
    {
     "data": {
      "text/plain": [
       "5"
      ]
     },
     "execution_count": 1,
     "metadata": {},
     "output_type": "execute_result"
    }
   ],
   "source": [
    "questions = [[3,2],[4,3],[4,4],[2,5]]\n",
    "def backtrack(i):\n",
    "    #Base Case- Out of Bounds\n",
    "    if i>=len(questions):\n",
    "        return 0\n",
    "    points,brainpower=questions[i]\n",
    "    #get the maximum of 2 cases- i.e. skip the question or solve the question\n",
    "    skip=backtrack(i+1)\n",
    "    solve=backtrack(i+brainpower+1)+points #points are added if the qn is solved\n",
    "    return max(skip,solve)\n",
    "backtrack(0)"
   ]
  },
  {
   "cell_type": "markdown",
   "id": "85ee8b96-47b9-4c14-84d6-ed12cff9af3c",
   "metadata": {},
   "source": [
    "#### Using Cache--Dynamic Programming"
   ]
  },
  {
   "cell_type": "code",
   "execution_count": 2,
   "id": "9a0a3f1f-ac0f-4039-9624-76a02f759dba",
   "metadata": {},
   "outputs": [
    {
     "data": {
      "text/plain": [
       "5"
      ]
     },
     "execution_count": 2,
     "metadata": {},
     "output_type": "execute_result"
    }
   ],
   "source": [
    "questions = [[3,2],[4,3],[4,4],[2,5]]\n",
    "cache=[0]*(len(questions))\n",
    "def backtrack(i):\n",
    "    #Base Case- Out of Bounds\n",
    "    if i>=len(questions):\n",
    "        return 0\n",
    "    if cache[i]!=0: #if the answer has been computed earlier\n",
    "        return cache[i]\n",
    "    points,brainpower=questions[i]\n",
    "    #get the maximum of 2 cases- i.e. skip the question or solve the question\n",
    "    skip=backtrack(i+1)\n",
    "    solve=backtrack(i+brainpower+1)+points #points are added if the qn is solved\n",
    "    cache[i]=max(skip,solve) #store the results in the cache array\n",
    "    return cache[i]\n",
    "backtrack(0)"
   ]
  }
 ],
 "metadata": {
  "kernelspec": {
   "display_name": "Python 3 (ipykernel)",
   "language": "python",
   "name": "python3"
  },
  "language_info": {
   "codemirror_mode": {
    "name": "ipython",
    "version": 3
   },
   "file_extension": ".py",
   "mimetype": "text/x-python",
   "name": "python",
   "nbconvert_exporter": "python",
   "pygments_lexer": "ipython3",
   "version": "3.12.4"
  }
 },
 "nbformat": 4,
 "nbformat_minor": 5
}

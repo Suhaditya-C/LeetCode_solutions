{
 "cells": [
  {
   "cell_type": "markdown",
   "id": "9a7f4585",
   "metadata": {},
   "source": [
    "# 3349. Adjacent Increasing Subarrays Detection I\n",
    "\n",
    "Given an array nums of n integers and an integer k, determine whether there exist two adjacent subarrays of length k such that both subarrays are strictly increasing. Specifically, check if there are two subarrays starting at indices a and b (a < b), where:\n",
    "\n",
    "Both subarrays nums[a..a + k - 1] and nums[b..b + k - 1] are strictly increasing.\n",
    "The subarrays must be adjacent, meaning b = a + k.\n",
    "Return true if it is possible to find two such subarrays, and false otherwise.\n",
    "\n",
    " \n",
    "\n",
    "Example 1:\n",
    "\n",
    "Input: nums = [2,5,7,8,9,2,3,4,3,1], k = 3\n",
    "\n",
    "Output: true\n",
    "\n",
    "Explanation:\n",
    "\n",
    "The subarray starting at index 2 is [7, 8, 9], which is strictly increasing.\n",
    "The subarray starting at index 5 is [2, 3, 4], which is also strictly increasing.\n",
    "These two subarrays are adjacent, so the result is true.\n",
    "Example 2:\n",
    "\n",
    "Input: nums = [1,2,3,4,4,4,4,5,6,7], k = 5\n",
    "\n",
    "Output: false\n",
    "\n",
    " \n",
    "\n",
    "Constraints:\n",
    "\n",
    "2 <= nums.length <= 100\n",
    "1 < 2 * k <= nums.length\n",
    "-1000 <= nums[i] <= 1000"
   ]
  },
  {
   "cell_type": "markdown",
   "id": "da82a79a",
   "metadata": {},
   "source": [
    "## Solution: Sliding Window"
   ]
  },
  {
   "cell_type": "code",
   "execution_count": null,
   "id": "396d690f",
   "metadata": {},
   "outputs": [
    {
     "data": {
      "text/plain": [
       "True"
      ]
     },
     "execution_count": 16,
     "metadata": {},
     "output_type": "execute_result"
    }
   ],
   "source": [
    "from typing import List\n",
    "class Solution:\n",
    "    def hasIncreasingSubarrays(self, nums: List[int], k: int) -> bool:\n",
    "        if k==1 and len(nums)>=2:\n",
    "            return True # Since every sequence num is a valid subarray\n",
    "\n",
    "        winlen=1\n",
    "        i=1\n",
    "        prev_idx=0\n",
    "        while i<len(nums):\n",
    "            if nums[i-1]<nums[i]: #If increasing\n",
    "                winlen+=1 #Expand window\n",
    "                if winlen==k: #Once 1st Valid subarray is found, skip to 2nd element of the consecutive candidate subarray and expand window length\n",
    "                    i+=1\n",
    "                    winlen+=1\n",
    "\n",
    "                elif winlen==2*k: # IF consecutive valid subarrays found\n",
    "                    return True\n",
    "                i+=1\n",
    "            else:\n",
    "                winlen=1 #Restart window \n",
    "                i=prev_idx+1 #Go back to index next to the start of the previous 1st subarray\n",
    "                prev_idx+=1\n",
    "\n",
    "        return False\n",
    "sol=Solution()\n",
    "sol.hasIncreasingSubarrays(nums = [2,5,7,8,9,2,3,4,3,1], k=3)"
   ]
  }
 ],
 "metadata": {
  "kernelspec": {
   "display_name": "Python 3",
   "language": "python",
   "name": "python3"
  },
  "language_info": {
   "codemirror_mode": {
    "name": "ipython",
    "version": 3
   },
   "file_extension": ".py",
   "mimetype": "text/x-python",
   "name": "python",
   "nbconvert_exporter": "python",
   "pygments_lexer": "ipython3",
   "version": "3.10.9"
  }
 },
 "nbformat": 4,
 "nbformat_minor": 5
}

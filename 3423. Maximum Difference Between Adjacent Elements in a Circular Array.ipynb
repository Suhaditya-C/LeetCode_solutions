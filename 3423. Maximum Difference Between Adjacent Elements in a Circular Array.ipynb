{
 "cells": [
  {
   "cell_type": "markdown",
   "id": "9f51f911",
   "metadata": {},
   "source": [
    "# 3423. Maximum Difference Between Adjacent Elements in a Circular Array\n",
    "\n",
    "Given a circular array nums, find the maximum absolute difference between adjacent elements.\n",
    "\n",
    "Note: In a circular array, the first and last elements are adjacent.\n",
    "\n",
    " \n",
    "\n",
    "Example 1:\n",
    "\n",
    "Input: nums = [1,2,4]\n",
    "\n",
    "Output: 3\n",
    "\n",
    "Explanation:\n",
    "\n",
    "Because nums is circular, nums[0] and nums[2] are adjacent. They have the maximum absolute difference of |4 - 1| = 3.\n",
    "\n",
    "Example 2:\n",
    "\n",
    "Input: nums = [-5,-10,-5]\n",
    "\n",
    "Output: 5\n",
    "\n",
    "Explanation:\n",
    "\n",
    "The adjacent elements nums[0] and nums[1] have the maximum absolute difference of |-5 - (-10)| = 5.\n",
    "\n",
    " \n",
    "\n",
    "Constraints:\n",
    "\n",
    "2 <= nums.length <= 100\n",
    "-100 <= nums[i] <= 100"
   ]
  },
  {
   "cell_type": "markdown",
   "id": "383db48c",
   "metadata": {},
   "source": [
    "## Solution"
   ]
  },
  {
   "cell_type": "code",
   "execution_count": null,
   "id": "ab0c69f2",
   "metadata": {},
   "outputs": [
    {
     "data": {
      "text/plain": [
       "3"
      ]
     },
     "execution_count": 3,
     "metadata": {},
     "output_type": "execute_result"
    }
   ],
   "source": [
    "nums = [1,2,4]\n",
    "nums=nums + [nums[0]]\n",
    "res=0\n",
    "for i in range(1,len(nums)):\n",
    "    if abs(nums[i] - nums[i-1]) > res:\n",
    "        res= abs(nums[i] - nums[i-1])\n",
    "res"
   ]
  }
 ],
 "metadata": {
  "kernelspec": {
   "display_name": "Python 3",
   "language": "python",
   "name": "python3"
  },
  "language_info": {
   "codemirror_mode": {
    "name": "ipython",
    "version": 3
   },
   "file_extension": ".py",
   "mimetype": "text/x-python",
   "name": "python",
   "nbconvert_exporter": "python",
   "pygments_lexer": "ipython3",
   "version": "3.10.9"
  }
 },
 "nbformat": 4,
 "nbformat_minor": 5
}

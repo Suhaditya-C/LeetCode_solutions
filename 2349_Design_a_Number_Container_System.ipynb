{
  "nbformat": 4,
  "nbformat_minor": 0,
  "metadata": {
    "colab": {
      "provenance": [],
      "authorship_tag": "ABX9TyMU3aQ3c7WZJR5PlMoG09dm",
      "include_colab_link": true
    },
    "kernelspec": {
      "name": "python3",
      "display_name": "Python 3"
    },
    "language_info": {
      "name": "python"
    }
  },
  "cells": [
    {
      "cell_type": "markdown",
      "metadata": {
        "id": "view-in-github",
        "colab_type": "text"
      },
      "source": [
        "<a href=\"https://colab.research.google.com/github/Suhaditya-C/LeetCode_solutions/blob/main/2349_Design_a_Number_Container_System.ipynb\" target=\"_parent\"><img src=\"https://colab.research.google.com/assets/colab-badge.svg\" alt=\"Open In Colab\"/></a>"
      ]
    },
    {
      "cell_type": "markdown",
      "source": [
        "## 2349. Design a Number Container System\n",
        "\n",
        "Design a number container system that can do the following:\n",
        "\n",
        "Insert or Replace a number at the given index in the system.\n",
        "Return the smallest index for the given number in the system.\n",
        "Implement the NumberContainers class:\n",
        "\n",
        "NumberContainers() Initializes the number container system.\n",
        "void change(int index, int number) Fills the container at index with the number. If there is already a number at that index, replace it.\n",
        "int find(int number) Returns the smallest index for the given number, or -1 if there is no index that is filled by number in the system.\n",
        "\n",
        "\n",
        "Example 1:\n",
        "\n",
        "Input\n",
        "[\"NumberContainers\", \"find\", \"change\", \"change\", \"change\", \"change\", \"find\", \"change\", \"find\"]\n",
        "[[], [10], [2, 10], [1, 10], [3, 10], [5, 10], [10], [1, 20], [10]]\n",
        "Output\n",
        "[null, -1, null, null, null, null, 1, null, 2]\n",
        "\n",
        "Explanation\n",
        "NumberContainers nc = new NumberContainers();\n",
        "nc.find(10); // There is no index that is filled with number 10. Therefore, we return -1.\n",
        "nc.change(2, 10); // Your container at index 2 will be filled with number 10.\n",
        "nc.change(1, 10); // Your container at index 1 will be filled with number 10.\n",
        "nc.change(3, 10); // Your container at index 3 will be filled with number 10.\n",
        "nc.change(5, 10); // Your container at index 5 will be filled with number 10.\n",
        "nc.find(10); // Number 10 is at the indices 1, 2, 3, and 5. Since the smallest index that is filled with 10 is 1, we return 1.\n",
        "nc.change(1, 20); // Your container at index 1 will be filled with number 20. Note that index 1 was filled with 10 and then replaced with 20.\n",
        "nc.find(10); // Number 10 is at the indices 2, 3, and 5. The smallest index that is filled with 10 is 2. Therefore, we return 2.\n",
        "\n",
        "\n",
        "Constraints:\n",
        "\n",
        "1 <= index, number <= 109\n",
        "At most 105 calls will be made in total to change and find."
      ],
      "metadata": {
        "id": "ZeX8F-BrcK3k"
      }
    },
    {
      "cell_type": "code",
      "source": [
        "ItoN={} #Single Mapping\n",
        "NtoI={} #Multiple Mapping\n",
        "index=0 #Given\n",
        "number=0 #Given\n",
        "#Change\n",
        "#def change(self, index: int, number: int) -> None:\n",
        "if index in ItoN.keys():\n",
        "    prev_no=ItoN[index]\n",
        "    ItoN[index]=number\n",
        "    NtoI[prev_no].remove(index)\n",
        "    NtoI[number].append(index)\n",
        "else:\n",
        "    ItoN[index]=number\n",
        "    if number in NtoI.keys():\n",
        "        NtoI[number].append(index)\n",
        "    else:\n",
        "        NtoI[number]=[index]\n",
        "#find smallest index\n",
        "#def find(self, number: int) -> int:\n",
        "if number not in NtoI.keys():\n",
        "    return -1\n",
        "else:\n",
        "    return min(NtoI[number])\n"
      ],
      "metadata": {
        "id": "Qz1ch5-0Vue4"
      },
      "execution_count": null,
      "outputs": []
    },
    {
      "cell_type": "markdown",
      "source": [
        "Improved Code but TLE"
      ],
      "metadata": {
        "id": "3EjmiCQnpf3h"
      }
    },
    {
      "cell_type": "code",
      "source": [
        "class NumberContainers:\n",
        "\n",
        "    def __init__(self):\n",
        "        self.ItoN={} #Single Mapping\n",
        "        self.NtoI={} #Multiple Mapping\n",
        "\n",
        "    def change(self, index: int, number: int) -> None:\n",
        "        if index in self.ItoN:\n",
        "            prev_no = self.ItoN[index]\n",
        "            if prev_no in self.NtoI:\n",
        "                self.NtoI[prev_no].discard(index)  # Remove old index\n",
        "                if not self.NtoI[prev_no]:  # If empty, delete the key\n",
        "                    del self.NtoI[prev_no]\n",
        "\n",
        "        self.ItoN[index] = number  # Update mapping\n",
        "        if number not in self.NtoI:\n",
        "            self.NtoI[number] = set()  # Use a set to store indices\n",
        "\n",
        "        self.NtoI[number].add(index)\n",
        "\n",
        "    def find(self, number: int) -> int:\n",
        "\n",
        "        if number not in self.NtoI.keys():\n",
        "            return -1\n",
        "        else:\n",
        "            return min(self.NtoI[number])\n",
        "# Your NumberContainers object will be instantiated and called as such:\n",
        "# obj = NumberContainers()\n",
        "# obj.change(index,number)\n",
        "# param_2 = obj.find(number)"
      ],
      "metadata": {
        "id": "RS9LQu9_pigE"
      },
      "execution_count": 2,
      "outputs": []
    },
    {
      "cell_type": "markdown",
      "source": [
        "Possible reasons for TLE:\n",
        "\n",
        "Using list instead of a sorted structure: If find() relies on min(self.NtoI[number]), it takes O(N) time instead of O(1) or O(log N).\n",
        "Inefficient change() implementation: If searching and removing elements from a list, it can take O(N)."
      ],
      "metadata": {
        "id": "X5vzkmhKqV_d"
      }
    },
    {
      "cell_type": "markdown",
      "source": [
        "Optimization Strategy\n",
        "\n",
        "Use SortedSet from sortedcontainers for efficient find().\n",
        "Use set instead of list for faster deletion in change()."
      ],
      "metadata": {
        "id": "wtRfTp0Nqja5"
      }
    },
    {
      "cell_type": "code",
      "source": [
        "class NumberContainers:\n",
        "\n",
        "    def __init__(self):\n",
        "        self.ItoN={} #Single Mapping\n",
        "        self.NtoI={} #Multiple Mapping\n",
        "\n",
        "    def change(self, index: int, number: int) -> None:\n",
        "        if index in self.ItoN:\n",
        "            prev_no = self.ItoN[index]\n",
        "            if prev_no in self.NtoI:\n",
        "                self.NtoI[prev_no].discard(index)  # Remove old index\n",
        "                if not self.NtoI[prev_no]:  # If empty, delete the key\n",
        "                    del self.NtoI[prev_no]\n",
        "\n",
        "        self.ItoN[index] = number  # Update mapping\n",
        "        if number not in self.NtoI:\n",
        "            self.NtoI[number] = SortedSet()\n",
        "        self.NtoI[number].add(index)  # Maintain sorted order\n",
        "\n",
        "    def find(self, number: int) -> int:\n",
        "\n",
        "        if number not in self.NtoI.keys():\n",
        "            return -1\n",
        "        else:\n",
        "            return self.NtoI[number][0]\n",
        "# Your NumberContainers object will be instantiated and called as such:\n",
        "# obj = NumberContainers()\n",
        "# obj.change(index,number)\n",
        "# param_2 = obj.find(number)\n",
        "\n"
      ],
      "metadata": {
        "id": "q8-S3zdpqlhm"
      },
      "execution_count": 1,
      "outputs": []
    },
    {
      "cell_type": "markdown",
      "source": [
        "Priority Queues can also be used as an efficient data structure here"
      ],
      "metadata": {
        "id": "e_2uvdhBr0Bf"
      }
    }
  ]
}
{
  "nbformat": 4,
  "nbformat_minor": 0,
  "metadata": {
    "colab": {
      "provenance": [],
      "authorship_tag": "ABX9TyMJv/+QYjhg2vMoqoynx0UU",
      "include_colab_link": true
    },
    "kernelspec": {
      "name": "python3",
      "display_name": "Python 3"
    },
    "language_info": {
      "name": "python"
    }
  },
  "cells": [
    {
      "cell_type": "markdown",
      "metadata": {
        "id": "view-in-github",
        "colab_type": "text"
      },
      "source": [
        "<a href=\"https://colab.research.google.com/github/Suhaditya-C/LeetCode_solutions/blob/main/3105_Longest_Strictly_Increasing_or_Strictly_Decreasing_Subarray.ipynb\" target=\"_parent\"><img src=\"https://colab.research.google.com/assets/colab-badge.svg\" alt=\"Open In Colab\"/></a>"
      ]
    },
    {
      "cell_type": "markdown",
      "source": [
        "##3105. Longest Strictly Increasing or Strictly Decreasing Subarray\n",
        "\n",
        "You are given an array of integers nums. Return the length of the longest\n",
        "subarray\n",
        " of nums which is either\n",
        "strictly increasing\n",
        " or\n",
        "strictly decreasing\n",
        "\n",
        "Example 1:\n",
        "\n",
        "Input: nums = [1,4,3,3,2]\n",
        "\n",
        "Output: 2\n",
        "\n",
        "Explanation:\n",
        "\n",
        "The strictly increasing subarrays of nums are [1], [2], [3], [3], [4], and [1,4].\n",
        "\n",
        "The strictly decreasing subarrays of nums are [1], [2], [3], [3], [4], [3,2], and [4,3].\n",
        "\n",
        "Hence, we return 2.\n",
        "\n",
        "Example 2:\n",
        "\n",
        "Input: nums = [3,3,3,3]\n",
        "\n",
        "Output: 1\n",
        "\n",
        "Explanation:\n",
        "\n",
        "The strictly increasing subarrays of nums are [3], [3], [3], and [3].\n",
        "\n",
        "The strictly decreasing subarrays of nums are [3], [3], [3], and [3].\n",
        "\n",
        "Hence, we return 1.\n",
        "\n",
        "Example 3:\n",
        "\n",
        "Input: nums = [3,2,1]\n",
        "\n",
        "Output: 3\n",
        "\n",
        "Explanation:\n",
        "\n",
        "The strictly increasing subarrays of nums are [3], [2], and [1].\n",
        "\n",
        "The strictly decreasing subarrays of nums are [3], [2], [1], [3,2], [2,1], and [3,2,1].\n",
        "\n",
        "Hence, we return 3.\n",
        "\n",
        "Constraints:\n",
        "\n",
        "1 <= nums.length <= 50\n",
        "1 <= nums[i] <= 50"
      ],
      "metadata": {
        "id": "wwmODDKK2A0b"
      }
    },
    {
      "cell_type": "markdown",
      "source": [
        "Brute Force"
      ],
      "metadata": {
        "id": "Bfprr4KQlsV9"
      }
    },
    {
      "cell_type": "code",
      "source": [
        "nums = [1,4,3,3,2]\n",
        "inc=[]\n",
        "dec=[]\n",
        "i,m1,m2=0,0,0\n",
        "while i<len(nums):\n",
        "    j=i+1\n",
        "    while j<len(nums) and nums[j-1]<nums[j]:\n",
        "        j+=1\n",
        "    inc.append(nums[i:j])\n",
        "    i=j\n",
        "i=0\n",
        "while i<len(nums):\n",
        "    j=i+1\n",
        "    while j<len(nums) and nums[j-1]>nums[j]:\n",
        "        j+=1\n",
        "    dec.append(nums[i:j])\n",
        "    i=j\n",
        "inc\n",
        "dec\n",
        "for i in inc:\n",
        "    m1=max(m1,len(i))\n",
        "for d in dec:\n",
        "    m2=max(m2,len(d))\n",
        "max(m1,m2)"
      ],
      "metadata": {
        "id": "tGcOXtlZdH0X",
        "colab": {
          "base_uri": "https://localhost:8080/"
        },
        "outputId": "2f7c47f2-3f7c-4e1e-9541-4539ea7d38c3"
      },
      "execution_count": 1,
      "outputs": [
        {
          "output_type": "execute_result",
          "data": {
            "text/plain": [
              "2"
            ]
          },
          "metadata": {},
          "execution_count": 1
        }
      ]
    },
    {
      "cell_type": "markdown",
      "source": [
        "Improved Solution: Instead of storing separate arrays, directly compute length with help of counters---still o(n^2) time complexity"
      ],
      "metadata": {
        "id": "-FVEbeDdpJ4N"
      }
    },
    {
      "cell_type": "code",
      "source": [
        "nums = [1,4,3,3,2]\n",
        "i,m1,m2=0,0,0\n",
        "while i<len(nums):\n",
        "    j=i+1\n",
        "    while j<len(nums) and nums[j-1]<nums[j]:\n",
        "        j+=1\n",
        "    m1=max(m1,j-i)\n",
        "    i=j\n",
        "i=0\n",
        "while i<len(nums):\n",
        "    j=i+1\n",
        "    while j<len(nums) and nums[j-1]>nums[j]:\n",
        "        j+=1\n",
        "    m2=max(m2,j-i)\n",
        "    i=j\n",
        "max(m1,m2)"
      ],
      "metadata": {
        "colab": {
          "base_uri": "https://localhost:8080/"
        },
        "id": "64fDQbDBk3Tg",
        "outputId": "87053474-57e6-43f7-c72d-aab748363e93"
      },
      "execution_count": 2,
      "outputs": [
        {
          "output_type": "execute_result",
          "data": {
            "text/plain": [
              "2"
            ]
          },
          "metadata": {},
          "execution_count": 2
        }
      ]
    },
    {
      "cell_type": "markdown",
      "source": [
        "Linear Time Solution (FINAL)"
      ],
      "metadata": {
        "id": "AhegJ7eJwKGc"
      }
    },
    {
      "cell_type": "code",
      "source": [
        "nums = [1,4,3,3,2]\n",
        "cur=1 # length of current subarray, min=1 so intialise with 1\n",
        "res=1 # length of max subarrays found, min=1 so intialise with 1\n",
        "inc=0 # tracks the status whether the previous subarray was inc(1) or dec(-1) or none(0)\n",
        "for i in range(len(nums)-1):\n",
        "    if nums[i]<nums[i+1]: #increasing Case\n",
        "        if inc==0 or inc<0: #previous subarray not increasing\n",
        "            cur=2 # since nums[i]<nums[i+1] are two elements\n",
        "            inc=1\n",
        "        else: #already increasing\n",
        "            cur+=1\n",
        "    elif nums[i]>nums[i+1]: #Decreasing Case\n",
        "        if inc==0 or inc>0: #previous subarray increasing\n",
        "            cur=2 # since nums[i]>nums[i+1] are two elements\n",
        "            inc=-1\n",
        "        else: #already decreasing\n",
        "            cur+=1\n",
        "    else: # same elements\n",
        "        cur=1 #length is 1\n",
        "        inc=0\n",
        "    res=max(res,cur)\n",
        "res"
      ],
      "metadata": {
        "colab": {
          "base_uri": "https://localhost:8080/"
        },
        "id": "z09Fmb83qAkM",
        "outputId": "b5cc1132-10fc-4ecf-ce7d-e13824ab16f4"
      },
      "execution_count": 3,
      "outputs": [
        {
          "output_type": "execute_result",
          "data": {
            "text/plain": [
              "2"
            ]
          },
          "metadata": {},
          "execution_count": 3
        }
      ]
    }
  ]
}
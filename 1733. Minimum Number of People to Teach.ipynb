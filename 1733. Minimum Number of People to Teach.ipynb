{
 "cells": [
  {
   "cell_type": "markdown",
   "id": "7b019ad1",
   "metadata": {},
   "source": [
    "# 1733. Minimum Number of People to Teach\n",
    "\n",
    "On a social network consisting of m users and some friendships between users, two users can communicate with each other if they know a common language.\n",
    "\n",
    "You are given an integer n, an array languages, and an array friendships where:\n",
    "\n",
    "There are n languages numbered 1 through n,\n",
    "languages[i] is the set of languages the i​​​​​​th​​​​ user knows, and\n",
    "friendships[i] = [u​​​​​​i​​​, v​​​​​​i] denotes a friendship between the users u​​​​​​​​​​​i​​​​​ and vi.\n",
    "You can choose one language and teach it to some users so that all friends can communicate with each other. Return the minimum number of users you need to teach.\n",
    "\n",
    "Note that friendships are not transitive, meaning if x is a friend of y and y is a friend of z, this doesn't guarantee that x is a friend of z.\n",
    " \n",
    "\n",
    "Example 1:\n",
    "\n",
    "Input: n = 2, languages = [[1],[2],[1,2]], friendships = [[1,2],[1,3],[2,3]]\n",
    "Output: 1\n",
    "Explanation: You can either teach user 1 the second language or user 2 the first language.\n",
    "Example 2:\n",
    "\n",
    "Input: n = 3, languages = [[2],[1,3],[1,2],[3]], friendships = [[1,4],[1,2],[3,4],[2,3]]\n",
    "Output: 2\n",
    "Explanation: Teach the third language to users 1 and 3, yielding two users to teach.\n",
    " \n",
    "\n",
    "Constraints:\n",
    "\n",
    "2 <= n <= 500\n",
    "languages.length == m\n",
    "1 <= m <= 500\n",
    "1 <= languages[i].length <= n\n",
    "1 <= languages[i][j] <= n\n",
    "1 <= u​​​​​​i < v​​​​​​i <= languages.length\n",
    "1 <= friendships.length <= 500\n",
    "All tuples (u​​​​​i, v​​​​​​i) are unique\n",
    "languages[i] contains only unique values"
   ]
  },
  {
   "cell_type": "markdown",
   "id": "eb294efa",
   "metadata": {},
   "source": [
    "# Solution:\n",
    "\n",
    "Greedy, Set"
   ]
  },
  {
   "cell_type": "code",
   "execution_count": 8,
   "id": "2a176dcf",
   "metadata": {},
   "outputs": [
    {
     "data": {
      "text/plain": [
       "2"
      ]
     },
     "execution_count": 8,
     "metadata": {},
     "output_type": "execute_result"
    }
   ],
   "source": [
    "n = 3; languages = [[2],[1,3],[1,2],[3]]; friendships = [[1,4],[1,2],[3,4],[2,3]]\n",
    "teach=set() # friend who needs to be taught a language to communicate\n",
    "for u,v in friendships:\n",
    "    if set(languages[u-1]).isdisjoint(set(languages[v-1])): # friends start from 1, while indices start from 0\n",
    "        teach.add(u)\n",
    "        teach.add(v)\n",
    "# find how many languages are known by the people to be taught\n",
    "lang_cnt=[0]*(n+1) # lang_cnt[i]= no. of incommunicable friends knowing the ith language\n",
    "for friend in teach:\n",
    "    for lang in languages[friend-1]:\n",
    "        lang_cnt[lang]+=1\n",
    "#find the max count of people knowing a particular language. If that language is taught to rest of the incommunicable friends that\n",
    "#dont know it, it will minimize the no. of people needed to teach\n",
    "len(teach)-max(lang_cnt)"
   ]
  },
  {
   "cell_type": "code",
   "execution_count": 4,
   "id": "9286ff06",
   "metadata": {},
   "outputs": [
    {
     "data": {
      "text/plain": [
       "{1, 2, 3, 4}"
      ]
     },
     "execution_count": 4,
     "metadata": {},
     "output_type": "execute_result"
    }
   ],
   "source": [
    "teach"
   ]
  }
 ],
 "metadata": {
  "kernelspec": {
   "display_name": "Python 3",
   "language": "python",
   "name": "python3"
  },
  "language_info": {
   "codemirror_mode": {
    "name": "ipython",
    "version": 3
   },
   "file_extension": ".py",
   "mimetype": "text/x-python",
   "name": "python",
   "nbconvert_exporter": "python",
   "pygments_lexer": "ipython3",
   "version": "3.10.9"
  }
 },
 "nbformat": 4,
 "nbformat_minor": 5
}

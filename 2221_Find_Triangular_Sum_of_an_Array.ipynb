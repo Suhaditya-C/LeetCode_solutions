{
  "nbformat": 4,
  "nbformat_minor": 0,
  "metadata": {
    "colab": {
      "provenance": [],
      "authorship_tag": "ABX9TyO5zKrnFJqAu58DvAhXxLIa",
      "include_colab_link": true
    },
    "kernelspec": {
      "name": "python3",
      "display_name": "Python 3"
    },
    "language_info": {
      "name": "python"
    }
  },
  "cells": [
    {
      "cell_type": "markdown",
      "metadata": {
        "id": "view-in-github",
        "colab_type": "text"
      },
      "source": [
        "<a href=\"https://colab.research.google.com/github/Suhaditya-C/LeetCode_solutions/blob/main/2221_Find_Triangular_Sum_of_an_Array.ipynb\" target=\"_parent\"><img src=\"https://colab.research.google.com/assets/colab-badge.svg\" alt=\"Open In Colab\"/></a>"
      ]
    },
    {
      "cell_type": "markdown",
      "source": [
        "# 2221. Find Triangular Sum of an Array\n",
        "\n",
        "You are given a 0-indexed integer array nums, where nums[i] is a digit between 0 and 9 (inclusive).\n",
        "\n",
        "The triangular sum of nums is the value of the only element present in nums after the following process terminates:\n",
        "\n",
        "Let nums comprise of n elements. If n == 1, end the process. Otherwise, create a new 0-indexed integer array newNums of length n - 1.\n",
        "For each index i, where 0 <= i < n - 1, assign the value of newNums[i] as (nums[i] + nums[i+1]) % 10, where % denotes modulo operator.\n",
        "Replace the array nums with newNums.\n",
        "Repeat the entire process starting from step 1.\n",
        "Return the triangular sum of nums.\n",
        "\n",
        "\n",
        "\n",
        "Example 1:\n",
        "\n",
        "\n",
        "Input: nums = [1,2,3,4,5]\n",
        "Output: 8\n",
        "Explanation:\n",
        "The above diagram depicts the process from which we obtain the triangular sum of the array.\n",
        "Example 2:\n",
        "\n",
        "Input: nums = [5]\n",
        "Output: 5\n",
        "Explanation:\n",
        "Since there is only one element in nums, the triangular sum is the value of that element itself.\n",
        "\n",
        "\n",
        "Constraints:\n",
        "\n",
        "1 <= nums.length <= 1000\n",
        "0 <= nums[i] <= 9"
      ],
      "metadata": {
        "id": "17UDW2-apiYm"
      }
    },
    {
      "cell_type": "markdown",
      "source": [
        "## Solution: Simulation"
      ],
      "metadata": {
        "id": "glL_kjIKpmUa"
      }
    },
    {
      "cell_type": "code",
      "execution_count": 2,
      "metadata": {
        "colab": {
          "base_uri": "https://localhost:8080/"
        },
        "id": "pEf0oueopd7f",
        "outputId": "2f1e97a3-c1e7-46b6-c044-f5dd291ebfd7"
      },
      "outputs": [
        {
          "output_type": "execute_result",
          "data": {
            "text/plain": [
              "8"
            ]
          },
          "metadata": {},
          "execution_count": 2
        }
      ],
      "source": [
        "from typing import List\n",
        "class Solution:\n",
        "    def triangularSum(self, nums: List[int]) -> int:\n",
        "        n=len(nums)\n",
        "\n",
        "        while n>1:\n",
        "            temp=[0]*(n-1)\n",
        "            for i in range(n-1):\n",
        "                temp[i]=(nums[i]+nums[i+1])%10\n",
        "            nums=temp\n",
        "            n-=1\n",
        "        return sum(nums)\n",
        "sol=Solution()\n",
        "sol.triangularSum(nums = [1,2,3,4,5])"
      ]
    }
  ]
}
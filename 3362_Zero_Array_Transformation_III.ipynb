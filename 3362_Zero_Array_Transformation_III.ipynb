{
  "nbformat": 4,
  "nbformat_minor": 0,
  "metadata": {
    "colab": {
      "provenance": [],
      "authorship_tag": "ABX9TyM3iSWJQfz88mcOn7RmsteC",
      "include_colab_link": true
    },
    "kernelspec": {
      "name": "python3",
      "display_name": "Python 3"
    },
    "language_info": {
      "name": "python"
    }
  },
  "cells": [
    {
      "cell_type": "markdown",
      "metadata": {
        "id": "view-in-github",
        "colab_type": "text"
      },
      "source": [
        "<a href=\"https://colab.research.google.com/github/Suhaditya-C/LeetCode_solutions/blob/main/3362_Zero_Array_Transformation_III.ipynb\" target=\"_parent\"><img src=\"https://colab.research.google.com/assets/colab-badge.svg\" alt=\"Open In Colab\"/></a>"
      ]
    },
    {
      "cell_type": "markdown",
      "source": [
        "# 3362. Zero Array Transformation III\n",
        "\n",
        "You are given an integer array nums of length n and a 2D array queries where queries[i] = [li, ri].\n",
        "\n",
        "Each queries[i] represents the following action on nums:\n",
        "\n",
        "Decrement the value at each index in the range [li, ri] in nums by at most 1.\n",
        "The amount by which the value is decremented can be chosen independently for each index.\n",
        "A Zero Array is an array with all its elements equal to 0.\n",
        "\n",
        "Return the maximum number of elements that can be removed from queries, such that nums can still be converted to a zero array using the remaining queries. If it is not possible to convert nums to a zero array, return -1.\n",
        "\n",
        "\n",
        "\n",
        "Example 1:\n",
        "\n",
        "Input: nums = [2,0,2], queries = [[0,2],[0,2],[1,1]]\n",
        "\n",
        "Output: 1\n",
        "\n",
        "Explanation:\n",
        "\n",
        "After removing queries[2], nums can still be converted to a zero array.\n",
        "\n",
        "Using queries[0], decrement nums[0] and nums[2] by 1 and nums[1] by 0.\n",
        "Using queries[1], decrement nums[0] and nums[2] by 1 and nums[1] by 0.\n",
        "Example 2:\n",
        "\n",
        "Input: nums = [1,1,1,1], queries = [[1,3],[0,2],[1,3],[1,2]]\n",
        "\n",
        "Output: 2\n",
        "\n",
        "Explanation:\n",
        "\n",
        "We can remove queries[2] and queries[3].\n",
        "\n",
        "Example 3:\n",
        "\n",
        "Input: nums = [1,2,3,4], queries = [[0,3]]\n",
        "\n",
        "Output: -1\n",
        "\n",
        "Explanation:\n",
        "\n",
        "nums cannot be converted to a zero array even after using all the queries.\n",
        "\n",
        "\n",
        "\n",
        "Constraints:\n",
        "\n",
        "1 <= nums.length <= 105\n",
        "0 <= nums[i] <= 105\n",
        "1 <= queries.length <= 105\n",
        "queries[i].length == 2\n",
        "0 <= li <= ri < nums.length"
      ],
      "metadata": {
        "id": "3ydnkTz0aIOK"
      }
    },
    {
      "cell_type": "markdown",
      "source": [
        "## Solution:\n",
        "greedy approach with priority queue"
      ],
      "metadata": {
        "id": "UPSyp8JEatZq"
      }
    },
    {
      "cell_type": "code",
      "source": [
        "import heapq"
      ],
      "metadata": {
        "id": "nQBeoBVGsCsF"
      },
      "execution_count": 7,
      "outputs": []
    },
    {
      "cell_type": "code",
      "execution_count": 18,
      "metadata": {
        "id": "thVYxnRTaA0w"
      },
      "outputs": [],
      "source": [
        "nums = [1,1,1,1]; queries = [[1,3],[0,2],[1,3],[1,2]]\n",
        "n=len(nums)"
      ]
    },
    {
      "cell_type": "code",
      "source": [
        "# Using del_arr (simulating the difference and prefix sum array) and greedy solution with heap\n",
        "ops=0\n",
        "del_arr=[0]*(n+1)\n",
        "queries.sort()\n",
        "j=0\n",
        "pq=[]\n",
        "flag=True\n",
        "for i, num in enumerate(nums):\n",
        "    ops+=del_arr[i] #Ops gets reduced at r+1 where the previous operations were applied upto r\n",
        "    # Push all queries starting at index i into heap\n",
        "    while j<len(queries) and queries[j][0]==i: #left end point of the query= current index\n",
        "        heapq.heappush(pq,-queries[j][1])\n",
        "        j+=1\n",
        "    # If current ops < needed, pull more queries from heap\n",
        "    while ops<num and pq and -pq[0]>=i:\n",
        "        ops+=1\n",
        "        # This query ends at right endpoint r, effect ends at r+1\n",
        "        r=-heapq.heappop(pq)\n",
        "        del_arr[r+1]-=1\n",
        "\n",
        "    # If not enough ops even after pulling all available, fail\n",
        "    if ops<num:\n",
        "        flag=False\n",
        "        break\n",
        "len(pq) if flag==True else -1"
      ],
      "metadata": {
        "colab": {
          "base_uri": "https://localhost:8080/"
        },
        "id": "7b3xAgoWb6zD",
        "outputId": "f5f2d399-365d-4afa-944d-a2155b87798b"
      },
      "execution_count": 17,
      "outputs": [
        {
          "output_type": "execute_result",
          "data": {
            "text/plain": [
              "2"
            ]
          },
          "metadata": {},
          "execution_count": 17
        }
      ]
    },
    {
      "cell_type": "markdown",
      "source": [
        "## Final Solution"
      ],
      "metadata": {
        "id": "WWSFPMxtvPEX"
      }
    },
    {
      "cell_type": "code",
      "source": [
        "queries"
      ],
      "metadata": {
        "colab": {
          "base_uri": "https://localhost:8080/"
        },
        "id": "irsweAEHsW1J",
        "outputId": "ed1b8317-c1fd-4325-fcac-5009555781d3"
      },
      "execution_count": 9,
      "outputs": [
        {
          "output_type": "execute_result",
          "data": {
            "text/plain": [
              "[[0, 2], [0, 2], [1, 1]]"
            ]
          },
          "metadata": {},
          "execution_count": 9
        }
      ]
    },
    {
      "cell_type": "code",
      "source": [
        "from typing import List\n",
        "class Solution:\n",
        "    def maxRemoval(self, nums: List[int], queries: List[List[int]]) -> int:\n",
        "        n=len(nums)\n",
        "        # Using del_arr (simulating the difference and prefix sum array) and greedy solution with heap\n",
        "        ops=0\n",
        "        del_arr=[0]*(n+1)\n",
        "        queries.sort()\n",
        "        j=0\n",
        "        pq=[]\n",
        "        flag=True\n",
        "        for i, num in enumerate(nums):\n",
        "            ops+=del_arr[i] #Ops gets reduced at r+1 where the previous operations were applied upto r\n",
        "            # Push all queries starting at index i into heap\n",
        "            while j<len(queries) and queries[j][0]==i: #left end point of the query= current index\n",
        "                heapq.heappush(pq,-queries[j][1])\n",
        "                j+=1\n",
        "            # If current ops < needed, pull more queries from heap\n",
        "            while ops<num and pq and -pq[0]>=i:\n",
        "                ops+=1\n",
        "                # This query ends at right endpoint r, effect ends at r+1\n",
        "                r=-heapq.heappop(pq)\n",
        "                del_arr[r+1]-=1\n",
        "\n",
        "            # If not enough ops even after pulling all available, fail\n",
        "            if ops<num:\n",
        "                return -1\n",
        "        return len(pq)\n",
        "sol=Solution()"
      ],
      "metadata": {
        "id": "fhkK7ApmsX3W"
      },
      "execution_count": 22,
      "outputs": []
    },
    {
      "cell_type": "code",
      "source": [
        "sol.maxRemoval(nums = [1,1,1,1], queries = [[1,3],[0,2],[1,3],[1,2]])"
      ],
      "metadata": {
        "colab": {
          "base_uri": "https://localhost:8080/"
        },
        "id": "bA-ExFF9vtu0",
        "outputId": "befad3a4-537b-43bc-f950-46d53a4a672b"
      },
      "execution_count": 23,
      "outputs": [
        {
          "output_type": "execute_result",
          "data": {
            "text/plain": [
              "2"
            ]
          },
          "metadata": {},
          "execution_count": 23
        }
      ]
    }
  ]
}
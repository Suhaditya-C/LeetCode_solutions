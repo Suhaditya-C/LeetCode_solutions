{
 "cells": [
  {
   "cell_type": "markdown",
   "id": "429c3e32",
   "metadata": {},
   "source": [
    "# 3446. Sort Matrix by Diagonals\n",
    "\n",
    "You are given an n x n square matrix of integers grid. Return the matrix such that:\n",
    "\n",
    "The diagonals in the bottom-left triangle (including the middle diagonal) are sorted in non-increasing order.\n",
    "The diagonals in the top-right triangle are sorted in non-decreasing order.\n",
    " \n",
    "\n",
    "Example 1:\n",
    "\n",
    "Input: grid = [[1,7,3],[9,8,2],[4,5,6]]\n",
    "\n",
    "Output: [[8,2,3],[9,6,7],[4,5,1]]\n",
    "\n",
    "Explanation:\n",
    "\n",
    "\n",
    "\n",
    "The diagonals with a black arrow (bottom-left triangle) should be sorted in non-increasing order:\n",
    "\n",
    "[1, 8, 6] becomes [8, 6, 1].\n",
    "[9, 5] and [4] remain unchanged.\n",
    "The diagonals with a blue arrow (top-right triangle) should be sorted in non-decreasing order:\n",
    "\n",
    "[7, 2] becomes [2, 7].\n",
    "[3] remains unchanged.\n",
    "Example 2:\n",
    "\n",
    "Input: grid = [[0,1],[1,2]]\n",
    "\n",
    "Output: [[2,1],[1,0]]\n",
    "\n",
    "Explanation:\n",
    "\n",
    "\n",
    "\n",
    "The diagonals with a black arrow must be non-increasing, so [0, 2] is changed to [2, 0]. The other diagonals are already in the correct order.\n",
    "\n",
    "Example 3:\n",
    "\n",
    "Input: grid = [[1]]\n",
    "\n",
    "Output: [[1]]\n",
    "\n",
    "Explanation:\n",
    "\n",
    "Diagonals with exactly one element are already in order, so no changes are needed."
   ]
  },
  {
   "cell_type": "markdown",
   "id": "7bbc973e",
   "metadata": {},
   "source": [
    "## Solution:"
   ]
  },
  {
   "cell_type": "code",
   "execution_count": null,
   "id": "6950a53b",
   "metadata": {},
   "outputs": [
    {
     "data": {
      "text/plain": [
       "[[8, 2, 3], [9, 6, 7], [4, 5, 1]]"
      ]
     },
     "execution_count": 8,
     "metadata": {},
     "output_type": "execute_result"
    }
   ],
   "source": [
    "grid = [[1,7,3],[9,8,2],[4,5,6]]\n",
    "m, n = len(grid), len(grid[0])                # Get number of rows and columns\n",
    "\n",
    "# traversing thru lower left triangle (including main diagonal)\n",
    "for i in range(m):                            # For each diagonal starting from row i, column 0\n",
    "    temp = []                                 # Temporary list to store diagonal elements\n",
    "    for j in range(n - i):                    # Traverse along the diagonal\n",
    "        temp.append(grid[i + j][j])           # Collect elements from (i+j, j)\n",
    "    temp.sort(reverse=True)                   # Sort diagonal in non-increasing order\n",
    "    for j in range(n - i):                    # Put sorted elements back into grid\n",
    "        grid[i + j][j] = temp[j]\n",
    "grid                                          # Show grid after sorting lower left diagonals\n",
    "\n",
    "# traversing thru upper right triangle (excluding main diagonal)\n",
    "for j in range(1, n):                         # For each diagonal starting from row 0, column j\n",
    "    temp = []                                 # Temporary list to store diagonal elements\n",
    "    for i in range(n - j):                    # Traverse along the diagonal\n",
    "        temp.append(grid[i][j + i])           # Collect elements from (i, j+i)\n",
    "    temp.sort()                               # Sort diagonal in non-decreasing order\n",
    "    for i in range(n - j):                    # Put sorted elements back into grid\n",
    "        grid[i][j + i] = temp[i]\n",
    "grid                                          # Show grid after sorting upper right diagonals"
   ]
  },
  {
   "cell_type": "code",
   "execution_count": 2,
   "id": "2b0249d9",
   "metadata": {},
   "outputs": [
    {
     "data": {
      "text/plain": [
       "(3, 3)"
      ]
     },
     "execution_count": 2,
     "metadata": {},
     "output_type": "execute_result"
    }
   ],
   "source": [
    "m,n"
   ]
  }
 ],
 "metadata": {
  "kernelspec": {
   "display_name": "Python 3",
   "language": "python",
   "name": "python3"
  },
  "language_info": {
   "codemirror_mode": {
    "name": "ipython",
    "version": 3
   },
   "file_extension": ".py",
   "mimetype": "text/x-python",
   "name": "python",
   "nbconvert_exporter": "python",
   "pygments_lexer": "ipython3",
   "version": "3.10.9"
  }
 },
 "nbformat": 4,
 "nbformat_minor": 5
}

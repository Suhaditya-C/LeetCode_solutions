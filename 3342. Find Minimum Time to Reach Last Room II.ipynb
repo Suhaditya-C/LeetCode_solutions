{
 "cells": [
  {
   "cell_type": "markdown",
   "id": "92d57dd5",
   "metadata": {},
   "source": [
    "# 3342. Find Minimum Time to Reach Last Room II\n",
    "\n",
    "There is a dungeon with n x m rooms arranged as a grid.\n",
    "\n",
    "You are given a 2D array moveTime of size n x m, where moveTime[i][j] represents the minimum time in seconds when you can start moving to that room. You start from the room (0, 0) at time t = 0 and can move to an adjacent room. Moving between adjacent rooms takes one second for one move and two seconds for the next, alternating between the two.\n",
    "\n",
    "Return the minimum time to reach the room (n - 1, m - 1).\n",
    "\n",
    "Two rooms are adjacent if they share a common wall, either horizontally or vertically.\n",
    "\n",
    " \n",
    "\n",
    "Example 1:\n",
    "\n",
    "Input: moveTime = [[0,4],[4,4]]\n",
    "\n",
    "Output: 7\n",
    "\n",
    "Explanation:\n",
    "\n",
    "The minimum time required is 7 seconds.\n",
    "\n",
    "At time t == 4, move from room (0, 0) to room (1, 0) in one second.\n",
    "At time t == 5, move from room (1, 0) to room (1, 1) in two seconds.\n",
    "Example 2:\n",
    "\n",
    "Input: moveTime = [[0,0,0,0],[0,0,0,0]]\n",
    "\n",
    "Output: 6\n",
    "\n",
    "Explanation:\n",
    "\n",
    "The minimum time required is 6 seconds.\n",
    "\n",
    "At time t == 0, move from room (0, 0) to room (1, 0) in one second.\n",
    "At time t == 1, move from room (1, 0) to room (1, 1) in two seconds.\n",
    "At time t == 3, move from room (1, 1) to room (1, 2) in one second.\n",
    "At time t == 4, move from room (1, 2) to room (1, 3) in two seconds.\n",
    "Example 3:\n",
    "\n",
    "Input: moveTime = [[0,1],[1,2]]\n",
    "\n",
    "Output: 4\n",
    "\n",
    " \n",
    "\n",
    "Constraints:\n",
    "\n",
    "2 <= n == moveTime.length <= 750\n",
    "2 <= m == moveTime[i].length <= 750\n",
    "0 <= moveTime[i][j] <= 109"
   ]
  },
  {
   "cell_type": "markdown",
   "id": "dc52a07a",
   "metadata": {},
   "source": [
    "## Solution: Dijkstra's algorithm with state\n",
    "origin is 0,0 i.e 1st move should take 1s to move to next cell.\n",
    "the next move will take  2s.\n",
    "We can use the sum of x and y coordinates as the state. i.e. even sum means move from that cell will take 1s take, otherwise 2s\n",
    "i.e (r+c)%2+1 s will be the time taken to move to next cell from (r,c) cell"
   ]
  },
  {
   "cell_type": "code",
   "execution_count": 1,
   "id": "8f83c323",
   "metadata": {},
   "outputs": [
    {
     "data": {
      "text/plain": [
       "4"
      ]
     },
     "execution_count": 1,
     "metadata": {},
     "output_type": "execute_result"
    }
   ],
   "source": [
    "import heapq\n",
    "moveTime = [[0,1],[1,2]]\n",
    "m=len(moveTime)\n",
    "n=len(moveTime[0])\n",
    "# Create a priority queue\n",
    "pq = []\n",
    "dir=[[0,1],[0,-1],[1,0],[-1,0]] #directions array: right,left,down,up\n",
    "#create a visited hashmap\n",
    "visited={}\n",
    "#initiate pq with t=0 and (0,0) as the source node\n",
    "heapq.heappush(pq,(0,0,0))\n",
    "visited[(0,0)]=0\n",
    "#Run BFS\n",
    "while pq:\n",
    "    t,r,c=heapq.heappop(pq)\n",
    "    #explore all directions\n",
    "    for d in dir:\n",
    "        nr=r+d[0]\n",
    "        nc=c+d[1]\n",
    "        #should be within bounds\n",
    "        if 0<=nr<m and 0<=nc<n:   \n",
    "            #skip if already visited\n",
    "            if (nr,nc) not in visited:\n",
    "                #Calculate time to visit\n",
    "                t_new=t+(r+c)%2+1+max(0,moveTime[nr][nc]-t)\n",
    "                #Push to queue\n",
    "                heapq.heappush(pq,(t_new,nr,nc))\n",
    "                #mark in visited\n",
    "                visited[(nr,nc)]=t_new\n",
    "visited[(m-1,n-1)]"
   ]
  }
 ],
 "metadata": {
  "kernelspec": {
   "display_name": "Python 3",
   "language": "python",
   "name": "python3"
  },
  "language_info": {
   "codemirror_mode": {
    "name": "ipython",
    "version": 3
   },
   "file_extension": ".py",
   "mimetype": "text/x-python",
   "name": "python",
   "nbconvert_exporter": "python",
   "pygments_lexer": "ipython3",
   "version": "3.12.4"
  }
 },
 "nbformat": 4,
 "nbformat_minor": 5
}

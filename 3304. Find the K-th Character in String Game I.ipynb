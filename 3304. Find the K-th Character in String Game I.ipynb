{
 "cells": [
  {
   "cell_type": "markdown",
   "id": "4a863f6b",
   "metadata": {},
   "source": [
    "# Find the K-th Character in String Game I\n",
    "\n",
    "Alice and Bob are playing a game. Initially, Alice has a string word = \"a\".\n",
    "\n",
    "You are given a positive integer k.\n",
    "\n",
    "Now Bob will ask Alice to perform the following operation forever:\n",
    "\n",
    "Generate a new string by changing each character in word to its next character in the English alphabet, and append it to the original word.\n",
    "For example, performing the operation on \"c\" generates \"cd\" and performing the operation on \"zb\" generates \"zbac\".\n",
    "\n",
    "Return the value of the kth character in word, after enough operations have been done for word to have at least k characters.\n",
    "\n",
    "Note that the character 'z' can be changed to 'a' in the operation.\n",
    "\n",
    " \n",
    "\n",
    "Example 1:\n",
    "\n",
    "Input: k = 5\n",
    "\n",
    "Output: \"b\"\n",
    "\n",
    "Explanation:\n",
    "\n",
    "Initially, word = \"a\". We need to do the operation three times:\n",
    "\n",
    "Generated string is \"b\", word becomes \"ab\".\n",
    "Generated string is \"bc\", word becomes \"abbc\".\n",
    "Generated string is \"bccd\", word becomes \"abbcbccd\".\n",
    "Example 2:\n",
    "\n",
    "Input: k = 10\n",
    "\n",
    "Output: \"c\"\n",
    "\n",
    " \n",
    "\n",
    "Constraints:\n",
    "\n",
    "1 <= k <= 500"
   ]
  },
  {
   "cell_type": "markdown",
   "id": "c978c5e0",
   "metadata": {},
   "source": [
    "## Solution:\n",
    "Simulate the operation"
   ]
  },
  {
   "cell_type": "code",
   "execution_count": 13,
   "id": "baeb73ea",
   "metadata": {},
   "outputs": [
    {
     "data": {
      "text/plain": [
       "'c'"
      ]
     },
     "execution_count": 13,
     "metadata": {},
     "output_type": "execute_result"
    }
   ],
   "source": [
    "k = 10\n",
    "word='a'\n",
    "i=0\n",
    "while len(word)<k:\n",
    "    for char in word:\n",
    "        next_char=chr(ord('a')+(ord(char)-ord('a')+1)%26)\n",
    "        word+=next_char\n",
    "word[k-1]"
   ]
  }
 ],
 "metadata": {
  "kernelspec": {
   "display_name": "Python 3",
   "language": "python",
   "name": "python3"
  },
  "language_info": {
   "codemirror_mode": {
    "name": "ipython",
    "version": 3
   },
   "file_extension": ".py",
   "mimetype": "text/x-python",
   "name": "python",
   "nbconvert_exporter": "python",
   "pygments_lexer": "ipython3",
   "version": "3.10.9"
  }
 },
 "nbformat": 4,
 "nbformat_minor": 5
}

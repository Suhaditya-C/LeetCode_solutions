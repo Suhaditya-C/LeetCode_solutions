{
  "nbformat": 4,
  "nbformat_minor": 0,
  "metadata": {
    "colab": {
      "provenance": [],
      "authorship_tag": "ABX9TyPLVecBp399zBOaSjdvfVuy",
      "include_colab_link": true
    },
    "kernelspec": {
      "name": "python3",
      "display_name": "Python 3"
    },
    "language_info": {
      "name": "python"
    }
  },
  "cells": [
    {
      "cell_type": "markdown",
      "metadata": {
        "id": "view-in-github",
        "colab_type": "text"
      },
      "source": [
        "<a href=\"https://colab.research.google.com/github/Suhaditya-C/LeetCode_solutions/blob/main/976_Largest_Perimeter_Triangle.ipynb\" target=\"_parent\"><img src=\"https://colab.research.google.com/assets/colab-badge.svg\" alt=\"Open In Colab\"/></a>"
      ]
    },
    {
      "cell_type": "markdown",
      "source": [
        "# 976. Largest Perimeter Triangle\n",
        "\n",
        "Given an integer array nums, return the largest perimeter of a triangle with a non-zero area, formed from three of these lengths. If it is impossible to form any triangle of a non-zero area, return 0.\n",
        "\n",
        "\n",
        "\n",
        "Example 1:\n",
        "\n",
        "Input: nums = [2,1,2]\n",
        "Output: 5\n",
        "Explanation: You can form a triangle with three side lengths: 1, 2, and 2.\n",
        "Example 2:\n",
        "\n",
        "Input: nums = [1,2,1,10]\n",
        "Output: 0\n",
        "Explanation:\n",
        "You cannot use the side lengths 1, 1, and 2 to form a triangle.\n",
        "You cannot use the side lengths 1, 1, and 10 to form a triangle.\n",
        "You cannot use the side lengths 1, 2, and 10 to form a triangle.\n",
        "As we cannot use any three side lengths to form a triangle of non-zero area, we return 0.\n",
        "\n",
        "\n",
        "Constraints:\n",
        "\n",
        "3 <= nums.length <= 104\n",
        "1 <= nums[i] <= 106"
      ],
      "metadata": {
        "id": "cww8oMA54Uzy"
      }
    },
    {
      "cell_type": "markdown",
      "source": [
        "## Solution: Sorting and finding the perimeter of the first valid triangle"
      ],
      "metadata": {
        "id": "9OKBNLnd4aAP"
      }
    },
    {
      "cell_type": "code",
      "execution_count": 4,
      "metadata": {
        "colab": {
          "base_uri": "https://localhost:8080/"
        },
        "id": "v3ESbk3B4TMw",
        "outputId": "ec5ace8b-365e-47a8-ed37-381f1e63ba57"
      },
      "outputs": [
        {
          "output_type": "execute_result",
          "data": {
            "text/plain": [
              "10"
            ]
          },
          "metadata": {},
          "execution_count": 4
        }
      ],
      "source": [
        "from typing import List\n",
        "class Solution:\n",
        "    def largestPerimeter(self, nums: List[int]) -> int:\n",
        "        nums.sort(reverse=True)\n",
        "\n",
        "        for i in range(len(nums)-2):\n",
        "            k=i+2 #side A: nums[i]\n",
        "            for j in range(i+1,len(nums)-1):\n",
        "                while k<len(nums):\n",
        "                    if nums[k]+nums[j]>nums[i]:\n",
        "                        return nums[i]+nums[j]+nums[k]\n",
        "                        break\n",
        "                    k+=1\n",
        "        return 0\n",
        "sol=Solution()\n",
        "sol.largestPerimeter(nums =[3,2,3,4])"
      ]
    },
    {
      "cell_type": "markdown",
      "source": [
        "## Alternate: Sorting and Sliding Window--> Faster and Efficient"
      ],
      "metadata": {
        "id": "epsu7TvRfVd1"
      }
    },
    {
      "cell_type": "code",
      "source": [
        "from typing import List\n",
        "class Solution:\n",
        "    def largestPerimeter(self, nums: List[int]) -> int:\n",
        "        nums.sort(reverse=True)\n",
        "\n",
        "        for i in range(2,len(nums)):\n",
        "            if nums[i]+nums[i-1]>nums[i-2]:\n",
        "                return nums[i]+nums[i-1]+nums[i-2]\n",
        "\n",
        "        return 0\n",
        "sol=Solution()\n",
        "sol.largestPerimeter(nums =[3,2,3,4])"
      ],
      "metadata": {
        "colab": {
          "base_uri": "https://localhost:8080/"
        },
        "id": "HK68daDE5Jis",
        "outputId": "a1d01b5d-5c8f-4a41-8858-4841c2811848"
      },
      "execution_count": 5,
      "outputs": [
        {
          "output_type": "execute_result",
          "data": {
            "text/plain": [
              "10"
            ]
          },
          "metadata": {},
          "execution_count": 5
        }
      ]
    }
  ]
}
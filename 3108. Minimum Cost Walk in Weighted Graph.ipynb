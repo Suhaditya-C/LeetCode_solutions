{
 "cells": [
  {
   "cell_type": "markdown",
   "id": "746d4848-fe96-4d7d-a4bd-552edd7aeec4",
   "metadata": {},
   "source": [
    "# 3108. Minimum Cost Walk in Weighted Graph\n",
    "\n",
    "There is an undirected weighted graph with n vertices labeled from 0 to n - 1.\n",
    "\n",
    "You are given the integer n and an array edges, where edges[i] = [ui, vi, wi] indicates that there is an edge between vertices ui and vi with a weight of wi.\n",
    "\n",
    "A walk on a graph is a sequence of vertices and edges. The walk starts and ends with a vertex, and each edge connects the vertex that comes before it and the vertex that comes after it. It's important to note that a walk may visit the same edge or vertex more than once.\n",
    "\n",
    "The cost of a walk starting at node u and ending at node v is defined as the bitwise AND of the weights of the edges traversed during the walk. In other words, if the sequence of edge weights encountered during the walk is w0, w1, w2, ..., wk, then the cost is calculated as w0 & w1 & w2 & ... & wk, where & denotes the bitwise AND operator.\n",
    "\n",
    "You are also given a 2D array query, where query[i] = [si, ti]. For each query, you need to find the minimum cost of the walk starting at vertex si and ending at vertex ti. If there exists no such walk, the answer is -1.\n",
    "\n",
    "Return the array answer, where answer[i] denotes the minimum cost of a walk for query i.\n",
    "\n",
    " \n",
    "\n",
    "Example 1:\n",
    "\n",
    "Input: n = 5, edges = [[0,1,7],[1,3,7],[1,2,1]], query = [[0,3],[3,4]]\n",
    "\n",
    "Output: [1,-1]\n",
    "\n",
    "Explanation:\n",
    "\n",
    "\n",
    "To achieve the cost of 1 in the first query, we need to move on the following edges: 0->1 (weight 7), 1->2 (weight 1), 2->1 (weight 1), 1->3 (weight 7).\n",
    "\n",
    "In the second query, there is no walk between nodes 3 and 4, so the answer is -1.\n",
    "\n",
    "Example 2:\n",
    "\n",
    "Input: n = 3, edges = [[0,2,7],[0,1,15],[1,2,6],[1,2,1]], query = [[1,2]]\n",
    "\n",
    "Output: [0]\n",
    "\n",
    "Explanation:\n",
    "\n",
    "\n",
    "To achieve the cost of 0 in the first query, we need to move on the following edges: 1->2 (weight 1), 2->1 (weight 6), 1->2 (weight 1).\n",
    "\n",
    " \n",
    "\n",
    "Constraints:\n",
    "\n",
    "2 <= n <= 105\n",
    "0 <= edges.length <= 105\n",
    "edges[i].length == 3\n",
    "0 <= ui, vi <= n - 1\n",
    "ui != vi\n",
    "0 <= wi <= 105\n",
    "1 <= query.length <= 105\n",
    "query[i].length == 2\n",
    "0 <= si, ti <= n - 1\n",
    "si != ti"
   ]
  },
  {
   "cell_type": "markdown",
   "id": "ea8ccb4b-2264-4219-88af-22e582f715d2",
   "metadata": {},
   "source": [
    "### Concept of Disjoint Set Union-rank method\n",
    "merge elements or a set of elements to a bigger set of elements. Rank is the no. of levels of connections the parent has."
   ]
  },
  {
   "cell_type": "markdown",
   "id": "86ca2d7f-5d2d-4891-91b1-a52d1ff15c2e",
   "metadata": {},
   "source": [
    "#### The idea is that m&n<=min(m,n) i.e. bitwise AND never increases the number. Since this is an undirected graph where multiple traversal is possible, best way of finding the answer is doing bitwise AND on all the connected components of the graph "
   ]
  },
  {
   "cell_type": "code",
   "execution_count": 6,
   "id": "627d5e56-fd2c-4ab8-86fe-de4ae8bb5c63",
   "metadata": {},
   "outputs": [],
   "source": [
    "n = 5; edges = [[0,1,7],[1,3,7],[1,2,1]]; query = [[0,3],[3,4]]\n",
    "\n",
    "    #intialise rank\n",
    "    rank=[0]*n\n",
    "    #initialise parent -- every element is a parent of itself at the beginning\n",
    "    parent=[i for i in range(0,n)]\n"
   ]
  },
  {
   "cell_type": "code",
   "execution_count": 7,
   "id": "b4a830b0-b01a-4d57-8ba7-80dc5204dd66",
   "metadata": {},
   "outputs": [],
   "source": [
    "\n",
    "#Function to find root parent node\n",
    "def find(node):\n",
    "    #stop if the parent node is the node itself\n",
    "    if node==parent[node]:\n",
    "        return node\n",
    "    #find the parent node using recursuion\n",
    "    parent[node]=find(parent[node]) #This is known as path compression\n",
    "    return parent[node]\n",
    "\n",
    "#Function to perform union--DSU\n",
    "def DSU(node1,node2):\n",
    "    # find root parents of the nodes\n",
    "    rootparent1=find(node1)\n",
    "    rootparent2=find(node2)\n",
    "    #Decide union of the root parents based on rank i.e. lower rank gets merged into higher rank\n",
    "    if rootparent1==rootparent2:\n",
    "        return # As the nodes are already the part of the same component\n",
    "    #compare ranks now if they are different components\n",
    "    if rank[rootparent1]>rank[rootparent2]:\n",
    "        parent[rootparent2]=rootparent1\n",
    "    elif rank[rootparent1]<rank[rootparent2]:\n",
    "        parent[rootparent1]=rootparent2\n",
    "    else: # if they are of same ranks, merge any one with another\n",
    "        parent[rootparent2]=rootparent1\n",
    "        rank[rootparent1]+=1 #the rank increases by one level"
   ]
  },
  {
   "cell_type": "code",
   "execution_count": 12,
   "id": "b44ddc8f-d17b-4681-b8e2-7abb1c4170ba",
   "metadata": {},
   "outputs": [
    {
     "name": "stdout",
     "output_type": "stream",
     "text": [
      "[0, 0, 0, 0, 4]\n",
      "[1, 0, 0, 0, 0]\n"
     ]
    }
   ],
   "source": [
    "# fill parent and rank arrays\n",
    "for edge in edges:\n",
    "    DSU(edge[0],edge[1])\n",
    "print(parent)\n",
    "print(rank)"
   ]
  },
  {
   "cell_type": "code",
   "execution_count": 32,
   "id": "d2f1c442-c9c7-43ff-aab8-1f85922345cf",
   "metadata": {},
   "outputs": [
    {
     "data": {
      "text/plain": [
       "{0: 1}"
      ]
     },
     "execution_count": 32,
     "metadata": {},
     "output_type": "execute_result"
    }
   ],
   "source": [
    "#Compute Cost --- Use dictionary:rootparent--->cost\n",
    "cost={}\n",
    "#Update cost of root parent by iterating through elements of same component having a root parent. if an element does not have the same root parent\n",
    "#it is separate and there is no path connected\n",
    "\n",
    "for edge in edges:\n",
    "    rootparent=find(edge[0])\n",
    "    if rootparent not in cost:\n",
    "        cost[rootparent]=edge[2]\n",
    "    else:\n",
    "        cost[rootparent]=cost[rootparent] & edge[2] #weight is in 2nd element\n",
    "cost"
   ]
  },
  {
   "cell_type": "code",
   "execution_count": 31,
   "id": "c5ff3e96-42ae-4cdd-a600-2a15334ad68f",
   "metadata": {},
   "outputs": [
    {
     "data": {
      "text/plain": [
       "[1, -1]"
      ]
     },
     "execution_count": 31,
     "metadata": {},
     "output_type": "execute_result"
    }
   ],
   "source": [
    "#Now taking care of the query part\n",
    "res=[]\n",
    "for q in query:\n",
    "    rootparent1=find(q[0])\n",
    "    rootparent2=find(q[1])\n",
    "    #Check if they both have the same root parents i.e they are connected or not\n",
    "    if rootparent1==rootparent2:\n",
    "        res.append(cost[rootparent1])\n",
    "    else: #if not connected return -1\n",
    "        res.append(-1)\n",
    "        \n",
    "res"
   ]
  },
  {
   "cell_type": "code",
   "execution_count": null,
   "id": "7344b36f-e10a-4d53-8125-607ff46572bb",
   "metadata": {},
   "outputs": [],
   "source": []
  }
 ],
 "metadata": {
  "kernelspec": {
   "display_name": "Python 3 (ipykernel)",
   "language": "python",
   "name": "python3"
  },
  "language_info": {
   "codemirror_mode": {
    "name": "ipython",
    "version": 3
   },
   "file_extension": ".py",
   "mimetype": "text/x-python",
   "name": "python",
   "nbconvert_exporter": "python",
   "pygments_lexer": "ipython3",
   "version": "3.12.4"
  }
 },
 "nbformat": 4,
 "nbformat_minor": 5
}

{
 "cells": [
  {
   "cell_type": "markdown",
   "id": "4653b6f2",
   "metadata": {},
   "source": [
    "# 3170. Lexicographically Minimum String After Removing Stars\n",
    "\n",
    "You are given a string s. It may contain any number of '*' characters. Your task is to remove all '*' characters.\n",
    "\n",
    "While there is a '*', do the following operation:\n",
    "\n",
    "Delete the leftmost '*' and the smallest non-'*' character to its left. If there are several smallest characters, you can delete any of them.\n",
    "Return the lexicographically smallest resulting string after removing all '*' characters.\n",
    "\n",
    " \n",
    "\n",
    "Example 1:\n",
    "\n",
    "Input: s = \"aaba*\"\n",
    "\n",
    "Output: \"aab\"\n",
    "\n",
    "Explanation:\n",
    "\n",
    "We should delete one of the 'a' characters with '*'. If we choose s[3], s becomes the lexicographically smallest.\n",
    "\n",
    "Example 2:\n",
    "\n",
    "Input: s = \"abc\"\n",
    "\n",
    "Output: \"abc\"\n",
    "\n",
    "Explanation:\n",
    "\n",
    "There is no '*' in the string.\n",
    "\n",
    " \n",
    "\n",
    "Constraints:\n",
    "\n",
    "1 <= s.length <= 105\n",
    "s consists only of lowercase English letters and '*'.\n",
    "The input is generated such that it is possible to delete all '*' characters."
   ]
  },
  {
   "cell_type": "markdown",
   "id": "01b0cf2b",
   "metadata": {},
   "source": [
    "## Solution"
   ]
  },
  {
   "cell_type": "code",
   "execution_count": 1,
   "id": "fb562e39",
   "metadata": {},
   "outputs": [],
   "source": [
    "import heapq "
   ]
  },
  {
   "cell_type": "code",
   "execution_count": 40,
   "id": "84388fb7",
   "metadata": {},
   "outputs": [
    {
     "data": {
      "text/plain": [
       "''"
      ]
     },
     "execution_count": 40,
     "metadata": {},
     "output_type": "execute_result"
    }
   ],
   "source": [
    "s = \"d*d*\"\n",
    "# Initialize sets to keep track of indices to be removed or starred\n",
    "star_idx, remove_idx = set(), set()\n",
    "res = ''  # This will store the final result\n",
    "q = []    # Priority queue (min-heap) to manage characters and their indices\n",
    "\n",
    "# Iterate through each character in the string\n",
    "for i in range(len(s)):\n",
    "    if s[i] == '*':\n",
    "        # When encountering a '*', add current index to star_idx\n",
    "        star_idx.add(i)\n",
    "        # The smallest character in the queue will be removed\n",
    "        # We store the index (converted back to positive) in remove_idx\n",
    "        remove_idx.add(-q[0][1]) \n",
    "        heapq.heappop(q)  # Remove the smallest character from the queue\n",
    "    else:\n",
    "        # For normal characters, push (character, negative index) to the heap\n",
    "        # Using negative index because heapq is a min-heap\n",
    "        heapq.heappush(q, (s[i], -i)) \n",
    "\n",
    "# Build the result string by including only characters not in star_idx or remove_idx\n",
    "for i in range(len(s)):\n",
    "    if i in star_idx or i in remove_idx:\n",
    "        continue  # Skip characters that are either starred or marked for removal\n",
    "    res += s[i]  \n",
    "\n",
    "res  # Return the final result "
   ]
  }
 ],
 "metadata": {
  "kernelspec": {
   "display_name": "base",
   "language": "python",
   "name": "python3"
  },
  "language_info": {
   "codemirror_mode": {
    "name": "ipython",
    "version": 3
   },
   "file_extension": ".py",
   "mimetype": "text/x-python",
   "name": "python",
   "nbconvert_exporter": "python",
   "pygments_lexer": "ipython3",
   "version": "3.12.7"
  }
 },
 "nbformat": 4,
 "nbformat_minor": 5
}

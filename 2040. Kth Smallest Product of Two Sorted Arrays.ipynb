{
 "cells": [
  {
   "cell_type": "markdown",
   "id": "44f3c25d",
   "metadata": {},
   "source": [
    "# 2040. Kth Smallest Product of Two Sorted Arrays\n",
    "\n",
    "Given two sorted 0-indexed integer arrays nums1 and nums2 as well as an integer k, return the kth (1-based) smallest product of nums1[i] * nums2[j] where 0 <= i < nums1.length and 0 <= j < nums2.length.\n",
    " \n",
    "\n",
    "Example 1:\n",
    "\n",
    "Input: nums1 = [2,5], nums2 = [3,4], k = 2\n",
    "Output: 8\n",
    "Explanation: The 2 smallest products are:\n",
    "- nums1[0] * nums2[0] = 2 * 3 = 6\n",
    "- nums1[0] * nums2[1] = 2 * 4 = 8\n",
    "The 2nd smallest product is 8.\n",
    "Example 2:\n",
    "\n",
    "Input: nums1 = [-4,-2,0,3], nums2 = [2,4], k = 6\n",
    "Output: 0\n",
    "Explanation: The 6 smallest products are:\n",
    "- nums1[0] * nums2[1] = (-4) * 4 = -16\n",
    "- nums1[0] * nums2[0] = (-4) * 2 = -8\n",
    "- nums1[1] * nums2[1] = (-2) * 4 = -8\n",
    "- nums1[1] * nums2[0] = (-2) * 2 = -4\n",
    "- nums1[2] * nums2[0] = 0 * 2 = 0\n",
    "- nums1[2] * nums2[1] = 0 * 4 = 0\n",
    "The 6th smallest product is 0.\n",
    "Example 3:\n",
    "\n",
    "Input: nums1 = [-2,-1,0,1,2], nums2 = [-3,-1,2,4,5], k = 3\n",
    "Output: -6\n",
    "Explanation: The 3 smallest products are:\n",
    "- nums1[0] * nums2[4] = (-2) * 5 = -10\n",
    "- nums1[0] * nums2[3] = (-2) * 4 = -8\n",
    "- nums1[4] * nums2[0] = 2 * (-3) = -6\n",
    "The 3rd smallest product is -6.\n",
    " \n",
    "\n",
    "Constraints:\n",
    "\n",
    "1 <= nums1.length, nums2.length <= 5 * 104\n",
    "-105 <= nums1[i], nums2[j] <= 105\n",
    "1 <= k <= nums1.length * nums2.length\n",
    "nums1 and nums2 are sorted."
   ]
  },
  {
   "cell_type": "markdown",
   "id": "a2313c5c",
   "metadata": {},
   "source": [
    "## Solution\n",
    "\n",
    "Binary Search and Binary Search: TLE"
   ]
  },
  {
   "cell_type": "code",
   "execution_count": 29,
   "id": "4eb4d8e9",
   "metadata": {},
   "outputs": [
    {
     "data": {
      "text/plain": [
       "0"
      ]
     },
     "execution_count": 29,
     "metadata": {},
     "output_type": "execute_result"
    }
   ],
   "source": [
    "nums1 = [-4,-2,0,3]; nums2 = [2,4]; k = 6\n",
    "l=-10**10\n",
    "r=10**10\n",
    "\n",
    "def countprod(target):\n",
    "    cnt=0\n",
    "    \n",
    "    for num in nums1:\n",
    "        low=0\n",
    "        high=len(nums2)-1\n",
    "        if num>0:\n",
    "            while low<=high:\n",
    "                mid=(low+high)//2\n",
    "                if num*nums2[mid]<=target:\n",
    "                    low=mid+1\n",
    "                else:\n",
    "                    high=mid-1\n",
    "            cnt+=low\n",
    "                 \n",
    "        elif num<0:\n",
    "            while low<=high:\n",
    "                mid=(low+high)//2\n",
    "                if num*nums2[mid]<=target:\n",
    "                    high=mid-1\n",
    "                else:\n",
    "                    low=mid+1\n",
    "            cnt+=len(nums2)-low\n",
    "        else:\n",
    "            if target>=0:\n",
    "                cnt+=len(nums2)\n",
    "            \n",
    "    return cnt\n",
    "\n",
    "while l<r:\n",
    "    mid=(l+r)//2\n",
    "    if countprod(mid)<k:\n",
    "        l=mid+1\n",
    "    else:\n",
    "        r=mid\n",
    "\n",
    "l\n",
    "    "
   ]
  },
  {
   "cell_type": "code",
   "execution_count": 9,
   "id": "fd07f504",
   "metadata": {},
   "outputs": [
    {
     "data": {
      "text/plain": [
       "7"
      ]
     },
     "execution_count": 9,
     "metadata": {},
     "output_type": "execute_result"
    }
   ],
   "source": [
    "countprod(100)"
   ]
  },
  {
   "cell_type": "markdown",
   "id": "0ecff30a",
   "metadata": {},
   "source": []
  }
 ],
 "metadata": {
  "kernelspec": {
   "display_name": "Python 3",
   "language": "python",
   "name": "python3"
  },
  "language_info": {
   "codemirror_mode": {
    "name": "ipython",
    "version": 3
   },
   "file_extension": ".py",
   "mimetype": "text/x-python",
   "name": "python",
   "nbconvert_exporter": "python",
   "pygments_lexer": "ipython3",
   "version": "3.10.9"
  }
 },
 "nbformat": 4,
 "nbformat_minor": 5
}

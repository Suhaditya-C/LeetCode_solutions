{
 "cells": [
  {
   "cell_type": "markdown",
   "id": "6c2e4428",
   "metadata": {},
   "source": [
    "# You are given an integer array nums.\n",
    "\n",
    "You are allowed to delete any number of elements from nums without making it empty. After performing the deletions, select a subarray of nums such that:\n",
    "\n",
    "All elements in the subarray are unique.\n",
    "The sum of the elements in the subarray is maximized.\n",
    "Return the maximum sum of such a subarray.\n",
    "\n",
    " \n",
    "\n",
    "Example 1:\n",
    "\n",
    "Input: nums = [1,2,3,4,5]\n",
    "\n",
    "Output: 15\n",
    "\n",
    "Explanation:\n",
    "\n",
    "Select the entire array without deleting any element to obtain the maximum sum.\n",
    "\n",
    "Example 2:\n",
    "\n",
    "Input: nums = [1,1,0,1,1]\n",
    "\n",
    "Output: 1\n",
    "\n",
    "Explanation:\n",
    "\n",
    "Delete the element nums[0] == 1, nums[1] == 1, nums[2] == 0, and nums[3] == 1. Select the entire array [1] to obtain the maximum sum.\n",
    "\n",
    "Example 3:\n",
    "\n",
    "Input: nums = [1,2,-1,-2,1,0,-1]\n",
    "\n",
    "Output: 3\n",
    "\n",
    "Explanation:\n",
    "\n",
    "Delete the elements nums[2] == -1 and nums[3] == -2, and select the subarray [2, 1] from [1, 2, 1, 0, -1] to obtain the maximum sum.\n",
    "\n",
    " \n",
    "\n",
    "Constraints:\n",
    "\n",
    "1 <= nums.length <= 100\n",
    "-100 <= nums[i] <= 100"
   ]
  },
  {
   "cell_type": "markdown",
   "id": "a105b11c",
   "metadata": {},
   "source": [
    "## Solution:\n",
    "Basically we have to select a subsequence which gives the maximum sum"
   ]
  },
  {
   "cell_type": "code",
   "execution_count": 5,
   "id": "ba66c9ed",
   "metadata": {},
   "outputs": [],
   "source": [
    "from typing import List\n",
    "class Solution:\n",
    "    def maxSum(self, nums: List[int]) -> int:\n",
    "        if max(nums)<0:\n",
    "            return max(nums)\n",
    "        res=0\n",
    "        unique=set(nums)\n",
    "        return sum(n for n in unique if n>0)"
   ]
  },
  {
   "cell_type": "code",
   "execution_count": 4,
   "id": "049fa7b5",
   "metadata": {},
   "outputs": [
    {
     "data": {
      "text/plain": [
       "3"
      ]
     },
     "execution_count": 4,
     "metadata": {},
     "output_type": "execute_result"
    }
   ],
   "source": [
    "sol=Solution()\n",
    "sol.maxSum([1,2,-1,-2,1,0,-1])"
   ]
  }
 ],
 "metadata": {
  "kernelspec": {
   "display_name": "Python 3",
   "language": "python",
   "name": "python3"
  },
  "language_info": {
   "codemirror_mode": {
    "name": "ipython",
    "version": 3
   },
   "file_extension": ".py",
   "mimetype": "text/x-python",
   "name": "python",
   "nbconvert_exporter": "python",
   "pygments_lexer": "ipython3",
   "version": "3.10.9"
  }
 },
 "nbformat": 4,
 "nbformat_minor": 5
}

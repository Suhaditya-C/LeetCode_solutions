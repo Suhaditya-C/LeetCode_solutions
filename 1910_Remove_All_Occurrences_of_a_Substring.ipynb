{
  "nbformat": 4,
  "nbformat_minor": 0,
  "metadata": {
    "colab": {
      "provenance": [],
      "authorship_tag": "ABX9TyM9+FBtUwWEOAn43ms/LX7W",
      "include_colab_link": true
    },
    "kernelspec": {
      "name": "python3",
      "display_name": "Python 3"
    },
    "language_info": {
      "name": "python"
    }
  },
  "cells": [
    {
      "cell_type": "markdown",
      "metadata": {
        "id": "view-in-github",
        "colab_type": "text"
      },
      "source": [
        "<a href=\"https://colab.research.google.com/github/Suhaditya-C/LeetCode_solutions/blob/main/1910_Remove_All_Occurrences_of_a_Substring.ipynb\" target=\"_parent\"><img src=\"https://colab.research.google.com/assets/colab-badge.svg\" alt=\"Open In Colab\"/></a>"
      ]
    },
    {
      "cell_type": "markdown",
      "source": [
        "## 1910. Remove All Occurrences of a Substring\n",
        "\n",
        "Given two strings s and part, perform the following operation on s until all occurrences of the substring part are removed:\n",
        "\n",
        "Find the leftmost occurrence of the substring part and remove it from s.\n",
        "Return s after removing all occurrences of part.\n",
        "\n",
        "A substring is a contiguous sequence of characters in a string.\n",
        "\n",
        "\n",
        "\n",
        "Example 1:\n",
        "\n",
        "Input: s = \"daabcbaabcbc\", part = \"abc\"\n",
        "Output: \"dab\"\n",
        "Explanation: The following operations are done:\n",
        "- s = \"daabcbaabcbc\", remove \"abc\" starting at index 2, so s = \"dabaabcbc\".\n",
        "- s = \"dabaabcbc\", remove \"abc\" starting at index 4, so s = \"dababc\".\n",
        "- s = \"dababc\", remove \"abc\" starting at index 3, so s = \"dab\".\n",
        "Now s has no occurrences of \"abc\".\n",
        "Example 2:\n",
        "\n",
        "Input: s = \"axxxxyyyyb\", part = \"xy\"\n",
        "Output: \"ab\"\n",
        "Explanation: The following operations are done:\n",
        "- s = \"axxxxyyyyb\", remove \"xy\" starting at index 4 so s = \"axxxyyyb\".\n",
        "- s = \"axxxyyyb\", remove \"xy\" starting at index 3 so s = \"axxyyb\".\n",
        "- s = \"axxyyb\", remove \"xy\" starting at index 2 so s = \"axyb\".\n",
        "- s = \"axyb\", remove \"xy\" starting at index 1 so s = \"ab\".\n",
        "Now s has no occurrences of \"xy\".\n",
        "\n",
        "\n",
        "Constraints:\n",
        "\n",
        "1 <= s.length <= 1000\n",
        "1 <= part.length <= 1000\n",
        "s​​​​​​ and part consists of lowercase English letters."
      ],
      "metadata": {
        "id": "eO84jHR8Ck4R"
      }
    },
    {
      "cell_type": "code",
      "source": [
        "s = \"axxxxyyyyb\"; part = \"xy\"\n",
        "res=[]\n",
        "for char in s:\n",
        "    res.append(char)\n",
        "    if len(res)>=len(part) and ''.join(res[-len(part):])==part:\n",
        "        del res[-len(part):]\n",
        "''.join(res)"
      ],
      "metadata": {
        "id": "90RrMbOz48EV",
        "colab": {
          "base_uri": "https://localhost:8080/",
          "height": 36
        },
        "outputId": "c65ae26c-9167-4d73-8bfa-d41591a4b71e"
      },
      "execution_count": 1,
      "outputs": [
        {
          "output_type": "execute_result",
          "data": {
            "text/plain": [
              "'ab'"
            ],
            "application/vnd.google.colaboratory.intrinsic+json": {
              "type": "string"
            }
          },
          "metadata": {},
          "execution_count": 1
        }
      ]
    },
    {
      "cell_type": "markdown",
      "source": [
        "Better Solution"
      ],
      "metadata": {
        "id": "2ZgAfYXaUOj7"
      }
    },
    {
      "cell_type": "code",
      "source": [
        "while part in s:\n",
        "    s=s.replace(part,'',1) #count: The maximum number of occurrences to replace. Here, it's set to 1, meaning it will only replace the first occurrence of part. Default value is -1 which replaces all occurences\n",
        "s"
      ],
      "metadata": {
        "id": "_R_lniuIaZoW",
        "colab": {
          "base_uri": "https://localhost:8080/",
          "height": 36
        },
        "outputId": "021dda7d-d388-471e-d02c-11c8bbc1c8d0"
      },
      "execution_count": 2,
      "outputs": [
        {
          "output_type": "execute_result",
          "data": {
            "text/plain": [
              "'ab'"
            ],
            "application/vnd.google.colaboratory.intrinsic+json": {
              "type": "string"
            }
          },
          "metadata": {},
          "execution_count": 2
        }
      ]
    },
    {
      "cell_type": "markdown",
      "source": [
        "Final Solution"
      ],
      "metadata": {
        "id": "KLfNFwaZC0fp"
      }
    },
    {
      "cell_type": "code",
      "source": [
        "class Solution:\n",
        "    def removeOccurrences(self, s: str, part: str) -> str:\n",
        "        while part in s:\n",
        "            s=s.replace(part,'',1) #count: The maximum number of occurrences to replace. Here, it's set to 1, meaning it will only replace the first occurrence of part. Default value is -1 which replaces all occurences\n",
        "        return s\n",
        "sol=Solution()\n",
        "res=sol.removeOccurrences(\"axxxxyyyyb\",\"xy\")\n",
        "res"
      ],
      "metadata": {
        "colab": {
          "base_uri": "https://localhost:8080/",
          "height": 36
        },
        "id": "hcKHDxHIC1s6",
        "outputId": "c9cf8540-aa5b-40f8-e56d-a785be699918"
      },
      "execution_count": 2,
      "outputs": [
        {
          "output_type": "execute_result",
          "data": {
            "text/plain": [
              "'ab'"
            ],
            "application/vnd.google.colaboratory.intrinsic+json": {
              "type": "string"
            }
          },
          "metadata": {},
          "execution_count": 2
        }
      ]
    }
  ]
}
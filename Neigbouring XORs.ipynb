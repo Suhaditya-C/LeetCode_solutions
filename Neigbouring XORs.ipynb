{
 "cells": [
  {
   "cell_type": "markdown",
   "metadata": {},
   "source": [
    "## 2683. Neighboring Bitwise XOR\n",
    "\n",
    "A 0-indexed array derived with length n is derived by computing the bitwise XOR (⊕) of adjacent values in a binary array original of length n.\n",
    "\n",
    "Specifically, for each index i in the range [0, n - 1]:\n",
    "\n",
    "If i = n - 1, then derived[i] = original[i] ⊕ original[0].\n",
    "Otherwise, derived[i] = original[i] ⊕ original[i + 1].\n",
    "Given an array derived, your task is to determine whether there exists a valid binary array original that could have formed derived.\n",
    "\n",
    "Return true if such an array exists or false otherwise.\n",
    "\n",
    "A binary array is an array containing only 0's and 1's\n",
    " \n",
    "\n",
    "Example 1:\n",
    "\n",
    "Input: derived = [1,1,0]\n",
    "Output: true\n",
    "Explanation: A valid original array that gives derived is [0,1,0].\n",
    "derived[0] = original[0] ⊕ original[1] = 0 ⊕ 1 = 1 \n",
    "derived[1] = original[1] ⊕ original[2] = 1 ⊕ 0 = 1\n",
    "derived[2] = original[2] ⊕ original[0] = 0 ⊕ 0 = 0\n",
    "Example 2:\n",
    "\n",
    "Input: derived = [1,1]\n",
    "Output: true\n",
    "Explanation: A valid original array that gives derived is [0,1].\n",
    "derived[0] = original[0] ⊕ original[1] = 1\n",
    "derived[1] = original[1] ⊕ original[0] = 1\n",
    "Example 3:\n",
    "\n",
    "Input: derived = [1,0]\n",
    "Output: false\n",
    "Explanation: There is no valid original array that gives derived.\n",
    " \n",
    "\n",
    "Constraints:\n",
    "\n",
    "n == derived.length\n",
    "1 <= n <= 105\n",
    "The values in derived are either 0's or 1's"
   ]
  },
  {
   "cell_type": "code",
   "execution_count": null,
   "metadata": {},
   "outputs": [],
   "source": [
    "derived = [1,1,0]\n",
    "res=[0]*(len(derived)+1)\n",
    "for i in range(len(derived)):\n",
    "  if derived[i]:\n",
    "    res[i+1]=res[i]^1\n",
    "  else:\n",
    "    res[i+1]=res[i]\n",
    "res[0]==res[-1]\n"
   ]
  },
  {
   "cell_type": "markdown",
   "metadata": {},
   "source": [
    "Final Solution"
   ]
  },
  {
   "cell_type": "code",
   "execution_count": null,
   "metadata": {},
   "outputs": [],
   "source": [
    "class Solution:\n",
    "    def doesValidArrayExist(self, derived: List[int]) -> bool:\n",
    "      res=[0]*(len(derived)+1)\n",
    "      for i in range(len(derived)):\n",
    "        if derived[i]:\n",
    "          res[i+1]=res[i]^1\n",
    "        else:\n",
    "          res[i+1]=res[i]\n",
    "      return res[0]==res[-1]"
   ]
  }
 ],
 "metadata": {
  "language_info": {
   "name": "python"
  }
 },
 "nbformat": 4,
 "nbformat_minor": 2
}

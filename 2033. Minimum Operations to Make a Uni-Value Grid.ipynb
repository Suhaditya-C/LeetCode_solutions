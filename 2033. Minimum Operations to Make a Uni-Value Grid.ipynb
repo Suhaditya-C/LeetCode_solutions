{
 "cells": [
  {
   "attachments": {
    "3da0a4ff-2530-4520-9630-0e9be0fff1a0.png": {
     "image/png": "[encoded data removed]"
    },
    "6328e2d0-89ce-4872-a170-231076c66c53.png": {
     "image/png": "[encoded data removed]"
    },
    "958edb3c-8a0d-42a4-ae5b-32ebf26bfcd7.png": {
     "image/png": "[encoded data removed]"
    },
    "9d0c9226-075a-4c32-b75e-46f002983a1e.png": {
     "image/png": "[encoded data removed]"
    },
    "c5cb6798-8122-427d-88c5-f078c6036d51.png": {
     "image/png": "[encoded data removed]"
    },
    "cf8e759d-c889-4060-a03a-979344f4c621.png": {
     "image/png": "[encoded data removed]"
    }
   },
   "cell_type": "markdown",
   "id": "f24498a9-8138-4738-a6b1-11e8789cb2f7",
   "metadata": {},
   "source": [
    "# 2033. Minimum Operations to Make a Uni-Value Grid\n",
    "\n",
    "You are given a 2D integer grid of size m x n and an integer x. In one operation, you can add x to or subtract x from any element in the grid.\n",
    "\n",
    "A uni-value grid is a grid where all the elements of it are equal.\n",
    "\n",
    "Return the minimum number of operations to make the grid uni-value. If it is not possible, return -1.\n",
    "\n",
    "Example 1:\n",
    "\n",
    "![image.png](attachment:cf8e759d-c889-4060-a03a-979344f4c621.png)![image.png](attachment:6328e2d0-89ce-4872-a170-231076c66c53.png)\n",
    "\n",
    "Input: grid = [[2,4],[6,8]], x = 2\n",
    "Output: 4\n",
    "Explanation: We can make every element equal to 4 by doing the following: \n",
    "- Add x to 2 once.\n",
    "- Subtract x from 6 once.\n",
    "- Subtract x from 8 twice.\n",
    "A total of 4 operations were used.\n",
    "Example 2:\n",
    "\n",
    "![image.png](attachment:3da0a4ff-2530-4520-9630-0e9be0fff1a0.png)![image.png](attachment:9d0c9226-075a-4c32-b75e-46f002983a1e.png)\n",
    "\n",
    "Input: grid = [[1,5],[2,3]], x = 1\n",
    "Output: 5\n",
    "Explanation: We can make every element equal to 3.\n",
    "Example 3:\n",
    "\n",
    "![image.png](attachment:c5cb6798-8122-427d-88c5-f078c6036d51.png)![image.png](attachment:958edb3c-8a0d-42a4-ae5b-32ebf26bfcd7.png)\n",
    "\n",
    "Input: grid = [[1,2],[3,4]], x = 2\n",
    "Output: -1\n",
    "Explanation: It is impossible to make every element equal.\n",
    " \n",
    "\n",
    "Constraints:\n",
    "\n",
    "m == grid.length\n",
    "n == grid[i].length\n",
    "1 <= m, n <= 105\n",
    "1 <= m * n <= 105\n",
    "1 <= x, grid[i][j] <= 104"
   ]
  },
  {
   "cell_type": "markdown",
   "id": "2edd303d-57af-42e3-afd9-2f7b541fda77",
   "metadata": {},
   "source": [
    "## Solution:\n",
    "\n",
    "#### Logic: if the numbers have same remainder when divided by x, they can be converted to the same number by addition/division. The min number of operations is when the target (to which all numbers will be converted) is in the middle of the sorted array"
   ]
  },
  {
   "cell_type": "code",
   "execution_count": 15,
   "id": "71b8c212-976d-4324-a9c6-4e9f274eea59",
   "metadata": {},
   "outputs": [],
   "source": [
    "grid = [[146]]; x = 86\n",
    "res=0\n",
    "flag=True\n",
    "rem=grid[0][0]%x\n",
    "arr=[]\n",
    "for i in range(len(grid)):\n",
    "    for j in range(len(grid[0])):\n",
    "        if grid[i][j]%x!=rem:\n",
    "            flag=False    \n",
    "        arr.append(grid[i][j])\n",
    "arr.sort()"
   ]
  },
  {
   "cell_type": "code",
   "execution_count": 16,
   "id": "f85d0383-65b5-4ffc-af43-a549a9740a02",
   "metadata": {},
   "outputs": [
    {
     "data": {
      "text/plain": [
       "146"
      ]
     },
     "execution_count": 16,
     "metadata": {},
     "output_type": "execute_result"
    }
   ],
   "source": [
    "n=len(arr)\n",
    "target=arr[(n+1)//2-1]\n",
    "target"
   ]
  },
  {
   "cell_type": "code",
   "execution_count": 17,
   "id": "834bd65b-10e2-4f4e-8b81-e59306ce1a95",
   "metadata": {},
   "outputs": [
    {
     "data": {
      "text/plain": [
       "0"
      ]
     },
     "execution_count": 17,
     "metadata": {},
     "output_type": "execute_result"
    }
   ],
   "source": [
    "for num in arr:\n",
    "    res+=abs(num-target)//x\n",
    "res if flag else -1"
   ]
  },
  {
   "cell_type": "markdown",
   "id": "a9a25dd1-bd2f-4787-bf74-d48b43ad530b",
   "metadata": {},
   "source": [
    "## Final Solution"
   ]
  },
  {
   "cell_type": "code",
   "execution_count": 20,
   "id": "63e69632-8a1c-422a-825d-0c05926e8849",
   "metadata": {},
   "outputs": [
    {
     "data": {
      "text/plain": [
       "5"
      ]
     },
     "execution_count": 20,
     "metadata": {},
     "output_type": "execute_result"
    }
   ],
   "source": [
    "grid =[[1,5],[2,3]]; x = 1\n",
    "res=0\n",
    "flag=True\n",
    "rem=grid[0][0]%x\n",
    "arr=[]\n",
    "for i in range(len(grid)):\n",
    "    for j in range(len(grid[0])):\n",
    "        if grid[i][j]%x!=rem:\n",
    "            flag=False    \n",
    "        arr.append(grid[i][j])\n",
    "arr.sort()\n",
    "n=len(arr)\n",
    "target=arr[(n+1)//2-1]\n",
    "target\n",
    "for num in arr:\n",
    "    res+=abs(num-target)//x\n",
    "res if flag else -1"
   ]
  }
 ],
 "metadata": {
  "kernelspec": {
   "display_name": "Python 3 (ipykernel)",
   "language": "python",
   "name": "python3"
  },
  "language_info": {
   "codemirror_mode": {
    "name": "ipython",
    "version": 3
   },
   "file_extension": ".py",
   "mimetype": "text/x-python",
   "name": "python",
   "nbconvert_exporter": "python",
   "pygments_lexer": "ipython3",
   "version": "3.12.4"
  }
 },
 "nbformat": 4,
 "nbformat_minor": 5
}

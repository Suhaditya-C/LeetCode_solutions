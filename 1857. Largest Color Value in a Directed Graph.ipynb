{
 "cells": [
  {
   "attachments": {
    "image-2.png": {
     "image/png": "[encoded data removed]"
    },
    "image.png": {
     "image/png": "[encoded data removed]"
    }
   },
   "cell_type": "markdown",
   "id": "068cee1e",
   "metadata": {},
   "source": [
    "# 1857. Largest Color Value in a Directed Graph\n",
    "\n",
    "There is a directed graph of n colored nodes and m edges. The nodes are numbered from 0 to n - 1.\n",
    "\n",
    "You are given a string colors where colors[i] is a lowercase English letter representing the color of the ith node in this graph (0-indexed). You are also given a 2D array edges where edges[j] = [aj, bj] indicates that there is a directed edge from node aj to node bj.\n",
    "\n",
    "A valid path in the graph is a sequence of nodes x1 -> x2 -> x3 -> ... -> xk such that there is a directed edge from xi to xi+1 for every 1 <= i < k. The color value of the path is the number of nodes that are colored the most frequently occurring color along that path.\n",
    "\n",
    "Return the largest color value of any valid path in the given graph, or -1 if the graph contains a cycle.\n",
    "\n",
    " \n",
    "\n",
    "Example 1:\n",
    "\n",
    "![image.png](attachment:image.png)\n",
    "\n",
    "\n",
    "Input: colors = \"abaca\", edges = [[0,1],[0,2],[2,3],[3,4]]\n",
    "Output: 3\n",
    "Explanation: The path 0 -> 2 -> 3 -> 4 contains 3 nodes that are colored \"a\" (red in the above image).\n",
    "\n",
    "Example 2:\n",
    "\n",
    "![image-2.png](attachment:image-2.png)\n",
    "\n",
    "\n",
    "Input: colors = \"a\", edges = [[0,0]]\n",
    "Output: -1\n",
    "Explanation: There is a cycle from 0 to 0.\n",
    " \n",
    "\n",
    "Constraints:\n",
    "\n",
    "n == colors.length\n",
    "m == edges.length\n",
    "1 <= n <= 105\n",
    "0 <= m <= 105\n",
    "colors consists of lowercase English letters.\n",
    "0 <= aj, bj < n"
   ]
  },
  {
   "cell_type": "markdown",
   "id": "dca8db99",
   "metadata": {},
   "source": [
    "## Solution: DFS to track max count of each colour in all paths that are starting at each cell"
   ]
  },
  {
   "cell_type": "code",
   "execution_count": 14,
   "id": "763c51bf",
   "metadata": {},
   "outputs": [
    {
     "data": {
      "text/plain": [
       "defaultdict(list, {0: [1, 2], 2: [3], 3: [4]})"
      ]
     },
     "execution_count": 14,
     "metadata": {},
     "output_type": "execute_result"
    }
   ],
   "source": [
    "colors = \"abaca\"; edges = [[0,1],[0,2],[2,3],[3,4]]\n",
    "from collections import defaultdict\n",
    "INF= float('inf')\n",
    "n=len(colors)\n",
    "#Create adjacency list\n",
    "adj = defaultdict(list)\n",
    "for u,v in edges:\n",
    "    adj[u].append(v)\n",
    "adj"
   ]
  },
  {
   "cell_type": "code",
   "execution_count": 18,
   "id": "df14cfec",
   "metadata": {},
   "outputs": [],
   "source": [
    "#Defining color count tracking\n",
    "count=[[0]*26 for _ in range(n)]\n",
    "vis=[0]*n\n",
    "#DFS\n",
    "def dfs(node):\n",
    "    if vis[node]==1: #Cycle detected\n",
    "        return INF\n",
    "    if vis[node]==2: #Already visited\n",
    "        return count[node][ord(colors[node])-ord('a')]\n",
    "    #mark visiting\n",
    "    vis[node]=1\n",
    "    for nxt in adj[node]:\n",
    "        res=dfs(nxt)\n",
    "        if res==INF:\n",
    "            return INF\n",
    "        #Update colour count of path starting from that node\n",
    "        for c in range(26):\n",
    "            count[node][c]=max(count[node][c],count[nxt][c])\n",
    "    #Update color count of that node\n",
    "    col=ord(colors[node])-ord('a')\n",
    "    count[node][col]+=1\n",
    "    vis[node]=2 #mark visited\n",
    "\n",
    "    return count[node][col]\n"
   ]
  },
  {
   "cell_type": "code",
   "execution_count": 19,
   "id": "3f806808",
   "metadata": {},
   "outputs": [
    {
     "data": {
      "text/plain": [
       "3"
      ]
     },
     "execution_count": 19,
     "metadata": {},
     "output_type": "execute_result"
    }
   ],
   "source": [
    "sol=0\n",
    "for i in range(n):\n",
    "    if dfs(i)==INF:\n",
    "        sol= -1 #Graph contains a cycle\n",
    "        break\n",
    "    sol=max(sol,dfs(i))\n",
    "sol"
   ]
  },
  {
   "cell_type": "markdown",
   "id": "6a806c4c",
   "metadata": {},
   "source": [
    "## Final Solution"
   ]
  },
  {
   "cell_type": "code",
   "execution_count": 20,
   "id": "41760443",
   "metadata": {},
   "outputs": [
    {
     "data": {
      "text/plain": [
       "3"
      ]
     },
     "execution_count": 20,
     "metadata": {},
     "output_type": "execute_result"
    }
   ],
   "source": [
    "colors = \"abaca\"; edges = [[0,1],[0,2],[2,3],[3,4]]\n",
    "from collections import defaultdict\n",
    "INF= float('inf')\n",
    "n=len(colors)\n",
    "#Create adjacency list\n",
    "adj = defaultdict(list)\n",
    "for u,v in edges:\n",
    "    adj[u].append(v)\n",
    "adj\n",
    "\n",
    "\n",
    "#Defining color count tracking\n",
    "count=[[0]*26 for _ in range(n)]\n",
    "vis=[0]*n\n",
    "#DFS\n",
    "def dfs(node):\n",
    "    if vis[node]==1: #Cycle detected\n",
    "        return INF\n",
    "    if vis[node]==2: #Already visited\n",
    "        return count[node][ord(colors[node])-ord('a')]\n",
    "    #mark visiting\n",
    "    vis[node]=1\n",
    "    for nxt in adj[node]:\n",
    "        res=dfs(nxt)\n",
    "        if res==INF:\n",
    "            return INF\n",
    "        #Update colour count of path starting from that node\n",
    "        for c in range(26):\n",
    "            count[node][c]=max(count[node][c],count[nxt][c])\n",
    "    #Update color count of that node\n",
    "    col=ord(colors[node])-ord('a')\n",
    "    count[node][col]+=1\n",
    "    vis[node]=2 #mark visited\n",
    "\n",
    "    return count[node][col]\n",
    "\n",
    "sol=0\n",
    "for i in range(n):\n",
    "    if dfs(i)==INF:\n",
    "        sol= -1 #Graph contains a cycle\n",
    "        break\n",
    "    sol=max(sol,dfs(i))\n",
    "sol\n"
   ]
  }
 ],
 "metadata": {
  "kernelspec": {
   "display_name": "base",
   "language": "python",
   "name": "python3"
  },
  "language_info": {
   "codemirror_mode": {
    "name": "ipython",
    "version": 3
   },
   "file_extension": ".py",
   "mimetype": "text/x-python",
   "name": "python",
   "nbconvert_exporter": "python",
   "pygments_lexer": "ipython3",
   "version": "3.12.7"
  }
 },
 "nbformat": 4,
 "nbformat_minor": 5
}

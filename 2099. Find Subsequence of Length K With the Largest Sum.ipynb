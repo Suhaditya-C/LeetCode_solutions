{
 "cells": [
  {
   "cell_type": "markdown",
   "id": "ae900a22",
   "metadata": {},
   "source": [
    "# Find Subsequence of Length K With the Largest Sum\n",
    "\n",
    "You are given an integer array nums and an integer k. You want to find a subsequence of nums of length k that has the largest sum.\n",
    "\n",
    "Return any such subsequence as an integer array of length k.\n",
    "\n",
    "A subsequence is an array that can be derived from another array by deleting some or no elements without changing the order of the remaining elements.\n",
    "\n",
    " \n",
    "\n",
    "Example 1:\n",
    "\n",
    "Input: nums = [2,1,3,3], k = 2\n",
    "Output: [3,3]\n",
    "Explanation:\n",
    "The subsequence has the largest sum of 3 + 3 = 6.\n",
    "Example 2:\n",
    "\n",
    "Input: nums = [-1,-2,3,4], k = 3\n",
    "Output: [-1,3,4]\n",
    "Explanation: \n",
    "The subsequence has the largest sum of -1 + 3 + 4 = 6.\n",
    "Example 3:\n",
    "\n",
    "Input: nums = [3,4,3,3], k = 2\n",
    "Output: [3,4]\n",
    "Explanation:\n",
    "The subsequence has the largest sum of 3 + 4 = 7. \n",
    "Another possible subsequence is [4, 3].\n",
    " \n",
    "\n",
    "Constraints:\n",
    "\n",
    "1 <= nums.length <= 1000\n",
    "-105 <= nums[i] <= 105\n",
    "1 <= k <= nums.length"
   ]
  },
  {
   "cell_type": "markdown",
   "id": "6d0b4723",
   "metadata": {},
   "source": [
    "## Solution\n"
   ]
  },
  {
   "cell_type": "code",
   "execution_count": 28,
   "id": "a9796235",
   "metadata": {},
   "outputs": [
    {
     "name": "stdout",
     "output_type": "stream",
     "text": [
      "[63, 61, -17, -55, -59, -10, 2, -60, -65]\n"
     ]
    }
   ],
   "source": [
    "nums = [63,-74,61,-17,-55,-59,-10,2,-60,-65]; k = 9\n",
    "import heapq\n",
    "q=[]\n",
    "res=[]\n",
    "for i in range(len(nums)):\n",
    "    heapq.heappush(q,(-nums[i],i))\n",
    "\n",
    "# Extract top k elements (with highest values)\n",
    "top_k = [heapq.heappop(q) for _ in range(k)]\n",
    "\n",
    "# Sort those k elements based on index\n",
    "top_k_sorted_by_index = sorted(top_k, key=lambda x: x[1])\n",
    "\n",
    "# Extract values and convert back to positive\n",
    "res = [-val for val, idx in top_k_sorted_by_index]\n",
    "print(res)"
   ]
  }
 ],
 "metadata": {
  "kernelspec": {
   "display_name": "Python 3",
   "language": "python",
   "name": "python3"
  },
  "language_info": {
   "codemirror_mode": {
    "name": "ipython",
    "version": 3
   },
   "file_extension": ".py",
   "mimetype": "text/x-python",
   "name": "python",
   "nbconvert_exporter": "python",
   "pygments_lexer": "ipython3",
   "version": "3.10.9"
  }
 },
 "nbformat": 4,
 "nbformat_minor": 5
}

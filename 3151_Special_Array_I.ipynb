{
  "nbformat": 4,
  "nbformat_minor": 0,
  "metadata": {
    "colab": {
      "provenance": [],
      "authorship_tag": "ABX9TyO0vqLhvvutLjgfSOqmJnEP",
      "include_colab_link": true
    },
    "kernelspec": {
      "name": "python3",
      "display_name": "Python 3"
    },
    "language_info": {
      "name": "python"
    }
  },
  "cells": [
    {
      "cell_type": "markdown",
      "metadata": {
        "id": "view-in-github",
        "colab_type": "text"
      },
      "source": [
        "<a href=\"https://colab.research.google.com/github/Suhaditya-C/LeetCode_solutions/blob/main/3151_Special_Array_I.ipynb\" target=\"_parent\"><img src=\"https://colab.research.google.com/assets/colab-badge.svg\" alt=\"Open In Colab\"/></a>"
      ]
    },
    {
      "cell_type": "markdown",
      "source": [
        "## 3151. Special Array I\n",
        "\n",
        "An array is considered special if every pair of its adjacent elements contains two numbers with different parity.\n",
        "\n",
        "You are given an array of integers nums. Return true if nums is a special array, otherwise, return false.\n",
        "\n",
        "\n",
        "\n",
        "Example 1:\n",
        "\n",
        "Input: nums = [1]\n",
        "\n",
        "Output: true\n",
        "\n",
        "Explanation:\n",
        "\n",
        "There is only one element. So the answer is true.\n",
        "\n",
        "Example 2:\n",
        "\n",
        "Input: nums = [2,1,4]\n",
        "\n",
        "Output: true\n",
        "\n",
        "Explanation:\n",
        "\n",
        "There is only two pairs: (2,1) and (1,4), and both of them contain numbers with different parity. So the answer is true.\n",
        "\n",
        "Example 3:\n",
        "\n",
        "Input: nums = [4,3,1,6]\n",
        "\n",
        "Output: false\n",
        "\n",
        "Explanation:\n",
        "\n",
        "nums[1] and nums[2] are both odd. So the answer is false.\n",
        "\n",
        "\n",
        "\n",
        "Constraints:\n",
        "\n",
        "1 <= nums.length <= 100\n",
        "1 <= nums[i] <= 100\n"
      ],
      "metadata": {
        "id": "tJirpMWc64UD"
      }
    },
    {
      "cell_type": "code",
      "source": [
        "nums = [4,3,1,6]\n",
        "for i in range(len(nums)-1):\n",
        "    if (nums[i]%2==0 and nums[i+1]%2==0) or (nums[i]%2!=0 and nums[i+1]%2!=0):\n",
        "        print(False)\n",
        "        break\n",
        "print(True if i==len(nums)-2 else \"\")"
      ],
      "metadata": {
        "id": "JaAcUIfqB0MM",
        "colab": {
          "base_uri": "https://localhost:8080/"
        },
        "outputId": "e73fe2d8-45c2-4fa3-d19e-5d7fd00c3a76"
      },
      "execution_count": 1,
      "outputs": [
        {
          "output_type": "stream",
          "name": "stdout",
          "text": [
            "False\n",
            "\n"
          ]
        }
      ]
    },
    {
      "cell_type": "markdown",
      "source": [
        "### Final Solution"
      ],
      "metadata": {
        "id": "_k2UZgAWrixl"
      }
    },
    {
      "cell_type": "code",
      "source": [
        "class Solution:\n",
        "    def isArraySpecial(self, nums: List[int]) -> bool:\n",
        "        for i in range(len(nums)-1):\n",
        "            if (nums[i]%2==0 and nums[i+1]%2==0) or (nums[i]%2!=0 and nums[i+1]%2!=0):\n",
        "                return (False)\n",
        "        return True"
      ],
      "metadata": {
        "id": "Rr-RiMEZrkk0"
      },
      "execution_count": null,
      "outputs": []
    }
  ]
}
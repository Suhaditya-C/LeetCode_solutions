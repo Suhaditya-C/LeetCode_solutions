{
 "cells": [
  {
   "cell_type": "markdown",
   "id": "a42a9323",
   "metadata": {},
   "source": [
    "# 2176. Count Equal and Divisible Pairs in an Array\n",
    "\n",
    "Given a 0-indexed integer array nums of length n and an integer k, return the number of pairs (i, j) where 0 <= i < j < n, such that nums[i] == nums[j] and (i * j) is divisible by k.\n",
    " \n",
    "\n",
    "Example 1:\n",
    "\n",
    "Input: nums = [3,1,2,2,2,1,3], k = 2\n",
    "Output: 4\n",
    "Explanation:\n",
    "There are 4 pairs that meet all the requirements:\n",
    "- nums[0] == nums[6], and 0 * 6 == 0, which is divisible by 2.\n",
    "- nums[2] == nums[3], and 2 * 3 == 6, which is divisible by 2.\n",
    "- nums[2] == nums[4], and 2 * 4 == 8, which is divisible by 2.\n",
    "- nums[3] == nums[4], and 3 * 4 == 12, which is divisible by 2.\n",
    "Example 2:\n",
    "\n",
    "Input: nums = [1,2,3,4], k = 1\n",
    "Output: 0\n",
    "Explanation: Since no value in nums is repeated, there are no pairs (i,j) that meet all the requirements.\n",
    " \n",
    "\n",
    "Constraints:\n",
    "\n",
    "1 <= nums.length <= 100\n",
    "1 <= nums[i], k <= 100"
   ]
  },
  {
   "cell_type": "markdown",
   "id": "9540b3e0",
   "metadata": {},
   "source": [
    "## Solution: Brute Force\n",
    "Runtime: 23ms"
   ]
  },
  {
   "cell_type": "code",
   "execution_count": 3,
   "id": "992544c8",
   "metadata": {},
   "outputs": [
    {
     "data": {
      "text/plain": [
       "4"
      ]
     },
     "execution_count": 3,
     "metadata": {},
     "output_type": "execute_result"
    }
   ],
   "source": [
    "nums = [3,1,2,2,2,1,3]; k = 2\n",
    "res=0\n",
    "n=len(nums)\n",
    "for i in range(n-1):\n",
    "    for j in range(i+1,n):\n",
    "        if nums[i]==nums[j] and i*j%k==0:\n",
    "            res+=1\n",
    "res\n"
   ]
  },
  {
   "cell_type": "markdown",
   "id": "6bb0f3eb",
   "metadata": {},
   "source": [
    "## Optimised Solution: Using Linear Time\n",
    "Runtime: 7ms"
   ]
  },
  {
   "cell_type": "code",
   "execution_count": null,
   "id": "1aa8f1af",
   "metadata": {},
   "outputs": [
    {
     "data": {
      "text/plain": [
       "4"
      ]
     },
     "execution_count": 9,
     "metadata": {},
     "output_type": "execute_result"
    }
   ],
   "source": [
    "nums = [3,1,2,2,2,1,3]; k = 2\n",
    "res=0\n",
    "n=len(nums)\n",
    "map={} #Stores num->index\n",
    "for i in range(n):\n",
    "    if nums[i] not in map:\n",
    "        map[nums[i]]=[i]\n",
    "    else:\n",
    "        for j in map[nums[i]]:\n",
    "            if i*j%k==0:\n",
    "                res+=1\n",
    "        map[nums[i]].append(i)\n",
    "res"
   ]
  }
 ],
 "metadata": {
  "kernelspec": {
   "display_name": "Python 3",
   "language": "python",
   "name": "python3"
  },
  "language_info": {
   "codemirror_mode": {
    "name": "ipython",
    "version": 3
   },
   "file_extension": ".py",
   "mimetype": "text/x-python",
   "name": "python",
   "nbconvert_exporter": "python",
   "pygments_lexer": "ipython3",
   "version": "3.12.4"
  }
 },
 "nbformat": 4,
 "nbformat_minor": 5
}

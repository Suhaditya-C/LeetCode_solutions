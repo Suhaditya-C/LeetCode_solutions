{
 "cells": [
  {
   "cell_type": "markdown",
   "id": "dfb4f7a2-1ed4-41f0-89ad-1cdc6035fbf1",
   "metadata": {},
   "source": [
    "# 763. Partition Labels\n",
    "You are given a string s. We want to partition the string into as many parts as possible so that each letter appears in at most one part. For example, the string \"ababcc\" can be partitioned into [\"abab\", \"cc\"], but partitions such as [\"aba\", \"bcc\"] or [\"ab\", \"ab\", \"cc\"] are invalid.\n",
    "\n",
    "Note that the partition is done so that after concatenating all the parts in order, the resultant string should be s.\n",
    "\n",
    "Return a list of integers representing the size of these parts.\n",
    "\n",
    "Example 1:\n",
    "\n",
    "Input: s = \"ababcbacadefegdehijhklij\"\n",
    "Output: [9,7,8]\n",
    "Explanation:\n",
    "The partition is \"ababcbaca\", \"defegde\", \"hijhklij\".\n",
    "This is a partition so that each letter appears in at most one part.\n",
    "A partition like \"ababcbacadefegde\", \"hijhklij\" is incorrect, because it splits s into less parts.\n",
    "Example 2:\n",
    "\n",
    "Input: s = \"eccbbbbdec\"\n",
    "Output: [10]\n",
    " \n",
    "Constraints:\n",
    "\n",
    "1 <= s.length <= 500\n",
    "s consists of lowercase English letters."
   ]
  },
  {
   "cell_type": "markdown",
   "id": "eecccbfd-e492-4f4e-ba42-6112d9b3becf",
   "metadata": {},
   "source": [
    "## Solution\n",
    "#### Turning this into a merge interval problem and counting the separate intervals"
   ]
  },
  {
   "cell_type": "code",
   "execution_count": 22,
   "id": "b06462f0-6cf2-4512-8741-21bf2c5b7577",
   "metadata": {
    "scrolled": true
   },
   "outputs": [
    {
     "data": {
      "text/plain": [
       "defaultdict(list, {'e': [0, 8], 'c': [1, 2, 9], 'b': [3, 4, 5, 6], 'd': [7]})"
      ]
     },
     "execution_count": 22,
     "metadata": {},
     "output_type": "execute_result"
    }
   ],
   "source": [
    "from collections import defaultdict\n",
    "s=\"eccbbbbdec\"\n",
    "indices=defaultdict(list)\n",
    "for i in range(len(s)):\n",
    "    indices[s[i]].append(i)\n",
    "\n",
    "indices"
   ]
  },
  {
   "cell_type": "markdown",
   "id": "2a8e5b7c-6440-4759-8f66-2f4c1401e31d",
   "metadata": {},
   "source": [
    "#### Treating the first and last element of the dictionary list as intervals"
   ]
  },
  {
   "cell_type": "code",
   "execution_count": 23,
   "id": "d6f2380e-c7c1-4a24-9710-8b135a4099df",
   "metadata": {},
   "outputs": [
    {
     "data": {
      "text/plain": [
       "[[0, 8], [1, 2, 9], [3, 4, 5, 6], [7]]"
      ]
     },
     "execution_count": 23,
     "metadata": {},
     "output_type": "execute_result"
    }
   ],
   "source": [
    "intervals=[]\n",
    "for char in indices:\n",
    "    intervals.append(indices[char])\n",
    "intervals"
   ]
  },
  {
   "cell_type": "code",
   "execution_count": 24,
   "id": "cb6df5bb-93da-4055-9b99-37041df6e5a3",
   "metadata": {},
   "outputs": [
    {
     "data": {
      "text/plain": [
       "[10]"
      ]
     },
     "execution_count": 24,
     "metadata": {},
     "output_type": "execute_result"
    }
   ],
   "source": [
    "res=[] #stores the result.i.e the lengths of the partitions\n",
    "start,prev_end=intervals[0][0],intervals[0][-1]\n",
    "for i in intervals[1:]:\n",
    "    cur_start=i[0] #current start of interval\n",
    "    cur_end=i[-1] #current end of interval\n",
    "    #if cur_start<prev_end: #merge intervals\n",
    "        #continue\n",
    "    if cur_start>prev_end: #separate interval starts\n",
    "        interval_length=prev_end-start+1\n",
    "        res.append(interval_length)\n",
    "        #update the start pointer\n",
    "        start=cur_start\n",
    "    #update prev_end pointer \n",
    "    prev_end=max(prev_end,cur_end)\n",
    "#Add the last iinterval_length\n",
    "if prev_end>=cur_start:\n",
    "    interval_length=prev_end-start+1\n",
    "    res.append(interval_length)\n",
    "    \n",
    "res"
   ]
  },
  {
   "cell_type": "markdown",
   "id": "bf4f5dc4-b6d3-454b-8a1a-9a133ae5da6d",
   "metadata": {},
   "source": [
    "#### More efficient solution: Use a dictionary of storing only indices of last occurence of that char. Trick is to form the shortest substring with the first character that includes all its occurences"
   ]
  },
  {
   "cell_type": "code",
   "execution_count": 51,
   "id": "8fdb5f0e-2f8c-46ae-9dff-783d221c3b1f",
   "metadata": {},
   "outputs": [
    {
     "data": {
      "text/plain": [
       "[9, 7, 8]"
      ]
     },
     "execution_count": 51,
     "metadata": {},
     "output_type": "execute_result"
    }
   ],
   "source": [
    "s = \"ababcbacadefegdehijhklij\"\n",
    "last={}\n",
    "res=[]\n",
    "for i in range(len(s)):\n",
    "    last[s[i]]=i\n",
    "start=0\n",
    "prev_end=0\n",
    "for i in range(len(s)):\n",
    "    last_index=last[s[i]]\n",
    "    prev_end=max(prev_end,last_index) #update the previous index\n",
    "    if i==prev_end: #new substring starts i.e. when current index reaches the last occurence of 1st char of the substring\n",
    "        #calculate length of previous substring\n",
    "        length=prev_end-start+1\n",
    "        res.append(length)\n",
    "        #new substring starts, update start pointer\n",
    "        start=i+1\n",
    "res"
   ]
  },
  {
   "cell_type": "code",
   "execution_count": 52,
   "id": "55f0833a-a979-4fc2-add4-ef20d2f133e5",
   "metadata": {},
   "outputs": [
    {
     "data": {
      "text/plain": [
       "{'a': 8,\n",
       " 'b': 5,\n",
       " 'c': 7,\n",
       " 'd': 14,\n",
       " 'e': 15,\n",
       " 'f': 11,\n",
       " 'g': 13,\n",
       " 'h': 19,\n",
       " 'i': 22,\n",
       " 'j': 23,\n",
       " 'k': 20,\n",
       " 'l': 21}"
      ]
     },
     "execution_count": 52,
     "metadata": {},
     "output_type": "execute_result"
    }
   ],
   "source": [
    "last"
   ]
  }
 ],
 "metadata": {
  "kernelspec": {
   "display_name": "Python 3 (ipykernel)",
   "language": "python",
   "name": "python3"
  },
  "language_info": {
   "codemirror_mode": {
    "name": "ipython",
    "version": 3
   },
   "file_extension": ".py",
   "mimetype": "text/x-python",
   "name": "python",
   "nbconvert_exporter": "python",
   "pygments_lexer": "ipython3",
   "version": "3.12.4"
  }
 },
 "nbformat": 4,
 "nbformat_minor": 5
}

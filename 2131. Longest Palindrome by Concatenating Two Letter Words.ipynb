{
 "cells": [
  {
   "cell_type": "markdown",
   "id": "8d49af45",
   "metadata": {},
   "source": [
    "# 2131. Longest Palindrome by Concatenating Two Letter Words\n",
    "\n",
    "You are given an array of strings words. Each element of words consists of two lowercase English letters.\n",
    "\n",
    "Create the longest possible palindrome by selecting some elements from words and concatenating them in any order. Each element can be selected at most once.\n",
    "\n",
    "Return the length of the longest palindrome that you can create. If it is impossible to create any palindrome, return 0.\n",
    "\n",
    "A palindrome is a string that reads the same forward and backward.\n",
    "\n",
    " \n",
    "\n",
    "Example 1:\n",
    "\n",
    "Input: words = [\"lc\",\"cl\",\"gg\"]\n",
    "Output: 6\n",
    "Explanation: One longest palindrome is \"lc\" + \"gg\" + \"cl\" = \"lcggcl\", of length 6.\n",
    "Note that \"clgglc\" is another longest palindrome that can be created.\n",
    "Example 2:\n",
    "\n",
    "Input: words = [\"ab\",\"ty\",\"yt\",\"lc\",\"cl\",\"ab\"]\n",
    "Output: 8\n",
    "Explanation: One longest palindrome is \"ty\" + \"lc\" + \"cl\" + \"yt\" = \"tylcclyt\", of length 8.\n",
    "Note that \"lcyttycl\" is another longest palindrome that can be created.\n",
    "Example 3:\n",
    "\n",
    "Input: words = [\"cc\",\"ll\",\"xx\"]\n",
    "Output: 2\n",
    "Explanation: One longest palindrome is \"cc\", of length 2.\n",
    "Note that \"ll\" is another longest palindrome that can be created, and so is \"xx\".\n",
    " \n",
    "\n",
    "Constraints:\n",
    "\n",
    "1 <= words.length <= 105\n",
    "words[i].length == 2\n",
    "words[i] consists of lowercase English letters."
   ]
  },
  {
   "cell_type": "markdown",
   "id": "32a1ddc6",
   "metadata": {},
   "source": [
    "## Solution"
   ]
  },
  {
   "cell_type": "code",
   "execution_count": 25,
   "id": "87322537",
   "metadata": {},
   "outputs": [
    {
     "name": "stdout",
     "output_type": "stream",
     "text": [
      "22\n"
     ]
    }
   ],
   "source": [
    "words = [\"dd\",\"aa\",\"bb\",\"dd\",\"aa\",\"dd\",\"bb\",\"dd\",\"aa\",\"cc\",\"bb\",\"cc\",\"dd\",\"cc\"]\n",
    "from collections import Counter\n",
    "\n",
    "# Count frequency of each word\n",
    "mpp = Counter(words)\n",
    "\n",
    "# Initialize counts\n",
    "same_letter_size = 0    # Number of usable same-letter word pairs (e.g., 'nn', 'hh')\n",
    "diff_letter_size = 0    # Number of usable reversible word pairs (e.g., 'ab' and 'ba')\n",
    "odd_pair_used = False   # Flag to track if an extra same-letter word can be used in the center\n",
    "\n",
    "# Iterate through all unique words\n",
    "for word in mpp:\n",
    "    \n",
    "    # Case 1: Word has same letters (e.g., 'nn', 'hh')\n",
    "    if word[0] == word[1]:\n",
    "        if mpp[word] % 2 == 1:\n",
    "            odd_pair_used = True  # We can use one odd pair in the center of the palindrome\n",
    "        # Use the largest even count of such words (e.g., 3 -> use 2)\n",
    "        same_letter_size += mpp[word] if mpp[word] % 2 == 0 else mpp[word] - 1\n",
    "    \n",
    "    # Case 2: Word has different letters and its reverse exists in the list (e.g., 'ab' and 'ba')\n",
    "    elif word[::-1] in mpp:\n",
    "        # Count the number of reversible pairs only once by taking min of the two\n",
    "        diff_letter_size += min(mpp[word], mpp[word[::-1]])\n",
    "\n",
    "# If we have any unused odd-count same-letter word, we can place one in the center\n",
    "if odd_pair_used:\n",
    "    same_letter_size += 1\n",
    "\n",
    "# Each word contributes 2 characters to the palindrome\n",
    "result = (same_letter_size + diff_letter_size) * 2\n",
    "print(result)\n",
    "                                                                                                                                                                                                                "
   ]
  }
 ],
 "metadata": {
  "kernelspec": {
   "display_name": "base",
   "language": "python",
   "name": "python3"
  },
  "language_info": {
   "codemirror_mode": {
    "name": "ipython",
    "version": 3
   },
   "file_extension": ".py",
   "mimetype": "text/x-python",
   "name": "python",
   "nbconvert_exporter": "python",
   "pygments_lexer": "ipython3",
   "version": "3.12.7"
  }
 },
 "nbformat": 4,
 "nbformat_minor": 5
}

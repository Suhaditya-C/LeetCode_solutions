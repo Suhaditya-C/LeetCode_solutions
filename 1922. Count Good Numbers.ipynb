{
 "cells": [
  {
   "cell_type": "markdown",
   "id": "edd07183",
   "metadata": {},
   "source": [
    "# 1922. Count Good Numbers\n",
    "\n",
    "A digit string is good if the digits (0-indexed) at even indices are even and the digits at odd indices are prime (2, 3, 5, or 7).\n",
    "\n",
    "For example, \"2582\" is good because the digits (2 and 8) at even positions are even and the digits (5 and 2) at odd positions are prime. However, \"3245\" is not good because 3 is at an even index but is not even.\n",
    "Given an integer n, return the total number of good digit strings of length n. Since the answer may be large, return it modulo 109 + 7.\n",
    "\n",
    "A digit string is a string consisting of digits 0 through 9 that may contain leading zeros.\n",
    "\n",
    "Example 1:\n",
    "\n",
    "Input: n = 1\n",
    "Output: 5\n",
    "Explanation: The good numbers of length 1 are \"0\", \"2\", \"4\", \"6\", \"8\".\n",
    "Example 2:\n",
    "\n",
    "Input: n = 4\n",
    "Output: 400\n",
    "Example 3:\n",
    "\n",
    "Input: n = 50\n",
    "Output: 564908303\n",
    " \n",
    "Constraints:\n",
    "\n",
    "1 <= n <= 1015"
   ]
  },
  {
   "cell_type": "markdown",
   "id": "bcef0570",
   "metadata": {},
   "source": [
    "## Solution: Brute Force\n",
    "when n is even n//2 out of n places have 5 choices- 0,2,4,6,8 (Since it is a digit string, leading zeros are allowed),\n",
    "and n// out of n places have 4 choices- 2,3,5,7 (prime nos.)\n",
    "Total no. of arrangements= 20^(n/2)\n",
    "\n",
    "when n is even n//2+1 out of n places have 5 choices- 0,2,4,6,8 (Since it is a digit string, leading zeros are allowed),\n",
    "and n// out of n places have 4 choices- 2,3,5,7 (prime nos.)\n",
    "Total no. of arrangements= 5*20^(n/2)"
   ]
  },
  {
   "cell_type": "markdown",
   "id": "0ace41a7",
   "metadata": {},
   "source": [
    "###  Brute Force (Time Limit Exceeded)"
   ]
  },
  {
   "cell_type": "code",
   "execution_count": 6,
   "id": "8af61f8a",
   "metadata": {},
   "outputs": [],
   "source": [
    "from time import perf_counter"
   ]
  },
  {
   "cell_type": "code",
   "execution_count": null,
   "id": "4ca55a48",
   "metadata": {},
   "outputs": [
    {
     "data": {
      "text/plain": [
       "400"
      ]
     },
     "execution_count": 2,
     "metadata": {},
     "output_type": "execute_result"
    }
   ],
   "source": [
    "n=4\n",
    "MOD=10**9+7 # For large numbers\n",
    "res= 20**(n//2) if n%2==0 else 5*20**(n//2)\n",
    "res%MOD #for large numbers"
   ]
  },
  {
   "cell_type": "code",
   "execution_count": 7,
   "id": "0117e7c9",
   "metadata": {},
   "outputs": [
    {
     "data": {
      "text/plain": [
       "0.00042750000011437805"
      ]
     },
     "execution_count": 7,
     "metadata": {},
     "output_type": "execute_result"
    }
   ],
   "source": [
    "start = perf_counter()\n",
    "n=50\n",
    "MOD=10**9+7 # For large numbers\n",
    "res= 20**(n//2) if n%2==0 else 5*(20**(n//2))\n",
    "res\n",
    "end = perf_counter()\n",
    "end-start"
   ]
  },
  {
   "cell_type": "markdown",
   "id": "d654b40f",
   "metadata": {},
   "source": [
    "### Using Math module"
   ]
  },
  {
   "cell_type": "code",
   "execution_count": 8,
   "id": "c0247861",
   "metadata": {},
   "outputs": [
    {
     "data": {
      "text/plain": [
       "564908303"
      ]
     },
     "execution_count": 8,
     "metadata": {},
     "output_type": "execute_result"
    }
   ],
   "source": [
    "n=50\n",
    "MOD=10**9+7 # For large numbers\n",
    "res= pow(20,n//2,MOD) if n%2==0 else 5*pow(20,n//2,MOD)\n",
    "res%MOD #for large numbers"
   ]
  },
  {
   "cell_type": "code",
   "execution_count": 9,
   "id": "4faa1899",
   "metadata": {},
   "outputs": [
    {
     "data": {
      "text/plain": [
       "0.0004490999999688938"
      ]
     },
     "execution_count": 9,
     "metadata": {},
     "output_type": "execute_result"
    }
   ],
   "source": [
    "start = perf_counter()\n",
    "n=50\n",
    "MOD=10**9+7 # For large numbers\n",
    "res= pow(20,n//2,MOD) if n%2==0 else 5*pow(20,n//2,MOD)\n",
    "res%MOD #for large numbers\n",
    "end = perf_counter()\n",
    "end-start"
   ]
  },
  {
   "cell_type": "markdown",
   "id": "1b6ee4c5",
   "metadata": {},
   "source": []
  }
 ],
 "metadata": {
  "kernelspec": {
   "display_name": "Python 3",
   "language": "python",
   "name": "python3"
  },
  "language_info": {
   "codemirror_mode": {
    "name": "ipython",
    "version": 3
   },
   "file_extension": ".py",
   "mimetype": "text/x-python",
   "name": "python",
   "nbconvert_exporter": "python",
   "pygments_lexer": "ipython3",
   "version": "3.12.4"
  }
 },
 "nbformat": 4,
 "nbformat_minor": 5
}

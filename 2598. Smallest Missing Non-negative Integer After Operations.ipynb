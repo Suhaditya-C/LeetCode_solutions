{
 "cells": [
  {
   "cell_type": "markdown",
   "id": "1e6533ed",
   "metadata": {},
   "source": [
    "2598. Smallest Missing Non-negative Integer After Operations\n",
    "\n",
    "You are given a 0-indexed integer array nums and an integer value.\n",
    "\n",
    "In one operation, you can add or subtract value from any element of nums.\n",
    "\n",
    "For example, if nums = [1,2,3] and value = 2, you can choose to subtract value from nums[0] to make nums = [-1,2,3].\n",
    "The MEX (minimum excluded) of an array is the smallest missing non-negative integer in it.\n",
    "\n",
    "For example, the MEX of [-1,2,3] is 0 while the MEX of [1,0,3] is 2.\n",
    "Return the maximum MEX of nums after applying the mentioned operation any number of times.\n",
    "\n",
    " \n",
    "\n",
    "Example 1:\n",
    "\n",
    "Input: nums = [1,-10,7,13,6,8], value = 5\n",
    "Output: 4\n",
    "Explanation: One can achieve this result by applying the following operations:\n",
    "- Add value to nums[1] twice to make nums = [1,0,7,13,6,8]\n",
    "- Subtract value from nums[2] once to make nums = [1,0,2,13,6,8]\n",
    "- Subtract value from nums[3] twice to make nums = [1,0,2,3,6,8]\n",
    "The MEX of nums is 4. It can be shown that 4 is the maximum MEX we can achieve.\n",
    "Example 2:\n",
    "\n",
    "Input: nums = [1,-10,7,13,6,8], value = 7\n",
    "Output: 2\n",
    "Explanation: One can achieve this result by applying the following operation:\n",
    "- subtract value from nums[2] once to make nums = [1,-10,0,13,6,8]\n",
    "The MEX of nums is 2. It can be shown that 2 is the maximum MEX we can achieve.\n",
    " \n",
    "\n",
    "Constraints:\n",
    "\n",
    "1 <= nums.length, value <= 105\n",
    "-109 <= nums[i] <= 109"
   ]
  },
  {
   "cell_type": "markdown",
   "id": "b25f330e",
   "metadata": {},
   "source": [
    "## Solution: Modular Arithmetic with Hashmap"
   ]
  },
  {
   "cell_type": "code",
   "execution_count": 13,
   "id": "7b8da3d4",
   "metadata": {},
   "outputs": [],
   "source": [
    "from collections import Counter"
   ]
  },
  {
   "cell_type": "code",
   "execution_count": 34,
   "id": "6119eae0",
   "metadata": {},
   "outputs": [
    {
     "data": {
      "text/plain": [
       "10"
      ]
     },
     "execution_count": 34,
     "metadata": {},
     "output_type": "execute_result"
    }
   ],
   "source": [
    "nums = [3,0,3,2,4,2,1,1,0,4]; value = 5\n",
    "res=0\n",
    "for i in range(len(nums)):\n",
    "    nums[i]=nums[i]%value\n",
    "mpp=Counter(nums)\n",
    "sequence=[]\n",
    "for key in sorted(mpp.keys()):\n",
    "    transformed_num=key\n",
    "    while mpp[key]>0:\n",
    "        sequence.append(transformed_num)\n",
    "        transformed_num+=value\n",
    "        mpp[key]-=1\n",
    "sequence.sort()\n",
    "for val in sequence:\n",
    "    if res!=val:\n",
    "        break\n",
    "    res+=1\n",
    "res"
   ]
  },
  {
   "cell_type": "markdown",
   "id": "19307252",
   "metadata": {},
   "source": [
    "## Alternate Solution: Short and Fast"
   ]
  },
  {
   "cell_type": "code",
   "execution_count": 38,
   "id": "61ce5d71",
   "metadata": {},
   "outputs": [
    {
     "data": {
      "text/plain": [
       "10"
      ]
     },
     "execution_count": 38,
     "metadata": {},
     "output_type": "execute_result"
    }
   ],
   "source": [
    "nums = [3,0,3,2,4,2,1,1,0,4]; value = 5\n",
    "res=0\n",
    "mpp=Counter(num%value for num in nums)\n",
    "while mpp[res%value]>0:\n",
    "    mpp[res%value]-=1\n",
    "    res+=1\n",
    "res\n"
   ]
  }
 ],
 "metadata": {
  "kernelspec": {
   "display_name": "Python 3",
   "language": "python",
   "name": "python3"
  },
  "language_info": {
   "codemirror_mode": {
    "name": "ipython",
    "version": 3
   },
   "file_extension": ".py",
   "mimetype": "text/x-python",
   "name": "python",
   "nbconvert_exporter": "python",
   "pygments_lexer": "ipython3",
   "version": "3.10.9"
  }
 },
 "nbformat": 4,
 "nbformat_minor": 5
}

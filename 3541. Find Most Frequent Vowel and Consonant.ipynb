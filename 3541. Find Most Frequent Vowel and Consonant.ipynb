{
 "cells": [
  {
   "cell_type": "markdown",
   "id": "e311b2b2",
   "metadata": {},
   "source": [
    "# 3541. Find Most Frequent Vowel and Consonant\n",
    "\n",
    "You are given a string s consisting of lowercase English letters ('a' to 'z').\n",
    "\n",
    "Your task is to:\n",
    "\n",
    "Find the vowel (one of 'a', 'e', 'i', 'o', or 'u') with the maximum frequency.\n",
    "Find the consonant (all other letters excluding vowels) with the maximum frequency.\n",
    "Return the sum of the two frequencies.\n",
    "\n",
    "Note: If multiple vowels or consonants have the same maximum frequency, you may choose any one of them. If there are no vowels or no consonants in the string, consider their frequency as 0.\n",
    "\n",
    "The frequency of a letter x is the number of times it occurs in the string.\n",
    " \n",
    "\n",
    "Example 1:\n",
    "\n",
    "Input: s = \"successes\"\n",
    "\n",
    "Output: 6\n",
    "\n",
    "Explanation:\n",
    "\n",
    "The vowels are: 'u' (frequency 1), 'e' (frequency 2). The maximum frequency is 2.\n",
    "The consonants are: 's' (frequency 4), 'c' (frequency 2). The maximum frequency is 4.\n",
    "The output is 2 + 4 = 6.\n",
    "Example 2:\n",
    "\n",
    "Input: s = \"aeiaeia\"\n",
    "\n",
    "Output: 3\n",
    "\n",
    "Explanation:\n",
    "\n",
    "The vowels are: 'a' (frequency 3), 'e' ( frequency 2), 'i' (frequency 2). The maximum frequency is 3.\n",
    "There are no consonants in s. Hence, maximum consonant frequency = 0.\n",
    "The output is 3 + 0 = 3.\n",
    " \n",
    "\n",
    "Constraints:\n",
    "\n",
    "1 <= s.length <= 100\n",
    "s consists of lowercase English letters only."
   ]
  },
  {
   "cell_type": "markdown",
   "id": "54da81c4",
   "metadata": {},
   "source": [
    "## Solution: \n",
    "Hashmap"
   ]
  },
  {
   "cell_type": "code",
   "execution_count": null,
   "id": "6caa33b5",
   "metadata": {},
   "outputs": [
    {
     "data": {
      "text/plain": [
       "6"
      ]
     },
     "execution_count": 3,
     "metadata": {},
     "output_type": "execute_result"
    }
   ],
   "source": [
    "from collections import Counter\n",
    "s = \"successes\"\n",
    "mpp=Counter(s)\n",
    "max_vowel=0\n",
    "max_cons=0\n",
    "for key,value in mpp.items():\n",
    "    if key in 'aeiou':\n",
    "        max_vowel=max(max_vowel,value)\n",
    "    else:\n",
    "        max_cons=max(max_cons,value)\n",
    "max_vowel+max_cons"
   ]
  }
 ],
 "metadata": {
  "kernelspec": {
   "display_name": "Python 3",
   "language": "python",
   "name": "python3"
  },
  "language_info": {
   "codemirror_mode": {
    "name": "ipython",
    "version": 3
   },
   "file_extension": ".py",
   "mimetype": "text/x-python",
   "name": "python",
   "nbconvert_exporter": "python",
   "pygments_lexer": "ipython3",
   "version": "3.10.9"
  }
 },
 "nbformat": 4,
 "nbformat_minor": 5
}

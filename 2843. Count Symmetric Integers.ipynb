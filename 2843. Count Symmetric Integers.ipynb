{
 "cells": [
  {
   "cell_type": "markdown",
   "id": "b1fbee60",
   "metadata": {},
   "source": [
    "# 2843. Count Symmetric Integers\n",
    "\n",
    "You are given two positive integers low and high.\n",
    "\n",
    "An integer x consisting of 2 * n digits is symmetric if the sum of the first n digits of x is equal to the sum of the last n digits of x. Numbers with an odd number of digits are never symmetric.\n",
    "\n",
    "Return the number of symmetric integers in the range [low, high].\n",
    "\n",
    " \n",
    "\n",
    "Example 1:\n",
    "\n",
    "Input: low = 1, high = 100\n",
    "Output: 9\n",
    "Explanation: There are 9 symmetric integers between 1 and 100: 11, 22, 33, 44, 55, 66, 77, 88, and 99.\n",
    "Example 2:\n",
    "\n",
    "Input: low = 1200, high = 1230\n",
    "Output: 4\n",
    "Explanation: There are 4 symmetric integers between 1200 and 1230: 1203, 1212, 1221, and 1230.\n",
    " \n",
    "\n",
    "Constraints:\n",
    "\n",
    "1 <= low <= high <= 104"
   ]
  },
  {
   "cell_type": "markdown",
   "id": "204accfd",
   "metadata": {},
   "source": [
    "## Solution: Convert to strings and then do the ops"
   ]
  },
  {
   "cell_type": "code",
   "execution_count": 23,
   "id": "682fb309",
   "metadata": {},
   "outputs": [
    {
     "data": {
      "text/plain": [
       "4"
      ]
     },
     "execution_count": 23,
     "metadata": {},
     "output_type": "execute_result"
    }
   ],
   "source": [
    "low = 1200; high = 1230\n",
    "res=0\n",
    "for i in range(low,high+1):\n",
    "    num=str(i)\n",
    "    if len(num)%2==0:\n",
    "        net_diff=0\n",
    "        \n",
    "        j=0\n",
    "        while j<len(num)//2:\n",
    "            net_diff+=int(num[j])-int(num[-1-j])\n",
    "            j+=1\n",
    "\n",
    "        res+=1 if net_diff==0 else 0\n",
    "res\n"
   ]
  }
 ],
 "metadata": {
  "kernelspec": {
   "display_name": "Python 3",
   "language": "python",
   "name": "python3"
  },
  "language_info": {
   "codemirror_mode": {
    "name": "ipython",
    "version": 3
   },
   "file_extension": ".py",
   "mimetype": "text/x-python",
   "name": "python",
   "nbconvert_exporter": "python",
   "pygments_lexer": "ipython3",
   "version": "3.12.4"
  }
 },
 "nbformat": 4,
 "nbformat_minor": 5
}

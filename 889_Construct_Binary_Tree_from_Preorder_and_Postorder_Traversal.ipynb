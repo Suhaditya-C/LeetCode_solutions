{
  "nbformat": 4,
  "nbformat_minor": 0,
  "metadata": {
    "colab": {
      "provenance": [],
      "authorship_tag": "ABX9TyOBr2BAHpm6FFShCKOI1uZq",
      "include_colab_link": true
    },
    "kernelspec": {
      "name": "python3",
      "display_name": "Python 3"
    },
    "language_info": {
      "name": "python"
    }
  },
  "cells": [
    {
      "cell_type": "markdown",
      "metadata": {
        "id": "view-in-github",
        "colab_type": "text"
      },
      "source": [
        "<a href=\"https://colab.research.google.com/github/Suhaditya-C/LeetCode_solutions/blob/main/889_Construct_Binary_Tree_from_Preorder_and_Postorder_Traversal.ipynb\" target=\"_parent\"><img src=\"https://colab.research.google.com/assets/colab-badge.svg\" alt=\"Open In Colab\"/></a>"
      ]
    },
    {
      "cell_type": "markdown",
      "source": [
        "## 889. Construct Binary Tree from Preorder and Postorder Traversal\n",
        "\n",
        "Given two integer arrays, preorder and postorder where preorder is the preorder traversal of a binary tree of distinct values and postorder is the postorder traversal of the same tree, reconstruct and return the binary tree.\n",
        "\n",
        "If there exist multiple answers, you can return any of them.\n",
        "\n",
        "\n",
        "\n",
        "Example 1:\n",
        "\n",
        "\n",
        "Input: preorder = [1,2,4,5,3,6,7], postorder = [4,5,2,6,7,3,1]\n",
        "Output: [1,2,3,4,5,6,7]\n",
        "Example 2:\n",
        "\n",
        "Input: preorder = [1], postorder = [1]\n",
        "Output: [1]\n",
        "\n",
        "\n",
        "Constraints:\n",
        "\n",
        "1 <= preorder.length <= 30\n",
        "1 <= preorder[i] <= preorder.length\n",
        "All the values of preorder are unique.\n",
        "postorder.length == preorder.length\n",
        "1 <= postorder[i] <= postorder.length\n",
        "All the values of postorder are unique.\n",
        "It is guaranteed that preorder and postorder are the preorder traversal and postorder traversal of the same binary tree."
      ],
      "metadata": {
        "id": "MW0PN21sln2m"
      }
    },
    {
      "cell_type": "code",
      "execution_count": null,
      "metadata": {
        "id": "zvI5jLMclhOQ"
      },
      "outputs": [],
      "source": [
        "# Definition for a binary tree node.\n",
        "# class TreeNode:\n",
        "#     def __init__(self, val=0, left=None, right=None):\n",
        "#         self.val = val\n",
        "#         self.left = left\n",
        "#         self.right = right\n",
        "class Solution:\n",
        "    def constructFromPrePost(self, preorder: List[int], postorder: List[int]) -> Optional[TreeNode]:\n",
        "        n=len(postorder)\n",
        "        idxmap={}\n",
        "        for i,nums in enumerate(postorder):\n",
        "            idxmap[nums]=i\n",
        "\n",
        "        def connect(i1,i2,j1):\n",
        "            if i1>i2:\n",
        "                return None\n",
        "\n",
        "            root=TreeNode(preorder[i1])\n",
        "\n",
        "            if i1!=i2:\n",
        "                left=preorder[i1+1]\n",
        "                mid=idxmap[left]\n",
        "                left_size=mid-j1+1\n",
        "                root.left=connect(i1+1,i1+left_size,j1)\n",
        "                root.right=connect(i1+left_size+1,i2,mid+1)\n",
        "            return root\n",
        "\n",
        "        return connect(0,n-1,0)"
      ]
    }
  ]
}
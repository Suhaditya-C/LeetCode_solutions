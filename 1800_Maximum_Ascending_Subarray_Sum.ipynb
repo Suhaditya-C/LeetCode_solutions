{
  "nbformat": 4,
  "nbformat_minor": 0,
  "metadata": {
    "colab": {
      "provenance": [],
      "authorship_tag": "ABX9TyMycGxnqFPYM+fGWlMVTSrY",
      "include_colab_link": true
    },
    "kernelspec": {
      "name": "python3",
      "display_name": "Python 3"
    },
    "language_info": {
      "name": "python"
    }
  },
  "cells": [
    {
      "cell_type": "markdown",
      "metadata": {
        "id": "view-in-github",
        "colab_type": "text"
      },
      "source": [
        "<a href=\"https://colab.research.google.com/github/Suhaditya-C/LeetCode_solutions/blob/main/1800_Maximum_Ascending_Subarray_Sum.ipynb\" target=\"_parent\"><img src=\"https://colab.research.google.com/assets/colab-badge.svg\" alt=\"Open In Colab\"/></a>"
      ]
    },
    {
      "cell_type": "markdown",
      "source": [
        "## 1800. Maximum Ascending Subarray Sum\n",
        "\n",
        "Given an array of positive integers nums, return the maximum possible sum of an ascending subarray in nums.\n",
        "\n",
        "A subarray is defined as a contiguous sequence of numbers in an array.\n",
        "\n",
        "A subarray [numsl, numsl+1, ..., numsr-1, numsr] is ascending if for all i where l <= i < r, numsi  < numsi+1. Note that a subarray of size 1 is ascending.\n",
        "\n",
        "\n",
        "\n",
        "Example 1:\n",
        "\n",
        "Input: nums = [10,20,30,5,10,50]\n",
        "Output: 65\n",
        "Explanation: [5,10,50] is the ascending subarray with the maximum sum of 65.\n",
        "Example 2:\n",
        "\n",
        "Input: nums = [10,20,30,40,50]\n",
        "Output: 150\n",
        "Explanation: [10,20,30,40,50] is the ascending subarray with the maximum sum of 150.\n",
        "Example 3:\n",
        "\n",
        "Input: nums = [12,17,15,13,10,11,12]\n",
        "Output: 33\n",
        "Explanation: [10,11,12] is the ascending subarray with the maximum sum of 33.\n",
        "\n",
        "\n",
        "Constraints:\n",
        "\n",
        "1 <= nums.length <= 100\n",
        "1 <= nums[i] <= 100"
      ],
      "metadata": {
        "id": "HteapMozlcB7"
      }
    },
    {
      "cell_type": "markdown",
      "source": [
        "Brute Force"
      ],
      "metadata": {
        "id": "RfWuVck97xIs"
      }
    },
    {
      "cell_type": "code",
      "source": [
        "nums = [3,6,10,1,8,9,9,8,9]\n",
        "n=len(nums)\n",
        "i=0\n",
        "res=nums[0]\n",
        "while i<n:\n",
        "    sum=nums[i]\n",
        "    j=i+1\n",
        "    while j<n and nums[j-1]<nums[j]:\n",
        "        sum+=nums[j]\n",
        "        j+=1\n",
        "    i=j\n",
        "    res=max(res,sum)\n",
        "res"
      ],
      "metadata": {
        "id": "uI1PsL6LyNIZ",
        "colab": {
          "base_uri": "https://localhost:8080/"
        },
        "outputId": "b66c1602-a695-4af5-aea0-d9ee0ab14b93"
      },
      "execution_count": null,
      "outputs": [
        {
          "output_type": "execute_result",
          "data": {
            "text/plain": [
              "19"
            ]
          },
          "metadata": {},
          "execution_count": 10
        }
      ]
    },
    {
      "cell_type": "markdown",
      "source": [
        "Linear Time Solution"
      ],
      "metadata": {
        "id": "11sQuomOxuQ2"
      }
    },
    {
      "cell_type": "code",
      "source": [
        "nums = [10,20,30,5,10,50]\n",
        "nums.append(0) #appending a zero at end to compute the final inc array sum containg last element\n",
        "res=0 # max sum\n",
        "inc=0 # tracks the status whether the previous subarray was inc(1) or else (0)\n",
        "sum=max(nums) # if no increasing array found then max element is the sum\n",
        "for i in range(len(nums)-1):\n",
        "    if nums[i]<nums[i+1]: #increasing Case\n",
        "        if inc==0: #previous subarray not increasing\n",
        "            sum=nums[i]+nums[i+1]\n",
        "            inc=1\n",
        "        else: #already increasing\n",
        "            sum+=nums[i+1]\n",
        "    else: # same elements or decreasing\n",
        "        inc=0\n",
        "        res=max(res,sum)\n",
        "res"
      ],
      "metadata": {
        "colab": {
          "base_uri": "https://localhost:8080/"
        },
        "id": "6DwA9drUn734",
        "outputId": "5b3df3b0-9f7e-4351-dce3-19204f20ca73"
      },
      "execution_count": null,
      "outputs": [
        {
          "output_type": "execute_result",
          "data": {
            "text/plain": [
              "65"
            ]
          },
          "metadata": {},
          "execution_count": 20
        }
      ]
    },
    {
      "cell_type": "markdown",
      "source": [
        "Final Solution in LeetCode"
      ],
      "metadata": {
        "id": "SEV-9eRH8K4-"
      }
    },
    {
      "cell_type": "code",
      "source": [
        "class Solution:\n",
        "    def maxAscendingSum(self, nums: List[int]) -> int:\n",
        "        nums.append(0) #appending a zero at end to compute the final inc array sum containg last element\n",
        "        res=0 # max sum\n",
        "        sum=max(nums) # if no increasing array found then max element is the sum\n",
        "        inc=0 # tracks the status whether the previous subarray was inc(1) or else (0)\n",
        "        for i in range(len(nums)-1):\n",
        "            if nums[i]<nums[i+1]: #increasing Case\n",
        "                if inc==0: #previous subarray not increasing\n",
        "                    sum=nums[i]+nums[i+1]\n",
        "                    inc=1\n",
        "                else: #already increasing\n",
        "                    sum+=nums[i+1]\n",
        "            else: # same elements or decreasing\n",
        "                inc=0\n",
        "                res=max(res,sum)\n",
        "        return res"
      ],
      "metadata": {
        "id": "lGS8vNa38KrT"
      },
      "execution_count": null,
      "outputs": []
    }
  ]
}
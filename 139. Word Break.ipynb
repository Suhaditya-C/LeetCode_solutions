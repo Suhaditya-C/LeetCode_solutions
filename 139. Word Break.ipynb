{
 "cells": [
  {
   "cell_type": "markdown",
   "id": "fa1c3e05",
   "metadata": {},
   "source": [
    "# 139. Word Break\n",
    "\n",
    "Given a string s and a dictionary of strings wordDict, return true if s can be segmented into a space-separated sequence of one or more dictionary words.\n",
    "\n",
    "Note that the same word in the dictionary may be reused multiple times in the segmentation.\n",
    "\n",
    " \n",
    "\n",
    "Example 1:\n",
    "\n",
    "Input: s = \"leetcode\", wordDict = [\"leet\",\"code\"]\n",
    "Output: true\n",
    "Explanation: Return true because \"leetcode\" can be segmented as \"leet code\".\n",
    "Example 2:\n",
    "\n",
    "Input: s = \"applepenapple\", wordDict = [\"apple\",\"pen\"]\n",
    "Output: true\n",
    "Explanation: Return true because \"applepenapple\" can be segmented as \"apple pen apple\".\n",
    "Note that you are allowed to reuse a dictionary word.\n",
    "Example 3:\n",
    "\n",
    "Input: s = \"catsandog\", wordDict = [\"cats\",\"dog\",\"sand\",\"and\",\"cat\"]\n",
    "Output: false\n",
    " \n",
    "\n",
    "Constraints:\n",
    "\n",
    "1 <= s.length <= 300\n",
    "1 <= wordDict.length <= 1000\n",
    "1 <= wordDict[i].length <= 20\n",
    "s and wordDict[i] consist of only lowercase English letters.\n",
    "All the strings of wordDict are unique."
   ]
  },
  {
   "cell_type": "markdown",
   "id": "e411f62e",
   "metadata": {},
   "source": [
    "## Solution: DFS with memoization\n",
    "\n",
    "Time Limit Exceeded"
   ]
  },
  {
   "cell_type": "code",
   "execution_count": 10,
   "id": "c28e8ddd",
   "metadata": {},
   "outputs": [
    {
     "data": {
      "text/plain": [
       "False"
      ]
     },
     "execution_count": 10,
     "metadata": {},
     "output_type": "execute_result"
    }
   ],
   "source": [
    "s = \"catsandog\"; wordDict = [\"cats\",\"dog\",\"sand\",\"and\",\"cat\"]\n",
    "n=len(s)\n",
    "memo=set()\n",
    "flag=False\n",
    "def DFS(string):\n",
    "    global flag\n",
    "    if len(string)>n or string in memo:\n",
    "        return\n",
    "    if string==s:\n",
    "        flag=True\n",
    "        return\n",
    "    memo.add(string)\n",
    "    for word in wordDict:\n",
    "        DFS(string+word)\n",
    "    \n",
    "DFS('')   \n",
    "flag"
   ]
  },
  {
   "cell_type": "markdown",
   "id": "6cd6b55e",
   "metadata": {},
   "source": [
    "## Solution: Dynamic Programming\n",
    "\n",
    "Bottom Up Approach"
   ]
  },
  {
   "cell_type": "code",
   "execution_count": 15,
   "id": "3a5e85f3",
   "metadata": {},
   "outputs": [
    {
     "data": {
      "text/plain": [
       "True"
      ]
     },
     "execution_count": 15,
     "metadata": {},
     "output_type": "execute_result"
    }
   ],
   "source": [
    "s = \"catsanddog\"; wordDict = [\"cats\",\"dog\",\"sand\",\"and\",\"cat\"]  # Input string and dictionary\n",
    "n = len(s)                           # Length of the input string\n",
    "dp = [False] * (n + 1)               # DP array: dp[i] is True if s[:i] can be segmented\n",
    "dp[0] = True                         # Empty string can always be segmented\n",
    "\n",
    "for i in range(1, n + 1):            # Iterate over all possible end positions\n",
    "    for j in range(i + 1 - 1):       # Iterate over all possible start positions\n",
    "        # If s[j:i] is in wordDict and s[:j] can be segmented, mark s[:i] as segmentable\n",
    "        if dp[j] == True and s[j + 1 - 1 : i + 1 - 1] in wordDict:\n",
    "            dp[i] = True\n",
    "            break\n",
    "\n",
    "dp[n]  "
   ]
  }
 ],
 "metadata": {
  "kernelspec": {
   "display_name": "Python 3",
   "language": "python",
   "name": "python3"
  },
  "language_info": {
   "codemirror_mode": {
    "name": "ipython",
    "version": 3
   },
   "file_extension": ".py",
   "mimetype": "text/x-python",
   "name": "python",
   "nbconvert_exporter": "python",
   "pygments_lexer": "ipython3",
   "version": "3.10.9"
  }
 },
 "nbformat": 4,
 "nbformat_minor": 5
}

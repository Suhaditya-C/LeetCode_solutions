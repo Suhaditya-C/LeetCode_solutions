{
  "nbformat": 4,
  "nbformat_minor": 0,
  "metadata": {
    "colab": {
      "provenance": [],
      "authorship_tag": "ABX9TyM/xEgOe6Flfw0Vsiq9wSAG",
      "include_colab_link": true
    },
    "kernelspec": {
      "name": "python3",
      "display_name": "Python 3"
    },
    "language_info": {
      "name": "python"
    }
  },
  "cells": [
    {
      "cell_type": "markdown",
      "metadata": {
        "id": "view-in-github",
        "colab_type": "text"
      },
      "source": [
        "<a href=\"https://colab.research.google.com/github/Suhaditya-C/LeetCode_solutions/blob/main/Lexicographically_Smallest_Array.ipynb\" target=\"_parent\"><img src=\"https://colab.research.google.com/assets/colab-badge.svg\" alt=\"Open In Colab\"/></a>"
      ]
    },
    {
      "cell_type": "markdown",
      "source": [
        "## 2948. Make Lexicographically Smallest Array by Swapping Elements\n",
        "\n",
        "You are given a 0-indexed array of positive integers nums and a positive integer limit.\n",
        "\n",
        "In one operation, you can choose any two indices i and j and swap nums[i] and nums[j] if |nums[i] - nums[j]| <= limit.\n",
        "\n",
        "Return the lexicographically smallest array that can be obtained by performing the operation any number of times.\n",
        "\n",
        "An array a is lexicographically smaller than an array b if in the first position where a and b differ, array a has an element that is less than the corresponding element in b. For example, the array [2,10,3] is lexicographically smaller than the array [10,2,3] because they differ at index 0 and 2 < 10.\n",
        "\n",
        "\n",
        "\n",
        "Example 1:\n",
        "\n",
        "Input: nums = [1,5,3,9,8], limit = 2\n",
        "Output: [1,3,5,8,9]\n",
        "Explanation: Apply the operation 2 times:\n",
        "- Swap nums[1] with nums[2]. The array becomes [1,3,5,9,8]\n",
        "- Swap nums[3] with nums[4]. The array becomes [1,3,5,8,9]\n",
        "We cannot obtain a lexicographically smaller array by applying any more operations.\n",
        "Note that it may be possible to get the same result by doing different operations.\n",
        "Example 2:\n",
        "\n",
        "Input: nums = [1,7,6,18,2,1], limit = 3\n",
        "Output: [1,6,7,18,1,2]\n",
        "Explanation: Apply the operation 3 times:\n",
        "- Swap nums[1] with nums[2]. The array becomes [1,6,7,18,2,1]\n",
        "- Swap nums[0] with nums[4]. The array becomes [2,6,7,18,1,1]\n",
        "- Swap nums[0] with nums[5]. The array becomes [1,6,7,18,1,2]\n",
        "We cannot obtain a lexicographically smaller array by applying any more operations.\n",
        "Example 3:\n",
        "\n",
        "Input: nums = [1,7,28,19,10], limit = 3\n",
        "Output: [1,7,28,19,10]\n",
        "Explanation: [1,7,28,19,10] is the lexicographically smallest array we can obtain because we cannot apply the operation on any two indices.\n",
        "\n",
        "\n",
        "Constraints:\n",
        "\n",
        "1 <= nums.length <= 105\n",
        "1 <= nums[i] <= 109\n",
        "1 <= limit <= 109"
      ],
      "metadata": {
        "id": "YWI_ZIg0QT7L"
      }
    },
    {
      "cell_type": "code",
      "source": [
        "from collections import deque # to use the FIFO principle-- Use append and pop"
      ],
      "metadata": {
        "id": "GCnY-_KNjrxZ"
      },
      "execution_count": 1,
      "outputs": []
    },
    {
      "cell_type": "code",
      "source": [
        "nums = nums = [1,7,6,18,2,1]; limit = 3\n",
        "groups=[]\n",
        "map={}\n",
        "tmp=sorted(nums) # creates a sorted array whereas nums.sort - sorts the array in place\n",
        "for num in tmp:\n",
        "  if not groups or abs(groups[-1][-1]-num)>limit: #make new group if this conditionis followed\n",
        "    groups.append(deque())\n",
        "  groups[-1].append(num)   # append num at the end of the last group\n",
        "  map[num]=len(groups)-1   # maps the no. to the groups index---- denoting group no.\n",
        "res=[]\n",
        "for num in nums:\n",
        "  grpno=map[num]          # gets the corresponding grp no of that element\n",
        "  res.append(groups[grpno].popleft()) # pops the smallest element of that group\n",
        "res"
      ],
      "metadata": {
        "colab": {
          "base_uri": "https://localhost:8080/"
        },
        "id": "sVS74scYPcfb",
        "outputId": "ced708cc-8064-4bb5-f1b4-c0b6a51ed8c1"
      },
      "execution_count": 2,
      "outputs": [
        {
          "output_type": "execute_result",
          "data": {
            "text/plain": [
              "[1, 6, 7, 18, 1, 2]"
            ]
          },
          "metadata": {},
          "execution_count": 2
        }
      ]
    },
    {
      "cell_type": "markdown",
      "source": [
        "Final Solution"
      ],
      "metadata": {
        "id": "tUurD9OcpZ9M"
      }
    },
    {
      "cell_type": "code",
      "source": [
        "class Solution:\n",
        "    def lexicographicallySmallestArray(self, nums: List[int], limit: int) -> List[int]:\n",
        "      groups=[]\n",
        "      map={}\n",
        "      tmp=sorted(nums) # creates a sorted array whereas nums.sort - sorts the array in place\n",
        "      for num in tmp:\n",
        "        if not groups or abs(groups[-1][-1]-num)>limit:\n",
        "          groups.append(deque())\n",
        "        groups[-1].append(num)\n",
        "        map[num]=len(groups)-1\n",
        "      res=[]\n",
        "      for num in nums:\n",
        "        grpno=map[num]\n",
        "        res.append(groups[grpno].popleft())\n",
        "      return res"
      ],
      "metadata": {
        "id": "xj_AJodapfp3"
      },
      "execution_count": null,
      "outputs": []
    }
  ]
}
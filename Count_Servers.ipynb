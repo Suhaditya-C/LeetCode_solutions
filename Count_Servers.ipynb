{
  "nbformat": 4,
  "nbformat_minor": 0,
  "metadata": {
    "colab": {
      "provenance": [],
      "authorship_tag": "ABX9TyPY+H9FPmVCk9uexiLG7fGA",
      "include_colab_link": true
    },
    "kernelspec": {
      "name": "python3",
      "display_name": "Python 3"
    },
    "language_info": {
      "name": "python"
    }
  },
  "cells": [
    {
      "cell_type": "markdown",
      "metadata": {
        "id": "view-in-github",
        "colab_type": "text"
      },
      "source": [
        "<a href=\"https://colab.research.google.com/github/Suhaditya-C/LeetCode_solutions/blob/main/Count_Servers.ipynb\" target=\"_parent\"><img src=\"https://colab.research.google.com/assets/colab-badge.svg\" alt=\"Open In Colab\"/></a>"
      ]
    },
    {
      "cell_type": "markdown",
      "source": [
        "## 1267. Count Servers that Communicate\n",
        "You are given a map of a server center, represented as a m * n integer matrix grid, where 1 means that on that cell there is a server and 0 means that it is no server. Two servers are said to communicate if they are on the same row or on the same column.\n",
        "\n",
        "Return the number of servers that communicate with any other server.\n",
        "\n",
        "Example 1:\n",
        "\n",
        "Input: grid = [[1,0],[0,1]]\n",
        "Output: 0\n",
        "Explanation: No servers can communicate with others.\n",
        "Example 2:\n",
        "\n",
        "Input: grid = [[1,0],[1,1]]\n",
        "Output: 3\n",
        "Explanation: All three servers can communicate with at least one other server.\n",
        "Example 3:\n",
        "\n",
        "Input: grid = [[1,1,0,0],[0,0,1,0],[0,0,1,0],[0,0,0,1]]\n",
        "Output: 4\n",
        "Explanation: The two servers in the first row can communicate with each other. The two servers in the third column can communicate with each other. The server at right bottom corner can't communicate with any other server.\n",
        "\n",
        "Constraints:\n",
        "\n",
        "m == grid.length\n",
        "n == grid[i].length\n",
        "1 <= m <= 250\n",
        "1 <= n <= 250\n",
        "grid[i][j] == 0 or 1"
      ],
      "metadata": {
        "id": "WzkLpTmhTqO_"
      }
    },
    {
      "cell_type": "code",
      "source": [
        "grid = [[1,1,0,0],[0,0,1,0],[0,0,1,0],[0,0,0,1]]\n",
        "tot_count=0\n",
        "m=len(grid)\n",
        "n=len(grid[0])\n",
        "isolated=0\n",
        "row=[0]*m\n",
        "col=[0]*n\n",
        "for r in range(m):\n",
        "  for c in range(n):\n",
        "    if grid[r][c]==1:\n",
        "      row[r]+=1\n",
        "      col[c]+=1\n",
        "      tot_count+=1\n",
        "for r in range(m):\n",
        "  for c in range(n):\n",
        "    if grid[r][c]==1 and row[r]==1 and col[c]==1:\n",
        "                 isolated+=1\n",
        "isolated\n",
        "tot_count-isolated"
      ],
      "metadata": {
        "id": "NY-CU8ru__pN",
        "colab": {
          "base_uri": "https://localhost:8080/"
        },
        "outputId": "f6019f53-8f99-487b-af4f-2cde25e55f96"
      },
      "execution_count": null,
      "outputs": [
        {
          "output_type": "execute_result",
          "data": {
            "text/plain": [
              "4"
            ]
          },
          "metadata": {},
          "execution_count": 15
        }
      ]
    },
    {
      "cell_type": "markdown",
      "source": [
        "Final Solution"
      ],
      "metadata": {
        "id": "TF4pexqdanIV"
      }
    },
    {
      "cell_type": "code",
      "source": [
        "class Solution:\n",
        "    def countServers(self, grid: List[List[int]]) -> int:\n",
        "      tot_count,isolated=0,0\n",
        "      m,n=len(grid),len(grid[0])\n",
        "      row=[0]*m\n",
        "      col=[0]*n\n",
        "      for r in range(m):\n",
        "        for c in range(n):\n",
        "          if grid[r][c]==1:\n",
        "            row[r]+=1\n",
        "            col[c]+=1\n",
        "            tot_count+=1\n",
        "      for r in range(m):\n",
        "        for c in range(n):\n",
        "          if grid[r][c]==1 and row[r]==1 and col[c]==1:\n",
        "                      isolated+=1\n",
        "      return tot_count-isolated"
      ],
      "metadata": {
        "id": "TvUrmR9-aou8"
      },
      "execution_count": null,
      "outputs": []
    }
  ]
}
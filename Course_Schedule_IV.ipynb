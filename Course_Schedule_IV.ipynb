{
  "nbformat": 4,
  "nbformat_minor": 0,
  "metadata": {
    "colab": {
      "provenance": [],
      "authorship_tag": "ABX9TyMa8kyjPUXIQhvPUSC9gpjU",
      "include_colab_link": true
    },
    "kernelspec": {
      "name": "python3",
      "display_name": "Python 3"
    },
    "language_info": {
      "name": "python"
    }
  },
  "cells": [
    {
      "cell_type": "markdown",
      "metadata": {
        "id": "view-in-github",
        "colab_type": "text"
      },
      "source": [
        "<a href=\"https://colab.research.google.com/github/Suhaditya-C/LeetCode_solutions/blob/main/Course_Schedule_IV.ipynb\" target=\"_parent\"><img src=\"https://colab.research.google.com/assets/colab-badge.svg\" alt=\"Open In Colab\"/></a>"
      ]
    },
    {
      "cell_type": "markdown",
      "source": [
        "## 1462. Course Schedule IV"
      ],
      "metadata": {
        "id": "NYGQ6Gq88HB-"
      }
    },
    {
      "cell_type": "code",
      "source": [
        "numCourses = 3; prerequisites = [[1,0]]; queries = [[0,1],[1,0]]\n",
        "#Floyd-Warshall's algorithm\n",
        "#Creating an adjacency matrix\n",
        "N=len(prerequisites)\n",
        "mat=[[False for _ in range(numCourses)] for _ in range(numCourses)]\n",
        "\n",
        "for arr in prerequisites:\n",
        "  s,d=arr\n",
        "  mat[s][d]=True\n",
        "\n",
        "# Creating source--via----destination route\n",
        "for v in range(N):\n",
        "  for s in range(N):\n",
        "    for d in range(N):\n",
        "      mat[s][d]= True or mat[s][v] and mat[v][d]  # checks if s->d already true or (s->v is true and v->d is also true)\n",
        "res=[]      #Storing the Result\n",
        "for q in queries:\n",
        "  s,d=q\n",
        "  res.append(mat[s][d])\n",
        "res\n",
        "\n"
      ],
      "metadata": {
        "colab": {
          "base_uri": "https://localhost:8080/"
        },
        "id": "2c7Nwp1-RQl3",
        "outputId": "e76ef2a6-99dc-4c15-c0af-618bac61f969"
      },
      "execution_count": null,
      "outputs": [
        {
          "output_type": "execute_result",
          "data": {
            "text/plain": [
              "[False, True]"
            ]
          },
          "metadata": {},
          "execution_count": 9
        }
      ]
    }
  ]
}
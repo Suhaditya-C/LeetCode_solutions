{
 "cells": [
  {
   "cell_type": "markdown",
   "id": "6e156d98",
   "metadata": {},
   "source": [
    "# 2799. Count Complete Subarrays in an Array\n",
    "\n",
    "You are given an array nums consisting of positive integers.\n",
    "\n",
    "We call a subarray of an array complete if the following condition is satisfied:\n",
    "\n",
    "The number of distinct elements in the subarray is equal to the number of distinct elements in the whole array.\n",
    "Return the number of complete subarrays.\n",
    "\n",
    "A subarray is a contiguous non-empty part of an array.\n",
    "\n",
    " \n",
    "\n",
    "Example 1:\n",
    "\n",
    "Input: nums = [1,3,1,2,2]\n",
    "Output: 4\n",
    "Explanation: The complete subarrays are the following: [1,3,1,2], [1,3,1,2,2], [3,1,2] and [3,1,2,2].\n",
    "Example 2:\n",
    "\n",
    "Input: nums = [5,5,5,5]\n",
    "Output: 10\n",
    "Explanation: The array consists only of the integer 5, so any subarray is complete. The number of subarrays that we can choose is 10.\n",
    " \n",
    "\n",
    "Constraints:\n",
    "\n",
    "1 <= nums.length <= 1000\n",
    "1 <= nums[i] <= 2000"
   ]
  },
  {
   "cell_type": "markdown",
   "id": "f432a751",
   "metadata": {},
   "source": [
    "## Solution\n",
    "Brute Force"
   ]
  },
  {
   "cell_type": "code",
   "execution_count": 3,
   "id": "16285e5c",
   "metadata": {},
   "outputs": [],
   "source": [
    "from collections import Counter"
   ]
  },
  {
   "cell_type": "code",
   "execution_count": null,
   "id": "4c4e0e0e",
   "metadata": {},
   "outputs": [
    {
     "data": {
      "text/plain": [
       "dict_keys([1, 3, 2])"
      ]
     },
     "execution_count": 9,
     "metadata": {},
     "output_type": "execute_result"
    }
   ],
   "source": [
    "Counter(nums).keys()"
   ]
  },
  {
   "cell_type": "code",
   "execution_count": 49,
   "id": "c581acd2",
   "metadata": {},
   "outputs": [
    {
     "data": {
      "text/plain": [
       "8"
      ]
     },
     "execution_count": 49,
     "metadata": {},
     "output_type": "execute_result"
    }
   ],
   "source": [
    "nums = [1,1,2,3,2,1]\n",
    "k=len(Counter(nums).keys()) #no. of distinct elements\n",
    "res=0\n",
    "for i in range(len(nums)):\n",
    "    seen=set()\n",
    "    j=i\n",
    "    cnt=0\n",
    "    while j<len(nums):\n",
    "        if nums[j] not in seen:\n",
    "            seen.add(nums[j])\n",
    "            cnt+=1\n",
    "            \n",
    "        if cnt==k:\n",
    "            res+=len(nums)-j\n",
    "            j=len(nums)\n",
    "        j+=1\n",
    "res"
   ]
  },
  {
   "cell_type": "markdown",
   "id": "5dcbcf75",
   "metadata": {},
   "source": [
    "## Efficient solution: Sliding Window"
   ]
  },
  {
   "cell_type": "code",
   "execution_count": null,
   "id": "00444662",
   "metadata": {},
   "outputs": [
    {
     "data": {
      "text/plain": [
       "10"
      ]
     },
     "execution_count": 53,
     "metadata": {},
     "output_type": "execute_result"
    }
   ],
   "source": [
    "nums = [5,5,5,5]\n",
    "freq={} #num->frequency\n",
    "distinct=len(set(nums)) #counts the distinct no. of elements in the array\n",
    "res=0\n",
    "left=0\n",
    "for right in range(len(nums)):\n",
    "    if nums[right] in freq:\n",
    "        freq[nums[right]]+=1 #add distinct elements and their frequencies to freq\n",
    "    else:\n",
    "        freq[nums[right]]=1\n",
    "    while len(freq)==distinct: #when the current subarray has equal no. of distinct elements\n",
    "        freq[nums[left]]-=1 #Shrink the window and reduce the frequency\n",
    "        if freq[nums[left]]==0:\n",
    "            del freq[nums[left]]\n",
    "        res+=len(nums)-right # add the no. of subarrays extending to the right\n",
    "        left+=1\n",
    "res  \n"
   ]
  }
 ],
 "metadata": {
  "kernelspec": {
   "display_name": "Python 3",
   "language": "python",
   "name": "python3"
  },
  "language_info": {
   "codemirror_mode": {
    "name": "ipython",
    "version": 3
   },
   "file_extension": ".py",
   "mimetype": "text/x-python",
   "name": "python",
   "nbconvert_exporter": "python",
   "pygments_lexer": "ipython3",
   "version": "3.12.4"
  }
 },
 "nbformat": 4,
 "nbformat_minor": 5
}

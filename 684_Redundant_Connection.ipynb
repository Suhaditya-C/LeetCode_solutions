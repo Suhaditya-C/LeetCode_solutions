{
  "nbformat": 4,
  "nbformat_minor": 0,
  "metadata": {
    "colab": {
      "provenance": [],
      "authorship_tag": "ABX9TyPRoliySs9TP+Jz4QfcEBBt",
      "include_colab_link": true
    },
    "kernelspec": {
      "name": "python3",
      "display_name": "Python 3"
    },
    "language_info": {
      "name": "python"
    }
  },
  "cells": [
    {
      "cell_type": "markdown",
      "metadata": {
        "id": "view-in-github",
        "colab_type": "text"
      },
      "source": [
        "<a href=\"https://colab.research.google.com/github/Suhaditya-C/LeetCode_solutions/blob/main/684_Redundant_Connection.ipynb\" target=\"_parent\"><img src=\"https://colab.research.google.com/assets/colab-badge.svg\" alt=\"Open In Colab\"/></a>"
      ]
    },
    {
      "cell_type": "markdown",
      "source": [
        "## 684. Redundant Connection\n",
        "\n",
        "In this problem, a tree is an undirected graph that is connected and has no cycles.\n",
        "\n",
        "You are given a graph that started as a tree with n nodes labeled from 1 to n, with one additional edge added. The added edge has two different vertices chosen from 1 to n, and was not an edge that already existed. The graph is represented as an array edges of length n where edges[i] = [ai, bi] indicates that there is an edge between nodes ai and bi in the graph.\n",
        "\n",
        "Return an edge that can be removed so that the resulting graph is a tree of n nodes. If there are multiple answers, return the answer that occurs last in the input.\n",
        "\n",
        "Example 1:\n",
        "\n",
        "Input: edges = [[1,2],[1,3],[2,3]]\n",
        "Output: [2,3]\n",
        "Example 2:\n",
        "\n",
        "Input: edges = [[1,2],[2,3],[3,4],[1,4],[1,5]]\n",
        "Output: [1,4]\n",
        "\n",
        "Constraints:\n",
        "\n",
        "n == edges.length\n",
        "3 <= n <= 1000\n",
        "edges[i].length == 2\n",
        "1 <= ai < bi <= edges.length\n",
        "ai != bi\n",
        "There are no repeated edges.\n",
        "The given graph is connected."
      ],
      "metadata": {
        "id": "P7xWHTCfJ3BY"
      }
    },
    {
      "cell_type": "markdown",
      "source": [
        "### Using DSU Algorithm"
      ],
      "metadata": {
        "id": "BGlX8osYc5sh"
      }
    },
    {
      "cell_type": "code",
      "source": [
        "edges = [[1,2],[2,3],[3,4],[1,4],[1,5]]\n",
        "n=len(edges)\n",
        "# Create root parent matrix\n",
        "root=[i for i in range(n+1)]  # first declare self as parent as components are independent initially\n",
        "size=[1]*(n+1)\n",
        "\n",
        "def find_root(x):               # find root of the element by traversing down the chain until the parent of that element is the parent of itself\n",
        "    if x!=root[x]:\n",
        "        root[x]=find_root(root[x])\n",
        "    return root[x]\n",
        "\n",
        "for a,b in edges:   # iterating thru the edges\n",
        "    r1,r2=find_root(a),find_root(b) # find roots of nodes\n",
        "    if r1==r2: # if roots are equal, the connection is redundant---possible answer----store it\n",
        "        res=[a,b]\n",
        "        break\n",
        "    elif size[r1]>=size[r2]: # greater or equal size chain add the smaller chain\n",
        "        root[r2]=r1 # update the root of smaller chain element\n",
        "        size[r1]+=size[r2] # update size of bigger chain\n",
        "    elif size[r1]<size[r2]: # else condition\n",
        "        root[r1]=r2\n",
        "        size[r2]+=size[r1]\n",
        "res"
      ],
      "metadata": {
        "id": "D7x47N2To1mH",
        "colab": {
          "base_uri": "https://localhost:8080/"
        },
        "outputId": "900da1b3-f96f-41b1-8526-d260ea257511"
      },
      "execution_count": 1,
      "outputs": [
        {
          "output_type": "execute_result",
          "data": {
            "text/plain": [
              "[1, 4]"
            ]
          },
          "metadata": {},
          "execution_count": 1
        }
      ]
    },
    {
      "cell_type": "markdown",
      "source": [
        "Final Solution"
      ],
      "metadata": {
        "id": "v5fXjcxncmcB"
      }
    },
    {
      "cell_type": "code",
      "source": [
        "class Solution:\n",
        "    def findRedundantConnection(self, edges: List[List[int]]) -> List[int]:\n",
        "        n=len(edges)\n",
        "        # Create root parent matrix\n",
        "        root=[i for i in range(n+1)]  # first declare self as parent as components are independent initially\n",
        "        size=[1]*(n+1)\n",
        "\n",
        "        def find_root(x):               # find root of the element by traversing down the chain until the parent of that element is the parent of itself\n",
        "            if x!=root[x]:\n",
        "                root[x]=find_root(root[x])\n",
        "            return root[x]\n",
        "        for a,b in edges:   # iterating thru the edges\n",
        "            r1,r2=find_root(a),find_root(b) # find roots of nodes\n",
        "            if r1==r2: # if roots are equal, the connection is redundant---possible answer----store it\n",
        "                return [a,b]\n",
        "                break\n",
        "            elif size[r1]>=size[r2]: # greater or equal size chain add the smaller chain\n",
        "                root[r2]=r1 # update the root of smaller chain element\n",
        "                size[r1]+=size[r2] # update size of bigger chain\n",
        "            elif size[r1]<size[r2]: # else condition\n",
        "                root[r1]=r2\n",
        "                size[r2]+=size[r1]"
      ],
      "metadata": {
        "id": "lx96TtaAcnvA"
      },
      "execution_count": null,
      "outputs": []
    }
  ]
}
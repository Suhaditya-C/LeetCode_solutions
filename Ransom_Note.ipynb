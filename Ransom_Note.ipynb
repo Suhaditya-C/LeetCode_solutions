{
  "nbformat": 4,
  "nbformat_minor": 0,
  "metadata": {
    "colab": {
      "provenance": [],
      "authorship_tag": "ABX9TyOVFvPtZsimS5JId/J8Ow3B",
      "include_colab_link": true
    },
    "kernelspec": {
      "name": "python3",
      "display_name": "Python 3"
    },
    "language_info": {
      "name": "python"
    }
  },
  "cells": [
    {
      "cell_type": "markdown",
      "metadata": {
        "id": "view-in-github",
        "colab_type": "text"
      },
      "source": [
        "<a href=\"https://colab.research.google.com/github/Suhaditya-C/LeetCode_solutions/blob/main/Ransom_Note.ipynb\" target=\"_parent\"><img src=\"https://colab.research.google.com/assets/colab-badge.svg\" alt=\"Open In Colab\"/></a>"
      ]
    },
    {
      "cell_type": "markdown",
      "source": [
        "383. Ransom Note\n",
        "\n",
        "Given two strings ransomNote and magazine, return true if ransomNote can be constructed by using the letters from magazine and false otherwise.\n",
        "\n",
        "Each letter in magazine can only be used once in ransomNote.\n",
        "\n",
        "Example 1:\n",
        "\n",
        "Input: ransomNote = \"a\", magazine = \"b\"\n",
        "Output: false\n",
        "Example 2:\n",
        "\n",
        "Input: ransomNote = \"aa\", magazine = \"ab\"\n",
        "Output: false\n",
        "Example 3:\n",
        "\n",
        "Input: ransomNote = \"aa\", magazine = \"aab\"\n",
        "Output: true\n",
        "\n",
        "Constraints:\n",
        "\n",
        "1 <= ransomNote.length, magazine.length <= 105\n",
        "ransomNote and magazine consist of lowercase English letters."
      ],
      "metadata": {
        "id": "6I9E128QJ3J9"
      }
    },
    {
      "cell_type": "code",
      "source": [
        "from collections import Counter"
      ],
      "metadata": {
        "id": "A2MisusKKCer"
      },
      "execution_count": 1,
      "outputs": []
    },
    {
      "cell_type": "markdown",
      "source": [
        "Final Solution"
      ],
      "metadata": {
        "id": "MGF1WLeWKLhY"
      }
    },
    {
      "cell_type": "code",
      "execution_count": null,
      "metadata": {
        "id": "mweswvA5J2nO"
      },
      "outputs": [],
      "source": [
        "class Solution:\n",
        "    def canConstruct(self, ransomNote: str, magazine: str) -> bool:\n",
        "      c1=Counter(ransomNote)\n",
        "      c2=Counter(magazine)\n",
        "      for keys in c1:\n",
        "        if c1[keys]>c2[keys]:\n",
        "          return False\n",
        "      return True"
      ]
    }
  ]
}
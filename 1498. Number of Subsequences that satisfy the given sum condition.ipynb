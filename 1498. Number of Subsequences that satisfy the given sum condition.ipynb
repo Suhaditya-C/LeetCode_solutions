{
 "cells": [
  {
   "cell_type": "markdown",
   "id": "51ab86c3",
   "metadata": {},
   "source": [
    "# 1498. Number of Subsequences that satisfy the given sum condition\n",
    "\n",
    "You are given an array of integers nums and an integer target.\n",
    "\n",
    "Return the number of non-empty subsequences of nums such that the sum of the minimum and maximum element on it is less or equal to target. Since the answer may be too large, return it modulo 109 + 7.\n",
    "\n",
    " \n",
    "\n",
    "Example 1:\n",
    "\n",
    "Input: nums = [3,5,6,7], target = 9\n",
    "Output: 4\n",
    "Explanation: There are 4 subsequences that satisfy the condition.\n",
    "[3] -> Min value + max value <= target (3 + 3 <= 9)\n",
    "[3,5] -> (3 + 5 <= 9)\n",
    "[3,5,6] -> (3 + 6 <= 9)\n",
    "[3,6] -> (3 + 6 <= 9)\n",
    "Example 2:\n",
    "\n",
    "Input: nums = [3,3,6,8], target = 10\n",
    "Output: 6\n",
    "Explanation: There are 6 subsequences that satisfy the condition. (nums can have repeated numbers).\n",
    "[3] , [3] , [3,3], [3,6] , [3,6] , [3,3,6]\n",
    "Example 3:\n",
    "\n",
    "Input: nums = [2,3,3,4,6,7], target = 12\n",
    "Output: 61\n",
    "Explanation: There are 63 non-empty subsequences, two of them do not satisfy the condition ([6,7], [7]).\n",
    "Number of valid subsequences (63 - 2 = 61).\n",
    " \n",
    "\n",
    "Constraints:\n",
    "\n",
    "1 <= nums.length <= 105\n",
    "1 <= nums[i] <= 106\n",
    "1 <= target <= 106"
   ]
  },
  {
   "cell_type": "markdown",
   "id": "9ccbfa9a",
   "metadata": {},
   "source": [
    "## Solution:\n",
    "Two Pointer Approach"
   ]
  },
  {
   "cell_type": "code",
   "execution_count": 1,
   "id": "7bdeab33",
   "metadata": {},
   "outputs": [
    {
     "data": {
      "text/plain": [
       "61"
      ]
     },
     "execution_count": 1,
     "metadata": {},
     "output_type": "execute_result"
    }
   ],
   "source": [
    "import math\n",
    "nums = [2,3,3,4,6,7]; target = 12\n",
    "nums.sort()\n",
    "i=0\n",
    "j=len(nums)-1\n",
    "cnt=0\n",
    "MOD=10**9+7\n",
    "while i<=j:\n",
    "    if nums[i]+nums[j]>target:\n",
    "        j-=1\n",
    "    else:\n",
    "        cnt+=(pow(2,j-i,MOD))%MOD\n",
    "        i+=1\n",
    "cnt%MOD"
   ]
  }
 ],
 "metadata": {
  "kernelspec": {
   "display_name": "Python 3",
   "language": "python",
   "name": "python3"
  },
  "language_info": {
   "codemirror_mode": {
    "name": "ipython",
    "version": 3
   },
   "file_extension": ".py",
   "mimetype": "text/x-python",
   "name": "python",
   "nbconvert_exporter": "python",
   "pygments_lexer": "ipython3",
   "version": "3.10.9"
  }
 },
 "nbformat": 4,
 "nbformat_minor": 5
}

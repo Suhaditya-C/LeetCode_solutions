{
 "cells": [
  {
   "cell_type": "markdown",
   "id": "36f8f840",
   "metadata": {},
   "source": [
    "# 2616. Minimize the Maximum Difference of Pairs\n",
    "\n",
    "You are given a 0-indexed integer array nums and an integer p. Find p pairs of indices of nums such that the maximum difference amongst all the pairs is minimized. Also, ensure no index appears more than once amongst the p pairs.\n",
    "\n",
    "Note that for a pair of elements at the index i and j, the difference of this pair is |nums[i] - nums[j]|, where |x| represents the absolute value of x.\n",
    "\n",
    "Return the minimum maximum difference among all p pairs. We define the maximum of an empty set to be zero.\n",
    "\n",
    " \n",
    "\n",
    "Example 1:\n",
    "\n",
    "Input: nums = [10,1,2,7,1,3], p = 2\n",
    "Output: 1\n",
    "Explanation: The first pair is formed from the indices 1 and 4, and the second pair is formed from the indices 2 and 5. \n",
    "The maximum difference is max(|nums[1] - nums[4]|, |nums[2] - nums[5]|) = max(0, 1) = 1. Therefore, we return 1.\n",
    "Example 2:\n",
    "\n",
    "Input: nums = [4,2,1,2], p = 1\n",
    "Output: 0\n",
    "Explanation: Let the indices 1 and 3 form a pair. The difference of that pair is |2 - 2| = 0, which is the minimum we can attain.\n",
    " \n",
    "\n",
    "Constraints:\n",
    "\n",
    "1 <= nums.length <= 105\n",
    "0 <= nums[i] <= 109\n",
    "0 <= p <= (nums.length)/2"
   ]
  },
  {
   "cell_type": "markdown",
   "id": "aaae98da",
   "metadata": {},
   "source": [
    "## Solution:\n",
    "\n",
    "Intuition\n",
    "The goal is to form p non-overlapping pairs in the array such that the maximum absolute difference in each pair is minimized.\n",
    "\n",
    "We observe:\n",
    "\n",
    "Sorting the array allows us to pair similar elements together.\n",
    "Using binary search over the possible value range helps efficiently minimize the maximum difference.\n",
    "\n",
    "Approach\n",
    "\n",
    "Sort the array to bring close values together.\n",
    "Perform binary search on the possible maximum difference (from 0 to a large number, like (10^9)).\n",
    "For each mid value during binary search:\n",
    "Try forming as many valid non-overlapping pairs as possible where difference ≤ mid.\n",
    "If number of such pairs ≥ p, then reduce the range to look for smaller possible difference.\n",
    "Otherwise, increase the range.\n",
    "Return the minimum maximum difference that allows forming p such pairs."
   ]
  },
  {
   "cell_type": "code",
   "execution_count": null,
   "id": "2b5a9753",
   "metadata": {},
   "outputs": [
    {
     "data": {
      "text/plain": [
       "1"
      ]
     },
     "execution_count": 2,
     "metadata": {},
     "output_type": "execute_result"
    }
   ],
   "source": [
    "nums = [10,1,2,7,1,3]; p = 2\n",
    "nums.sort()\n",
    "def canformpairs(max_diff):\n",
    "    cnt=0\n",
    "    i=1\n",
    "    while i<len(nums):\n",
    "        if nums[i] - nums[i-1] <=max_diff:\n",
    "            cnt+=1\n",
    "            i+=2 #Avoid overlapping of pairs\n",
    "        else:\n",
    "            i+=1\n",
    "    return cnt>=p\n",
    "\n",
    "left=0\n",
    "right=10**9\n",
    "while left<=right:\n",
    "    mid=(left+right)//2\n",
    "    if canformpairs(mid):\n",
    "        right=mid-1\n",
    "    else:\n",
    "        left=mid+1\n",
    "\n",
    "left"
   ]
  }
 ],
 "metadata": {
  "kernelspec": {
   "display_name": "Python 3",
   "language": "python",
   "name": "python3"
  },
  "language_info": {
   "codemirror_mode": {
    "name": "ipython",
    "version": 3
   },
   "file_extension": ".py",
   "mimetype": "text/x-python",
   "name": "python",
   "nbconvert_exporter": "python",
   "pygments_lexer": "ipython3",
   "version": "3.10.9"
  }
 },
 "nbformat": 4,
 "nbformat_minor": 5
}

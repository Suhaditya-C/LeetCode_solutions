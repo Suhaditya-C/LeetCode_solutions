{
 "cells": [
  {
   "cell_type": "markdown",
   "id": "f70cbdf1",
   "metadata": {},
   "source": [
    "# 440. K-th Smallest in Lexicographical Order\n",
    "\n",
    "Given two integers n and k, return the kth lexicographically smallest integer in the range [1, n].\n",
    "\n",
    " \n",
    "\n",
    "Example 1:\n",
    "\n",
    "Input: n = 13, k = 2\n",
    "Output: 10\n",
    "Explanation: The lexicographical order is [1, 10, 11, 12, 13, 2, 3, 4, 5, 6, 7, 8, 9], so the second smallest number is 10.\n",
    "Example 2:\n",
    "\n",
    "Input: n = 1, k = 1\n",
    "Output: 1\n",
    " \n",
    "\n",
    "Constraints:\n",
    "\n",
    "1 <= k <= n <= 109"
   ]
  },
  {
   "cell_type": "markdown",
   "id": "e4bf1b56",
   "metadata": {},
   "source": [
    "## Solution: DFS"
   ]
  },
  {
   "cell_type": "markdown",
   "id": "163ff1ed",
   "metadata": {},
   "source": [
    "Memory Limit Exceeded:\n",
    "34 / 69 testcases passed"
   ]
  },
  {
   "cell_type": "code",
   "execution_count": 2,
   "id": "1e18c2f2",
   "metadata": {},
   "outputs": [
    {
     "data": {
      "text/plain": [
       "10"
      ]
     },
     "execution_count": 2,
     "metadata": {},
     "output_type": "execute_result"
    }
   ],
   "source": [
    "n = 13;k=2\n",
    "\n",
    "res=[]\n",
    "\n",
    "def dfs(num):\n",
    "    if num>n:\n",
    "        return\n",
    "    res.append(num)\n",
    "    for dig in range(10):\n",
    "        nxtnum=num*10+dig\n",
    "        if nxtnum<=n:\n",
    "            dfs(nxtnum)\n",
    "        else:\n",
    "            break\n",
    "\n",
    "for i in range(1,10):\n",
    "    if len(res)>=k:\n",
    "        break\n",
    "    dfs(i)\n",
    "    \n",
    "res[k-1]"
   ]
  },
  {
   "cell_type": "markdown",
   "id": "1202d583",
   "metadata": {},
   "source": [
    "## Final efficient solution\n",
    "Accepted"
   ]
  },
  {
   "cell_type": "code",
   "execution_count": 33,
   "id": "172e31ae",
   "metadata": {},
   "outputs": [
    {
     "data": {
      "text/plain": [
       "1358"
      ]
     },
     "execution_count": 33,
     "metadata": {},
     "output_type": "execute_result"
    }
   ],
   "source": [
    "n=1361\n",
    "k=400\n",
    "\n",
    "# Function to count numbers in the current subtree (numbers starting with 'cur')\n",
    "def count(cur):\n",
    "    res=0\n",
    "    nei=cur+1  # next neighbor at current level\n",
    "    while cur<=n:\n",
    "        if n<nei:  # if neighbor is beyond n, adjust to n+1\n",
    "            nei=n+1\n",
    "        res+=nei - cur  # count numbers between cur and nei\n",
    "        cur*=10  # move to next level in the tree (left child)\n",
    "        nei*=10  # move neighbor to next level\n",
    "    return res\n",
    "\n",
    "# Start with the first number in the lex order (1)\n",
    "cur=1\n",
    "i=1  # current position in lex order\n",
    "while i<k:\n",
    "    steps=count(cur)  # count numbers in current subtree\n",
    "    if i + steps <=k:  # if k is not in current subtree\n",
    "        cur+=1  # move to next sibling\n",
    "        i+=steps  # increment position by subtree size\n",
    "    else:  # k is in current subtree\n",
    "        cur*=10  # move to first child\n",
    "        i+=1  # increment position (since we moved one level down)\n",
    "cur "
   ]
  }
 ],
 "metadata": {
  "kernelspec": {
   "display_name": "Python 3",
   "language": "python",
   "name": "python3"
  },
  "language_info": {
   "codemirror_mode": {
    "name": "ipython",
    "version": 3
   },
   "file_extension": ".py",
   "mimetype": "text/x-python",
   "name": "python",
   "nbconvert_exporter": "python",
   "pygments_lexer": "ipython3",
   "version": "3.10.9"
  }
 },
 "nbformat": 4,
 "nbformat_minor": 5
}

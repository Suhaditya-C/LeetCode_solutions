{
 "cells": [
  {
   "cell_type": "markdown",
   "id": "5b096cbb",
   "metadata": {},
   "source": [
    "# 2918. Minimum Equal Sum of Two Arrays After Replacing Zeros\n",
    "\n",
    "You are given two arrays nums1 and nums2 consisting of positive integers.\n",
    "\n",
    "You have to replace all the 0's in both arrays with strictly positive integers such that the sum of elements of both arrays becomes equal.\n",
    "\n",
    "Return the minimum equal sum you can obtain, or -1 if it is impossible.\n",
    "\n",
    " \n",
    "\n",
    "Example 1:\n",
    "\n",
    "Input: nums1 = [3,2,0,1,0], nums2 = [6,5,0]\n",
    "Output: 12\n",
    "Explanation: We can replace 0's in the following way:\n",
    "- Replace the two 0's in nums1 with the values 2 and 4. The resulting array is nums1 = [3,2,2,1,4].\n",
    "- Replace the 0 in nums2 with the value 1. The resulting array is nums2 = [6,5,1].\n",
    "Both arrays have an equal sum of 12. It can be shown that it is the minimum sum we can obtain.\n",
    "Example 2:\n",
    "\n",
    "Input: nums1 = [2,0,2,0], nums2 = [1,4]\n",
    "Output: -1\n",
    "Explanation: It is impossible to make the sum of both arrays equal.\n",
    " \n",
    "\n",
    "Constraints:\n",
    "\n",
    "1 <= nums1.length, nums2.length <= 105\n",
    "0 <= nums1[i], nums2[i] <= 106"
   ]
  },
  {
   "cell_type": "markdown",
   "id": "32ec3a42",
   "metadata": {},
   "source": [
    "## Solution"
   ]
  },
  {
   "cell_type": "code",
   "execution_count": 7,
   "id": "07a92db7",
   "metadata": {},
   "outputs": [
    {
     "data": {
      "text/plain": [
       "-1"
      ]
     },
     "execution_count": 7,
     "metadata": {},
     "output_type": "execute_result"
    }
   ],
   "source": [
    "nums1 = [2,0,2,0]; nums2 = [1,4]\n",
    "m=sum(nums1)+nums1.count(0) #Counting sum when 0s are converted to 1s (for min sum)\n",
    "n=sum(nums2)+nums2.count(0) #Counting sum when 0s are converted to 1s (for min sum)\n",
    "if (nums1.count(0) ==0 and sum(nums1)<sum(nums2)+nums2.count(0)) or (nums2.count(0) ==0 and sum(nums2)<sum(nums1)+nums1.count(0)): #If no 0s are there in any one of the arrays and its sum is less than the other converted arrays\n",
    "    res=-1\n",
    "else:\n",
    "    res=max(m,n)\n",
    "res"
   ]
  }
 ],
 "metadata": {
  "kernelspec": {
   "display_name": "Python 3",
   "language": "python",
   "name": "python3"
  },
  "language_info": {
   "codemirror_mode": {
    "name": "ipython",
    "version": 3
   },
   "file_extension": ".py",
   "mimetype": "text/x-python",
   "name": "python",
   "nbconvert_exporter": "python",
   "pygments_lexer": "ipython3",
   "version": "3.12.4"
  }
 },
 "nbformat": 4,
 "nbformat_minor": 5
}

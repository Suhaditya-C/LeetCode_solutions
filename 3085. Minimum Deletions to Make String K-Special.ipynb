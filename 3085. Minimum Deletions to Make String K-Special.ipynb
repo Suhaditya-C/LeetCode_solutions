{
 "cells": [
  {
   "cell_type": "markdown",
   "id": "3736851b",
   "metadata": {},
   "source": [
    "# 3085. Minimum Deletions to Make String K-Special\n",
    "\n",
    "You are given a string word and an integer k.\n",
    "\n",
    "We consider word to be k-special if |freq(word[i]) - freq(word[j])| <= k for all indices i and j in the string.\n",
    "\n",
    "Here, freq(x) denotes the frequency of the character x in word, and |y| denotes the absolute value of y.\n",
    "\n",
    "Return the minimum number of characters you need to delete to make word k-special.\n",
    "\n",
    " \n",
    "\n",
    "Example 1:\n",
    "\n",
    "Input: word = \"aabcaba\", k = 0\n",
    "\n",
    "Output: 3\n",
    "\n",
    "Explanation: We can make word 0-special by deleting 2 occurrences of \"a\" and 1 occurrence of \"c\". Therefore, word becomes equal to \"baba\" where freq('a') == freq('b') == 2.\n",
    "\n",
    "Example 2:\n",
    "\n",
    "Input: word = \"dabdcbdcdcd\", k = 2\n",
    "\n",
    "Output: 2\n",
    "\n",
    "Explanation: We can make word 2-special by deleting 1 occurrence of \"a\" and 1 occurrence of \"d\". Therefore, word becomes equal to \"bdcbdcdcd\" where freq('b') == 2, freq('c') == 3, and freq('d') == 4.\n",
    "\n",
    "Example 3:\n",
    "\n",
    "Input: word = \"aaabaaa\", k = 2\n",
    "\n",
    "Output: 1\n",
    "\n",
    "Explanation: We can make word 2-special by deleting 1 occurrence of \"b\". Therefore, word becomes equal to \"aaaaaa\" where each letter's frequency is now uniformly 6.\n",
    "\n",
    " \n",
    "\n",
    "Constraints:\n",
    "\n",
    "1 <= word.length <= 105\n",
    "0 <= k <= 105\n",
    "word consists only of lowercase English letters."
   ]
  },
  {
   "cell_type": "markdown",
   "id": "373ebafd",
   "metadata": {},
   "source": [
    "## Solution\n",
    "\n",
    "1. Intuition\n",
    "\n",
    "The problem requires minimizing the number of deletions needed to ensure all character frequencies lie within a window of size k. The idea is to make all character frequencies close to each other. So, the intuition is to try every possible frequency as a base and then either delete extra characters or entire groups to bring all frequencies within the acceptable range.\n",
    "\n",
    "2. Approach\n",
    "\n",
    "Count the frequency of each character in the string.\n",
    "\n",
    "Store these frequencies in an array and sort it.\n",
    "\n",
    "For each frequency in the array, consider it as the lower bound of a valid frequency range [x, x + k].\n",
    "\n",
    "For every other frequency, calculate the deletions required to bring them within this range:\n",
    "\n",
    "If it's less than the base frequency, we delete it entirely.\n",
    "\n",
    "If it's greater than the upper bound (base + k), we delete the excess.\n",
    "\n",
    "Track the minimum deletions required across all possible base frequencies."
   ]
  },
  {
   "cell_type": "code",
   "execution_count": 1,
   "id": "e8a58470",
   "metadata": {},
   "outputs": [],
   "source": [
    "from collections import Counter"
   ]
  },
  {
   "cell_type": "code",
   "execution_count": 15,
   "id": "b670bc8c",
   "metadata": {},
   "outputs": [
    {
     "data": {
      "text/plain": [
       "1"
      ]
     },
     "execution_count": 15,
     "metadata": {},
     "output_type": "execute_result"
    }
   ],
   "source": [
    "word = \"aaabaaa\"; k = 2\n",
    "# Count the frequency of each character in the string\n",
    "mpp = Counter(word)\n",
    "\n",
    "arr = []  # This will hold the frequencies of each character\n",
    "res = float('inf')  # Initialize result with infinity for finding the minimum deletions\n",
    "\n",
    "# Store all the frequency values in arr\n",
    "for value in mpp.values():\n",
    "    arr.append(value)\n",
    "\n",
    "# Sort the frequency array to process characters in order of increasing frequency\n",
    "arr.sort()\n",
    "\n",
    "# Try making all character frequencies lie within a range of size 'k' starting from arr[i]\n",
    "for i in range(len(arr)):\n",
    "    deletions = 0  # Count how many deletions are needed for this configuration\n",
    "\n",
    "    for j in range(len(arr)):\n",
    "        if i == j:\n",
    "            continue  # Skip comparing the frequency with itself\n",
    "\n",
    "        if arr[i] > arr[j]:\n",
    "            # If arr[j] is less than the base frequency arr[i], delete all of arr[j]\n",
    "            deletions += arr[j]\n",
    "        elif arr[i] + k < arr[j]:\n",
    "            # If arr[j] is greater than the allowed max (arr[i] + k), delete the excess\n",
    "            deletions += arr[j] - arr[i] - k\n",
    "\n",
    "    # Keep track of the minimum deletions across all base frequencies\n",
    "    res = min(res, deletions)\n",
    "\n",
    "res  # Final result: minimum deletions required to make all frequencies lie within a window of size k"
   ]
  }
 ],
 "metadata": {
  "kernelspec": {
   "display_name": "Python 3",
   "language": "python",
   "name": "python3"
  },
  "language_info": {
   "codemirror_mode": {
    "name": "ipython",
    "version": 3
   },
   "file_extension": ".py",
   "mimetype": "text/x-python",
   "name": "python",
   "nbconvert_exporter": "python",
   "pygments_lexer": "ipython3",
   "version": "3.10.9"
  }
 },
 "nbformat": 4,
 "nbformat_minor": 5
}

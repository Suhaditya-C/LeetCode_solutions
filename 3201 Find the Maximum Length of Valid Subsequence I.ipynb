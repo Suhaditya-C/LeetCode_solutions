{
 "cells": [
  {
   "cell_type": "markdown",
   "id": "2a34a894",
   "metadata": {},
   "source": [
    "# 3201 Find the Maximum Length of Valid Subsequence I\n",
    "\n",
    "You are given an integer array nums.\n",
    "A subsequence sub of nums with length x is called valid if it satisfies:\n",
    "\n",
    "(sub[0] + sub[1]) % 2 == (sub[1] + sub[2]) % 2 == ... == (sub[x - 2] + sub[x - 1]) % 2.\n",
    "Return the length of the longest valid subsequence of nums.\n",
    "\n",
    "A subsequence is an array that can be derived from another array by deleting some or no elements without changing the order of the remaining elements.\n",
    "\n",
    " \n",
    "\n",
    "Example 1:\n",
    "\n",
    "Input: nums = [1,2,3,4]\n",
    "\n",
    "Output: 4\n",
    "\n",
    "Explanation:\n",
    "\n",
    "The longest valid subsequence is [1, 2, 3, 4].\n",
    "\n",
    "Example 2:\n",
    "\n",
    "Input: nums = [1,2,1,1,2,1,2]\n",
    "\n",
    "Output: 6\n",
    "\n",
    "Explanation:\n",
    "\n",
    "The longest valid subsequence is [1, 2, 1, 2, 1, 2].\n",
    "\n",
    "Example 3:\n",
    "\n",
    "Input: nums = [1,3]\n",
    "\n",
    "Output: 2\n",
    "\n",
    "Explanation:\n",
    "\n",
    "The longest valid subsequence is [1, 3].\n",
    "\n",
    " \n",
    "\n",
    "Constraints:\n",
    "\n",
    "2 <= nums.length <= 2 * 105\n",
    "1 <= nums[i] <= 107"
   ]
  },
  {
   "cell_type": "markdown",
   "id": "5482ce84",
   "metadata": {},
   "source": [
    "## Solution:\n",
    "\n",
    "Try all the 4 cases"
   ]
  },
  {
   "cell_type": "code",
   "execution_count": 7,
   "id": "ea36a471",
   "metadata": {},
   "outputs": [
    {
     "data": {
      "text/plain": [
       "4"
      ]
     },
     "execution_count": 7,
     "metadata": {},
     "output_type": "execute_result"
    }
   ],
   "source": [
    "nums= [1,2,3,4]\n",
    "alternate=0\n",
    "even=0\n",
    "odd=0\n",
    "prev_val=nums[0]\n",
    "for i in range(len(nums)):\n",
    "    if nums[i]%2==0:\n",
    "        even+=1\n",
    "    else:\n",
    "        odd+=1\n",
    "    if i>0 and prev_val%2==1 and nums[i]%2==0:\n",
    "        prev_val=nums[i]\n",
    "        alternate+=1\n",
    "    elif i>0 and prev_val%2==0 and nums[i]%2==1:\n",
    "        prev_val=nums[i]\n",
    "        alternate+=1\n",
    "\n",
    "max(alternate+1,odd,even)"
   ]
  }
 ],
 "metadata": {
  "kernelspec": {
   "display_name": "Python 3",
   "language": "python",
   "name": "python3"
  },
  "language_info": {
   "codemirror_mode": {
    "name": "ipython",
    "version": 3
   },
   "file_extension": ".py",
   "mimetype": "text/x-python",
   "name": "python",
   "nbconvert_exporter": "python",
   "pygments_lexer": "ipython3",
   "version": "3.10.9"
  }
 },
 "nbformat": 4,
 "nbformat_minor": 5
}

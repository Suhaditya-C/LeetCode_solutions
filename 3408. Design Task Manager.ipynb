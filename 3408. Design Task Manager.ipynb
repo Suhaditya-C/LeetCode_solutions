{
 "cells": [
  {
   "cell_type": "markdown",
   "id": "6a2aaa64",
   "metadata": {},
   "source": [
    "# 3408. Design Task Manager\n",
    "\n",
    "There is a task management system that allows users to manage their tasks, each associated with a priority. The system should efficiently handle adding, modifying, executing, and removing tasks.\n",
    "\n",
    "Implement the TaskManager class:\n",
    "\n",
    "TaskManager(vector<vector<int>>& tasks) initializes the task manager with a list of user-task-priority triples. Each element in the input list is of the form [userId, taskId, priority], which adds a task to the specified user with the given priority.\n",
    "\n",
    "void add(int userId, int taskId, int priority) adds a task with the specified taskId and priority to the user with userId. It is guaranteed that taskId does not exist in the system.\n",
    "\n",
    "void edit(int taskId, int newPriority) updates the priority of the existing taskId to newPriority. It is guaranteed that taskId exists in the system.\n",
    "\n",
    "void rmv(int taskId) removes the task identified by taskId from the system. It is guaranteed that taskId exists in the system.\n",
    "\n",
    "int execTop() executes the task with the highest priority across all users. If there are multiple tasks with the same highest priority, execute the one with the highest taskId. After executing, the taskId is removed from the system. Return the userId associated with the executed task. If no tasks are available, return -1.\n",
    "\n",
    "Note that a user may be assigned multiple tasks.\n",
    "\n",
    " \n",
    "\n",
    "Example 1:\n",
    "\n",
    "Input:\n",
    "[\"TaskManager\", \"add\", \"edit\", \"execTop\", \"rmv\", \"add\", \"execTop\"]\n",
    "[[[[1, 101, 10], [2, 102, 20], [3, 103, 15]]], [4, 104, 5], [102, 8], [], [101], [5, 105, 15], []]\n",
    "\n",
    "Output:\n",
    "[null, null, null, 3, null, null, 5]\n",
    "\n",
    "Explanation\n",
    "\n",
    "TaskManager taskManager = new TaskManager([[1, 101, 10], [2, 102, 20], [3, 103, 15]]); // Initializes with three tasks for Users 1, 2, and 3.\n",
    "taskManager.add(4, 104, 5); // Adds task 104 with priority 5 for User 4.\n",
    "taskManager.edit(102, 8); // Updates priority of task 102 to 8.\n",
    "taskManager.execTop(); // return 3. Executes task 103 for User 3.\n",
    "taskManager.rmv(101); // Removes task 101 from the system.\n",
    "taskManager.add(5, 105, 15); // Adds task 105 with priority 15 for User 5.\n",
    "taskManager.execTop(); // return 5. Executes task 105 for User 5.\n",
    " \n",
    "\n",
    "Constraints:\n",
    "\n",
    "1 <= tasks.length <= 105\n",
    "0 <= userId <= 105\n",
    "0 <= taskId <= 105\n",
    "0 <= priority <= 109\n",
    "0 <= newPriority <= 109\n",
    "At most 2 * 105 calls will be made in total to add, edit, rmv, and execTop methods.\n",
    "The input is generated such that taskId will be valid."
   ]
  },
  {
   "cell_type": "markdown",
   "id": "83561a5d",
   "metadata": {},
   "source": [
    "## Solution: Using a SortedSet exec and a hashmap for referencing in all other operations"
   ]
  },
  {
   "cell_type": "code",
   "execution_count": 1,
   "id": "f78aa1c9",
   "metadata": {},
   "outputs": [],
   "source": [
    "from sortedcontainers import SortedSet"
   ]
  },
  {
   "cell_type": "code",
   "execution_count": 23,
   "id": "1da086f8",
   "metadata": {},
   "outputs": [],
   "source": [
    "from typing import List\n",
    "\n",
    "class TaskManager:\n",
    "\n",
    "    def __init__(self, tasks: List[List[int]]):\n",
    "\n",
    "        self.taskmap={}\n",
    "        self.globalset=SortedSet()\n",
    "        for userId, taskId, priority in tasks:\n",
    "            self.taskmap[taskId]=(priority,userId)\n",
    "            self.globalset.add((priority,taskId,userId))\n",
    "\n",
    "    def add(self, userId: int, taskId: int, priority: int) -> None:\n",
    "\n",
    "        self.taskmap[taskId]=(priority,userId)\n",
    "        self.globalset.add((priority,taskId,userId))\n",
    "        return None\n",
    "\n",
    "\n",
    "    def edit(self, taskId: int, newPriority: int) -> None:\n",
    "\n",
    "        oldpriority,userId=self.taskmap[taskId]\n",
    "        self.taskmap[taskId]=(newPriority,userId)\n",
    "\n",
    "        self.globalset.remove((oldpriority,taskId,userId))\n",
    "        self.globalset.add((newPriority,taskId,userId))\n",
    "\n",
    "        return None\n",
    "        \n",
    "\n",
    "    def rmv(self, taskId: int) -> None:\n",
    "        \n",
    "        priority,userId=self.taskmap[taskId]\n",
    "        del self.taskmap[taskId]\n",
    "\n",
    "        self.globalset.remove((priority,taskId,userId))\n",
    "        return None\n",
    "\n",
    "        \n",
    "\n",
    "    def execTop(self) -> int:\n",
    "        if len(self.taskmap)==0:\n",
    "            return -1\n",
    "        priority,taskId,userId=self.globalset[-1]\n",
    "        self.globalset.pop()\n",
    "        del self.taskmap[taskId]\n",
    "        return userId     \n",
    "\n",
    "\n",
    "# Your TaskManager object will be instantiated and called as such:\n",
    "# obj = TaskManager(tasks)\n",
    "# obj.add(userId,taskId,priority)\n",
    "# obj.edit(taskId,newPriority)\n",
    "# obj.rmv(taskId)\n",
    "# param_4 = obj.execTop()"
   ]
  },
  {
   "cell_type": "code",
   "execution_count": 24,
   "id": "70c76628",
   "metadata": {},
   "outputs": [
    {
     "data": {
      "text/plain": [
       "[None, None, None, 3, None, None, 5]"
      ]
     },
     "execution_count": 24,
     "metadata": {},
     "output_type": "execute_result"
    }
   ],
   "source": [
    "calls=[\"TaskManager\",\"add\",\"edit\",\"execTop\",\"rmv\",\"add\",\"execTop\"]\n",
    "inputs=[[[[1,101,10],[2,102,20],[3,103,15]]],[4,104,5],[102,8],[],[101],[5,105,15],[]]\n",
    "res=[]\n",
    "for i in range(len(calls)):\n",
    "    if calls[i]==\"TaskManager\":\n",
    "        tasks=inputs[i][0]\n",
    "        obj=TaskManager(tasks)\n",
    "        res.append(None)\n",
    "    elif calls[i]==\"add\":\n",
    "        userId,taskId,priority=inputs[i][0],inputs[i][1],inputs[i][2]\n",
    "        res.append(obj.add(userId,taskId,priority))\n",
    "    elif calls[i]==\"edit\":\n",
    "        taskId,newPriority=inputs[i][0],inputs[i][1]\n",
    "        res.append(obj.edit(taskId,newPriority))\n",
    "    elif calls[i]==\"rmv\":\n",
    "        taskId=inputs[i][0]\n",
    "        res.append(obj.rmv(taskId))\n",
    "    else:\n",
    "        res.append(obj.execTop())\n",
    "res"
   ]
  }
 ],
 "metadata": {
  "kernelspec": {
   "display_name": "Python 3",
   "language": "python",
   "name": "python3"
  },
  "language_info": {
   "codemirror_mode": {
    "name": "ipython",
    "version": 3
   },
   "file_extension": ".py",
   "mimetype": "text/x-python",
   "name": "python",
   "nbconvert_exporter": "python",
   "pygments_lexer": "ipython3",
   "version": "3.10.9"
  }
 },
 "nbformat": 4,
 "nbformat_minor": 5
}

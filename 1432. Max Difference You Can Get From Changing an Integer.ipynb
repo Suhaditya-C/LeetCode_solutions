{
 "cells": [
  {
   "cell_type": "markdown",
   "id": "21095413",
   "metadata": {},
   "source": [
    "# 1432. Max Difference You Can Get From Changing an Integer\n",
    "\n",
    "You are given an integer num. You will apply the following steps to num two separate times:\n",
    "\n",
    "Pick a digit x (0 <= x <= 9).\n",
    "Pick another digit y (0 <= y <= 9). Note y can be equal to x.\n",
    "Replace all the occurrences of x in the decimal representation of num by y.\n",
    "Let a and b be the two results from applying the operation to num independently.\n",
    "\n",
    "Return the max difference between a and b.\n",
    "\n",
    "Note that neither a nor b may have any leading zeros, and must not be 0.\n",
    "\n",
    " \n",
    "\n",
    "Example 1:\n",
    "\n",
    "Input: num = 555\n",
    "Output: 888\n",
    "Explanation: The first time pick x = 5 and y = 9 and store the new integer in a.\n",
    "The second time pick x = 5 and y = 1 and store the new integer in b.\n",
    "We have now a = 999 and b = 111 and max difference = 888\n",
    "Example 2:\n",
    "\n",
    "Input: num = 9\n",
    "Output: 8\n",
    "Explanation: The first time pick x = 9 and y = 9 and store the new integer in a.\n",
    "The second time pick x = 9 and y = 1 and store the new integer in b.\n",
    "We have now a = 9 and b = 1 and max difference = 8\n",
    " \n",
    "\n",
    "Constraints:\n",
    "\n",
    "1 <= num <= 108"
   ]
  },
  {
   "cell_type": "markdown",
   "id": "78aeea76",
   "metadata": {},
   "source": [
    "## Solution"
   ]
  },
  {
   "cell_type": "code",
   "execution_count": null,
   "id": "91764db0",
   "metadata": {},
   "outputs": [
    {
     "data": {
      "text/plain": [
       "8808050"
      ]
     },
     "execution_count": 45,
     "metadata": {},
     "output_type": "execute_result"
    }
   ],
   "source": [
    "\n",
    "num = 1101057\n",
    "num = str(num)\n",
    "\n",
    "# Initialize strings to store the maximum and minimum numbers after digit replacement\n",
    "maxnum = ''\n",
    "minnum = ''\n",
    "\n",
    "# Initialize dictionaries to store digit mappings for creating max and min numbers\n",
    "mpp1, mpp2 = {}, {}\n",
    "\n",
    "for char in num:\n",
    "    # For minimum number: if first digit is '1', replace first non-1, non-0 digit with '0'\n",
    "    if num[0] == '1' and char != '1' and char != '0' and len(mpp1) == 0:\n",
    "        mpp1[char] = '0'\n",
    "    \n",
    "    # For minimum number: if first digit is not '1', replace first digit with '1'\n",
    "    elif num[0] != '1' and len(mpp1) == 0:\n",
    "        mpp1[num[0]] = '1'\n",
    "    \n",
    "    # For maximum number: if first digit is '9', replace first non-9 digit with '9'\n",
    "    if num[0] == '9' and char != '9' and len(mpp2) == 0:\n",
    "        mpp2[char] = '9'\n",
    "    \n",
    "    # For maximum number: if first digit is not '9', replace first digit with '9'\n",
    "    elif num[0] != '9' and len(mpp2) == 0:\n",
    "        mpp2[num[0]] = '9'\n",
    "\n",
    "# Build maxnum and minnum by applying the mappings to each digit\n",
    "for i in range(len(num)):\n",
    "    # If digit exists in mpp1, append mapped value to minnum, else append original digit\n",
    "    if num[i] in mpp1:\n",
    "        minnum += mpp1[num[i]]\n",
    "    else:\n",
    "        minnum += num[i]\n",
    "    \n",
    "    # If digit exists in mpp2, append mapped value to maxnum, else append original digit\n",
    "    if num[i] in mpp2:\n",
    "        maxnum += mpp2[num[i]]\n",
    "    else:\n",
    "        maxnum += num[i]\n",
    "\n",
    "int(maxnum) - int(minnum)"
   ]
  }
 ],
 "metadata": {
  "kernelspec": {
   "display_name": "Python 3",
   "language": "python",
   "name": "python3"
  },
  "language_info": {
   "codemirror_mode": {
    "name": "ipython",
    "version": 3
   },
   "file_extension": ".py",
   "mimetype": "text/x-python",
   "name": "python",
   "nbconvert_exporter": "python",
   "pygments_lexer": "ipython3",
   "version": "3.10.9"
  }
 },
 "nbformat": 4,
 "nbformat_minor": 5
}

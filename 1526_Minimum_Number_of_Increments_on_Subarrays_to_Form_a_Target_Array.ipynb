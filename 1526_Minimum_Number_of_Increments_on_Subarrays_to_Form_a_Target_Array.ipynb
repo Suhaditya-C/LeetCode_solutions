{
  "nbformat": 4,
  "nbformat_minor": 0,
  "metadata": {
    "colab": {
      "provenance": [],
      "authorship_tag": "ABX9TyPkOzQUsGiEXSMkpUBzynwh",
      "include_colab_link": true
    },
    "kernelspec": {
      "name": "python3",
      "display_name": "Python 3"
    },
    "language_info": {
      "name": "python"
    }
  },
  "cells": [
    {
      "cell_type": "markdown",
      "metadata": {
        "id": "view-in-github",
        "colab_type": "text"
      },
      "source": [
        "<a href=\"https://colab.research.google.com/github/Suhaditya-C/LeetCode_solutions/blob/main/1526_Minimum_Number_of_Increments_on_Subarrays_to_Form_a_Target_Array.ipynb\" target=\"_parent\"><img src=\"https://colab.research.google.com/assets/colab-badge.svg\" alt=\"Open In Colab\"/></a>"
      ]
    },
    {
      "cell_type": "markdown",
      "source": [
        "# 1526. Minimum Number of Increments on Subarrays to Form a Target Array\n",
        "\n",
        "You are given an integer array target. You have an integer array initial of the same size as target with all elements initially zeros.\n",
        "\n",
        "In one operation you can choose any subarray from initial and increment each value by one.\n",
        "\n",
        "Return the minimum number of operations to form a target array from initial.\n",
        "\n",
        "The test cases are generated so that the answer fits in a 32-bit integer.\n",
        "\n",
        "\n",
        "\n",
        "Example 1:\n",
        "\n",
        "Input: target = [1,2,3,2,1]\n",
        "Output: 3\n",
        "Explanation: We need at least 3 operations to form the target array from the initial array.\n",
        "[0,0,0,0,0] increment 1 from index 0 to 4 (inclusive).\n",
        "[1,1,1,1,1] increment 1 from index 1 to 3 (inclusive).\n",
        "[1,2,2,2,1] increment 1 at index 2.\n",
        "[1,2,3,2,1] target array is formed.\n",
        "Example 2:\n",
        "\n",
        "Input: target = [3,1,1,2]\n",
        "Output: 4\n",
        "Explanation: [0,0,0,0] -> [1,1,1,1] -> [1,1,1,2] -> [2,1,1,2] -> [3,1,1,2]\n",
        "Example 3:\n",
        "\n",
        "Input: target = [3,1,5,4,2]\n",
        "Output: 7\n",
        "Explanation: [0,0,0,0,0] -> [1,1,1,1,1] -> [2,1,1,1,1] -> [3,1,1,1,1] -> [3,1,2,2,2] -> [3,1,3,3,2] -> [3,1,4,4,2] -> [3,1,5,4,2].\n",
        "\n",
        "\n",
        "Constraints:\n",
        "\n",
        "1 <= target.length <= 105\n",
        "1 <= target[i] <= 105"
      ],
      "metadata": {
        "id": "kIID1av8cUei"
      }
    },
    {
      "cell_type": "markdown",
      "source": [
        "## Solution: Greedy Algo:\n",
        "\n",
        "1. Since subarray is contiguos, think of the nos. as heights of bars.\n",
        "2. We scan the array from left to right.\n",
        "3. We first raise the bar from as many times as the 1st element of the array.\n",
        "4. While passing thru the array if the curr element is > than the previous, then we need to do curr-prev additional operations to raise the bar, i.e. add curr-prev to the result. If it curr<=prev, then no ops are required as the bar is already raised to that height, i.e. no additional ops are required since they are connected."
      ],
      "metadata": {
        "id": "qqScTHNecZI1"
      }
    },
    {
      "cell_type": "code",
      "execution_count": 2,
      "metadata": {
        "id": "BOlu9kLpoKvZ",
        "colab": {
          "base_uri": "https://localhost:8080/"
        },
        "outputId": "17f515ea-5121-4984-c5e4-87aca09b5c10"
      },
      "outputs": [
        {
          "output_type": "execute_result",
          "data": {
            "text/plain": [
              "7"
            ]
          },
          "metadata": {},
          "execution_count": 2
        }
      ],
      "source": [
        "target=[3,1,5,4,2]\n",
        "res=target[0]\n",
        "for i in range(1,len(target)):\n",
        "    if target[i]>target[i-1]:\n",
        "        res+=target[i]-target[i-1]\n",
        "res"
      ]
    }
  ]
}
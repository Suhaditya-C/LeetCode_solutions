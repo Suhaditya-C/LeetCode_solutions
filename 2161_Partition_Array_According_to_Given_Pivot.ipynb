{
  "nbformat": 4,
  "nbformat_minor": 0,
  "metadata": {
    "colab": {
      "provenance": [],
      "authorship_tag": "ABX9TyNqyhTnUUbrLHKnDmUQgvr1",
      "include_colab_link": true
    },
    "kernelspec": {
      "name": "python3",
      "display_name": "Python 3"
    },
    "language_info": {
      "name": "python"
    }
  },
  "cells": [
    {
      "cell_type": "markdown",
      "metadata": {
        "id": "view-in-github",
        "colab_type": "text"
      },
      "source": [
        "<a href=\"https://colab.research.google.com/github/Suhaditya-C/LeetCode_solutions/blob/main/2161_Partition_Array_According_to_Given_Pivot.ipynb\" target=\"_parent\"><img src=\"https://colab.research.google.com/assets/colab-badge.svg\" alt=\"Open In Colab\"/></a>"
      ]
    },
    {
      "cell_type": "markdown",
      "source": [
        "## 2161. Partition Array According to Given Pivot\n",
        "\n",
        "You are given a 0-indexed integer array nums and an integer pivot. Rearrange nums such that the following conditions are satisfied:\n",
        "\n",
        "Every element less than pivot appears before every element greater than pivot.\n",
        "Every element equal to pivot appears in between the elements less than and greater than pivot.\n",
        "The relative order of the elements less than pivot and the elements greater than pivot is maintained.\n",
        "More formally, consider every pi, pj where pi is the new position of the ith element and pj is the new position of the jth element. If i < j and both elements are smaller (or larger) than pivot, then pi < pj.\n",
        "Return nums after the rearrangement.\n",
        "\n",
        "\n",
        "\n",
        "Example 1:\n",
        "\n",
        "Input: nums = [9,12,5,10,14,3,10], pivot = 10\n",
        "Output: [9,5,3,10,10,12,14]\n",
        "Explanation:\n",
        "The elements 9, 5, and 3 are less than the pivot so they are on the left side of the array.\n",
        "The elements 12 and 14 are greater than the pivot so they are on the right side of the array.\n",
        "The relative ordering of the elements less than and greater than pivot is also maintained. [9, 5, 3] and [12, 14] are the respective orderings.\n",
        "Example 2:\n",
        "\n",
        "Input: nums = [-3,4,3,2], pivot = 2\n",
        "Output: [-3,2,4,3]\n",
        "Explanation:\n",
        "The element -3 is less than the pivot so it is on the left side of the array.\n",
        "The elements 4 and 3 are greater than the pivot so they are on the right side of the array.\n",
        "The relative ordering of the elements less than and greater than pivot is also maintained. [-3] and [4, 3] are the respective orderings.\n",
        "\n",
        "\n",
        "Constraints:\n",
        "\n",
        "1 <= nums.length <= 105\n",
        "-106 <= nums[i] <= 106\n",
        "pivot equals to an element of nums."
      ],
      "metadata": {
        "id": "1f_8EJsYXLBD"
      }
    },
    {
      "cell_type": "code",
      "execution_count": 4,
      "metadata": {
        "colab": {
          "base_uri": "https://localhost:8080/"
        },
        "id": "YsMM9fxdXHIk",
        "outputId": "3f520e46-908c-42b2-8c38-1147e1a05b3d"
      },
      "outputs": [
        {
          "output_type": "execute_result",
          "data": {
            "text/plain": [
              "[9, 5, 3, 10, 10, 12, 14]"
            ]
          },
          "metadata": {},
          "execution_count": 4
        }
      ],
      "source": [
        "nums = [9,12,5,10,14,3,10]; pivot = 10\n",
        "left,right,centre=[],[],[]\n",
        "for num in nums:\n",
        "    if num<pivot:\n",
        "        left.append(num)\n",
        "    elif num>pivot:\n",
        "        right.append(num)\n",
        "    else:\n",
        "        centre.append(num)\n",
        "res=left+centre+right\n",
        "res"
      ]
    },
    {
      "cell_type": "markdown",
      "source": [
        "Final Solution"
      ],
      "metadata": {
        "id": "_Pw19SBL9lYE"
      }
    },
    {
      "cell_type": "code",
      "source": [
        "class Solution:\n",
        "    def pivotArray(self, nums: List[int], pivot: int) -> List[int]:\n",
        "        left,right,centre=[],[],[]\n",
        "        for num in nums:\n",
        "            if num<pivot:\n",
        "                left.append(num)\n",
        "            elif num>pivot:\n",
        "                right.append(num)\n",
        "            else:\n",
        "                centre.append(num)\n",
        "        res=left+centre+right\n",
        "        return res"
      ],
      "metadata": {
        "id": "C3TgaQSV2-7w"
      },
      "execution_count": null,
      "outputs": []
    }
  ]
}
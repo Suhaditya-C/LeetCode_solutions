{
 "cells": [
  {
   "cell_type": "markdown",
   "id": "57da1b7c",
   "metadata": {},
   "source": [
    "# 2900. Longest Unequal Adjacent Groups Subsequence I\n",
    "\n",
    "You are given a string array words and a binary array groups both of length n, where words[i] is associated with groups[i].\n",
    "\n",
    "Your task is to select the longest alternating subsequence from words. A subsequence of words is alternating if for any two consecutive strings in the sequence, their corresponding elements in the binary array groups differ. Essentially, you are to choose strings such that adjacent elements have non-matching corresponding bits in the groups array.\n",
    "\n",
    "Formally, you need to find the longest subsequence of an array of indices [0, 1, ..., n - 1] denoted as [i0, i1, ..., ik-1], such that groups[ij] != groups[ij+1] for each 0 <= j < k - 1 and then find the words corresponding to these indices.\n",
    "\n",
    "Return the selected subsequence. If there are multiple answers, return any of them.\n",
    "\n",
    "Note: The elements in words are distinct.\n",
    "\n",
    " \n",
    "\n",
    "Example 1:\n",
    "\n",
    "Input: words = [\"e\",\"a\",\"b\"], groups = [0,0,1]\n",
    "\n",
    "Output: [\"e\",\"b\"]\n",
    "\n",
    "Explanation: A subsequence that can be selected is [\"e\",\"b\"] because groups[0] != groups[2]. Another subsequence that can be selected is [\"a\",\"b\"] because groups[1] != groups[2]. It can be demonstrated that the length of the longest subsequence of indices that satisfies the condition is 2.\n",
    "\n",
    "Example 2:\n",
    "\n",
    "Input: words = [\"a\",\"b\",\"c\",\"d\"], groups = [1,0,1,1]\n",
    "\n",
    "Output: [\"a\",\"b\",\"c\"]\n",
    "\n",
    "Explanation: A subsequence that can be selected is [\"a\",\"b\",\"c\"] because groups[0] != groups[1] and groups[1] != groups[2]. Another subsequence that can be selected is [\"a\",\"b\",\"d\"] because groups[0] != groups[1] and groups[1] != groups[3]. It can be shown that the length of the longest subsequence of indices that satisfies the condition is 3.\n",
    "\n",
    " \n",
    "\n",
    "Constraints:\n",
    "\n",
    "1 <= n == words.length == groups.length <= 100\n",
    "1 <= words[i].length <= 10\n",
    "groups[i] is either 0 or 1.\n",
    "words consists of distinct strings.\n",
    "words[i] consists of lowercase English letters."
   ]
  },
  {
   "cell_type": "markdown",
   "id": "01834b1f",
   "metadata": {},
   "source": [
    "## Solution"
   ]
  },
  {
   "cell_type": "code",
   "execution_count": null,
   "id": "a96e65ba",
   "metadata": {},
   "outputs": [
    {
     "data": {
      "text/plain": [
       "['a', 'b', 'c']"
      ]
     },
     "execution_count": 3,
     "metadata": {},
     "output_type": "execute_result"
    }
   ],
   "source": [
    "words = [\"a\",\"b\",\"c\",\"d\"]; groups = [1,0,1,1]\n",
    "res=[words[0]]\n",
    "for i in range(1,len(groups)):\n",
    "    if groups[i]!=groups[i-1]: #If the adjacent groups are not equal, append the current word\n",
    "        res.append(words[i])\n",
    "res"
   ]
  }
 ],
 "metadata": {
  "kernelspec": {
   "display_name": "Python 3",
   "language": "python",
   "name": "python3"
  },
  "language_info": {
   "codemirror_mode": {
    "name": "ipython",
    "version": 3
   },
   "file_extension": ".py",
   "mimetype": "text/x-python",
   "name": "python",
   "nbconvert_exporter": "python",
   "pygments_lexer": "ipython3",
   "version": "3.12.4"
  }
 },
 "nbformat": 4,
 "nbformat_minor": 5
}

{
 "cells": [
  {
   "cell_type": "markdown",
   "id": "efa383e6",
   "metadata": {},
   "source": [
    "# 1298. Maximum Candies You Can Get from Boxes\n",
    "\n",
    "You have n boxes labeled from 0 to n - 1. You are given four arrays: status, candies, keys, and containedBoxes where:\n",
    "\n",
    "status[i] is 1 if the ith box is open and 0 if the ith box is closed,\n",
    "candies[i] is the number of candies in the ith box,\n",
    "keys[i] is a list of the labels of the boxes you can open after opening the ith box.\n",
    "containedBoxes[i] is a list of the boxes you found inside the ith box.\n",
    "You are given an integer array initialBoxes that contains the labels of the boxes you initially have. You can take all the candies in any open box and you can use the keys in it to open new boxes and you also can use the boxes you find in it.\n",
    "\n",
    "Return the maximum number of candies you can get following the rules above.\n",
    "\n",
    " \n",
    "\n",
    "Example 1:\n",
    "\n",
    "Input: status = [1,0,1,0], candies = [7,5,4,100], keys = [[],[],[1],[]], containedBoxes = [[1,2],[3],[],[]], initialBoxes = [0]\n",
    "Output: 16\n",
    "Explanation: You will be initially given box 0. You will find 7 candies in it and boxes 1 and 2.\n",
    "Box 1 is closed and you do not have a key for it so you will open box 2. You will find 4 candies and a key to box 1 in box 2.\n",
    "In box 1, you will find 5 candies and box 3 but you will not find a key to box 3 so box 3 will remain closed.\n",
    "Total number of candies collected = 7 + 4 + 5 = 16 candy.\n",
    "Example 2:\n",
    "\n",
    "Input: status = [1,0,0,0,0,0], candies = [1,1,1,1,1,1], keys = [[1,2,3,4,5],[],[],[],[],[]], containedBoxes = [[1,2,3,4,5],[],[],[],[],[]], initialBoxes = [0]\n",
    "Output: 6\n",
    "Explanation: You have initially box 0. Opening it you can find boxes 1,2,3,4 and 5 and their keys.\n",
    "The total number of candies will be 6.\n",
    " \n",
    "\n",
    "Constraints:\n",
    "\n",
    "n == status.length == candies.length == keys.length == containedBoxes.length\n",
    "1 <= n <= 1000\n",
    "status[i] is either 0 or 1.\n",
    "1 <= candies[i] <= 1000\n",
    "0 <= keys[i].length <= n\n",
    "0 <= keys[i][j] < n\n",
    "All values of keys[i] are unique.\n",
    "0 <= containedBoxes[i].length <= n\n",
    "0 <= containedBoxes[i][j] < n\n",
    "All values of containedBoxes[i] are unique.\n",
    "Each box is contained in one box at most.\n",
    "0 <= initialBoxes.length <= n\n",
    "0 <= initialBoxes[i] < n"
   ]
  },
  {
   "cell_type": "markdown",
   "id": "d30011ac",
   "metadata": {},
   "source": [
    "## Solution: \n",
    "Use Breadth First Search (BFS) to traverse all possible boxes you can open. Only push to the queue the boxes the you have with their keys."
   ]
  },
  {
   "cell_type": "code",
   "execution_count": 2,
   "id": "2d8fa8a6",
   "metadata": {},
   "outputs": [],
   "source": [
    "from collections import deque"
   ]
  },
  {
   "cell_type": "code",
   "execution_count": 16,
   "id": "33929fdd",
   "metadata": {},
   "outputs": [
    {
     "data": {
      "text/plain": [
       "6"
      ]
     },
     "execution_count": 16,
     "metadata": {},
     "output_type": "execute_result"
    }
   ],
   "source": [
    "from collections import deque\n",
    "\n",
    "status = [1,0,0,0,0,0]\n",
    "candies = [1,1,1,1,1,1]\n",
    "keys = [[1,2,3,4,5],[],[],[],[],[]]\n",
    "containedBoxes = [[1,2,3,4,5],[],[],[],[],[]]\n",
    "initialBoxes = [0]\n",
    "\n",
    "n = len(candies)\n",
    "opened_boxes = set()  # Track boxes already opened\n",
    "q = deque(initialBoxes)  # BFS queue initialized with initial boxes\n",
    "res = 0  # Total candies collected\n",
    "have_keys = set()  # Set of keys we currently possess\n",
    "have_boxes = set(initialBoxes)  # Set of boxes we currently have\n",
    "\n",
    "while q:\n",
    "    box = q.popleft()\n",
    "    \n",
    "    # Skip if already opened\n",
    "    if box in opened_boxes:\n",
    "        continue\n",
    "\n",
    "    # If box is locked and we don't have the key, skip opening for now\n",
    "    if status[box] == 0 and box not in have_keys:\n",
    "        have_boxes.add(box)  # Remember that we have this box\n",
    "        continue\n",
    "\n",
    "    # Open the box and collect candies\n",
    "    opened_boxes.add(box)\n",
    "    res += candies[box]\n",
    "\n",
    "    # Add new keys found in the box\n",
    "    for k in keys[box]:\n",
    "        if k not in have_keys:\n",
    "            have_keys.add(k)\n",
    "            # If we already have the box for this key, enqueue it\n",
    "            if k in have_boxes and k not in opened_boxes:\n",
    "                q.append(k)        \n",
    "\n",
    "    # Add contained boxes to our collection and enqueue for processing\n",
    "    for cb in containedBoxes[box]:\n",
    "        if cb not in have_boxes:\n",
    "            have_boxes.add(cb)\n",
    "            q.append(cb)\n",
    "        elif cb not in opened_boxes:\n",
    "            q.append(cb)\n",
    "\n",
    "res  # Final candy count\n"
   ]
  },
  {
   "cell_type": "markdown",
   "id": "ec238c16",
   "metadata": {},
   "source": []
  }
 ],
 "metadata": {
  "kernelspec": {
   "display_name": "base",
   "language": "python",
   "name": "python3"
  },
  "language_info": {
   "codemirror_mode": {
    "name": "ipython",
    "version": 3
   },
   "file_extension": ".py",
   "mimetype": "text/x-python",
   "name": "python",
   "nbconvert_exporter": "python",
   "pygments_lexer": "ipython3",
   "version": "3.12.7"
  }
 },
 "nbformat": 4,
 "nbformat_minor": 5
}

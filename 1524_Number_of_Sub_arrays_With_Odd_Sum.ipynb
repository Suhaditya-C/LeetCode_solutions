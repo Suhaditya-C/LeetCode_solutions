{
  "nbformat": 4,
  "nbformat_minor": 0,
  "metadata": {
    "colab": {
      "provenance": [],
      "authorship_tag": "ABX9TyM9ttbauXAzMOnROLQBUEH5",
      "include_colab_link": true
    },
    "kernelspec": {
      "name": "python3",
      "display_name": "Python 3"
    },
    "language_info": {
      "name": "python"
    }
  },
  "cells": [
    {
      "cell_type": "markdown",
      "metadata": {
        "id": "view-in-github",
        "colab_type": "text"
      },
      "source": [
        "<a href=\"https://colab.research.google.com/github/Suhaditya-C/LeetCode_solutions/blob/main/1524_Number_of_Sub_arrays_With_Odd_Sum.ipynb\" target=\"_parent\"><img src=\"https://colab.research.google.com/assets/colab-badge.svg\" alt=\"Open In Colab\"/></a>"
      ]
    },
    {
      "cell_type": "markdown",
      "source": [
        "## 1524. Number of Sub-arrays With Odd Sum\n",
        "\n",
        "Given an array of integers arr, return the number of subarrays with an odd sum.\n",
        "\n",
        "Since the answer can be very large, return it modulo 109 + 7.\n",
        "\n",
        "Example 1:\n",
        "\n",
        "Input: arr = [1,3,5]\n",
        "Output: 4\n",
        "Explanation: All subarrays are [[1],[1,3],[1,3,5],[3],[3,5],[5]]\n",
        "All sub-arrays sum are [1,4,9,3,8,5].\n",
        "Odd sums are [1,9,3,5] so the answer is 4.\n",
        "Example 2:\n",
        "\n",
        "Input: arr = [2,4,6]\n",
        "Output: 0\n",
        "Explanation: All subarrays are [[2],[2,4],[2,4,6],[4],[4,6],[6]]\n",
        "All sub-arrays sum are [2,6,12,4,10,6].\n",
        "All sub-arrays have even sum and the answer is 0.\n",
        "Example 3:\n",
        "\n",
        "Input: arr = [1,2,3,4,5,6,7]\n",
        "Output: 16\n",
        "\n",
        "\n",
        "Constraints:\n",
        "\n",
        "1 <= arr.length <= 105\n",
        "1 <= arr[i] <= 100"
      ],
      "metadata": {
        "id": "zkyaBu6MbcEJ"
      }
    },
    {
      "cell_type": "markdown",
      "source": [
        "Brute Force"
      ],
      "metadata": {
        "id": "f6t5TuzU-b-L"
      }
    },
    {
      "cell_type": "code",
      "source": [
        "arr = [1,3,5]\n",
        "count=0\n",
        "for i in range(len(arr)):\n",
        "    current_sum = 0  # Initialize current_sum for each sublist\n",
        "    for j in range(i,len(arr)):\n",
        "        current_sum += arr[j]  # Accumulate the sum\n",
        "        if current_sum % 2 != 0:\n",
        "            count+=1\n",
        "count"
      ],
      "metadata": {
        "id": "5Hcu-rL4gN8f",
        "colab": {
          "base_uri": "https://localhost:8080/"
        },
        "outputId": "2988da02-4fd9-4556-c826-780ba0391da4"
      },
      "execution_count": 4,
      "outputs": [
        {
          "output_type": "execute_result",
          "data": {
            "text/plain": [
              "4"
            ]
          },
          "metadata": {},
          "execution_count": 4
        }
      ]
    },
    {
      "cell_type": "markdown",
      "source": [
        "## Linear Time Solution"
      ],
      "metadata": {
        "id": "e_gav4HVVAfT"
      }
    },
    {
      "cell_type": "code",
      "source": [
        "arr = [1,2,3,4,5,6,7]\n",
        "cnt=0\n",
        "cusum=[0]*(len(arr)+1)\n",
        "for i in range(len(arr)):\n",
        "    cusum[i+1]=cusum[i]+arr[i]\n",
        "cusum\n",
        "# Using prefix array to linearly travel and Even-Odd or Odd-Even= Odd--Using this Math logic. if sum is even, count no. of odds before it, if odd, count no of evens before it\n",
        "odd,even=0,0\n",
        "count=0\n",
        "for num in cusum:\n",
        "    if num%2!=0: #Odd\n",
        "        odd+=1\n",
        "        count+=even\n",
        "    else: #Even\n",
        "        even+=1\n",
        "        count+=odd\n",
        "count%100000007"
      ],
      "metadata": {
        "id": "SpZPd-XEHKci",
        "colab": {
          "base_uri": "https://localhost:8080/"
        },
        "outputId": "c54ec4c5-b6ab-442a-f1ee-a1acbe7ecf32"
      },
      "execution_count": 3,
      "outputs": [
        {
          "output_type": "execute_result",
          "data": {
            "text/plain": [
              "16"
            ]
          },
          "metadata": {},
          "execution_count": 3
        }
      ]
    },
    {
      "cell_type": "markdown",
      "source": [
        "Efficient Solution"
      ],
      "metadata": {
        "id": "uTvttHMFVGWy"
      }
    },
    {
      "cell_type": "code",
      "source": [
        "from typing import List\n",
        "class Solution:\n",
        "    def numOfSubarrays(self, arr: List[int]) -> int:\n",
        "        cusum=0\n",
        "        # Using cusum and Even-Odd or Odd-Even= Odd--Using this Math logic. if sum is even, count no. of odds before it, if odd, count no of evens before it\n",
        "        odd,even=0,1\n",
        "        count=0\n",
        "        for num in arr:\n",
        "            cusum+=num\n",
        "            if cusum%2!=0: #Odd\n",
        "                odd+=1\n",
        "                count+=even\n",
        "            else: #Even\n",
        "                even+=1\n",
        "                count+=odd\n",
        "        return count%1000000007"
      ],
      "metadata": {
        "id": "3_4VA38G-AmX"
      },
      "execution_count": 7,
      "outputs": []
    },
    {
      "cell_type": "code",
      "source": [
        "sol=Solution()\n",
        "sol.numOfSubarrays([1,2,3,4,5,6,7])"
      ],
      "metadata": {
        "colab": {
          "base_uri": "https://localhost:8080/"
        },
        "id": "3y7j0HTvVKYH",
        "outputId": "2d98525e-3e61-48eb-f1ed-defda431191e"
      },
      "execution_count": 8,
      "outputs": [
        {
          "output_type": "execute_result",
          "data": {
            "text/plain": [
              "16"
            ]
          },
          "metadata": {},
          "execution_count": 8
        }
      ]
    }
  ]
}
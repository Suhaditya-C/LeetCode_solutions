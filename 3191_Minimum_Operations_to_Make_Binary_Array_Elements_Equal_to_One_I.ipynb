{
  "nbformat": 4,
  "nbformat_minor": 0,
  "metadata": {
    "colab": {
      "provenance": [],
      "authorship_tag": "ABX9TyOqBt4EsJY+JBlDpYPwT7UH",
      "include_colab_link": true
    },
    "kernelspec": {
      "name": "python3",
      "display_name": "Python 3"
    },
    "language_info": {
      "name": "python"
    }
  },
  "cells": [
    {
      "cell_type": "markdown",
      "metadata": {
        "id": "view-in-github",
        "colab_type": "text"
      },
      "source": [
        "<a href=\"https://colab.research.google.com/github/Suhaditya-C/LeetCode_solutions/blob/main/3191_Minimum_Operations_to_Make_Binary_Array_Elements_Equal_to_One_I.ipynb\" target=\"_parent\"><img src=\"https://colab.research.google.com/assets/colab-badge.svg\" alt=\"Open In Colab\"/></a>"
      ]
    },
    {
      "cell_type": "markdown",
      "source": [
        "## 3191. Minimum Operations to Make Binary Array Elements Equal to One I\n",
        "\n",
        "You are given a binary array nums.\n",
        "\n",
        "You can do the following operation on the array any number of times (possibly zero):\n",
        "\n",
        "Choose any 3 consecutive elements from the array and flip all of them.\n",
        "Flipping an element means changing its value from 0 to 1, and from 1 to 0.\n",
        "\n",
        "Return the minimum number of operations required to make all elements in nums equal to 1. If it is impossible, return -1.\n",
        "\n",
        "\n",
        "\n",
        "Example 1:\n",
        "\n",
        "Input: nums = [0,1,1,1,0,0]\n",
        "\n",
        "Output: 3\n",
        "\n",
        "Explanation:\n",
        "We can do the following operations:\n",
        "\n",
        "Choose the elements at indices 0, 1 and 2. The resulting array is nums = [1,0,0,1,0,0].\n",
        "Choose the elements at indices 1, 2 and 3. The resulting array is nums = [1,1,1,0,0,0].\n",
        "Choose the elements at indices 3, 4 and 5. The resulting array is nums = [1,1,1,1,1,1].\n",
        "Example 2:\n",
        "\n",
        "Input: nums = [0,1,1,1]\n",
        "\n",
        "Output: -1\n",
        "\n",
        "Explanation:\n",
        "It is impossible to make all elements equal to 1.\n",
        "\n",
        "\n",
        "\n",
        "Constraints:\n",
        "\n",
        "3 <= nums.length <= 105\n",
        "0 <= nums[i] <= 1"
      ],
      "metadata": {
        "id": "QHwXYnjnPKNB"
      }
    },
    {
      "cell_type": "code",
      "execution_count": 2,
      "metadata": {
        "id": "fVXpIhV3PJmK"
      },
      "outputs": [],
      "source": [
        "from typing import List\n",
        "class Solution:\n",
        "    def minOperations(self, nums: List[int]) -> int:\n",
        "        count=0\n",
        "\n",
        "        for i in range(len(nums)-2):\n",
        "            if nums[i]==0:\n",
        "                nums[i]^=1\n",
        "                nums[i+1]^=1\n",
        "                nums[i+2]^=1\n",
        "                count+=1\n",
        "        return count if nums.count(0)==0 and count>=0 else -1"
      ]
    },
    {
      "cell_type": "code",
      "source": [
        "sol=Solution()\n",
        "sol.minOperations(nums = [0,1,1,1,0,0])"
      ],
      "metadata": {
        "colab": {
          "base_uri": "https://localhost:8080/"
        },
        "id": "PdL9KJZ7PcCY",
        "outputId": "9c55dad8-14b0-44b7-cc38-2a1941981eb3"
      },
      "execution_count": 3,
      "outputs": [
        {
          "output_type": "execute_result",
          "data": {
            "text/plain": [
              "3"
            ]
          },
          "metadata": {},
          "execution_count": 3
        }
      ]
    }
  ]
}
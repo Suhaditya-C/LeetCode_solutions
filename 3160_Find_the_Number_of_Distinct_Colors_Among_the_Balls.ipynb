{
  "nbformat": 4,
  "nbformat_minor": 0,
  "metadata": {
    "colab": {
      "provenance": [],
      "authorship_tag": "ABX9TyNQmFWm1K0HCg5Hexlhl1cO",
      "include_colab_link": true
    },
    "kernelspec": {
      "name": "python3",
      "display_name": "Python 3"
    },
    "language_info": {
      "name": "python"
    }
  },
  "cells": [
    {
      "cell_type": "markdown",
      "metadata": {
        "id": "view-in-github",
        "colab_type": "text"
      },
      "source": [
        "<a href=\"https://colab.research.google.com/github/Suhaditya-C/LeetCode_solutions/blob/main/3160_Find_the_Number_of_Distinct_Colors_Among_the_Balls.ipynb\" target=\"_parent\"><img src=\"https://colab.research.google.com/assets/colab-badge.svg\" alt=\"Open In Colab\"/></a>"
      ]
    },
    {
      "cell_type": "markdown",
      "source": [
        "## 3160. Find the Number of Distinct Colors Among the Balls\n",
        "\n",
        "You are given an integer limit and a 2D array queries of size n x 2.\n",
        "\n",
        "There are limit + 1 balls with distinct labels in the range [0, limit]. Initially, all balls are uncolored. For every query in queries that is of the form [x, y], you mark ball x with the color y. After each query, you need to find the number of distinct colors among the balls.\n",
        "\n",
        "Return an array result of length n, where result[i] denotes the number of distinct colors after ith query.\n",
        "\n",
        "Note that when answering a query, lack of a color will not be considered as a color.\n",
        "\n",
        "Example 1:\n",
        "\n",
        "Input: limit = 4, queries = [[1,4],[2,5],[1,3],[3,4]]\n",
        "\n",
        "Output: [1,2,2,3]\n",
        "\n",
        "Explanation:\n",
        "\n",
        "After query 0, ball 1 has color 4.\n",
        "After query 1, ball 1 has color 4, and ball 2 has color 5.\n",
        "After query 2, ball 1 has color 3, and ball 2 has color 5.\n",
        "After query 3, ball 1 has color 3, ball 2 has color 5, and ball 3 has color 4.\n",
        "Example 2:\n",
        "\n",
        "Input: limit = 4, queries = [[0,1],[1,2],[2,2],[3,4],[4,5]]\n",
        "\n",
        "Output: [1,2,2,3,4]\n",
        "\n",
        "Explanation:\n",
        "\n",
        "After query 0, ball 0 has color 1.\n",
        "After query 1, ball 0 has color 1, and ball 1 has color 2.\n",
        "After query 2, ball 0 has color 1, and balls 1 and 2 have color 2.\n",
        "After query 3, ball 0 has color 1, balls 1 and 2 have color 2, and ball 3 has color 4.\n",
        "After query 4, ball 0 has color 1, balls 1 and 2 have color 2, ball 3 has color 4, and ball 4 has color 5.\n",
        "\n",
        "Constraints:\n",
        "\n",
        "1 <= limit <= 109\n",
        "1 <= n == queries.length <= 105\n",
        "queries[i].length == 2\n",
        "0 <= queries[i][0] <= limit\n",
        "1 <= queries[i][1] <= 109"
      ],
      "metadata": {
        "id": "YdMLwNoK_Jwj"
      }
    },
    {
      "cell_type": "markdown",
      "source": [
        "Brute Force--Time Limit Exceeded"
      ],
      "metadata": {
        "id": "TMlhioA7Mo1m"
      }
    },
    {
      "cell_type": "code",
      "source": [
        "limit = 4; queries = [[0,1],[0,4],[1,2],[1,5],[1,4]]\n",
        "res=[]\n",
        "map={}\n",
        "for num in queries:\n",
        "    map[num[0]]=num[1]\n",
        "    res.append(len(set(map.values())))\n",
        "map\n",
        "res"
      ],
      "metadata": {
        "colab": {
          "base_uri": "https://localhost:8080/"
        },
        "id": "ZpH7-m5JgYXz",
        "outputId": "6c865205-fcd0-4ed0-d2d6-3da1c853a161"
      },
      "execution_count": null,
      "outputs": [
        {
          "output_type": "execute_result",
          "data": {
            "text/plain": [
              "[1, 1, 2, 2, 1]"
            ]
          },
          "metadata": {},
          "execution_count": 10
        }
      ]
    },
    {
      "cell_type": "markdown",
      "source": [
        "Attempt 2--Logical Error"
      ],
      "metadata": {
        "id": "f2DElDOtQLaT"
      }
    },
    {
      "cell_type": "code",
      "source": [
        "limit = 4; queries = [[0,1],[0,4],[1,2],[1,5],[1,4]]\n",
        "res=[]\n",
        "map={}\n",
        "count=0\n",
        "for num in queries:\n",
        "    if num[0] not in map.keys() and num[1] not in map.values():\n",
        "        count+=1\n",
        "    map[num[0]]=num[1]\n",
        "\n",
        "    res.append(count)\n",
        "res"
      ],
      "metadata": {
        "colab": {
          "base_uri": "https://localhost:8080/"
        },
        "id": "eZe1uVrd_LT8",
        "outputId": "6c792e7f-a1ff-4a8c-ddb8-9cecc5c2d5ee"
      },
      "execution_count": null,
      "outputs": [
        {
          "output_type": "execute_result",
          "data": {
            "text/plain": [
              "[1, 1, 2, 2, 2]"
            ]
          },
          "metadata": {},
          "execution_count": 11
        }
      ]
    },
    {
      "cell_type": "markdown",
      "source": [
        "Solution-- Using two separate maps"
      ],
      "metadata": {
        "id": "V_qBpRelTJuJ"
      }
    },
    {
      "cell_type": "code",
      "source": [
        "queries = [[0,1],[0,4],[1,2],[1,5],[1,4]]\n",
        "res=[]\n",
        "cmap={} #colour--> frequency map\n",
        "bmap={} #ball--> colour map\n",
        "for query in queries:\n",
        "    ball=query[0]\n",
        "    colour=query[1]\n",
        "    if colour not in cmap:\n",
        "        cmap[colour]=1\n",
        "    else:\n",
        "        cmap[colour]+=1\n",
        "    if ball in bmap.keys():\n",
        "        cmap[bmap[ball]]-=1\n",
        "        if cmap[bmap[ball]]==0:\n",
        "            del cmap[bmap[ball]]\n",
        "\n",
        "    bmap[ball]=colour\n",
        "    res.append(len(cmap.keys()))\n",
        "res"
      ],
      "metadata": {
        "colab": {
          "base_uri": "https://localhost:8080/"
        },
        "id": "8DF07aPtTQQ8",
        "outputId": "5202e356-7937-47ba-eb34-42d7e61f7765"
      },
      "execution_count": null,
      "outputs": [
        {
          "output_type": "execute_result",
          "data": {
            "text/plain": [
              "[1, 1, 2, 2, 1]"
            ]
          },
          "metadata": {},
          "execution_count": 22
        }
      ]
    },
    {
      "cell_type": "markdown",
      "source": [
        "Final Solution"
      ],
      "metadata": {
        "id": "AyoGxsxVZ62J"
      }
    },
    {
      "cell_type": "code",
      "source": [
        "class Solution:\n",
        "    def queryResults(self, limit: int, queries: List[List[int]]) -> List[int]:\n",
        "        res=[]\n",
        "        cmap={} #colour--> frequency map\n",
        "        bmap={} #ball--> colour map\n",
        "        for query in queries:\n",
        "            ball=query[0]\n",
        "            colour=query[1]\n",
        "            if colour not in cmap:\n",
        "                cmap[colour]=1\n",
        "            else:\n",
        "                cmap[colour]+=1\n",
        "            if ball in bmap.keys():\n",
        "                cmap[bmap[ball]]-=1\n",
        "                if cmap[bmap[ball]]==0:\n",
        "                    del cmap[bmap[ball]]\n",
        "            bmap[ball]=colour\n",
        "            res.append(len(cmap.keys()))\n",
        "        return res"
      ],
      "metadata": {
        "id": "0ku4ENAtZ8L4"
      },
      "execution_count": null,
      "outputs": []
    }
  ]
}
{
 "cells": [
  {
   "cell_type": "markdown",
   "id": "69a3ce5a",
   "metadata": {},
   "source": [
    "# 3477. Fruits Into Baskets II\n",
    "\n",
    "You are given two arrays of integers, fruits and baskets, each of length n, where fruits[i] represents the quantity of the ith type of fruit, and baskets[j] represents the capacity of the jth basket.\n",
    "\n",
    "From left to right, place the fruits according to these rules:\n",
    "\n",
    "Each fruit type must be placed in the leftmost available basket with a capacity greater than or equal to the quantity of that fruit type.\n",
    "Each basket can hold only one type of fruit.\n",
    "If a fruit type cannot be placed in any basket, it remains unplaced.\n",
    "Return the number of fruit types that remain unplaced after all possible allocations are made.\n",
    "\n",
    " \n",
    "\n",
    "Example 1:\n",
    "\n",
    "Input: fruits = [4,2,5], baskets = [3,5,4]\n",
    "\n",
    "Output: 1\n",
    "\n",
    "Explanation:\n",
    "\n",
    "fruits[0] = 4 is placed in baskets[1] = 5.\n",
    "fruits[1] = 2 is placed in baskets[0] = 3.\n",
    "fruits[2] = 5 cannot be placed in baskets[2] = 4.\n",
    "Since one fruit type remains unplaced, we return 1.\n",
    "\n",
    "Example 2:\n",
    "\n",
    "Input: fruits = [3,6,1], baskets = [6,4,7]\n",
    "\n",
    "Output: 0\n",
    "\n",
    "Explanation:\n",
    "\n",
    "fruits[0] = 3 is placed in baskets[0] = 6.\n",
    "fruits[1] = 6 cannot be placed in baskets[1] = 4 (insufficient capacity) but can be placed in the next available basket, baskets[2] = 7.\n",
    "fruits[2] = 1 is placed in baskets[1] = 4.\n",
    "Since all fruits are successfully placed, we return 0.\n",
    "\n",
    " \n",
    "\n",
    "Constraints:\n",
    "\n",
    "n == fruits.length == baskets.length\n",
    "1 <= n <= 100\n",
    "1 <= fruits[i], baskets[i] <= 1000"
   ]
  },
  {
   "cell_type": "code",
   "execution_count": 14,
   "id": "d8c892a6",
   "metadata": {},
   "outputs": [
    {
     "data": {
      "text/plain": [
       "0"
      ]
     },
     "execution_count": 14,
     "metadata": {},
     "output_type": "execute_result"
    }
   ],
   "source": [
    "fruits = [3,6,1]; baskets = [6,4,7]  # Input lists: fruit quantities and basket capacities\n",
    "for i in range(len(fruits)):         # Iterate over each fruit type\n",
    "    j = 0\n",
    "    # Find the leftmost basket with enough capacity for the current fruit\n",
    "    while j < len(baskets) and baskets[j] < fruits[i]:\n",
    "        j += 1\n",
    "    # If such a basket is found, place the fruit and mark both as used\n",
    "    if j < len(baskets):\n",
    "        baskets[j] = 0              # Mark basket as used (capacity set to 0)\n",
    "        fruits[i] = 0               # Mark fruit as placed (quantity set to 0)\n",
    "\n",
    "# Count the number of unplaced fruit types (those not set to 0)\n",
    "sum(1 for f in fruits if f != 0)"
   ]
  }
 ],
 "metadata": {
  "kernelspec": {
   "display_name": "Python 3",
   "language": "python",
   "name": "python3"
  },
  "language_info": {
   "codemirror_mode": {
    "name": "ipython",
    "version": 3
   },
   "file_extension": ".py",
   "mimetype": "text/x-python",
   "name": "python",
   "nbconvert_exporter": "python",
   "pygments_lexer": "ipython3",
   "version": "3.10.9"
  }
 },
 "nbformat": 4,
 "nbformat_minor": 5
}

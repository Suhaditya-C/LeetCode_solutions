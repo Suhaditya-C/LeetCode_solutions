{
 "cells": [
  {
   "cell_type": "markdown",
   "metadata": {},
   "source": [
    "2116. Check if a Parentheses String Can Be Valid\n",
    "Medium\n",
    "Topics\n",
    "Companies\n",
    "Hint\n",
    "A parentheses string is a non-empty string consisting only of '(' and ')'. It is valid if any of the following conditions is true:\n",
    "\n",
    "It is ().\n",
    "It can be written as AB (A concatenated with B), where A and B are valid parentheses strings.\n",
    "It can be written as (A), where A is a valid parentheses string.\n",
    "You are given a parentheses string s and a string locked, both of length n. locked is a binary string consisting only of '0's and '1's. For each index i of locked,\n",
    "\n",
    "If locked[i] is '1', you cannot change s[i].\n",
    "But if locked[i] is '0', you can change s[i] to either '(' or ')'.\n",
    "Return true if you can make s a valid parentheses string. Otherwise, return false.\n",
    "\n",
    " \n",
    "\n",
    "Example 1:\n",
    "\n",
    "\n",
    "Input: s = \"))()))\", locked = \"010100\"\n",
    "Output: true\n",
    "Explanation: locked[1] == '1' and locked[3] == '1', so we cannot change s[1] or s[3].\n",
    "We change s[0] and s[4] to '(' while leaving s[2] and s[5] unchanged to make s valid.\n",
    "Example 2:\n",
    "\n",
    "Input: s = \"()()\", locked = \"0000\"\n",
    "Output: true\n",
    "Explanation: We do not need to make any changes because s is already valid.\n",
    "Example 3:\n",
    "\n",
    "Input: s = \")\", locked = \"0\"\n",
    "Output: false\n",
    "Explanation: locked permits us to change s[0]. \n",
    "Changing s[0] to either '(' or ')' will not make s valid."
   ]
  },
  {
   "cell_type": "markdown",
   "metadata": {},
   "source": [
    "Brute Force Method\n",
    "Passed 197/258 Test cases"
   ]
  },
  {
   "cell_type": "code",
   "execution_count": 26,
   "metadata": {},
   "outputs": [
    {
     "name": "stdout",
     "output_type": "stream",
     "text": [
      "False\n"
     ]
    }
   ],
   "source": [
    "s = \")\"; locked = \"0\"\n",
    "l=list(s)\n",
    "valid=True\n",
    "if len(l)%2 != 0:\n",
    "    valid=False\n",
    "else:\n",
    "    i=0\n",
    "    while i<len(l)-1:\n",
    "        if l[i]!=l[i+1]:\n",
    "            if l[i]=='(' and l[i+1]==')':\n",
    "                i+=2\n",
    "            elif locked[i]=='0' and locked[i+1]=='0':\n",
    "                l[i]='(' ; l[i+1]=')'\n",
    "                i+=2\n",
    "            else:\n",
    "                valid=False\n",
    "                break\n",
    "        else:\n",
    "            if l[i]=='(' and locked[i+1]=='0':\n",
    "                l[i+1]=')'\n",
    "                i+=2\n",
    "            elif l[i]==')' and locked[i]=='0':\n",
    "                l[i]='('\n",
    "                i+=2\n",
    "            else:\n",
    "                valid=False\n",
    "                break              \n",
    "if valid:\n",
    "    print(True)\n",
    "else:\n",
    "    print(False)    "
   ]
  },
  {
   "cell_type": "markdown",
   "metadata": {},
   "source": [
    "Stack Method"
   ]
  },
  {
   "cell_type": "code",
   "execution_count": 30,
   "metadata": {},
   "outputs": [
    {
     "name": "stdout",
     "output_type": "stream",
     "text": [
      "True\n"
     ]
    }
   ],
   "source": [
    "s=\"(()())\";locked=\"111111\"\n",
    "\n",
    "if len(s)%2==1:\n",
    "    print(False)\n",
    "else:\n",
    "    open_locked=[]\n",
    "    any_unlocked=[]\n",
    "    for i in range(len(s)):\n",
    "        if locked[i]=='0':\n",
    "            any_unlocked.append(i)\n",
    "        elif s[i]=='(':\n",
    "            open_locked.append(i)\n",
    "        else:\n",
    "            if open_locked:\n",
    "                open_locked.pop()\n",
    "            elif any_unlocked:\n",
    "                any_unlocked.pop()\n",
    "            else:\n",
    "                print(False)\n",
    "while open_locked and any_unlocked and open_locked[-1]<any_unlocked[-1]:\n",
    "    open_locked.pop()\n",
    "    any_unlocked.pop()\n",
    "\n",
    "if open_locked:\n",
    "    print(False)\n",
    "elif len(any_unlocked)%2==0:\n",
    "    print(True)\n",
    "else:\n",
    "    print(False)        "
   ]
  },
  {
   "cell_type": "markdown",
   "metadata": {},
   "source": [
    "Final Solution"
   ]
  },
  {
   "cell_type": "code",
   "execution_count": null,
   "metadata": {},
   "outputs": [],
   "source": [
    "class Solution:\n",
    "    def canBeValid(self, s: str, locked: str) -> bool:\n",
    "        if len(s)%2==1:\n",
    "            return False\n",
    "        else:\n",
    "            open_locked=[]\n",
    "            any_unlocked=[]\n",
    "            for i in range(len(s)):\n",
    "                if locked[i]=='0':\n",
    "                    any_unlocked.append(i)\n",
    "                elif s[i]=='(':\n",
    "                    open_locked.append(i)\n",
    "                else:\n",
    "                    if open_locked:\n",
    "                        open_locked.pop()\n",
    "                    elif any_unlocked:\n",
    "                        any_unlocked.pop()\n",
    "                    else:\n",
    "                        return False\n",
    "        while open_locked and any_unlocked and open_locked[-1]<any_unlocked[-1]:\n",
    "            open_locked.pop()\n",
    "            any_unlocked.pop()\n",
    "\n",
    "        if open_locked:\n",
    "            return False\n",
    "        elif len(any_unlocked)%2==0:\n",
    "            return True\n",
    "        else:\n",
    "            return False"
   ]
  }
 ],
 "metadata": {
  "kernelspec": {
   "display_name": "Python 3",
   "language": "python",
   "name": "python3"
  },
  "language_info": {
   "codemirror_mode": {
    "name": "ipython",
    "version": 3
   },
   "file_extension": ".py",
   "mimetype": "text/x-python",
   "name": "python",
   "nbconvert_exporter": "python",
   "pygments_lexer": "ipython3",
   "version": "3.12.4"
  }
 },
 "nbformat": 4,
 "nbformat_minor": 2
}

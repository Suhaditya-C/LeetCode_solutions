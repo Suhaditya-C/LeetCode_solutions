{
 "cells": [
  {
   "cell_type": "markdown",
   "id": "a4fd4d1c",
   "metadata": {},
   "source": [
    "# 300. Longest Increasing Subsequence\n",
    "\n",
    "Given an integer array nums, return the length of the longest strictly increasing subsequence.\n",
    "\n",
    " \n",
    "\n",
    "Example 1:\n",
    "\n",
    "Input: nums = [10,9,2,5,3,7,101,18]\n",
    "Output: 4\n",
    "Explanation: The longest increasing subsequence is [2,3,7,101], therefore the length is 4.\n",
    "Example 2:\n",
    "\n",
    "Input: nums = [0,1,0,3,2,3]\n",
    "Output: 4\n",
    "Example 3:\n",
    "\n",
    "Input: nums = [7,7,7,7,7,7,7]\n",
    "Output: 1\n",
    " \n",
    "\n",
    "Constraints:\n",
    "\n",
    "1 <= nums.length <= 2500\n",
    "-104 <= nums[i] <= 104\n",
    " \n",
    "\n",
    "Follow up: Can you come up with an algorithm that runs in O(n log(n)) time complexity?"
   ]
  },
  {
   "cell_type": "markdown",
   "id": "cd3607b4",
   "metadata": {},
   "source": [
    "## Solution:\n",
    "\n",
    "Brute Force: Recursion- DFS\n",
    "Memory Limit Exceeded due to caching"
   ]
  },
  {
   "cell_type": "code",
   "execution_count": null,
   "id": "883e715b",
   "metadata": {},
   "outputs": [
    {
     "data": {
      "text/plain": [
       "3"
      ]
     },
     "execution_count": 5,
     "metadata": {},
     "output_type": "execute_result"
    }
   ],
   "source": [
    "nums = [1,2,4,3]\n",
    "memo={}\n",
    "n=len(nums)\n",
    "def solvelis(i,j): #i=current, j=prev\n",
    "    if i==n:\n",
    "        return 0\n",
    "    if (i,j) in memo:\n",
    "        return memo[(i,j)]\n",
    "    #skip current element\n",
    "    skiplen=solvelis(i+1,j)\n",
    "    includelen=0\n",
    "    #include current element\n",
    "    if j==-1 or nums[i]>nums[j]:\n",
    "        includelen=1+solvelis(i+1,i)\n",
    "    memo[(i,j)]=max(includelen,skiplen)\n",
    "    return max(includelen,skiplen)\n",
    "\n",
    "solvelis(0,-1)    "
   ]
  },
  {
   "cell_type": "markdown",
   "id": "761273e9",
   "metadata": {},
   "source": [
    "The Fix: Bottom-Up Dynamic Programming"
   ]
  },
  {
   "cell_type": "code",
   "execution_count": 8,
   "id": "8b87e32a",
   "metadata": {},
   "outputs": [
    {
     "data": {
      "text/plain": [
       "4"
      ]
     },
     "execution_count": 8,
     "metadata": {},
     "output_type": "execute_result"
    }
   ],
   "source": [
    "nums = [10,9,2,5,3,7,101,18]\n",
    "n=len(nums)\n",
    "dp=[1]*n\n",
    "for i in range(1,n):\n",
    "    for j in range(i):\n",
    "        if nums[j]<nums[i]:\n",
    "            dp[i]=max(dp[i],1+dp[j])\n",
    "max(dp)"
   ]
  }
 ],
 "metadata": {
  "kernelspec": {
   "display_name": "Python 3",
   "language": "python",
   "name": "python3"
  },
  "language_info": {
   "codemirror_mode": {
    "name": "ipython",
    "version": 3
   },
   "file_extension": ".py",
   "mimetype": "text/x-python",
   "name": "python",
   "nbconvert_exporter": "python",
   "pygments_lexer": "ipython3",
   "version": "3.10.9"
  }
 },
 "nbformat": 4,
 "nbformat_minor": 5
}

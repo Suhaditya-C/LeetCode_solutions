{
 "cells": [
  {
   "cell_type": "markdown",
   "id": "b928e470",
   "metadata": {},
   "source": [
    "# 1233. Remove Sub-Folders from the Filesystem\n",
    "\n",
    "Given a list of folders folder, return the folders after removing all sub-folders in those folders. You may return the answer in any order.\n",
    "\n",
    "If a folder[i] is located within another folder[j], it is called a sub-folder of it. A sub-folder of folder[j] must start with folder[j], followed by a \"/\". For example, \"/a/b\" is a sub-folder of \"/a\", but \"/b\" is not a sub-folder of \"/a/b/c\".\n",
    "\n",
    "The format of a path is one or more concatenated strings of the form: '/' followed by one or more lowercase English letters.\n",
    "\n",
    "For example, \"/leetcode\" and \"/leetcode/problems\" are valid paths while an empty string and \"/\" are not.\n",
    " \n",
    "\n",
    "Example 1:\n",
    "\n",
    "Input: folder = [\"/a\",\"/a/b\",\"/c/d\",\"/c/d/e\",\"/c/f\"]\n",
    "Output: [\"/a\",\"/c/d\",\"/c/f\"]\n",
    "Explanation: Folders \"/a/b\" is a subfolder of \"/a\" and \"/c/d/e\" is inside of folder \"/c/d\" in our filesystem.\n",
    "Example 2:\n",
    "\n",
    "Input: folder = [\"/a\",\"/a/b/c\",\"/a/b/d\"]\n",
    "Output: [\"/a\"]\n",
    "Explanation: Folders \"/a/b/c\" and \"/a/b/d\" will be removed because they are subfolders of \"/a\".\n",
    "Example 3:\n",
    "\n",
    "Input: folder = [\"/a/b/c\",\"/a/b/ca\",\"/a/b/d\"]\n",
    "Output: [\"/a/b/c\",\"/a/b/ca\",\"/a/b/d\"]"
   ]
  },
  {
   "cell_type": "markdown",
   "id": "64a24a33",
   "metadata": {},
   "source": [
    "## Solution"
   ]
  },
  {
   "cell_type": "code",
   "execution_count": 27,
   "id": "79ca8cf7",
   "metadata": {},
   "outputs": [
    {
     "data": {
      "text/plain": [
       "['/a/b/c', '/a/b/ca', '/a/b/d']"
      ]
     },
     "execution_count": 27,
     "metadata": {},
     "output_type": "execute_result"
    }
   ],
   "source": [
    "folder = [\"/a/b/c\",\"/a/b/ca\",\"/a/b/d\"]\n",
    "folder.sort()\n",
    "res=[folder[0]]\n",
    "for char in folder[1:]:\n",
    "    last_folder=res[-1]\n",
    "    if char[:len(last_folder)]==last_folder and char[len(last_folder)]=='/':\n",
    "        continue\n",
    "    res.append(char)\n",
    "res"
   ]
  }
 ],
 "metadata": {
  "kernelspec": {
   "display_name": "Python 3",
   "language": "python",
   "name": "python3"
  },
  "language_info": {
   "codemirror_mode": {
    "name": "ipython",
    "version": 3
   },
   "file_extension": ".py",
   "mimetype": "text/x-python",
   "name": "python",
   "nbconvert_exporter": "python",
   "pygments_lexer": "ipython3",
   "version": "3.10.9"
  }
 },
 "nbformat": 4,
 "nbformat_minor": 5
}

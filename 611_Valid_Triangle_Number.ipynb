{
  "nbformat": 4,
  "nbformat_minor": 0,
  "metadata": {
    "colab": {
      "provenance": [],
      "authorship_tag": "ABX9TyObp871HHycUJ63zcJyvGMP",
      "include_colab_link": true
    },
    "kernelspec": {
      "name": "python3",
      "display_name": "Python 3"
    },
    "language_info": {
      "name": "python"
    }
  },
  "cells": [
    {
      "cell_type": "markdown",
      "metadata": {
        "id": "view-in-github",
        "colab_type": "text"
      },
      "source": [
        "<a href=\"https://colab.research.google.com/github/Suhaditya-C/LeetCode_solutions/blob/main/611_Valid_Triangle_Number.ipynb\" target=\"_parent\"><img src=\"https://colab.research.google.com/assets/colab-badge.svg\" alt=\"Open In Colab\"/></a>"
      ]
    },
    {
      "cell_type": "markdown",
      "source": [
        "# 611. Valid Triangle Number\n",
        "\n",
        "Given an integer array nums, return the number of triplets chosen from the array that can make triangles if we take them as side lengths of a triangle.\n",
        "\n",
        "\n",
        "\n",
        "Example 1:\n",
        "\n",
        "Input: nums = [2,2,3,4]\n",
        "Output: 3\n",
        "Explanation: Valid combinations are:\n",
        "2,3,4 (using the first 2)\n",
        "2,3,4 (using the second 2)\n",
        "2,2,3\n",
        "Example 2:\n",
        "\n",
        "Input: nums = [4,2,3,4]\n",
        "Output: 4\n",
        "\n",
        "\n",
        "Constraints:\n",
        "\n",
        "1 <= nums.length <= 1000\n",
        "0 <= nums[i] <= 1000"
      ],
      "metadata": {
        "id": "QWomDRfXA9IW"
      }
    },
    {
      "cell_type": "markdown",
      "source": [
        "## Solution: Sorting and binary search"
      ],
      "metadata": {
        "id": "Y1DwXhGfBBAH"
      }
    },
    {
      "cell_type": "code",
      "execution_count": 50,
      "metadata": {
        "colab": {
          "base_uri": "https://localhost:8080/"
        },
        "id": "-IF60_5IA5X8",
        "outputId": "87008c7b-af8f-4850-b8d8-097f446b1f29"
      },
      "outputs": [
        {
          "output_type": "stream",
          "name": "stdout",
          "text": [
            "0 1 2 0\n",
            "0 2 3 0\n",
            "1 2 3 0\n"
          ]
        },
        {
          "output_type": "execute_result",
          "data": {
            "text/plain": [
              "0"
            ]
          },
          "metadata": {},
          "execution_count": 50
        }
      ],
      "source": [
        "nums = [1,1,3,4]\n",
        "nums.sort()\n",
        "res=0\n",
        "for i in range(len(nums)-2):\n",
        "    #side A\n",
        "    a=nums[i]\n",
        "    for j in range(i+1,len(nums)-1):\n",
        "        #side B\n",
        "        b=nums[j]\n",
        "        #Binary search to find the index k such that nums[k]>=a+b: then all the sides between j and k indices can be used to form a valid traingle\n",
        "        l=j+1\n",
        "        r=len(nums)-1\n",
        "        # Infeasible side C: All sides >= side C cannot form a valid triangle\n",
        "        c=a+b\n",
        "        while l<r:\n",
        "            mid=(l+r)//2\n",
        "            if c > nums[mid]:\n",
        "                l=mid+1\n",
        "            else:\n",
        "                r=mid\n",
        "\n",
        "        #add the feasible sides\n",
        "        res+= l-j-1 if nums[-1]>=c else l-j # add +1 if the last element is less than c as binary search will always give the last element anyway\n",
        "        print(i,j,l,res)\n",
        "res"
      ]
    },
    {
      "cell_type": "markdown",
      "source": [
        "## Alternate: Sorting and Linear Search-- Faster"
      ],
      "metadata": {
        "id": "bZvO_VSBUzp1"
      }
    },
    {
      "cell_type": "code",
      "source": [
        "nums = [2,2,3,4]\n",
        "nums.sort()\n",
        "res=0\n",
        "for i in range(len(nums)-2):\n",
        "    if nums[i]==0:\n",
        "        continue\n",
        "    #side A\n",
        "    a=nums[i]\n",
        "    k=i+2\n",
        "    for j in range(i+1,len(nums)-1):\n",
        "        if nums[j]==0:\n",
        "            continue\n",
        "        #side B\n",
        "        b=nums[j]\n",
        "        # Infeasible side C: All sides >= side C cannot form a valid triangle\n",
        "        c=a+b\n",
        "        #start from where we left off in the previous step-- this is what makes it efficient\n",
        "        while k<len(nums) and nums[k]<c:\n",
        "            k+=1\n",
        "        #add the feasible sides\n",
        "        res+= k-j-1\n",
        "res"
      ],
      "metadata": {
        "colab": {
          "base_uri": "https://localhost:8080/"
        },
        "id": "kNo1NH4UUzJL",
        "outputId": "15cfbb7c-47e4-4d93-e899-c8a7deb2b316"
      },
      "execution_count": 64,
      "outputs": [
        {
          "output_type": "execute_result",
          "data": {
            "text/plain": [
              "3"
            ]
          },
          "metadata": {},
          "execution_count": 64
        }
      ]
    }
  ]
}
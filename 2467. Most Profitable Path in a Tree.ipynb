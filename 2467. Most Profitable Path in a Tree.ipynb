{
 "cells": [
  {
   "cell_type": "markdown",
   "metadata": {},
   "source": [
    "## 2467. Most Profitable Path in a Tree\n",
    "\n",
    "There is an undirected tree with n nodes labeled from 0 to n - 1, rooted at node 0. You are given a 2D integer array edges of length n - 1 where edges[i] = [ai, bi] indicates that there is an edge between nodes ai and bi in the tree.\n",
    "\n",
    "At every node i, there is a gate. You are also given an array of even integers amount, where amount[i] represents:\n",
    "\n",
    "the price needed to open the gate at node i, if amount[i] is negative, or,\n",
    "the cash reward obtained on opening the gate at node i, otherwise.\n",
    "The game goes on as follows:\n",
    "\n",
    "Initially, Alice is at node 0 and Bob is at node bob.\n",
    "At every second, Alice and Bob each move to an adjacent node. Alice moves towards some leaf node, while Bob moves towards node 0.\n",
    "For every node along their path, Alice and Bob either spend money to open the gate at that node, or accept the reward. Note that:\n",
    "If the gate is already open, no price will be required, nor will there be any cash reward.\n",
    "If Alice and Bob reach the node simultaneously, they share the price/reward for opening the gate there. In other words, if the price to open the gate is c, then both Alice and Bob pay c / 2 each. Similarly, if the reward at the gate is c, both of them receive c / 2 each.\n",
    "If Alice reaches a leaf node, she stops moving. Similarly, if Bob reaches node 0, he stops moving. Note that these events are independent of each other.\n",
    "Return the maximum net income Alice can have if she travels towards the optimal leaf node.\n",
    "\n",
    " \n",
    "\n",
    "Example 1:\n",
    "\n",
    "\n",
    "Input: edges = [[0,1],[1,2],[1,3],[3,4]], bob = 3, amount = [-2,4,2,-4,6]\n",
    "Output: 6\n",
    "Explanation: \n",
    "The above diagram represents the given tree. The game goes as follows:\n",
    "- Alice is initially on node 0, Bob on node 3. They open the gates of their respective nodes.\n",
    "  Alice's net income is now -2.\n",
    "- Both Alice and Bob move to node 1. \n",
    "  Since they reach here simultaneously, they open the gate together and share the reward.\n",
    "  Alice's net income becomes -2 + (4 / 2) = 0.\n",
    "- Alice moves on to node 3. Since Bob already opened its gate, Alice's income remains unchanged.\n",
    "  Bob moves on to node 0, and stops moving.\n",
    "- Alice moves on to node 4 and opens the gate there. Her net income becomes 0 + 6 = 6.\n",
    "Now, neither Alice nor Bob can make any further moves, and the game ends.\n",
    "It is not possible for Alice to get a higher net income.\n",
    "Example 2:\n",
    "\n",
    "\n",
    "Input: edges = [[0,1]], bob = 1, amount = [-7280,2350]\n",
    "Output: -7280\n",
    "Explanation: \n",
    "Alice follows the path 0->1 whereas Bob follows the path 1->0.\n",
    "Thus, Alice opens the gate at node 0 only. Hence, her net income is -7280. \n",
    " \n",
    "\n",
    "Constraints:\n",
    "\n",
    "2 <= n <= 105\n",
    "edges.length == n - 1\n",
    "edges[i].length == 2\n",
    "0 <= ai, bi < n\n",
    "ai != bi\n",
    "edges represents a valid tree.\n",
    "1 <= bob < n\n",
    "amount.length == n\n",
    "amount[i] is an even integer in the range [-104, 104]."
   ]
  },
  {
   "cell_type": "code",
   "execution_count": 5,
   "metadata": {},
   "outputs": [],
   "source": [
    "from typing import List\n",
    "from collections import defaultdict,deque"
   ]
  },
  {
   "cell_type": "code",
   "execution_count": 7,
   "metadata": {},
   "outputs": [
    {
     "data": {
      "text/plain": [
       "6"
      ]
     },
     "execution_count": 7,
     "metadata": {},
     "output_type": "execute_result"
    }
   ],
   "source": [
    "class Solution:\n",
    "    def mostProfitablePath(self, edges: List[List[int]], bob: int, amount: List[int]) -> int:\n",
    "        #create an adjacency list\n",
    "        adj=defaultdict(list)\n",
    "        for i,j in edges:\n",
    "            adj[i].append(j)\n",
    "            adj[j].append(i)\n",
    "        #Bob's travel route-- only 1 choice-- upto 0th node\n",
    "        bobstime={} # node--> time\n",
    "        def dfs(curr,prev,time):\n",
    "            if curr==0:\n",
    "                bobstime[curr]=time\n",
    "                return True\n",
    "            for next in adj[curr]:\n",
    "                if next==prev:\n",
    "                    continue #if node already traversed--skip it\n",
    "                if dfs(next,curr,time+1)==True:\n",
    "                    bobstime[curr]=time\n",
    "                    return True\n",
    "            return False\n",
    "        dfs(bob,-1,0) # Finds the single route to 0th node\n",
    "        #Alice Route to Max profit-- BFS-- uses a double ended queue\n",
    "        q=deque([(0,0,-1,amount[0])]) #current node, time, parent, profit\n",
    "        res=float('-inf') # as res can be any negative integer\n",
    "        while q:\n",
    "            curr,time,parent,profit=q.popleft()\n",
    "            #res=max(res,profit) # This can update the result upto the penultimate node. To update the leafnode result we keep the res at last\n",
    "            for nei in adj[curr]:\n",
    "                if nei==parent:\n",
    "                    continue #if node already traversed--skip it\n",
    "                #if Alice reaches first\n",
    "                nei_profit=amount[nei]\n",
    "                nei_time=time+1\n",
    "                if nei in bobstime: # if node already traversed by Bob\n",
    "                    #if bob traversed before Alice\n",
    "                    if nei_time>bobstime[nei]:\n",
    "                        nei_profit=0\n",
    "                    elif nei_time==bobstime[nei]: #if bob and alice reaches simultaneously\n",
    "                        nei_profit=nei_profit//2\n",
    "                q.append((nei,nei_time,curr,profit+nei_profit)) #check next node with updated profits\n",
    "            # leaf node has just element directly attached to it\n",
    "                if len(adj[nei])==1:\n",
    "                    res=max(res,profit+nei_profit) #res will update when leafnode is reached.\n",
    "        return res\n",
    "\n",
    "sol=Solution()\n",
    "sol.mostProfitablePath([[0,1],[1,2],[1,3],[3,4]],3,[-2,4,2,-4,6])"
   ]
  }
 ],
 "metadata": {
  "kernelspec": {
   "display_name": "Python 3",
   "language": "python",
   "name": "python3"
  },
  "language_info": {
   "codemirror_mode": {
    "name": "ipython",
    "version": 3
   },
   "file_extension": ".py",
   "mimetype": "text/x-python",
   "name": "python",
   "nbconvert_exporter": "python",
   "pygments_lexer": "ipython3",
   "version": "3.12.1"
  }
 },
 "nbformat": 4,
 "nbformat_minor": 2
}

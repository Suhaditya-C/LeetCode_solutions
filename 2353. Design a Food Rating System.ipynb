{
 "cells": [
  {
   "cell_type": "markdown",
   "id": "67ed3860",
   "metadata": {},
   "source": [
    "# 2353. Design a Food Rating System\n",
    "\n",
    "Design a food rating system that can do the following:\n",
    "\n",
    "Modify the rating of a food item listed in the system.\n",
    "Return the highest-rated food item for a type of cuisine in the system.\n",
    "Implement the FoodRatings class:\n",
    "\n",
    "FoodRatings(String[] foods, String[] cuisines, int[] ratings) Initializes the system. The food items are described by foods, cuisines and ratings, all of which have a length of n.\n",
    "foods[i] is the name of the ith food,\n",
    "cuisines[i] is the type of cuisine of the ith food, and\n",
    "ratings[i] is the initial rating of the ith food.\n",
    "void changeRating(String food, int newRating) Changes the rating of the food item with the name food.\n",
    "String highestRated(String cuisine) Returns the name of the food item that has the highest rating for the given type of cuisine. If there is a tie, return the item with the lexicographically smaller name.\n",
    "Note that a string x is lexicographically smaller than string y if x comes before y in dictionary order, that is, either x is a prefix of y, or if i is the first position such that x[i] != y[i], then x[i] comes before y[i] in alphabetic order.\n",
    "\n",
    "Example 1:\n",
    "\n",
    "Input\n",
    "[\"FoodRatings\", \"highestRated\", \"highestRated\", \"changeRating\", \"highestRated\", \"changeRating\", \"highestRated\"]\n",
    "[[[\"kimchi\", \"miso\", \"sushi\", \"moussaka\", \"ramen\", \"bulgogi\"], [\"korean\", \"japanese\", \"japanese\", \"greek\", \"japanese\", \"korean\"], [9, 12, 8, 15, 14, 7]], [\"korean\"], [\"japanese\"], [\"sushi\", 16], [\"japanese\"], [\"ramen\", 16], [\"japanese\"]]\n",
    "Output\n",
    "[null, \"kimchi\", \"ramen\", null, \"sushi\", null, \"ramen\"]\n",
    "\n",
    "Explanation\n",
    "FoodRatings foodRatings = new FoodRatings([\"kimchi\", \"miso\", \"sushi\", \"moussaka\", \"ramen\", \"bulgogi\"], [\"korean\", \"japanese\", \"japanese\", \"greek\", \"japanese\", \"korean\"], [9, 12, 8, 15, 14, 7]);\n",
    "foodRatings.highestRated(\"korean\"); // return \"kimchi\"\n",
    "                                    // \"kimchi\" is the highest rated korean food with a rating of 9.\n",
    "foodRatings.highestRated(\"japanese\"); // return \"ramen\"\n",
    "                                      // \"ramen\" is the highest rated japanese food with a rating of 14.\n",
    "foodRatings.changeRating(\"sushi\", 16); // \"sushi\" now has a rating of 16.\n",
    "foodRatings.highestRated(\"japanese\"); // return \"sushi\"\n",
    "                                      // \"sushi\" is the highest rated japanese food with a rating of 16.\n",
    "foodRatings.changeRating(\"ramen\", 16); // \"ramen\" now has a rating of 16.\n",
    "foodRatings.highestRated(\"japanese\"); // return \"ramen\"\n",
    "                                      // Both \"sushi\" and \"ramen\" have a rating of 16.\n",
    "                                      // However, \"ramen\" is lexicographically smaller than \"sushi\".\n",
    " \n",
    "\n",
    "Constraints:\n",
    "\n",
    "1 <= n <= 2 * 104\n",
    "n == foods.length == cuisines.length == ratings.length\n",
    "1 <= foods[i].length, cuisines[i].length <= 10\n",
    "foods[i], cuisines[i] consist of lowercase English letters.\n",
    "1 <= ratings[i] <= 108\n",
    "All the strings in foods are distinct.\n",
    "food will be the name of a food item in the system across all calls to changeRating.\n",
    "cuisine will be a type of cuisine of at least one food item in the system across all calls to highestRated.\n",
    "At most 2 * 104 calls in total will be made to changeRating and highestRated."
   ]
  },
  {
   "cell_type": "markdown",
   "id": "e0a3d3cd",
   "metadata": {},
   "source": [
    "## Solution: Using 2 different Hashmaps for efficient searching"
   ]
  },
  {
   "cell_type": "code",
   "execution_count": 29,
   "id": "2f7241f9",
   "metadata": {},
   "outputs": [
    {
     "name": "stdout",
     "output_type": "stream",
     "text": [
      "Defaulting to user installation because normal site-packages is not writeable\n",
      "Requirement already satisfied: sortedcontainers in c:\\users\\suhaditya chakrabort\\appdata\\roaming\\python\\python310\\site-packages (2.4.0)\n"
     ]
    },
    {
     "name": "stderr",
     "output_type": "stream",
     "text": [
      "\n",
      "[notice] A new release of pip available: 22.3.1 -> 25.2\n",
      "[notice] To update, run: python.exe -m pip install --upgrade pip\n"
     ]
    }
   ],
   "source": [
    "!pip install sortedcontainers"
   ]
  },
  {
   "cell_type": "code",
   "execution_count": 3,
   "id": "d681dc3e",
   "metadata": {},
   "outputs": [],
   "source": [
    "from sortedcontainers import SortedSet"
   ]
  },
  {
   "cell_type": "code",
   "execution_count": 4,
   "id": "67fdd97b",
   "metadata": {},
   "outputs": [],
   "source": [
    "from typing import List\n",
    "class FoodRatings:\n",
    "\n",
    "    def __init__(self, foods: List[str], cuisines: List[str], ratings: List[int]):\n",
    "\n",
    "        self.foods=foods\n",
    "        self.cuisines=cuisines\n",
    "        self.ratings=ratings\n",
    "        self.foodmap={}\n",
    "        for i in range(len(self.foods)):\n",
    "            self.foodmap[self.foods[i]]=[self.ratings[i],self.cuisines[i]]\n",
    "\n",
    "        self.cuisinemap={}\n",
    "        for i in range(len(self.cuisines)):\n",
    "            if self.cuisines[i] in self.cuisinemap:\n",
    "                self.cuisinemap[self.cuisines[i]].add((-ratings[i],self.foods[i]))\n",
    "            else:\n",
    "                self.cuisinemap[self.cuisines[i]]=SortedSet()\n",
    "                self.cuisinemap[self.cuisines[i]].add((-ratings[i],self.foods[i]))\n",
    "   \n",
    " \n",
    "    def changeRating(self, food: str, newRating: int) -> None:\n",
    "        oldrating=-self.foodmap[food][0]\n",
    "        self.foodmap[food][0]=newRating\n",
    "        cuis=self.foodmap[food][1]\n",
    "        self.cuisinemap[cuis].remove((oldrating,food))\n",
    "        self.cuisinemap[cuis].add((-newRating,food))    \n",
    "\n",
    "    def highestRated(self, cuisine: str) -> str:\n",
    "        return self.cuisinemap[cuisine][0][1]\n",
    "\n",
    "\n",
    "        \n",
    "\n",
    "\n",
    "# Your FoodRatings object will be instantiated and called as such:\n",
    "# obj = FoodRatings(foods, cuisines, ratings)\n",
    "# obj.changeRating(food,newRating)\n",
    "# param_2 = obj.highestRated(cuisine)"
   ]
  },
  {
   "cell_type": "code",
   "execution_count": 5,
   "id": "dd78addf",
   "metadata": {},
   "outputs": [
    {
     "data": {
      "text/plain": [
       "[None, 'kimchi', 'ramen', None, 'sushi', None, 'ramen']"
      ]
     },
     "execution_count": 5,
     "metadata": {},
     "output_type": "execute_result"
    }
   ],
   "source": [
    "calls=[\"FoodRatings\",\"highestRated\",\"highestRated\",\"changeRating\",\"highestRated\",\"changeRating\",\"highestRated\"]\n",
    "inputs=[[[\"kimchi\",\"miso\",\"sushi\",\"moussaka\",\"ramen\",\"bulgogi\"],[\"korean\",\"japanese\",\"japanese\",\"greek\",\"japanese\",\"korean\"],[9,12,8,15,14,7]],[\"korean\"],[\"japanese\"],[\"sushi\",16],[\"japanese\"],[\"ramen\",16],[\"japanese\"]]\n",
    "res=[]\n",
    "for i in range(len(calls)):\n",
    "    if calls[i]==\"FoodRatings\":\n",
    "        foods, cuisines, ratings=inputs[i][0],inputs[i][1],inputs[i][2]\n",
    "        obj=FoodRatings(foods, cuisines, ratings)\n",
    "        res.append(None)\n",
    "    elif calls[i]==\"highestRated\":\n",
    "        cuisine=inputs[i][0]\n",
    "        res.append(obj.highestRated(cuisine))\n",
    "    else:\n",
    "        food,newRating=inputs[i][0],inputs[i][1]\n",
    "        obj.changeRating(food,newRating)\n",
    "        res.append(None)\n",
    "res\n"
   ]
  }
 ],
 "metadata": {
  "kernelspec": {
   "display_name": "Python 3",
   "language": "python",
   "name": "python3"
  },
  "language_info": {
   "codemirror_mode": {
    "name": "ipython",
    "version": 3
   },
   "file_extension": ".py",
   "mimetype": "text/x-python",
   "name": "python",
   "nbconvert_exporter": "python",
   "pygments_lexer": "ipython3",
   "version": "3.10.9"
  }
 },
 "nbformat": 4,
 "nbformat_minor": 5
}

{
  "nbformat": 4,
  "nbformat_minor": 0,
  "metadata": {
    "colab": {
      "provenance": [],
      "authorship_tag": "ABX9TyO//mpByQE6ZopLyyl8hLqM",
      "include_colab_link": true
    },
    "kernelspec": {
      "name": "python3",
      "display_name": "Python 3"
    },
    "language_info": {
      "name": "python"
    }
  },
  "cells": [
    {
      "cell_type": "markdown",
      "metadata": {
        "id": "view-in-github",
        "colab_type": "text"
      },
      "source": [
        "<a href=\"https://colab.research.google.com/github/Suhaditya-C/LeetCode_solutions/blob/main/2342_Max_Sum_of_a_Pair_With_Equal_Sum_of_Digits.ipynb\" target=\"_parent\"><img src=\"https://colab.research.google.com/assets/colab-badge.svg\" alt=\"Open In Colab\"/></a>"
      ]
    },
    {
      "cell_type": "markdown",
      "source": [
        "## 2342. Max Sum of a Pair With Equal Sum of Digits\n",
        "\n",
        "You are given a 0-indexed array nums consisting of positive integers. You can choose two indices i and j, such that i != j, and the sum of digits of the number nums[i] is equal to that of nums[j].\n",
        "\n",
        "Return the maximum value of nums[i] + nums[j] that you can obtain over all possible indices i and j that satisfy the conditions.\n",
        "\n",
        "\n",
        "\n",
        "Example 1:\n",
        "\n",
        "Input: nums = [18,43,36,13,7]\n",
        "Output: 54\n",
        "Explanation: The pairs (i, j) that satisfy the conditions are:\n",
        "- (0, 2), both numbers have a sum of digits equal to 9, and their sum is 18 + 36 = 54.\n",
        "- (1, 4), both numbers have a sum of digits equal to 7, and their sum is 43 + 7 = 50.\n",
        "So the maximum sum that we can obtain is 54.\n",
        "Example 2:\n",
        "\n",
        "Input: nums = [10,12,19,14]\n",
        "Output: -1\n",
        "Explanation: There are no two numbers that satisfy the conditions, so we return -1."
      ],
      "metadata": {
        "id": "Afn_wOnrfwlm"
      }
    },
    {
      "cell_type": "code",
      "source": [
        "!pip install sortedcontainers\n",
        "from sortedcontainers import SortedSet\n",
        "from sortedcontainers import SortedList"
      ],
      "metadata": {
        "colab": {
          "base_uri": "https://localhost:8080/"
        },
        "id": "clBbq_zOjhaj",
        "outputId": "6a10751d-d339-47c0-fd17-e296c0d679af"
      },
      "execution_count": 1,
      "outputs": [
        {
          "output_type": "stream",
          "name": "stdout",
          "text": [
            "Collecting sortedcontainers\n",
            "  Downloading sortedcontainers-2.4.0-py2.py3-none-any.whl.metadata (10 kB)\n",
            "Downloading sortedcontainers-2.4.0-py2.py3-none-any.whl (29 kB)\n",
            "Installing collected packages: sortedcontainers\n",
            "Successfully installed sortedcontainers-2.4.0\n"
          ]
        }
      ]
    },
    {
      "cell_type": "code",
      "source": [
        "nums = [4,6,10,6]\n",
        "def digsum(n):\n",
        "    sum=0\n",
        "    while n>0:\n",
        "        sum+=(n%10)\n",
        "        n=n//10\n",
        "    return sum\n",
        "counter={}\n",
        "for num in nums:\n",
        "    key=digsum(num)\n",
        "    if key not in counter.keys():\n",
        "        counter[key]=SortedSet() # Automatically sorts the elements as we add them to the set\n",
        "    counter[key].add(num)\n",
        "counter\n",
        "res=-1\n",
        "for key in counter:\n",
        "    if len(counter[key])>=2:\n",
        "        res=max(res,sum(counter[key]))\n",
        "res\n",
        "counter"
      ],
      "metadata": {
        "colab": {
          "base_uri": "https://localhost:8080/"
        },
        "id": "yFFBfJlV6vSH",
        "outputId": "4dcfb6d9-58fd-4102-ddc6-de5687cc80dd"
      },
      "execution_count": 2,
      "outputs": [
        {
          "output_type": "execute_result",
          "data": {
            "text/plain": [
              "{4: SortedSet([4]), 6: SortedSet([6]), 1: SortedSet([10])}"
            ]
          },
          "metadata": {},
          "execution_count": 2
        }
      ]
    },
    {
      "cell_type": "markdown",
      "source": [
        "Using SortedList"
      ],
      "metadata": {
        "id": "gHdJtG-vmD2x"
      }
    },
    {
      "cell_type": "code",
      "source": [
        "nums = [229,398,269,317,420,464,491,218,439,153,482,169,411,93,147,50,347,210,251,366,401]\n",
        "def digsum(n):\n",
        "    sum=0\n",
        "    while n>0:\n",
        "        sum+=(n%10)\n",
        "        n=n//10\n",
        "    return sum\n",
        "counter={}\n",
        "for num in nums:\n",
        "    key=digsum(num)\n",
        "    if key not in counter.keys():\n",
        "        counter[key]=SortedList() # Automatically sorts the elements as we add them to the list\n",
        "    counter[key].add(num)\n",
        "\n",
        "res=-1\n",
        "for key in counter:\n",
        "    if len(counter[key])>=2:\n",
        "        res=max(res,counter[key][-1]+counter[key][-2])\n",
        "res"
      ],
      "metadata": {
        "colab": {
          "base_uri": "https://localhost:8080/"
        },
        "id": "Akg2UPjf_p9k",
        "outputId": "d39b4644-ec9e-487a-b95f-2940825fedff"
      },
      "execution_count": 3,
      "outputs": [
        {
          "output_type": "execute_result",
          "data": {
            "text/plain": [
              "973"
            ]
          },
          "metadata": {},
          "execution_count": 3
        }
      ]
    },
    {
      "cell_type": "markdown",
      "source": [
        "Improved Solution---Time efficient"
      ],
      "metadata": {
        "id": "uT7XN89-wU04"
      }
    },
    {
      "cell_type": "code",
      "source": [
        "nums = [229,398,269,317,420,464,491,218,439,153,482,169,411,93,147,50,347,210,251,366,401]\n",
        "def digsum(n):\n",
        "    sum=0\n",
        "    while n>0:\n",
        "        sum+=(n%10)\n",
        "        n=n//10\n",
        "    return sum\n",
        "counter={}\n",
        "for num in nums:\n",
        "    key=digsum(num)\n",
        "    if key not in counter.keys():\n",
        "        counter[key]=[]\n",
        "    counter[key].append(num)\n",
        "\n",
        "res=-1\n",
        "a,b=0,0\n",
        "for key in counter:\n",
        "    if len(counter[key])>=2:\n",
        "        a=max(counter[key])\n",
        "        counter[key].remove(a)\n",
        "        b=max(counter[key])\n",
        "    res=max(res,a+b)\n",
        "res"
      ],
      "metadata": {
        "id": "41S76Hyj_v6u",
        "colab": {
          "base_uri": "https://localhost:8080/"
        },
        "outputId": "4ecb9a9f-f260-4b17-b316-3159df5000ed"
      },
      "execution_count": 4,
      "outputs": [
        {
          "output_type": "execute_result",
          "data": {
            "text/plain": [
              "973"
            ]
          },
          "metadata": {},
          "execution_count": 4
        }
      ]
    }
  ]
}
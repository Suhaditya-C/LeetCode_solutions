{
 "cells": [
  {
   "cell_type": "markdown",
   "metadata": {},
   "source": [
    "# 3356. Zero Array Transformation II\n",
    "\n",
    "You are given an integer array nums of length n and a 2D array queries where queries[i] = [li, ri, vali].\n",
    "\n",
    "Each queries[i] represents the following action on nums:\n",
    "\n",
    "Decrement the value at each index in the range [li, ri] in nums by at most vali.\n",
    "The amount by which each value is decremented can be chosen independently for each index.\n",
    "A Zero Array is an array with all its elements equal to 0.\n",
    "\n",
    "Return the minimum possible non-negative value of k, such that after processing the first k queries in sequence, nums becomes a Zero Array. If no such k exists, return -1.\n",
    "\n",
    " \n",
    "\n",
    "Example 1:\n",
    "\n",
    "Input: nums = [2,0,2], queries = [[0,2,1],[0,2,1],[1,1,3]]\n",
    "\n",
    "Output: 2\n",
    "\n",
    "Explanation:\n",
    "\n",
    "For i = 0 (l = 0, r = 2, val = 1):\n",
    "Decrement values at indices [0, 1, 2] by [1, 0, 1] respectively.\n",
    "The array will become [1, 0, 1].\n",
    "For i = 1 (l = 0, r = 2, val = 1):\n",
    "Decrement values at indices [0, 1, 2] by [1, 0, 1] respectively.\n",
    "The array will become [0, 0, 0], which is a Zero Array. Therefore, the minimum value of k is 2.\n",
    "Example 2:\n",
    "\n",
    "Input: nums = [4,3,2,1], queries = [[1,3,2],[0,2,1]]\n",
    "\n",
    "Output: -1\n",
    "\n",
    "Explanation:\n",
    "\n",
    "For i = 0 (l = 1, r = 3, val = 2):\n",
    "Decrement values at indices [1, 2, 3] by [2, 2, 1] respectively.\n",
    "The array will become [4, 1, 0, 0].\n",
    "For i = 1 (l = 0, r = 2, val = 1):\n",
    "Decrement values at indices [0, 1, 2] by [1, 1, 0] respectively.\n",
    "The array will become [3, 0, 0, 0], which is not a Zero Array.\n",
    " \n",
    "\n",
    "Constraints:\n",
    "\n",
    "1 <= nums.length <= 105\n",
    "0 <= nums[i] <= 5 * 105\n",
    "1 <= queries.length <= 105\n",
    "queries[i].length == 3\n",
    "0 <= li <= ri < nums.length\n",
    "1 <= vali <= 5"
   ]
  },
  {
   "cell_type": "markdown",
   "metadata": {},
   "source": [
    "Brute Force"
   ]
  },
  {
   "cell_type": "code",
   "execution_count": 15,
   "metadata": {},
   "outputs": [
    {
     "data": {
      "text/plain": [
       "-1"
      ]
     },
     "execution_count": 15,
     "metadata": {},
     "output_type": "execute_result"
    }
   ],
   "source": [
    "nums = [4,3,2,1]; queries = [[1,3,2],[0,2,1]]\n",
    "cnt=0\n",
    "for q in queries:\n",
    "    if sum(nums)==0:\n",
    "        break\n",
    "    s,e,diff=q\n",
    "    for i in range(s,e+1):\n",
    "        if diff>nums[i]:\n",
    "            nums[i]=0\n",
    "        else:\n",
    "            nums[i]-=diff\n",
    "    cnt+=1\n",
    "cnt if sum(nums)==0 else -1"
   ]
  },
  {
   "cell_type": "markdown",
   "metadata": {},
   "source": [
    "Time Limit Exceeded"
   ]
  },
  {
   "cell_type": "markdown",
   "metadata": {},
   "source": [
    "Efficient Solution"
   ]
  },
  {
   "cell_type": "markdown",
   "metadata": {},
   "source": [
    "Line sweeping is a technique that processes an array incrementally, maintaining only the relevant updates at each step. Instead of processing all queries upfront, we maintain an active set of queries and update nums only when necessary. Here, the difference array helps us track how nums is being modified, while queries provide the updates at specific points.\n",
    "\n",
    "We start at index 0 of nums and check if it can be turned into 0 with the queries we have processed so far. If it cannot be zeroed out, we process additional queries to apply their effects. The key observation is that at any index i in nums, a query [left, right, val] can fall into three possible cases:\n",
    "\n",
    "If i < left, the query affects a later part of nums, so we store it for later processing.\n",
    "If left ≤ i ≤ right, the query is immediately relevant and should be applied.\n",
    "If right < i, the query is no longer useful for the current index and can be ignored."
   ]
  },
  {
   "cell_type": "code",
   "execution_count": 18,
   "metadata": {},
   "outputs": [
    {
     "data": {
      "text/plain": [
       "2"
      ]
     },
     "execution_count": 18,
     "metadata": {},
     "output_type": "execute_result"
    }
   ],
   "source": [
    "nums = [2,0,2]; queries = [[0,2,1],[0,2,1],[1,1,3]]\n",
    "n=len(nums)\n",
    "diff=[0]*(n+1)\n",
    "presum=0 \n",
    "k=0\n",
    "#Iterate through each element in the array and update that part only\n",
    "for i in range(n):\n",
    "    while presum+diff[i]<nums[i]: #iterate through relevant queries\n",
    "        k+=1\n",
    "# Zero array isn't formed after all queries are processed\n",
    "        if k > len(queries):\n",
    "            print(-1)\n",
    "            break\n",
    "        \n",
    "        l,r,val=queries[k-1]\n",
    "        if r>=i:\n",
    "            diff[max(l,i)]+=val # 1.If i < left i.e. right, the query affects a later part of nums, so we store it for later processing.\n",
    "# 2. If left ≤ i ≤ right, the query is immediately relevant and should be applied.\n",
    "            diff[r+1]-=val #so that prefix sum is not affected after that point and hence nums is not affected\n",
    "\n",
    "    # Update prefix sum at current index\n",
    "    presum+=diff[i] \n",
    "k"
   ]
  }
 ],
 "metadata": {
  "kernelspec": {
   "display_name": "Python 3",
   "language": "python",
   "name": "python3"
  },
  "language_info": {
   "codemirror_mode": {
    "name": "ipython",
    "version": 3
   },
   "file_extension": ".py",
   "mimetype": "text/x-python",
   "name": "python",
   "nbconvert_exporter": "python",
   "pygments_lexer": "ipython3",
   "version": "3.12.4"
  }
 },
 "nbformat": 4,
 "nbformat_minor": 2
}

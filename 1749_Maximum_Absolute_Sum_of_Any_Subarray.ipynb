{
  "nbformat": 4,
  "nbformat_minor": 0,
  "metadata": {
    "colab": {
      "provenance": [],
      "authorship_tag": "ABX9TyNlL54Con7AMZnOOGupulOz",
      "include_colab_link": true
    },
    "kernelspec": {
      "name": "python3",
      "display_name": "Python 3"
    },
    "language_info": {
      "name": "python"
    }
  },
  "cells": [
    {
      "cell_type": "markdown",
      "metadata": {
        "id": "view-in-github",
        "colab_type": "text"
      },
      "source": [
        "<a href=\"https://colab.research.google.com/github/Suhaditya-C/LeetCode_solutions/blob/main/1749_Maximum_Absolute_Sum_of_Any_Subarray.ipynb\" target=\"_parent\"><img src=\"https://colab.research.google.com/assets/colab-badge.svg\" alt=\"Open In Colab\"/></a>"
      ]
    },
    {
      "cell_type": "markdown",
      "source": [
        "## 1749. Maximum Absolute Sum of Any Subarray"
      ],
      "metadata": {
        "id": "uGT6m14SP530"
      }
    },
    {
      "cell_type": "markdown",
      "source": [
        "You are given an integer array nums. The absolute sum of a subarray [numsl, numsl+1, ..., numsr-1, numsr] is abs(numsl + numsl+1 + ... + numsr-1 + numsr).\n",
        "\n",
        "Return the maximum absolute sum of any (possibly empty) subarray of nums.\n",
        "\n",
        "Note that abs(x) is defined as follows:\n",
        "\n",
        "If x is a negative integer, then abs(x) = -x.\n",
        "If x is a non-negative integer, then abs(x) = x.\n",
        "\n",
        "\n",
        "Example 1:\n",
        "\n",
        "Input: nums = [1,-3,2,3,-4]\n",
        "Output: 5\n",
        "Explanation: The subarray [2,3] has absolute sum = abs(2+3) = abs(5) = 5.\n",
        "Example 2:\n",
        "\n",
        "Input: nums = [2,-5,1,-4,3,-2]\n",
        "Output: 8\n",
        "Explanation: The subarray [-5,1,-4] has absolute sum = abs(-5+1-4) = abs(-8) = 8.\n",
        "\n",
        "\n",
        "Constraints:\n",
        "\n",
        "1 <= nums.length <= 105\n",
        "-104 <= nums[i] <= 104"
      ],
      "metadata": {
        "id": "PwLC35onP98r"
      }
    },
    {
      "cell_type": "markdown",
      "source": [
        "Kadane's Algo-The pattern is that if we ever have a negative subarray sum, we should discard it and start a new subarray. This is because we know that the sum will only get smaller if we include it.\n",
        "\n",
        "For absolute subarray sum, we have to run it twice- 1 for max and 1 for min"
      ],
      "metadata": {
        "id": "Cug91keNRomc"
      }
    },
    {
      "cell_type": "code",
      "source": [
        "nums = [1,-3,2,3,-4]\n",
        "sumax,sumin=0,0\n",
        "resmax=nums[0]\n",
        "resmin=nums[0]\n",
        "for i in range(len(nums)):\n",
        "    sumax+=nums[i]\n",
        "    sumax=max(sumax,0) # for sum is negative, restart with 0\n",
        "    sumin+=nums[i]\n",
        "    sumin=min(sumin,0) # for sum is positive, restart with 0\n",
        "    resmax=max(resmax,sumax) # for most positive sum\n",
        "    resmin=min(resmin,sumin) # for most negative sum\n",
        "max(resmax,-resmin)"
      ],
      "metadata": {
        "colab": {
          "base_uri": "https://localhost:8080/"
        },
        "id": "86fsa33w-1Qn",
        "outputId": "b762ab30-1aab-4476-ff47-daea4c482ba1"
      },
      "execution_count": null,
      "outputs": [
        {
          "output_type": "execute_result",
          "data": {
            "text/plain": [
              "5"
            ]
          },
          "metadata": {},
          "execution_count": 14
        }
      ]
    },
    {
      "cell_type": "code",
      "source": [
        "from typing import List\n",
        "class Solution:\n",
        "    def maxAbsoluteSum(self, nums: List[int]) -> int:\n",
        "        sumax,sumin=0,0\n",
        "        resmax=nums[0]\n",
        "        resmin=nums[0]\n",
        "        for i in range(len(nums)):\n",
        "            sumax+=nums[i]\n",
        "            if sumax<=0: # for sum is negative, restart with 0\n",
        "                sumax=0\n",
        "            sumin+=nums[i]\n",
        "            if sumin>0: # for sum is positive, restart with 0\n",
        "                sumin=0\n",
        "            resmax=max(resmax,sumax) # for most positive sum\n",
        "            resmin=min(resmin,sumin) # for most negative sum\n",
        "        return max(resmax,-resmin)\n",
        "sol=Solution()\n",
        "sol.maxAbsoluteSum([1,-3,2,3,-4])"
      ],
      "metadata": {
        "colab": {
          "base_uri": "https://localhost:8080/"
        },
        "id": "1FRcUz_Akia3",
        "outputId": "28285a66-d2a9-4224-c675-5cc25d646bc3"
      },
      "execution_count": 2,
      "outputs": [
        {
          "output_type": "execute_result",
          "data": {
            "text/plain": [
              "5"
            ]
          },
          "metadata": {},
          "execution_count": 2
        }
      ]
    }
  ]
}
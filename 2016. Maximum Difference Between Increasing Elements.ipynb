{
 "cells": [
  {
   "cell_type": "markdown",
   "id": "ed29bbc4",
   "metadata": {},
   "source": [
    "# 2016. Maximum Difference Between Increasing Elements\n",
    "\n",
    "Given a 0-indexed integer array nums of size n, find the maximum difference between nums[i] and nums[j] (i.e., nums[j] - nums[i]), such that 0 <= i < j < n and nums[i] < nums[j].\n",
    "\n",
    "Return the maximum difference. If no such i and j exists, return -1.\n",
    "\n",
    " \n",
    "\n",
    "Example 1:\n",
    "\n",
    "Input: nums = [7,1,5,4]\n",
    "Output: 4\n",
    "Explanation:\n",
    "The maximum difference occurs with i = 1 and j = 2, nums[j] - nums[i] = 5 - 1 = 4.\n",
    "Note that with i = 1 and j = 0, the difference nums[j] - nums[i] = 7 - 1 = 6, but i > j, so it is not valid.\n",
    "Example 2:\n",
    "\n",
    "Input: nums = [9,4,3,2]\n",
    "Output: -1\n",
    "Explanation:\n",
    "There is no i and j such that i < j and nums[i] < nums[j].\n",
    "Example 3:\n",
    "\n",
    "Input: nums = [1,5,2,10]\n",
    "Output: 9\n",
    "Explanation:\n",
    "The maximum difference occurs with i = 0 and j = 3, nums[j] - nums[i] = 10 - 1 = 9.\n",
    " \n",
    "\n",
    "Constraints:\n",
    "\n",
    "n == nums.length\n",
    "2 <= n <= 1000\n",
    "1 <= nums[i] <= 109"
   ]
  },
  {
   "cell_type": "markdown",
   "id": "f60a938e",
   "metadata": {},
   "source": [
    "## Solution:\n"
   ]
  },
  {
   "cell_type": "code",
   "execution_count": null,
   "id": "aeb2eb2b",
   "metadata": {},
   "outputs": [
    {
     "data": {
      "text/plain": [
       "9"
      ]
     },
     "execution_count": 5,
     "metadata": {},
     "output_type": "execute_result"
    }
   ],
   "source": [
    "nums = [1,5,2,10]\n",
    "minnum=float('inf')\n",
    "maxdif=-1\n",
    "for i in range(1,len(nums)):\n",
    "    minnum=min(minnum,nums[i-1])\n",
    "    if nums[i]>nums[i-1]:\n",
    "        maxdif=max(maxdif,nums[i]-minnum)\n",
    "maxdif"
   ]
  }
 ],
 "metadata": {
  "kernelspec": {
   "display_name": "Python 3",
   "language": "python",
   "name": "python3"
  },
  "language_info": {
   "codemirror_mode": {
    "name": "ipython",
    "version": 3
   },
   "file_extension": ".py",
   "mimetype": "text/x-python",
   "name": "python",
   "nbconvert_exporter": "python",
   "pygments_lexer": "ipython3",
   "version": "3.10.9"
  }
 },
 "nbformat": 4,
 "nbformat_minor": 5
}

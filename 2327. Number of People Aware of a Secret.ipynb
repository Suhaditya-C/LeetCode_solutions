{
 "cells": [
  {
   "cell_type": "markdown",
   "id": "1c457f30",
   "metadata": {},
   "source": [
    "# 2327. Number of People Aware of a Secret\n",
    "\n",
    "On day 1, one person discovers a secret.\n",
    "\n",
    "You are given an integer delay, which means that each person will share the secret with a new person every day, starting from delay days after discovering the secret. You are also given an integer forget, which means that each person will forget the secret forget days after discovering it. A person cannot share the secret on the same day they forgot it, or on any day afterwards.\n",
    "\n",
    "Given an integer n, return the number of people who know the secret at the end of day n. Since the answer may be very large, return it modulo 109 + 7.\n",
    "\n",
    " \n",
    "\n",
    "Example 1:\n",
    "\n",
    "Input: n = 6, delay = 2, forget = 4\n",
    "Output: 5\n",
    "Explanation:\n",
    "Day 1: Suppose the first person is named A. (1 person)\n",
    "Day 2: A is the only person who knows the secret. (1 person)\n",
    "Day 3: A shares the secret with a new person, B. (2 people)\n",
    "Day 4: A shares the secret with a new person, C. (3 people)\n",
    "Day 5: A forgets the secret, and B shares the secret with a new person, D. (3 people)\n",
    "Day 6: B shares the secret with E, and C shares the secret with F. (5 people)\n",
    "Example 2:\n",
    "\n",
    "Input: n = 4, delay = 1, forget = 3\n",
    "Output: 6\n",
    "Explanation:\n",
    "Day 1: The first person is named A. (1 person)\n",
    "Day 2: A shares the secret with B. (2 people)\n",
    "Day 3: A and B share the secret with 2 new people, C and D. (4 people)\n",
    "Day 4: A forgets the secret. B, C, and D share the secret with 3 new people. (6 people)\n",
    " \n",
    "\n",
    "Constraints:\n",
    "\n",
    "2 <= n <= 1000\n",
    "1 <= delay < forget <= n"
   ]
  },
  {
   "cell_type": "markdown",
   "id": "2db45908",
   "metadata": {},
   "source": [
    "## Solution: Dynamic Programming"
   ]
  },
  {
   "cell_type": "code",
   "execution_count": 11,
   "id": "eaeb910a",
   "metadata": {},
   "outputs": [
    {
     "data": {
      "text/plain": [
       "5"
      ]
     },
     "execution_count": 11,
     "metadata": {},
     "output_type": "execute_result"
    }
   ],
   "source": [
    "n = 6; delay = 2; forget = 4\n",
    "\n",
    "# dp[i] = number of new persons learning the secret on day i\n",
    "dp = [0]*(n+1)  \n",
    "dp[1] = 1   # On day 1, the secret is initially known by 1 person\n",
    "\n",
    "for i in range(2, n+1):\n",
    "    # On day i, new learners come from people who learned the secret earlier\n",
    "    # A person who learned on day j can share starting from (j+delay),\n",
    "    # and will forget on (j+forget).\n",
    "    # So on day i, valid j are in the range [i-forget+1, i-delay].\n",
    "    # We sum dp[j] for all such j.\n",
    "    dp[i] = sum(dp[max(1, i-forget+1) : i-delay+1])\n",
    "\n",
    "# At the end (day n), not everyone remembers the secret.\n",
    "# Only those who learned it within the last 'forget' days (i.e., from day n-forget+1 to n) still remember.\n",
    "# So we sum dp over that interval to get the final count.\n",
    "sum(dp[max(1, n-forget+1) : n+1])\n"
   ]
  },
  {
   "cell_type": "markdown",
   "id": "4ac82cd7",
   "metadata": {},
   "source": [
    "Solution with MOD for large nos."
   ]
  },
  {
   "cell_type": "code",
   "execution_count": 24,
   "id": "95f4ef1c",
   "metadata": {},
   "outputs": [
    {
     "data": {
      "text/plain": [
       "653668527"
      ]
     },
     "execution_count": 24,
     "metadata": {},
     "output_type": "execute_result"
    }
   ],
   "source": [
    "n = 684; delay = 18; forget = 496\n",
    "MOD=10**9+7\n",
    "# dp[i] = number of new persons learning the secret on day i\n",
    "dp = [0]*(n+1)  \n",
    "dp[1] = 1   # On day 1, the secret is initially known by 1 person\n",
    "res=0\n",
    "for i in range(2, n+1):\n",
    "\n",
    "    # On day i, new learners come from people who learned the secret earlier\n",
    "    # A person who learned on day j can share starting from (j+delay),\n",
    "    # and will forget on (j+forget).\n",
    "    # So on day i, valid j are in the range [i-forget+1, i-delay].\n",
    "    # We sum dp[j] for all such j.\n",
    "    for j in range(max(1, i-forget+1),i-delay+1):\n",
    "        dp[i]=(dp[i]+dp[j])%MOD\n",
    "\n",
    "# At the end (day n), not everyone remembers the secret.\n",
    "# Only those who learned it within the last 'forget' days (i.e., from day n-forget+1 to n) still remember.\n",
    "# So we sum dp over that interval to get the final count.\n",
    "    if i>=n-forget+1:\n",
    "        res=(res+dp[i])%MOD\n",
    "\n",
    "res+dp[1] if 1>=n-forget+1 else res"
   ]
  },
  {
   "cell_type": "code",
   "execution_count": 18,
   "id": "c6e2c662",
   "metadata": {},
   "outputs": [
    {
     "data": {
      "text/plain": [
       "[0, 1, 1, 2, 4]"
      ]
     },
     "execution_count": 18,
     "metadata": {},
     "output_type": "execute_result"
    }
   ],
   "source": [
    "dp"
   ]
  }
 ],
 "metadata": {
  "kernelspec": {
   "display_name": "Python 3",
   "language": "python",
   "name": "python3"
  },
  "language_info": {
   "codemirror_mode": {
    "name": "ipython",
    "version": 3
   },
   "file_extension": ".py",
   "mimetype": "text/x-python",
   "name": "python",
   "nbconvert_exporter": "python",
   "pygments_lexer": "ipython3",
   "version": "3.10.9"
  }
 },
 "nbformat": 4,
 "nbformat_minor": 5
}

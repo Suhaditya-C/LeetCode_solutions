{
 "cells": [
  {
   "cell_type": "markdown",
   "id": "b2b0c5d0",
   "metadata": {},
   "source": [
    "# 1277. Count Square Submatrices with All Ones\n",
    "\n",
    "Given a m * n matrix of ones and zeros, return how many square submatrices have all ones.\n",
    "\n",
    " \n",
    "\n",
    "Example 1:\n",
    "\n",
    "Input: matrix =\n",
    "[\n",
    "  [0,1,1,1],\n",
    "  [1,1,1,1],\n",
    "  [0,1,1,1]\n",
    "]\n",
    "Output: 15\n",
    "Explanation: \n",
    "There are 10 squares of side 1.\n",
    "There are 4 squares of side 2.\n",
    "There is  1 square of side 3.\n",
    "Total number of squares = 10 + 4 + 1 = 15.\n",
    "Example 2:\n",
    "\n",
    "Input: matrix = \n",
    "[\n",
    "  [1,0,1],\n",
    "  [1,1,0],\n",
    "  [1,1,0]\n",
    "]\n",
    "Output: 7\n",
    "Explanation: \n",
    "There are 6 squares of side 1.  \n",
    "There is 1 square of side 2. \n",
    "Total number of squares = 6 + 1 = 7.\n",
    " \n",
    "\n",
    "Constraints:\n",
    "\n",
    "1 <= arr.length <= 300\n",
    "1 <= arr[0].length <= 300\n",
    "0 <= arr[i][j] <= 1"
   ]
  },
  {
   "cell_type": "markdown",
   "id": "944047c8",
   "metadata": {},
   "source": [
    "## Solution: \n",
    "Dynamic Programming"
   ]
  },
  {
   "cell_type": "code",
   "execution_count": 17,
   "id": "4440b32d",
   "metadata": {},
   "outputs": [
    {
     "data": {
      "text/plain": [
       "7"
      ]
     },
     "execution_count": 17,
     "metadata": {},
     "output_type": "execute_result"
    }
   ],
   "source": [
    "matrix = [\n",
    "  [1,0,1],\n",
    "  [1,1,0],\n",
    "  [1,1,0]\n",
    "]\n",
    "\n",
    "m, n = len(matrix), len(matrix[0])         # Get number of rows and columns\n",
    "dp = [[0] * n for _ in range(m)]           # DP table to store largest square ending at (i, j)\n",
    "\n",
    "res = 0                                    # Result: total number of square submatrices\n",
    "for i in range(m):                         # Iterate over each row\n",
    "    for j in range(n):                     # Iterate over each column\n",
    "        if matrix[i][j] == 1:              # If cell is 1, it can be part of a square\n",
    "            if (i == 0 or j == 0):         # If on first row or column, only 1x1 square possible\n",
    "                dp[i][j] = 1\n",
    "            else:                          # Otherwise, check minimum of three neighbors\n",
    "                dp[i][j] = 1 + min(\n",
    "                    dp[i-1][j],            # Top\n",
    "                    dp[i-1][j-1],          # Top-left\n",
    "                    dp[i][j-1]             # Left\n",
    "                )\n",
    "        res += dp[i][j]                    # Add number of squares ending at (i, j) to result\n",
    "res                                        # Final result: total number of square submatrices with all ones"
   ]
  },
  {
   "cell_type": "code",
   "execution_count": 14,
   "id": "32889c92",
   "metadata": {},
   "outputs": [
    {
     "data": {
      "text/plain": [
       "[[0, 1, 1, 1], [1, 1, 2, 2], [0, 1, 2, 3]]"
      ]
     },
     "execution_count": 14,
     "metadata": {},
     "output_type": "execute_result"
    }
   ],
   "source": [
    "dp"
   ]
  }
 ],
 "metadata": {
  "kernelspec": {
   "display_name": "Python 3",
   "language": "python",
   "name": "python3"
  },
  "language_info": {
   "codemirror_mode": {
    "name": "ipython",
    "version": 3
   },
   "file_extension": ".py",
   "mimetype": "text/x-python",
   "name": "python",
   "nbconvert_exporter": "python",
   "pygments_lexer": "ipython3",
   "version": "3.10.9"
  }
 },
 "nbformat": 4,
 "nbformat_minor": 5
}

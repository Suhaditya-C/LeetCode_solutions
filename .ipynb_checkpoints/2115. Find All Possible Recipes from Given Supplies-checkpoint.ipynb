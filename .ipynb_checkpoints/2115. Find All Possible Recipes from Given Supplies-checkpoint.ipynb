{
 "cells": [
  {
   "cell_type": "markdown",
   "id": "3d409732-a574-44c3-b2f2-7bb3d7916a12",
   "metadata": {},
   "source": [
    "# 2115. Find All Possible Recipes from Given Supplies\n",
    "\n",
    "You have information about n different recipes. You are given a string array recipes and a 2D string array ingredients. The ith recipe has the name recipes[i], and you can create it if you have all the needed ingredients from ingredients[i]. A recipe can also be an ingredient for other recipes, i.e., ingredients[i] may contain a string that is in recipes.\n",
    "\n",
    "You are also given a string array supplies containing all the ingredients that you initially have, and you have an infinite supply of all of them.\n",
    "\n",
    "Return a list of all the recipes that you can create. You may return the answer in any order.\n",
    "\n",
    "Note that two recipes may contain each other in their ingredients.\n",
    "\n",
    " \n",
    "\n",
    "Example 1:\n",
    "\n",
    "Input: recipes = [\"bread\"], ingredients = [[\"yeast\",\"flour\"]], supplies = [\"yeast\",\"flour\",\"corn\"]\n",
    "Output: [\"bread\"]\n",
    "Explanation:\n",
    "We can create \"bread\" since we have the ingredients \"yeast\" and \"flour\".\n",
    "Example 2:\n",
    "\n",
    "Input: recipes = [\"bread\",\"sandwich\"], ingredients = [[\"yeast\",\"flour\"],[\"bread\",\"meat\"]], supplies = [\"yeast\",\"flour\",\"meat\"]\n",
    "Output: [\"bread\",\"sandwich\"]\n",
    "Explanation:\n",
    "We can create \"bread\" since we have the ingredients \"yeast\" and \"flour\".\n",
    "We can create \"sandwich\" since we have the ingredient \"meat\" and can create the ingredient \"bread\".\n",
    "Example 3:\n",
    "\n",
    "Input: recipes = [\"bread\",\"sandwich\",\"burger\"], ingredients = [[\"yeast\",\"flour\"],[\"bread\",\"meat\"],[\"sandwich\",\"meat\",\"bread\"]], supplies = [\"yeast\",\"flour\",\"meat\"]\n",
    "Output: [\"bread\",\"sandwich\",\"burger\"]\n",
    "Explanation:\n",
    "We can create \"bread\" since we have the ingredients \"yeast\" and \"flour\".\n",
    "We can create \"sandwich\" since we have the ingredient \"meat\" and can create the ingredient \"bread\".\n",
    "We can create \"burger\" since we have the ingredient \"meat\" and can create the ingredients \"bread\" and \"sandwich\".\n",
    " \n",
    "\n",
    "Constraints:\n",
    "\n",
    "n == recipes.length == ingredients.length\n",
    "1 <= n <= 100\n",
    "1 <= ingredients[i].length, supplies.length <= 100\n",
    "1 <= recipes[i].length, ingredients[i][j].length, supplies[k].length <= 10\n",
    "recipes[i], ingredients[i][j], and supplies[k] consist only of lowercase English letters.\n",
    "All the values of recipes and supplies combined are unique.\n",
    "Each ingredients[i] does not contain any duplicate values."
   ]
  },
  {
   "cell_type": "code",
   "execution_count": 126,
   "id": "3d45dadf-9f84-4aa7-b1fe-947198db28b1",
   "metadata": {},
   "outputs": [],
   "source": [
    "recipes = [\"bread\",\"sandwich\",\"burger\"]\n",
    "ingredients = [[\"yeast\",\"sandwich\"],[\"bread\",\"meat\"],[\"sandwich\",\"meat\",\"bread\"]] #cycle creation\n",
    "supplies = [\"yeast\",\"flour\",\"meat\"]"
   ]
  },
  {
   "cell_type": "code",
   "execution_count": 119,
   "id": "6b0c969a-c728-4fc8-91e2-5789da0c1a31",
   "metadata": {},
   "outputs": [],
   "source": [
    "recipes=[\"bread\",\"sandwich\"]\n",
    "ingredients =[[\"yeast\",\"flour\"],[\"bread\",\"meat\"]]\n",
    "supplies =[\"yeast\",\"flour\",\"meat\"]"
   ]
  },
  {
   "cell_type": "code",
   "execution_count": 44,
   "id": "162adf96-1c00-4714-bf43-43b613610393",
   "metadata": {},
   "outputs": [],
   "source": [
    "recipes=[\"ju\",\"fzjnm\",\"x\",\"e\",\"zpmcz\",\"h\",\"q\"]\n",
    "ingredients=[[\"d\"],[\"hveml\",\"f\",\"cpivl\"],[\"cpivl\",\"zpmcz\",\"h\",\"e\",\"fzjnm\",\"ju\"],[\"cpivl\",\"hveml\",\"zpmcz\",\"ju\",\"h\"],[\"h\",\"fzjnm\",\"e\",\"q\",\"x\"],[\"d\",\"hveml\",\"cpivl\",\"q\",\"zpmcz\",\"ju\",\"e\",\"x\"],[\"f\",\"hveml\",\"cpivl\"]]\n",
    "supplies=[\"f\",\"hveml\",\"cpivl\",\"d\"]"
   ]
  },
  {
   "cell_type": "markdown",
   "id": "61839cb4-8720-4193-80cb-6b10b91264f7",
   "metadata": {},
   "source": [
    "### Slightly inefficient solution as we are not using sets"
   ]
  },
  {
   "cell_type": "code",
   "execution_count": 81,
   "id": "aed4fd10-0a3a-41d8-8b07-8c4fc0b403b5",
   "metadata": {},
   "outputs": [],
   "source": [
    "canmake=[]\n",
    "query=set()\n",
    "def DFS(recipe):\n",
    "    n=recipes.index(recipe)\n",
    "    if set(ingredients[n]).issubset(set(supplies)):\n",
    "        canmake.append(recipe)\n",
    "        return True\n",
    "    query.add(recipe)\n",
    "    count=0\n",
    "    for i in ingredients[n]:\n",
    "        if i in supplies or i in canmake:\n",
    "            count+=1\n",
    "        elif i in recipes and i not in query and DFS(i)==True:\n",
    "            count+=1\n",
    "        else:\n",
    "            return False\n",
    "    return True if count>=len(ingredients[n]) else False"
   ]
  },
  {
   "cell_type": "code",
   "execution_count": 113,
   "id": "06d9eaba-488e-4ad7-b50c-06c36c98eeef",
   "metadata": {},
   "outputs": [],
   "source": [
    "res=[]"
   ]
  },
  {
   "cell_type": "code",
   "execution_count": 114,
   "id": "d265947f-8d5a-4128-b2f2-281346483ba6",
   "metadata": {
    "scrolled": true
   },
   "outputs": [
    {
     "data": {
      "text/plain": [
       "['bread', 'sandwich']"
      ]
     },
     "execution_count": 114,
     "metadata": {},
     "output_type": "execute_result"
    }
   ],
   "source": [
    "for recipe in recipes:\n",
    "    if DFS(recipe):\n",
    "        res.append(recipe)\n",
    "res"
   ]
  },
  {
   "cell_type": "markdown",
   "id": "eb70010b-ce9f-4f61-8e7f-e15abad8f7c2",
   "metadata": {},
   "source": [
    "### Efficient solution as we are using sets for lookup"
   ]
  },
  {
   "cell_type": "code",
   "execution_count": 143,
   "id": "37e14e43-da75-43b8-b94a-e9468c29ebbc",
   "metadata": {},
   "outputs": [],
   "source": [
    "recipes = [\"bread\",\"sandwich\",\"burger\"]\n",
    "ingredients = [[\"yeast\",\"flour\"],[\"bread\",\"meat\"],[\"sandwich\",\"meat\",\"bread\"]] #cycle creation\n",
    "supplies = [\"yeast\",\"flour\",\"meat\"]\n",
    "\n",
    "canmake=set()\n",
    "visited=set()\n",
    "supplies=set(supplies)\n",
    "\n",
    "def DFS(recipe):\n",
    "    n=recipes.index(recipe)\n",
    "    visited.add(recipe)\n",
    "    count=0\n",
    "    for i in ingredients[n]:\n",
    "        if i in supplies or i in canmake:\n",
    "            count+=1\n",
    "        elif i in recipes and i not in visited and DFS(i)==True:\n",
    "            count+=1\n",
    "        else:\n",
    "            return False\n",
    "            \n",
    "    if count>=len(ingredients[n]):\n",
    "        canmake.add(recipe)\n",
    "        return True\n",
    "        \n",
    "    return False"
   ]
  },
  {
   "cell_type": "code",
   "execution_count": 144,
   "id": "e0054969-5b36-4690-bd54-cd55c6871f4e",
   "metadata": {},
   "outputs": [
    {
     "data": {
      "text/plain": [
       "{'bread', 'burger', 'sandwich'}"
      ]
     },
     "execution_count": 144,
     "metadata": {},
     "output_type": "execute_result"
    }
   ],
   "source": [
    "for recipe in recipes:\n",
    "    DFS(recipe)\n",
    "canmake"
   ]
  },
  {
   "cell_type": "code",
   "execution_count": 148,
   "id": "bfb633a4-72e7-4cbe-829b-19e4ab8da96e",
   "metadata": {
    "scrolled": true
   },
   "outputs": [
    {
     "data": {
      "text/plain": [
       "['fzjnm', 'q', 'ju']"
      ]
     },
     "execution_count": 148,
     "metadata": {},
     "output_type": "execute_result"
    }
   ],
   "source": [
    "from typing import List\n",
    "class Solution:\n",
    "    def findAllRecipes(self, recipes: List[str], ingredients: List[List[str]], supplies: List[str]) -> List[str]:\n",
    "        canmake=set()\n",
    "        visited=set()\n",
    "        supplies=set(supplies)\n",
    "        def DFS(recipe):\n",
    "            n=recipes.index(recipe)\n",
    "            visited.add(recipe)\n",
    "            count=0\n",
    "            for i in ingredients[n]:\n",
    "                if i in supplies or i in canmake:\n",
    "                    count+=1\n",
    "                elif i in recipes and i not in visited and DFS(i)==True:\n",
    "                    count+=1\n",
    "                else:\n",
    "                    return False       \n",
    "            if count>=len(ingredients[n]):\n",
    "                canmake.add(recipe)\n",
    "                return True\n",
    "            return False\n",
    "        for j in range(len(recipes)):\n",
    "            DFS(recipes[j])\n",
    "        return list(canmake)\n",
    "sol=Solution()\n",
    "res=sol.findAllRecipes(recipes =\n",
    "[\"ju\",\"fzjnm\",\"x\",\"e\",\"zpmcz\",\"h\",\"q\"],ingredients =\n",
    "[[\"d\"],[\"hveml\",\"f\",\"cpivl\"],[\"cpivl\",\"zpmcz\",\"h\",\"e\",\"fzjnm\",\"ju\"],[\"cpivl\",\"hveml\",\"zpmcz\",\"ju\",\"h\"],[\"h\",\"fzjnm\",\"e\",\"q\",\"x\"],[\"d\",\"hveml\",\"cpivl\",\"q\",\"zpmcz\",\"ju\",\"e\",\"x\"],[\"f\",\"hveml\",\"cpivl\"]],supplies =\n",
    "[\"f\",\"hveml\",\"cpivl\",\"d\"])\n",
    "res"
   ]
  }
 ],
 "metadata": {
  "kernelspec": {
   "display_name": "Python 3 (ipykernel)",
   "language": "python",
   "name": "python3"
  },
  "language_info": {
   "codemirror_mode": {
    "name": "ipython",
    "version": 3
   },
   "file_extension": ".py",
   "mimetype": "text/x-python",
   "name": "python",
   "nbconvert_exporter": "python",
   "pygments_lexer": "ipython3",
   "version": "3.12.4"
  }
 },
 "nbformat": 4,
 "nbformat_minor": 5
}

{
  "nbformat": 4,
  "nbformat_minor": 0,
  "metadata": {
    "colab": {
      "provenance": [],
      "authorship_tag": "ABX9TyObsSxMWnAQq7PAFwHCmfHX",
      "include_colab_link": true
    },
    "kernelspec": {
      "name": "python3",
      "display_name": "Python 3"
    },
    "language_info": {
      "name": "python"
    }
  },
  "cells": [
    {
      "cell_type": "markdown",
      "metadata": {
        "id": "view-in-github",
        "colab_type": "text"
      },
      "source": [
        "<a href=\"https://colab.research.google.com/github/Suhaditya-C/LeetCode_solutions/blob/main/3174_Clear_Digits.ipynb\" target=\"_parent\"><img src=\"https://colab.research.google.com/assets/colab-badge.svg\" alt=\"Open In Colab\"/></a>"
      ]
    },
    {
      "cell_type": "markdown",
      "source": [
        "## 3174. Clear Digits\n",
        "\n",
        "You are given a string s.\n",
        "\n",
        "Your task is to remove all digits by doing this operation repeatedly:\n",
        "\n",
        "Delete the first digit and the closest non-digit character to its left.\n",
        "Return the resulting string after removing all digits.\n",
        "\n",
        "\n",
        "\n",
        "Example 1:\n",
        "\n",
        "Input: s = \"abc\"\n",
        "\n",
        "Output: \"abc\"\n",
        "\n",
        "Explanation:\n",
        "\n",
        "There is no digit in the string.\n",
        "\n",
        "Example 2:\n",
        "\n",
        "Input: s = \"cb34\"\n",
        "\n",
        "Output: \"\"\n",
        "\n",
        "Explanation:\n",
        "\n",
        "First, we apply the operation on s[2], and s becomes \"c4\".\n",
        "\n",
        "Then we apply the operation on s[1], and s becomes \"\".\n",
        "\n",
        "\n",
        "\n",
        "Constraints:\n",
        "\n",
        "1 <= s.length <= 100\n",
        "s consists only of lowercase English letters and digits.\n",
        "The input is generated such that it is possible to delete all digits."
      ],
      "metadata": {
        "id": "oSPJ1s-h1XzO"
      }
    },
    {
      "cell_type": "code",
      "source": [
        "s = \"cb34\"\n",
        "l=list(s)\n",
        "#Delete the first digit and the closest non-digit character to its left.\n",
        "i=0\n",
        "while i<len(l) and i>=0:\n",
        "    if str(l[i]).isdigit():\n",
        "        del l[i] # removes ith element, current pointer is towards next element\n",
        "        i-=1    #shift the element to the previous left\n",
        "        del l[i] #del the left element\n",
        "        i-=1 #shift to the leftward element again\n",
        "    i+=1\n",
        "''.join(l)"
      ],
      "metadata": {
        "colab": {
          "base_uri": "https://localhost:8080/",
          "height": 36
        },
        "id": "932jGiO-1b82",
        "outputId": "5ce3a7dd-0dae-46fa-e1a0-42693e736600"
      },
      "execution_count": 1,
      "outputs": [
        {
          "output_type": "execute_result",
          "data": {
            "text/plain": [
              "''"
            ],
            "application/vnd.google.colaboratory.intrinsic+json": {
              "type": "string"
            }
          },
          "metadata": {},
          "execution_count": 1
        }
      ]
    },
    {
      "cell_type": "markdown",
      "source": [
        "Better Solution"
      ],
      "metadata": {
        "id": "dLjXRl_O7jNc"
      }
    },
    {
      "cell_type": "code",
      "source": [
        "s = \"cb34\"\n",
        "res=[]\n",
        "for char in s:\n",
        "    if char.isalpha():\n",
        "        res.append(char)\n",
        "    else:\n",
        "        res.pop()\n",
        "''.join(res)"
      ],
      "metadata": {
        "colab": {
          "base_uri": "https://localhost:8080/",
          "height": 36
        },
        "id": "qFAh36cm40hJ",
        "outputId": "321145f7-fd95-4433-a6c7-e28319b30bd9"
      },
      "execution_count": 2,
      "outputs": [
        {
          "output_type": "execute_result",
          "data": {
            "text/plain": [
              "''"
            ],
            "application/vnd.google.colaboratory.intrinsic+json": {
              "type": "string"
            }
          },
          "metadata": {},
          "execution_count": 2
        }
      ]
    },
    {
      "cell_type": "markdown",
      "source": [
        "Final Solution"
      ],
      "metadata": {
        "id": "UVn2EGIG9CMk"
      }
    },
    {
      "cell_type": "code",
      "source": [
        "class Solution:\n",
        "    def clearDigits(self, s: str) -> str:\n",
        "        res=[]\n",
        "        for char in s:\n",
        "            if char.isalpha():\n",
        "                res.append(char)\n",
        "            else:\n",
        "                res.pop()\n",
        "        return ''.join(res)\n",
        "\n",
        "# Instantiate the class\n",
        "solution_instance = Solution()\n",
        "\n",
        "# Call the method with a string\n",
        "result = solution_instance.clearDigits(\"cb34\")\n",
        "\n",
        "# Print the result\n",
        "print(result)"
      ],
      "metadata": {
        "colab": {
          "base_uri": "https://localhost:8080/"
        },
        "id": "_84IiWyc9DTU",
        "outputId": "492a19f1-3b51-4b5d-e8a0-5050714832c0"
      },
      "execution_count": 4,
      "outputs": [
        {
          "output_type": "stream",
          "name": "stdout",
          "text": [
            "\n"
          ]
        }
      ]
    }
  ]
}
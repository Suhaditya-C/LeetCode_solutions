{
 "cells": [
  {
   "cell_type": "markdown",
   "id": "a238d054-abee-42a2-b36f-e56b1be53ecd",
   "metadata": {},
   "source": [
    "# 2685. Count the Number of Complete Components\n",
    "\n",
    "You are given an integer n. There is an undirected graph with n vertices, numbered from 0 to n - 1. You are given a 2D integer array edges where edges[i] = [ai, bi] denotes that there exists an undirected edge connecting vertices ai and bi.\n",
    "\n",
    "Return the number of complete connected components of the graph.\n",
    "\n",
    "A connected component is a subgraph of a graph in which there exists a path between any two vertices, and no vertex of the subgraph shares an edge with a vertex outside of the subgraph.\n",
    "\n",
    "A connected component is said to be complete if there exists an edge between every pair of its vertices.\n",
    "\n",
    " \n",
    "\n",
    "Example 1:\n",
    "\n",
    "\n",
    "\n",
    "Input: n = 6, edges = [[0,1],[0,2],[1,2],[3,4]]\n",
    "Output: 3\n",
    "Explanation: From the picture above, one can see that all of the components of this graph are complete.\n",
    "Example 2:\n",
    "\n",
    "\n",
    "\n",
    "Input: n = 6, edges = [[0,1],[0,2],[1,2],[3,4],[3,5]]\n",
    "Output: 1\n",
    "Explanation: The component containing vertices 0, 1, and 2 is complete since there is an edge between every pair of two vertices. On the other hand, the component containing vertices 3, 4, and 5 is not complete since there is no edge between vertices 4 and 5. Thus, the number of complete components in this graph is 1.\n",
    " \n",
    "\n",
    "Constraints:\n",
    "\n",
    "1 <= n <= 50\n",
    "0 <= edges.length <= n * (n - 1) / 2\n",
    "edges[i].length == 2\n",
    "0 <= ai, bi <= n - 1\n",
    "ai != bi\n",
    "There are no repeated edges."
   ]
  },
  {
   "cell_type": "markdown",
   "id": "c1ff2529-6a5b-4e82-95ff-a296701de9e2",
   "metadata": {},
   "source": [
    "## Implement DSU"
   ]
  },
  {
   "cell_type": "code",
   "execution_count": 105,
   "id": "b4212e5a-6e6d-4e68-ad1a-0ea192418989",
   "metadata": {},
   "outputs": [
    {
     "name": "stdout",
     "output_type": "stream",
     "text": [
      "[0, 1, 2, 3, 4, 5]\n",
      "[1, 1, 1, 1, 1, 1]\n"
     ]
    }
   ],
   "source": [
    "n = 6; edges = [[0,1],[0,2],[1,2],[3,4],[3,5]]\n",
    "parent=[i for i in range(n)]\n",
    "size=[1]*n\n",
    "print(parent)\n",
    "print(size)"
   ]
  },
  {
   "cell_type": "code",
   "execution_count": 78,
   "id": "f3ffdc2f-92ed-46ce-9b72-cde7066b5bd8",
   "metadata": {},
   "outputs": [],
   "source": [
    "def findparent(node): #Finds the root parent of a node recursively\n",
    "    if node==parent[node]:\n",
    "        return node\n",
    "    parent[node]=findparent(parent[node])\n",
    "    return parent[node]\n",
    "\n",
    "def DSU(node1,node2):\n",
    "    parent1=findparent(node1)\n",
    "    parent2=findparent(node2)\n",
    "    if parent1==parent2: \n",
    "        return \n",
    "    elif size[parent1]>=size[parent2]: #Merge the lower size connection to the higer size connection\n",
    "        parent[parent2]=parent1\n",
    "        size[parent1]+=size[parent2]\n",
    "    else:\n",
    "        parent[parent1]=parent2\n",
    "        size[parent2]+=size[parent1]"
   ]
  },
  {
   "cell_type": "code",
   "execution_count": 80,
   "id": "7e19b87a-1301-433e-85cc-9ab549c70f92",
   "metadata": {},
   "outputs": [
    {
     "name": "stdout",
     "output_type": "stream",
     "text": [
      "[0, 0, 0, 3, 3, 3]\n",
      "[3, 1, 1, 3, 1, 1]\n"
     ]
    },
    {
     "data": {
      "text/plain": [
       "1"
      ]
     },
     "execution_count": 80,
     "metadata": {},
     "output_type": "execute_result"
    }
   ],
   "source": [
    "map={} #for keeping track : rootparent---> no. of edges\n",
    "#Run DSU for every edge\n",
    "for edge in edges:\n",
    "    DSU(edge[0],edge[1])\n",
    "\n",
    "#Run through the edges and count how many edges have a common root. We update that count value against the common root in the map\n",
    "for edge in edges:\n",
    "    if parent[edge[0]]==parent[edge[1]]:\n",
    "        if parent[edge[0]] not in map:\n",
    "            map[parent[edge[0]]]=1\n",
    "        else:\n",
    "            map[parent[edge[0]]]+=1\n",
    " #Finally count the no. of vertices connected just by the size of root nodes\n",
    "res=0\n",
    "for v in range(n):\n",
    "    if v==parent[v]: #Check only the root node\n",
    "        nodecnt=size[v] #size array gives the no. of connected nodes\n",
    "        expected_edgecnt=(nodecnt)*(nodecnt-1)/2\n",
    "        #Check if expected node count matches actual node count (Consider 0 edges for roots not in the map)\n",
    "        if expected_edgecnt==0 or expected_edgecnt==map[v]:\n",
    "            res+=1\n",
    " \n",
    "print(parent)\n",
    "print(size)\n",
    "map\n",
    "res"
   ]
  },
  {
   "cell_type": "markdown",
   "id": "7cd13adc-5346-46b4-8156-da794b97e83a",
   "metadata": {},
   "source": [
    "### Implement DFS"
   ]
  },
  {
   "cell_type": "code",
   "execution_count": 113,
   "id": "9154e8ff-0f48-492f-9001-5e89dd8ed908",
   "metadata": {},
   "outputs": [],
   "source": [
    "#create an adjacency list\n",
    "from collections import defaultdict\n",
    "adj=defaultdict(list)\n",
    "for v1, v2 in edges:\n",
    "    adj[v1].append(v2)\n",
    "    adj[v2].append(v1)"
   ]
  },
  {
   "cell_type": "code",
   "execution_count": 114,
   "id": "a093c66d-d0be-4fdd-9340-071c739247fc",
   "metadata": {},
   "outputs": [
    {
     "data": {
      "text/plain": [
       "defaultdict(list, {0: [1, 2], 1: [0, 2], 2: [0, 1], 3: [4, 5], 4: [3], 5: [3]})"
      ]
     },
     "execution_count": 114,
     "metadata": {},
     "output_type": "execute_result"
    }
   ],
   "source": [
    "adj"
   ]
  },
  {
   "cell_type": "code",
   "execution_count": 119,
   "id": "626290d8-4727-41a5-8f57-bd953b7ee1a0",
   "metadata": {},
   "outputs": [],
   "source": [
    "visited=set()\n",
    "def DFS(node,connected):\n",
    "    if node in visited:\n",
    "        return\n",
    "    visited.add(node)\n",
    "    connected.append(node)\n",
    "    for nei in adj[node]:\n",
    "        DFS(nei,connected)\n",
    "    return connected"
   ]
  },
  {
   "cell_type": "code",
   "execution_count": 116,
   "id": "e6610ea2-e603-434b-9dde-8ea6265fe027",
   "metadata": {},
   "outputs": [
    {
     "data": {
      "text/plain": [
       "[1, 0, 2]"
      ]
     },
     "execution_count": 116,
     "metadata": {},
     "output_type": "execute_result"
    }
   ],
   "source": [
    "DFS(1,[])"
   ]
  },
  {
   "cell_type": "code",
   "execution_count": 117,
   "id": "ff2d89d7-1fc5-4d20-b9ac-dff060358de2",
   "metadata": {},
   "outputs": [
    {
     "data": {
      "text/plain": [
       "{0, 1, 2}"
      ]
     },
     "execution_count": 117,
     "metadata": {},
     "output_type": "execute_result"
    }
   ],
   "source": [
    "visited"
   ]
  },
  {
   "cell_type": "code",
   "execution_count": 120,
   "id": "b38293c4-111e-4000-a120-1cbbf0e9fa84",
   "metadata": {},
   "outputs": [
    {
     "data": {
      "text/plain": [
       "1"
      ]
     },
     "execution_count": 120,
     "metadata": {},
     "output_type": "execute_result"
    }
   ],
   "source": [
    "res=0\n",
    "for v in range(n):\n",
    "    if v in visited:\n",
    "        continue\n",
    "    vertices=DFS(v,[])\n",
    "    if all([len(vertices)-1==len(adj[v2]) for v2 in vertices]): #If all n vertices each have n-1 edges connected to it, then the cycle is complete\n",
    "        res+=1\n",
    "res"
   ]
  }
 ],
 "metadata": {
  "kernelspec": {
   "display_name": "Python 3 (ipykernel)",
   "language": "python",
   "name": "python3"
  },
  "language_info": {
   "codemirror_mode": {
    "name": "ipython",
    "version": 3
   },
   "file_extension": ".py",
   "mimetype": "text/x-python",
   "name": "python",
   "nbconvert_exporter": "python",
   "pygments_lexer": "ipython3",
   "version": "3.12.4"
  }
 },
 "nbformat": 4,
 "nbformat_minor": 5
}

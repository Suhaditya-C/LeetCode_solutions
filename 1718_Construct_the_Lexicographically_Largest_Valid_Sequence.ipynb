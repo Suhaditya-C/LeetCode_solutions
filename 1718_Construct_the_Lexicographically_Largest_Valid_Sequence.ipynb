{
  "nbformat": 4,
  "nbformat_minor": 0,
  "metadata": {
    "colab": {
      "provenance": [],
      "authorship_tag": "ABX9TyMrYukmX/Z5a4KMn28ns/xO",
      "include_colab_link": true
    },
    "kernelspec": {
      "name": "python3",
      "display_name": "Python 3"
    },
    "language_info": {
      "name": "python"
    }
  },
  "cells": [
    {
      "cell_type": "markdown",
      "metadata": {
        "id": "view-in-github",
        "colab_type": "text"
      },
      "source": [
        "<a href=\"https://colab.research.google.com/github/Suhaditya-C/LeetCode_solutions/blob/main/1718_Construct_the_Lexicographically_Largest_Valid_Sequence.ipynb\" target=\"_parent\"><img src=\"https://colab.research.google.com/assets/colab-badge.svg\" alt=\"Open In Colab\"/></a>"
      ]
    },
    {
      "cell_type": "markdown",
      "source": [
        "## 1718. Construct the Lexicographically Largest Valid Sequence\n",
        "\n",
        "Given an integer n, find a sequence that satisfies all of the following:\n",
        "\n",
        "The integer 1 occurs once in the sequence.\n",
        "Each integer between 2 and n occurs twice in the sequence.\n",
        "For every integer i between 2 and n, the distance between the two occurrences of i is exactly i.\n",
        "The distance between two numbers on the sequence, a[i] and a[j], is the absolute difference of their indices, |j - i|.\n",
        "\n",
        "Return the lexicographically largest sequence. It is guaranteed that under the given constraints, there is always a solution.\n",
        "\n",
        "A sequence a is lexicographically larger than a sequence b (of the same length) if in the first position where a and b differ, sequence a has a number greater than the corresponding number in b. For example, [0,1,9,0] is lexicographically larger than [0,1,5,6] because the first position they differ is at the third number, and 9 is greater than 5.\n",
        "\n",
        "\n",
        "\n",
        "Example 1:\n",
        "\n",
        "Input: n = 3\n",
        "Output: [3,1,2,3,2]\n",
        "Explanation: [2,3,2,1,3] is also a valid sequence, but [3,1,2,3,2] is the lexicographically largest valid sequence.\n",
        "Example 2:\n",
        "\n",
        "Input: n = 5\n",
        "Output: [5,3,1,4,3,5,2,4,2]\n",
        "\n",
        "\n",
        "Constraints:\n",
        "\n",
        "1 <= n <= 20"
      ],
      "metadata": {
        "id": "xpywz7MQHP3A"
      }
    },
    {
      "cell_type": "markdown",
      "source": [
        "### Backtracking algorithm\n"
      ],
      "metadata": {
        "id": "LtcGWDGThOdO"
      }
    },
    {
      "cell_type": "code",
      "source": [
        "n = 5\n",
        "length=2*n-1\n",
        "sequence=[0]*length\n",
        "used=[False]*(n+1)\n",
        "def backtrack(index,used,sequence):\n",
        "    while (index<length and sequence[index]!=0):\n",
        "        index+=1\n",
        "    # if all indices traversed-- sequence is complete--Terminate\n",
        "    if index==length:\n",
        "        return True\n",
        "    # if not complete, run all nos. to check if it can be inserted at a particular index\n",
        "    for i in range(n,0,-1): # run through all nos. to check if it can be inserted at the index\n",
        "        # If element is used, skip to next element\n",
        "        if used[i]==True:\n",
        "            continue\n",
        "        # If 1, then insert at a single place only\n",
        "        if i==1:\n",
        "            sequence[index]=i\n",
        "            used[i]=True\n",
        "        # If sequence is complete return True\n",
        "            if backtrack(index+1,used,sequence)==True:\n",
        "                return True\n",
        "        # If cannot be inserted, remove the element and mark it False in Used array\n",
        "            sequence[index]=0\n",
        "            used[i]=False\n",
        "        # If any other element, then insert at two places\n",
        "        elif (index+i<length and sequence[index+i]==0):\n",
        "            sequence[index]=i\n",
        "            sequence[index+i]=i\n",
        "            used[i]=True\n",
        "        # If sequence is complete return True\n",
        "            if backtrack(index+1,used,sequence)==True:\n",
        "                return True\n",
        "        # If cannot be inserted, remove the element and mark it False in Used array\n",
        "            sequence[index]=0\n",
        "            sequence[index+i]=0\n",
        "            used[i]=False\n",
        "    return False #As element cannot be inserted, False is returned and checked in loops in subsequent recursions and the cycle of ops repeats\n",
        "\n",
        "backtrack(0,used,sequence)\n",
        "sequence"
      ],
      "metadata": {
        "id": "ZyvqpUV-NCxf",
        "colab": {
          "base_uri": "https://localhost:8080/"
        },
        "outputId": "2f6523bf-de0e-4fa9-f542-24d12cdb340a"
      },
      "execution_count": null,
      "outputs": [
        {
          "output_type": "execute_result",
          "data": {
            "text/plain": [
              "[5, 3, 1, 4, 3, 5, 2, 4, 2]"
            ]
          },
          "metadata": {},
          "execution_count": 4
        }
      ]
    },
    {
      "cell_type": "markdown",
      "source": [
        "Final Solution"
      ],
      "metadata": {
        "id": "1tVLz31nhpfm"
      }
    },
    {
      "cell_type": "code",
      "source": [
        "from typing import List\n",
        "class Solution:\n",
        "    def constructDistancedSequence(self, n: int) -> List[int]:\n",
        "        length=2*n-1\n",
        "        sequence=[0]*length\n",
        "        used=[False]*(n+1)\n",
        "        def backtrack(index,used,sequence):\n",
        "            while (index<length and sequence[index]!=0):\n",
        "                index+=1\n",
        "            # if all indices traversed-- sequence is complete--Terminate\n",
        "            if index==length:\n",
        "                return True\n",
        "            # if not complete, run all nos. to check if it can be inserted at a particular index\n",
        "            for i in range(n,0,-1): # run through all nos. to check if it can be inserted at the index\n",
        "                # If element is used, skip to next element\n",
        "                if used[i]==True:\n",
        "                    continue\n",
        "                # If 1, then insert at a single place only\n",
        "                if i==1:\n",
        "                    sequence[index]=i\n",
        "                    used[i]=True\n",
        "                # If sequence is complete return True\n",
        "                    if backtrack(index+1,used,sequence)==True:\n",
        "                        return True\n",
        "                # If cannot be inserted, remove the element and mark it False in Used array\n",
        "                    sequence[index]=0\n",
        "                    used[i]=False\n",
        "                # If any other element, then insert at two places\n",
        "                elif (index+i<length and sequence[index+i]==0):\n",
        "                    sequence[index]=i\n",
        "                    sequence[index+i]=i\n",
        "                    used[i]=True\n",
        "                # If sequence is complete return True\n",
        "                    if backtrack(index+1,used,sequence)==True:\n",
        "                        return True\n",
        "                # If cannot be inserted, remove the element and mark it False in Used array\n",
        "                    sequence[index]=0\n",
        "                    sequence[index+i]=0\n",
        "                    used[i]=False\n",
        "            return False #As element cannot be inserted, False is returned and checked in loops in subsequent recursions and the cycle of ops repeats\n",
        "        backtrack(0,used,sequence)\n",
        "        return sequence\n",
        "\n",
        "sol=Solution()\n",
        "sol.constructDistancedSequence(3)"
      ],
      "metadata": {
        "colab": {
          "base_uri": "https://localhost:8080/"
        },
        "id": "l6S6JZ6Xhqrq",
        "outputId": "308e7eb2-952d-46e2-8e16-af34a0585e69"
      },
      "execution_count": 2,
      "outputs": [
        {
          "output_type": "execute_result",
          "data": {
            "text/plain": [
              "[3, 1, 2, 3, 2]"
            ]
          },
          "metadata": {},
          "execution_count": 2
        }
      ]
    }
  ]
}
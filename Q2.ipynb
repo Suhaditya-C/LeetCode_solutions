{
 "cells": [
  {
   "cell_type": "markdown",
   "id": "f26a6fe7",
   "metadata": {},
   "source": [
    "## Solution: Brute Force"
   ]
  },
  {
   "cell_type": "code",
   "execution_count": null,
   "id": "ee93bc26",
   "metadata": {},
   "outputs": [
    {
     "data": {
      "text/plain": [
       "2"
      ]
     },
     "execution_count": 19,
     "metadata": {},
     "output_type": "execute_result"
    }
   ],
   "source": [
    "nums=[21,17,8,9,1]\n",
    "res=0\n",
    "\n",
    "for i in range(len(nums)):\n",
    "    seen=set()\n",
    "    odd_cnt=0\n",
    "    even_cnt=0\n",
    "\n",
    "    if nums[i]%2==0:\n",
    "        even_cnt+=1\n",
    "    else:\n",
    "        odd_cnt+=1\n",
    "    seen.add(nums[i])\n",
    "\n",
    "    for j in range(i+1,len(nums)):\n",
    "        if nums[j] not in seen:\n",
    "            if nums[j]%2==0:\n",
    "                even_cnt+=1\n",
    "            else:\n",
    "                odd_cnt+=1\n",
    "            seen.add(nums[j])\n",
    "        if odd_cnt==even_cnt:\n",
    "            res=max(res,j-i+1)     \n",
    "res"
   ]
  },
  {
   "cell_type": "markdown",
   "id": "a37c1666",
   "metadata": {},
   "source": []
  }
 ],
 "metadata": {
  "kernelspec": {
   "display_name": "Python 3",
   "language": "python",
   "name": "python3"
  },
  "language_info": {
   "codemirror_mode": {
    "name": "ipython",
    "version": 3
   },
   "file_extension": ".py",
   "mimetype": "text/x-python",
   "name": "python",
   "nbconvert_exporter": "python",
   "pygments_lexer": "ipython3",
   "version": "3.10.9"
  }
 },
 "nbformat": 4,
 "nbformat_minor": 5
}

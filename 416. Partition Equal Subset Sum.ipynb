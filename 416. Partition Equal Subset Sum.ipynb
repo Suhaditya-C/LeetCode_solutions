{
 "cells": [
  {
   "cell_type": "markdown",
   "id": "8db95e9d",
   "metadata": {},
   "source": [
    "# 416. Partition Equal Subset Sum\n",
    "\n",
    "Given an integer array nums, return true if you can partition the array into two subsets such that the sum of the elements in both subsets is equal or false otherwise.\n",
    "\n",
    "Example 1:\n",
    "\n",
    "Input: nums = [1,5,11,5]\n",
    "Output: true\n",
    "Explanation: The array can be partitioned as [1, 5, 5] and [11].\n",
    "Example 2:\n",
    "\n",
    "Input: nums = [1,2,3,5]\n",
    "Output: false\n",
    "Explanation: The array cannot be partitioned into equal sum subsets.\n",
    " \n",
    "\n",
    "Constraints:\n",
    "\n",
    "1 <= nums.length <= 200\n",
    "1 <= nums[i] <= 100"
   ]
  },
  {
   "cell_type": "markdown",
   "id": "e7f3f5a1",
   "metadata": {},
   "source": [
    "# Solution:\n",
    "### Partitioning into two parts means that the sum of each partion is equal to half of total sum. Using Backtracking to get there"
   ]
  },
  {
   "cell_type": "markdown",
   "id": "2967046f",
   "metadata": {},
   "source": [
    "### Brute Force (Time Limit Exceeded)"
   ]
  },
  {
   "cell_type": "code",
   "execution_count": 51,
   "id": "56fa01ea",
   "metadata": {},
   "outputs": [
    {
     "data": {
      "text/plain": [
       "True"
      ]
     },
     "execution_count": 51,
     "metadata": {},
     "output_type": "execute_result"
    }
   ],
   "source": [
    "nums = [1,5,11,5]\n",
    "target=sum(nums)/2\n",
    "def backtrack(i,prev_sum):\n",
    "    #Base Case:\n",
    "    if i==len(nums)-1: \n",
    "        return prev_sum==target #Checks prev sum upto the 2nd last element, if it is not equal to target it returns False as the 2nd subset cannot be a null\n",
    "    #skip or include\n",
    "    if prev_sum==target:\n",
    "        return True\n",
    "    return backtrack(i+1,prev_sum) or backtrack(i+1,nums[i]+prev_sum)\n",
    "\n",
    "backtrack(0,0)  "
   ]
  },
  {
   "cell_type": "markdown",
   "id": "933a6024",
   "metadata": {},
   "source": [
    "### Using Cache (Memory Limit Exceeded)"
   ]
  },
  {
   "cell_type": "code",
   "execution_count": null,
   "id": "a9bcf037",
   "metadata": {},
   "outputs": [
    {
     "data": {
      "text/plain": [
       "True"
      ]
     },
     "execution_count": 56,
     "metadata": {},
     "output_type": "execute_result"
    }
   ],
   "source": [
    "nums = [1, 5, 11, 5]\n",
    "total = sum(nums)\n",
    "\n",
    "if total % 2 != 0:\n",
    "    print(\"Can't partition: sum is odd\")\n",
    "else:\n",
    "    target = total // 2\n",
    "    cache = {}  # (i, prev_sum) -> True/False\n",
    "\n",
    "    def backtrack(i, prev_sum):\n",
    "        if (i, prev_sum) in cache:\n",
    "            return cache[(i, prev_sum)]\n",
    "\n",
    "        if prev_sum == target:\n",
    "            return True\n",
    "        if i == len(nums) or prev_sum > target:\n",
    "            return False\n",
    "\n",
    "        include = backtrack(i + 1, prev_sum + nums[i])\n",
    "        exclude = backtrack(i + 1, prev_sum)\n",
    "\n",
    "        result = include or exclude\n",
    "        cache[(i, prev_sum)] = result\n",
    "        return result\n",
    "backtrack(0,0)"
   ]
  },
  {
   "cell_type": "code",
   "execution_count": 57,
   "id": "c236deb4",
   "metadata": {},
   "outputs": [
    {
     "data": {
      "text/plain": [
       "{(3, 6): True,\n",
       " (2, 6): True,\n",
       " (3, 1): False,\n",
       " (2, 1): False,\n",
       " (1, 1): True,\n",
       " (3, 5): False,\n",
       " (2, 5): False,\n",
       " (3, 0): False,\n",
       " (2, 0): True,\n",
       " (1, 0): True,\n",
       " (0, 0): True}"
      ]
     },
     "execution_count": 57,
     "metadata": {},
     "output_type": "execute_result"
    }
   ],
   "source": [
    "cache"
   ]
  },
  {
   "cell_type": "markdown",
   "id": "8dbf3d60",
   "metadata": {},
   "source": [
    "### Efficient Solution: Dynamic Programming: Genrate sums of all subsets and store them in a set. When any sum matches the target value return True, else False"
   ]
  },
  {
   "cell_type": "code",
   "execution_count": null,
   "id": "394afc6f",
   "metadata": {},
   "outputs": [
    {
     "data": {
      "text/plain": [
       "True"
      ]
     },
     "execution_count": 61,
     "metadata": {},
     "output_type": "execute_result"
    }
   ],
   "source": [
    "nums = [1, 5, 11, 5]\n",
    "total = sum(nums)\n",
    "\n",
    "if total % 2 != 0:\n",
    "    print(\"Can't partition: sum is odd\")\n",
    "else:\n",
    "    target=total//2\n",
    "    dp=set() #contains all the different sums of different subsets\n",
    "    dp.add(0) #start ith 0 (null set)\n",
    "    for num in nums:\n",
    "        #declare a cloned set which will store the sums when we choose the num element i.e. add the element to the previous sums\n",
    "        newdp=dp.copy() #This contains the previously added elements\n",
    "        for s in dp:\n",
    "            newdp.add(s+num) #This adds the element to each of previous sum\n",
    "        #update the original dp. This is done as we cannot update dp whil iterating thru dp. Thats why nedp is used\n",
    "        dp=newdp\n",
    "True if target in dp else False"
   ]
  }
 ],
 "metadata": {
  "kernelspec": {
   "display_name": "Python 3",
   "language": "python",
   "name": "python3"
  },
  "language_info": {
   "codemirror_mode": {
    "name": "ipython",
    "version": 3
   },
   "file_extension": ".py",
   "mimetype": "text/x-python",
   "name": "python",
   "nbconvert_exporter": "python",
   "pygments_lexer": "ipython3",
   "version": "3.12.4"
  }
 },
 "nbformat": 4,
 "nbformat_minor": 5
}

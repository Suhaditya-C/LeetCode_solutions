{
  "nbformat": 4,
  "nbformat_minor": 0,
  "metadata": {
    "colab": {
      "provenance": [],
      "authorship_tag": "ABX9TyNfgBnComDX4VMZC5S4tzEq",
      "include_colab_link": true
    },
    "kernelspec": {
      "name": "python3",
      "display_name": "Python 3"
    },
    "language_info": {
      "name": "python"
    }
  },
  "cells": [
    {
      "cell_type": "markdown",
      "metadata": {
        "id": "view-in-github",
        "colab_type": "text"
      },
      "source": [
        "<a href=\"https://colab.research.google.com/github/Suhaditya-C/LeetCode_solutions/blob/main/Longest_Palindrome.ipynb\" target=\"_parent\"><img src=\"https://colab.research.google.com/assets/colab-badge.svg\" alt=\"Open In Colab\"/></a>"
      ]
    },
    {
      "cell_type": "markdown",
      "source": [
        "## 409. Longest Palindrome\n",
        "\n",
        "Given a string s which consists of lowercase or uppercase letters, return the length of the longest\n",
        "palindrome\n",
        " that can be built with those letters.\n",
        "\n",
        "Letters are case sensitive, for example, \"Aa\" is not considered a palindrome.\n",
        "\n",
        "Example 1:\n",
        "\n",
        "Input: s = \"abccccdd\"\n",
        "Output: 7\n",
        "Explanation: One longest palindrome that can be built is \"dccaccd\", whose length is 7.\n",
        "Example 2:\n",
        "\n",
        "Input: s = \"a\"\n",
        "Output: 1\n",
        "Explanation: The longest palindrome that can be built is \"a\", whose length is 1.\n",
        "\n",
        "Constraints:\n",
        "\n",
        "1 <= s.length <= 2000\n",
        "s consists of lowercase and/or uppercase English letters only."
      ],
      "metadata": {
        "id": "mNvRfvMVxiIq"
      }
    },
    {
      "cell_type": "code",
      "execution_count": 1,
      "metadata": {
        "colab": {
          "base_uri": "https://localhost:8080/"
        },
        "id": "-W5vH_hxxNCg",
        "outputId": "e6f0ccbc-2e8d-4d66-f276-f4c6de89f257"
      },
      "outputs": [
        {
          "output_type": "stream",
          "name": "stdout",
          "text": [
            "7\n"
          ]
        }
      ],
      "source": [
        "from collections import Counter\n",
        "s = \"abccccdd\"\n",
        "c=Counter(s)\n",
        "res=0\n",
        "for keys,values in c.items():\n",
        "  if values%2==0:\n",
        "    res+=values\n",
        "    c[keys]=0\n",
        "  elif values>1:\n",
        "    res+=values-1\n",
        "    c[keys]=1\n",
        "print(res if 1 not in list(c.values()) else res+1)"
      ]
    },
    {
      "cell_type": "code",
      "source": [
        "class Solution:\n",
        "    def longestPalindrome(self, s: str) -> int:\n",
        "      c=Counter(s)\n",
        "      res=0\n",
        "      for keys,values in c.items():\n",
        "        if values%2==0:\n",
        "          res+=values\n",
        "          c[keys]=0\n",
        "        elif values>1:\n",
        "          res+=values-1\n",
        "          c[keys]=1\n",
        "      return (res if 1 not in list(c.values()) else res+1)"
      ],
      "metadata": {
        "id": "B1JBg1XWxgmu"
      },
      "execution_count": null,
      "outputs": []
    }
  ]
}
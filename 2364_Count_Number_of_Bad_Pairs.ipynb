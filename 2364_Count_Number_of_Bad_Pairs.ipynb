{
  "nbformat": 4,
  "nbformat_minor": 0,
  "metadata": {
    "colab": {
      "provenance": [],
      "authorship_tag": "ABX9TyP3mFxC2Vawn5Pzz9b9omb/",
      "include_colab_link": true
    },
    "kernelspec": {
      "name": "python3",
      "display_name": "Python 3"
    },
    "language_info": {
      "name": "python"
    }
  },
  "cells": [
    {
      "cell_type": "markdown",
      "metadata": {
        "id": "view-in-github",
        "colab_type": "text"
      },
      "source": [
        "<a href=\"https://colab.research.google.com/github/Suhaditya-C/LeetCode_solutions/blob/main/2364_Count_Number_of_Bad_Pairs.ipynb\" target=\"_parent\"><img src=\"https://colab.research.google.com/assets/colab-badge.svg\" alt=\"Open In Colab\"/></a>"
      ]
    },
    {
      "cell_type": "markdown",
      "source": [
        "## 2364. Count Number of Bad Pairs\n",
        "\n",
        "You are given a 0-indexed integer array nums. A pair of indices (i, j) is a bad pair if i < j and j - i != nums[j] - nums[i].\n",
        "\n",
        "Return the total number of bad pairs in nums.\n",
        "\n",
        "Example 1:\n",
        "\n",
        "Input: nums = [4,1,3,3]\n",
        "Output: 5\n",
        "Explanation: The pair (0, 1) is a bad pair since 1 - 0 != 1 - 4.\n",
        "The pair (0, 2) is a bad pair since 2 - 0 != 3 - 4, 2 != -1.\n",
        "The pair (0, 3) is a bad pair since 3 - 0 != 3 - 4, 3 != -1.\n",
        "The pair (1, 2) is a bad pair since 2 - 1 != 3 - 1, 1 != 2.\n",
        "The pair (2, 3) is a bad pair since 3 - 2 != 3 - 3, 1 != 0.\n",
        "There are a total of 5 bad pairs, so we return 5.\n",
        "Example 2:\n",
        "\n",
        "Input: nums = [1,2,3,4,5]\n",
        "Output: 0\n",
        "Explanation: There are no bad pairs.\n",
        "\n",
        "Constraints:\n",
        "\n",
        "1 <= nums.length <= 105\n",
        "1 <= nums[i] <= 109"
      ],
      "metadata": {
        "id": "BB4z5VHayg61"
      }
    },
    {
      "cell_type": "markdown",
      "source": [
        "Brute Force"
      ],
      "metadata": {
        "id": "n6wUX69RyvCK"
      }
    },
    {
      "cell_type": "code",
      "source": [
        "nums = [4,1,3,3]\n",
        "badp=0\n",
        "for i in range(len(nums)-1):\n",
        "    for j in range(i+1,len(nums)):\n",
        "        if j>i and j-i!=nums[j]-nums[i]:\n",
        "            badp+=1\n",
        "badp"
      ],
      "metadata": {
        "colab": {
          "base_uri": "https://localhost:8080/"
        },
        "id": "T91zWf2EykSg",
        "outputId": "3a2b01a4-066a-4c0f-8fff-ee1611ea84cc"
      },
      "execution_count": 1,
      "outputs": [
        {
          "output_type": "execute_result",
          "data": {
            "text/plain": [
              "5"
            ]
          },
          "metadata": {},
          "execution_count": 1
        }
      ]
    },
    {
      "cell_type": "markdown",
      "source": [
        "Improved Code"
      ],
      "metadata": {
        "id": "aOH6aGymzpIJ"
      }
    },
    {
      "cell_type": "code",
      "source": [
        "nums = [1,2,3,4,5]\n",
        "n=len(nums)\n",
        "totp=n*(n-1)//2\n",
        "totp\n",
        "#map i-nums[i] to its frequency\n",
        "map={}\n",
        "for i in range(n):\n",
        "    key=i-nums[i]\n",
        "    if key in map.keys():\n",
        "        map[key]+=1\n",
        "    else:\n",
        "        map[key]=1\n",
        "goodp=0 # count no. of good pairs\n",
        "for keys,values in map.items():\n",
        "    if values>1:\n",
        "        goodp+=values*(values-1)//2 # count no. of pairs having 2 or more frequencies\n",
        "badp=totp-goodp\n",
        "badp"
      ],
      "metadata": {
        "colab": {
          "base_uri": "https://localhost:8080/"
        },
        "id": "FB1KmWWdzNEA",
        "outputId": "9c24a85e-4a47-4a6a-d4ed-13e6672edd50"
      },
      "execution_count": 2,
      "outputs": [
        {
          "output_type": "execute_result",
          "data": {
            "text/plain": [
              "0"
            ]
          },
          "metadata": {},
          "execution_count": 2
        }
      ]
    },
    {
      "cell_type": "markdown",
      "source": [
        "Final Solution"
      ],
      "metadata": {
        "id": "WFLfZEpnMVaL"
      }
    },
    {
      "cell_type": "code",
      "source": [
        "class Solution:\n",
        "    def countBadPairs(self, nums: List[int]) -> int:\n",
        "        n=len(nums)\n",
        "        totp=n*(n-1)//2\n",
        "        totp\n",
        "        #map i-nums[i] to its frequency\n",
        "        map={}\n",
        "        for i in range(n):\n",
        "            key=i-nums[i]\n",
        "            if key in map.keys():\n",
        "                map[key]+=1\n",
        "            else:\n",
        "                map[key]=1\n",
        "        goodp=0 # count no. of good pairs\n",
        "        for keys,values in map.items():\n",
        "            if values>1:\n",
        "                goodp+=values*(values-1)//2 # count no. of pairs having 2 or more frequencies\n",
        "        badp=totp-goodp\n",
        "        return badp"
      ],
      "metadata": {
        "id": "xKBpXwDUMi7w"
      },
      "execution_count": null,
      "outputs": []
    }
  ]
}
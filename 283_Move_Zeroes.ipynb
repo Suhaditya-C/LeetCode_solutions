{
  "nbformat": 4,
  "nbformat_minor": 0,
  "metadata": {
    "colab": {
      "provenance": [],
      "authorship_tag": "ABX9TyO1Zzlxs+FcG2wtHHOBMpy2",
      "include_colab_link": true
    },
    "kernelspec": {
      "name": "python3",
      "display_name": "Python 3"
    },
    "language_info": {
      "name": "python"
    }
  },
  "cells": [
    {
      "cell_type": "markdown",
      "metadata": {
        "id": "view-in-github",
        "colab_type": "text"
      },
      "source": [
        "<a href=\"https://colab.research.google.com/github/Suhaditya-C/LeetCode_solutions/blob/main/283_Move_Zeroes.ipynb\" target=\"_parent\"><img src=\"https://colab.research.google.com/assets/colab-badge.svg\" alt=\"Open In Colab\"/></a>"
      ]
    },
    {
      "cell_type": "markdown",
      "source": [
        "## Move Zeroes\n",
        "\n",
        "Given an integer array nums, move all 0's to the end of it while maintaining the relative order of the non-zero elements.\n",
        "\n",
        "Note that you must do this in-place without making a copy of the array.\n",
        "\n",
        "Example 1:\n",
        "\n",
        "Input: nums = [0,1,0,3,12]\n",
        "Output: [1,3,12,0,0]\n",
        "Example 2:\n",
        "\n",
        "Input: nums = [0]\n",
        "Output: [0]\n",
        "\n",
        "Constraints:\n",
        "\n",
        "1 <= nums.length <= 104\n",
        "-231 <= nums[i] <= 231 - 1"
      ],
      "metadata": {
        "id": "lOkjCrCc5ZUE"
      }
    },
    {
      "cell_type": "markdown",
      "source": [
        "Brute Force\n"
      ],
      "metadata": {
        "id": "ElTzdhW29sPx"
      }
    },
    {
      "cell_type": "code",
      "source": [
        "nums = [0,1,0,3,12]\n",
        "for i in range(len(nums)-1):\n",
        "  a=nums[i]\n",
        "  for j in range(i,len(nums)):\n",
        "    if nums[i]==0 and nums[j]!=0:\n",
        "      nums[i]=nums[j]\n",
        "      nums[j]=a\n",
        "\n",
        "nums"
      ],
      "metadata": {
        "colab": {
          "base_uri": "https://localhost:8080/"
        },
        "id": "YZLQ1UCiuydu",
        "outputId": "0fe3f229-2377-48d8-be17-55fc8a4e7e37"
      },
      "execution_count": null,
      "outputs": [
        {
          "output_type": "execute_result",
          "data": {
            "text/plain": [
              "[1, 3, 12, 0, 0]"
            ]
          },
          "metadata": {},
          "execution_count": 62
        }
      ]
    },
    {
      "cell_type": "markdown",
      "source": [
        "Improved"
      ],
      "metadata": {
        "id": "i_aTQJAC9t0B"
      }
    },
    {
      "cell_type": "code",
      "source": [
        "nums = [0,1,0,3,12]\n",
        "left=0\n",
        "for num in nums:\n",
        "  if num!=0:\n",
        "    nums[left]=num\n",
        "    left+=1\n",
        "nums[left:]=[0]*(len(nums)-left)\n",
        "nums"
      ],
      "metadata": {
        "colab": {
          "base_uri": "https://localhost:8080/"
        },
        "id": "u5MDiyYM50dn",
        "outputId": "adcd2a75-ddb9-4f96-e6f8-a3a6af0ee29e"
      },
      "execution_count": null,
      "outputs": [
        {
          "output_type": "execute_result",
          "data": {
            "text/plain": [
              "[1, 3, 12, 0, 0]"
            ]
          },
          "metadata": {},
          "execution_count": 74
        }
      ]
    },
    {
      "cell_type": "markdown",
      "source": [
        "Final Solution"
      ],
      "metadata": {
        "id": "Od_Z6nTeBQ5D"
      }
    },
    {
      "cell_type": "code",
      "source": [
        "class Solution:\n",
        "    def moveZeroes(self, nums: List[int]) -> None:\n",
        "        \"\"\"\n",
        "        Do not return anything, modify nums in-place instead.\n",
        "        \"\"\"\n",
        "        left=0\n",
        "        for num in nums:\n",
        "          if num!=0:\n",
        "            nums[left]=num\n",
        "            left+=1\n",
        "        nums[left:]=[0]*(len(nums)-left)\n",
        ""
      ],
      "metadata": {
        "id": "JNrzIfByBSFv"
      },
      "execution_count": null,
      "outputs": []
    }
  ]
}
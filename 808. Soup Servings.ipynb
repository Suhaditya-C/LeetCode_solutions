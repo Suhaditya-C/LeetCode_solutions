{
 "cells": [
  {
   "cell_type": "markdown",
   "id": "c819ed06",
   "metadata": {},
   "source": [
    "# 808. Soup Servings\n",
    "\n",
    "You have two soups, A and B, each starting with n mL. On every turn, one of the following four serving operations is chosen at random, each with probability 0.25 independent of all previous turns:\n",
    "\n",
    "pour 100 mL from type A and 0 mL from type B\n",
    "pour 75 mL from type A and 25 mL from type B\n",
    "pour 50 mL from type A and 50 mL from type B\n",
    "pour 25 mL from type A and 75 mL from type B\n",
    "Note:\n",
    "\n",
    "There is no operation that pours 0 mL from A and 100 mL from B.\n",
    "The amounts from A and B are poured simultaneously during the turn.\n",
    "If an operation asks you to pour more than you have left of a soup, pour all that remains of that soup.\n",
    "The process stops immediately after any turn in which one of the soups is used up.\n",
    "\n",
    "Return the probability that A is used up before B, plus half the probability that both soups are used up in the same turn. Answers within 10-5 of the actual answer will be accepted.\n",
    "\n",
    " \n",
    "\n",
    "Example 1:\n",
    "\n",
    "Input: n = 50\n",
    "Output: 0.62500\n",
    "Explanation: \n",
    "If we perform either of the first two serving operations, soup A will become empty first.\n",
    "If we perform the third operation, A and B will become empty at the same time.\n",
    "If we perform the fourth operation, B will become empty first.\n",
    "So the total probability of A becoming empty first plus half the probability that A and B become empty at the same time, is 0.25 * (1 + 1 + 0.5 + 0) = 0.625.\n",
    "Example 2:\n",
    "\n",
    "Input: n = 100\n",
    "Output: 0.71875\n",
    "Explanation: \n",
    "If we perform the first serving operation, soup A will become empty first.\n",
    "If we perform the second serving operations, A will become empty on performing operation [1, 2, 3], and both A and B become empty on performing operation 4.\n",
    "If we perform the third operation, A will become empty on performing operation [1, 2], and both A and B become empty on performing operation 3.\n",
    "If we perform the fourth operation, A will become empty on performing operation 1, and both A and B become empty on performing operation 2.\n",
    "So the total probability of A becoming empty first plus half the probability that A and B become empty at the same time, is 0.71875.\n",
    " \n",
    "\n",
    "Constraints:\n",
    "\n",
    "0 <= n <= 109"
   ]
  },
  {
   "cell_type": "markdown",
   "id": "1d9c514c",
   "metadata": {},
   "source": [
    "## Solution: Recursion\n",
    "\n",
    "RecursionError: maximum recursion depth exceeded in comparison"
   ]
  },
  {
   "cell_type": "code",
   "execution_count": 7,
   "id": "32a30835",
   "metadata": {},
   "outputs": [
    {
     "data": {
      "text/plain": [
       "3.2613400036130002e-06"
      ]
     },
     "execution_count": 7,
     "metadata": {},
     "output_type": "execute_result"
    }
   ],
   "source": [
    "n=5000\n",
    "memo={}\n",
    "def DFS(a,b):\n",
    "    if (a,b) in memo:\n",
    "        return memo[(a,b)]\n",
    "    if a==0 and b!=0:\n",
    "        return 1\n",
    "    if a==0 and b==0:\n",
    "        return 0.5\n",
    "    if a!=0 and b==0:\n",
    "        return 0\n",
    "    \n",
    "    p= 0.25*(DFS(max(a-100,0),b)+DFS(max(a-75,0),max(b-25,0))+DFS(max(a-50,0),max(b-50,0))+DFS(max(a-25,0),max(b-75,0)))\n",
    "    memo[(a,b)]=p\n",
    "    return p\n",
    "1-DFS(n,n)"
   ]
  },
  {
   "cell_type": "markdown",
   "id": "0587e15f",
   "metadata": {},
   "source": [
    "## Empirically it is found that n>=5000,the total probability converges to 1 "
   ]
  },
  {
   "cell_type": "code",
   "execution_count": 10,
   "id": "dad1517e",
   "metadata": {},
   "outputs": [
    {
     "data": {
      "text/plain": [
       "1"
      ]
     },
     "execution_count": 10,
     "metadata": {},
     "output_type": "execute_result"
    }
   ],
   "source": [
    "n=660295675\n",
    "memo={}\n",
    "def DFS(a,b):\n",
    "    if n>=5000: # A stopping condition is added\n",
    "        return 1\n",
    "    if (a,b) in memo:\n",
    "        return memo[(a,b)]\n",
    "    if a==0 and b!=0:\n",
    "        return 1\n",
    "    if a==0 and b==0:\n",
    "        return 0.5\n",
    "    if a!=0 and b==0:\n",
    "        return 0\n",
    "    \n",
    "    p= 0.25*(DFS(max(a-100,0),b)+DFS(max(a-75,0),max(b-25,0))+DFS(max(a-50,0),max(b-50,0))+DFS(max(a-25,0),max(b-75,0)))\n",
    "    memo[(a,b)]=p\n",
    "    return p\n",
    "DFS(n,n)"
   ]
  }
 ],
 "metadata": {
  "kernelspec": {
   "display_name": "Python 3",
   "language": "python",
   "name": "python3"
  },
  "language_info": {
   "codemirror_mode": {
    "name": "ipython",
    "version": 3
   },
   "file_extension": ".py",
   "mimetype": "text/x-python",
   "name": "python",
   "nbconvert_exporter": "python",
   "pygments_lexer": "ipython3",
   "version": "3.10.9"
  }
 },
 "nbformat": 4,
 "nbformat_minor": 5
}

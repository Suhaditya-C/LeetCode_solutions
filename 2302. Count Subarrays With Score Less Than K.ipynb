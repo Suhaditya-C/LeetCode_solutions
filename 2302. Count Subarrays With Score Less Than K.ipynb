{
 "cells": [
  {
   "cell_type": "markdown",
   "id": "ffcd3211",
   "metadata": {},
   "source": [
    "# 2302. Count Subarrays With Score Less Than K\n",
    "\n",
    "The score of an array is defined as the product of its sum and its length.\n",
    "\n",
    "For example, the score of [1, 2, 3, 4, 5] is (1 + 2 + 3 + 4 + 5) * 5 = 75.\n",
    "Given a positive integer array nums and an integer k, return the number of non-empty subarrays of nums whose score is strictly less than k.\n",
    "\n",
    "A subarray is a contiguous sequence of elements within an array.\n",
    "\n",
    " \n",
    "\n",
    "Example 1:\n",
    "\n",
    "Input: nums = [2,1,4,3,5], k = 10\n",
    "Output: 6\n",
    "Explanation:\n",
    "The 6 subarrays having scores less than 10 are:\n",
    "- [2] with score 2 * 1 = 2.\n",
    "- [1] with score 1 * 1 = 1.\n",
    "- [4] with score 4 * 1 = 4.\n",
    "- [3] with score 3 * 1 = 3. \n",
    "- [5] with score 5 * 1 = 5.\n",
    "- [2,1] with score (2 + 1) * 2 = 6.\n",
    "Note that subarrays such as [1,4] and [4,3,5] are not considered because their scores are 10 and 36 respectively, while we need scores strictly less than 10.\n",
    "Example 2:\n",
    "\n",
    "Input: nums = [1,1,1], k = 5\n",
    "Output: 5\n",
    "Explanation:\n",
    "Every subarray except [1,1,1] has a score less than 5.\n",
    "[1,1,1] has a score (1 + 1 + 1) * 3 = 9, which is greater than 5.\n",
    "Thus, there are 5 subarrays having scores less than 5.\n",
    " \n",
    "\n",
    "Constraints:\n",
    "\n",
    "1 <= nums.length <= 105\n",
    "1 <= nums[i] <= 105\n",
    "1 <= k <= 1015"
   ]
  },
  {
   "cell_type": "markdown",
   "id": "a97ca625",
   "metadata": {},
   "source": [
    "## Solution: \n",
    "Sliding Window"
   ]
  },
  {
   "cell_type": "code",
   "execution_count": null,
   "id": "1f1c7f5d",
   "metadata": {},
   "outputs": [
    {
     "data": {
      "text/plain": [
       "13"
      ]
     },
     "execution_count": 50,
     "metadata": {},
     "output_type": "execute_result"
    }
   ],
   "source": [
    "nums = [5,2,6,8,9,7]; k = 50\n",
    "res=0\n",
    "left=0\n",
    "win_sum=0\n",
    "n=len(nums)\n",
    "for right in range(n):\n",
    "    if nums[right]<k:\n",
    "        res+=1\n",
    "    win_sum+=nums[right] #sum of elements in the window\n",
    "    win_length=right-left+1 #length of window\n",
    "    score=win_sum*win_length        \n",
    "    while score>=k and win_length>1: #Shrink the window until the largest valid subarray is found within right pointer\n",
    "        res+=win_length-2 #All sub arrays formed with the current left pointer should be added to the results\n",
    "        win_length-=1\n",
    "        win_sum-=nums[left]\n",
    "        score=(win_sum)*(win_length) #Remove the left most element and update the score\n",
    "        left+=1 #Shrink the window\n",
    "        \n",
    "final_win_length=right-left+1 #Add the result for the final remaining sliding window\n",
    "res+=final_win_length*(final_win_length+1)//2-final_win_length      \n",
    "res    "
   ]
  }
 ],
 "metadata": {
  "kernelspec": {
   "display_name": "Python 3",
   "language": "python",
   "name": "python3"
  },
  "language_info": {
   "codemirror_mode": {
    "name": "ipython",
    "version": 3
   },
   "file_extension": ".py",
   "mimetype": "text/x-python",
   "name": "python",
   "nbconvert_exporter": "python",
   "pygments_lexer": "ipython3",
   "version": "3.12.4"
  }
 },
 "nbformat": 4,
 "nbformat_minor": 5
}

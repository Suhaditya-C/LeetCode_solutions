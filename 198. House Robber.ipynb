{
 "cells": [
  {
   "cell_type": "markdown",
   "id": "9510db3e",
   "metadata": {},
   "source": [
    "# 198. House Robber\n",
    "\n",
    "You are a professional robber planning to rob houses along a street. Each house has a certain amount of money stashed, the only constraint stopping you from robbing each of them is that adjacent houses have security systems connected and it will automatically contact the police if two adjacent houses were broken into on the same night.\n",
    "\n",
    "Given an integer array nums representing the amount of money of each house, return the maximum amount of money you can rob tonight without alerting the police.\n",
    "\n",
    " \n",
    "\n",
    "Example 1:\n",
    "\n",
    "Input: nums = [1,2,3,1]\n",
    "Output: 4\n",
    "Explanation: Rob house 1 (money = 1) and then rob house 3 (money = 3).\n",
    "Total amount you can rob = 1 + 3 = 4.\n",
    "Example 2:\n",
    "\n",
    "Input: nums = [2,7,9,3,1]\n",
    "Output: 12\n",
    "Explanation: Rob house 1 (money = 2), rob house 3 (money = 9) and rob house 5 (money = 1).\n",
    "Total amount you can rob = 2 + 9 + 1 = 12.\n",
    " \n",
    "\n",
    "Constraints:\n",
    "\n",
    "1 <= nums.length <= 100\n",
    "0 <= nums[i] <= 400"
   ]
  },
  {
   "cell_type": "markdown",
   "id": "1c94e16b",
   "metadata": {},
   "source": [
    "## Solution: Recursion: Top Down Approach\n"
   ]
  },
  {
   "cell_type": "markdown",
   "id": "d510c353",
   "metadata": {},
   "source": [
    "TLE"
   ]
  },
  {
   "cell_type": "code",
   "execution_count": null,
   "id": "8332c252",
   "metadata": {},
   "outputs": [
    {
     "data": {
      "text/plain": [
       "4"
      ]
     },
     "execution_count": 4,
     "metadata": {},
     "output_type": "execute_result"
    }
   ],
   "source": [
    "nums = [1,2,3,1]\n",
    "def rob(i):\n",
    "    if i>=len(nums):\n",
    "        return 0\n",
    "    #skip this house:\n",
    "    skip=rob(i+1)\n",
    "    #include this house:\n",
    "    include=rob(i+2)+nums[i]\n",
    "    return max(skip,include) #These are mutually exclusive choices — \n",
    "    #you cannot skip and include the same house at once.\n",
    "rob(0)"
   ]
  },
  {
   "cell_type": "markdown",
   "id": "412bc899",
   "metadata": {},
   "source": [
    "## Using Memoisation: Accepted- Beats 100%"
   ]
  },
  {
   "cell_type": "code",
   "execution_count": 5,
   "id": "8426193f",
   "metadata": {},
   "outputs": [
    {
     "data": {
      "text/plain": [
       "4"
      ]
     },
     "execution_count": 5,
     "metadata": {},
     "output_type": "execute_result"
    }
   ],
   "source": [
    "nums = [1,2,3,1]\n",
    "cache=[-1]*len(nums)\n",
    "def rob(i):\n",
    "    if i>=len(nums):\n",
    "        return 0\n",
    "    if cache[i]!=-1:\n",
    "        return cache[i]\n",
    "    #skip this house:\n",
    "    skip=rob(i+1)\n",
    "    #include this house:\n",
    "    include=rob(i+2)+nums[i]\n",
    "    cache[i]=max(skip,include)\n",
    "    return max(skip,include) #These are mutually exclusive choices — \n",
    "    #you cannot skip and include the same house at once.\n",
    "rob(0)"
   ]
  }
 ],
 "metadata": {
  "kernelspec": {
   "display_name": "Python 3",
   "language": "python",
   "name": "python3"
  },
  "language_info": {
   "codemirror_mode": {
    "name": "ipython",
    "version": 3
   },
   "file_extension": ".py",
   "mimetype": "text/x-python",
   "name": "python",
   "nbconvert_exporter": "python",
   "pygments_lexer": "ipython3",
   "version": "3.10.9"
  }
 },
 "nbformat": 4,
 "nbformat_minor": 5
}

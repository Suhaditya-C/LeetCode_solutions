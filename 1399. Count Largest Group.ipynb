{
 "cells": [
  {
   "cell_type": "markdown",
   "id": "ac0e7be8",
   "metadata": {},
   "source": [
    "# 1399. Count Largest Group\n",
    "\n",
    "You are given an integer n.\n",
    "\n",
    "Each number from 1 to n is grouped according to the sum of its digits.\n",
    "\n",
    "Return the number of groups that have the largest size.\n",
    "\n",
    " \n",
    "\n",
    "Example 1:\n",
    "\n",
    "Input: n = 13\n",
    "Output: 4\n",
    "Explanation: There are 9 groups in total, they are grouped according sum of its digits of numbers from 1 to 13:\n",
    "[1,10], [2,11], [3,12], [4,13], [5], [6], [7], [8], [9].\n",
    "There are 4 groups with largest size.\n",
    "Example 2:\n",
    "\n",
    "Input: n = 2\n",
    "Output: 2\n",
    "Explanation: There are 2 groups [1], [2] of size 1.\n",
    " \n",
    "\n",
    "Constraints:\n",
    "\n",
    "1 <= n <= 104"
   ]
  },
  {
   "cell_type": "markdown",
   "id": "6300563b",
   "metadata": {},
   "source": [
    "## Solution"
   ]
  },
  {
   "cell_type": "code",
   "execution_count": 9,
   "id": "b0570879",
   "metadata": {},
   "outputs": [
    {
     "data": {
      "text/plain": [
       "4"
      ]
     },
     "execution_count": 9,
     "metadata": {},
     "output_type": "execute_result"
    }
   ],
   "source": [
    "n=13\n",
    "arr=[0]*37 #since the maximum digsum can be for 9999 i.e. arr[i]=count of no.s whose digsum=1\n",
    "def digsum(i):\n",
    "    s=0\n",
    "    i=str(i)\n",
    "    for j in range(len(i)):\n",
    "        s+=int(i[j])\n",
    "    return s\n",
    "\n",
    "for i in range(1,n+1):\n",
    "    a=digsum(i)\n",
    "    arr[a]+=1\n",
    "arr.count(max(arr))"
   ]
  }
 ],
 "metadata": {
  "kernelspec": {
   "display_name": "Python 3",
   "language": "python",
   "name": "python3"
  },
  "language_info": {
   "codemirror_mode": {
    "name": "ipython",
    "version": 3
   },
   "file_extension": ".py",
   "mimetype": "text/x-python",
   "name": "python",
   "nbconvert_exporter": "python",
   "pygments_lexer": "ipython3",
   "version": "3.12.4"
  }
 },
 "nbformat": 4,
 "nbformat_minor": 5
}

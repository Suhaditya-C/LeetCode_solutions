{
 "cells": [
  {
   "cell_type": "markdown",
   "id": "9f7dcac0",
   "metadata": {},
   "source": [
    "# 3350. Adjacent Increasing Subarrays Detection II\n",
    "\n",
    "Given an array nums of n integers, your task is to find the maximum value of k for which there exist two adjacent subarrays of length k each, such that both subarrays are strictly increasing. Specifically, check if there are two subarrays of length k starting at indices a and b (a < b), where:\n",
    "\n",
    "Both subarrays nums[a..a + k - 1] and nums[b..b + k - 1] are strictly increasing.\n",
    "The subarrays must be adjacent, meaning b = a + k.\n",
    "Return the maximum possible value of k.\n",
    "\n",
    "A subarray is a contiguous non-empty sequence of elements within an array.\n",
    "\n",
    " \n",
    "\n",
    "Example 1:\n",
    "\n",
    "Input: nums = [2,5,7,8,9,2,3,4,3,1]\n",
    "\n",
    "Output: 3\n",
    "\n",
    "Explanation:\n",
    "\n",
    "The subarray starting at index 2 is [7, 8, 9], which is strictly increasing.\n",
    "The subarray starting at index 5 is [2, 3, 4], which is also strictly increasing.\n",
    "These two subarrays are adjacent, and 3 is the maximum possible value of k for which two such adjacent strictly increasing subarrays exist.\n",
    "Example 2:\n",
    "\n",
    "Input: nums = [1,2,3,4,4,4,4,5,6,7]\n",
    "\n",
    "Output: 2\n",
    "\n",
    "Explanation:\n",
    "\n",
    "The subarray starting at index 0 is [1, 2], which is strictly increasing.\n",
    "The subarray starting at index 2 is [3, 4], which is also strictly increasing.\n",
    "These two subarrays are adjacent, and 2 is the maximum possible value of k for which two such adjacent strictly increasing subarrays exist.\n",
    " \n",
    "\n",
    "Constraints:\n",
    "\n",
    "2 <= nums.length <= 2 * 105\n",
    "-109 <= nums[i] <= 109"
   ]
  },
  {
   "cell_type": "markdown",
   "id": "53c44d00",
   "metadata": {},
   "source": [
    "## Solution: Sliding Window\n",
    "My Detailed Solution: https://leetcode.com/problems/adjacent-increasing-subarrays-detection-ii/solutions/7278128/easy-intuitive-solution-find-longest-adjacent-increasing-subarrays-o-n"
   ]
  },
  {
   "cell_type": "code",
   "execution_count": 25,
   "id": "3d6a00fe",
   "metadata": {},
   "outputs": [
    {
     "data": {
      "text/plain": [
       "2"
      ]
     },
     "execution_count": 25,
     "metadata": {},
     "output_type": "execute_result"
    }
   ],
   "source": [
    "nums = [8,-4,-1,16,20]\n",
    "points=[] #(start,end)\n",
    "l=0\n",
    "for r in range(1,len(nums)):\n",
    "    if nums[r]<=nums[r-1]:\n",
    "        points.append([l,r-1])\n",
    "        l=r\n",
    "points.append([l,r])\n",
    "\n",
    "res=(points[0][1]-points[0][0]+1)//2\n",
    "for i in range(1,len(points)):\n",
    "    if points[i][0]==points[i-1][1]+1:#cur_start=prev_end+1\n",
    "        res=max(res,min(points[i][1]-points[i][0]+1,points[i-1][1]-points[i-1][0]+1),(points[i][1]-points[i][0]+1)//2)\n",
    "res"
   ]
  },
  {
   "cell_type": "markdown",
   "id": "5624b8b0",
   "metadata": {},
   "source": [
    "## Improvement: Instead of storing the points, check for consecutive subarrays in the 1st loop"
   ]
  },
  {
   "cell_type": "code",
   "execution_count": 36,
   "id": "edb7d964",
   "metadata": {},
   "outputs": [
    {
     "data": {
      "text/plain": [
       "3"
      ]
     },
     "execution_count": 36,
     "metadata": {},
     "output_type": "execute_result"
    }
   ],
   "source": [
    "nums = [2,5,7,8,9,2,3,4,3,1]\n",
    "l=0\n",
    "res=1\n",
    "prev_seq_len=1\n",
    "for r in range(1,len(nums)):\n",
    "    if nums[r]<=nums[r-1]:\n",
    "        cur_seq_len=r-1-l+1\n",
    "        res=max(res,min(prev_seq_len,cur_seq_len),cur_seq_len//2)\n",
    "        prev_seq_len=cur_seq_len\n",
    "        l=r\n",
    "#Include the last sequence length\n",
    "last_seq_len=r-l+1\n",
    "res=max(res,min(prev_seq_len,last_seq_len),last_seq_len//2)\n",
    "res"
   ]
  }
 ],
 "metadata": {
  "kernelspec": {
   "display_name": "Python 3",
   "language": "python",
   "name": "python3"
  },
  "language_info": {
   "codemirror_mode": {
    "name": "ipython",
    "version": 3
   },
   "file_extension": ".py",
   "mimetype": "text/x-python",
   "name": "python",
   "nbconvert_exporter": "python",
   "pygments_lexer": "ipython3",
   "version": "3.10.9"
  }
 },
 "nbformat": 4,
 "nbformat_minor": 5
}

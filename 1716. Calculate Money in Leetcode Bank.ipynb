{
 "cells": [
  {
   "cell_type": "markdown",
   "id": "4acbc10e",
   "metadata": {},
   "source": [
    "# 1716. Calculate Money in Leetcode Bank\n",
    "\n",
    "Hercy wants to save money for his first car. He puts money in the Leetcode bank every day.\n",
    "\n",
    "He starts by putting in $1 on Monday, the first day. Every day from Tuesday to Sunday, he will put in $1 more than the day before. On every subsequent Monday, he will put in $1 more than the previous Monday.\n",
    "\n",
    "Given n, return the total amount of money he will have in the Leetcode bank at the end of the nth day.\n",
    "\n",
    " \n",
    "\n",
    "Example 1:\n",
    "\n",
    "Input: n = 4\n",
    "Output: 10\n",
    "Explanation: After the 4th day, the total is 1 + 2 + 3 + 4 = 10.\n",
    "Example 2:\n",
    "\n",
    "Input: n = 10\n",
    "Output: 37\n",
    "Explanation: After the 10th day, the total is (1 + 2 + 3 + 4 + 5 + 6 + 7) + (2 + 3 + 4) = 37. Notice that on the 2nd Monday, Hercy only puts in $2.\n",
    "Example 3:\n",
    "\n",
    "Input: n = 20\n",
    "Output: 96\n",
    "Explanation: After the 20th day, the total is (1 + 2 + 3 + 4 + 5 + 6 + 7) + (2 + 3 + 4 + 5 + 6 + 7 + 8) + (3 + 4 + 5 + 6 + 7 + 8) = 96.\n",
    " \n",
    "\n",
    "Constraints:\n",
    "\n",
    "1 <= n <= 1000"
   ]
  },
  {
   "cell_type": "markdown",
   "id": "21546d35",
   "metadata": {},
   "source": [
    "## Solution: Using Math"
   ]
  },
  {
   "cell_type": "code",
   "execution_count": 11,
   "id": "758f6926",
   "metadata": {},
   "outputs": [
    {
     "data": {
      "text/plain": [
       "96"
      ]
     },
     "execution_count": 11,
     "metadata": {},
     "output_type": "execute_result"
    }
   ],
   "source": [
    "n=20\n",
    "# Calculate total savings after n days.\n",
    "# Each week, deposits start $1 higher than the previous week.\n",
    "# 1st week sum = 1+2+...+7 = 28\n",
    "# For full weeks, use arithmetic progression of weekly sums.\n",
    "# Then, add remaining days (partial week) using arithmetic formula.\n",
    "quotient=n//7\n",
    "res=quotient*28+((quotient-1)*(14+(quotient-2)*7))//2 if quotient>0 else 0\n",
    "remainder=n%7\n",
    "res+=(remainder*(remainder+1))//2+quotient*remainder\n",
    "res\n"
   ]
  }
 ],
 "metadata": {
  "kernelspec": {
   "display_name": "Python 3",
   "language": "python",
   "name": "python3"
  },
  "language_info": {
   "codemirror_mode": {
    "name": "ipython",
    "version": 3
   },
   "file_extension": ".py",
   "mimetype": "text/x-python",
   "name": "python",
   "nbconvert_exporter": "python",
   "pygments_lexer": "ipython3",
   "version": "3.10.9"
  }
 },
 "nbformat": 4,
 "nbformat_minor": 5
}

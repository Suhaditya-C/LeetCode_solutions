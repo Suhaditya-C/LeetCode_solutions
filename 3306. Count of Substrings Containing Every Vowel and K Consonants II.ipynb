{
 "cells": [
  {
   "cell_type": "markdown",
   "metadata": {},
   "source": [
    "# 3306. Count of Substrings Containing Every Vowel and K Consonants II\n",
    "\n",
    "You are given a string word and a non-negative integer k.\n",
    "\n",
    "Return the total number of substrings of word that contain every vowel ('a', 'e', 'i', 'o', and 'u') at least once and exactly k consonants.\n",
    "\n",
    "Example 1:\n",
    "\n",
    "Input: word = \"aeioqq\", k = 1\n",
    "\n",
    "Output: 0\n",
    "\n",
    "Explanation:\n",
    "\n",
    "There is no substring with every vowel.\n",
    "\n",
    "Example 2:\n",
    "\n",
    "Input: word = \"aeiou\", k = 0\n",
    "\n",
    "Output: 1\n",
    "\n",
    "Explanation:\n",
    "\n",
    "The only substring with every vowel and zero consonants is word[0..4], which is \"aeiou\".\n",
    "\n",
    "Example 3:\n",
    "\n",
    "Input: word = \"ieaouqqieaouqq\", k = 1\n",
    "\n",
    "Output: 3\n",
    "\n",
    "Explanation:\n",
    "\n",
    "The substrings with every vowel and one consonant are:\n",
    "\n",
    "word[0..5], which is \"ieaouq\".\n",
    "word[6..11], which is \"qieaou\".\n",
    "word[7..12], which is \"ieaouq\".\n",
    "\n",
    "Constraints:\n",
    "\n",
    "5 <= word.length <= 2 * 105\n",
    "word consists only of lowercase English letters.\n",
    "0 <= k <= word.length - 5"
   ]
  },
  {
   "cell_type": "markdown",
   "metadata": {},
   "source": [
    "Using Sliding Window for exactly k is difficult as we dont know whether to expand or shrink the window at the same time. One possible solution is using two sliding windows.\n",
    "\n",
    "Another alternative is using sliding window for atleast k consonants and then k+1 consonants, then subtracting it"
   ]
  },
  {
   "cell_type": "code",
   "execution_count": 1,
   "metadata": {},
   "outputs": [],
   "source": [
    "from collections import defaultdict"
   ]
  },
  {
   "cell_type": "code",
   "execution_count": null,
   "metadata": {},
   "outputs": [
    {
     "data": {
      "text/plain": [
       "3"
      ]
     },
     "execution_count": 8,
     "metadata": {},
     "output_type": "execute_result"
    }
   ],
   "source": [
    "word = \"ieaouqqieaouqq\";k=1\n",
    "#defining the function\n",
    "\n",
    "def atleastk(k):\n",
    "    vowel=defaultdict(int) #to store vowels and their count\n",
    "    consonants=0\n",
    "    left=0\n",
    "    res=0\n",
    "    #update count of vowels and consonants\n",
    "    for right in range(len(word)):\n",
    "        if word[right] in 'aeiou':\n",
    "            vowel[word[right]]+=1\n",
    "        else:\n",
    "            consonants+=1\n",
    "        # implement sliding window\n",
    "        while len(vowel)==5 and consonants>=k:\n",
    "            #if sliding window is valid then we can keep expanding until the end as they would be counted as separate sub matrices\n",
    "            res+=len(word)-right\n",
    "            #now slide the left pointer and remove the remove the char from vowel/consonant which was being previously pointed\n",
    "            if word[left] in 'aeiou':\n",
    "                vowel[word[left]]-=1\n",
    "            else:\n",
    "                consonants-=1\n",
    "            # if a vowel in sliding window does not exist, remove that from vowel dict\n",
    "            #it updates the len(vowel) condition\n",
    "            if vowel[word[left]]==0:\n",
    "                del vowel[word[left]]\n",
    "            left+=1\n",
    "    return res\n",
    "\n",
    "#invoke the function\n",
    "atleastk(1)-atleastk(2)"
   ]
  },
  {
   "cell_type": "markdown",
   "metadata": {},
   "source": [
    "Final Solution"
   ]
  },
  {
   "cell_type": "code",
   "execution_count": null,
   "metadata": {},
   "outputs": [],
   "source": []
  },
  {
   "cell_type": "markdown",
   "metadata": {},
   "source": []
  }
 ],
 "metadata": {
  "kernelspec": {
   "display_name": "Python 3",
   "language": "python",
   "name": "python3"
  },
  "language_info": {
   "codemirror_mode": {
    "name": "ipython",
    "version": 3
   },
   "file_extension": ".py",
   "mimetype": "text/x-python",
   "name": "python",
   "nbconvert_exporter": "python",
   "pygments_lexer": "ipython3",
   "version": "3.12.4"
  }
 },
 "nbformat": 4,
 "nbformat_minor": 2
}

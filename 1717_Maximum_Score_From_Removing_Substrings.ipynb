{
  "nbformat": 4,
  "nbformat_minor": 0,
  "metadata": {
    "colab": {
      "provenance": [],
      "authorship_tag": "ABX9TyNSLcO7MAKBHDWAewAHqDzr",
      "include_colab_link": true
    },
    "kernelspec": {
      "name": "python3",
      "display_name": "Python 3"
    },
    "language_info": {
      "name": "python"
    }
  },
  "cells": [
    {
      "cell_type": "markdown",
      "metadata": {
        "id": "view-in-github",
        "colab_type": "text"
      },
      "source": [
        "<a href=\"https://colab.research.google.com/github/Suhaditya-C/LeetCode_solutions/blob/main/1717_Maximum_Score_From_Removing_Substrings.ipynb\" target=\"_parent\"><img src=\"https://colab.research.google.com/assets/colab-badge.svg\" alt=\"Open In Colab\"/></a>"
      ]
    },
    {
      "cell_type": "markdown",
      "source": [
        "# 1717. Maximum Score From Removing Substrings\n",
        "\n",
        "You are given a string s and two integers x and y. You can perform two types of operations any number of times.\n",
        "\n",
        "Remove substring \"ab\" and gain x points.\n",
        "For example, when removing \"ab\" from \"cabxbae\" it becomes \"cxbae\".\n",
        "Remove substring \"ba\" and gain y points.\n",
        "For example, when removing \"ba\" from \"cabxbae\" it becomes \"cabxe\".\n",
        "Return the maximum points you can gain after applying the above operations on s.\n",
        "\n",
        "\n",
        "\n",
        "Example 1:\n",
        "\n",
        "Input: s = \"cdbcbbaaabab\", x = 4, y = 5\n",
        "Output: 19\n",
        "Explanation:\n",
        "- Remove the \"ba\" underlined in \"cdbcbbaaabab\". Now, s = \"cdbcbbaaab\" and 5 points are added to the score.\n",
        "- Remove the \"ab\" underlined in \"cdbcbbaaab\". Now, s = \"cdbcbbaa\" and 4 points are added to the score.\n",
        "- Remove the \"ba\" underlined in \"cdbcbbaa\". Now, s = \"cdbcba\" and 5 points are added to the score.\n",
        "- Remove the \"ba\" underlined in \"cdbcba\". Now, s = \"cdbc\" and 5 points are added to the score.\n",
        "Total score = 5 + 4 + 5 + 5 = 19.\n",
        "Example 2:\n",
        "\n",
        "Input: s = \"aabbaaxybbaabb\", x = 5, y = 4\n",
        "Output: 20\n",
        "\n",
        "\n",
        "Constraints:\n",
        "\n",
        "1 <= s.length <= 105\n",
        "1 <= x, y <= 104\n",
        "s consists of lowercase English letters."
      ],
      "metadata": {
        "id": "keiwgKsTq5gz"
      }
    },
    {
      "cell_type": "markdown",
      "source": [
        "## Solution:\n",
        "Stack with 2 Passes"
      ],
      "metadata": {
        "id": "vkuFmm9Zq9dW"
      }
    },
    {
      "cell_type": "code",
      "execution_count": 23,
      "metadata": {
        "colab": {
          "base_uri": "https://localhost:8080/"
        },
        "id": "7dSZ9KE8q23H",
        "outputId": "c584f68e-5866-434a-92f1-ae8049f69e46"
      },
      "outputs": [
        {
          "output_type": "execute_result",
          "data": {
            "text/plain": [
              "19"
            ]
          },
          "metadata": {},
          "execution_count": 23
        }
      ],
      "source": [
        "s = \"cdbcbbaaabab\"; x = 4; y = 5\n",
        "stack=[]\n",
        "hpp='ab' if x>=y else 'ba'\n",
        "lpp='ba' if x>=y else 'ab'\n",
        "res=0\n",
        "#Pass 1: Remove High Priority Pairs\n",
        "for char in s:\n",
        "    if stack and stack[-1]+char==hpp:\n",
        "        res+= x if x>=y else y\n",
        "        stack.pop()\n",
        "    else:\n",
        "        stack.append(char)\n",
        "s=''.join(map(str,stack))\n",
        "stack=[]\n",
        "#Pass 2: Remove Low Priority Pairs\n",
        "for char in s:\n",
        "    if stack and stack[-1]+char==lpp:\n",
        "        res+= x if x<y else y\n",
        "        stack.pop()\n",
        "    else:\n",
        "        stack.append(char)\n",
        "res"
      ]
    }
  ]
}
{
 "cells": [
  {
   "cell_type": "markdown",
   "id": "b5b9a946",
   "metadata": {},
   "source": [
    "# 2294. Partition Array Such That Maximum Difference Is K\n",
    "\n",
    "You are given an integer array nums and an integer k. You may partition nums into one or more subsequences such that each element in nums appears in exactly one of the subsequences.\n",
    "\n",
    "Return the minimum number of subsequences needed such that the difference between the maximum and minimum values in each subsequence is at most k.\n",
    "\n",
    "A subsequence is a sequence that can be derived from another sequence by deleting some or no elements without changing the order of the remaining elements.\n",
    "\n",
    " \n",
    "\n",
    "Example 1:\n",
    "\n",
    "Input: nums = [3,6,1,2,5], k = 2\n",
    "Output: 2\n",
    "Explanation:\n",
    "We can partition nums into the two subsequences [3,1,2] and [6,5].\n",
    "The difference between the maximum and minimum value in the first subsequence is 3 - 1 = 2.\n",
    "The difference between the maximum and minimum value in the second subsequence is 6 - 5 = 1.\n",
    "Since two subsequences were created, we return 2. It can be shown that 2 is the minimum number of subsequences needed.\n",
    "Example 2:\n",
    "\n",
    "Input: nums = [1,2,3], k = 1\n",
    "Output: 2\n",
    "Explanation:\n",
    "We can partition nums into the two subsequences [1,2] and [3].\n",
    "The difference between the maximum and minimum value in the first subsequence is 2 - 1 = 1.\n",
    "The difference between the maximum and minimum value in the second subsequence is 3 - 3 = 0.\n",
    "Since two subsequences were created, we return 2. Note that another optimal solution is to partition nums into the two subsequences [1] and [2,3].\n",
    "Example 3:\n",
    "\n",
    "Input: nums = [2,2,4,5], k = 0\n",
    "Output: 3\n",
    "Explanation:\n",
    "We can partition nums into the three subsequences [2,2], [4], and [5].\n",
    "The difference between the maximum and minimum value in the first subsequences is 2 - 2 = 0.\n",
    "The difference between the maximum and minimum value in the second subsequences is 4 - 4 = 0.\n",
    "The difference between the maximum and minimum value in the third subsequences is 5 - 5 = 0.\n",
    "Since three subsequences were created, we return 3. It can be shown that 3 is the minimum number of subsequences needed.\n",
    " \n",
    "\n",
    "Constraints:\n",
    "\n",
    "1 <= nums.length <= 105\n",
    "0 <= nums[i] <= 105\n",
    "0 <= k <= 105"
   ]
  },
  {
   "cell_type": "markdown",
   "id": "bddf622a",
   "metadata": {},
   "source": [
    "## Solution:\n",
    "Greedy Approach\n"
   ]
  },
  {
   "cell_type": "code",
   "execution_count": 35,
   "id": "ba31c74e",
   "metadata": {},
   "outputs": [
    {
     "data": {
      "text/plain": [
       "2"
      ]
     },
     "execution_count": 35,
     "metadata": {},
     "output_type": "execute_result"
    }
   ],
   "source": [
    "nums = [1,2,3]; k = 1\n",
    "nums.sort()\n",
    "l=0\n",
    "r=1\n",
    "cnt=1\n",
    "minelt,maxelt=nums[0],nums[1]\n",
    "while r<len(nums):\n",
    "    minelt=nums[l]\n",
    "    maxelt=nums[r]\n",
    "    if maxelt-minelt>k:\n",
    "        cnt+=1\n",
    "        l=r\n",
    "\n",
    "    r+=1\n",
    "\n",
    "cnt"
   ]
  }
 ],
 "metadata": {
  "kernelspec": {
   "display_name": "Python 3",
   "language": "python",
   "name": "python3"
  },
  "language_info": {
   "codemirror_mode": {
    "name": "ipython",
    "version": 3
   },
   "file_extension": ".py",
   "mimetype": "text/x-python",
   "name": "python",
   "nbconvert_exporter": "python",
   "pygments_lexer": "ipython3",
   "version": "3.10.9"
  }
 },
 "nbformat": 4,
 "nbformat_minor": 5
}

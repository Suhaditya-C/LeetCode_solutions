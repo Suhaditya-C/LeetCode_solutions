{
 "cells": [
  {
   "cell_type": "markdown",
   "id": "81bdd230-c503-4425-858a-ffae091ac846",
   "metadata": {},
   "source": [
    "# 2780. Minimum Index of a Valid Split\n",
    "\n",
    "An element x of an integer array arr of length m is dominant if more than half the elements of arr have a value of x.\n",
    "\n",
    "You are given a 0-indexed integer array nums of length n with one dominant element.\n",
    "\n",
    "You can split nums at an index i into two arrays nums[0, ..., i] and nums[i + 1, ..., n - 1], but the split is only valid if:\n",
    "\n",
    "0 <= i < n - 1\n",
    "nums[0, ..., i], and nums[i + 1, ..., n - 1] have the same dominant element.\n",
    "Here, nums[i, ..., j] denotes the subarray of nums starting at index i and ending at index j, both ends being inclusive. Particularly, if j < i then nums[i, ..., j] denotes an empty subarray.\n",
    "\n",
    "Return the minimum index of a valid split. If no valid split exists, return -1.\n",
    "\n",
    " \n",
    "\n",
    "Example 1:\n",
    "\n",
    "Input: nums = [1,2,2,2]\n",
    "Output: 2\n",
    "Explanation: We can split the array at index 2 to obtain arrays [1,2,2] and [2]. \n",
    "In array [1,2,2], element 2 is dominant since it occurs twice in the array and 2 * 2 > 3. \n",
    "In array [2], element 2 is dominant since it occurs once in the array and 1 * 2 > 1.\n",
    "Both [1,2,2] and [2] have the same dominant element as nums, so this is a valid split. \n",
    "It can be shown that index 2 is the minimum index of a valid split. \n",
    "Example 2:\n",
    "\n",
    "Input: nums = [2,1,3,1,1,1,7,1,2,1]\n",
    "Output: 4\n",
    "Explanation: We can split the array at index 4 to obtain arrays [2,1,3,1,1] and [1,7,1,2,1].\n",
    "In array [2,1,3,1,1], element 1 is dominant since it occurs thrice in the array and 3 * 2 > 5.\n",
    "In array [1,7,1,2,1], element 1 is dominant since it occurs thrice in the array and 3 * 2 > 5.\n",
    "Both [2,1,3,1,1] and [1,7,1,2,1] have the same dominant element as nums, so this is a valid split.\n",
    "It can be shown that index 4 is the minimum index of a valid split.\n",
    "Example 3:\n",
    "\n",
    "Input: nums = [3,3,3,3,7,2,2]\n",
    "Output: -1\n",
    "Explanation: It can be shown that there is no valid split.\n",
    " \n",
    "\n",
    "Constraints:\n",
    "\n",
    "1 <= nums.length <= 105\n",
    "1 <= nums[i] <= 109\n",
    "nums has exactly one dominant element."
   ]
  },
  {
   "cell_type": "markdown",
   "id": "1910d6ea-0a06-4681-852b-5e2f2cb64368",
   "metadata": {},
   "source": [
    "## Solution:\n",
    "### find x and its frequency (f) using a dictionary. Iterate through the array and keep track of x's encountered (frequency is f1). Then the other sub array's frequency of x is f-f1. Check if f1>len(current_subarray)//2 and f2>>len(other subarray)//2"
   ]
  },
  {
   "cell_type": "markdown",
   "id": "403b6829-1ceb-4f27-abdc-8f321aafc192",
   "metadata": {},
   "source": [
    "### Brute Force"
   ]
  },
  {
   "cell_type": "code",
   "execution_count": 79,
   "id": "f7ad98a6-e07a-4999-b2eb-7f4438fde38c",
   "metadata": {},
   "outputs": [
    {
     "data": {
      "text/plain": [
       "4"
      ]
     },
     "execution_count": 79,
     "metadata": {},
     "output_type": "execute_result"
    }
   ],
   "source": [
    "nums = [2,1,3,1,1,1,7,1,2,1]\n",
    "#Find the element with max count\n",
    "map={}\n",
    "flag=False\n",
    "for num in nums:\n",
    "    if num in map:\n",
    "        map[num]+=1\n",
    "    else:\n",
    "        map[num]=1\n",
    "n=len(nums)\n",
    "element = max(map,key=map.get) #element with highest frequency\n",
    "#Iterate through the array to find the min index split\n",
    "for i in range(1,n):\n",
    "    f1=nums[:i].count(element) #Slicing adds Time Complexity\n",
    "    f2=nums[i:].count(element)\n",
    "    if f1>(i)/2 and f2>(n-i)/2:\n",
    "        flag=True\n",
    "        break\n",
    "i-1 if flag else -1"
   ]
  },
  {
   "cell_type": "markdown",
   "id": "220d9807-3339-4f76-b719-12d1f500ea77",
   "metadata": {
    "scrolled": true
   },
   "source": [
    "Time Limit Exceeded"
   ]
  },
  {
   "cell_type": "markdown",
   "id": "696d8913-997b-4520-a546-445e697f5dc5",
   "metadata": {},
   "source": [
    "### Efficient Solution"
   ]
  },
  {
   "cell_type": "code",
   "execution_count": 83,
   "id": "a606eeb6-f016-46a1-a7b3-cbaeea3c8cbc",
   "metadata": {},
   "outputs": [
    {
     "data": {
      "text/plain": [
       "4"
      ]
     },
     "execution_count": 83,
     "metadata": {},
     "output_type": "execute_result"
    }
   ],
   "source": [
    "nums = [2,1,3,1,1,1,7,1,2,1]\n",
    "#Find the element with max count and its frequency\n",
    "map={}\n",
    "flag=False\n",
    "for num in nums:\n",
    "    if num in map:\n",
    "        map[num]+=1\n",
    "    else:\n",
    "        map[num]=1\n",
    "n=len(nums)\n",
    "element = max(map,key=map.get) #finds max value and then map.get returns the corresponding key i.e. element with highest frequency\n",
    "f=map[element]\n",
    "#Iterate through the array to find the min index split\n",
    "f1=0\n",
    "for i in range(n-1):\n",
    "    if nums[i]==element:\n",
    "        f1+=1 # tracks frequency of element in 1st sub array\n",
    "    f2=f-f1 # tracks frequency of element in 2nd sub array\n",
    "    if f1>(i+1)/2 and f2>(n-i-1)/2:\n",
    "        flag=True\n",
    "        break\n",
    "i"
   ]
  }
 ],
 "metadata": {
  "kernelspec": {
   "display_name": "Python 3 (ipykernel)",
   "language": "python",
   "name": "python3"
  },
  "language_info": {
   "codemirror_mode": {
    "name": "ipython",
    "version": 3
   },
   "file_extension": ".py",
   "mimetype": "text/x-python",
   "name": "python",
   "nbconvert_exporter": "python",
   "pygments_lexer": "ipython3",
   "version": "3.12.4"
  }
 },
 "nbformat": 4,
 "nbformat_minor": 5
}

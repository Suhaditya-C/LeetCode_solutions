{
 "cells": [
  {
   "cell_type": "markdown",
   "id": "73c9f5ba",
   "metadata": {},
   "source": [
    "# New 21 Game\n",
    "\n",
    "Alice plays the following game, loosely based on the card game \"21\".\n",
    "\n",
    "Alice starts with 0 points and draws numbers while she has less than k points. During each draw, she gains an integer number of points randomly from the range [1, maxPts], where maxPts is an integer. Each draw is independent and the outcomes have equal probabilities.\n",
    "\n",
    "Alice stops drawing numbers when she gets k or more points.\n",
    "\n",
    "Return the probability that Alice has n or fewer points.\n",
    "\n",
    "Answers within 10-5 of the actual answer are considered accepted.\n",
    "\n",
    " \n",
    "\n",
    "Example 1:\n",
    "\n",
    "Input: n = 10, k = 1, maxPts = 10\n",
    "Output: 1.00000\n",
    "Explanation: Alice gets a single card, then stops.\n",
    "Example 2:\n",
    "\n",
    "Input: n = 6, k = 1, maxPts = 10\n",
    "Output: 0.60000\n",
    "Explanation: Alice gets a single card, then stops.\n",
    "In 6 out of 10 possibilities, she is at or below 6 points.\n",
    "Example 3:\n",
    "\n",
    "Input: n = 21, k = 17, maxPts = 10\n",
    "Output: 0.73278\n",
    " \n",
    "\n",
    "Constraints:\n",
    "\n",
    "0 <= k <= n <= 104\n",
    "1 <= maxPts <= 104"
   ]
  },
  {
   "cell_type": "markdown",
   "id": "04a39d64",
   "metadata": {},
   "source": [
    "## Solution:\n",
    "\n",
    "Bottom up approach-- Dynamic Programming\n",
    "\n",
    "Intuition\n",
    "Let dp[i] be the probability of having exactly i points at some moment. We are interested only in the states with i≤n.\n",
    "\n",
    "The base case of this DP is dp[0]. At the very beginning, Alice has 0 points, thus dp[0]=1.\n",
    "\n",
    "Now we need to write down the recurrence relation for dp[i] for i>0.\n",
    "\n",
    "To have i points, Alice must have just drawn some number, let's call it j, where 1≤j≤min(i,maxPts). Before drawing this number, Alice had i−j points and thus moved from the state dp[i−j] to dp[i]. Since the game did not end at the state dp[i−j], i−j<k must also hold.\n",
    "\n",
    "The probability of drawing j points at the state dp[i−j] is  \n",
    "maxPts\n",
    "1\n",
    "​\n",
    "  because all numbers in the range [1,maxPts] are equiprobable. Thus the probability of transitioning from dp[i−j] to dp[i] is  \n",
    "maxPts\n",
    "1\n",
    "​\n",
    " .\n",
    "\n",
    "To calculate dp[i], we need to consider all possible values of j, and sum all the probabilities.\n",
    "\n",
    "dp[i] for k≤i≤n is the state of the game when it's over, and Alice has n or fewer points. It implies that the answer to the problem is the sum of dp for all such states."
   ]
  },
  {
   "cell_type": "markdown",
   "id": "41c7cb96",
   "metadata": {},
   "source": [
    "Time Limit Exceeded"
   ]
  },
  {
   "cell_type": "code",
   "execution_count": 7,
   "id": "76d2f80a",
   "metadata": {},
   "outputs": [
    {
     "data": {
      "text/plain": [
       "0.7327777870686082"
      ]
     },
     "execution_count": 7,
     "metadata": {},
     "output_type": "execute_result"
    }
   ],
   "source": [
    "n = 21; k = 17; maxPts = 10\n",
    "dp=[0]*(n+1) #dp[i]= Probability of total score of i at any point of time\n",
    "dp[0]=1 #Alice always starts with 0\n",
    "for i in range(1,n+1):\n",
    "    for j in range(1,maxPts+1):\n",
    "        if j<=i and i-j<k: # since the game can proceed only when previous point<k i.e. i-j < k\n",
    "            dp[i]+=(1/maxPts)*dp[i-j]\n",
    "sum(dp[k:]) # Since we want sum of probabilities of a total score from k to n"
   ]
  },
  {
   "cell_type": "markdown",
   "id": "e057e172",
   "metadata": {},
   "source": [
    "Optimisation required: get rid of the inner loop by using sliding window"
   ]
  },
  {
   "cell_type": "code",
   "execution_count": 10,
   "id": "6b91cf07",
   "metadata": {},
   "outputs": [
    {
     "data": {
      "text/plain": [
       "0.7327777870686082"
      ]
     },
     "execution_count": 10,
     "metadata": {},
     "output_type": "execute_result"
    }
   ],
   "source": [
    "n = 21; k = 17; maxPts = 10\n",
    "dp=[0]*(n+1) #dp[i]= Probability of total score of i at any point of time\n",
    "dp[0]=1 #Alice always starts with 0\n",
    "s=1 if k>0 else 0\n",
    "for i in range(1,n+1):\n",
    "    dp[i]=s/maxPts #s= sum of all possible previous states\n",
    "    if i<k:\n",
    "        s+=dp[i]\n",
    "    if i>=maxPts and i-maxPts<k:\n",
    "        s-=dp[i-maxPts] # For example for maxPts=10, dp[12] cannot include dp[1] 12 cant be reached directly after scoring 1\n",
    "sum(dp[k:])     "
   ]
  }
 ],
 "metadata": {
  "kernelspec": {
   "display_name": "Python 3",
   "language": "python",
   "name": "python3"
  },
  "language_info": {
   "codemirror_mode": {
    "name": "ipython",
    "version": 3
   },
   "file_extension": ".py",
   "mimetype": "text/x-python",
   "name": "python",
   "nbconvert_exporter": "python",
   "pygments_lexer": "ipython3",
   "version": "3.10.9"
  }
 },
 "nbformat": 4,
 "nbformat_minor": 5
}

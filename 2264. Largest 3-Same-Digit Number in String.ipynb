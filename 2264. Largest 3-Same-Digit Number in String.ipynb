{
 "cells": [
  {
   "cell_type": "markdown",
   "id": "ba53dd98",
   "metadata": {},
   "source": [
    "# 2264. Largest 3-Same-Digit Number in String\n",
    "\n",
    "You are given a string num representing a large integer. An integer is good if it meets the following conditions:\n",
    "\n",
    "It is a substring of num with length 3.\n",
    "It consists of only one unique digit.\n",
    "Return the maximum good integer as a string or an empty string \"\" if no such integer exists.\n",
    "\n",
    "Note:\n",
    "\n",
    "A substring is a contiguous sequence of characters within a string.\n",
    "There may be leading zeroes in num or a good integer.\n",
    " \n",
    "\n",
    "Example 1:\n",
    "\n",
    "Input: num = \"6777133339\"\n",
    "Output: \"777\"\n",
    "Explanation: There are two distinct good integers: \"777\" and \"333\".\n",
    "\"777\" is the largest, so we return \"777\".\n",
    "Example 2:\n",
    "\n",
    "Input: num = \"2300019\"\n",
    "Output: \"000\"\n",
    "Explanation: \"000\" is the only good integer.\n",
    "Example 3:\n",
    "\n",
    "Input: num = \"42352338\"\n",
    "Output: \"\"\n",
    "Explanation: No substring of length 3 consists of only one unique digit. Therefore, there are no good integers.\n",
    " \n",
    "\n",
    "Constraints:\n",
    "\n",
    "3 <= num.length <= 1000\n",
    "num only consists of digits."
   ]
  },
  {
   "cell_type": "markdown",
   "id": "0f19d44e",
   "metadata": {},
   "source": [
    "## Solution"
   ]
  },
  {
   "cell_type": "code",
   "execution_count": 4,
   "id": "8609fb1d",
   "metadata": {},
   "outputs": [
    {
     "data": {
      "text/plain": [
       "'777'"
      ]
     },
     "execution_count": 4,
     "metadata": {},
     "output_type": "execute_result"
    }
   ],
   "source": [
    "num = \"6777133339\"\n",
    "res=''\n",
    "for i in range(2,len(num)):\n",
    "    if num[i-2]==num[i-1]==num[i]:\n",
    "        res=max(res,num[i-2]+num[i-1]+num[i])\n",
    "res"
   ]
  }
 ],
 "metadata": {
  "kernelspec": {
   "display_name": "Python 3",
   "language": "python",
   "name": "python3"
  },
  "language_info": {
   "codemirror_mode": {
    "name": "ipython",
    "version": 3
   },
   "file_extension": ".py",
   "mimetype": "text/x-python",
   "name": "python",
   "nbconvert_exporter": "python",
   "pygments_lexer": "ipython3",
   "version": "3.10.9"
  }
 },
 "nbformat": 4,
 "nbformat_minor": 5
}

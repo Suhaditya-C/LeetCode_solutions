{
 "cells": [
  {
   "cell_type": "markdown",
   "id": "f7401ffa-2d1a-4a07-9d31-8a27bd29fb2e",
   "metadata": {},
   "source": [
    "# 2818. Apply Operations to Maximize Score\n",
    "You are given an array nums of n positive integers and an integer k.\n",
    "\n",
    "Initially, you start with a score of 1. You have to maximize your score by applying the following operation at most k times:\n",
    "\n",
    "Choose any non-empty subarray nums[l, ..., r] that you haven't chosen previously.\n",
    "Choose an element x of nums[l, ..., r] with the highest prime score. If multiple such elements exist, choose the one with the smallest index.\n",
    "Multiply your score by x.\n",
    "Here, nums[l, ..., r] denotes the subarray of nums starting at index l and ending at the index r, both ends being inclusive.\n",
    "\n",
    "The prime score of an integer x is equal to the number of distinct prime factors of x. For example, the prime score of 300 is 3 since 300 = 2 * 2 * 3 * 5 * 5.\n",
    "\n",
    "Return the maximum possible score after applying at most k operations.\n",
    "\n",
    "Since the answer may be large, return it modulo 109 + 7.\n",
    "\n",
    "Example 1:\n",
    "\n",
    "Input: nums = [8,3,9,3,8], k = 2\n",
    "Output: 81\n",
    "Explanation: To get a score of 81, we can apply the following operations:\n",
    "- Choose subarray nums[2, ..., 2]. nums[2] is the only element in this subarray. Hence, we multiply the score by nums[2]. The score becomes 1 * 9 = 9.\n",
    "- Choose subarray nums[2, ..., 3]. Both nums[2] and nums[3] have a prime score of 1, but nums[2] has the smaller index. Hence, we multiply the score by nums[2]. The score becomes 9 * 9 = 81.\n",
    "It can be proven that 81 is the highest score one can obtain.\n",
    "Example 2:\n",
    "\n",
    "Input: nums = [19,12,14,6,10,18], k = 3\n",
    "Output: 4788\n",
    "Explanation: To get a score of 4788, we can apply the following operations: \n",
    "- Choose subarray nums[0, ..., 0]. nums[0] is the only element in this subarray. Hence, we multiply the score by nums[0]. The score becomes 1 * 19 = 19.\n",
    "- Choose subarray nums[5, ..., 5]. nums[5] is the only element in this subarray. Hence, we multiply the score by nums[5]. The score becomes 19 * 18 = 342.\n",
    "- Choose subarray nums[2, ..., 3]. Both nums[2] and nums[3] have a prime score of 2, but nums[2] has the smaller index. Hence, we multipy the score by nums[2]. The score becomes 342 * 14 = 4788.\n",
    "It can be proven that 4788 is the highest score one can obtain.\n",
    " \n",
    "Constraints:\n",
    "\n",
    "1 <= nums.length == n <= 105\n",
    "1 <= nums[i] <= 105\n",
    "1 <= k <= min(n * (n + 1) / 2, 109)"
   ]
  },
  {
   "cell_type": "code",
   "execution_count": 14,
   "id": "4f4d96d5-1851-4d42-9531-0ae015f19129",
   "metadata": {},
   "outputs": [],
   "source": [
    "nums = [8,3,9,3,8]; k = 2\n",
    "import heapq\n",
    "import math"
   ]
  },
  {
   "cell_type": "code",
   "execution_count": 13,
   "id": "4f927762-6dd7-4076-8433-4957d89b9a30",
   "metadata": {},
   "outputs": [
    {
     "data": {
      "text/plain": [
       "81"
      ]
     },
     "execution_count": 13,
     "metadata": {},
     "output_type": "execute_result"
    }
   ],
   "source": [
    "N=len(nums)\n",
    "MOD=10**9+7 #for large numbers\n",
    "res=1\n",
    "\n",
    "#Find prime scores of each num, i.e. the distinct number of prime factors of the nums\n",
    "prime_scores=[]\n",
    "for num in nums:\n",
    "    score=0\n",
    "    for f in range(2,int(num**0.5)+1):\n",
    "        if num%f==0:\n",
    "            score+=1\n",
    "            #Remove all occurences of the factor\n",
    "            while num%f==0:\n",
    "                num=num//f\n",
    "    if num>=2: #happens when a prime factor gets left out as we are iterating upto sqrt(n)\n",
    "        score+=1\n",
    "    prime_scores.append(score)\n",
    "\n",
    "#Using monotonic stack part\n",
    "# initialise left bound\n",
    "LB=[-1]*N #maps the corresponding left bound of the scores\n",
    "RB=[N]*N #maps the corresponding right bound of the scores\n",
    "stack=[] #stores indices of scores in equal or decreasing order\n",
    "#enumerate thru scores to get index and scores\n",
    "for i,s in enumerate(prime_scores):\n",
    "    while stack and prime_scores[stack[-1]]<s: # while stack in no empty and top of stack is less than current prime score-->we found the RB of score on stack top\n",
    "        index=stack.pop()\n",
    "        RB[index]=i\n",
    "    # after the above operation if stack is non empty, it means that current score is less than previous score, which defines the left bround\n",
    "    if stack:\n",
    "        LB[i]=stack[-1]\n",
    "    #append current score index\n",
    "    stack.append(i)\n",
    "#use a max priority queue to store and use the elements in decreasing order\n",
    "maxq=[(-n,i) for i,n in enumerate(nums)]\n",
    "#convert the list into a queue\n",
    "heapq.heapify(maxq)\n",
    "\n",
    "#Final phase where the operations are done\n",
    "while k>0:\n",
    "    n,index=heapq.heappop(maxq)\n",
    "    n=-n\n",
    "    score=prime_scores[index]\n",
    "    #calculate no. of possible sub arrays with the current element \n",
    "    left_cnt= index-LB[index] #subarrays including elements to the left\n",
    "    right_cnt=RB[index]-index #subarrays including elements to the right\n",
    "    count=left_cnt*right_cnt #Total no. of possible sub arrays\n",
    "    #no. of operations is based on whether k is smaller or larger than no. of possible sub arrays\n",
    "    ops=min(count,k)\n",
    "    res=(res*(n**ops))%MOD    \n",
    "    k=k-ops\n",
    "res"
   ]
  },
  {
   "cell_type": "code",
   "execution_count": 9,
   "id": "9bcd6f1a-eba6-4d8f-a0f4-0b13f2f79616",
   "metadata": {},
   "outputs": [],
   "source": [
    "maxq=[(-n,i) for i,n in enumerate(nums)]\n",
    "#convert the list into a queue\n",
    "heapq.heapify(maxq)"
   ]
  },
  {
   "cell_type": "code",
   "execution_count": 6,
   "id": "f5c61ef5-eedf-496d-bc26-1b7579edf96a",
   "metadata": {},
   "outputs": [
    {
     "data": {
      "text/plain": [
       "[(-9, 2), (-8, 4), (-8, 0), (-3, 3), (-3, 1)]"
      ]
     },
     "execution_count": 6,
     "metadata": {},
     "output_type": "execute_result"
    }
   ],
   "source": [
    "maxq"
   ]
  },
  {
   "cell_type": "markdown",
   "id": "2fc900e6-ceda-489b-9d87-f327aa95accc",
   "metadata": {},
   "source": [
    "## Final Solution"
   ]
  },
  {
   "cell_type": "code",
   "execution_count": 18,
   "id": "eb6bb8bd-4729-41b8-aac5-00e70614f941",
   "metadata": {},
   "outputs": [
    {
     "data": {
      "text/plain": [
       "81"
      ]
     },
     "execution_count": 18,
     "metadata": {},
     "output_type": "execute_result"
    }
   ],
   "source": [
    "from typing import List\n",
    "class Solution:\n",
    "    def maximumScore(self, nums: List[int], k: int) -> int:\n",
    "        N=len(nums)\n",
    "        MOD=10**9+7 #for large numbers\n",
    "        res=1\n",
    "\n",
    "        #Find prime scores of each num, i.e. the distinct number of prime factors of the nums\n",
    "        prime_scores=[]\n",
    "        for num in nums:\n",
    "            score=0\n",
    "            for f in range(2,int(math.sqrt(num))+1):\n",
    "                if num%f==0:\n",
    "                    score+=1\n",
    "                    #Remove all occurences of the factor\n",
    "                    while num%f==0:\n",
    "                        num=num//f\n",
    "            if num>=2: #happens when a prime factor gets left out as we are iterating upto sqrt(n)\n",
    "                score+=1\n",
    "            prime_scores.append(score)\n",
    "\n",
    "        #Using monotonic stack part\n",
    "        # initialise left bound\n",
    "        LB=[-1]*N #maps the corresponding left bound of the scores\n",
    "        RB=[N]*N #maps the corresponding right bound of the scores\n",
    "        stack=[] #stores indices of scores in equal or decreasing order\n",
    "        #enumerate thru scores to get index and scores\n",
    "        for i,s in enumerate(prime_scores):\n",
    "            while stack and prime_scores[stack[-1]]<s: # while stack in no empty and top of stack is less than current prime score-->we found the RB of score on stack top\n",
    "                index=stack.pop()\n",
    "                RB[index]=i\n",
    "            # after the above operation if stack is non empty, it means that current score is less than previous score, which defines the left bround\n",
    "            if stack:\n",
    "                LB[i]=stack[-1]\n",
    "            #append current score index\n",
    "            stack.append(i)\n",
    "        #use a max priority queue to store and use the elements in decreasing order\n",
    "        maxq=[(-n,i) for i,n in enumerate(nums)]\n",
    "        #convert the list into a queue\n",
    "        heapq.heapify(maxq)\n",
    "\n",
    "        #Final phase where the operations are done\n",
    "        while k>0:\n",
    "            n,index=heapq.heappop(maxq)\n",
    "            n=-n\n",
    "            score=prime_scores[index]\n",
    "            #calculate no. of possible sub arrays with the current element \n",
    "            left_cnt= index-LB[index] #subarrays including elements to the left\n",
    "            right_cnt=RB[index]-index #subarrays including elements to the right\n",
    "            count=left_cnt*right_cnt #Total no. of possible sub arrays\n",
    "            #no. of operations is based on whether k is smaller or larger than no. of possible sub arrays\n",
    "            ops=min(count,k)\n",
    "            res=(res*pow(n,ops,MOD))%MOD   #fast exponentiation\n",
    "            k=k-ops\n",
    "        return res  \n",
    "sol=Solution()\n",
    "sol.maximumScore([8,3,9,3,8],2)"
   ]
  }
 ],
 "metadata": {
  "kernelspec": {
   "display_name": "Python 3 (ipykernel)",
   "language": "python",
   "name": "python3"
  },
  "language_info": {
   "codemirror_mode": {
    "name": "ipython",
    "version": 3
   },
   "file_extension": ".py",
   "mimetype": "text/x-python",
   "name": "python",
   "nbconvert_exporter": "python",
   "pygments_lexer": "ipython3",
   "version": "3.12.4"
  }
 },
 "nbformat": 4,
 "nbformat_minor": 5
}

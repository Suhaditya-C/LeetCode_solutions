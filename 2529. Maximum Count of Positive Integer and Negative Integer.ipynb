{
 "cells": [
  {
   "cell_type": "markdown",
   "metadata": {},
   "source": [
    "# 2529. Maximum Count of Positive Integer and Negative Integer\n",
    "\n",
    "Given an array nums sorted in non-decreasing order, return the maximum between the number of positive integers and the number of negative integers.\n",
    "\n",
    "In other words, if the number of positive integers in nums is pos and the number of negative integers is neg, then return the maximum of pos and neg.\n",
    "Note that 0 is neither positive nor negative.\n",
    "\n",
    " \n",
    "\n",
    "Example 1:\n",
    "\n",
    "Input: nums = [-2,-1,-1,1,2,3]\n",
    "Output: 3\n",
    "Explanation: There are 3 positive integers and 3 negative integers. The maximum count among them is 3.\n",
    "Example 2:\n",
    "\n",
    "Input: nums = [-3,-2,-1,0,0,1,2]\n",
    "Output: 3\n",
    "Explanation: There are 2 positive integers and 3 negative integers. The maximum count among them is 3.\n",
    "Example 3:\n",
    "\n",
    "Input: nums = [5,20,66,1314]\n",
    "Output: 4\n",
    "Explanation: There are 4 positive integers and 0 negative integers. The maximum count among them is 4.\n",
    " \n",
    "\n",
    "Constraints:\n",
    "\n",
    "1 <= nums.length <= 2000\n",
    "-2000 <= nums[i] <= 2000\n",
    "nums is sorted in a non-decreasing order.\n",
    " \n",
    "\n",
    "Follow up: Can you solve the problem in O(log(n)) time complexity?"
   ]
  },
  {
   "cell_type": "markdown",
   "metadata": {},
   "source": [
    "Linear Search\n"
   ]
  },
  {
   "cell_type": "code",
   "execution_count": 1,
   "metadata": {},
   "outputs": [
    {
     "data": {
      "text/plain": [
       "3"
      ]
     },
     "execution_count": 1,
     "metadata": {},
     "output_type": "execute_result"
    }
   ],
   "source": [
    "nums = [-2,-1,-1,1,2,3]\n",
    "pos=0\n",
    "neg=0\n",
    "z=0\n",
    "for i in range(len(nums)):\n",
    "    if nums[i]<0:\n",
    "        neg+=1\n",
    "    elif nums[i]==0:\n",
    "        z+=1\n",
    "    else:   #since array is sorted, break when you get a positive number, as after that point all are positive nos till length l\n",
    "        break\n",
    "pos=len(nums)-neg-z\n",
    "max(pos,neg)  "
   ]
  },
  {
   "cell_type": "markdown",
   "metadata": {},
   "source": [
    "Binary Search\n",
    "\n",
    "First find the index of 1st zero then the index of 1st positive element"
   ]
  },
  {
   "cell_type": "code",
   "execution_count": 2,
   "metadata": {},
   "outputs": [
    {
     "data": {
      "text/plain": [
       "3"
      ]
     },
     "execution_count": 2,
     "metadata": {},
     "output_type": "execute_result"
    }
   ],
   "source": [
    "nums = [-2,-1,-1,0,0,1,2,3]\n",
    "# when left and right collapses on each other, binary search ends and you get the first zero\n",
    "l=0\n",
    "r=len(nums)-1\n",
    "while l<=r:\n",
    "    mid=l+(r-l)//2\n",
    "    if nums[mid]>=0:\n",
    "        r=mid-1\n",
    "    else:\n",
    "        l=mid+1\n",
    "neg_cnt=l\n",
    "# from the above loop we got the index of first zero, now we perform binary search again to find the first positive number\n",
    "r=len(nums)-1\n",
    "# since it is a sorted array, we know all elements before l is negative\n",
    "while l<=r:\n",
    "    mid=l+(r-l)//2\n",
    "    if nums[mid]>0:\n",
    "        r=mid-1\n",
    "    elif nums[mid]==0:\n",
    "        l=mid+1\n",
    "pos_cnt=len(nums)-l\n",
    "max(pos_cnt,neg_cnt)"
   ]
  }
 ],
 "metadata": {
  "kernelspec": {
   "display_name": "Python 3",
   "language": "python",
   "name": "python3"
  },
  "language_info": {
   "codemirror_mode": {
    "name": "ipython",
    "version": 3
   },
   "file_extension": ".py",
   "mimetype": "text/x-python",
   "name": "python",
   "nbconvert_exporter": "python",
   "pygments_lexer": "ipython3",
   "version": "3.12.4"
  }
 },
 "nbformat": 4,
 "nbformat_minor": 2
}

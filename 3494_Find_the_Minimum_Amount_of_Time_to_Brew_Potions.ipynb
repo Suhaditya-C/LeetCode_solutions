{
  "nbformat": 4,
  "nbformat_minor": 0,
  "metadata": {
    "colab": {
      "provenance": [],
      "authorship_tag": "ABX9TyPff/OBlej6Nb2286u43VDQ",
      "include_colab_link": true
    },
    "kernelspec": {
      "name": "python3",
      "display_name": "Python 3"
    },
    "language_info": {
      "name": "python"
    }
  },
  "cells": [
    {
      "cell_type": "markdown",
      "metadata": {
        "id": "view-in-github",
        "colab_type": "text"
      },
      "source": [
        "<a href=\"https://colab.research.google.com/github/Suhaditya-C/LeetCode_solutions/blob/main/3494_Find_the_Minimum_Amount_of_Time_to_Brew_Potions.ipynb\" target=\"_parent\"><img src=\"https://colab.research.google.com/assets/colab-badge.svg\" alt=\"Open In Colab\"/></a>"
      ]
    },
    {
      "cell_type": "markdown",
      "source": [
        "# 3494. Find the Minimum Amount of Time to Brew Potions\n",
        "\n",
        "In a mystic dungeon, n magicians are standing in a line. Each magician has an attribute that gives you energy. Some magicians can give you negative energy, which means taking energy from you.\n",
        "\n",
        "You have been cursed in such a way that after absorbing energy from magician i, you will be instantly transported to magician (i + k). This process will be repeated until you reach the magician where (i + k) does not exist.\n",
        "\n",
        "In other words, you will choose a starting point and then teleport with k jumps until you reach the end of the magicians' sequence, absorbing all the energy during the journey.\n",
        "\n",
        "You are given an array energy and an integer k. Return the maximum possible energy you can gain.\n",
        "\n",
        "Note that when you are reach a magician, you must take energy from them, whether it is negative or positive energy.\n",
        "\n",
        "\n",
        "\n",
        "Example 1:\n",
        "\n",
        "Input: energy = [5,2,-10,-5,1], k = 3\n",
        "\n",
        "Output: 3\n",
        "\n",
        "Explanation: We can gain a total energy of 3 by starting from magician 1 absorbing 2 + 1 = 3.\n",
        "\n",
        "Example 2:\n",
        "\n",
        "Input: energy = [-2,-3,-1], k = 2\n",
        "\n",
        "Output: -1\n",
        "\n",
        "Explanation: We can gain a total energy of -1 by starting from magician 2.\n",
        "\n",
        "\n",
        "\n",
        "Constraints:\n",
        "\n",
        "1 <= energy.length <= 105\n",
        "-1000 <= energy[i] <= 1000\n",
        "1 <= k <= energy.length - 1"
      ],
      "metadata": {
        "id": "ic9s2Vj_6xJx"
      }
    },
    {
      "cell_type": "markdown",
      "source": [
        "## Solution: Start from array end and use DP i.e dp[i]=dp[i+k]+energy[i]"
      ],
      "metadata": {
        "id": "s8Ax-t8S65BU"
      }
    },
    {
      "cell_type": "code",
      "execution_count": 1,
      "metadata": {
        "colab": {
          "base_uri": "https://localhost:8080/"
        },
        "id": "w7FVyI1v6vFp",
        "outputId": "acb3760b-6865-45d7-fb1f-0bb89b8c33c3"
      },
      "outputs": [
        {
          "output_type": "execute_result",
          "data": {
            "text/plain": [
              "3"
            ]
          },
          "metadata": {},
          "execution_count": 1
        }
      ],
      "source": [
        "energy = [5,2,-10,-5,1]; k = 3\n",
        "dp=[0]*len(energy) #dp[i] = energy we gain starting from index i\n",
        "for i in range(len(energy)-1,-1,-1):\n",
        "    if i+k<len(energy):\n",
        "        dp[i]=dp[i+k]+energy[i]\n",
        "    else:\n",
        "        dp[i]=energy[i]\n",
        "max(dp)"
      ]
    }
  ]
}
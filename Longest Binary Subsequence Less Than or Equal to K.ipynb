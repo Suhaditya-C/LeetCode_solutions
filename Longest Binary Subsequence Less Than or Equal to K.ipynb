{
 "cells": [
  {
   "cell_type": "markdown",
   "id": "ffac7724",
   "metadata": {},
   "source": [
    "# Longest Binary Subsequence Less Than or Equal to K\n",
    "\n",
    "You are given a binary string s and a positive integer k.\n",
    "\n",
    "Return the length of the longest subsequence of s that makes up a binary number less than or equal to k.\n",
    "\n",
    "Note:\n",
    "\n",
    "The subsequence can contain leading zeroes.\n",
    "The empty string is considered to be equal to 0.\n",
    "A subsequence is a string that can be derived from another string by deleting some or no characters without changing the order of the remaining characters.\n",
    " \n",
    "\n",
    "Example 1:\n",
    "\n",
    "Input: s = \"1001010\", k = 5\n",
    "Output: 5\n",
    "Explanation: The longest subsequence of s that makes up a binary number less than or equal to 5 is \"00010\", as this number is equal to 2 in decimal.\n",
    "Note that \"00100\" and \"00101\" are also possible, which are equal to 4 and 5 in decimal, respectively.\n",
    "The length of this subsequence is 5, so 5 is returned.\n",
    "Example 2:\n",
    "\n",
    "Input: s = \"00101001\", k = 1\n",
    "Output: 6\n",
    "Explanation: \"000001\" is the longest subsequence of s that makes up a binary number less than or equal to 1, as this number is equal to 1 in decimal.\n",
    "The length of this subsequence is 6, so 6 is returned.\n",
    " \n",
    "\n",
    "Constraints:\n",
    "\n",
    "1 <= s.length <= 1000\n",
    "s[i] is either '0' or '1'.\n",
    "1 <= k <= 109"
   ]
  },
  {
   "cell_type": "markdown",
   "id": "8451a2bf",
   "metadata": {},
   "source": [
    "## Solution"
   ]
  },
  {
   "cell_type": "code",
   "execution_count": 18,
   "id": "26be1055",
   "metadata": {},
   "outputs": [
    {
     "data": {
      "text/plain": [
       "1"
      ]
     },
     "execution_count": 18,
     "metadata": {},
     "output_type": "execute_result"
    }
   ],
   "source": [
    "s = '1'; k = 215358216\n",
    "s_rev=s[::-1]\n",
    "val=0\n",
    "\n",
    "for i in range(len(s_rev)):\n",
    "    val+=int(s_rev[i])*2**i\n",
    "    if val>k:\n",
    "        res=i-1\n",
    "        break\n",
    "    else:\n",
    "        res=i+1\n",
    "\n",
    "res+s_rev[res+1:].count('0')"
   ]
  }
 ],
 "metadata": {
  "kernelspec": {
   "display_name": "Python 3",
   "language": "python",
   "name": "python3"
  },
  "language_info": {
   "codemirror_mode": {
    "name": "ipython",
    "version": 3
   },
   "file_extension": ".py",
   "mimetype": "text/x-python",
   "name": "python",
   "nbconvert_exporter": "python",
   "pygments_lexer": "ipython3",
   "version": "3.10.9"
  }
 },
 "nbformat": 4,
 "nbformat_minor": 5
}

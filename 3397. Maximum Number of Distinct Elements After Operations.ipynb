{
 "cells": [
  {
   "cell_type": "markdown",
   "id": "715fa197",
   "metadata": {},
   "source": [
    "# 3397. Maximum Number of Distinct Elements After Operations\n",
    "\n",
    "You are given an integer array nums and an integer k.\n",
    "\n",
    "You are allowed to perform the following operation on each element of the array at most once:\n",
    "\n",
    "Add an integer in the range [-k, k] to the element.\n",
    "Return the maximum possible number of distinct elements in nums after performing the operations.\n",
    "\n",
    " \n",
    "\n",
    "Example 1:\n",
    "\n",
    "Input: nums = [1,2,2,3,3,4], k = 2\n",
    "\n",
    "Output: 6\n",
    "\n",
    "Explanation:\n",
    "\n",
    "nums changes to [-1, 0, 1, 2, 3, 4] after performing operations on the first four elements.\n",
    "\n",
    "Example 2:\n",
    "\n",
    "Input: nums = [4,4,4,4], k = 1\n",
    "\n",
    "Output: 3\n",
    "\n",
    "Explanation:\n",
    "\n",
    "By adding -1 to nums[0] and 1 to nums[1], nums changes to [3, 5, 4, 4].\n",
    "\n",
    " \n",
    "\n",
    "Constraints:\n",
    "\n",
    "1 <= nums.length <= 105\n",
    "1 <= nums[i] <= 109\n",
    "0 <= k <= 109"
   ]
  },
  {
   "cell_type": "markdown",
   "id": "d285c566",
   "metadata": {},
   "source": [
    "## Solution: Greedy\n",
    "\n",
    "Consider nums[0]. According to the greedy principle, the element should be made as small as possible. Therefore, after the operation, a \n",
    "0\n",
    "​\n",
    " =nums[0]−k.\n",
    "\n",
    "Next, consider nums[1]. After the operation, its possible value range is [nums[1]−k,nums[1]+k]. Since the element after the operation must be different from a \n",
    "0\n",
    "​\n",
    " , the smallest valid value is a \n",
    "0\n",
    "​\n",
    " +1. According to the greedy principle, to make the element after the operation as small as possible, we have\n",
    "a \n",
    "1\n",
    "​\n",
    " =min(max(nums[1]−k,a \n",
    "0\n",
    "​\n",
    " +1),nums[1]+k)."
   ]
  },
  {
   "cell_type": "code",
   "execution_count": 18,
   "id": "a355d2be",
   "metadata": {},
   "outputs": [
    {
     "data": {
      "text/plain": [
       "3"
      ]
     },
     "execution_count": 18,
     "metadata": {},
     "output_type": "execute_result"
    }
   ],
   "source": [
    "nums = [4,4,4,4]; k = 1\n",
    "nums.sort()\n",
    "nums[0]-=k\n",
    "for i in range(1,len(nums)):\n",
    "    nums[i]=min(max(nums[i]-k,nums[i-1]+1),nums[i]+k)\n",
    "len(set(nums))"
   ]
  },
  {
   "cell_type": "markdown",
   "id": "80bdbb05",
   "metadata": {},
   "source": [
    "## Alternate Solution: \n",
    "Instead of transforming the list and counting unique, directly count the unique numbers"
   ]
  },
  {
   "cell_type": "code",
   "execution_count": 17,
   "id": "792d3ae3",
   "metadata": {},
   "outputs": [
    {
     "data": {
      "text/plain": [
       "8"
      ]
     },
     "execution_count": 17,
     "metadata": {},
     "output_type": "execute_result"
    }
   ],
   "source": [
    "nums = [1,1,1,2,2,2,4,4,4,4]; k = 2\n",
    "nums.sort()\n",
    "nums[0]-=k\n",
    "res=1\n",
    "for i in range(1,len(nums)):\n",
    "    prev_num=nums[i-1]\n",
    "    cur_num=nums[i]\n",
    "    transformed_num=min(max(cur_num-k,prev_num+1),cur_num+k)\n",
    "    nums[i]=transformed_num\n",
    "    if transformed_num!=prev_num:\n",
    "        res+=1\n",
    "res"
   ]
  },
  {
   "cell_type": "code",
   "execution_count": 16,
   "id": "253d508f",
   "metadata": {},
   "outputs": [
    {
     "data": {
      "text/plain": [
       "[-1, 0, 1, 2, 3, 4, 5, 6, 4, 5]"
      ]
     },
     "execution_count": 16,
     "metadata": {},
     "output_type": "execute_result"
    }
   ],
   "source": [
    "nums"
   ]
  }
 ],
 "metadata": {
  "kernelspec": {
   "display_name": "Python 3",
   "language": "python",
   "name": "python3"
  },
  "language_info": {
   "codemirror_mode": {
    "name": "ipython",
    "version": 3
   },
   "file_extension": ".py",
   "mimetype": "text/x-python",
   "name": "python",
   "nbconvert_exporter": "python",
   "pygments_lexer": "ipython3",
   "version": "3.10.9"
  }
 },
 "nbformat": 4,
 "nbformat_minor": 5
}

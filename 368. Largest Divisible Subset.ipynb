{
 "cells": [
  {
   "cell_type": "markdown",
   "id": "8e84d071",
   "metadata": {},
   "source": [
    "# 368. Largest Divisible Subset\n",
    "\n",
    "Given a set of distinct positive integers nums, return the largest subset answer such that every pair (answer[i], answer[j]) of elements in this subset satisfies:\n",
    "\n",
    "answer[i] % answer[j] == 0, or\n",
    "answer[j] % answer[i] == 0\n",
    "If there are multiple solutions, return any of them.\n",
    "\n",
    " \n",
    "\n",
    "Example 1:\n",
    "\n",
    "Input: nums = [1,2,3]\n",
    "Output: [1,2]\n",
    "Explanation: [1,3] is also accepted.\n",
    "Example 2:\n",
    "\n",
    "Input: nums = [1,2,4,8]\n",
    "Output: [1,2,4,8]\n",
    " \n",
    "\n",
    "Constraints:\n",
    "\n",
    "1 <= nums.length <= 1000\n",
    "1 <= nums[i] <= 2 * 109\n",
    "All the integers in nums are unique."
   ]
  },
  {
   "cell_type": "markdown",
   "id": "cf145664",
   "metadata": {},
   "source": [
    "## Solution\n",
    "Bottom up backtracking: DFS"
   ]
  },
  {
   "cell_type": "code",
   "execution_count": 35,
   "id": "cec87315",
   "metadata": {},
   "outputs": [
    {
     "data": {
      "text/plain": [
       "[1, 5, 15, 45]"
      ]
     },
     "execution_count": 35,
     "metadata": {},
     "output_type": "execute_result"
    }
   ],
   "source": [
    "nums= [1,2,5,15,45]\n",
    "nums.sort()\n",
    "cache={} #Stores result of DFS(cur_index,prev_element)\n",
    "def DFS(cur_index,prev_element):\n",
    "    #Base Case: Out of Bounds\n",
    "    if cur_index==len(nums):\n",
    "        return []\n",
    "    if (cur_index,prev_element) in cache:\n",
    "        return cache[(cur_index,prev_element)]\n",
    "    \n",
    "    #Skip the current element\n",
    "    res=DFS(cur_index+1,prev_element)\n",
    "    # Include the current element-> nums[cur_index] if divisible\n",
    "    if nums[cur_index]%prev_element==0:\n",
    "        cur_element=nums[cur_index]\n",
    "        subset=[cur_element]+DFS(cur_index+1,cur_element)\n",
    "        res=subset if len(subset)>len(res) else res #to update the max size subset\n",
    "\n",
    "    #Store the result of the current in Cache\n",
    "    cache[(cur_index,prev_element)]=res\n",
    "    return res\n",
    "\n",
    "DFS(0,1) #default value of previous element is 1 as every element is divisible by 1, therefore each element itself is a subset  \n",
    "\n"
   ]
  },
  {
   "cell_type": "markdown",
   "id": "c41577f5",
   "metadata": {},
   "source": [
    "## Using DP:Tabulisation (more Efficient Solution)"
   ]
  },
  {
   "cell_type": "code",
   "execution_count": 43,
   "id": "e8938ba1",
   "metadata": {},
   "outputs": [
    {
     "data": {
      "text/plain": [
       "[4, 8, 240]"
      ]
     },
     "execution_count": 43,
     "metadata": {},
     "output_type": "execute_result"
    }
   ],
   "source": [
    "nums= [4,8,10,240]\n",
    "nums.sort()\n",
    "n=len(nums)\n",
    "res=[]\n",
    "#Dynamic Programming\n",
    "dp=[[num] for num in nums] #Stores longest divisible subset starting from that num to the end of the nums array\n",
    "for i in reversed(range(n)):\n",
    "    for j in range(i+1,n):\n",
    "        if nums[j]%nums[i]==0:\n",
    "            subset=[nums[i]]+dp[j] #Pick the largest subset of the jth element where j>i\n",
    "            dp[i]=subset if len(subset)>len(dp[i]) else dp[i] #Update the dp of ith element with largest subarray including nums[i] till the end\n",
    "    #Update the res with largest of largest subarray in dp\n",
    "    res=dp[i] if len(dp[i])>len(res) else res\n",
    "res"
   ]
  }
 ],
 "metadata": {
  "kernelspec": {
   "display_name": "Python 3",
   "language": "python",
   "name": "python3"
  },
  "language_info": {
   "codemirror_mode": {
    "name": "ipython",
    "version": 3
   },
   "file_extension": ".py",
   "mimetype": "text/x-python",
   "name": "python",
   "nbconvert_exporter": "python",
   "pygments_lexer": "ipython3",
   "version": "3.12.4"
  }
 },
 "nbformat": 4,
 "nbformat_minor": 5
}

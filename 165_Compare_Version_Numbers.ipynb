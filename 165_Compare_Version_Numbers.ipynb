{
  "nbformat": 4,
  "nbformat_minor": 0,
  "metadata": {
    "colab": {
      "provenance": [],
      "authorship_tag": "ABX9TyM6YkRsgQ3DVQ3CTV4fNk9q",
      "include_colab_link": true
    },
    "kernelspec": {
      "name": "python3",
      "display_name": "Python 3"
    },
    "language_info": {
      "name": "python"
    }
  },
  "cells": [
    {
      "cell_type": "markdown",
      "metadata": {
        "id": "view-in-github",
        "colab_type": "text"
      },
      "source": [
        "<a href=\"https://colab.research.google.com/github/Suhaditya-C/LeetCode_solutions/blob/main/165_Compare_Version_Numbers.ipynb\" target=\"_parent\"><img src=\"https://colab.research.google.com/assets/colab-badge.svg\" alt=\"Open In Colab\"/></a>"
      ]
    },
    {
      "cell_type": "markdown",
      "source": [
        "# 165. Compare Version Numbers\n",
        "\n",
        "Given two version strings, version1 and version2, compare them. A version string consists of revisions separated by dots '.'. The value of the revision is its integer conversion ignoring leading zeros.\n",
        "\n",
        "To compare version strings, compare their revision values in left-to-right order. If one of the version strings has fewer revisions, treat the missing revision values as 0.\n",
        "\n",
        "Return the following:\n",
        "\n",
        "If version1 < version2, return -1.\n",
        "If version1 > version2, return 1.\n",
        "Otherwise, return 0.\n",
        "\n",
        "\n",
        "Example 1:\n",
        "\n",
        "Input: version1 = \"1.2\", version2 = \"1.10\"\n",
        "\n",
        "Output: -1\n",
        "\n",
        "Explanation:\n",
        "\n",
        "version1's second revision is \"2\" and version2's second revision is \"10\": 2 < 10, so version1 < version2.\n",
        "\n",
        "Example 2:\n",
        "\n",
        "Input: version1 = \"1.01\", version2 = \"1.001\"\n",
        "\n",
        "Output: 0\n",
        "\n",
        "Explanation:\n",
        "\n",
        "Ignoring leading zeroes, both \"01\" and \"001\" represent the same integer \"1\".\n",
        "\n",
        "Example 3:\n",
        "\n",
        "Input: version1 = \"1.0\", version2 = \"1.0.0.0\"\n",
        "\n",
        "Output: 0\n",
        "\n",
        "Explanation:\n",
        "\n",
        "version1 has less revisions, which means every missing revision are treated as \"0\".\n",
        "\n",
        "\n",
        "\n",
        "Constraints:\n",
        "\n",
        "1 <= version1.length, version2.length <= 500\n",
        "version1 and version2 only contain digits and '.'.\n",
        "version1 and version2 are valid version numbers.\n",
        "All the given revisions in version1 and version2 can be stored in a 32-bit integer."
      ],
      "metadata": {
        "id": "F7MwLU22jtwV"
      }
    },
    {
      "cell_type": "markdown",
      "source": [
        "## Solution:\n",
        "Use split and compare the strings converted to nums"
      ],
      "metadata": {
        "id": "i8EBtUtAjy73"
      }
    },
    {
      "cell_type": "code",
      "execution_count": 7,
      "metadata": {
        "colab": {
          "base_uri": "https://localhost:8080/"
        },
        "id": "oSW2yE7bjfXA",
        "outputId": "c0f0fba0-4488-4627-b594-1a1c81d958ce"
      },
      "outputs": [
        {
          "output_type": "execute_result",
          "data": {
            "text/plain": [
              "1"
            ]
          },
          "metadata": {},
          "execution_count": 7
        }
      ],
      "source": [
        "version1 = \"1.0.1\"; version2 = \"1\"\n",
        "res=0\n",
        "version1=version1.split('.')\n",
        "version2=version2.split('.')\n",
        "for i in range(max(len(version2),len(version1))):\n",
        "    a=int(version1[i]) if i<len(version1) else 0\n",
        "    b=int(version2[i]) if i<len(version2) else 0\n",
        "    if a<b:\n",
        "        res=-1\n",
        "        break\n",
        "    elif a>b:\n",
        "        res=1\n",
        "        break\n",
        "res\n"
      ]
    }
  ]
}
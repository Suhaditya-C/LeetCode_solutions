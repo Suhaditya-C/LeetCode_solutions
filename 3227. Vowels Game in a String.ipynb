{
 "cells": [
  {
   "cell_type": "markdown",
   "id": "087c8a46",
   "metadata": {},
   "source": [
    "# 3227. Vowels Game in a String\n",
    "\n",
    "Alice and Bob are playing a game on a string.\n",
    "\n",
    "You are given a string s, Alice and Bob will take turns playing the following game where Alice starts first:\n",
    "\n",
    "On Alice's turn, she has to remove any non-empty substring from s that contains an odd number of vowels.\n",
    "On Bob's turn, he has to remove any non-empty substring from s that contains an even number of vowels.\n",
    "The first player who cannot make a move on their turn loses the game. We assume that both Alice and Bob play optimally.\n",
    "\n",
    "Return true if Alice wins the game, and false otherwise.\n",
    "\n",
    "The English vowels are: a, e, i, o, and u.\n",
    "\n",
    " \n",
    "\n",
    "Example 1:\n",
    "\n",
    "Input: s = \"leetcoder\"\n",
    "\n",
    "Output: true\n",
    "\n",
    "Explanation:\n",
    "Alice can win the game as follows:\n",
    "\n",
    "Alice plays first, she can delete the underlined substring in s = \"leetcoder\" which contains 3 vowels. The resulting string is s = \"der\".\n",
    "Bob plays second, he can delete the underlined substring in s = \"der\" which contains 0 vowels. The resulting string is s = \"er\".\n",
    "Alice plays third, she can delete the whole string s = \"er\" which contains 1 vowel.\n",
    "Bob plays fourth, since the string is empty, there is no valid play for Bob. So Alice wins the game.\n",
    "Example 2:\n",
    "\n",
    "Input: s = \"bbcd\"\n",
    "\n",
    "Output: false\n",
    "\n",
    "Explanation:\n",
    "There is no valid play for Alice in her first turn, so Alice loses the game.\n",
    "\n",
    " \n",
    "\n",
    "Constraints:\n",
    "\n",
    "1 <= s.length <= 105\n",
    "s consists only of lowercase English letters."
   ]
  },
  {
   "cell_type": "markdown",
   "id": "a417c3b5",
   "metadata": {},
   "source": [
    "## Solution"
   ]
  },
  {
   "cell_type": "code",
   "execution_count": 2,
   "id": "dd95be30",
   "metadata": {},
   "outputs": [
    {
     "data": {
      "text/plain": [
       "True"
      ]
     },
     "execution_count": 2,
     "metadata": {},
     "output_type": "execute_result"
    }
   ],
   "source": [
    "s = \"leetcoder\"\n",
    "n=sum(1 for char in s if char in 'aeiou') #total no. of vowels in s\n",
    "True if n>0 else False"
   ]
  }
 ],
 "metadata": {
  "kernelspec": {
   "display_name": "Python 3",
   "language": "python",
   "name": "python3"
  },
  "language_info": {
   "codemirror_mode": {
    "name": "ipython",
    "version": 3
   },
   "file_extension": ".py",
   "mimetype": "text/x-python",
   "name": "python",
   "nbconvert_exporter": "python",
   "pygments_lexer": "ipython3",
   "version": "3.10.9"
  }
 },
 "nbformat": 4,
 "nbformat_minor": 5
}

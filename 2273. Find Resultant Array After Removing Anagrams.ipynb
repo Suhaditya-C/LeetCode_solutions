{
 "cells": [
  {
   "cell_type": "markdown",
   "id": "bb4f8292",
   "metadata": {},
   "source": [
    "# 2273. Find Resultant Array After Removing Anagrams\n",
    "\n",
    "You are given a 0-indexed string array words, where words[i] consists of lowercase English letters.\n",
    "\n",
    "In one operation, select any index i such that 0 < i < words.length and words[i - 1] and words[i] are anagrams, and delete words[i] from words. Keep performing this operation as long as you can select an index that satisfies the conditions.\n",
    "\n",
    "Return words after performing all operations. It can be shown that selecting the indices for each operation in any arbitrary order will lead to the same result.\n",
    "\n",
    "An Anagram is a word or phrase formed by rearranging the letters of a different word or phrase using all the original letters exactly once. For example, \"dacb\" is an anagram of \"abdc\".\n",
    "\n",
    " \n",
    "\n",
    "Example 1:\n",
    "\n",
    "Input: words = [\"abba\",\"baba\",\"bbaa\",\"cd\",\"cd\"]\n",
    "Output: [\"abba\",\"cd\"]\n",
    "Explanation:\n",
    "One of the ways we can obtain the resultant array is by using the following operations:\n",
    "- Since words[2] = \"bbaa\" and words[1] = \"baba\" are anagrams, we choose index 2 and delete words[2].\n",
    "  Now words = [\"abba\",\"baba\",\"cd\",\"cd\"].\n",
    "- Since words[1] = \"baba\" and words[0] = \"abba\" are anagrams, we choose index 1 and delete words[1].\n",
    "  Now words = [\"abba\",\"cd\",\"cd\"].\n",
    "- Since words[2] = \"cd\" and words[1] = \"cd\" are anagrams, we choose index 2 and delete words[2].\n",
    "  Now words = [\"abba\",\"cd\"].\n",
    "We can no longer perform any operations, so [\"abba\",\"cd\"] is the final answer.\n",
    "Example 2:\n",
    "\n",
    "Input: words = [\"a\",\"b\",\"c\",\"d\",\"e\"]\n",
    "Output: [\"a\",\"b\",\"c\",\"d\",\"e\"]\n",
    "Explanation:\n",
    "No two adjacent strings in words are anagrams of each other, so no operations are performed.\n",
    " \n",
    "\n",
    "Constraints:\n",
    "\n",
    "1 <= words.length <= 100\n",
    "1 <= words[i].length <= 10\n",
    "words[i] consists of lowercase English letters."
   ]
  },
  {
   "cell_type": "markdown",
   "id": "98fb918f",
   "metadata": {},
   "source": [
    "## Solution: Using Hashmaps"
   ]
  },
  {
   "cell_type": "code",
   "execution_count": 8,
   "id": "c1fa6f16",
   "metadata": {},
   "outputs": [
    {
     "data": {
      "text/plain": [
       "['abba', 'cd']"
      ]
     },
     "execution_count": 8,
     "metadata": {},
     "output_type": "execute_result"
    }
   ],
   "source": [
    "from collections import Counter\n",
    "words = [\"abba\",\"baba\",\"bbaa\",\"cd\",\"cd\"]\n",
    "res=[]\n",
    "mpp={}\n",
    "for i in range(len(words)):\n",
    "    if Counter(words[i])==mpp: #If Anagram\n",
    "        continue\n",
    "\n",
    "    else:\n",
    "        res.append(words[i])\n",
    "        mpp=Counter(words[i])\n",
    "res"
   ]
  },
  {
   "cell_type": "markdown",
   "id": "9fa07d0f",
   "metadata": {},
   "source": [
    "## Alternate: Using sort to check anagrams"
   ]
  },
  {
   "cell_type": "code",
   "execution_count": 10,
   "id": "e18f03ac",
   "metadata": {},
   "outputs": [
    {
     "data": {
      "text/plain": [
       "['abba', 'cd']"
      ]
     },
     "execution_count": 10,
     "metadata": {},
     "output_type": "execute_result"
    }
   ],
   "source": [
    "words = [\"abba\",\"baba\",\"bbaa\",\"cd\",\"cd\"]\n",
    "res=[words[0]]\n",
    "\n",
    "for i in range(1,len(words)):\n",
    "    if sorted(res[-1])==sorted(words[i]): #If Anagram with previous word, skip i.e. do nothing\n",
    "        continue\n",
    "    res.append(words[i])\n",
    "\n",
    "res"
   ]
  },
  {
   "cell_type": "markdown",
   "id": "6b479ea7",
   "metadata": {},
   "source": [
    "\n"
   ]
  }
 ],
 "metadata": {
  "kernelspec": {
   "display_name": "Python 3",
   "language": "python",
   "name": "python3"
  },
  "language_info": {
   "codemirror_mode": {
    "name": "ipython",
    "version": 3
   },
   "file_extension": ".py",
   "mimetype": "text/x-python",
   "name": "python",
   "nbconvert_exporter": "python",
   "pygments_lexer": "ipython3",
   "version": "3.10.9"
  }
 },
 "nbformat": 4,
 "nbformat_minor": 5
}

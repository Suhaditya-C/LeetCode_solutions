{
 "cells": [
  {
   "cell_type": "markdown",
   "id": "3dba89bb",
   "metadata": {},
   "source": [
    "# Count the Number of Arrays with K Matching Adjacent Elements\n",
    "\n",
    "You are given three integers n, m, k. A good array arr of size n is defined as follows:\n",
    "\n",
    "Each element in arr is in the inclusive range [1, m].\n",
    "Exactly k indices i (where 1 <= i < n) satisfy the condition arr[i - 1] == arr[i].\n",
    "Return the number of good arrays that can be formed.\n",
    "\n",
    "Since the answer may be very large, return it modulo 109 + 7.\n",
    "\n",
    " \n",
    "\n",
    "Example 1:\n",
    "\n",
    "Input: n = 3, m = 2, k = 1\n",
    "\n",
    "Output: 4\n",
    "\n",
    "Explanation:\n",
    "\n",
    "There are 4 good arrays. They are [1, 1, 2], [1, 2, 2], [2, 1, 1] and [2, 2, 1].\n",
    "Hence, the answer is 4.\n",
    "Example 2:\n",
    "\n",
    "Input: n = 4, m = 2, k = 2\n",
    "\n",
    "Output: 6\n",
    "\n",
    "Explanation:\n",
    "\n",
    "The good arrays are [1, 1, 1, 2], [1, 1, 2, 2], [1, 2, 2, 2], [2, 1, 1, 1], [2, 2, 1, 1] and [2, 2, 2, 1].\n",
    "Hence, the answer is 6.\n",
    "Example 3:\n",
    "\n",
    "Input: n = 5, m = 2, k = 0\n",
    "\n",
    "Output: 2\n",
    "\n",
    "Explanation:\n",
    "\n",
    "The good arrays are [1, 2, 1, 2, 1] and [2, 1, 2, 1, 2]. Hence, the answer is 2.\n",
    " \n",
    "\n",
    "Constraints:\n",
    "\n",
    "1 <= n <= 105\n",
    "1 <= m <= 105\n",
    "0 <= k <= n - 1\n"
   ]
  },
  {
   "cell_type": "markdown",
   "id": "b193723d",
   "metadata": {},
   "source": [
    "## Solution:\n",
    "\n",
    "First, choose which n−1−k gaps are \"different\" → this determines your segments\n",
    "(this is C(n-1, n−1−k) = C(n−1, k))\n",
    "\n",
    "Next, assign values to the segments:\n",
    "\n",
    "First segment: m choices\n",
    "\n",
    "Each new segment must differ from previous → m−1 choices for the rest\n",
    "\n",
    "So for n−k segments:\n",
    "\n",
    "Total ways: m × (m−1)^(n−k−1)\n",
    "\n",
    "Use of Fermat's Little Theorem: a_inv \n",
    " ≡a** \n",
    "(p−2)%\n",
    " modp"
   ]
  },
  {
   "cell_type": "code",
   "execution_count": 11,
   "id": "cba981ea",
   "metadata": {},
   "outputs": [
    {
     "data": {
      "text/plain": [
       "207959545"
      ]
     },
     "execution_count": 11,
     "metadata": {},
     "output_type": "execute_result"
    }
   ],
   "source": [
    "n = 10; m = 9;  k = 0\n",
    "MOD=10**9 + 7\n",
    "def fact(a):\n",
    "    if a==1 or a==0:\n",
    "        return 1\n",
    "    return (a*fact(a-1))%MOD\n",
    "def modinv(x):\n",
    "    return pow(x, MOD - 2, MOD)  # Fermat's Little Theorem since MOD is prime\n",
    "\n",
    "(m*((m-1)**(n-k-1)%MOD)*(fact(n-1)%MOD)*modinv((fact(n-k-1))*(fact(k))%MOD))%MOD"
   ]
  }
 ],
 "metadata": {
  "kernelspec": {
   "display_name": "Python 3",
   "language": "python",
   "name": "python3"
  },
  "language_info": {
   "codemirror_mode": {
    "name": "ipython",
    "version": 3
   },
   "file_extension": ".py",
   "mimetype": "text/x-python",
   "name": "python",
   "nbconvert_exporter": "python",
   "pygments_lexer": "ipython3",
   "version": "3.10.9"
  }
 },
 "nbformat": 4,
 "nbformat_minor": 5
}

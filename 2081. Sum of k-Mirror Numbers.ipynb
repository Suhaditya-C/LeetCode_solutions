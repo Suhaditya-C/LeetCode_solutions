{
 "cells": [
  {
   "cell_type": "markdown",
   "id": "493f2fa7",
   "metadata": {},
   "source": [
    "# Sum of k-Mirror Numbers\n",
    "\n",
    "A k-mirror number is a positive integer without leading zeros that reads the same both forward and backward in base-10 as well as in base-k.\n",
    "\n",
    "For example, 9 is a 2-mirror number. The representation of 9 in base-10 and base-2 are 9 and 1001 respectively, which read the same both forward and backward.\n",
    "On the contrary, 4 is not a 2-mirror number. The representation of 4 in base-2 is 100, which does not read the same both forward and backward.\n",
    "Given the base k and the number n, return the sum of the n smallest k-mirror numbers.\n",
    "\n",
    " \n",
    "\n",
    "Example 1:\n",
    "\n",
    "Input: k = 2, n = 5\n",
    "Output: 25\n",
    "Explanation:\n",
    "The 5 smallest 2-mirror numbers and their representations in base-2 are listed as follows:\n",
    "  base-10    base-2\n",
    "    1          1\n",
    "    3          11\n",
    "    5          101\n",
    "    7          111\n",
    "    9          1001\n",
    "Their sum = 1 + 3 + 5 + 7 + 9 = 25. \n",
    "Example 2:\n",
    "\n",
    "Input: k = 3, n = 7\n",
    "Output: 499\n",
    "Explanation:\n",
    "The 7 smallest 3-mirror numbers are and their representations in base-3 are listed as follows:\n",
    "  base-10    base-3\n",
    "    1          1\n",
    "    2          2\n",
    "    4          11\n",
    "    8          22\n",
    "    121        11111\n",
    "    151        12121\n",
    "    212        21212\n",
    "Their sum = 1 + 2 + 4 + 8 + 121 + 151 + 212 = 499.\n",
    "Example 3:\n",
    "\n",
    "Input: k = 7, n = 17\n",
    "Output: 20379000\n",
    "Explanation: The 17 smallest 7-mirror numbers are:\n",
    "1, 2, 3, 4, 5, 6, 8, 121, 171, 242, 292, 16561, 65656, 2137312, 4602064, 6597956, 6958596\n",
    " \n",
    "\n",
    "Constraints:\n",
    "\n",
    "2 <= k <= 9\n",
    "1 <= n <= 30\n"
   ]
  },
  {
   "cell_type": "markdown",
   "id": "9d0dda09",
   "metadata": {},
   "source": [
    "## Solution\n",
    "Hint: \n",
    "1. Since we need to reduce search space, instead of checking if every number is a palindrome in base-10, can we try to \"generate\" the palindromic numbers?\n",
    "2. If you are provided with a d digit number, how can you generate a palindrome with 2*d or 2*d - 1 digit?\n",
    "3. Try brute-forcing and checking if the palindrome you generated is a \"k-Mirror\" number."
   ]
  },
  {
   "cell_type": "code",
   "execution_count": 13,
   "id": "0a46c54c",
   "metadata": {},
   "outputs": [
    {
     "data": {
      "text/plain": [
       "[1, 2, 4, 8, 121, 151, 212]"
      ]
     },
     "execution_count": 13,
     "metadata": {},
     "output_type": "execute_result"
    }
   ],
   "source": [
    "# Initialize input parameters: k is the base (3), n is the number of k-mirror numbers to find (7)\n",
    "k = 3; n = 7\n",
    "\n",
    "# Initialize an empty list to store the k-mirror numbers\n",
    "res = []\n",
    "\n",
    "# Define a function to convert a decimal number to base-k representation\n",
    "def convert_to_kbase(j, k):\n",
    "    # Initialize an empty string to build the base-k number\n",
    "    kbase = ''\n",
    "    # Convert input j to an integer (j is expected to be a string or int)\n",
    "    decimal = int(j)\n",
    "    # Loop until the decimal number becomes 0\n",
    "    while decimal > 0:\n",
    "        # Compute remainder when divided by k (digit in base-k)\n",
    "        rem = decimal % k\n",
    "        # Append the remainder as a string to the base-k representation\n",
    "        kbase += str(rem)\n",
    "        # Integer divide decimal by k to process the next digit\n",
    "        decimal //= k\n",
    "    # Reverse the string to get correct base-k representation (since digits were collected in reverse)\n",
    "    return kbase[::-1]\n",
    "\n",
    "# Initialize d to track the number of digits in the palindromes to generate\n",
    "d = 1\n",
    "\n",
    "# Continue generating numbers until we have collected n k-mirror numbers\n",
    "while len(res) < n:\n",
    "    # Calculate the range for the first half of the palindrome\n",
    "    # start: smallest number with (d+1)//2 digits (e.g., for d=3, start=10)\n",
    "    start = 10 ** ((d + 1) // 2 - 1)\n",
    "    # end: largest number with (d+1)//2 digits (e.g., for d=3, end=99)\n",
    "    end = 10 ** ((d + 1) // 2) - 1\n",
    "    # Iterate over possible first halves of the palindrome\n",
    "    for i in range(start, end + 1):\n",
    "        # Case 1: Odd number of digits (e.g., d=3 for \"121\")\n",
    "        if d % 2 == 1:\n",
    "            # Take all but the last digit of i as the end part (e.g., \"12\" -> \"1\")\n",
    "            end = str(i)[:-1]\n",
    "            # Form palindrome: append reversed end to i (e.g., \"12\" + \"1\" -> \"121\")\n",
    "            pal = str(i) + end[::-1]\n",
    "            # Convert palindrome to base-k\n",
    "            kbasenum = convert_to_kbase(pal, k)\n",
    "            # Check if base-k representation is a palindrome\n",
    "            if kbasenum == kbasenum[::-1]:\n",
    "                # If both base-10 and base-k are palindromes, append to result\n",
    "                res.append(int(pal))\n",
    "    \n",
    "        # Case 2: Even number of digits (e.g., d=2 for \"11\")\n",
    "        elif d % 2 == 0:\n",
    "            # Form palindrome: append reversed i to itself (e.g., \"1\" + \"1\" -> \"11\")\n",
    "            pal = str(i) + str(i)[::-1]\n",
    "            # Convert palindrome to base-k\n",
    "            kbasenum = convert_to_kbase(pal, k)\n",
    "            # Check if base-k representation is a palindrome\n",
    "            if kbasenum == kbasenum[::-1]:\n",
    "                # If both base-10 and base-k are palindromes, append to result\n",
    "                res.append(int(pal))\n",
    "\n",
    "        # Early termination: stop if we have enough k-mirror numbers\n",
    "        if len(res) >= n:\n",
    "            break\n",
    "    # Increment digit length to generate larger palindromes\n",
    "    d += 1\n",
    "\n",
    "# Output the list of k-mirror numbers\n",
    "(res)\n"
   ]
  },
  {
   "cell_type": "code",
   "execution_count": 14,
   "id": "2deda1c6",
   "metadata": {},
   "outputs": [
    {
     "data": {
      "text/plain": [
       "499"
      ]
     },
     "execution_count": 14,
     "metadata": {},
     "output_type": "execute_result"
    }
   ],
   "source": [
    "sum(res)"
   ]
  }
 ],
 "metadata": {
  "kernelspec": {
   "display_name": "Python 3",
   "language": "python",
   "name": "python3"
  },
  "language_info": {
   "codemirror_mode": {
    "name": "ipython",
    "version": 3
   },
   "file_extension": ".py",
   "mimetype": "text/x-python",
   "name": "python",
   "nbconvert_exporter": "python",
   "pygments_lexer": "ipython3",
   "version": "3.10.9"
  }
 },
 "nbformat": 4,
 "nbformat_minor": 5
}

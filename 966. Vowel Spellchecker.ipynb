{
 "cells": [
  {
   "cell_type": "markdown",
   "id": "d84a0540",
   "metadata": {},
   "source": [
    "# 966. Vowel Spellchecker\n",
    "\n",
    "Given a wordlist, we want to implement a spellchecker that converts a query word into a correct word.\n",
    "\n",
    "For a given query word, the spell checker handles two categories of spelling mistakes:\n",
    "\n",
    "Capitalization: If the query matches a word in the wordlist (case-insensitive), then the query word is returned with the same case as the case in the wordlist.\n",
    "Example: wordlist = [\"yellow\"], query = \"YellOw\": correct = \"yellow\"\n",
    "Example: wordlist = [\"Yellow\"], query = \"yellow\": correct = \"Yellow\"\n",
    "Example: wordlist = [\"yellow\"], query = \"yellow\": correct = \"yellow\"\n",
    "Vowel Errors: If after replacing the vowels ('a', 'e', 'i', 'o', 'u') of the query word with any vowel individually, it matches a word in the wordlist (case-insensitive), then the query word is returned with the same case as the match in the wordlist.\n",
    "Example: wordlist = [\"YellOw\"], query = \"yollow\": correct = \"YellOw\"\n",
    "Example: wordlist = [\"YellOw\"], query = \"yeellow\": correct = \"\" (no match)\n",
    "Example: wordlist = [\"YellOw\"], query = \"yllw\": correct = \"\" (no match)\n",
    "In addition, the spell checker operates under the following precedence rules:\n",
    "\n",
    "When the query exactly matches a word in the wordlist (case-sensitive), you should return the same word back.\n",
    "When the query matches a word up to capitlization, you should return the first such match in the wordlist.\n",
    "When the query matches a word up to vowel errors, you should return the first such match in the wordlist.\n",
    "If the query has no matches in the wordlist, you should return the empty string.\n",
    "Given some queries, return a list of words answer, where answer[i] is the correct word for query = queries[i].\n",
    "\n",
    " \n",
    "\n",
    "Example 1:\n",
    "\n",
    "Input: wordlist = [\"KiTe\",\"kite\",\"hare\",\"Hare\"], queries = [\"kite\",\"Kite\",\"KiTe\",\"Hare\",\"HARE\",\"Hear\",\"hear\",\"keti\",\"keet\",\"keto\"]\n",
    "Output: [\"kite\",\"KiTe\",\"KiTe\",\"Hare\",\"hare\",\"\",\"\",\"KiTe\",\"\",\"KiTe\"]\n",
    "Example 2:\n",
    "\n",
    "Input: wordlist = [\"yellow\"], queries = [\"YellOw\"]\n",
    "Output: [\"yellow\"]\n",
    " \n",
    "\n",
    "Constraints:\n",
    "\n",
    "1 <= wordlist.length, queries.length <= 5000\n",
    "1 <= wordlist[i].length, queries[i].length <= 7\n",
    "wordlist[i] and queries[i] consist only of only English letters.\n"
   ]
  },
  {
   "cell_type": "markdown",
   "id": "098c31ce",
   "metadata": {},
   "source": [
    "## Solution:\n",
    "\n",
    "Attempt 1 : Logic Issue as per the problem description"
   ]
  },
  {
   "cell_type": "code",
   "execution_count": 15,
   "id": "8f840bf4",
   "metadata": {},
   "outputs": [
    {
     "data": {
      "text/plain": [
       "['kite', 'KiTe', 'KiTe', 'Hare', 'hare', '', '', 'KiTe', '', 'KiTe']"
      ]
     },
     "execution_count": 15,
     "metadata": {},
     "output_type": "execute_result"
    }
   ],
   "source": [
    "wordlist = [\"KiTe\",\"kite\",\"hare\",\"Hare\"]; queries = [\"kite\",\"Kite\",\"KiTe\",\"Hare\",\"HARE\",\"Hear\",\"hear\",\"keti\",\"keet\",\"keto\"]\n",
    "res=['']*(len(queries))\n",
    "vowels='aeiouAEIOU'\n",
    "for i in range(len(queries)):\n",
    "    if queries[i] in wordlist:\n",
    "        res[i]=queries[i]\n",
    "\n",
    "    else:\n",
    "        a=''.join('*' if ch in vowels else ch for ch in queries[i]).lower()\n",
    "    \n",
    "        for j in range(len(wordlist)):\n",
    "\n",
    "            if queries[i].lower() == wordlist[j].lower():\n",
    "                res[i]=wordlist[j]\n",
    "                break\n",
    "\n",
    "            elif len(queries[i])==len(wordlist[j]):\n",
    "                \n",
    "                b=''.join(\"*\" if ch in vowels else ch for ch in wordlist[j]).lower()\n",
    "                if a==b:\n",
    "                    res[i]=wordlist[j]\n",
    "                    break\n",
    "res    "
   ]
  },
  {
   "cell_type": "markdown",
   "id": "df37b910",
   "metadata": {},
   "source": [
    "Attempt 2 : TLE"
   ]
  },
  {
   "cell_type": "code",
   "execution_count": 16,
   "id": "775d50de",
   "metadata": {},
   "outputs": [
    {
     "data": {
      "text/plain": [
       "['Zuo']"
      ]
     },
     "execution_count": 16,
     "metadata": {},
     "output_type": "execute_result"
    }
   ],
   "source": [
    "wordlist = [\"zeo\",\"Zuo\"]; queries = [\"zuo\"]\n",
    "res=['']*(len(queries))\n",
    "vowels='aeiouAEIOU'\n",
    "for i in range(len(queries)):\n",
    "    if queries[i] in wordlist: #Exact Change\n",
    "        res[i]=queries[i]\n",
    "\n",
    "    else:\n",
    "        \n",
    "    \n",
    "        for j in range(len(wordlist)): # Case Check\n",
    "\n",
    "            if queries[i].lower() == wordlist[j].lower():\n",
    "                res[i]=wordlist[j]\n",
    "                break\n",
    "        \n",
    "        #Vowel Check\n",
    "        if res[i]=='':\n",
    "            a=''.join('*' if ch in vowels else ch for ch in queries[i]).lower()\n",
    "            for j in range(len(wordlist)):\n",
    "                if len(queries[i])==len(wordlist[j]):\n",
    "                    b=''.join(\"*\" if ch in vowels else ch for ch in wordlist[j]).lower()\n",
    "                    if a==b:\n",
    "                        res[i]=wordlist[j]\n",
    "                        break\n",
    "res  "
   ]
  },
  {
   "cell_type": "markdown",
   "id": "1898c558",
   "metadata": {},
   "source": [
    "Attempt 3 : Accepted"
   ]
  },
  {
   "cell_type": "code",
   "execution_count": null,
   "id": "c3229450",
   "metadata": {},
   "outputs": [
    {
     "data": {
      "text/plain": [
       "['yellow']"
      ]
     },
     "execution_count": 25,
     "metadata": {},
     "output_type": "execute_result"
    }
   ],
   "source": [
    "wordlist = [\"yellow\"]; queries = [\"YellOw\"]\n",
    "res=['']*(len(queries))\n",
    "vowels='aeiouAEIOU'\n",
    "wordlist_lower=[w.lower() for w in wordlist]\n",
    "wordlist_vowel=[]\n",
    "\n",
    "for w in wordlist_lower:\n",
    "    wordlist_vowel.append(''.join(\"*\" if ch in vowels else ch for ch in w))\n",
    "\n",
    "\n",
    "for i in range(len(queries)):\n",
    "    if queries[i] in wordlist: #Exact Check\n",
    "        res[i]=queries[i]\n",
    "\n",
    "\n",
    "for i in range(len(queries)): # Case Check\n",
    "    for j in range(len(wordlist_lower)):\n",
    "        if queries[i].lower() == wordlist_lower[j]:\n",
    "            res[i]=wordlist[j] if res[i]=='' else res[i]\n",
    "            break\n",
    "\n",
    "for i in range(len(queries)): # Vowel Check\n",
    "    a=''.join('*' if ch in vowels else ch for ch in queries[i]).lower()\n",
    "    for j in range(len(wordlist_vowel)):\n",
    "        if a==wordlist_vowel[j]:\n",
    "            res[i]=wordlist[j] if res[i]=='' else res[i]\n",
    "            break\n",
    "res"
   ]
  }
 ],
 "metadata": {
  "kernelspec": {
   "display_name": "Python 3",
   "language": "python",
   "name": "python3"
  },
  "language_info": {
   "codemirror_mode": {
    "name": "ipython",
    "version": 3
   },
   "file_extension": ".py",
   "mimetype": "text/x-python",
   "name": "python",
   "nbconvert_exporter": "python",
   "pygments_lexer": "ipython3",
   "version": "3.10.9"
  }
 },
 "nbformat": 4,
 "nbformat_minor": 5
}

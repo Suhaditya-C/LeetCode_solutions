{
 "cells": [
  {
   "cell_type": "markdown",
   "id": "e1cee107-6eb5-4d1e-aa6e-7418b252a54e",
   "metadata": {},
   "source": [
    "# 75. Sort Colors\n",
    "Given an array nums with n objects colored red, white, or blue, sort them in-place so that objects of the same color are adjacent, with the colors in the order red, white, and blue.\n",
    "\n",
    "We will use the integers 0, 1, and 2 to represent the color red, white, and blue, respectively.\n",
    "\n",
    "You must solve this problem without using the library's sort function.\n",
    "\n",
    " \n",
    "\n",
    "Example 1:\n",
    "\n",
    "Input: nums = [2,0,2,1,1,0]\n",
    "Output: [0,0,1,1,2,2]\n",
    "Example 2:\n",
    "\n",
    "Input: nums = [2,0,1]\n",
    "Output: [0,1,2]\n",
    " \n",
    "\n",
    "Constraints:\n",
    "\n",
    "n == nums.length\n",
    "1 <= n <= 300\n",
    "nums[i] is either 0, 1, or 2.\n",
    " \n",
    "\n",
    "Follow up: Could you come up with a one-pass algorithm using only constant extra space?"
   ]
  },
  {
   "cell_type": "markdown",
   "id": "375097ed-68fe-4b46-86db-4eb3afa7d400",
   "metadata": {},
   "source": [
    "## Solution\n",
    "### The easy one: 2 pass algo: TC: O(n) SC: O(n)"
   ]
  },
  {
   "cell_type": "code",
   "execution_count": 4,
   "id": "9ab96666-bf35-4cd4-86e2-1fc483a2f3b4",
   "metadata": {},
   "outputs": [
    {
     "data": {
      "text/plain": [
       "[0, 0, 1, 1, 2, 2]"
      ]
     },
     "execution_count": 4,
     "metadata": {},
     "output_type": "execute_result"
    }
   ],
   "source": [
    "nums = [2,0,2,1,1,0]\n",
    "res=[]\n",
    "r,w,b=0,0,0\n",
    "for num in nums:\n",
    "    if num==0: r+=1\n",
    "    elif num==1: w+=1\n",
    "    else: b+=1\n",
    "for i in range(len(nums)):\n",
    "    if r>0:\n",
    "        res.append(0)\n",
    "        r-=1\n",
    "    elif w>0:\n",
    "        res.append(1)\n",
    "        w-=1\n",
    "    else:\n",
    "        res.append(2)\n",
    "        b-=1\n",
    "res"
   ]
  },
  {
   "cell_type": "markdown",
   "id": "20873298-4fef-45f8-87f1-617229eafe9f",
   "metadata": {},
   "source": [
    "### The difficult solution: with constant space complexity: Dutch National Flag Algorithm (One-Pass, In-Place)"
   ]
  },
  {
   "cell_type": "code",
   "execution_count": 10,
   "id": "5831e09d-730f-4f24-934b-fc923e1c3799",
   "metadata": {},
   "outputs": [
    {
     "data": {
      "text/plain": [
       "[0, 1, 2]"
      ]
     },
     "execution_count": 10,
     "metadata": {},
     "output_type": "execute_result"
    }
   ],
   "source": [
    "nums = [1,2,0]\n",
    "left=0\n",
    "right=len(nums)-1\n",
    "i=0\n",
    "while i<=right:\n",
    "    if nums[i]==0: #swap with left pointer\n",
    "        nums[i],nums[left]=nums[left],nums[i]\n",
    "        left+=1 #All nums left to this pointers are 0s\n",
    "        i+=1 # Safe to move forward, as the swapped-in element is already in the correct region\n",
    "    elif nums[i]==2: #swap with right pointer\n",
    "        nums[i],nums[right]=nums[right],nums[i]\n",
    "        right-=1 #All nums right to this pointers are 1s\n",
    "        #the main pointer is not incremented as the new no. in place is either 0 or 1 which needs to be checked again\n",
    "    else: #num=1\n",
    "        i+=1\n",
    "nums"
   ]
  }
 ],
 "metadata": {
  "kernelspec": {
   "display_name": "Python 3 (ipykernel)",
   "language": "python",
   "name": "python3"
  },
  "language_info": {
   "codemirror_mode": {
    "name": "ipython",
    "version": 3
   },
   "file_extension": ".py",
   "mimetype": "text/x-python",
   "name": "python",
   "nbconvert_exporter": "python",
   "pygments_lexer": "ipython3",
   "version": "3.12.4"
  }
 },
 "nbformat": 4,
 "nbformat_minor": 5
}

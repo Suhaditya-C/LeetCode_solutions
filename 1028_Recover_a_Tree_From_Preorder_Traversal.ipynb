{
  "nbformat": 4,
  "nbformat_minor": 0,
  "metadata": {
    "colab": {
      "provenance": [],
      "authorship_tag": "ABX9TyOLffftcvhA/6dMsV/GA0DW",
      "include_colab_link": true
    },
    "kernelspec": {
      "name": "python3",
      "display_name": "Python 3"
    },
    "language_info": {
      "name": "python"
    }
  },
  "cells": [
    {
      "cell_type": "markdown",
      "metadata": {
        "id": "view-in-github",
        "colab_type": "text"
      },
      "source": [
        "<a href=\"https://colab.research.google.com/github/Suhaditya-C/LeetCode_solutions/blob/main/1028_Recover_a_Tree_From_Preorder_Traversal.ipynb\" target=\"_parent\"><img src=\"https://colab.research.google.com/assets/colab-badge.svg\" alt=\"Open In Colab\"/></a>"
      ]
    },
    {
      "cell_type": "markdown",
      "source": [
        "## 1028. Recover a Tree From Preorder Traversal\n",
        "\n",
        "We run a preorder depth-first search (DFS) on the root of a binary tree.\n",
        "\n",
        "At each node in this traversal, we output D dashes (where D is the depth of this node), then we output the value of this node.  If the depth of a node is D, the depth of its immediate child is D + 1.  The depth of the root node is 0.\n",
        "\n",
        "If a node has only one child, that child is guaranteed to be the left child.\n",
        "\n",
        "Given the output traversal of this traversal, recover the tree and return its root.\n",
        "\n",
        "\n",
        "\n",
        "Example 1:\n",
        "\n",
        "\n",
        "Input: traversal = \"1-2--3--4-5--6--7\"\n",
        "Output: [1,2,5,3,4,6,7]\n",
        "Example 2:\n",
        "\n",
        "\n",
        "Input: traversal = \"1-2--3---4-5--6---7\"\n",
        "Output: [1,2,5,3,null,6,null,4,null,7]\n",
        "Example 3:\n",
        "\n",
        "\n",
        "Input: traversal = \"1-401--349---90--88\"\n",
        "Output: [1,401,null,349,88,90]\n",
        "\n",
        "\n",
        "Constraints:\n",
        "\n",
        "The number of nodes in the original tree is in the range [1, 1000].\n",
        "1 <= Node.val <= 109"
      ],
      "metadata": {
        "id": "Yh00Igs3bdHL"
      }
    },
    {
      "cell_type": "code",
      "source": [
        "from typing import Optional\n",
        "# Definition for a binary tree node.\n",
        "class TreeNode:\n",
        "    def __init__(self, val=0, left=None, right=None):\n",
        "        self.val = val\n",
        "        self.left = left\n",
        "        self.right = right\n",
        "class Solution:\n",
        "    def recoverFromPreorder(self, traversal: str) -> Optional[TreeNode]:\n",
        "        dashes=0\n",
        "        stack=[]\n",
        "        i=0\n",
        "        # iterate through traversals\n",
        "        while i<len(traversal):\n",
        "            if traversal[i]=='-': # if char is a dash\n",
        "                dashes+=1\n",
        "                i+=1\n",
        "            else: # if char is number\n",
        "                j=i #count no of digits to form the number\n",
        "                while j<len(traversal) and traversal[j]!='-':\n",
        "                    j+=1\n",
        "                num=int(traversal[i:j])\n",
        "                node=TreeNode(num) # add the current number as a node in the tree\n",
        "\n",
        "                while len(stack)>dashes: #Till current depth is not equal to level where node is to be added\n",
        "                    stack.pop()\n",
        "                if stack and not stack[-1].left: #if stack is not empty and last node is not in left---add it to left node\n",
        "                    stack[-1].left=node\n",
        "                elif stack:                      #if stack is not empty and last node is not in =right---add it to right node\n",
        "                    stack[-1].right=node\n",
        "                stack.append(node)              #if node is a root, it gets added to the stack\n",
        "                i=j\n",
        "                dashes=0\n",
        "        return stack[0] #returning the root node gives the entire tree\n",
        "\n",
        "\n",
        "sol=Solution()\n",
        "res=sol.recoverFromPreorder(\"1-2--3---4-5--6---7\")\n",
        "res"
      ],
      "metadata": {
        "id": "T45efB7TDRvu",
        "colab": {
          "base_uri": "https://localhost:8080/"
        },
        "outputId": "ae6a5375-19f4-4923-bc35-36d95591fcd7"
      },
      "execution_count": null,
      "outputs": [
        {
          "output_type": "execute_result",
          "data": {
            "text/plain": [
              "<__main__.TreeNode at 0x7bfc6f534590>"
            ]
          },
          "metadata": {},
          "execution_count": 7
        }
      ]
    }
  ]
}
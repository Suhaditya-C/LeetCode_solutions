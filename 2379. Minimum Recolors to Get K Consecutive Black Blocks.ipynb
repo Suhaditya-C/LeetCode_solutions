{
 "cells": [
  {
   "cell_type": "markdown",
   "id": "fe52a7e7-38c0-4f8a-a0be-f7f15731afd0",
   "metadata": {},
   "source": [
    "# 2379. Minimum Recolors to Get K Consecutive Black Blocks\n",
    "\n",
    "You are given a 0-indexed string blocks of length n, where blocks[i] is either 'W' or 'B', representing the color of the ith block. The characters 'W' and 'B' denote the colors white and black, respectively.\n",
    "\n",
    "You are also given an integer k, which is the desired number of consecutive black blocks.\n",
    "\n",
    "In one operation, you can recolor a white block such that it becomes a black block.\n",
    "\n",
    "Return the minimum number of operations needed such that there is at least one occurrence of k consecutive black blocks.\n",
    "\n",
    "Example 1:\n",
    "\n",
    "Input: blocks = \"WBBWWBBWBW\", k = 7\n",
    "Output: 3\n",
    "Explanation:\n",
    "One way to achieve 7 consecutive black blocks is to recolor the 0th, 3rd, and 4th blocks\n",
    "so that blocks = \"BBBBBBBWBW\". \n",
    "It can be shown that there is no way to achieve 7 consecutive black blocks in less than 3 operations.\n",
    "Therefore, we return 3.\n",
    "Example 2:\n",
    "\n",
    "Input: blocks = \"WBWBBBW\", k = 2\n",
    "Output: 0\n",
    "Explanation:\n",
    "No changes need to be made, since 2 consecutive black blocks already exist.\n",
    "Therefore, we return 0.\n",
    " \n",
    "Constraints:\n",
    "\n",
    "n == blocks.length\n",
    "1 <= n <= 100\n",
    "blocks[i] is either 'W' or 'B'.\n",
    "1 <= k <= n"
   ]
  },
  {
   "cell_type": "code",
   "execution_count": 12,
   "id": "aa31cb1b-448e-4e3c-bde5-9df11ddb8e72",
   "metadata": {},
   "outputs": [
    {
     "data": {
      "text/plain": [
       "3"
      ]
     },
     "execution_count": 12,
     "metadata": {},
     "output_type": "execute_result"
    }
   ],
   "source": [
    "blocks = \"WBBWWBBWBW\"; k = 7\n",
    "n=len(blocks)\n",
    "res=float('inf')\n",
    "if n>k:\n",
    "    for i in range(n-k+1):\n",
    "        res=min(res,blocks[i:i+k].count('W'))\n",
    "elif n==k:\n",
    "    res= blocks.count('W')\n",
    "else:\n",
    "    res= None\n",
    "res"
   ]
  },
  {
   "cell_type": "markdown",
   "id": "8bf443a3-e6d5-4fce-bf75-94ff4da9217c",
   "metadata": {},
   "source": [
    "## Final Solution"
   ]
  },
  {
   "cell_type": "code",
   "execution_count": null,
   "id": "d8e5aaf4-26b7-4a06-90a7-e4e1474f025b",
   "metadata": {},
   "outputs": [],
   "source": [
    "class Solution:\n",
    "    def minimumRecolors(self, blocks: str, k: int) -> int:\n",
    "        n=len(blocks)\n",
    "        res=float('inf')\n",
    "        if n>k:\n",
    "            for i in range(n-k+1):\n",
    "                res=min(res,blocks[i:i+k].count('W'))\n",
    "            return res \n",
    "        elif n==k:\n",
    "            return blocks.count('W')\n",
    "        else:\n",
    "            return None"
   ]
  }
 ],
 "metadata": {
  "kernelspec": {
   "display_name": "Python 3 (ipykernel)",
   "language": "python",
   "name": "python3"
  },
  "language_info": {
   "codemirror_mode": {
    "name": "ipython",
    "version": 3
   },
   "file_extension": ".py",
   "mimetype": "text/x-python",
   "name": "python",
   "nbconvert_exporter": "python",
   "pygments_lexer": "ipython3",
   "version": "3.12.4"
  }
 },
 "nbformat": 4,
 "nbformat_minor": 5
}

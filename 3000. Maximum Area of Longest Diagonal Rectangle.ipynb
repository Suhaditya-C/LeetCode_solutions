{
 "cells": [
  {
   "cell_type": "markdown",
   "id": "dfadab3a",
   "metadata": {},
   "source": [
    "# 3000. Maximum Area of Longest Diagonal Rectangle\n",
    "\n",
    "You are given a 2D 0-indexed integer array dimensions.\n",
    "\n",
    "For all indices i, 0 <= i < dimensions.length, dimensions[i][0] represents the length and dimensions[i][1] represents the width of the rectangle i.\n",
    "\n",
    "Return the area of the rectangle having the longest diagonal. If there are multiple rectangles with the longest diagonal, return the area of the rectangle having the maximum area.\n",
    "\n",
    " \n",
    "\n",
    "Example 1:\n",
    "\n",
    "Input: dimensions = [[9,3],[8,6]]\n",
    "Output: 48\n",
    "Explanation: \n",
    "For index = 0, length = 9 and width = 3. Diagonal length = sqrt(9 * 9 + 3 * 3) = sqrt(90) ≈ 9.487.\n",
    "For index = 1, length = 8 and width = 6. Diagonal length = sqrt(8 * 8 + 6 * 6) = sqrt(100) = 10.\n",
    "So, the rectangle at index 1 has a greater diagonal length therefore we return area = 8 * 6 = 48.\n",
    "Example 2:\n",
    "\n",
    "Input: dimensions = [[3,4],[4,3]]\n",
    "Output: 12\n",
    "Explanation: Length of diagonal is the same for both which is 5, so maximum area = 12.\n",
    " \n",
    "\n",
    "Constraints:\n",
    "\n",
    "1 <= dimensions.length <= 100\n",
    "dimensions[i].length == 2\n",
    "1 <= dimensions[i][0], dimensions[i][1] <= 100"
   ]
  },
  {
   "cell_type": "markdown",
   "id": "50108e52",
   "metadata": {},
   "source": [
    "## Solution"
   ]
  },
  {
   "cell_type": "code",
   "execution_count": 3,
   "id": "b0bd5b81",
   "metadata": {},
   "outputs": [
    {
     "data": {
      "text/plain": [
       "20"
      ]
     },
     "execution_count": 3,
     "metadata": {},
     "output_type": "execute_result"
    }
   ],
   "source": [
    "dimensions=[[6,5],[8,6],[2,10],[8,1],[9,2],[3,5],[3,5]]\n",
    "max_diag=0\n",
    "area=0\n",
    "for d in dimensions:\n",
    "\n",
    "    cur_diag=(d[0]**2+d[1]**2)\n",
    "    area=d[0]*d[1]\n",
    "\n",
    "    if max_diag<cur_diag:\n",
    "        res=area\n",
    "        max_diag=cur_diag\n",
    "\n",
    "    elif max_diag==cur_diag:\n",
    "        res=max(area,res)\n",
    "res"
   ]
  }
 ],
 "metadata": {
  "kernelspec": {
   "display_name": "Python 3",
   "language": "python",
   "name": "python3"
  },
  "language_info": {
   "codemirror_mode": {
    "name": "ipython",
    "version": 3
   },
   "file_extension": ".py",
   "mimetype": "text/x-python",
   "name": "python",
   "nbconvert_exporter": "python",
   "pygments_lexer": "ipython3",
   "version": "3.10.9"
  }
 },
 "nbformat": 4,
 "nbformat_minor": 5
}

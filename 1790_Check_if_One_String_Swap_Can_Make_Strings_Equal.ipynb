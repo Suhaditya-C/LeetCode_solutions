{
  "nbformat": 4,
  "nbformat_minor": 0,
  "metadata": {
    "colab": {
      "provenance": [],
      "authorship_tag": "ABX9TyOAncIwNeOvXpFBW+S7E85s",
      "include_colab_link": true
    },
    "kernelspec": {
      "name": "python3",
      "display_name": "Python 3"
    },
    "language_info": {
      "name": "python"
    }
  },
  "cells": [
    {
      "cell_type": "markdown",
      "metadata": {
        "id": "view-in-github",
        "colab_type": "text"
      },
      "source": [
        "<a href=\"https://colab.research.google.com/github/Suhaditya-C/LeetCode_solutions/blob/main/1790_Check_if_One_String_Swap_Can_Make_Strings_Equal.ipynb\" target=\"_parent\"><img src=\"https://colab.research.google.com/assets/colab-badge.svg\" alt=\"Open In Colab\"/></a>"
      ]
    },
    {
      "cell_type": "markdown",
      "source": [
        "## 1790. Check if One String Swap Can Make Strings Equal\n",
        "\n",
        "You are given two strings s1 and s2 of equal length. A string swap is an operation where you choose two indices in a string (not necessarily different) and swap the characters at these indices.\n",
        "\n",
        "Return true if it is possible to make both strings equal by performing at most one string swap on exactly one of the strings. Otherwise, return false.\n",
        "\n",
        "\n",
        "\n",
        "Example 1:\n",
        "\n",
        "Input: s1 = \"bank\", s2 = \"kanb\"\n",
        "Output: true\n",
        "Explanation: For example, swap the first character with the last character of s2 to make \"bank\".\n",
        "Example 2:\n",
        "\n",
        "Input: s1 = \"attack\", s2 = \"defend\"\n",
        "Output: false\n",
        "Explanation: It is impossible to make them equal with one string swap.\n",
        "Example 3:\n",
        "\n",
        "Input: s1 = \"kelb\", s2 = \"kelb\"\n",
        "Output: true\n",
        "Explanation: The two strings are already equal, so no string swap operation is required.\n",
        "\n",
        "\n",
        "Constraints:\n",
        "\n",
        "1 <= s1.length, s2.length <= 100\n",
        "s1.length == s2.length\n",
        "s1 and s2 consist of only lowercase English letters."
      ],
      "metadata": {
        "id": "rhUiYtu8KiNF"
      }
    },
    {
      "cell_type": "code",
      "source": [
        "s1 = \"caa\"; s2 = \"aaz\"\n",
        "n=len(s1)\n",
        "flag=False\n",
        "count=0\n",
        "ind=[]\n",
        "for i in range(n):\n",
        "    if s1[i]!=s2[i]:\n",
        "        count+=1\n",
        "        ind.append(i)\n",
        "if len(ind)==2 and s1[ind[0]]==s2[ind[1]] and s2[ind[0]]==s1[ind[1]] :\n",
        "    flag=True\n",
        "print(True if count==0 or flag else False)"
      ],
      "metadata": {
        "id": "I8AFfo_7voki",
        "colab": {
          "base_uri": "https://localhost:8080/"
        },
        "outputId": "c0e4e482-da46-4e18-9a85-3317abf4238c"
      },
      "execution_count": null,
      "outputs": [
        {
          "output_type": "stream",
          "name": "stdout",
          "text": [
            "False\n"
          ]
        }
      ]
    },
    {
      "cell_type": "markdown",
      "source": [
        "Final Solution"
      ],
      "metadata": {
        "id": "bH91nLDl-ZIv"
      }
    },
    {
      "cell_type": "code",
      "source": [
        "class Solution:\n",
        "    def areAlmostEqual(self, s1: str, s2: str) -> bool:\n",
        "        n=len(s1)\n",
        "        flag=False\n",
        "        count=0\n",
        "        ind=[]\n",
        "        for i in range(n):\n",
        "            if s1[i]!=s2[i]:\n",
        "                count+=1\n",
        "                ind.append(i)\n",
        "        if len(ind)==2 and s1[ind[0]]==s2[ind[1]] and s2[ind[0]]==s1[ind[1]] :\n",
        "            flag=True\n",
        "        return (True if count==0 or flag else False)\n",
        ""
      ],
      "metadata": {
        "id": "JlJTAk3h-ayu"
      },
      "execution_count": null,
      "outputs": []
    }
  ]
}
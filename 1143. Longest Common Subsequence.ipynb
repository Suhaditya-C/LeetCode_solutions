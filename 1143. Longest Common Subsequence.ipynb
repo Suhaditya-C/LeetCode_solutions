{
 "cells": [
  {
   "cell_type": "markdown",
   "id": "cd2aa61d",
   "metadata": {},
   "source": [
    "# 1143. Longest Common Subsequence\n",
    "\n",
    "Given two strings text1 and text2, return the length of their longest common subsequence. If there is no common subsequence, return 0.\n",
    "\n",
    "A subsequence of a string is a new string generated from the original string with some characters (can be none) deleted without changing the relative order of the remaining characters.\n",
    "\n",
    "For example, \"ace\" is a subsequence of \"abcde\".\n",
    "A common subsequence of two strings is a subsequence that is common to both strings.\n",
    "\n",
    " \n",
    "\n",
    "Example 1:\n",
    "\n",
    "Input: text1 = \"abcde\", text2 = \"ace\" \n",
    "Output: 3  \n",
    "Explanation: The longest common subsequence is \"ace\" and its length is 3.\n",
    "Example 2:\n",
    "\n",
    "Input: text1 = \"abc\", text2 = \"abc\"\n",
    "Output: 3\n",
    "Explanation: The longest common subsequence is \"abc\" and its length is 3.\n",
    "Example 3:\n",
    "\n",
    "Input: text1 = \"abc\", text2 = \"def\"\n",
    "Output: 0\n",
    "Explanation: There is no such common subsequence, so the result is 0.\n",
    " \n",
    "\n",
    "Constraints:\n",
    "\n",
    "1 <= text1.length, text2.length <= 1000\n",
    "text1 and text2 consist of only lowercase English characters."
   ]
  },
  {
   "cell_type": "markdown",
   "id": "a65b4a51",
   "metadata": {},
   "source": [
    "## Solution: Dynamic Programming- Bottom Up Approach"
   ]
  },
  {
   "cell_type": "code",
   "execution_count": null,
   "id": "500f782c",
   "metadata": {},
   "outputs": [
    {
     "data": {
      "text/plain": [
       "3"
      ]
     },
     "execution_count": 12,
     "metadata": {},
     "output_type": "execute_result"
    }
   ],
   "source": [
    "text1 = \"abcde\"; text2 = \"ace\"\n",
    "m=len(text1)\n",
    "n=len(text2)\n",
    "dp=[[0 for _ in range(n+1)] for _ in range(m+1)]\n",
    "for i in range(1,m+1):\n",
    "    for j in range(1,n+1):\n",
    "        if text1[i-1]==text2[j-1]:\n",
    "            dp[i][j]=dp[i-1][j-1]+1 #Relation in dp table\n",
    "        else:\n",
    "            dp[i][j]=max(dp[i-1][j],dp[i][j-1]) #Relation in dp table\n",
    "dp[m][n]"
   ]
  },
  {
   "cell_type": "code",
   "execution_count": 13,
   "id": "4bdca4e6",
   "metadata": {},
   "outputs": [
    {
     "data": {
      "text/plain": [
       "[[0, 0, 0, 0],\n",
       " [0, 1, 1, 1],\n",
       " [0, 1, 1, 1],\n",
       " [0, 1, 2, 2],\n",
       " [0, 1, 2, 2],\n",
       " [0, 1, 2, 3]]"
      ]
     },
     "execution_count": 13,
     "metadata": {},
     "output_type": "execute_result"
    }
   ],
   "source": [
    "dp"
   ]
  }
 ],
 "metadata": {
  "kernelspec": {
   "display_name": "Python 3",
   "language": "python",
   "name": "python3"
  },
  "language_info": {
   "codemirror_mode": {
    "name": "ipython",
    "version": 3
   },
   "file_extension": ".py",
   "mimetype": "text/x-python",
   "name": "python",
   "nbconvert_exporter": "python",
   "pygments_lexer": "ipython3",
   "version": "3.10.9"
  }
 },
 "nbformat": 4,
 "nbformat_minor": 5
}

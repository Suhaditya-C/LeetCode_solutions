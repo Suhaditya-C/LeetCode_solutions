{
 "cells": [
  {
   "attachments": {
    "image.png": {
     "image/png": "[encoded data removed]"
    }
   },
   "cell_type": "markdown",
   "id": "be1848f7",
   "metadata": {},
   "source": [
    "# 838. Push Dominoes\n",
    "\n",
    "There are n dominoes in a line, and we place each domino vertically upright. In the beginning, we simultaneously push some of the dominoes either to the left or to the right.\n",
    "\n",
    "After each second, each domino that is falling to the left pushes the adjacent domino on the left. Similarly, the dominoes falling to the right push their adjacent dominoes standing on the right.\n",
    "\n",
    "When a vertical domino has dominoes falling on it from both sides, it stays still due to the balance of the forces.\n",
    "\n",
    "For the purposes of this question, we will consider that a falling domino expends no additional force to a falling or already fallen domino.\n",
    "\n",
    "You are given a string dominoes representing the initial state where:\n",
    "\n",
    "dominoes[i] = 'L', if the ith domino has been pushed to the left,\n",
    "dominoes[i] = 'R', if the ith domino has been pushed to the right, and\n",
    "dominoes[i] = '.', if the ith domino has not been pushed.\n",
    "Return a string representing the final state.\n",
    "\n",
    " \n",
    "\n",
    "Example 1:\n",
    "\n",
    "Input: dominoes = \"RR.L\"\n",
    "Output: \"RR.L\"\n",
    "Explanation: The first domino expends no additional force on the second domino.\n",
    "Example 2:\n",
    "\n",
    "![image.png](attachment:image.png)\n",
    "\n",
    "Input: dominoes = \".L.R...LR..L..\"\n",
    "Output: \"LL.RR.LLRRLL..\"\n",
    " \n",
    "\n",
    "Constraints:\n",
    "\n",
    "n == dominoes.length\n",
    "1 <= n <= 105\n",
    "dominoes[i] is either 'L', 'R', or '.'."
   ]
  },
  {
   "cell_type": "markdown",
   "id": "7b24613b",
   "metadata": {},
   "source": [
    "## Solutions:"
   ]
  },
  {
   "cell_type": "code",
   "execution_count": 53,
   "id": "3127ddbb",
   "metadata": {},
   "outputs": [
    {
     "data": {
      "text/plain": [
       "'..RRR'"
      ]
     },
     "execution_count": 53,
     "metadata": {},
     "output_type": "execute_result"
    }
   ],
   "source": [
    "dominoes = \"..R..\"\n",
    "res=''\n",
    "last_seen=''\n",
    "n=len(dominoes)\n",
    "#Update Right Power wave\n",
    "right_pow=[0]*n\n",
    "for i in range(1,n):\n",
    "    if dominoes[i]=='.' and dominoes[i-1]=='R':\n",
    "        right_pow[i]=n\n",
    "        last_seen='R'\n",
    "    elif dominoes[i]=='.' and dominoes[i-1]=='L':\n",
    "        right_pow[i]=0\n",
    "        last_seen='L'\n",
    "    elif dominoes[i]=='.' and dominoes[i-1]=='.':\n",
    "        if last_seen=='R':\n",
    "            right_pow[i]=right_pow[i-1]-1   \n",
    "left_pow=[0]*n\n",
    "last_seen=''\n",
    "#Update Left Power wave\n",
    "for i in reversed(range(1,n)):\n",
    "    if dominoes[i-1]=='.' and dominoes[i]=='L':\n",
    "        left_pow[i-1]=n\n",
    "        last_seen='L'\n",
    "    elif dominoes[i-1]=='.' and dominoes[i]=='R':\n",
    "        left_pow[i-1]=0\n",
    "        last_seen='R'\n",
    "    elif dominoes[i-1]=='.' and dominoes[i]=='.':\n",
    "        if last_seen=='L':\n",
    "            left_pow[i-1]=left_pow[i]-1 \n",
    "\n",
    "for i in range(n):\n",
    "    if dominoes[i]=='.':\n",
    "        if left_pow[i]>right_pow[i]:\n",
    "            res+='L'\n",
    "        elif left_pow[i]<right_pow[i]:\n",
    "            res+='R'\n",
    "        else:\n",
    "            res+='.'\n",
    "    else:\n",
    "        res+=dominoes[i]\n",
    "res"
   ]
  },
  {
   "cell_type": "code",
   "execution_count": 51,
   "id": "dd9755a0",
   "metadata": {},
   "outputs": [
    {
     "data": {
      "text/plain": [
       "[0, 0, 0, 0, 0]"
      ]
     },
     "execution_count": 51,
     "metadata": {},
     "output_type": "execute_result"
    }
   ],
   "source": [
    "left_pow"
   ]
  },
  {
   "cell_type": "markdown",
   "id": "f0ac8792",
   "metadata": {},
   "source": []
  },
  {
   "cell_type": "code",
   "execution_count": 52,
   "id": "3b48b4ab",
   "metadata": {},
   "outputs": [
    {
     "data": {
      "text/plain": [
       "[0, 0, 0, 1, 0]"
      ]
     },
     "execution_count": 52,
     "metadata": {},
     "output_type": "execute_result"
    }
   ],
   "source": [
    "right_pow"
   ]
  },
  {
   "cell_type": "code",
   "execution_count": 33,
   "id": "5c7dcaab",
   "metadata": {},
   "outputs": [
    {
     "data": {
      "text/plain": [
       "[0, 0, 0, 0]"
      ]
     },
     "execution_count": 33,
     "metadata": {},
     "output_type": "execute_result"
    }
   ],
   "source": [
    "left_pow"
   ]
  },
  {
   "cell_type": "code",
   "execution_count": null,
   "id": "3cb72c9b",
   "metadata": {},
   "outputs": [],
   "source": []
  }
 ],
 "metadata": {
  "kernelspec": {
   "display_name": "Python 3",
   "language": "python",
   "name": "python3"
  },
  "language_info": {
   "codemirror_mode": {
    "name": "ipython",
    "version": 3
   },
   "file_extension": ".py",
   "mimetype": "text/x-python",
   "name": "python",
   "nbconvert_exporter": "python",
   "pygments_lexer": "ipython3",
   "version": "3.12.4"
  }
 },
 "nbformat": 4,
 "nbformat_minor": 5
}

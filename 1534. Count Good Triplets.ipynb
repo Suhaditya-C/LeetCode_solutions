{
 "cells": [
  {
   "cell_type": "markdown",
   "id": "7641f755",
   "metadata": {},
   "source": [
    "# 1534. Count Good Triplets\n",
    "\n",
    "Given an array of integers arr, and three integers a, b and c. You need to find the number of good triplets.\n",
    "\n",
    "A triplet (arr[i], arr[j], arr[k]) is good if the following conditions are true:\n",
    "\n",
    "0 <= i < j < k < arr.length\n",
    "|arr[i] - arr[j]| <= a\n",
    "|arr[j] - arr[k]| <= b\n",
    "|arr[i] - arr[k]| <= c\n",
    "Where |x| denotes the absolute value of x.\n",
    "\n",
    "Return the number of good triplets.\n",
    "\n",
    " \n",
    "\n",
    "Example 1:\n",
    "\n",
    "Input: arr = [3,0,1,1,9,7], a = 7, b = 2, c = 3\n",
    "Output: 4\n",
    "Explanation: There are 4 good triplets: [(3,0,1), (3,0,1), (3,1,1), (0,1,1)].\n",
    "Example 2:\n",
    "\n",
    "Input: arr = [1,1,2,2,3], a = 0, b = 0, c = 1\n",
    "Output: 0\n",
    "Explanation: No triplet satisfies all conditions.\n",
    " \n",
    "\n",
    "Constraints:\n",
    "\n",
    "3 <= arr.length <= 100\n",
    "0 <= arr[i] <= 1000\n",
    "0 <= a, b, c <= 1000"
   ]
  },
  {
   "cell_type": "markdown",
   "id": "0a8cf8b0",
   "metadata": {},
   "source": [
    "## Solution: Brute Force"
   ]
  },
  {
   "cell_type": "code",
   "execution_count": 3,
   "id": "00040347",
   "metadata": {},
   "outputs": [
    {
     "data": {
      "text/plain": [
       "4"
      ]
     },
     "execution_count": 3,
     "metadata": {},
     "output_type": "execute_result"
    }
   ],
   "source": [
    "arr = [3,0,1,1,9,7]\n",
    "a = 7\n",
    "b = 2\n",
    "c = 3\n",
    "res=0\n",
    "for i in range(len(arr)-2):\n",
    "    for j in range(i+1,len(arr)-1):\n",
    "        if abs(arr[i]-arr[j])<=a:\n",
    "            for k in range(j+1,len(arr)):\n",
    "                if abs(arr[j]-arr[k])<=b and abs(arr[i]-arr[k])<=c:\n",
    "                    res+=1\n",
    "res"
   ]
  },
  {
   "cell_type": "markdown",
   "id": "b2c3476a",
   "metadata": {},
   "source": [
    "## Efficient Solution: Use of prefix_count: arrays that store no. of elements seen that are <=index: i.e. prefix_cnt[i]=no. of elements seen which are <=x---removes the outer loop"
   ]
  },
  {
   "cell_type": "code",
   "execution_count": 8,
   "id": "67b4c3ca",
   "metadata": {},
   "outputs": [
    {
     "data": {
      "text/plain": [
       "0"
      ]
     },
     "execution_count": 8,
     "metadata": {},
     "output_type": "execute_result"
    }
   ],
   "source": [
    "arr = [1,1,2,2,3]\n",
    "a = 0\n",
    "b = 0\n",
    "c = 1\n",
    "prefix_cnt=[0]*1001 #Since an element's value can be max 1000\n",
    "res=0\n",
    "\n",
    "for j in range(len(arr)-1):\n",
    "    for k in range(j+1,len(arr)):\n",
    "        if abs(arr[j]-arr[k])<=b:\n",
    "            left_bound=max(arr[j]-a,arr[k]-c)\n",
    "            right_bound=min(arr[j]+a,arr[k]+c)\n",
    "            l=max(0,left_bound) #cannot go beyond 0\n",
    "            r=min(1000,right_bound) #cannot go beyond 1000\n",
    "            if l<=r:\n",
    "                res+=prefix_cnt[r]-(0 if l==0 else prefix_cnt[l-1]) #As when l==0, prefix[l-1] will show out of bounds\n",
    "    #Each time j traverses, it sees elements and keeps updates the prefix_cnt- to keep track of no. of elements seen that are <= index\n",
    "    for i in range(arr[j],1001):\n",
    "        prefix_cnt[i]+=1\n",
    "res       "
   ]
  }
 ],
 "metadata": {
  "kernelspec": {
   "display_name": "Python 3",
   "language": "python",
   "name": "python3"
  },
  "language_info": {
   "codemirror_mode": {
    "name": "ipython",
    "version": 3
   },
   "file_extension": ".py",
   "mimetype": "text/x-python",
   "name": "python",
   "nbconvert_exporter": "python",
   "pygments_lexer": "ipython3",
   "version": "3.12.4"
  }
 },
 "nbformat": 4,
 "nbformat_minor": 5
}

{
 "cells": [
  {
   "cell_type": "markdown",
   "id": "a178157d",
   "metadata": {},
   "source": [
    "# 2438. Range Product Queries of Powers\n",
    "\n",
    "Given a positive integer n, there exists a 0-indexed array called powers, composed of the minimum number of powers of 2 that sum to n. The array is sorted in non-decreasing order, and there is only one way to form the array.\n",
    "\n",
    "You are also given a 0-indexed 2D integer array queries, where queries[i] = [lefti, righti]. Each queries[i] represents a query where you have to find the product of all powers[j] with lefti <= j <= righti.\n",
    "\n",
    "Return an array answers, equal in length to queries, where answers[i] is the answer to the ith query. Since the answer to the ith query may be too large, each answers[i] should be returned modulo 109 + 7.\n",
    "\n",
    " \n",
    "\n",
    "Example 1:\n",
    "\n",
    "Input: n = 15, queries = [[0,1],[2,2],[0,3]]\n",
    "Output: [2,4,64]\n",
    "Explanation:\n",
    "For n = 15, powers = [1,2,4,8]. It can be shown that powers cannot be a smaller size.\n",
    "Answer to 1st query: powers[0] * powers[1] = 1 * 2 = 2.\n",
    "Answer to 2nd query: powers[2] = 4.\n",
    "Answer to 3rd query: powers[0] * powers[1] * powers[2] * powers[3] = 1 * 2 * 4 * 8 = 64.\n",
    "Each answer modulo 109 + 7 yields the same answer, so [2,4,64] is returned.\n",
    "Example 2:\n",
    "\n",
    "Input: n = 2, queries = [[0,0]]\n",
    "Output: [2]\n",
    "Explanation:\n",
    "For n = 2, powers = [2].\n",
    "The answer to the only query is powers[0] = 2. The answer modulo 109 + 7 is the same, so [2] is returned."
   ]
  },
  {
   "cell_type": "markdown",
   "id": "a0d68664",
   "metadata": {},
   "source": [
    "## Solution"
   ]
  },
  {
   "cell_type": "code",
   "execution_count": 15,
   "id": "487118a5",
   "metadata": {},
   "outputs": [
    {
     "data": {
      "text/plain": [
       "[2, 4, 64]"
      ]
     },
     "execution_count": 15,
     "metadata": {},
     "output_type": "execute_result"
    }
   ],
   "source": [
    "import math\n",
    "n = 15;queries = [[0,1],[2,2],[0,3]]\n",
    "MOD=10**9+7\n",
    "bin_conv=(bin(n)[2:])\n",
    "m=len(bin_conv)\n",
    "powers=[]\n",
    "res=[]\n",
    "for i in range(m):\n",
    "    if bin_conv[m-1-i]=='1':\n",
    "        powers.append(2**i)\n",
    "for s,e in queries:\n",
    "    prod=1\n",
    "    for i in range(s,e+1):\n",
    "        prod*=powers[i]%MOD\n",
    "    res.append(prod)\n",
    "res"
   ]
  },
  {
   "cell_type": "markdown",
   "id": "9c722343",
   "metadata": {},
   "source": [
    "## Slightly more optimal solution"
   ]
  },
  {
   "cell_type": "code",
   "execution_count": null,
   "id": "8fc513e7",
   "metadata": {},
   "outputs": [
    {
     "data": {
      "text/plain": [
       "[2, 4, 64]"
      ]
     },
     "execution_count": 16,
     "metadata": {},
     "output_type": "execute_result"
    }
   ],
   "source": [
    "import math\n",
    "n = 15; queries = [[0,1],[2,2],[0,3]]   # Input number and queries\n",
    "MOD = 10**9 + 7                        # Modulo value for large results\n",
    "bin_conv = (bin(n)[2:])                # Convert n to binary string (without '0b')\n",
    "m = len(bin_conv)                      # Length of binary string\n",
    "powers = []                            # List to store exponents of powers of 2\n",
    "res = []                               # List to store results for each query\n",
    "\n",
    "for i in range(m):                     # Iterate over each bit position\n",
    "    if bin_conv[m-1-i] == '1':         # If the bit is set (1)\n",
    "        powers.append(i)               # Add the exponent to powers list\n",
    "\n",
    "for s, e in queries:                   # For each query (range s to e)\n",
    "    power_sum = sum(powers[s:e+1])     # Sum the exponents in the range\n",
    "    res.append(pow(2, power_sum, MOD)) # Compute 2^power_sum % MOD and add to result\n",
    "\n",
    "res                                    # Final result: list of answers for each query"
   ]
  }
 ],
 "metadata": {
  "kernelspec": {
   "display_name": "Python 3",
   "language": "python",
   "name": "python3"
  },
  "language_info": {
   "codemirror_mode": {
    "name": "ipython",
    "version": 3
   },
   "file_extension": ".py",
   "mimetype": "text/x-python",
   "name": "python",
   "nbconvert_exporter": "python",
   "pygments_lexer": "ipython3",
   "version": "3.10.9"
  }
 },
 "nbformat": 4,
 "nbformat_minor": 5
}

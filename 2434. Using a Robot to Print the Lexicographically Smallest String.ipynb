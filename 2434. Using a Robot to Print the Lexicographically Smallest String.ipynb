{
 "cells": [
  {
   "cell_type": "markdown",
   "id": "55009cd3",
   "metadata": {},
   "source": [
    "# 2434. Using a Robot to Print the Lexicographically Smallest String\n",
    "\n",
    "You are given a string s and a robot that currently holds an empty string t. Apply one of the following operations until s and t are both empty:\n",
    "\n",
    "Remove the first character of a string s and give it to the robot. The robot will append this character to the string t.\n",
    "Remove the last character of a string t and give it to the robot. The robot will write this character on paper.\n",
    "Return the lexicographically smallest string that can be written on the paper.\n",
    "\n",
    " \n",
    "\n",
    "Example 1:\n",
    "\n",
    "Input: s = \"zza\"\n",
    "Output: \"azz\"\n",
    "Explanation: Let p denote the written string.\n",
    "Initially p=\"\", s=\"zza\", t=\"\".\n",
    "Perform first operation three times p=\"\", s=\"\", t=\"zza\".\n",
    "Perform second operation three times p=\"azz\", s=\"\", t=\"\".\n",
    "Example 2:\n",
    "\n",
    "Input: s = \"bac\"\n",
    "Output: \"abc\"\n",
    "Explanation: Let p denote the written string.\n",
    "Perform first operation twice p=\"\", s=\"c\", t=\"ba\". \n",
    "Perform second operation twice p=\"ab\", s=\"c\", t=\"\". \n",
    "Perform first operation p=\"ab\", s=\"\", t=\"c\". \n",
    "Perform second operation p=\"abc\", s=\"\", t=\"\".\n",
    "Example 3:\n",
    "\n",
    "Input: s = \"bdda\"\n",
    "Output: \"addb\"\n",
    "Explanation: Let p denote the written string.\n",
    "Initially p=\"\", s=\"bdda\", t=\"\".\n",
    "Perform first operation four times p=\"\", s=\"\", t=\"bdda\".\n",
    "Perform second operation four times p=\"addb\", s=\"\", t=\"\".\n",
    " \n",
    "\n",
    "Constraints:\n",
    "\n",
    "1 <= s.length <= 105\n",
    "s consists of only English lowercase letters."
   ]
  },
  {
   "cell_type": "markdown",
   "id": "04919224",
   "metadata": {},
   "source": [
    "## Solution\n",
    "Stack and Greedy"
   ]
  },
  {
   "cell_type": "code",
   "execution_count": 1,
   "id": "cd638ae9",
   "metadata": {},
   "outputs": [],
   "source": [
    "from collections import Counter"
   ]
  },
  {
   "cell_type": "code",
   "execution_count": 44,
   "id": "c0d6673a",
   "metadata": {},
   "outputs": [
    {
     "data": {
      "text/plain": [
       "'fnohopzv'"
      ]
     },
     "execution_count": 44,
     "metadata": {},
     "output_type": "execute_result"
    }
   ],
   "source": [
    "from collections import Counter\n",
    "\n",
    "s = \"vzhofnpo\"\n",
    "# Create a frequency map of characters in s\n",
    "mpp = Counter(s)\n",
    "# Initialize the result list\n",
    "p = []\n",
    "# Initialize the stack (acts as t in the problem)\n",
    "stack = []\n",
    "\n",
    "for i in range(len(s)):\n",
    "    # Operation 1: Remove first character of s and give to robot (push to stack)\n",
    "    stack.append(s[i])\n",
    "    # Update frequency map (since we've processed this character)\n",
    "    mpp[s[i]] -= 1\n",
    "    # If count reaches zero, remove from map\n",
    "    if mpp[s[i]] == 0:\n",
    "        del mpp[s[i]]\n",
    "    # Find the smallest character remaining in s (or empty if none left)\n",
    "    minch = min(mpp) if mpp else ''\n",
    "\n",
    "    # Operation 2: While we can make the result lexicographically smaller\n",
    "    # by popping from stack, do so\n",
    "    while stack and stack[-1] <= minch:\n",
    "        # Pop from stack and append to result\n",
    "        p.append(stack.pop())\n",
    "\n",
    "# After processing all characters, append remaining stack in reverse order\n",
    "p += stack[::-1]\n",
    "# Join the characters to form the final string\n",
    "''.join(map(str, p))"
   ]
  }
 ],
 "metadata": {
  "kernelspec": {
   "display_name": "base",
   "language": "python",
   "name": "python3"
  },
  "language_info": {
   "codemirror_mode": {
    "name": "ipython",
    "version": 3
   },
   "file_extension": ".py",
   "mimetype": "text/x-python",
   "name": "python",
   "nbconvert_exporter": "python",
   "pygments_lexer": "ipython3",
   "version": "3.12.7"
  }
 },
 "nbformat": 4,
 "nbformat_minor": 5
}

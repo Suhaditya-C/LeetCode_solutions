{
 "cells": [
  {
   "attachments": {
    "image-2.png": {
     "image/png": "[encoded data removed]"
    },
    "image.png": {
     "image/png": "[encoded data removed]"
    }
   },
   "cell_type": "markdown",
   "id": "60038f95",
   "metadata": {},
   "source": [
    "# 1504. Count Submatrices With All Ones\n",
    "\n",
    "Given an m x n binary matrix mat, return the number of submatrices that have all ones.\n",
    "\n",
    " \n",
    "\n",
    "Example 1:\n",
    "\n",
    "![image.png](attachment:image.png)\n",
    "\n",
    "Input: mat = [[1,0,1],[1,1,0],[1,1,0]]\n",
    "Output: 13\n",
    "Explanation: \n",
    "There are 6 rectangles of side 1x1.\n",
    "There are 2 rectangles of side 1x2.\n",
    "There are 3 rectangles of side 2x1.\n",
    "There is 1 rectangle of side 2x2. \n",
    "There is 1 rectangle of side 3x1.\n",
    "Total number of rectangles = 6 + 2 + 3 + 1 + 1 = 13.\n",
    "Example 2:\n",
    "\n",
    "![image-2.png](attachment:image-2.png)\n",
    "\n",
    "Input: mat = [[0,1,1,0],[0,1,1,1],[1,1,1,0]]\n",
    "Output: 24\n",
    "Explanation: \n",
    "There are 8 rectangles of side 1x1.\n",
    "There are 5 rectangles of side 1x2.\n",
    "There are 2 rectangles of side 1x3. \n",
    "There are 4 rectangles of side 2x1.\n",
    "There are 2 rectangles of side 2x2. \n",
    "There are 2 rectangles of side 3x1. \n",
    "There is 1 rectangle of side 3x2. \n",
    "Total number of rectangles = 8 + 5 + 2 + 4 + 2 + 2 + 1 = 24.\n",
    " \n",
    "\n",
    "Constraints:\n",
    "\n",
    "1 <= m, n <= 150\n",
    "mat[i][j] is either 0 or 1."
   ]
  },
  {
   "cell_type": "markdown",
   "id": "1bb87b18",
   "metadata": {},
   "source": [
    "## Solution: Dynamic Programming"
   ]
  },
  {
   "cell_type": "code",
   "execution_count": null,
   "id": "4952bc78",
   "metadata": {},
   "outputs": [
    {
     "data": {
      "text/plain": [
       "24"
      ]
     },
     "execution_count": 6,
     "metadata": {},
     "output_type": "execute_result"
    }
   ],
   "source": [
    "mat = [[0,1,1,0],[0,1,1,1],[1,1,1,0]]\n",
    "m,n=len(mat),len(mat[0])\n",
    "\n",
    "#Record heights of rectangles (bars)\n",
    "height= [[0]*n for _ in range(m)]\n",
    "for i in range(m):\n",
    "    for j in range(n):\n",
    "        if mat[i][j]==1:\n",
    "            height[i][j]=height[i-1][j]+1\n",
    "\n",
    "#Iterate from right to left in a row to add contiguos sub rectangles (bars) \n",
    "# with the min height upto the end of the row or a zero\n",
    "\n",
    "dp=[[0]*n for _ in range(m)] # no. of submatrices with given condition formed with bottom corner at (i,j)\n",
    "res=0\n",
    "for i in range(m):\n",
    "    for j in range(n):\n",
    "        min_height=height[i][j]\n",
    "        for k in range(j,-1,-1):\n",
    "            if height[i][j]==0:\n",
    "                break\n",
    "            min_height=min(min_height,height[i][k])\n",
    "            dp[i][j]+=min_height\n",
    "        res+=dp[i][j]\n",
    "res\n"
   ]
  },
  {
   "cell_type": "code",
   "execution_count": 7,
   "id": "2fc847d3",
   "metadata": {},
   "outputs": [
    {
     "data": {
      "text/plain": [
       "[[0, 1, 1, 0], [0, 2, 2, 1], [1, 3, 3, 0]]"
      ]
     },
     "execution_count": 7,
     "metadata": {},
     "output_type": "execute_result"
    }
   ],
   "source": [
    "height"
   ]
  }
 ],
 "metadata": {
  "kernelspec": {
   "display_name": "Python 3",
   "language": "python",
   "name": "python3"
  },
  "language_info": {
   "codemirror_mode": {
    "name": "ipython",
    "version": 3
   },
   "file_extension": ".py",
   "mimetype": "text/x-python",
   "name": "python",
   "nbconvert_exporter": "python",
   "pygments_lexer": "ipython3",
   "version": "3.10.9"
  }
 },
 "nbformat": 4,
 "nbformat_minor": 5
}

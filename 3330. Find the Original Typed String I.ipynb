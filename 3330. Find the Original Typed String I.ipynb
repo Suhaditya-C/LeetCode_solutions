{
 "cells": [
  {
   "cell_type": "markdown",
   "id": "b1f067b6",
   "metadata": {},
   "source": [
    "# Find the Original Typed String I\n",
    "\n",
    "Alice is attempting to type a specific string on her computer. However, she tends to be clumsy and may press a key for too long, resulting in a character being typed multiple times.\n",
    "\n",
    "Although Alice tried to focus on her typing, she is aware that she may still have done this at most once.\n",
    "\n",
    "You are given a string word, which represents the final output displayed on Alice's screen.\n",
    "\n",
    "Return the total number of possible original strings that Alice might have intended to type.\n",
    "\n",
    " \n",
    "\n",
    "Example 1:\n",
    "\n",
    "Input: word = \"abbcccc\"\n",
    "\n",
    "Output: 5\n",
    "\n",
    "Explanation:\n",
    "\n",
    "The possible strings are: \"abbcccc\", \"abbccc\", \"abbcc\", \"abbc\", and \"abcccc\".\n",
    "\n",
    "Example 2:\n",
    "\n",
    "Input: word = \"abcd\"\n",
    "\n",
    "Output: 1\n",
    "\n",
    "Explanation:\n",
    "\n",
    "The only possible string is \"abcd\".\n",
    "\n",
    "Example 3:\n",
    "\n",
    "Input: word = \"aaaa\"\n",
    "\n",
    "Output: 4\n",
    "\n",
    " \n",
    "\n",
    "Constraints:\n",
    "\n",
    "1 <= word.length <= 100\n",
    "word consists only of lowercase English letters."
   ]
  },
  {
   "cell_type": "markdown",
   "id": "9551ad64",
   "metadata": {},
   "source": [
    "## Solution"
   ]
  },
  {
   "cell_type": "code",
   "execution_count": 4,
   "id": "63349835",
   "metadata": {},
   "outputs": [
    {
     "data": {
      "text/plain": [
       "5"
      ]
     },
     "execution_count": 4,
     "metadata": {},
     "output_type": "execute_result"
    }
   ],
   "source": [
    "word = \"abbcccc\"\n",
    "mpp={}\n",
    "res=1\n",
    "for i in range(1,len(word)):\n",
    "    if word[i-1]==word[i]:\n",
    "        res+=1\n",
    "res"
   ]
  },
  {
   "cell_type": "markdown",
   "id": "6970699d",
   "metadata": {},
   "source": []
  }
 ],
 "metadata": {
  "kernelspec": {
   "display_name": "Python 3",
   "language": "python",
   "name": "python3"
  },
  "language_info": {
   "codemirror_mode": {
    "name": "ipython",
    "version": 3
   },
   "file_extension": ".py",
   "mimetype": "text/x-python",
   "name": "python",
   "nbconvert_exporter": "python",
   "pygments_lexer": "ipython3",
   "version": "3.10.9"
  }
 },
 "nbformat": 4,
 "nbformat_minor": 5
}

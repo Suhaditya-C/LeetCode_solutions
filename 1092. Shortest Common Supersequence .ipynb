{
 "cells": [
  {
   "cell_type": "markdown",
   "metadata": {},
   "source": [
    "## 1092. Shortest Common Supersequence \n",
    "\n",
    "Given two strings str1 and str2, return the shortest string that has both str1 and str2 as subsequences. If there are multiple valid strings, return any of them.\n",
    "\n",
    "A string s is a subsequence of string t if deleting some number of characters from t (possibly 0) results in the string s.\n",
    "\n",
    " \n",
    "\n",
    "Example 1:\n",
    "\n",
    "Input: str1 = \"abac\", str2 = \"cab\"\n",
    "Output: \"cabac\"\n",
    "Explanation: \n",
    "str1 = \"abac\" is a subsequence of \"cabac\" because we can delete the first \"c\".\n",
    "str2 = \"cab\" is a subsequence of \"cabac\" because we can delete the last \"ac\".\n",
    "The answer provided is the shortest such string that satisfies these properties.\n",
    "Example 2:\n",
    "\n",
    "Input: str1 = \"aaaaaaaa\", str2 = \"aaaaaaaa\"\n",
    "Output: \"aaaaaaaa\"\n",
    " \n",
    "\n",
    "Constraints:\n",
    "\n",
    "1 <= str1.length, str2.length <= 1000\n",
    "str1 and str2 consist of lowercase English letters."
   ]
  },
  {
   "cell_type": "markdown",
   "metadata": {},
   "source": [
    "### Recursive Solution"
   ]
  },
  {
   "cell_type": "code",
   "execution_count": 4,
   "metadata": {},
   "outputs": [
    {
     "data": {
      "text/plain": [
       "3"
      ]
     },
     "execution_count": 4,
     "metadata": {},
     "output_type": "execute_result"
    }
   ],
   "source": [
    "#Prerequesite- Longest Common Subsequence-- character order should be same\n",
    "s1='abcde';s2='ace'\n",
    "# Solve by Recursion\n",
    "def LCS(i,j,s1,s2): #i and j are indices starting from end--reason--string gets exhausted while shifting indices from end and slice to beginning of the string\n",
    "    #Base Case\n",
    "    if i<0 or j<0:\n",
    "        return 0\n",
    "    #If end chars match\n",
    "    if s1[i]==s2[j]:\n",
    "        return 1+LCS(i-1,j-1,s1,s2) #when characters match shift both the indices by 1 to the left\n",
    "    else:\n",
    "        case1=LCS(i,j-1,s1,s2) #shift index to the left of any one of the strings\n",
    "        case2=LCS(i-1,j,s1,s2) #shift index to the left of the other strings\n",
    "        return max(case1,case2) #returs the max no. of characters matching in order, hence the LCS\n",
    "LCS(len(s1)-1,len(s2)-1,s1,s2)\n",
    "# Time complexity-2^n x 2^m--too high--therefore remove repetions to improve efficiency--Use Dynamic Programming "
   ]
  },
  {
   "cell_type": "markdown",
   "metadata": {},
   "source": [
    "### Memoisation -- Dynamic Programming to improve recursion efficiency\n",
    "\n",
    "Identify Subproblems: Divide the main problem into smaller, independent subproblems, i.e., F(n-1) and F(n-2)\n",
    "Store Solutions: Solve each subproblem and store the solution in a table or array so that we do not have to recompute the same again.\n",
    "Build Up Solutions: Use the stored solutions to build up the solution to the main problem. For F(n), look up F(n-1) and F(n-2) in the table and add them.\n",
    "Avoid Recomputation: By storing solutions, DP ensures that each subproblem (for example, F(2)) is solved only once, reducing computation time."
   ]
  },
  {
   "cell_type": "code",
   "execution_count": 18,
   "metadata": {},
   "outputs": [
    {
     "data": {
      "text/plain": [
       "[[0, -1, -1, -1],\n",
       " [-1, 1, -1, -1],\n",
       " [0, 1, -1, -1],\n",
       " [0, 1, 2, -1],\n",
       " [0, 1, 2, -1],\n",
       " [-1, -1, -1, 3]]"
      ]
     },
     "execution_count": 18,
     "metadata": {},
     "output_type": "execute_result"
    }
   ],
   "source": [
    "# Store results of recursion in dp array to avoid recomputation of the same result\n",
    "s1='abcde';s2='ace'\n",
    "m,n=len(s1),len(s2)\n",
    "dp=[[-1 for _ in range(n+1)] for _ in range(m+1)] #Store result of s1[i] and s2[j] matching count at dp[i][j]\n",
    "# Solve by Recursion\n",
    "def LCS(i,j,s1,s2,dp): #i and j are indices starting from end--reason--string gets exhausted while shifting indices from end and slice to beginning of the \n",
    "    \n",
    "    #Base Case\n",
    "    #if i<0 or j<0: cannot be handled in arrays, thus extra space in dp is taken\n",
    "    if i==0 or j==0: #String is exhausted\n",
    "        dp[i][j]=0\n",
    "        return 0\n",
    "    \n",
    "    # If already computed, return that-- this is the improvement part of the algo\n",
    "    if dp[i][j]!=-1:\n",
    "        return dp[i][j]\n",
    "    \n",
    "    #If end chars match\n",
    "    if s1[i-1]==s2[j-1]: # as dp array is shifted by 1 index in each row and col\n",
    "        dp[i][j]= 1+LCS(i-1,j-1,s1,s2,dp) #when characters match shift both the indices by 1 to the left\n",
    "        return dp[i][j]\n",
    "    else:\n",
    "        case1=LCS(i,j-1,s1,s2,dp) #shift index to the left of any one of the strings\n",
    "        case2=LCS(i-1,j,s1,s2,dp) #shift index to the left of the other strings\n",
    "        dp[i][j]=max(case1,case2)\n",
    "        return dp[i][j] #returs the max no. of characters matching in order, hence the LCS\n",
    "LCS(m,n,s1,s2,dp)\n",
    "# Time complexity-2^n x 2^m--too high--therefore remove repetions to improve efficiency--Use Dynamic Programming\n",
    "dp "
   ]
  },
  {
   "cell_type": "markdown",
   "metadata": {},
   "source": [
    "### Using Tabulation Approach – O(n) Time and O(n) Space\n",
    "In this approach, we use an array of size (n + 1), often called dp[], to store Fibonacci numbers. The array is initialized with base values at the appropriate indices, such as dp[0] = 0 and dp[1] = 1. Then, we iteratively calculate Fibonacci values from dp[2] to dp[n] by using the relation dp[i] = dp[i-1] + dp[i-2]. This allows us to efficiently compute Fibonacci numbers in a loop. Finally, the value at dp[n] gives the Fibonacci number for the input n, as each index holds the answer for its corresponding Fibonacci number."
   ]
  },
  {
   "cell_type": "code",
   "execution_count": 29,
   "metadata": {},
   "outputs": [
    {
     "data": {
      "text/plain": [
       "[[0, 0, 0, 0],\n",
       " [0, 1, 1, 1],\n",
       " [0, 1, 1, 1],\n",
       " [0, 1, 2, 2],\n",
       " [0, 1, 2, 2],\n",
       " [0, 1, 2, 3]]"
      ]
     },
     "execution_count": 29,
     "metadata": {},
     "output_type": "execute_result"
    }
   ],
   "source": [
    "# Store results of recursion in dp array to avoid recomputation of the same result\n",
    "s1='abcde';s2='ace'\n",
    "m,n=len(s1),len(s2)\n",
    "dp=[]\n",
    "dp = [[0] * (n + 1) for _ in range(m + 1)]\n",
    "\n",
    "for i in range(1,m+1): #Start from 1 to avoid index errors\n",
    "    for j in range(1, n + 1):  \n",
    "        #If end chars match\n",
    "        if s1[i-1]==s2[j-1]: # as dp array is shifted by 1 index in each row and col\n",
    "            dp[i][j]= 1+dp[i-1][j-1]#LCS(i-1,j-1,s1,s2,dp) #when characters match shift both the indices by 1 to the left\n",
    "            #return dp[i][j]\n",
    "        else:\n",
    "            case1=dp[i][j-1]#LCS(i,j-1,s1,s2,dp) #shift index to the left of any one of the strings\n",
    "            case2=dp[i-1][j]#LCS(i-1,j,s1,s2,dp) #shift index to the left of the other strings\n",
    "            dp[i][j]=max(case1,case2)\n",
    "            #return dp[i][j] #returs the max no. of characters matching in order, hence the LCS\n",
    "# Time complexity-2^n x 2^m--too high--therefore remove repetions to improve efficiency--Use Dynamic Programming\n",
    "dp[m][n]\n",
    "dp"
   ]
  },
  {
   "cell_type": "markdown",
   "metadata": {},
   "source": [
    "To print LCS-- use dp-- start from last value(max value)-- trace its origin--i.e. where the characters match \n",
    "dp[i][j]= 1+dp[i-1][j-1] --- where characters match, 1 is added to diagonally previous element.. i.e. after matching characters go to the element posed diagonally to the current element"
   ]
  },
  {
   "cell_type": "code",
   "execution_count": 48,
   "metadata": {},
   "outputs": [
    {
     "data": {
      "text/plain": [
       "'ace'"
      ]
     },
     "execution_count": 48,
     "metadata": {},
     "output_type": "execute_result"
    }
   ],
   "source": [
    "# Printing LCS\n",
    "i=m;j=n\n",
    "lcs=''\n",
    "while i>0 and j>0:\n",
    "    if dp[i][j]>dp[i-1][j] and dp[i][j]>dp[i][j-1]:\n",
    "        lcs+=(s1[i-1])\n",
    "        i-=1\n",
    "        j-=1\n",
    "    elif dp[i][j-1]<=dp[i-1][j]: #move to index with higher count\n",
    "        i=i-1\n",
    "    else:\n",
    "        j=j-1\n",
    "lcs[::-1]"
   ]
  },
  {
   "cell_type": "markdown",
   "metadata": {},
   "source": [
    "### Shortest Common Supersequence = Concat of 2 strings - LCS \n",
    "But the position of LCS matters when it comes to returning the SCS string--- Use dp table to find that"
   ]
  },
  {
   "cell_type": "code",
   "execution_count": 55,
   "metadata": {},
   "outputs": [
    {
     "data": {
      "text/plain": [
       "'cabac'"
      ]
     },
     "execution_count": 55,
     "metadata": {},
     "output_type": "execute_result"
    }
   ],
   "source": [
    "str1 = \"abac\"; str2 = \"cab\"\n",
    "s=str2+str1\n",
    "s = s.replace(\"ab\", \"\", 1)\n",
    "s"
   ]
  },
  {
   "cell_type": "markdown",
   "metadata": {},
   "source": [
    "For Finding Length of SCS"
   ]
  },
  {
   "cell_type": "code",
   "execution_count": 66,
   "metadata": {},
   "outputs": [
    {
     "data": {
      "text/plain": [
       "'bbbab'"
      ]
     },
     "execution_count": 66,
     "metadata": {},
     "output_type": "execute_result"
    }
   ],
   "source": [
    "def LCS(s1,s2):\n",
    "    m,n=len(s1),len(s2)\n",
    "    dp=[]\n",
    "    dp = [[0] * (n + 1) for _ in range(m + 1)]\n",
    "\n",
    "    for i in range(1,m+1): #Start from 1 to avoid index errors\n",
    "        for j in range(1, n + 1):  \n",
    "            #If end chars match\n",
    "            if s1[i-1]==s2[j-1]: # as dp array is shifted by 1 index in each row and col\n",
    "                dp[i][j]= 1+dp[i-1][j-1]#LCS(i-1,j-1,s1,s2,dp) #when characters match shift both the indices by 1 to the left\n",
    "                #return dp[i][j]\n",
    "            else:\n",
    "                case1=dp[i][j-1]#LCS(i,j-1,s1,s2,dp) #shift index to the left of any one of the strings\n",
    "                case2=dp[i-1][j]#LCS(i-1,j,s1,s2,dp) #shift index to the left of the other strings\n",
    "                dp[i][j]=max(case1,case2)\n",
    "    # Printing LCS\n",
    "    lcs=''\n",
    "    while i>0 and j>0:\n",
    "        if dp[i][j]>dp[i-1][j] and dp[i][j]>dp[i][j-1]:\n",
    "            lcs+=(s1[i-1])\n",
    "            i-=1\n",
    "            j-=1\n",
    "        elif dp[i][j-1]<=dp[i-1][j]: #move to index with higher count\n",
    "            i=i-1\n",
    "        else:\n",
    "            j=j-1\n",
    "    return lcs[::-1]\n",
    "\n",
    "str1 = \"bbbaaaba\"; str2 = \"bbababbb\"\n",
    "# length of SCS= length of str1+length of str2 - length of LCS"
   ]
  },
  {
   "cell_type": "markdown",
   "metadata": {},
   "source": [
    "Finding SCS string"
   ]
  },
  {
   "cell_type": "markdown",
   "metadata": {},
   "source": [
    "Using dp table, \n",
    "when chars doesnot match, move to the index where count is greater and add the character for which row/col is skipped as char does not match \n",
    "where character matches, add the char once and move to the diagonal element"
   ]
  },
  {
   "cell_type": "code",
   "execution_count": 71,
   "metadata": {},
   "outputs": [
    {
     "data": {
      "text/plain": [
       "[[0, 0, 0, 0, 0, 0, 0, 0, 0],\n",
       " [0, 1, 1, 1, 1, 1, 1, 1, 1],\n",
       " [0, 1, 2, 2, 2, 2, 2, 2, 2],\n",
       " [0, 1, 2, 2, 3, 3, 3, 3, 3],\n",
       " [0, 1, 2, 3, 3, 4, 4, 4, 4],\n",
       " [0, 1, 2, 3, 3, 4, 4, 4, 4],\n",
       " [0, 1, 2, 3, 3, 4, 4, 4, 4],\n",
       " [0, 1, 2, 3, 4, 4, 5, 5, 5],\n",
       " [0, 1, 2, 3, 4, 5, 5, 5, 5]]"
      ]
     },
     "execution_count": 71,
     "metadata": {},
     "output_type": "execute_result"
    }
   ],
   "source": [
    "def LCS(s1,s2):\n",
    "    m,n=len(s1),len(s2)\n",
    "    dp=[]\n",
    "    dp = [[0] * (n + 1) for _ in range(m + 1)]\n",
    "\n",
    "    for i in range(1,m+1): #Start from 1 to avoid index errors\n",
    "        for j in range(1, n + 1):  \n",
    "            #If end chars match\n",
    "            if s1[i-1]==s2[j-1]: # as dp array is shifted by 1 index in each row and col\n",
    "                dp[i][j]= 1+dp[i-1][j-1]#LCS(i-1,j-1,s1,s2,dp) #when characters match shift both the indices by 1 to the left\n",
    "                #return dp[i][j]\n",
    "            else:\n",
    "                case1=dp[i][j-1]#LCS(i,j-1,s1,s2,dp) #shift index to the left of any one of the strings\n",
    "                case2=dp[i-1][j]#LCS(i-1,j,s1,s2,dp) #shift index to the left of the other strings\n",
    "                dp[i][j]=max(case1,case2)\n",
    "    return dp\n",
    "\n",
    "str1 = \"bbbaaaba\"; str2 = \"bbababbb\"\n",
    "dp=LCS(str1,str2)\n",
    "dp"
   ]
  },
  {
   "cell_type": "code",
   "execution_count": 84,
   "metadata": {},
   "outputs": [
    {
     "data": {
      "text/plain": [
       "'bbabaaabbba'"
      ]
     },
     "execution_count": 84,
     "metadata": {},
     "output_type": "execute_result"
    }
   ],
   "source": [
    "scs=''\n",
    "i,j=len(dp)-1,len(dp[0])-1\n",
    "while i>0 and j>0:\n",
    "    if dp[i][j]>dp[i-1][j] and dp[i][j]>dp[i][j-1]: #character match-- add the char once only\n",
    "        scs+=str1[i-1]\n",
    "        i-=1\n",
    "        j-=1\n",
    "    elif dp[i][j-1]<=dp[i-1][j]: #move to index with higher count\n",
    "        scs+=str1[i-1] #Row is skipped so add the char to SCS as unmatched char is also a part of SCS\n",
    "        i=i-1\n",
    "    else:              #Col is skipped so add the char to SCS as unmatched char is also a part of SCS\n",
    "        scs+=str2[j-1]\n",
    "        j=j-1\n",
    "while i>0:  #If j reaches 0 first above loop terminates,we will have to print remaining chars unmatched at i\n",
    "    scs+=str1[i-1]\n",
    "    i-=1\n",
    "while j>0:  #If i reaches 0 first above loop terminates,we will have to print remaining chars unmatched at j\n",
    "    scs+=str2[j-1]\n",
    "    j-=1\n",
    "\n",
    "scs[::-1]"
   ]
  },
  {
   "cell_type": "markdown",
   "metadata": {},
   "source": []
  }
 ],
 "metadata": {
  "kernelspec": {
   "display_name": "Python 3",
   "language": "python",
   "name": "python3"
  },
  "language_info": {
   "codemirror_mode": {
    "name": "ipython",
    "version": 3
   },
   "file_extension": ".py",
   "mimetype": "text/x-python",
   "name": "python",
   "nbconvert_exporter": "python",
   "pygments_lexer": "ipython3",
   "version": "3.12.4"
  }
 },
 "nbformat": 4,
 "nbformat_minor": 2
}

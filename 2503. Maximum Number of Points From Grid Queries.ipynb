{
 "cells": [
  {
   "attachments": {
    "8488cfdb-942c-48d7-9f47-b0cc4209f0f9.png": {
     "image/png": "[encoded data removed]"
    },
    "aa486ce5-b2ce-46dc-ae85-0c026903d43c.png": {
     "image/png": "[encoded data removed]"
    }
   },
   "cell_type": "markdown",
   "id": "be0f035f-ce29-49a7-b6b0-fa079ff5c9f7",
   "metadata": {},
   "source": [
    "# 2503. Maximum Number of Points From Grid Queries\n",
    "\n",
    "You are given an m x n integer matrix grid and an array queries of size k.\n",
    "\n",
    "Find an array answer of size k such that for each integer queries[i] you start in the top left cell of the matrix and repeat the following process:\n",
    "\n",
    "If queries[i] is strictly greater than the value of the current cell that you are in, then you get one point if it is your first time visiting this cell, and you can move to any adjacent cell in all 4 directions: up, down, left, and right.\n",
    "Otherwise, you do not get any points, and you end this process.\n",
    "After the process, answer[i] is the maximum number of points you can get. Note that for each query you are allowed to visit the same cell multiple times.\n",
    "\n",
    "Return the resulting array answer.\n",
    "\n",
    " \n",
    "![image.png](attachment:8488cfdb-942c-48d7-9f47-b0cc4209f0f9.png)\n",
    "\n",
    "Example 1:\n",
    "\n",
    "\n",
    "Input: grid = [[1,2,3],[2,5,7],[3,5,1]], queries = [5,6,2]\n",
    "Output: [5,8,1]\n",
    "Explanation: The diagrams above show which cells we visit to get points for each query.\n",
    "Example 2:\n",
    "\n",
    "![image.png](attachment:aa486ce5-b2ce-46dc-ae85-0c026903d43c.png)\n",
    "\n",
    "Input: grid = [[5,2,1],[1,1,2]], queries = [3]\n",
    "Output: [0]\n",
    "Explanation: We can not get any points because the value of the top left cell is already greater than or equal to 3.\n",
    " \n",
    "\n",
    "Constraints:\n",
    "\n",
    "m == grid.length\n",
    "n == grid[i].length\n",
    "2 <= m, n <= 1000\n",
    "4 <= m * n <= 105\n",
    "k == queries.length\n",
    "1 <= k <= 104\n",
    "1 <= grid[i][j], queries[i] <= 106"
   ]
  },
  {
   "cell_type": "markdown",
   "id": "d54d5ed1-bd52-4501-ab69-00883d878444",
   "metadata": {},
   "source": [
    "## Brute Force (Time Limit Exceeded)"
   ]
  },
  {
   "cell_type": "code",
   "execution_count": 98,
   "id": "4b73e765-4c70-4153-95bc-a2beab816bf2",
   "metadata": {},
   "outputs": [],
   "source": [
    "grid = [[1,2,3],[2,5,7],[3,5,1]]; queries = [5,6,2]"
   ]
  },
  {
   "cell_type": "code",
   "execution_count": 99,
   "id": "742aa70e-84c7-4709-9353-ed35df875378",
   "metadata": {},
   "outputs": [],
   "source": [
    "import heapq\n",
    "from collections import defaultdict"
   ]
  },
  {
   "cell_type": "code",
   "execution_count": 100,
   "id": "947e0d3c-dde6-4100-bffe-c2a3aacfc37e",
   "metadata": {},
   "outputs": [
    {
     "data": {
      "text/plain": [
       "[5, 8, 1]"
      ]
     },
     "execution_count": 100,
     "metadata": {},
     "output_type": "execute_result"
    }
   ],
   "source": [
    "dir=[[0,1],[1,0],[-1,0],[0,-1]]\n",
    "res=[]\n",
    "m=len(grid)\n",
    "n=len(grid[0])\n",
    "for num in queries:\n",
    "    visited=[[False]*n for _ in range(m)]\n",
    "    pq=[]\n",
    "    heapq.heappush(pq,(grid[0][0],0,0))#start from top left\n",
    "    if grid[0][0]<num:\n",
    "        visited[0][0]=True #mark that cell visited\n",
    "        count=1    \n",
    "        while pq:\n",
    "            val,r,c=heapq.heappop(pq)\n",
    "            for d in dir:\n",
    "                nr=r+d[0]\n",
    "                nc=c+d[1]\n",
    "                #check for out of bounds and the condition concerning queries\n",
    "                if 0<=nr<m and 0<=nc<n and grid[nr][nc]<num and visited[nr][nc]==False:\n",
    "                    #mark visited\n",
    "                    visited[nr][nc]=True\n",
    "                    count+=1\n",
    "                    heapq.heappush(pq,(grid[nr][nc],nr,nc))\n",
    "    \n",
    "        res.append(count)  \n",
    "    else:\n",
    "        res.append(0)\n",
    "res"
   ]
  },
  {
   "cell_type": "markdown",
   "id": "3a0f01aa-1999-4356-a36e-4e35ded6feb7",
   "metadata": {},
   "source": [
    "## Efficient Solution--- removing redundancies\n",
    "answering the queries in increasing order removes redundancies as e dont have to re-traverse the elements already visited, we directly resume from the point where we left earlier in the previous iteration"
   ]
  },
  {
   "cell_type": "code",
   "execution_count": 101,
   "id": "a52a7a09-04a1-4068-89d3-a93cd836f7ff",
   "metadata": {
    "scrolled": true
   },
   "outputs": [
    {
     "data": {
      "text/plain": [
       "[5, 8, 1]"
      ]
     },
     "execution_count": 101,
     "metadata": {},
     "output_type": "execute_result"
    }
   ],
   "source": [
    "map=defaultdict(int) # for mapping the query and their corresponding result\n",
    "qsort=sorted(queries)\n",
    "dir=[[0,1],[1,0],[-1,0],[0,-1]]\n",
    "m=len(grid)\n",
    "n=len(grid[0])\n",
    "visited=[[False]*n for _ in range(m)] #to track visited cells\n",
    "count=0\n",
    "pq=[(grid[0][0],0,0)] #start with top left cell\n",
    "visited[0][0]=True #mark visited\n",
    "for num in qsort:\n",
    "    while pq and pq[0][0]<num: #loop runs till queue is non empty and the min element (leftmost in a priority queue) < query\n",
    "        count+=1 #increment count\n",
    "        val,r,c=heapq.heappop(pq)\n",
    "        for d in dir: #check all directions\n",
    "            nr=r+d[0] #update next rows and columns\n",
    "            nc=c+d[1]\n",
    "            #check for out of bounds and if cell is visited\n",
    "            if 0<=nr<m and 0<=nc<n and visited[nr][nc]==False:\n",
    "                #mark visited\n",
    "                visited[nr][nc]=True\n",
    "                heapq.heappush(pq,(grid[nr][nc],nr,nc)) #mark the unvisited cell satisfying the condition in question and push it in the queue for exploring the cell\n",
    "    map[num]=count\n",
    "res=[map[q] for q in queries ]\n",
    "res"
   ]
  }
 ],
 "metadata": {
  "kernelspec": {
   "display_name": "Python 3 (ipykernel)",
   "language": "python",
   "name": "python3"
  },
  "language_info": {
   "codemirror_mode": {
    "name": "ipython",
    "version": 3
   },
   "file_extension": ".py",
   "mimetype": "text/x-python",
   "name": "python",
   "nbconvert_exporter": "python",
   "pygments_lexer": "ipython3",
   "version": "3.12.4"
  }
 },
 "nbformat": 4,
 "nbformat_minor": 5
}

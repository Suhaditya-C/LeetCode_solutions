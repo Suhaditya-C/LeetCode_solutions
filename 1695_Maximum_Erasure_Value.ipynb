{
  "nbformat": 4,
  "nbformat_minor": 0,
  "metadata": {
    "colab": {
      "provenance": [],
      "authorship_tag": "ABX9TyOWoUh7D+dUAoq/3H56VgPE",
      "include_colab_link": true
    },
    "kernelspec": {
      "name": "python3",
      "display_name": "Python 3"
    },
    "language_info": {
      "name": "python"
    }
  },
  "cells": [
    {
      "cell_type": "markdown",
      "metadata": {
        "id": "view-in-github",
        "colab_type": "text"
      },
      "source": [
        "<a href=\"https://colab.research.google.com/github/Suhaditya-C/LeetCode_solutions/blob/main/1695_Maximum_Erasure_Value.ipynb\" target=\"_parent\"><img src=\"https://colab.research.google.com/assets/colab-badge.svg\" alt=\"Open In Colab\"/></a>"
      ]
    },
    {
      "cell_type": "markdown",
      "source": [
        "# 1695. Maximum Erasure Value\n",
        "\n",
        "You are given an array of positive integers nums and want to erase a subarray containing unique elements. The score you get by erasing the subarray is equal to the sum of its elements.\n",
        "\n",
        "Return the maximum score you can get by erasing exactly one subarray.\n",
        "\n",
        "An array b is called to be a subarray of a if it forms a contiguous subsequence of a, that is, if it is equal to a[l],a[l+1],...,a[r] for some (l,r).\n",
        "\n",
        "\n",
        "\n",
        "Example 1:\n",
        "\n",
        "Input: nums = [4,2,4,5,6]\n",
        "Output: 17\n",
        "Explanation: The optimal subarray here is [2,4,5,6].\n",
        "Example 2:\n",
        "\n",
        "Input: nums = [5,2,1,2,5,2,1,2,5]\n",
        "Output: 8\n",
        "Explanation: The optimal subarray here is [5,2,1] or [1,2,5].\n",
        "\n",
        "\n",
        "Constraints:\n",
        "\n",
        "1 <= nums.length <= 105\n",
        "1 <= nums[i] <= 104"
      ],
      "metadata": {
        "id": "LrhE11zXo8Bd"
      }
    },
    {
      "cell_type": "markdown",
      "source": [
        "## Solution"
      ],
      "metadata": {
        "id": "aZGk9VkFo_eO"
      }
    },
    {
      "cell_type": "code",
      "execution_count": 24,
      "metadata": {
        "colab": {
          "base_uri": "https://localhost:8080/"
        },
        "id": "eQQwUjWEo1kj",
        "outputId": "c7a0455e-2cbe-47f7-8930-5c6785977225"
      },
      "outputs": [
        {
          "output_type": "execute_result",
          "data": {
            "text/plain": [
              "8"
            ]
          },
          "metadata": {},
          "execution_count": 24
        }
      ],
      "source": [
        "nums = [5,2,1,2,5,2,1,2,5]\n",
        "i=0\n",
        "j=0\n",
        "seen=set()\n",
        "arr_sum=0\n",
        "res=0\n",
        "while j<len(nums) and i<=j:\n",
        "    if nums[j] in seen:\n",
        "        while nums[j] in seen:\n",
        "            seen.remove(nums[i])\n",
        "            arr_sum-=nums[i]\n",
        "            i+=1\n",
        "    arr_sum+=nums[j]\n",
        "    seen.add(nums[j])\n",
        "    j+=1\n",
        "    res=max(res,arr_sum)\n",
        "\n",
        "res"
      ]
    }
  ]
}
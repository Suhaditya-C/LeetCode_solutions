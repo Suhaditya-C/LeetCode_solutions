{
 "cells": [
  {
   "cell_type": "markdown",
   "id": "a7bfd9bc",
   "metadata": {},
   "source": [
    "# 152. Maximum Product Subarray\n",
    "\n",
    "Given an integer array nums, find a subarray that has the largest product, and return the product.\n",
    "\n",
    "The test cases are generated so that the answer will fit in a 32-bit integer.\n",
    "\n",
    " \n",
    "\n",
    "Example 1:\n",
    "\n",
    "Input: nums = [2,3,-2,4]\n",
    "Output: 6\n",
    "Explanation: [2,3] has the largest product 6.\n",
    "Example 2:\n",
    "\n",
    "Input: nums = [-2,0,-1]\n",
    "Output: 0\n",
    "Explanation: The result cannot be 2, because [-2,-1] is not a subarray.\n",
    " \n",
    "\n",
    "Constraints:\n",
    "\n",
    "1 <= nums.length <= 2 * 104\n",
    "-10 <= nums[i] <= 10\n",
    "The product of any subarray of nums is guaranteed to fit in a 32-bit integer."
   ]
  },
  {
   "cell_type": "markdown",
   "id": "02a8f98e",
   "metadata": {},
   "source": [
    "## Solution:\n",
    "Modified Kadane's algo\n",
    "\n",
    "You can't just drop subarrays with negative products.\n",
    "\n",
    "You also have to keep track of both maximum and minimum products at each index because a large negative product can become the new maximum if you hit another negative number.\n"
   ]
  },
  {
   "cell_type": "code",
   "execution_count": 3,
   "id": "1b090819",
   "metadata": {},
   "outputs": [
    {
     "data": {
      "text/plain": [
       "6"
      ]
     },
     "execution_count": 3,
     "metadata": {},
     "output_type": "execute_result"
    }
   ],
   "source": [
    "nums = [2,3,-2,4]\n",
    "maxprod=minprod=res=nums[0]\n",
    "for num in nums[1:]:\n",
    "    if num<0:\n",
    "        maxprod,minprod=minprod,maxprod\n",
    "    maxprod=max(num,num*maxprod)\n",
    "    minprod=min(num,num*minprod)\n",
    "    res=max(res,maxprod)\n",
    "res"
   ]
  }
 ],
 "metadata": {
  "kernelspec": {
   "display_name": "Python 3",
   "language": "python",
   "name": "python3"
  },
  "language_info": {
   "codemirror_mode": {
    "name": "ipython",
    "version": 3
   },
   "file_extension": ".py",
   "mimetype": "text/x-python",
   "name": "python",
   "nbconvert_exporter": "python",
   "pygments_lexer": "ipython3",
   "version": "3.10.9"
  }
 },
 "nbformat": 4,
 "nbformat_minor": 5
}

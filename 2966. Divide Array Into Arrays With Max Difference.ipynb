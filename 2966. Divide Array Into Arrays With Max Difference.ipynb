{
 "cells": [
  {
   "cell_type": "markdown",
   "id": "5c7779e3",
   "metadata": {},
   "source": [
    "# 2966. Divide Array Into Arrays With Max Difference\n",
    "\n",
    "You are given an integer array nums of size n where n is a multiple of 3 and a positive integer k.\n",
    "\n",
    "Divide the array nums into n / 3 arrays of size 3 satisfying the following condition:\n",
    "\n",
    "The difference between any two elements in one array is less than or equal to k.\n",
    "Return a 2D array containing the arrays. If it is impossible to satisfy the conditions, return an empty array. And if there are multiple answers, return any of them.\n",
    "\n",
    " \n",
    "\n",
    "Example 1:\n",
    "\n",
    "Input: nums = [1,3,4,8,7,9,3,5,1], k = 2\n",
    "\n",
    "Output: [[1,1,3],[3,4,5],[7,8,9]]\n",
    "\n",
    "Explanation:\n",
    "\n",
    "The difference between any two elements in each array is less than or equal to 2.\n",
    "\n",
    "Example 2:\n",
    "\n",
    "Input: nums = [2,4,2,2,5,2], k = 2\n",
    "\n",
    "Output: []\n",
    "\n",
    "Explanation:\n",
    "\n",
    "Different ways to divide nums into 2 arrays of size 3 are:\n",
    "\n",
    "[[2,2,2],[2,4,5]] (and its permutations)\n",
    "[[2,2,4],[2,2,5]] (and its permutations)\n",
    "Because there are four 2s there will be an array with the elements 2 and 5 no matter how we divide it. since 5 - 2 = 3 > k, the condition is not satisfied and so there is no valid division.\n",
    "\n",
    "Example 3:\n",
    "\n",
    "Input: nums = [4,2,9,8,2,12,7,12,10,5,8,5,5,7,9,2,5,11], k = 14\n",
    "\n",
    "Output: [[2,2,12],[4,8,5],[5,9,7],[7,8,5],[5,9,10],[11,12,2]]\n",
    "\n",
    "Explanation:\n",
    "\n",
    "The difference between any two elements in each array is less than or equal to 14.\n",
    "\n",
    " \n",
    "\n",
    "Constraints:\n",
    "\n",
    "n == nums.length\n",
    "1 <= n <= 105\n",
    "n is a multiple of 3\n",
    "1 <= nums[i] <= 105\n",
    "1 <= k <= 105"
   ]
  },
  {
   "cell_type": "markdown",
   "id": "c791c484",
   "metadata": {},
   "source": [
    "## Solution:\n",
    "Greedy Approach: Sort the arrays and then check the conditions"
   ]
  },
  {
   "cell_type": "code",
   "execution_count": 7,
   "id": "96e4b22e",
   "metadata": {},
   "outputs": [
    {
     "data": {
      "text/plain": [
       "[]"
      ]
     },
     "execution_count": 7,
     "metadata": {},
     "output_type": "execute_result"
    }
   ],
   "source": [
    "nums = [2,4,2,2,5,2]; k = 2\n",
    "nums.sort()\n",
    "n=len(nums)\n",
    "res=[]\n",
    "i=2\n",
    "while i<n:\n",
    "    if nums[i]-nums[i-1]<=k and nums[i-1]-nums[i-2]<=k and nums[i]-nums[i-2]<=k:\n",
    "        res.append([nums[i-2],nums[i-1],nums[i]])\n",
    "    i+=3\n",
    "res if len(res)==n//3 else []\n"
   ]
  }
 ],
 "metadata": {
  "kernelspec": {
   "display_name": "Python 3",
   "language": "python",
   "name": "python3"
  },
  "language_info": {
   "codemirror_mode": {
    "name": "ipython",
    "version": 3
   },
   "file_extension": ".py",
   "mimetype": "text/x-python",
   "name": "python",
   "nbconvert_exporter": "python",
   "pygments_lexer": "ipython3",
   "version": "3.10.9"
  }
 },
 "nbformat": 4,
 "nbformat_minor": 5
}

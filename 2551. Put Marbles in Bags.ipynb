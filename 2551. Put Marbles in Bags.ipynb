{
 "cells": [
  {
   "cell_type": "markdown",
   "id": "0762cd51-449f-486e-9c66-6042b04f58b6",
   "metadata": {},
   "source": [
    "# 2551. Put Marbles in Bags\n",
    "\n",
    "You have k bags. You are given a 0-indexed integer array weights where weights[i] is the weight of the ith marble. You are also given the integer k.\n",
    "\n",
    "Divide the marbles into the k bags according to the following rules:\n",
    "\n",
    "No bag is empty.\n",
    "If the ith marble and jth marble are in a bag, then all marbles with an index between the ith and jth indices should also be in that same bag.\n",
    "If a bag consists of all the marbles with an index from i to j inclusively, then the cost of the bag is weights[i] + weights[j].\n",
    "The score after distributing the marbles is the sum of the costs of all the k bags.\n",
    "\n",
    "Return the difference between the maximum and minimum scores among marble distributions.\n",
    "\n",
    " \n",
    "\n",
    "Example 1:\n",
    "\n",
    "Input: weights = [1,3,5,1], k = 2\n",
    "Output: 4\n",
    "Explanation: \n",
    "The distribution [1],[3,5,1] results in the minimal score of (1+1) + (3+1) = 6. \n",
    "The distribution [1,3],[5,1], results in the maximal score of (1+3) + (5+1) = 10. \n",
    "Thus, we return their difference 10 - 6 = 4.\n",
    "Example 2:\n",
    "\n",
    "Input: weights = [1, 3], k = 2\n",
    "Output: 0\n",
    "Explanation: The only distribution possible is [1],[3]. \n",
    "Since both the maximal and minimal score are the same, we return 0.\n",
    " \n",
    "\n",
    "Constraints:\n",
    "\n",
    "1 <= k <= weights.length <= 105\n",
    "1 <= weights[i] <= 109"
   ]
  },
  {
   "cell_type": "markdown",
   "id": "ba9c7e90-a66e-4dbe-b396-49bb5dc8cc13",
   "metadata": {},
   "source": [
    "## Solution: Greedy Approach\n",
    "#### every sum of weights contains first and last element of weights i.e it is common for both max and min. The only difference comes from splits\n",
    "#### i.e. the sum of adjacent elements across the split. Find and store all such sums for all the splits and select the smallest and largest k-1 splits( as there are k bags) to find min and max"
   ]
  },
  {
   "cell_type": "code",
   "execution_count": 37,
   "id": "4f2762e5-5a36-453c-a7c2-1b8ade7fe2a5",
   "metadata": {},
   "outputs": [
    {
     "data": {
      "text/plain": [
       "16"
      ]
     },
     "execution_count": 37,
     "metadata": {},
     "output_type": "execute_result"
    }
   ],
   "source": [
    "weights=[1,2,3,4,5,6,7];k=3\n",
    "if k==1:\n",
    "    res=0\n",
    "else:\n",
    "    splits=[] #store sum of adjacent elements across the splits\n",
    "    for i in range(len(weights)-1): #iterate through the given array to find sum\n",
    "        splits.append(weights[i]+weights[i+1])\n",
    "    splits.sort() #sort the splits' sum to easily find the k-1 samllest and largest split\n",
    "    min_sum=weights[0]+sum(splits[:k-1])+weights[len(weights)-1] #sum the min k-1 splits' adjacent elements\n",
    "    max_sum=weights[0]+sum(splits[-(k-1):])+weights[len(weights)-1] #sum the max k-1 splits' adjacent elements,splits[-0:] yields the entire array\n",
    "    #thats why we need a different condition for k=1\n",
    "    res=max_sum-min_sum\n",
    "res"
   ]
  }
 ],
 "metadata": {
  "kernelspec": {
   "display_name": "Python 3 (ipykernel)",
   "language": "python",
   "name": "python3"
  },
  "language_info": {
   "codemirror_mode": {
    "name": "ipython",
    "version": 3
   },
   "file_extension": ".py",
   "mimetype": "text/x-python",
   "name": "python",
   "nbconvert_exporter": "python",
   "pygments_lexer": "ipython3",
   "version": "3.12.4"
  }
 },
 "nbformat": 4,
 "nbformat_minor": 5
}

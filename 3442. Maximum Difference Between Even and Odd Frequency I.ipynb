{
 "cells": [
  {
   "cell_type": "markdown",
   "id": "325eed83",
   "metadata": {},
   "source": [
    "# 3442. Maximum Difference Between Even and Odd Frequency I\n",
    "\n",
    "You are given a string s consisting of lowercase English letters.\n",
    "\n",
    "Your task is to find the maximum difference diff = a1 - a2 between the frequency of characters a1 and a2 in the string such that:\n",
    "\n",
    "a1 has an odd frequency in the string.\n",
    "a2 has an even frequency in the string.\n",
    "Return this maximum difference.\n",
    "\n",
    " \n",
    "\n",
    "Example 1:\n",
    "\n",
    "Input: s = \"aaaaabbc\"\n",
    "\n",
    "Output: 3\n",
    "\n",
    "Explanation:\n",
    "\n",
    "The character 'a' has an odd frequency of 5, and 'b' has an even frequency of 2.\n",
    "The maximum difference is 5 - 2 = 3.\n",
    "Example 2:\n",
    "\n",
    "Input: s = \"abcabcab\"\n",
    "\n",
    "Output: 1\n",
    "\n",
    "Explanation:\n",
    "\n",
    "The character 'a' has an odd frequency of 3, and 'c' has an even frequency of 2.\n",
    "The maximum difference is 3 - 2 = 1.\n",
    " \n",
    "\n",
    "Constraints:\n",
    "\n",
    "3 <= s.length <= 100\n",
    "s consists only of lowercase English letters.\n",
    "s contains at least one character with an odd frequency and one with an even frequency."
   ]
  },
  {
   "cell_type": "markdown",
   "id": "05b956b5",
   "metadata": {},
   "source": [
    "## Solution"
   ]
  },
  {
   "cell_type": "code",
   "execution_count": 3,
   "id": "571d8800",
   "metadata": {},
   "outputs": [
    {
     "data": {
      "text/plain": [
       "3"
      ]
     },
     "execution_count": 3,
     "metadata": {},
     "output_type": "execute_result"
    }
   ],
   "source": [
    "s = \"aaaaabbc\"\n",
    "from collections import Counter\n",
    "mpp=Counter(s)\n",
    "max_odd=1\n",
    "min_even=float('inf')\n",
    "for value in mpp.values():\n",
    "    if value%2==1:\n",
    "        max_odd=max(max_odd,value)\n",
    "    else:\n",
    "        min_even=min(min_even,value)\n",
    "        \n",
    "max_odd-min_even"
   ]
  }
 ],
 "metadata": {
  "kernelspec": {
   "display_name": "Python 3",
   "language": "python",
   "name": "python3"
  },
  "language_info": {
   "codemirror_mode": {
    "name": "ipython",
    "version": 3
   },
   "file_extension": ".py",
   "mimetype": "text/x-python",
   "name": "python",
   "nbconvert_exporter": "python",
   "pygments_lexer": "ipython3",
   "version": "3.10.9"
  }
 },
 "nbformat": 4,
 "nbformat_minor": 5
}

{
 "cells": [
  {
   "cell_type": "markdown",
   "id": "edd51fe2",
   "metadata": {},
   "source": [
    "# 3354. Make Array Elements Equal to Zero\n",
    "\n",
    "You are given an integer array nums.\n",
    "\n",
    "Start by selecting a starting position curr such that nums[curr] == 0, and choose a movement direction of either left or right.\n",
    "\n",
    "After that, you repeat the following process:\n",
    "\n",
    "If curr is out of the range [0, n - 1], this process ends.\n",
    "If nums[curr] == 0, move in the current direction by incrementing curr if you are moving right, or decrementing curr if you are moving left.\n",
    "Else if nums[curr] > 0:\n",
    "Decrement nums[curr] by 1.\n",
    "Reverse your movement direction (left becomes right and vice versa).\n",
    "Take a step in your new direction.\n",
    "A selection of the initial position curr and movement direction is considered valid if every element in nums becomes 0 by the end of the process.\n",
    "\n",
    "Return the number of possible valid selections.\n",
    "\n",
    " \n",
    "\n",
    "Example 1:\n",
    "\n",
    "Input: nums = [1,0,2,0,3]\n",
    "\n",
    "Output: 2\n",
    "\n",
    "Explanation:\n",
    "\n",
    "The only possible valid selections are the following:\n",
    "\n",
    "Choose curr = 3, and a movement direction to the left.\n",
    "[1,0,2,0,3] -> [1,0,2,0,3] -> [1,0,1,0,3] -> [1,0,1,0,3] -> [1,0,1,0,2] -> [1,0,1,0,2] -> [1,0,0,0,2] -> [1,0,0,0,2] -> [1,0,0,0,1] -> [1,0,0,0,1] -> [1,0,0,0,1] -> [1,0,0,0,1] -> [0,0,0,0,1] -> [0,0,0,0,1] -> [0,0,0,0,1] -> [0,0,0,0,1] -> [0,0,0,0,0].\n",
    "Choose curr = 3, and a movement direction to the right.\n",
    "[1,0,2,0,3] -> [1,0,2,0,3] -> [1,0,2,0,2] -> [1,0,2,0,2] -> [1,0,1,0,2] -> [1,0,1,0,2] -> [1,0,1,0,1] -> [1,0,1,0,1] -> [1,0,0,0,1] -> [1,0,0,0,1] -> [1,0,0,0,0] -> [1,0,0,0,0] -> [1,0,0,0,0] -> [1,0,0,0,0] -> [0,0,0,0,0].\n",
    "Example 2:\n",
    "\n",
    "Input: nums = [2,3,4,0,4,1,0]\n",
    "\n",
    "Output: 0\n",
    "\n",
    "Explanation:\n",
    "\n",
    "There are no possible valid selections.\n",
    "\n",
    " \n",
    "\n",
    "Constraints:\n",
    "\n",
    "1 <= nums.length <= 100\n",
    "0 <= nums[i] <= 100\n",
    "There is at least one element i where nums[i] == 0."
   ]
  },
  {
   "cell_type": "markdown",
   "id": "407fa084",
   "metadata": {},
   "source": [
    "## Solution: Simulation"
   ]
  },
  {
   "cell_type": "code",
   "execution_count": 22,
   "id": "9314aa39",
   "metadata": {},
   "outputs": [
    {
     "data": {
      "text/plain": [
       "2"
      ]
     },
     "execution_count": 22,
     "metadata": {},
     "output_type": "execute_result"
    }
   ],
   "source": [
    "nums = [1,0,2,0,3]\n",
    "zeros=[i for i in range(len(nums)) if nums[i]==0]\n",
    "valid=0\n",
    "\n",
    "def simulate(index,nums,right):\n",
    "    i=index\n",
    "    non_zero_cnt=len(nums)-len(zeros)\n",
    "    nums_copy=nums.copy()\n",
    "    while 0<=i<len(nums):\n",
    "        if nums_copy[i]>0:\n",
    "            nums_copy[i]-=1\n",
    "            non_zero_cnt-=1 if nums_copy[i]==0 else 0\n",
    "            if right==True:\n",
    "                right=False\n",
    "                i-=1\n",
    "            else:\n",
    "                right=True\n",
    "                i+=1\n",
    "        else:\n",
    "            if right==True:\n",
    "                i+=1\n",
    "            else:\n",
    "                i-=1\n",
    "    return non_zero_cnt\n",
    "\n",
    "for z in zeros:\n",
    "    #Explore Right direction\n",
    "    if simulate(z,nums,True)==0:\n",
    "        valid+=1\n",
    "    #Explore Left direction\n",
    "    if simulate(z,nums,False)==0:\n",
    "        valid+=1\n",
    "valid"
   ]
  },
  {
   "cell_type": "markdown",
   "id": "4116dc54",
   "metadata": {},
   "source": [
    "## Alternate Solution:\n",
    "\n",
    "To eliminate all positive numbers, assume the initial direction is to the right. The sum of the elements on both sides of the initial position should either be equal, or the sum on the right should be exactly 1 greater than the sum on the left. In this case, the ball completes its final bounce on the right and exits to the left. The situation is symmetric when the initial direction is to the left.\n",
    "\n",
    "We can enumerate each position equal to 0 as an initial position, and use prefix sums to compute the sums of elements on both sides to determine whether it forms a valid selection scheme."
   ]
  },
  {
   "cell_type": "code",
   "execution_count": 39,
   "id": "29b37412",
   "metadata": {},
   "outputs": [
    {
     "data": {
      "text/plain": [
       "2"
      ]
     },
     "execution_count": 39,
     "metadata": {},
     "output_type": "execute_result"
    }
   ],
   "source": [
    "nums = [1,0,2,0,3]\n",
    "n=len(nums)\n",
    "cusum=[nums[0]]*n\n",
    "valid=0\n",
    "for i in range(1,n):\n",
    "    cusum[i]=cusum[i-1]+nums[i]\n",
    "cusum\n",
    "for i,num in enumerate(nums):\n",
    "    if num==0:\n",
    "        right_sum=cusum[n-1]-cusum[i]\n",
    "        left_sum=cusum[i]\n",
    "        #Check Right direction for all zeros\n",
    "        if right_sum==left_sum+1:\n",
    "            valid+=1\n",
    "\n",
    "        #Check Left direction for all zeros\n",
    "        if left_sum==right_sum+1:\n",
    "            valid+=1\n",
    "\n",
    "        #Valid for both directions\n",
    "        if left_sum==right_sum:\n",
    "            valid+=2\n",
    "\n",
    "valid"
   ]
  }
 ],
 "metadata": {
  "kernelspec": {
   "display_name": "Python 3",
   "language": "python",
   "name": "python3"
  },
  "language_info": {
   "codemirror_mode": {
    "name": "ipython",
    "version": 3
   },
   "file_extension": ".py",
   "mimetype": "text/x-python",
   "name": "python",
   "nbconvert_exporter": "python",
   "pygments_lexer": "ipython3",
   "version": "3.10.9"
  }
 },
 "nbformat": 4,
 "nbformat_minor": 5
}

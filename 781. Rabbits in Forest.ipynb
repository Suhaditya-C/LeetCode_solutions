{
 "cells": [
  {
   "cell_type": "markdown",
   "id": "2bd40a2c",
   "metadata": {},
   "source": [
    "# 781. Rabbits in Forest\n",
    "\n",
    "There is a forest with an unknown number of rabbits. We asked n rabbits \"How many rabbits have the same color as you?\" and collected the answers in an integer array answers where answers[i] is the answer of the ith rabbit.\n",
    "\n",
    "Given the array answers, return the minimum number of rabbits that could be in the forest.\n",
    "\n",
    " \n",
    "\n",
    "Example 1:\n",
    "\n",
    "Input: answers = [1,1,2]\n",
    "Output: 5\n",
    "Explanation:\n",
    "The two rabbits that answered \"1\" could both be the same color, say red.\n",
    "The rabbit that answered \"2\" can't be red or the answers would be inconsistent.\n",
    "Say the rabbit that answered \"2\" was blue.\n",
    "Then there should be 2 other blue rabbits in the forest that didn't answer into the array.\n",
    "The smallest possible number of rabbits in the forest is therefore 5: 3 that answered plus 2 that didn't.\n",
    "Example 2:\n",
    "\n",
    "Input: answers = [10,10,10]\n",
    "Output: 11\n",
    " \n",
    "\n",
    "Constraints:\n",
    "\n",
    "1 <= answers.length <= 1000\n",
    "0 <= answers[i] < 1000"
   ]
  },
  {
   "cell_type": "markdown",
   "id": "d5744f45",
   "metadata": {},
   "source": [
    "## Solution: track frequency of each number\n",
    "for each unique answers[i], min no of rabbits is (frequency of ans[i])//(ans[i]+1)+1"
   ]
  },
  {
   "cell_type": "code",
   "execution_count": 11,
   "id": "61b45ddc",
   "metadata": {},
   "outputs": [
    {
     "data": {
      "text/plain": [
       "11"
      ]
     },
     "execution_count": 11,
     "metadata": {},
     "output_type": "execute_result"
    }
   ],
   "source": [
    "from collections import Counter\n",
    "answers = [10,10,10]\n",
    "freq=Counter(answers)\n",
    "res=0\n",
    "for num in freq:\n",
    "    res+=((freq[num]-1)//(num+1)+1)*(num+1)\n",
    "res\n"
   ]
  }
 ],
 "metadata": {
  "kernelspec": {
   "display_name": "Python 3",
   "language": "python",
   "name": "python3"
  },
  "language_info": {
   "codemirror_mode": {
    "name": "ipython",
    "version": 3
   },
   "file_extension": ".py",
   "mimetype": "text/x-python",
   "name": "python",
   "nbconvert_exporter": "python",
   "pygments_lexer": "ipython3",
   "version": "3.12.4"
  }
 },
 "nbformat": 4,
 "nbformat_minor": 5
}

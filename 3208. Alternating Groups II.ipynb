{
 "cells": [
  {
   "cell_type": "markdown",
   "id": "718f0fdf-bdef-49cf-bf10-71ca94479958",
   "metadata": {},
   "source": [
    "# 3208. Alternating Groups II\n",
    "\n",
    "There is a circle of red and blue tiles. You are given an array of integers colors and an integer k. The color of tile i is represented by colors[i]:\n",
    "\n",
    "colors[i] == 0 means that tile i is red.\n",
    "colors[i] == 1 means that tile i is blue.\n",
    "An alternating group is every k contiguous tiles in the circle with alternating colors (each tile in the group except the first and last one has a different color from its left and right tiles).\n",
    "\n",
    "Return the number of alternating groups.\n",
    "\n",
    "Note that since colors represents a circle, the first and the last tiles are considered to be next to each other.\n",
    "\n",
    " \n",
    "\n",
    "Example 1:\n",
    "\n",
    "Input: colors = [0,1,0,1,0], k = 3\n",
    "\n",
    "Output: 3\n",
    "\n",
    "Explanation:\n",
    "\n",
    "Alternating groups:\n",
    "\n",
    "Example 2:\n",
    "\n",
    "Input: colors = [0,1,0,0,1,0,1], k = 6\n",
    "\n",
    "Output: 2\n",
    "\n",
    "Explanation:\n",
    "\n",
    "Alternating groups:\n",
    "\n",
    "Example 3:\n",
    "\n",
    "Input: colors = [1,1,0,1], k = 4\n",
    "\n",
    "Output: 0\n",
    "\n",
    "Explanation:\n",
    "\n",
    "Constraints:\n",
    "\n",
    "3 <= colors.length <= 105\n",
    "0 <= colors[i] <= 1\n",
    "3 <= k <= colors.length"
   ]
  },
  {
   "cell_type": "code",
   "execution_count": 5,
   "id": "51bd0d72-f59d-4fd2-a01a-ca81991bbdd6",
   "metadata": {},
   "outputs": [],
   "source": [
    "colors=[0,1,0,0,1,0,1];k=6"
   ]
  },
  {
   "cell_type": "markdown",
   "id": "eaea5742-213b-4d5d-b08e-8460a2381055",
   "metadata": {},
   "source": [
    "## Brute Force\n",
    "\n",
    "Time Limit Exceeded"
   ]
  },
  {
   "cell_type": "code",
   "execution_count": 6,
   "id": "809a78c6-ee8c-4327-9c7e-132cf73a1545",
   "metadata": {},
   "outputs": [
    {
     "data": {
      "text/plain": [
       "2"
      ]
     },
     "execution_count": 6,
     "metadata": {},
     "output_type": "execute_result"
    }
   ],
   "source": [
    "# Concatenate the array\n",
    "n=len(colors)\n",
    "arr=colors*2\n",
    "res=0\n",
    "for i in range(n):\n",
    "    cnt=0\n",
    "    for j in range(i,i+k-1): #iterate upto length +k-1 as after that the slices will be repeated\n",
    "        if arr[j]==arr[j+1]:\n",
    "            break\n",
    "        else:\n",
    "            cnt+=1\n",
    "    if cnt==k-1:\n",
    "        res+=1\n",
    "res"
   ]
  },
  {
   "cell_type": "markdown",
   "id": "1f9eb73a-9fb4-4b2e-b4d3-ed3af9f04584",
   "metadata": {},
   "source": [
    "## Sliding window to improve efficiency\n"
   ]
  },
  {
   "cell_type": "code",
   "execution_count": null,
   "id": "699771a3-3f14-4651-9617-662156978d98",
   "metadata": {},
   "outputs": [
    {
     "data": {
      "text/plain": [
       "3"
      ]
     },
     "execution_count": 20,
     "metadata": {},
     "output_type": "execute_result"
    }
   ],
   "source": [
    "colors = [0,1,0,1,0]; k = 3\n",
    "# define pointers\n",
    "left=0;right=1\n",
    "n=len(colors)\n",
    "count=0\n",
    "# instead of concatenating iterate upto n+k-1 and index=i%n so that after n the index is back to 0,1,...\n",
    "while right<n+k-1:\n",
    "    #shift right pointer only if adjacent elements are unequal:\n",
    "    #if colors[right-1]!=colors[right]: do nothing as pointer is getting incremented\n",
    "        \n",
    "    #if adjacent elements equal then they must not be included in the window, hence shift left pointer to right and increment right by 1\n",
    "    if colors[(right-1)%n]==colors[(right)%n]:\n",
    "        left=right\n",
    "        #adjust length of window if it exceeds k\n",
    "    if right-left+1>k:\n",
    "        left+=1\n",
    "    #check length of sliding window\n",
    "    if right-left+1==k:\n",
    "        count+=1\n",
    "    right+=1\n",
    "count"
   ]
  },
  {
   "cell_type": "markdown",
   "id": "48cc619e",
   "metadata": {},
   "source": [
    "Final Solution"
   ]
  },
  {
   "cell_type": "code",
   "execution_count": null,
   "id": "160dc87d",
   "metadata": {},
   "outputs": [],
   "source": [
    "class Solution:\n",
    "    def numberOfAlternatingGroups(self, colors: List[int], k: int) -> int:\n",
    "        # define pointers\n",
    "        left=0;right=1\n",
    "        n=len(colors)\n",
    "        count=0\n",
    "        # instead of concatenating iterate upto n+k-1 and index=i%n so that after n the index is back to 0,1,...\n",
    "        while right<n+k-1:\n",
    "            #shift right pointer only if adjacent elements are unequal:\n",
    "            #if colors[right-1]!=colors[right]: do nothing as pointer is getting incremented\n",
    "                \n",
    "            #if adjacent elements equal then they must not be included in the window, hence shift left pointer to right and increment right by 1\n",
    "            if colors[(right-1)%n]==colors[(right)%n]:\n",
    "                left=right\n",
    "                #adjust length of window if it exceeds k\n",
    "            if right-left+1>k:\n",
    "                left+=1\n",
    "            #check length of sliding window\n",
    "            if right-left+1==k:\n",
    "                count+=1\n",
    "            right+=1\n",
    "        return count"
   ]
  }
 ],
 "metadata": {
  "kernelspec": {
   "display_name": "Python 3",
   "language": "python",
   "name": "python3"
  },
  "language_info": {
   "codemirror_mode": {
    "name": "ipython",
    "version": 3
   },
   "file_extension": ".py",
   "mimetype": "text/x-python",
   "name": "python",
   "nbconvert_exporter": "python",
   "pygments_lexer": "ipython3",
   "version": "3.12.4"
  }
 },
 "nbformat": 4,
 "nbformat_minor": 5
}

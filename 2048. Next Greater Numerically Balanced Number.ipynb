{
 "cells": [
  {
   "cell_type": "markdown",
   "id": "b66e5cbc",
   "metadata": {},
   "source": [
    "# 2048. Next Greater Numerically Balanced Number\n",
    "\n",
    "An integer x is numerically balanced if for every digit d in the number x, there are exactly d occurrences of that digit in x.\n",
    "\n",
    "Given an integer n, return the smallest numerically balanced number strictly greater than n.\n",
    "\n",
    " \n",
    "\n",
    "Example 1:\n",
    "\n",
    "Input: n = 1\n",
    "Output: 22\n",
    "Explanation: \n",
    "22 is numerically balanced since:\n",
    "- The digit 2 occurs 2 times. \n",
    "It is also the smallest numerically balanced number strictly greater than 1.\n",
    "Example 2:\n",
    "\n",
    "Input: n = 1000\n",
    "Output: 1333\n",
    "Explanation: \n",
    "1333 is numerically balanced since:\n",
    "- The digit 1 occurs 1 time.\n",
    "- The digit 3 occurs 3 times. \n",
    "It is also the smallest numerically balanced number strictly greater than 1000.\n",
    "Note that 1022 cannot be the answer because 0 appeared more than 0 times.\n",
    "Example 3:\n",
    "\n",
    "Input: n = 3000\n",
    "Output: 3133\n",
    "Explanation: \n",
    "3133 is numerically balanced since:\n",
    "- The digit 1 occurs 1 time.\n",
    "- The digit 3 occurs 3 times.\n",
    "It is also the smallest numerically balanced number strictly greater than 3000.\n",
    " \n",
    "\n",
    "Constraints:\n",
    "\n",
    "0 <= n <= 106"
   ]
  },
  {
   "cell_type": "markdown",
   "id": "4d59be47",
   "metadata": {},
   "source": [
    "## Solution: Brute Force- Enumeration"
   ]
  },
  {
   "cell_type": "code",
   "execution_count": 1,
   "id": "18bbddc4",
   "metadata": {},
   "outputs": [],
   "source": [
    "from collections import Counter"
   ]
  },
  {
   "cell_type": "code",
   "execution_count": 3,
   "id": "5fa81a71",
   "metadata": {},
   "outputs": [
    {
     "data": {
      "text/plain": [
       "1333"
      ]
     },
     "execution_count": 3,
     "metadata": {},
     "output_type": "execute_result"
    }
   ],
   "source": [
    "n=1000\n",
    "# Largest number given max n is 10^6 is 1224444\n",
    "for i in range(n+1,1224444+1):\n",
    "    mpp=Counter(str(i))\n",
    "    if all(mpp[ch]==int(ch) for ch in mpp):\n",
    "        res=i\n",
    "        break\n",
    "res"
   ]
  }
 ],
 "metadata": {
  "kernelspec": {
   "display_name": "Python 3",
   "language": "python",
   "name": "python3"
  },
  "language_info": {
   "codemirror_mode": {
    "name": "ipython",
    "version": 3
   },
   "file_extension": ".py",
   "mimetype": "text/x-python",
   "name": "python",
   "nbconvert_exporter": "python",
   "pygments_lexer": "ipython3",
   "version": "3.10.9"
  }
 },
 "nbformat": 4,
 "nbformat_minor": 5
}

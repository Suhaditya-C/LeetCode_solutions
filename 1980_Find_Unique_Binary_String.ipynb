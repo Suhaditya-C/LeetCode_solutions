{
  "nbformat": 4,
  "nbformat_minor": 0,
  "metadata": {
    "colab": {
      "provenance": [],
      "authorship_tag": "ABX9TyOTsc8xFdo3a2snRcej2dk9",
      "include_colab_link": true
    },
    "kernelspec": {
      "name": "python3",
      "display_name": "Python 3"
    },
    "language_info": {
      "name": "python"
    }
  },
  "cells": [
    {
      "cell_type": "markdown",
      "metadata": {
        "id": "view-in-github",
        "colab_type": "text"
      },
      "source": [
        "<a href=\"https://colab.research.google.com/github/Suhaditya-C/LeetCode_solutions/blob/main/1980_Find_Unique_Binary_String.ipynb\" target=\"_parent\"><img src=\"https://colab.research.google.com/assets/colab-badge.svg\" alt=\"Open In Colab\"/></a>"
      ]
    },
    {
      "cell_type": "markdown",
      "source": [
        "## 1980. Find Unique Binary String\n",
        "\n",
        "Given an array of strings nums containing n unique binary strings each of length n, return a binary string of length n that does not appear in nums. If there are multiple answers, you may return any of them.\n",
        "\n",
        "Example 1:\n",
        "\n",
        "Input: nums = [\"01\",\"10\"]\n",
        "Output: \"11\"\n",
        "Explanation: \"11\" does not appear in nums. \"00\" would also be correct.\n",
        "Example 2:\n",
        "\n",
        "Input: nums = [\"00\",\"01\"]\n",
        "Output: \"11\"\n",
        "Explanation: \"11\" does not appear in nums. \"10\" would also be correct.\n",
        "Example 3:\n",
        "\n",
        "Input: nums = [\"111\",\"011\",\"001\"]\n",
        "Output: \"101\"\n",
        "Explanation: \"101\" does not appear in nums. \"000\", \"010\", \"100\", and \"110\" would also be correct.\n",
        "\n",
        "Constraints:\n",
        "\n",
        "n == nums.length\n",
        "1 <= n <= 16\n",
        "nums[i].length == n\n",
        "nums[i] is either '0' or '1'.\n",
        "All the strings of nums are unique."
      ],
      "metadata": {
        "id": "G7eHIbI7A0MD"
      }
    },
    {
      "cell_type": "markdown",
      "source": [
        "Conversion to integes--check and then convert back\n"
      ],
      "metadata": {
        "id": "IrJiyjayGBCq"
      }
    },
    {
      "cell_type": "code",
      "source": [
        "nums = [\"01\",\"10\",\"00\"]\n",
        "integer=[int(nums[i],2) for i in range(len(nums))] #Convert to integers\n",
        "n=len(nums[0])\n",
        "res=0\n",
        "for i in range(2**(n-1)+2): #iterate upto 2^(width)+1\n",
        "    if i not in integer:\n",
        "        res=i\n",
        "        break\n",
        "bin(res)[2:].zfill(n) # pad with leading zeros--fixed width of n"
      ],
      "metadata": {
        "id": "NyEGkDzP7rPj",
        "colab": {
          "base_uri": "https://localhost:8080/",
          "height": 36
        },
        "outputId": "30c2d19b-6e59-4378-d607-992c1590b402"
      },
      "execution_count": null,
      "outputs": [
        {
          "output_type": "execute_result",
          "data": {
            "text/plain": [
              "'11'"
            ],
            "application/vnd.google.colaboratory.intrinsic+json": {
              "type": "string"
            }
          },
          "metadata": {},
          "execution_count": 18
        }
      ]
    },
    {
      "cell_type": "markdown",
      "source": [
        "Final Solution"
      ],
      "metadata": {
        "id": "AI4tUWH4GFzw"
      }
    },
    {
      "cell_type": "code",
      "source": [
        "from typing import List\n",
        "class Solution:\n",
        "    def findDifferentBinaryString(self, nums: List[str]) -> str:\n",
        "        integer=[int(nums[i],2) for i in range(len(nums))]\n",
        "        n=len(nums[0])\n",
        "        for i in range(2**(n-1)+2):\n",
        "            if i not in integer:\n",
        "                return bin(i)[2:].zfill(n)\n",
        "\n",
        "sol=Solution()\n",
        "sol.findDifferentBinaryString([\"111\",\"011\",\"001\"])"
      ],
      "metadata": {
        "colab": {
          "base_uri": "https://localhost:8080/",
          "height": 36
        },
        "id": "EUsm8JD0GHul",
        "outputId": "b8c62e34-fce0-4654-e430-53cd2b433526"
      },
      "execution_count": 2,
      "outputs": [
        {
          "output_type": "execute_result",
          "data": {
            "text/plain": [
              "'000'"
            ],
            "application/vnd.google.colaboratory.intrinsic+json": {
              "type": "string"
            }
          },
          "metadata": {},
          "execution_count": 2
        }
      ]
    }
  ]
}
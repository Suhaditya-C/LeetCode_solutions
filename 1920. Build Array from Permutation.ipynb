{
 "cells": [
  {
   "cell_type": "markdown",
   "id": "2c91cd04",
   "metadata": {},
   "source": [
    "# 1920. Build Array from Permutation\n",
    "\n",
    "Given a zero-based permutation nums (0-indexed), build an array ans of the same length where ans[i] = nums[nums[i]] for each 0 <= i < nums.length and return it.\n",
    "\n",
    "A zero-based permutation nums is an array of distinct integers from 0 to nums.length - 1 (inclusive).\n",
    "\n",
    " \n",
    "\n",
    "Example 1:\n",
    "\n",
    "Input: nums = [0,2,1,5,3,4]\n",
    "Output: [0,1,2,4,5,3]\n",
    "Explanation: The array ans is built as follows: \n",
    "ans = [nums[nums[0]], nums[nums[1]], nums[nums[2]], nums[nums[3]], nums[nums[4]], nums[nums[5]]]\n",
    "    = [nums[0], nums[2], nums[1], nums[5], nums[3], nums[4]]\n",
    "    = [0,1,2,4,5,3]\n",
    "Example 2:\n",
    "\n",
    "Input: nums = [5,0,1,2,3,4]\n",
    "Output: [4,5,0,1,2,3]\n",
    "Explanation: The array ans is built as follows:\n",
    "ans = [nums[nums[0]], nums[nums[1]], nums[nums[2]], nums[nums[3]], nums[nums[4]], nums[nums[5]]]\n",
    "    = [nums[5], nums[0], nums[1], nums[2], nums[3], nums[4]]\n",
    "    = [4,5,0,1,2,3]\n",
    " \n",
    "\n",
    "Constraints:\n",
    "\n",
    "1 <= nums.length <= 1000\n",
    "0 <= nums[i] < nums.length\n",
    "The elements in nums are distinct.\n",
    " \n",
    "\n",
    "Follow-up: Can you solve it without using an extra space (i.e., O(1) memory)?"
   ]
  },
  {
   "cell_type": "markdown",
   "id": "341d3690",
   "metadata": {},
   "source": [
    "## Solution: \n",
    "1. to do O(1) solution we have to encode both nums[i] and nums[nums[i]] into a single number and later extract nums[nums[i]] later by decoding. Note that all elements are less than length n.\n",
    "\n",
    "2. therefore if a=nums[i], b=nums[nums[i]], then encoded nums[i]= a+b*n.\n",
    "\n",
    "3. But this changes the element in place, and we need the original element further. So to use the original nums[i] element, we do the following (say nums[nums[j]]=a i.e i=nums[j])\n",
    "c=nums[j]\n",
    "d=nums[nums[j]]=nums[i]=a=(a+b*n)%n\n",
    "encoded: c+d*n=nums[j]+((a+b*n)%n)*n= nums[j]+(nums[nums[j]]%n)*n"
   ]
  },
  {
   "cell_type": "code",
   "execution_count": 5,
   "id": "1bea1e1f",
   "metadata": {},
   "outputs": [
    {
     "data": {
      "text/plain": [
       "[0, 1, 2, 4, 5, 3]"
      ]
     },
     "execution_count": 5,
     "metadata": {},
     "output_type": "execute_result"
    }
   ],
   "source": [
    "nums = [0,2,1,5,3,4]\n",
    "n=len(nums)\n",
    "for i in range(n):\n",
    "    #encode\n",
    "    a=nums[i]\n",
    "    b=nums[a]\n",
    "    nums[i]=a+(b%n)*n\n",
    "for i in range(n):\n",
    "    #decode\n",
    "    nums[i]=nums[i]//n\n",
    "nums"
   ]
  }
 ],
 "metadata": {
  "kernelspec": {
   "display_name": "Python 3",
   "language": "python",
   "name": "python3"
  },
  "language_info": {
   "codemirror_mode": {
    "name": "ipython",
    "version": 3
   },
   "file_extension": ".py",
   "mimetype": "text/x-python",
   "name": "python",
   "nbconvert_exporter": "python",
   "pygments_lexer": "ipython3",
   "version": "3.12.4"
  }
 },
 "nbformat": 4,
 "nbformat_minor": 5
}

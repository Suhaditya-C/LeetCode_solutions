{
  "nbformat": 4,
  "nbformat_minor": 0,
  "metadata": {
    "colab": {
      "provenance": [],
      "authorship_tag": "ABX9TyOCoDydEp/ilwuGQGy3WKOx",
      "include_colab_link": true
    },
    "kernelspec": {
      "name": "python3",
      "display_name": "Python 3"
    },
    "language_info": {
      "name": "python"
    }
  },
  "cells": [
    {
      "cell_type": "markdown",
      "metadata": {
        "id": "view-in-github",
        "colab_type": "text"
      },
      "source": [
        "<a href=\"https://colab.research.google.com/github/Suhaditya-C/LeetCode_solutions/blob/main/Puzzle_2661.ipynb\" target=\"_parent\"><img src=\"https://colab.research.google.com/assets/colab-badge.svg\" alt=\"Open In Colab\"/></a>"
      ]
    },
    {
      "cell_type": "markdown",
      "source": [
        "## 2661. First Completely Painted Row or Column\n",
        "\n",
        "You are given a 0-indexed integer array arr, and an m x n integer matrix mat. arr and mat both contain all the integers in the range [1, m * n].\n",
        "\n",
        "Go through each index i in arr starting from index 0 and paint the cell in mat containing the integer arr[i].\n",
        "\n",
        "Return the smallest index i at which either a row or a column will be completely painted in mat.\n",
        "\n",
        "\n",
        "\n",
        "Example 1:\n",
        "\n",
        "image explanation for example 1\n",
        "Input: arr = [1,3,4,2], mat = [[1,4],[2,3]]\n",
        "Output: 2\n",
        "Explanation: The moves are shown in order, and both the first row and second column of the matrix become fully painted at arr[2].\n",
        "Example 2:\n",
        "\n",
        "image explanation for example 2\n",
        "Input: arr = [2,8,7,4,1,3,5,6,9], mat = [[3,2,5],[1,4,6],[8,7,9]]\n",
        "Output: 3\n",
        "Explanation: The second column becomes fully painted at arr[3].\n",
        "\n",
        "\n",
        "Constraints:\n",
        "\n",
        "m == mat.length\n",
        "n = mat[i].length\n",
        "arr.length == m * n\n",
        "1 <= m, n <= 105\n",
        "1 <= m * n <= 105\n",
        "1 <= arr[i], mat[r][c] <= m * n\n",
        "All the integers of arr are unique.\n",
        "All the integers of mat are unique."
      ],
      "metadata": {
        "id": "1CtIYPt928XA"
      }
    },
    {
      "cell_type": "markdown",
      "source": [
        "Brute Force"
      ],
      "metadata": {
        "id": "SDd8UtTAfGBn"
      }
    },
    {
      "cell_type": "code",
      "source": [
        "arr = [1,3,4,2]; mat = [[1,4],[2,3]]\n",
        "m=len(mat);n=len(mat[0])\n",
        "painted=[[False for _ in range(n)] for _ in range(m)]\n",
        "painted\n",
        "sol=0\n",
        "for i in range(len(arr)):\n",
        "  row=[]\n",
        "  col=[]\n",
        "  for j in range(m):\n",
        "    for k in range(n):\n",
        "      if arr[i]==mat[j][k]:\n",
        "        painted[j][k]=True\n",
        "        r=j;c=k\n",
        "        break\n",
        "\n",
        "  for l in range(n):\n",
        "    row.append(painted[r][l])\n",
        "  for o in range(m):\n",
        "    col.append(painted[o][c])\n",
        "  if row==[True]*n or col==[True]*m:\n",
        "    sol=i\n",
        "    break\n",
        "sol"
      ],
      "metadata": {
        "colab": {
          "base_uri": "https://localhost:8080/"
        },
        "id": "dgNwHIfTWQZ1",
        "outputId": "cd9485f0-d1c6-47ea-b142-2fa147d6f2f7"
      },
      "execution_count": 1,
      "outputs": [
        {
          "output_type": "execute_result",
          "data": {
            "text/plain": [
              "2"
            ]
          },
          "metadata": {},
          "execution_count": 1
        }
      ]
    },
    {
      "cell_type": "markdown",
      "source": [
        "Improved"
      ],
      "metadata": {
        "id": "cKGTFVZsrDNf"
      }
    },
    {
      "cell_type": "code",
      "source": [
        "arr = [2,8,7,4,1,3,5,6,9]; mat = [[3,2,5],[1,4,6],[8,7,9]]\n",
        "m=len(mat);n=len(mat[0])\n",
        "map={}\n",
        "for r in range(m):\n",
        "  for c in range(n):\n",
        "    map[mat[r][c]]=(r,c)\n",
        "\n",
        "row=[0]*m; col=[0]*n\n",
        "for i in range(len(arr)):\n",
        "  r,c=map[arr[i]]\n",
        "  row[r]+=1\n",
        "  col[c]+=1\n",
        "  if row[r]==n or col[c]==m:\n",
        "    break\n",
        "i"
      ],
      "metadata": {
        "colab": {
          "base_uri": "https://localhost:8080/"
        },
        "id": "oaQwLVZvqtgD",
        "outputId": "13931321-543b-4a0d-de3d-25e8dabc1098"
      },
      "execution_count": 2,
      "outputs": [
        {
          "output_type": "execute_result",
          "data": {
            "text/plain": [
              "3"
            ]
          },
          "metadata": {},
          "execution_count": 2
        }
      ]
    },
    {
      "cell_type": "markdown",
      "source": [
        "Final Sol:"
      ],
      "metadata": {
        "id": "HyBlVytp3Y3C"
      }
    },
    {
      "cell_type": "code",
      "source": [
        "\n",
        "class Solution:\n",
        "    def firstCompleteIndex(self, arr: List[int], mat: List[List[int]]) -> int:\n",
        "\n",
        "      m=len(mat);n=len(mat[0])\n",
        "      map={}\n",
        "      for r in range(m):\n",
        "        for c in range(n):\n",
        "          map[mat[r][c]]=(r,c)\n",
        "\n",
        "      row=[0]*m; col=[0]*n\n",
        "      for i in range(len(arr)):\n",
        "        r,c=map[arr[i]]\n",
        "        row[r]+=1\n",
        "        col[c]+=1\n",
        "        if row[r]==n or col[c]==m:\n",
        "          break\n",
        "      return i"
      ],
      "metadata": {
        "id": "yocvM4EX3RTC"
      },
      "execution_count": null,
      "outputs": []
    }
  ]
}
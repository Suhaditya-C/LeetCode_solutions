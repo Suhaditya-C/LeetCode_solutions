{
  "nbformat": 4,
  "nbformat_minor": 0,
  "metadata": {
    "colab": {
      "provenance": [],
      "authorship_tag": "ABX9TyMMqGeu8KaZeHzJu5dEVnPJ",
      "include_colab_link": true
    },
    "kernelspec": {
      "name": "python3",
      "display_name": "Python 3"
    },
    "language_info": {
      "name": "python"
    }
  },
  "cells": [
    {
      "cell_type": "markdown",
      "metadata": {
        "id": "view-in-github",
        "colab_type": "text"
      },
      "source": [
        "<a href=\"https://colab.research.google.com/github/Suhaditya-C/LeetCode_solutions/blob/main/2401_Longest_Nice_Subarray.ipynb\" target=\"_parent\"><img src=\"https://colab.research.google.com/assets/colab-badge.svg\" alt=\"Open In Colab\"/></a>"
      ]
    },
    {
      "cell_type": "markdown",
      "source": [
        "# 2401. Longest Nice Subarray\n",
        "\n",
        "You are given an array nums consisting of positive integers.\n",
        "\n",
        "We call a subarray of nums nice if the bitwise AND of every pair of elements that are in different positions in the subarray is equal to 0.\n",
        "\n",
        "Return the length of the longest nice subarray.\n",
        "\n",
        "A subarray is a contiguous part of an array.\n",
        "\n",
        "Note that subarrays of length 1 are always considered nice.\n",
        "\n",
        "\n",
        "\n",
        "Example 1:\n",
        "\n",
        "Input: nums = [1,3,8,48,10]\n",
        "Output: 3\n",
        "Explanation: The longest nice subarray is [3,8,48]. This subarray satisfies the conditions:\n",
        "- 3 AND 8 = 0.\n",
        "- 3 AND 48 = 0.\n",
        "- 8 AND 48 = 0.\n",
        "It can be proven that no longer nice subarray can be obtained, so we return 3.\n",
        "Example 2:\n",
        "\n",
        "Input: nums = [3,1,5,11,13]\n",
        "Output: 1\n",
        "Explanation: The length of the longest nice subarray is 1. Any subarray of length 1 can be chosen.\n",
        "\n",
        "\n",
        "Constraints:\n",
        "\n",
        "1 <= nums.length <= 105\n",
        "1 <= nums[i] <= 109"
      ],
      "metadata": {
        "id": "iGlsnwHJmgEA"
      }
    },
    {
      "cell_type": "code",
      "execution_count": 1,
      "metadata": {
        "colab": {
          "base_uri": "https://localhost:8080/"
        },
        "id": "bpA3ZxYgmdxk",
        "outputId": "e6b50c0e-efad-445a-c3c0-34c9bd596ea2"
      },
      "outputs": [
        {
          "output_type": "execute_result",
          "data": {
            "text/plain": [
              "3"
            ]
          },
          "metadata": {},
          "execution_count": 1
        }
      ],
      "source": [
        "nums = [1,3,8,48,10]\n",
        "bitmask=0\n",
        "l,r=0,0\n",
        "res=0\n",
        "for r in range(len(nums)):\n",
        "    #Shrink window if condition does not match\n",
        "    while bitmask & nums[r]!=0:\n",
        "        bitmask=bitmask^nums[l] #Unset the bits i.e. remove the leftmost element from the tracker\n",
        "        #Shrink window\n",
        "        l+=1\n",
        "\n",
        "    bitmask=bitmask|nums[r] #keep track of 1's i.e. the bitmask\n",
        "    res=max(res,r-l+1) #update max result\n",
        "res"
      ]
    },
    {
      "cell_type": "code",
      "source": [
        "from typing import List\n",
        "class Solution:\n",
        "    def longestNiceSubarray(self, nums: List[int]) -> int:\n",
        "        bitmask=0\n",
        "        l,r=0,0\n",
        "        res=0\n",
        "        for r in range(len(nums)):\n",
        "            #Shrink window if condition does not match\n",
        "            while bitmask & nums[r]!=0:\n",
        "                bitmask=bitmask^nums[l] #Unset the bits i.e. remove the leftmost element from the tracker\n",
        "                #Shrink window\n",
        "                l+=1\n",
        "\n",
        "            bitmask=bitmask|nums[r] #keep track of 1's i.e. the bitmask\n",
        "            res=max(res,r-l+1) #update max result\n",
        "        return res\n",
        "\n",
        "sol=Solution()\n",
        "sol.longestNiceSubarray([1,3,8,48,10])"
      ],
      "metadata": {
        "colab": {
          "base_uri": "https://localhost:8080/"
        },
        "id": "QD1xLlWKmt0C",
        "outputId": "edac907f-6616-4963-ddc6-3ea5497c44d0"
      },
      "execution_count": 3,
      "outputs": [
        {
          "output_type": "execute_result",
          "data": {
            "text/plain": [
              "3"
            ]
          },
          "metadata": {},
          "execution_count": 3
        }
      ]
    }
  ]
}
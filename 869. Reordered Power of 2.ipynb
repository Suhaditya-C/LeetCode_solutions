{
 "cells": [
  {
   "cell_type": "markdown",
   "id": "a08a61b9",
   "metadata": {},
   "source": [
    "# 869. Reordered Power of 2\n",
    "\n",
    "You are given an integer n. We reorder the digits in any order (including the original order) such that the leading digit is not zero.\n",
    "\n",
    "Return true if and only if we can do this so that the resulting number is a power of two.\n",
    "\n",
    " \n",
    "\n",
    "Example 1:\n",
    "\n",
    "Input: n = 1\n",
    "Output: true\n",
    "Example 2:\n",
    "\n",
    "Input: n = 10\n",
    "Output: false\n",
    " \n",
    "\n",
    "Constraints:\n",
    "\n",
    "1 <= n <= 109"
   ]
  },
  {
   "cell_type": "markdown",
   "id": "d7216cb6",
   "metadata": {},
   "source": [
    "## Solution:\n",
    "\n",
    "Check each permutation whether it satisfies the condition or not"
   ]
  },
  {
   "cell_type": "code",
   "execution_count": 44,
   "id": "f7ab7840",
   "metadata": {},
   "outputs": [
    {
     "data": {
      "text/plain": [
       "False"
      ]
     },
     "execution_count": 44,
     "metadata": {},
     "output_type": "execute_result"
    }
   ],
   "source": [
    "from collections import Counter\n",
    "n = 10\n",
    "l = list(str(n))           # Convert n to a list of digit characters\n",
    "seen = set()               # Set to keep track of already checked numbers\n",
    "mpp = Counter(l)           # Counter for available digits\n",
    "\n",
    "def permute(arr):          # Recursive function to generate permutations\n",
    "    if len(arr) == len(l): # If permutation is complete\n",
    "        num = int(''.join(arr)) if len(arr) > 0 else -1  # Convert arr to integer\n",
    "        if arr[0] != '0' and num not in seen:             # Check for leading zero and uniqueness\n",
    "            seen.add(num)                                 # Mark this number as seen\n",
    "            if bin(num)[2:].count('1') == 1:              # Check if num is a power of 2\n",
    "                return True\n",
    "        return False\n",
    "\n",
    "    for char in mpp:                  # Try each available digit\n",
    "        if mpp[char] > 0:             # If digit is available\n",
    "            mpp[char] -= 1            # Use one occurrence of this digit\n",
    "            arr.append(char)          # Add digit to current permutation\n",
    "            if permute(arr) == True:  # If a valid permutation is found, return True\n",
    "                return True\n",
    "            arr.pop()                 # Backtrack: remove last digit\n",
    "            mpp[char] += 1            # Restore digit count\n",
    "    return False                      # No valid permutation found\n",
    "\n",
    "permute([])                           # Start permutation with empty list"
   ]
  }
 ],
 "metadata": {
  "kernelspec": {
   "display_name": "Python 3",
   "language": "python",
   "name": "python3"
  },
  "language_info": {
   "codemirror_mode": {
    "name": "ipython",
    "version": 3
   },
   "file_extension": ".py",
   "mimetype": "text/x-python",
   "name": "python",
   "nbconvert_exporter": "python",
   "pygments_lexer": "ipython3",
   "version": "3.10.9"
  }
 },
 "nbformat": 4,
 "nbformat_minor": 5
}

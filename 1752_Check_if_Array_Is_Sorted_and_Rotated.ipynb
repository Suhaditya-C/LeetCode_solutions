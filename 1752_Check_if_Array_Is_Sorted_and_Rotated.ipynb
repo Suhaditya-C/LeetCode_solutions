{
  "nbformat": 4,
  "nbformat_minor": 0,
  "metadata": {
    "colab": {
      "provenance": [],
      "authorship_tag": "ABX9TyOV+rjxpa/lKePKlP5GQfxg",
      "include_colab_link": true
    },
    "kernelspec": {
      "name": "python3",
      "display_name": "Python 3"
    },
    "language_info": {
      "name": "python"
    }
  },
  "cells": [
    {
      "cell_type": "markdown",
      "metadata": {
        "id": "view-in-github",
        "colab_type": "text"
      },
      "source": [
        "<a href=\"https://colab.research.google.com/github/Suhaditya-C/LeetCode_solutions/blob/main/1752_Check_if_Array_Is_Sorted_and_Rotated.ipynb\" target=\"_parent\"><img src=\"https://colab.research.google.com/assets/colab-badge.svg\" alt=\"Open In Colab\"/></a>"
      ]
    },
    {
      "cell_type": "markdown",
      "source": [
        "## 1752. Check if Array Is Sorted and Rotated\n",
        "\n",
        "Given an array nums, return true if the array was originally sorted in non-decreasing order, then rotated some number of positions (including zero). Otherwise, return false.\n",
        "\n",
        "There may be duplicates in the original array.\n",
        "\n",
        "Note: An array A rotated by x positions results in an array B of the same length such that A[i] == B[(i+x) % A.length], where % is the modulo operation.\n",
        "\n",
        "\n",
        "\n",
        "Example 1:\n",
        "\n",
        "Input: nums = [3,4,5,1,2]\n",
        "Output: true\n",
        "Explanation: [1,2,3,4,5] is the original sorted array.\n",
        "You can rotate the array by x = 3 positions to begin on the the element of value 3: [3,4,5,1,2].\n",
        "Example 2:\n",
        "\n",
        "Input: nums = [2,1,3,4]\n",
        "Output: false\n",
        "Explanation: There is no sorted array once rotated that can make nums.\n",
        "Example 3:\n",
        "\n",
        "Input: nums = [1,2,3]\n",
        "Output: true\n",
        "Explanation: [1,2,3] is the original sorted array.\n",
        "You can rotate the array by x = 0 positions (i.e. no rotation) to make nums.\n",
        "\n",
        "\n",
        "Constraints:\n",
        "\n",
        "1 <= nums.length <= 100\n",
        "1 <= nums[i] <= 100"
      ],
      "metadata": {
        "id": "aFZpzkjtV9X2"
      }
    },
    {
      "cell_type": "code",
      "source": [
        "nums = [3,4,5,1,2]\n",
        "s=sorted(nums)\n",
        "for i in range(len(s)):\n",
        "    check=s[i:len(s)] + s[0:i]     #Use + for concatenation\n",
        "    if nums==check:\n",
        "        print(True)\n",
        "        break\n",
        "check"
      ],
      "metadata": {
        "id": "gvc5SrQ18t0J",
        "colab": {
          "base_uri": "https://localhost:8080/"
        },
        "outputId": "9b0ac486-8bbc-4625-e7a0-f6b37db2feff"
      },
      "execution_count": null,
      "outputs": [
        {
          "output_type": "stream",
          "name": "stdout",
          "text": [
            "True\n"
          ]
        },
        {
          "output_type": "execute_result",
          "data": {
            "text/plain": [
              "[3, 4, 5, 1, 2]"
            ]
          },
          "metadata": {},
          "execution_count": 15
        }
      ]
    },
    {
      "cell_type": "code",
      "source": [
        "class Solution:\n",
        "    def check(self, nums: List[int]) -> bool:\n",
        "        s=sorted(nums)\n",
        "        for i in range(len(s)):\n",
        "            check=s[i:len(s)] + s[0:i]     #Use + for concatenation\n",
        "            if nums==check:\n",
        "                return (True)\n",
        "        return False"
      ],
      "metadata": {
        "colab": {
          "base_uri": "https://localhost:8080/"
        },
        "id": "oC03Y9qCX2j3",
        "outputId": "33269325-c173-4da8-cb16-0cab2ad0364e"
      },
      "execution_count": null,
      "outputs": [
        {
          "output_type": "execute_result",
          "data": {
            "text/plain": [
              "[3, 4, 5, 1, 2]"
            ]
          },
          "metadata": {},
          "execution_count": 13
        }
      ]
    }
  ]
}
{
 "cells": [
  {
   "cell_type": "markdown",
   "metadata": {},
   "source": [
    "# 2594. Minimum Time to Repair Cars"
   ]
  },
  {
   "cell_type": "markdown",
   "metadata": {},
   "source": [
    "You are given an integer array ranks representing the ranks of some mechanics. ranksi is the rank of the ith mechanic. A mechanic with a rank r can repair n cars in r * n2 minutes.\n",
    "\n",
    "You are also given an integer cars representing the total number of cars waiting in the garage to be repaired.\n",
    "\n",
    "Return the minimum time taken to repair all the cars.\n",
    "\n",
    "Note: All the mechanics can repair the cars simultaneously.\n",
    "\n",
    " \n",
    "\n",
    "Example 1:\n",
    "\n",
    "Input: ranks = [4,2,3,1], cars = 10\n",
    "Output: 16\n",
    "Explanation: \n",
    "- The first mechanic will repair two cars. The time required is 4 * 2 * 2 = 16 minutes.\n",
    "- The second mechanic will repair two cars. The time required is 2 * 2 * 2 = 8 minutes.\n",
    "- The third mechanic will repair two cars. The time required is 3 * 2 * 2 = 12 minutes.\n",
    "- The fourth mechanic will repair four cars. The time required is 1 * 4 * 4 = 16 minutes.\n",
    "It can be proved that the cars cannot be repaired in less than 16 minutes.​​​​​\n",
    "Example 2:\n",
    "\n",
    "Input: ranks = [5,1,8], cars = 6\n",
    "Output: 16\n",
    "Explanation: \n",
    "- The first mechanic will repair one car. The time required is 5 * 1 * 1 = 5 minutes.\n",
    "- The second mechanic will repair four cars. The time required is 1 * 4 * 4 = 16 minutes.\n",
    "- The third mechanic will repair one car. The time required is 8 * 1 * 1 = 8 minutes.\n",
    "It can be proved that the cars cannot be repaired in less than 16 minutes.​​​​​"
   ]
  },
  {
   "cell_type": "markdown",
   "metadata": {},
   "source": [
    "#### Linear Search- lower bound 1 and upper bound -lowest rank value*n2\n",
    "iterate through this search space to find time and corresponding no. of cars that can be repaired in that time by the formula-\n",
    "n(i)=sqrt(time/rank(i)) for each rank and sum n(i) to find total no. of cars repaired in that time frame:\n",
    "if no. of cars repaired > cars , move left to find a lesser time time n==no. of cars\n",
    "\n"
   ]
  },
  {
   "cell_type": "code",
   "execution_count": 41,
   "metadata": {},
   "outputs": [
    {
     "data": {
      "text/plain": [
       "16"
      ]
     },
     "execution_count": 41,
     "metadata": {},
     "output_type": "execute_result"
    }
   ],
   "source": [
    "ranks = [5,1,8]; cars = 6\n",
    "start=1\n",
    "end=min(ranks)*cars**2\n",
    "for i in range(start,end+1):\n",
    "    n=0\n",
    "    for j in range(len(ranks)):\n",
    "        n+=int((i/ranks[j])**0.5)\n",
    "    if n==cars: \n",
    "        res=i\n",
    "        break\n",
    "res"
   ]
  },
  {
   "cell_type": "markdown",
   "metadata": {},
   "source": [
    "### Binary Search\n",
    "iterate through this search space to find time and corresponding no. of cars that can be repaired in that time by the formula-\n",
    "n(i)=sqrt(time/rank(i)) for each rank and sum n(i) to find total no. of cars repaired in that time frame:\n",
    "if no. of cars repaired > cars , move left to find a lesser time or else move right"
   ]
  },
  {
   "cell_type": "code",
   "execution_count": 30,
   "metadata": {},
   "outputs": [
    {
     "data": {
      "text/plain": [
       "16"
      ]
     },
     "execution_count": 30,
     "metadata": {},
     "output_type": "execute_result"
    }
   ],
   "source": [
    "ranks = [5,1,8]; cars = 6\n",
    "l=1\n",
    "r=min(ranks)*cars**2\n",
    "while l<=r:\n",
    "    mid=(l+r)//2\n",
    "    n=sum(int((mid/ranks[i])**0.5) for i in range(len(ranks)))\n",
    "    if n>=cars: #Move Left\n",
    "        r=mid-1\n",
    "    else:\n",
    "        l=mid+1\n",
    "l\n",
    "    "
   ]
  }
 ],
 "metadata": {
  "kernelspec": {
   "display_name": "Python 3",
   "language": "python",
   "name": "python3"
  },
  "language_info": {
   "codemirror_mode": {
    "name": "ipython",
    "version": 3
   },
   "file_extension": ".py",
   "mimetype": "text/x-python",
   "name": "python",
   "nbconvert_exporter": "python",
   "pygments_lexer": "ipython3",
   "version": "3.12.4"
  }
 },
 "nbformat": 4,
 "nbformat_minor": 2
}

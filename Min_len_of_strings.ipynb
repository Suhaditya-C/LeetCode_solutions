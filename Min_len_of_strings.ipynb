{
 "cells": [
  {
   "cell_type": "markdown",
   "metadata": {},
   "source": [
    "## 3223. Minimum Length of String After Operations\n",
    "Medium\n",
    "Topics\n",
    "Companies\n",
    "Hint\n",
    "You are given a string s.\n",
    "\n",
    "You can perform the following process on s any number of times:\n",
    "\n",
    "Choose an index i in the string such that there is at least one character to the left of index i that is equal to s[i], and at least one character to the right that is also equal to s[i].\n",
    "Delete the closest character to the left of index i that is equal to s[i].\n",
    "Delete the closest character to the right of index i that is equal to s[i].\n",
    "Return the minimum length of the final string s that you can achieve.\n",
    "\n",
    " \n",
    "\n",
    "Example 1:\n",
    "\n",
    "Input: s = \"abaacbcbb\"\n",
    "\n",
    "Output: 5\n",
    "\n",
    "Explanation:\n",
    "We do the following operations:\n",
    "\n",
    "Choose index 2, then remove the characters at indices 0 and 3. The resulting string is s = \"bacbcbb\".\n",
    "Choose index 3, then remove the characters at indices 0 and 5. The resulting string is s = \"acbcb\".\n",
    "Example 2:\n",
    "\n",
    "Input: s = \"aa\"\n",
    "\n",
    "Output: 2\n",
    "\n",
    "Explanation:\n",
    "We cannot perform any operations, so we return the length of the original string."
   ]
  },
  {
   "cell_type": "code",
   "execution_count": 9,
   "metadata": {},
   "outputs": [
    {
     "data": {
      "text/plain": [
       "5"
      ]
     },
     "execution_count": 9,
     "metadata": {},
     "output_type": "execute_result"
    }
   ],
   "source": [
    "counter={}\n",
    "s = \"abaacbcbb\"\n",
    "no_of_ops=0\n",
    "for items in s:\n",
    "    counter[items]=counter.get(items,0)+1\n",
    "counter\n",
    "for key,values in counter.items():\n",
    "    if values>=3:\n",
    "        no_of_ops=no_of_ops+(values-1)//2\n",
    "len(s)-no_of_ops*2        \n"
   ]
  },
  {
   "cell_type": "markdown",
   "metadata": {},
   "source": [
    "Final Solution:"
   ]
  },
  {
   "cell_type": "code",
   "execution_count": null,
   "metadata": {},
   "outputs": [],
   "source": [
    "class Solution:\n",
    "    def minimumLength(self, s: str) -> int:\n",
    "        counter={}\n",
    "        no_of_ops=0\n",
    "        for items in s:\n",
    "            counter[items]=counter.get(items,0)+1\n",
    "        counter\n",
    "        for key,values in counter.items():\n",
    "            if values>=3:\n",
    "                no_of_ops=no_of_ops+(values-1)//2\n",
    "        return len(s)-no_of_ops*2"
   ]
  }
 ],
 "metadata": {
  "kernelspec": {
   "display_name": "Python 3",
   "language": "python",
   "name": "python3"
  },
  "language_info": {
   "codemirror_mode": {
    "name": "ipython",
    "version": 3
   },
   "file_extension": ".py",
   "mimetype": "text/x-python",
   "name": "python",
   "nbconvert_exporter": "python",
   "pygments_lexer": "ipython3",
   "version": "3.12.4"
  }
 },
 "nbformat": 4,
 "nbformat_minor": 2
}

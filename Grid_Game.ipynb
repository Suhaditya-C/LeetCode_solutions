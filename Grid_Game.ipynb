{
  "nbformat": 4,
  "nbformat_minor": 0,
  "metadata": {
    "colab": {
      "provenance": [],
      "authorship_tag": "ABX9TyPeWbOia3Y04y1DoLr41Wge",
      "include_colab_link": true
    },
    "kernelspec": {
      "name": "python3",
      "display_name": "Python 3"
    },
    "language_info": {
      "name": "python"
    }
  },
  "cells": [
    {
      "cell_type": "markdown",
      "metadata": {
        "id": "view-in-github",
        "colab_type": "text"
      },
      "source": [
        "<a href=\"https://colab.research.google.com/github/Suhaditya-C/LeetCode_solutions/blob/main/Grid_Game.ipynb\" target=\"_parent\"><img src=\"https://colab.research.google.com/assets/colab-badge.svg\" alt=\"Open In Colab\"/></a>"
      ]
    },
    {
      "cell_type": "markdown",
      "source": [
        "### Grid Game\n",
        "\n",
        "You are given a 0-indexed 2D array grid of size 2 x n, where grid[r][c] represents the number of points at position (r, c) on the matrix. Two robots are playing a game on this matrix.\n",
        "\n",
        "Both robots initially start at (0, 0) and want to reach (1, n-1). Each robot may only move to the right ((r, c) to (r, c + 1)) or down ((r, c) to (r + 1, c)).\n",
        "\n",
        "At the start of the game, the first robot moves from (0, 0) to (1, n-1), collecting all the points from the cells on its path. For all cells (r, c) traversed on the path, grid[r][c] is set to 0. Then, the second robot moves from (0, 0) to (1, n-1), collecting the points on its path. Note that their paths may intersect with one another.\n",
        "\n",
        "The first robot wants to minimize the number of points collected by the second robot. In contrast, the second robot wants to maximize the number of points it collects. If both robots play optimally, return the number of points collected by the second robot.\n",
        "\n",
        "\n",
        "\n",
        "Example 1:\n",
        "\n",
        "\n",
        "Input: grid = [[2,5,4],[1,5,1]]\n",
        "Output: 4\n",
        "Explanation: The optimal path taken by the first robot is shown in red, and the optimal path taken by the second robot is shown in blue.\n",
        "The cells visited by the first robot are set to 0.\n",
        "The second robot will collect 0 + 0 + 4 + 0 = 4 points.\n",
        "Example 2:\n",
        "\n",
        "\n",
        "Input: grid = [[3,3,1],[8,5,2]]\n",
        "Output: 4\n",
        "Explanation: The optimal path taken by the first robot is shown in red, and the optimal path taken by the second robot is shown in blue.\n",
        "The cells visited by the first robot are set to 0.\n",
        "The second robot will collect 0 + 3 + 1 + 0 = 4 points.\n",
        "Example 3:\n",
        "\n",
        "\n",
        "Input: grid = [[1,3,1,15],[1,3,3,1]]\n",
        "Output: 7\n",
        "Explanation: The optimal path taken by the first robot is shown in red, and the optimal path taken by the second robot is shown in blue.\n",
        "The cells visited by the first robot are set to 0.\n",
        "The second robot will collect 0 + 1 + 3 + 3 + 0 = 7 points.\n",
        "\n",
        "\n",
        "Constraints:\n",
        "\n",
        "grid.length == 2\n",
        "n == grid[r].length\n",
        "1 <= n <= 5 * 104\n",
        "1 <= grid[r][c] <= 105"
      ],
      "metadata": {
        "id": "-si7eNoIuNcO"
      }
    },
    {
      "cell_type": "code",
      "source": [
        "grid = [[1,3,1,15],[1,3,3,1]]\n",
        "topsum= sum(grid[0])\n",
        "bottomsum=0\n",
        "res=[]\n",
        "col=len(grid[0])\n",
        "col\n",
        "for p in range(col):\n",
        "  topsum-=grid[0][p]\n",
        "  res.append(max(topsum,bottomsum))\n",
        "  bottomsum+=grid[1][p]\n",
        "min(res)\n"
      ],
      "metadata": {
        "colab": {
          "base_uri": "https://localhost:8080/"
        },
        "id": "DKrqEdcSuTjX",
        "outputId": "7d346c67-6ffe-4b12-bbdc-f14cbd8f3183"
      },
      "execution_count": null,
      "outputs": [
        {
          "output_type": "execute_result",
          "data": {
            "text/plain": [
              "7"
            ]
          },
          "metadata": {},
          "execution_count": 11
        }
      ]
    },
    {
      "cell_type": "markdown",
      "source": [
        "Final Solution"
      ],
      "metadata": {
        "id": "A2xQDowY15_h"
      }
    },
    {
      "cell_type": "code",
      "source": [
        "class Solution:\n",
        "    def gridGame(self, grid: List[List[int]]) -> int:\n",
        "      topsum= sum(grid[0])\n",
        "      bottomsum=0\n",
        "      res=[]\n",
        "      col=len(grid[0])\n",
        "      col\n",
        "      for p in range(col):\n",
        "        topsum-=grid[0][p]\n",
        "        res.append(max(topsum,bottomsum))\n",
        "        bottomsum+=grid[1][p]\n",
        "      return min(res)"
      ],
      "metadata": {
        "id": "5Al1XgM217OR"
      },
      "execution_count": null,
      "outputs": []
    }
  ]
}
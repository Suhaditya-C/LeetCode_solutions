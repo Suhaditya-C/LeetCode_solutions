{
 "cells": [
  {
   "cell_type": "markdown",
   "id": "12a3e9f8",
   "metadata": {},
   "source": [
    "# 3443. Maximum Manhattan Distance After K Changes\n",
    "\n",
    "You are given a string s consisting of the characters 'N', 'S', 'E', and 'W', where s[i] indicates movements in an infinite grid:\n",
    "\n",
    "'N' : Move north by 1 unit.\n",
    "'S' : Move south by 1 unit.\n",
    "'E' : Move east by 1 unit.\n",
    "'W' : Move west by 1 unit.\n",
    "Initially, you are at the origin (0, 0). You can change at most k characters to any of the four directions.\n",
    "\n",
    "Find the maximum Manhattan distance from the origin that can be achieved at any time while performing the movements in order.\n",
    "\n",
    "The Manhattan Distance between two cells (xi, yi) and (xj, yj) is |xi - xj| + |yi - yj|.\n",
    " \n",
    "\n",
    "Example 1:\n",
    "\n",
    "Input: s = \"NWSE\", k = 1\n",
    "\n",
    "Output: 3\n",
    "\n",
    "Explanation:\n",
    "\n",
    "Change s[2] from 'S' to 'N'. The string s becomes \"NWNE\".\n",
    "\n",
    "Movement\tPosition (x, y)\tManhattan Distance\tMaximum\n",
    "s[0] == 'N'\t(0, 1)\t0 + 1 = 1\t1\n",
    "s[1] == 'W'\t(-1, 1)\t1 + 1 = 2\t2\n",
    "s[2] == 'N'\t(-1, 2)\t1 + 2 = 3\t3\n",
    "s[3] == 'E'\t(0, 2)\t0 + 2 = 2\t3\n",
    "The maximum Manhattan distance from the origin that can be achieved is 3. Hence, 3 is the output.\n",
    "\n",
    "Example 2:\n",
    "\n",
    "Input: s = \"NSWWEW\", k = 3\n",
    "\n",
    "Output: 6\n",
    "\n",
    "Explanation:\n",
    "\n",
    "Change s[1] from 'S' to 'N', and s[4] from 'E' to 'W'. The string s becomes \"NNWWWW\".\n",
    "\n",
    "The maximum Manhattan distance from the origin that can be achieved is 6. Hence, 6 is the output.\n",
    "\n",
    " \n",
    "\n",
    "Constraints:\n",
    "\n",
    "1 <= s.length <= 105\n",
    "0 <= k <= s.length\n",
    "s consists of only 'N', 'S', 'E', and 'W'."
   ]
  },
  {
   "cell_type": "markdown",
   "id": "2bb65f1d",
   "metadata": {},
   "source": [
    "## Solution:"
   ]
  },
  {
   "cell_type": "code",
   "execution_count": 28,
   "id": "680060b0",
   "metadata": {},
   "outputs": [
    {
     "name": "stdout",
     "output_type": "stream",
     "text": [
      "1\n"
     ]
    }
   ],
   "source": [
    "s = \"EWWE\"\n",
    "k = 0\n",
    "\n",
    "# List of good direction pairs — combinations of directions that increase Manhattan distance\n",
    "good_dir = [['N','E'], ['N','W'], ['S','E'], ['S','W']]\n",
    "\n",
    "res = 0  # This will store the maximum Manhattan distance achieved across all direction pairs\n",
    "\n",
    "# Try each direction pair as the \"preferred\" direction set\n",
    "for d in good_dir:\n",
    "    rem_k = k       # Copy of remaining allowed changes\n",
    "    dist = 0        # Current progress in preferred directions\n",
    "    mx = 0          # Tracks the maximum distance reached for this direction pair\n",
    "\n",
    "    # Go through the path step by step\n",
    "    for char in s:\n",
    "        if char in d:\n",
    "            # If the current move is in the preferred direction, increase dist\n",
    "            dist += 1\n",
    "        else:\n",
    "            if rem_k > 0:\n",
    "                # If it's not a preferred direction but we have changes left,\n",
    "                # simulate changing this move to a preferred one\n",
    "                rem_k -= 1\n",
    "                dist += 1\n",
    "            else:\n",
    "                # No changes left and it's not a preferred direction\n",
    "                # Before losing progress, record the current peak\n",
    "                mx = max(mx, dist)\n",
    "                dist -= 1  # Penalize for a bad move we can't change\n",
    "\n",
    "    # After processing all moves, update mx one last time in case the max is at the end\n",
    "    mx = max(mx, dist)\n",
    "\n",
    "    # Update the global result if this direction pair gave a better outcome\n",
    "    res = max(res, mx)\n",
    "\n",
    "# Print the final result: max Manhattan distance achievable with up to k changes\n",
    "print(res)"
   ]
  }
 ],
 "metadata": {
  "kernelspec": {
   "display_name": "Python 3",
   "language": "python",
   "name": "python3"
  },
  "language_info": {
   "codemirror_mode": {
    "name": "ipython",
    "version": 3
   },
   "file_extension": ".py",
   "mimetype": "text/x-python",
   "name": "python",
   "nbconvert_exporter": "python",
   "pygments_lexer": "ipython3",
   "version": "3.10.9"
  }
 },
 "nbformat": 4,
 "nbformat_minor": 5
}

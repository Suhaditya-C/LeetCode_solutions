{
 "cells": [
  {
   "cell_type": "markdown",
   "id": "ce843ebe",
   "metadata": {},
   "source": [
    "# 2929. Distribute Candies Among Children II\n",
    "\n",
    "You are given two positive integers n and limit.\n",
    "\n",
    "Return the total number of ways to distribute n candies among 3 children such that no child gets more than limit candies.\n",
    "\n",
    " \n",
    "\n",
    "Example 1:\n",
    "\n",
    "Input: n = 5, limit = 2\n",
    "Output: 3\n",
    "Explanation: There are 3 ways to distribute 5 candies such that no child gets more than 2 candies: (1, 2, 2), (2, 1, 2) and (2, 2, 1).\n",
    "Example 2:\n",
    "\n",
    "Input: n = 3, limit = 3\n",
    "Output: 10\n",
    "Explanation: There are 10 ways to distribute 3 candies such that no child gets more than 3 candies: (0, 0, 3), (0, 1, 2), (0, 2, 1), (0, 3, 0), (1, 0, 2), (1, 1, 1), (1, 2, 0), (2, 0, 1), (2, 1, 0) and (3, 0, 0).\n",
    " \n",
    "\n",
    "Constraints:\n",
    "\n",
    "1 <= n <= 106\n",
    "1 <= limit <= 106"
   ]
  },
  {
   "cell_type": "markdown",
   "id": "bf812f5c",
   "metadata": {},
   "source": [
    "## Solution:\n",
    "Brute Force: TLE: 504 / 958 testcases passed"
   ]
  },
  {
   "cell_type": "code",
   "execution_count": 4,
   "id": "755215cb",
   "metadata": {},
   "outputs": [
    {
     "data": {
      "text/plain": [
       "10"
      ]
     },
     "execution_count": 4,
     "metadata": {},
     "output_type": "execute_result"
    }
   ],
   "source": [
    "n = 3; limit = 3\n",
    "res=0\n",
    "for i in range(min(limit,n)+1):\n",
    "    for j in range(min(limit,n-i)+1):\n",
    "        if 0<=n-i-j<=limit:\n",
    "            res+=1\n",
    "res"
   ]
  },
  {
   "cell_type": "markdown",
   "id": "ad8341a1",
   "metadata": {},
   "source": [
    "## Using Combinatorics:\n",
    "\n",
    "Total number of unrestricted distributions:\n",
    "Since children are allowed to receive zero candies, distributing n candies among 3 children is equivalent to placing two dividers among n candies to split them into three groups. The number of such distributions is given by the combination:\n",
    "\n",
    "C \n",
    "n+2\n",
    "2\n",
    "​\n",
    " \n",
    "\n",
    "At least one child receives more than limit candies:\n",
    "We give limit + 1 candies to one child first, reducing the problem to distributing n−(limit+1) candies among 3 children (with possible zeroes). There are 3 choices for which child gets the extra candies, so:\n",
    "\n",
    "3×C \n",
    "n−(limit+1)+2\n",
    "2\n",
    "​\n",
    " \n",
    "\n",
    "At least two children receive more than limit candies:\n",
    "We give limit + 1 candies to any two children, reducing the problem to distributing n−2×(limit+1) candies among 3 children. There are 3 ways to choose the two children:\n",
    "\n",
    "3×C \n",
    "n−2×(limit+1)+2\n",
    "2\n",
    "​\n",
    " \n",
    "\n",
    "All three children receive more than limit candies:\n",
    "We give limit + 1 candies to each child, so we're left with n−3×(limit+1) candies to distribute among 3 children. The number of such distributions is:\n",
    "\n",
    "C \n",
    "n−3×(limit+1)+2\n",
    "2\n",
    "​\n",
    " \n",
    "\n",
    "Finally, applying inclusion-exclusion gives the answer:\n",
    "\n",
    "C \n",
    "n+2\n",
    "2\n",
    "​\n",
    " −3×C \n",
    "n−(limit+1)+2\n",
    "2\n",
    "​\n",
    " +3×C \n",
    "n−2×(limit+1)+2\n",
    "2\n",
    "​\n",
    " −C \n",
    "n−3×(limit+1)+2\n",
    "2\n",
    "​\n",
    "Inclusion-Exclusion Principle Refresher\n",
    "When we count the number of invalid distributions (those where at least one child gets more than limit candies), we have to be careful not to double-count overlapping cases.\n",
    "\n",
    "Let’s denote:\n",
    "\n",
    "𝐴\n",
    "A: sets where child 1 gets more than limit candies,\n",
    "\n",
    "𝐵\n",
    "B: sets where child 2 gets more than limit candies,\n",
    "\n",
    "𝐶\n",
    "C: sets where child 3 gets more than limit candies.\n",
    "\n",
    "The total number of invalid cases is:\n",
    "\n",
    "∣\n",
    "𝐴\n",
    "∪\n",
    "𝐵\n",
    "∪\n",
    "𝐶\n",
    "∣\n",
    "=\n",
    "∣\n",
    "𝐴\n",
    "∣\n",
    "+\n",
    "∣\n",
    "𝐵\n",
    "∣\n",
    "+\n",
    "∣\n",
    "𝐶\n",
    "∣\n",
    "−\n",
    "∣\n",
    "𝐴\n",
    "∩\n",
    "𝐵\n",
    "∣\n",
    "−\n",
    "∣\n",
    "𝐴\n",
    "∩\n",
    "𝐶\n",
    "∣\n",
    "−\n",
    "∣\n",
    "𝐵\n",
    "∩\n",
    "𝐶\n",
    "∣\n",
    "+\n",
    "∣\n",
    "𝐴\n",
    "∩\n",
    "𝐵\n",
    "∩\n",
    "𝐶\n",
    "∣\n",
    "∣A∪B∪C∣=∣A∣+∣B∣+∣C∣−∣A∩B∣−∣A∩C∣−∣B∩C∣+∣A∩B∩C∣\n",
    "This is the standard inclusion-exclusion formula for 3 sets.\n",
    "\n",
    "It’s the classic inclusion-exclusion pattern:\n",
    "\n",
    "Add single violations,\n",
    "\n",
    "Subtract double-overlaps,\n",
    "\n",
    "Add triple-overlaps,\n",
    "\n",
    "And so on..."
   ]
  },
  {
   "cell_type": "code",
   "execution_count": 10,
   "id": "db9481f5",
   "metadata": {},
   "outputs": [
    {
     "data": {
      "text/plain": [
       "0"
      ]
     },
     "execution_count": 10,
     "metadata": {},
     "output_type": "execute_result"
    }
   ],
   "source": [
    "n = 4; limit = 1\n",
    "def comb(x):\n",
    "    if x<0:\n",
    "        return 0\n",
    "    return x*(x-1)//2\n",
    "res= comb(n+2) - 3*comb(n+1-limit) +3*comb(n-2*(limit + 1)+2) - comb(n-3*(limit+1)+2)\n",
    "res"
   ]
  },
  {
   "cell_type": "markdown",
   "id": "79b750ee",
   "metadata": {},
   "source": [
    "## Enumeration"
   ]
  },
  {
   "cell_type": "code",
   "execution_count": 15,
   "id": "af218951",
   "metadata": {},
   "outputs": [
    {
     "data": {
      "text/plain": [
       "10"
      ]
     },
     "execution_count": 15,
     "metadata": {},
     "output_type": "execute_result"
    }
   ],
   "source": [
    "n = 3         # Total number of candies\n",
    "limit = 3     # Maximum number of candies any child can receive\n",
    "res = 0       # Variable to accumulate the number of valid distributions\n",
    "\n",
    "# Iterate over all possible values of B from 0 to min(limit, n)\n",
    "for i in range(min(limit, n) + 1):\n",
    "    # For each value of B = i, remaining candies to be split between A and C is (n - i)\n",
    "\n",
    "    # Check if the remaining candies can be split between A and C\n",
    "    # such that both are ≤ limit (i.e., the total remaining ≤ 2 * limit)\n",
    "    if n - i <= 2 * limit:\n",
    "        # Calculate the number of valid values for A\n",
    "        # A must be between max(0, n - i - limit) and min(limit, n - i)\n",
    "        # This ensures both A and C = (n - i - A) are within [0, limit]\n",
    "        res += min(n - i, limit) - max(0, n - i - limit) + 1\n",
    "\n",
    "# Final result: total number of valid (A, B, C) combinations satisfying all constraints\n",
    "res\n",
    "\n"
   ]
  }
 ],
 "metadata": {
  "kernelspec": {
   "display_name": "base",
   "language": "python",
   "name": "python3"
  },
  "language_info": {
   "codemirror_mode": {
    "name": "ipython",
    "version": 3
   },
   "file_extension": ".py",
   "mimetype": "text/x-python",
   "name": "python",
   "nbconvert_exporter": "python",
   "pygments_lexer": "ipython3",
   "version": "3.12.7"
  }
 },
 "nbformat": 4,
 "nbformat_minor": 5
}

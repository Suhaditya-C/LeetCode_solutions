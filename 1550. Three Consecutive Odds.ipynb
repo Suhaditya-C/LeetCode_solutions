{
 "cells": [
  {
   "cell_type": "markdown",
   "id": "67a9c94d",
   "metadata": {},
   "source": [
    "# 1550. Three Consecutive Odds]\n",
    "\n",
    "Given an integer array arr, return true if there are three consecutive odd numbers in the array. Otherwise, return false.\n",
    " \n",
    "\n",
    "Example 1:\n",
    "\n",
    "Input: arr = [2,6,4,1]\n",
    "Output: false\n",
    "Explanation: There are no three consecutive odds.\n",
    "Example 2:\n",
    "\n",
    "Input: arr = [1,2,34,3,4,5,7,23,12]\n",
    "Output: true\n",
    "Explanation: [5,7,23] are three consecutive odds.\n",
    " \n",
    "\n",
    "Constraints:\n",
    "\n",
    "1 <= arr.length <= 1000\n",
    "1 <= arr[i] <= 1000"
   ]
  },
  {
   "cell_type": "markdown",
   "id": "2a3235c7",
   "metadata": {},
   "source": [
    "## Solution:\n",
    "Product of 3 consecutive odd nos. is also odd"
   ]
  },
  {
   "cell_type": "code",
   "execution_count": 2,
   "id": "c02cdfb8",
   "metadata": {},
   "outputs": [
    {
     "data": {
      "text/plain": [
       "True"
      ]
     },
     "execution_count": 2,
     "metadata": {},
     "output_type": "execute_result"
    }
   ],
   "source": [
    "arr = [1,2,34,3,4,5,7,23,12]\n",
    "flag=False\n",
    "for i in range(2,len(arr)):\n",
    "    if arr[i-2]*arr[i-1]*arr[i]%2==1:\n",
    "        flag=True\n",
    "        break\n",
    "flag"
   ]
  }
 ],
 "metadata": {
  "kernelspec": {
   "display_name": "Python 3",
   "language": "python",
   "name": "python3"
  },
  "language_info": {
   "codemirror_mode": {
    "name": "ipython",
    "version": 3
   },
   "file_extension": ".py",
   "mimetype": "text/x-python",
   "name": "python",
   "nbconvert_exporter": "python",
   "pygments_lexer": "ipython3",
   "version": "3.12.4"
  }
 },
 "nbformat": 4,
 "nbformat_minor": 5
}

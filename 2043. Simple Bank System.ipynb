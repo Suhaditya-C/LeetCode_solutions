{
 "cells": [
  {
   "cell_type": "markdown",
   "id": "110f3435",
   "metadata": {},
   "source": [
    "# 2043. Simple Bank System\n",
    "\n",
    "You have been tasked with writing a program for a popular bank that will automate all its incoming transactions (transfer, deposit, and withdraw). The bank has n accounts numbered from 1 to n. The initial balance of each account is stored in a 0-indexed integer array balance, with the (i + 1)th account having an initial balance of balance[i].\n",
    "\n",
    "Execute all the valid transactions. A transaction is valid if:\n",
    "\n",
    "The given account number(s) are between 1 and n, and\n",
    "The amount of money withdrawn or transferred from is less than or equal to the balance of the account.\n",
    "Implement the Bank class:\n",
    "\n",
    "Bank(long[] balance) Initializes the object with the 0-indexed integer array balance.\n",
    "boolean transfer(int account1, int account2, long money) Transfers money dollars from the account numbered account1 to the account numbered account2. Return true if the transaction was successful, false otherwise.\n",
    "boolean deposit(int account, long money) Deposit money dollars into the account numbered account. Return true if the transaction was successful, false otherwise.\n",
    "boolean withdraw(int account, long money) Withdraw money dollars from the account numbered account. Return true if the transaction was successful, false otherwise.\n",
    " \n",
    "\n",
    "Example 1:\n",
    "\n",
    "Input\n",
    "[\"Bank\", \"withdraw\", \"transfer\", \"deposit\", \"transfer\", \"withdraw\"]\n",
    "[[[10, 100, 20, 50, 30]], [3, 10], [5, 1, 20], [5, 20], [3, 4, 15], [10, 50]]\n",
    "Output\n",
    "[null, true, true, true, false, false]\n",
    "\n",
    "Explanation\n",
    "Bank bank = new Bank([10, 100, 20, 50, 30]);\n",
    "bank.withdraw(3, 10);    // return true, account 3 has a balance of $20, so it is valid to withdraw $10.\n",
    "                         // Account 3 has $20 - $10 = $10.\n",
    "bank.transfer(5, 1, 20); // return true, account 5 has a balance of $30, so it is valid to transfer $20.\n",
    "                         // Account 5 has $30 - $20 = $10, and account 1 has $10 + $20 = $30.\n",
    "bank.deposit(5, 20);     // return true, it is valid to deposit $20 to account 5.\n",
    "                         // Account 5 has $10 + $20 = $30.\n",
    "bank.transfer(3, 4, 15); // return false, the current balance of account 3 is $10,\n",
    "                         // so it is invalid to transfer $15 from it.\n",
    "bank.withdraw(10, 50);   // return false, it is invalid because account 10 does not exist.\n",
    " \n",
    "\n",
    "Constraints:\n",
    "\n",
    "n == balance.length\n",
    "1 <= n, account, account1, account2 <= 105\n",
    "0 <= balance[i], money <= 1012\n",
    "At most 104 calls will be made to each function transfer, deposit, withdraw."
   ]
  },
  {
   "cell_type": "markdown",
   "id": "0edb8b37",
   "metadata": {},
   "source": [
    "## Solution: Simulate the ops, use a hashmap"
   ]
  },
  {
   "cell_type": "code",
   "execution_count": 4,
   "id": "8cb0ac77",
   "metadata": {},
   "outputs": [],
   "source": [
    "from typing import List\n",
    "class Bank:\n",
    "\n",
    "    def __init__(self, balance: List[int]):\n",
    "        self.mpp={}\n",
    "        self.balance=balance\n",
    "        for i in range(len(self.balance)):\n",
    "            self.mpp[i+1]=self.balance[i]\n",
    "        \n",
    "\n",
    "    def transfer(self, account1: int, account2: int, money: int) -> bool:\n",
    "        if account1 in self.mpp and account2 in self.mpp and self.mpp[account1]>=money:\n",
    "            self.mpp[account1]-=money\n",
    "            self.mpp[account2]+=money\n",
    "            return True\n",
    "        return False\n",
    "\n",
    "    def deposit(self, account: int, money: int) -> bool:\n",
    "        if account in self.mpp:\n",
    "            self.mpp[account]+=money\n",
    "            return True\n",
    "        return False\n",
    "    \n",
    "\n",
    "    def withdraw(self, account: int, money: int) -> bool:\n",
    "        if account in self.mpp and self.mpp[account]>=money:\n",
    "            self.mpp[account]-=money\n",
    "            return True\n",
    "        return False\n",
    "        \n",
    "# Your Bank object will be instantiated and called as such:\n",
    "# obj = Bank(balance)\n",
    "# param_1 = obj.transfer(account1,account2,money)\n",
    "# param_2 = obj.deposit(account,money)\n",
    "# param_3 = obj.withdraw(account,money)"
   ]
  },
  {
   "cell_type": "code",
   "execution_count": 5,
   "id": "88aacbb8",
   "metadata": {},
   "outputs": [
    {
     "data": {
      "text/plain": [
       "[None, True, True, True, False, False]"
      ]
     },
     "execution_count": 5,
     "metadata": {},
     "output_type": "execute_result"
    }
   ],
   "source": [
    "calls=[\"Bank\",\"withdraw\",\"transfer\",\"deposit\",\"transfer\",\"withdraw\"]\n",
    "inputs=[[[10,100,20,50,30]],[3,10],[5,1,20],[5,20],[3,4,15],[10,50]]\n",
    "res=[]\n",
    "for i in range(len(calls)):\n",
    "    if calls[i]==\"Bank\":\n",
    "        balance=inputs[i][0]\n",
    "        obj=Bank(balance)\n",
    "        res.append(None)\n",
    "    elif calls[i]==\"withdraw\":\n",
    "        account,money=inputs[i][0],inputs[i][1]\n",
    "        res.append(obj.withdraw(account,money))\n",
    "    elif calls[i]==\"transfer\":\n",
    "        account1,account2,money=inputs[i][0],inputs[i][1],inputs[i][2]\n",
    "        res.append(obj.transfer(account1,account2,money))\n",
    "    else:\n",
    "        account,money=inputs[i][0],inputs[i][1]\n",
    "        res.append(obj.deposit(account,money))\n",
    "res"
   ]
  }
 ],
 "metadata": {
  "kernelspec": {
   "display_name": "Python 3",
   "language": "python",
   "name": "python3"
  },
  "language_info": {
   "codemirror_mode": {
    "name": "ipython",
    "version": 3
   },
   "file_extension": ".py",
   "mimetype": "text/x-python",
   "name": "python",
   "nbconvert_exporter": "python",
   "pygments_lexer": "ipython3",
   "version": "3.10.9"
  }
 },
 "nbformat": 4,
 "nbformat_minor": 5
}

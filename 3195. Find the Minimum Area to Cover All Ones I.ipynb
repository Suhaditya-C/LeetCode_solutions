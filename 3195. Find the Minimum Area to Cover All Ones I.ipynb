{
 "cells": [
  {
   "attachments": {
    "image-2.png": {
     "image/png": "[encoded data removed]"
    },
    "image.png": {
     "image/png": "[encoded data removed]"
    }
   },
   "cell_type": "markdown",
   "id": "1f07fba0",
   "metadata": {},
   "source": [
    "# 3195. Find the Minimum Area to Cover All Ones I\n",
    "\n",
    "You are given a 2D binary array grid. Find a rectangle with horizontal and vertical sides with the smallest area, such that all the 1's in grid lie inside this rectangle.\n",
    "\n",
    "Return the minimum possible area of the rectangle.\n",
    "\n",
    " \n",
    "\n",
    "Example 1:\n",
    "\n",
    "Input: grid = [[0,1,0],[1,0,1]]\n",
    "\n",
    "Output: 6\n",
    "\n",
    "Explanation:\n",
    "\n",
    "![image.png](attachment:image.png)\n",
    "\n",
    "\n",
    "\n",
    "The smallest rectangle has a height of 2 and a width of 3, so it has an area of 2 * 3 = 6.\n",
    "\n",
    "Example 2:\n",
    "\n",
    "Input: grid = [[1,0],[0,0]]\n",
    "\n",
    "Output: 1\n",
    "\n",
    "Explanation:\n",
    "\n",
    "![image-2.png](attachment:image-2.png)\n",
    "\n",
    "The smallest rectangle has both height and width 1, so its area is 1 * 1 = 1.\n",
    "\n",
    " \n",
    "\n",
    "Constraints:\n",
    "\n",
    "1 <= grid.length, grid[i].length <= 1000\n",
    "grid[i][j] is either 0 or 1.\n",
    "The input is generated such that there is at least one 1 in grid."
   ]
  },
  {
   "cell_type": "markdown",
   "id": "bc36b1c0",
   "metadata": {},
   "source": [
    "## Solution"
   ]
  },
  {
   "cell_type": "code",
   "execution_count": null,
   "id": "b7f17c20",
   "metadata": {},
   "outputs": [
    {
     "data": {
      "text/plain": [
       "16"
      ]
     },
     "execution_count": 3,
     "metadata": {},
     "output_type": "execute_result"
    }
   ],
   "source": [
    "grid = [[0,1,0,0],[1,0,1,0],[0,0,0,0],[1,0,0,1]]  # Input 2D grid\n",
    "m, n = len(grid), len(grid[0])                    # Get number of rows and columns\n",
    "\n",
    "i_min, j_min = m, n                               # Initialize min row/col indices to max possible\n",
    "i_max, j_max = 0, 0                               # Initialize max row/col indices to min possible\n",
    "\n",
    "for i in range(m):                                # Iterate over each row\n",
    "    for j in range(n):                            # Iterate over each column\n",
    "        if grid[i][j] == 1:                       # If cell contains a 1\n",
    "            i_min = min(i_min, i)                 # Update minimum row index\n",
    "            j_min = min(j, j_min)                 # Update minimum column index\n",
    "            i_max = max(i_max, i)                 # Update maximum row index\n",
    "            j_max = max(j, j_max)                 # Update maximum column index\n",
    "\n",
    "(i_max - i_min + 1) * (j_max - j_min + 1)         # Compute area of rectangle covering all 1's"
   ]
  }
 ],
 "metadata": {
  "kernelspec": {
   "display_name": "Python 3",
   "language": "python",
   "name": "python3"
  },
  "language_info": {
   "codemirror_mode": {
    "name": "ipython",
    "version": 3
   },
   "file_extension": ".py",
   "mimetype": "text/x-python",
   "name": "python",
   "nbconvert_exporter": "python",
   "pygments_lexer": "ipython3",
   "version": "3.10.9"
  }
 },
 "nbformat": 4,
 "nbformat_minor": 5
}

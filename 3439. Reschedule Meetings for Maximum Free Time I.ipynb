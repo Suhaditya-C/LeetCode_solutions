{
 "cells": [
  {
   "attachments": {
    "image-2.png": {
     "image/png": "[encoded data removed]"
    },
    "image.png": {
     "image/png": "[encoded data removed]"
    }
   },
   "cell_type": "markdown",
   "id": "36eb562c",
   "metadata": {},
   "source": [
    "# Reschedule Meetings for Maximum Free Time I\n",
    "\n",
    "You are given an integer eventTime denoting the duration of an event, where the event occurs from time t = 0 to time t = eventTime.\n",
    "\n",
    "You are also given two integer arrays startTime and endTime, each of length n. These represent the start and end time of n non-overlapping meetings, where the ith meeting occurs during the time [startTime[i], endTime[i]].\n",
    "\n",
    "You can reschedule at most k meetings by moving their start time while maintaining the same duration, to maximize the longest continuous period of free time during the event.\n",
    "\n",
    "The relative order of all the meetings should stay the same and they should remain non-overlapping.\n",
    "\n",
    "Return the maximum amount of free time possible after rearranging the meetings.\n",
    "\n",
    "Note that the meetings can not be rescheduled to a time outside the event.\n",
    "\n",
    " \n",
    "\n",
    "Example 1:\n",
    "\n",
    "Input: eventTime = 5, k = 1, startTime = [1,3], endTime = [2,5]\n",
    "\n",
    "Output: 2\n",
    "\n",
    "Explanation:\n",
    "\n",
    "![image.png](attachment:image.png)\n",
    "\n",
    "Reschedule the meeting at [1, 2] to [2, 3], leaving no meetings during the time [0, 2].\n",
    "\n",
    "Example 2:\n",
    "\n",
    "Input: eventTime = 10, k = 1, startTime = [0,2,9], endTime = [1,4,10]\n",
    "\n",
    "Output: 6\n",
    "\n",
    "Explanation:\n",
    "\n",
    "![image-2.png](attachment:image-2.png)\n",
    "\n",
    "Reschedule the meeting at [2, 4] to [1, 3], leaving no meetings during the time [3, 9].\n",
    "\n",
    "Example 3:\n",
    "\n",
    "Input: eventTime = 5, k = 2, startTime = [0,1,2,3,4], endTime = [1,2,3,4,5]\n",
    "\n",
    "Output: 0\n",
    "\n",
    "Explanation:\n",
    "\n",
    "There is no time during the event not occupied by meetings.\n",
    "\n",
    " \n",
    "\n",
    "Constraints:\n",
    "\n",
    "1 <= eventTime <= 109\n",
    "n == startTime.length == endTime.length\n",
    "2 <= n <= 105\n",
    "1 <= k <= n\n",
    "0 <= startTime[i] < endTime[i] <= eventTime\n",
    "endTime[i] <= startTime[i + 1] where i lies in the range [0, n - 2]."
   ]
  },
  {
   "cell_type": "markdown",
   "id": "c4318ce1",
   "metadata": {},
   "source": [
    "## Solution: \n",
    "TLE"
   ]
  },
  {
   "cell_type": "code",
   "execution_count": 33,
   "id": "44c3e432",
   "metadata": {},
   "outputs": [
    {
     "data": {
      "text/plain": [
       "18"
      ]
     },
     "execution_count": 33,
     "metadata": {},
     "output_type": "execute_result"
    }
   ],
   "source": [
    "eventTime = 34; k = 2; startTime = [0,17]; endTime = [14,19]\n",
    "breaklen=[]\n",
    "last_end=0\n",
    "for i in range(len(startTime)):\n",
    "    breaklen.append(startTime[i]-last_end)\n",
    "    last_end=endTime[i]\n",
    "breaklen.append(eventTime-last_end)\n",
    "res=0\n",
    "m=min(len(breaklen),k+1)\n",
    "for j in range(len(breaklen)-m+1):\n",
    "    res=max(res,sum(breaklen[j:j+m]))\n",
    "res  \n"
   ]
  },
  {
   "cell_type": "code",
   "execution_count": null,
   "id": "1b46552b",
   "metadata": {},
   "outputs": [
    {
     "data": {
      "text/plain": [
       "18"
      ]
     },
     "execution_count": 39,
     "metadata": {},
     "output_type": "execute_result"
    }
   ],
   "source": [
    "eventTime = 34  # Total duration of the event\n",
    "k = 2  # Size of the sliding window (number of breaks to be considered)\n",
    "startTime = [0, 17]  # Start times of the active intervals\n",
    "endTime = [14, 19]  # End times of the active intervals\n",
    "\n",
    "breaklen = []  # List to store lengths of breaks (inactive intervals)\n",
    "last_end = 0  # Tracks the end time of the last interval\n",
    "\n",
    "# Calculate the lengths of breaks between active intervals\n",
    "for i in range(len(startTime)):\n",
    "    breaklen.append(startTime[i] - last_end)  # Break before the current active interval\n",
    "    last_end = endTime[i]  # Update the last_end to current interval's end\n",
    "\n",
    "# Add the final break after the last active interval till the end of the event\n",
    "breaklen.append(eventTime - last_end)\n",
    "\n",
    "res = []  # Stores the sums of break lengths in each sliding window of size k+1\n",
    "\n",
    "# Initialize with the sum of the first (k+1) break intervals\n",
    "res.append(sum(breaklen[:k+1]))\n",
    "\n",
    "# Apply sliding window: update sum by removing the break that slides out and adding the one that slides in\n",
    "for i in range(k+1, len(breaklen)):\n",
    "    candidate = res[-1] + breaklen[i] - breaklen[i-k]\n",
    "    res.append(candidate)\n",
    "\n",
    "# Find the maximum total break duration among all sliding windows of size (k+1)\n",
    "max(res)\n",
    "\n"
   ]
  }
 ],
 "metadata": {
  "kernelspec": {
   "display_name": "Python 3",
   "language": "python",
   "name": "python3"
  },
  "language_info": {
   "codemirror_mode": {
    "name": "ipython",
    "version": 3
   },
   "file_extension": ".py",
   "mimetype": "text/x-python",
   "name": "python",
   "nbconvert_exporter": "python",
   "pygments_lexer": "ipython3",
   "version": "3.10.9"
  }
 },
 "nbformat": 4,
 "nbformat_minor": 5
}

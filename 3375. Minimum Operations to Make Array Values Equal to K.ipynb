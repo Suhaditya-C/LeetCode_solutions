{
 "cells": [
  {
   "cell_type": "markdown",
   "id": "c7839225",
   "metadata": {},
   "source": [
    "# 3375. Minimum Operations to Make Array Values Equal to K\n",
    "\n",
    "You are given an integer array nums and an integer k.\n",
    "\n",
    "An integer h is called valid if all values in the array that are strictly greater than h are identical.\n",
    "\n",
    "For example, if nums = [10, 8, 10, 8], a valid integer is h = 9 because all nums[i] > 9 are equal to 10, but 5 is not a valid integer.\n",
    "\n",
    "You are allowed to perform the following operation on nums:\n",
    "\n",
    "Select an integer h that is valid for the current values in nums.\n",
    "For each index i where nums[i] > h, set nums[i] to h.\n",
    "Return the minimum number of operations required to make every element in nums equal to k. If it is impossible to make all elements equal to k, return -1.\n",
    "\n",
    " \n",
    "\n",
    "Example 1:\n",
    "\n",
    "Input: nums = [5,2,5,4,5], k = 2\n",
    "\n",
    "Output: 2\n",
    "\n",
    "Explanation:\n",
    "\n",
    "The operations can be performed in order using valid integers 4 and then 2.\n",
    "\n",
    "Example 2:\n",
    "\n",
    "Input: nums = [2,1,2], k = 2\n",
    "\n",
    "Output: -1\n",
    "\n",
    "Explanation:\n",
    "\n",
    "It is impossible to make all the values equal to 2.\n",
    "\n",
    "Example 3:\n",
    "\n",
    "Input: nums = [9,7,5,3], k = 1\n",
    "\n",
    "Output: 4\n",
    "\n",
    "Explanation:\n",
    "\n",
    "The operations can be performed using valid integers in the order 7, 5, 3, and 1.\n",
    "\n",
    " \n",
    "\n",
    "Constraints:\n",
    "\n",
    "1 <= nums.length <= 100 \n",
    "1 <= nums[i] <= 100\n",
    "1 <= k <= 100"
   ]
  },
  {
   "cell_type": "markdown",
   "id": "96c4c372",
   "metadata": {},
   "source": [
    "## Solution"
   ]
  },
  {
   "cell_type": "code",
   "execution_count": 1,
   "id": "03d3c9c3",
   "metadata": {},
   "outputs": [
    {
     "data": {
      "text/plain": [
       "2"
      ]
     },
     "execution_count": 1,
     "metadata": {},
     "output_type": "execute_result"
    }
   ],
   "source": [
    "nums = [5,2,5,4,5]; k = 2\n",
    "ops=0\n",
    "for num in set(nums):\n",
    "    if num>k:\n",
    "        ops+=1\n",
    "    elif num<k:\n",
    "        ops=-1\n",
    "        break\n",
    "ops"
   ]
  }
 ],
 "metadata": {
  "kernelspec": {
   "display_name": "Python 3",
   "language": "python",
   "name": "python3"
  },
  "language_info": {
   "codemirror_mode": {
    "name": "ipython",
    "version": 3
   },
   "file_extension": ".py",
   "mimetype": "text/x-python",
   "name": "python",
   "nbconvert_exporter": "python",
   "pygments_lexer": "ipython3",
   "version": "3.12.4"
  }
 },
 "nbformat": 4,
 "nbformat_minor": 5
}

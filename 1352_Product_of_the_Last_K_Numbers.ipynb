{
  "nbformat": 4,
  "nbformat_minor": 0,
  "metadata": {
    "colab": {
      "provenance": [],
      "authorship_tag": "ABX9TyOz8E0EU9CHAkXxBHNXzMuf",
      "include_colab_link": true
    },
    "kernelspec": {
      "name": "python3",
      "display_name": "Python 3"
    },
    "language_info": {
      "name": "python"
    }
  },
  "cells": [
    {
      "cell_type": "markdown",
      "metadata": {
        "id": "view-in-github",
        "colab_type": "text"
      },
      "source": [
        "<a href=\"https://colab.research.google.com/github/Suhaditya-C/LeetCode_solutions/blob/main/1352_Product_of_the_Last_K_Numbers.ipynb\" target=\"_parent\"><img src=\"https://colab.research.google.com/assets/colab-badge.svg\" alt=\"Open In Colab\"/></a>"
      ]
    },
    {
      "cell_type": "markdown",
      "source": [
        "## 1352. Product of the Last K Numbers\n",
        "\n",
        "Design an algorithm that accepts a stream of integers and retrieves the product of the last k integers of the stream.\n",
        "\n",
        "Implement the ProductOfNumbers class:\n",
        "\n",
        "ProductOfNumbers() Initializes the object with an empty stream.\n",
        "void add(int num) Appends the integer num to the stream.\n",
        "int getProduct(int k) Returns the product of the last k numbers in the current list. You can assume that always the current list has at least k numbers.\n",
        "The test cases are generated so that, at any time, the product of any contiguous sequence of numbers will fit into a single 32-bit integer without overflowing.\n",
        "\n",
        "Example:\n",
        "\n",
        "Input\n",
        "[\"ProductOfNumbers\",\"add\",\"add\",\"add\",\"add\",\"add\",\"getProduct\",\"getProduct\",\"getProduct\",\"add\",\"getProduct\"]\n",
        "[[],[3],[0],[2],[5],[4],[2],[3],[4],[8],[2]]\n",
        "\n",
        "Output\n",
        "[null,null,null,null,null,null,20,40,0,null,32]\n",
        "\n",
        "Explanation\n",
        "ProductOfNumbers productOfNumbers = new ProductOfNumbers();\n",
        "productOfNumbers.add(3);        // [3]\n",
        "productOfNumbers.add(0);        // [3,0]\n",
        "productOfNumbers.add(2);        // [3,0,2]\n",
        "productOfNumbers.add(5);        // [3,0,2,5]\n",
        "productOfNumbers.add(4);        // [3,0,2,5,4]\n",
        "productOfNumbers.getProduct(2); // return 20. The product of the last 2 numbers is 5 * 4 = 20\n",
        "productOfNumbers.getProduct(3); // return 40. The product of the last 3 numbers is 2 * 5 * 4 = 40\n",
        "productOfNumbers.getProduct(4); // return 0. The product of the last 4 numbers is 0 * 2 * 5 * 4 = 0\n",
        "productOfNumbers.add(8);        // [3,0,2,5,4,8]\n",
        "productOfNumbers.getProduct(2); // return 32. The product of the last 2 numbers is 4 * 8 = 32\n",
        "\n",
        "Constraints:\n",
        "\n",
        "0 <= num <= 100\n",
        "1 <= k <= 4 * 104\n",
        "At most 4 * 104 calls will be made to add and getProduct.\n",
        "The product of the stream at any point in time will fit in a 32-bit integer.\n",
        "\n",
        "\n",
        "Follow-up: Can you implement both GetProduct and Add to work in O(1) time complexity instead of O(k) time complexity?"
      ],
      "metadata": {
        "id": "lGsJISh63lbO"
      }
    },
    {
      "cell_type": "markdown",
      "source": [
        "Brute Force"
      ],
      "metadata": {
        "id": "gpxXQy3G9PhA"
      }
    },
    {
      "cell_type": "code",
      "source": [
        "import numpy as np"
      ],
      "metadata": {
        "id": "zfV7Lkbf7cc4"
      },
      "execution_count": null,
      "outputs": []
    },
    {
      "cell_type": "code",
      "source": [
        "import numpy as np\n",
        "class ProductOfNumbers:\n",
        "\n",
        "    def __init__(self):\n",
        "        self.stream=[]\n",
        "\n",
        "\n",
        "    def add(self, num: int) -> None:\n",
        "        self.stream.append(num)\n",
        "\n",
        "\n",
        "    def getProduct(self, k: int) -> int:\n",
        "        self.res=np.prod(self.stream[-k:])\n",
        "        return int(self.res)\n",
        "\n",
        "# Your ProductOfNumbers object will be instantiated and called as such:\n",
        "# obj = ProductOfNumbers()\n",
        "# obj.add(num)\n",
        "# param_2 = obj.getProduct(k)"
      ],
      "metadata": {
        "id": "3F-B2dGdp3TS"
      },
      "execution_count": null,
      "outputs": []
    },
    {
      "cell_type": "markdown",
      "source": [
        "Efficient Solution"
      ],
      "metadata": {
        "id": "fBMpSw2c9VHA"
      }
    },
    {
      "cell_type": "code",
      "source": [
        "import numpy as np\n",
        "class ProductOfNumbers:\n",
        "\n",
        "    def __init__(self):\n",
        "        self.stream=[]\n",
        "        self.prefix=[]\n",
        "        self.prod=1\n",
        "\n",
        "    def add(self, num: int) -> None:\n",
        "        if num==0:\n",
        "            self.prefix=[]\n",
        "            self.prod=1\n",
        "        else:\n",
        "            self.stream.append(num)\n",
        "            self.prod*=num\n",
        "            self.prefix.append(self.prod)\n",
        "\n",
        "    def getProduct(self, k: int) -> int:\n",
        "        if k<len(self.prefix):\n",
        "            return self.prefix[-1]//self.prefix[-k-1]\n",
        "        elif k==len(self.prefix):\n",
        "            return self.prefix[-1]\n",
        "        else:\n",
        "            return 0\n",
        "\n",
        "# Your ProductOfNumbers object will be instantiated and called as such:\n",
        "# obj = ProductOfNumbers()\n",
        "# obj.add(num)\n",
        "# param_2 = obj.getProduct(k)"
      ],
      "metadata": {
        "id": "3kKknedFAQKC"
      },
      "execution_count": null,
      "outputs": []
    }
  ]
}
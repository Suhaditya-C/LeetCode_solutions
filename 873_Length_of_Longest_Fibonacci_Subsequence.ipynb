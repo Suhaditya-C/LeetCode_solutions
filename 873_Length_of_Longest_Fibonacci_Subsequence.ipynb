{
  "nbformat": 4,
  "nbformat_minor": 0,
  "metadata": {
    "colab": {
      "provenance": [],
      "authorship_tag": "ABX9TyMDpHymgDK6NdIciavAWYxD",
      "include_colab_link": true
    },
    "kernelspec": {
      "name": "python3",
      "display_name": "Python 3"
    },
    "language_info": {
      "name": "python"
    }
  },
  "cells": [
    {
      "cell_type": "markdown",
      "metadata": {
        "id": "view-in-github",
        "colab_type": "text"
      },
      "source": [
        "<a href=\"https://colab.research.google.com/github/Suhaditya-C/LeetCode_solutions/blob/main/873_Length_of_Longest_Fibonacci_Subsequence.ipynb\" target=\"_parent\"><img src=\"https://colab.research.google.com/assets/colab-badge.svg\" alt=\"Open In Colab\"/></a>"
      ]
    },
    {
      "cell_type": "markdown",
      "source": [
        "## 873. Length of Longest Fibonacci Subsequence\n",
        "\n",
        "A sequence x1, x2, ..., xn is Fibonacci-like if:\n",
        "\n",
        "n >= 3\n",
        "xi + xi+1 == xi+2 for all i + 2 <= n\n",
        "Given a strictly increasing array arr of positive integers forming a sequence, return the length of the longest Fibonacci-like subsequence of arr. If one does not exist, return 0.\n",
        "\n",
        "A subsequence is derived from another sequence arr by deleting any number of elements (including none) from arr, without changing the order of the remaining elements. For example, [3, 5, 8] is a subsequence of [3, 4, 5, 6, 7, 8].\n",
        "\n",
        "\n",
        "\n",
        "Example 1:\n",
        "\n",
        "Input: arr = [1,2,3,4,5,6,7,8]\n",
        "Output: 5\n",
        "Explanation: The longest subsequence that is fibonacci-like: [1,2,3,5,8].\n",
        "Example 2:\n",
        "\n",
        "Input: arr = [1,3,7,11,12,14,18]\n",
        "Output: 3\n",
        "Explanation: The longest subsequence that is fibonacci-like: [1,11,12], [3,11,14] or [7,11,18].\n",
        "\n",
        "\n",
        "Constraints:\n",
        "\n",
        "3 <= arr.length <= 1000\n",
        "1 <= arr[i] < arr[i + 1] <= 109"
      ],
      "metadata": {
        "id": "gTtJSui2iLcl"
      }
    },
    {
      "cell_type": "markdown",
      "source": [
        "Brute Force"
      ],
      "metadata": {
        "id": "1VyuVQYui9A-"
      }
    },
    {
      "cell_type": "code",
      "source": [
        "arr = [1,2,3,4,5,6,7,8]\n",
        "count=0\n",
        "def fibcheck(a, b):\n",
        "    if a + b not in arr:\n",
        "        return 0  # Base case: stop if (a+b) is not in arr\n",
        "\n",
        "    return 1 + fibcheck(b, a + b)  # Count the Fibonacci-like sequence\n",
        "#Take 2 starting points\n",
        "for i in range(len(arr)):\n",
        "    for j in range(i+1,len(arr)):\n",
        "        count=max(count,fibcheck(arr[i],arr[j]))\n",
        "if count>0:\n",
        "    print(count+2)\n",
        "else:\n",
        "    print(count)"
      ],
      "metadata": {
        "colab": {
          "base_uri": "https://localhost:8080/"
        },
        "id": "UHGyLKKU_S1E",
        "outputId": "67cd9360-b468-40d4-94d2-2d4d17a0853f"
      },
      "execution_count": null,
      "outputs": [
        {
          "output_type": "stream",
          "name": "stdout",
          "text": [
            "5\n"
          ]
        }
      ]
    },
    {
      "cell_type": "markdown",
      "source": [
        "More efficient Solution"
      ],
      "metadata": {
        "id": "tevI_SxH2WbV"
      }
    },
    {
      "cell_type": "code",
      "source": [
        "arr = [1,2,3,4,5,6,7,8]\n",
        "res=0\n",
        "#Take 2 starting points\n",
        "for i in range(len(arr)):\n",
        "    for j in range(i+1,len(arr)):\n",
        "        prev=arr[i]\n",
        "        cur=arr[j]\n",
        "        next=prev+cur\n",
        "        count=0\n",
        "        while next in arr:\n",
        "            count+=1\n",
        "            prev=cur\n",
        "            cur=next\n",
        "            next=prev+cur\n",
        "        res=max(res,count)\n",
        "print(res+2 if res>0 else 0)"
      ],
      "metadata": {
        "id": "6P_CQJ5NOeDz",
        "colab": {
          "base_uri": "https://localhost:8080/"
        },
        "outputId": "8f3e4ee1-1da7-481b-ea24-8191f3b12eca"
      },
      "execution_count": null,
      "outputs": [
        {
          "output_type": "stream",
          "name": "stdout",
          "text": [
            "5\n"
          ]
        }
      ]
    },
    {
      "cell_type": "code",
      "source": [
        "#Instead of using a list (arr), we convert it to a set (arr_set), which provides O(1) average-time lookup.\n",
        "arr_set=set(arr)\n",
        "res=0\n",
        "#Take 2 starting points\n",
        "for i in range(len(arr)):\n",
        "    for j in range(i+1,len(arr)):\n",
        "        prev=arr[i]\n",
        "        cur=arr[j]\n",
        "        next=prev+cur\n",
        "        count=0\n",
        "        while next in arr_set:\n",
        "            count+=1\n",
        "            prev=cur\n",
        "            cur=next\n",
        "            next=prev+cur\n",
        "        res=max(res,count)\n",
        "print(res+2 if res>0 else 0)"
      ],
      "metadata": {
        "colab": {
          "base_uri": "https://localhost:8080/"
        },
        "id": "JpURSoS_9aHG",
        "outputId": "161cc95f-777b-4b68-877e-27a350b11087"
      },
      "execution_count": null,
      "outputs": [
        {
          "output_type": "stream",
          "name": "stdout",
          "text": [
            "5\n"
          ]
        }
      ]
    }
  ]
}
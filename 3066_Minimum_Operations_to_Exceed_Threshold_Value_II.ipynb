{
  "nbformat": 4,
  "nbformat_minor": 0,
  "metadata": {
    "colab": {
      "provenance": [],
      "authorship_tag": "ABX9TyOtWDUJNDjX466gy0QROHbN",
      "include_colab_link": true
    },
    "kernelspec": {
      "name": "python3",
      "display_name": "Python 3"
    },
    "language_info": {
      "name": "python"
    }
  },
  "cells": [
    {
      "cell_type": "markdown",
      "metadata": {
        "id": "view-in-github",
        "colab_type": "text"
      },
      "source": [
        "<a href=\"https://colab.research.google.com/github/Suhaditya-C/LeetCode_solutions/blob/main/3066_Minimum_Operations_to_Exceed_Threshold_Value_II.ipynb\" target=\"_parent\"><img src=\"https://colab.research.google.com/assets/colab-badge.svg\" alt=\"Open In Colab\"/></a>"
      ]
    },
    {
      "cell_type": "markdown",
      "source": [
        "## 3066. Minimum Operations to Exceed Threshold Value II\n",
        "\n",
        "You are given a 0-indexed integer array nums, and an integer k.\n",
        "\n",
        "In one operation, you will:\n",
        "\n",
        "Take the two smallest integers x and y in nums.\n",
        "Remove x and y from nums.\n",
        "Add min(x, y) * 2 + max(x, y) anywhere in the array.\n",
        "Note that you can only apply the described operation if nums contains at least two elements.\n",
        "\n",
        "Return the minimum number of operations needed so that all elements of the array are greater than or equal to k.\n",
        "\n",
        "Example 1:\n",
        "\n",
        "Input: nums = [2,11,10,1,3], k = 10\n",
        "Output: 2\n",
        "Explanation: In the first operation, we remove elements 1 and 2, then add 1 * 2 + 2 to nums. nums becomes equal to [4, 11, 10, 3].\n",
        "In the second operation, we remove elements 3 and 4, then add 3 * 2 + 4 to nums. nums becomes equal to [10, 11, 10].\n",
        "At this stage, all the elements of nums are greater than or equal to 10 so we can stop.\n",
        "It can be shown that 2 is the minimum number of operations needed so that all elements of the array are greater than or equal to 10.\n",
        "Example 2:\n",
        "\n",
        "Input: nums = [1,1,2,4,9], k = 20\n",
        "Output: 4\n",
        "Explanation: After one operation, nums becomes equal to [2, 4, 9, 3].\n",
        "After two operations, nums becomes equal to [7, 4, 9].\n",
        "After three operations, nums becomes equal to [15, 9].\n",
        "After four operations, nums becomes equal to [33].\n",
        "At this stage, all the elements of nums are greater than 20 so we can stop.\n",
        "It can be shown that 4 is the minimum number of operations needed so that all elements of the array are greater than or equal to 20.\n",
        "\n",
        "\n",
        "Constraints:\n",
        "\n",
        "2 <= nums.length <= 2 * 105\n",
        "1 <= nums[i] <= 109\n",
        "1 <= k <= 109\n",
        "The input is generated such that an answer always exists. That is, there exists some sequence of operations after which all elements of the array are greater than or equal to k."
      ],
      "metadata": {
        "id": "wGh1ApRonJ73"
      }
    },
    {
      "cell_type": "markdown",
      "source": [
        "Brute Force--Time Limit Exceeded"
      ],
      "metadata": {
        "id": "lc-mE4DZsElP"
      }
    },
    {
      "cell_type": "code",
      "source": [
        "nums = [1,1,2,4,9]; k = 20\n",
        "max_num,min_num=0,0\n",
        "count=0\n",
        "while len(nums)>=2 and min(nums)<k:\n",
        "    min1=min(nums)\n",
        "    nums.remove(min1)\n",
        "    min2=min(nums)\n",
        "    nums.remove(min2)\n",
        "    max_num=max(min1,min2)\n",
        "    min_num=min(min1,min2)\n",
        "    nums.append(max_num+min_num*2)\n",
        "    count+=1\n",
        "    print(nums)\n",
        "count"
      ],
      "metadata": {
        "colab": {
          "base_uri": "https://localhost:8080/"
        },
        "id": "xsYTO7L1nMrI",
        "outputId": "b88554b8-efaf-4c70-933d-36ebc388771b"
      },
      "execution_count": 1,
      "outputs": [
        {
          "output_type": "stream",
          "name": "stdout",
          "text": [
            "[2, 4, 9, 3]\n",
            "[4, 9, 7]\n",
            "[9, 15]\n",
            "[33]\n"
          ]
        },
        {
          "output_type": "execute_result",
          "data": {
            "text/plain": [
              "4"
            ]
          },
          "metadata": {},
          "execution_count": 1
        }
      ]
    },
    {
      "cell_type": "markdown",
      "source": [
        "Using priority queue to track the minimum"
      ],
      "metadata": {
        "id": "llUJRG4asG9S"
      }
    },
    {
      "cell_type": "code",
      "source": [
        "import heapq\n",
        "nums = [1,1,2,4,9]; k = 20\n",
        "pq=[] #priority queue\n",
        "for i in range(len(nums)):\n",
        "    heapq.heappush(pq,nums[i])\n",
        "count=0\n",
        "while len(pq)>=2:\n",
        "    if pq[0]<k:\n",
        "        min1=heapq.heappop(pq)\n",
        "        min2=heapq.heappop(pq)\n",
        "        heapq.heappush(pq,min1*2+min2)\n",
        "        print(pq)\n",
        "        count+=1\n",
        "    else:\n",
        "        break\n",
        "count"
      ],
      "metadata": {
        "colab": {
          "base_uri": "https://localhost:8080/"
        },
        "id": "4gmBuHa8onxH",
        "outputId": "2f7a9acd-d491-4ab9-ab34-cfa2809627bf"
      },
      "execution_count": 2,
      "outputs": [
        {
          "output_type": "stream",
          "name": "stdout",
          "text": [
            "[2, 3, 9, 4]\n",
            "[4, 9, 7]\n",
            "[9, 15]\n",
            "[33]\n"
          ]
        },
        {
          "output_type": "execute_result",
          "data": {
            "text/plain": [
              "4"
            ]
          },
          "metadata": {},
          "execution_count": 2
        }
      ]
    },
    {
      "cell_type": "markdown",
      "source": [
        "Final Solution"
      ],
      "metadata": {
        "id": "FPQOPZd-jj4O"
      }
    },
    {
      "cell_type": "code",
      "source": [
        "from typing import List\n",
        "class Solution:\n",
        "    def minOperations(self, nums: List[int], k: int) -> int:\n",
        "        pq=[] #priority queue\n",
        "        for i in range(len(nums)):\n",
        "            heapq.heappush(pq,nums[i])\n",
        "        count=0\n",
        "        while len(pq)>=2:\n",
        "            if pq[0]<k:\n",
        "                min1=heapq.heappop(pq)\n",
        "                min2=heapq.heappop(pq)\n",
        "                heapq.heappush(pq,min1*2+min2)\n",
        "                count+=1\n",
        "            else:\n",
        "                break\n",
        "        return count\n",
        "\n",
        "op=Solution()\n",
        "res=op.minOperations([1,1,2,4,9],20)\n",
        "res"
      ],
      "metadata": {
        "colab": {
          "base_uri": "https://localhost:8080/"
        },
        "id": "wGw7BMOFjlGE",
        "outputId": "c48d80d2-12bb-4021-8c64-1b20eb3ba3cd"
      },
      "execution_count": 7,
      "outputs": [
        {
          "output_type": "execute_result",
          "data": {
            "text/plain": [
              "4"
            ]
          },
          "metadata": {},
          "execution_count": 7
        }
      ]
    }
  ]
}
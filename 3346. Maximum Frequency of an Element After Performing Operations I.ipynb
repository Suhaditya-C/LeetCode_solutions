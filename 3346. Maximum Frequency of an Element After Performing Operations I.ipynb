{
 "cells": [
  {
   "cell_type": "markdown",
   "id": "36d2d000",
   "metadata": {},
   "source": [
    "# 3346. Maximum Frequency of an Element After Performing Operations I\n",
    "\n",
    "You are given an integer array nums and two integers k and numOperations.\n",
    "\n",
    "You must perform an operation numOperations times on nums, where in each operation you:\n",
    "\n",
    "Select an index i that was not selected in any previous operations.\n",
    "Add an integer in the range [-k, k] to nums[i].\n",
    "Return the maximum possible frequency of any element in nums after performing the operations.\n",
    "\n",
    " \n",
    "\n",
    "Example 1:\n",
    "\n",
    "Input: nums = [1,4,5], k = 1, numOperations = 2\n",
    "\n",
    "Output: 2\n",
    "\n",
    "Explanation:\n",
    "\n",
    "We can achieve a maximum frequency of two by:\n",
    "\n",
    "Adding 0 to nums[1]. nums becomes [1, 4, 5].\n",
    "Adding -1 to nums[2]. nums becomes [1, 4, 4].\n",
    "Example 2:\n",
    "\n",
    "Input: nums = [5,11,20,20], k = 5, numOperations = 1\n",
    "\n",
    "Output: 2\n",
    "\n",
    "Explanation:\n",
    "\n",
    "We can achieve a maximum frequency of two by:\n",
    "\n",
    "Adding 0 to nums[1].\n",
    " \n",
    "\n",
    "Constraints:\n",
    "\n",
    "1 <= nums.length <= 105\n",
    "1 <= nums[i] <= 105\n",
    "0 <= k <= 105\n",
    "0 <= numOperations <= nums.length"
   ]
  },
  {
   "cell_type": "markdown",
   "id": "72134b1b",
   "metadata": {},
   "source": [
    "## Solution: Enumerate and BS"
   ]
  },
  {
   "cell_type": "code",
   "execution_count": null,
   "id": "c2972eef",
   "metadata": {},
   "outputs": [
    {
     "data": {
      "text/plain": [
       "3"
      ]
     },
     "execution_count": 64,
     "metadata": {},
     "output_type": "execute_result"
    }
   ],
   "source": [
    "nums=[37,30,37];k=26;numOperations = 1\n",
    "nums.sort()\n",
    "min_num,max_num=nums[0],nums[-1]\n",
    "res=0\n",
    "\n",
    "def bin_search(arr,target,direction): # Returns the index of the no. >= target if dir==left else <=target\n",
    "\n",
    "    l=0\n",
    "    r=len(arr)-1\n",
    "    while l<r:\n",
    "        mid=(l+r)//2\n",
    "        if target>arr[mid]:\n",
    "            l=mid+1\n",
    "        else:\n",
    "            r=mid\n",
    "    \n",
    "    if direction=='left':\n",
    "        return l #Returns index of num>=target\n",
    "    else:\n",
    "        if arr[l]==target: #If exact match found\n",
    "            for i in range(l+1,len(arr)):\n",
    "                if arr[i]!=target:\n",
    "                    return i-1\n",
    "                \n",
    "        return len(arr)-1 if target>=max_num else l-1 #If target>=max element or no exact match found, return index of num<=target\n",
    "  \n",
    "#Want all indices j, of nums such that  i-k < nums[j] < i+k. Enumerate all such j's \n",
    "\n",
    "for i in range(min_num,max_num+1):\n",
    "    exact_cnt=0 #Exact Match counts\n",
    "    cnt=0 #Tracks frequency of nums that can be transformed to a number after ops\n",
    "    exact_left_idx=bin_search(nums,i,'left')\n",
    "    exact_right_idx=bin_search(nums,i,'right')\n",
    "    if nums[exact_left_idx]==i and nums[exact_right_idx]==i: # For multiple exact matches, no need to perform ops on them\n",
    "        exact_cnt=exact_right_idx-exact_left_idx+1\n",
    "\n",
    "    min_reachable=i-k\n",
    "    max_reachable=i+k\n",
    "    left_idx=bin_search(nums,min_reachable,'left')\n",
    "    right_idx=bin_search(nums,max_reachable,'right')\n",
    "    #No.of candidates:\n",
    "    candidate_cnt=right_idx-left_idx+1\n",
    "    #Prevent double counting if exact match comes within the range:\n",
    "    if left_idx<=exact_left_idx and right_idx>=exact_right_idx:\n",
    "        candidate_cnt-=exact_cnt\n",
    "\n",
    "    cnt=min(candidate_cnt,numOperations)\n",
    "    res=max(res,cnt+exact_cnt)\n",
    "    # print('No',i,'total count: ', res,'range: ',(left_idx,right_idx), 'exact match: ',exact_cnt)\n",
    "res"
   ]
  }
 ],
 "metadata": {
  "kernelspec": {
   "display_name": "Python 3",
   "language": "python",
   "name": "python3"
  },
  "language_info": {
   "codemirror_mode": {
    "name": "ipython",
    "version": 3
   },
   "file_extension": ".py",
   "mimetype": "text/x-python",
   "name": "python",
   "nbconvert_exporter": "python",
   "pygments_lexer": "ipython3",
   "version": "3.10.9"
  }
 },
 "nbformat": 4,
 "nbformat_minor": 5
}

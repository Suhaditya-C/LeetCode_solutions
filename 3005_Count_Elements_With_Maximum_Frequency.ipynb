{
  "nbformat": 4,
  "nbformat_minor": 0,
  "metadata": {
    "colab": {
      "provenance": [],
      "authorship_tag": "ABX9TyOvmqM1oaczvuRK4J1mAwEL",
      "include_colab_link": true
    },
    "kernelspec": {
      "name": "python3",
      "display_name": "Python 3"
    },
    "language_info": {
      "name": "python"
    }
  },
  "cells": [
    {
      "cell_type": "markdown",
      "metadata": {
        "id": "view-in-github",
        "colab_type": "text"
      },
      "source": [
        "<a href=\"https://colab.research.google.com/github/Suhaditya-C/LeetCode_solutions/blob/main/3005_Count_Elements_With_Maximum_Frequency.ipynb\" target=\"_parent\"><img src=\"https://colab.research.google.com/assets/colab-badge.svg\" alt=\"Open In Colab\"/></a>"
      ]
    },
    {
      "cell_type": "markdown",
      "source": [
        "# 3005. Count Elements With Maximum Frequency\n",
        "\n",
        "You are given an array nums consisting of positive integers.\n",
        "\n",
        "Return the total frequencies of elements in nums such that those elements all have the maximum frequency.\n",
        "\n",
        "The frequency of an element is the number of occurrences of that element in the array.\n",
        "\n",
        "\n",
        "\n",
        "Example 1:\n",
        "\n",
        "Input: nums = [1,2,2,3,1,4]\n",
        "Output: 4\n",
        "Explanation: The elements 1 and 2 have a frequency of 2 which is the maximum frequency in the array.\n",
        "So the number of elements in the array with maximum frequency is 4.\n",
        "Example 2:\n",
        "\n",
        "Input: nums = [1,2,3,4,5]\n",
        "Output: 5\n",
        "Explanation: All elements of the array have a frequency of 1 which is the maximum.\n",
        "So the number of elements in the array with maximum frequency is 5.\n",
        "\n",
        "\n",
        "Constraints:\n",
        "\n",
        "1 <= nums.length <= 100\n",
        "1 <= nums[i] <= 100"
      ],
      "metadata": {
        "id": "OzZ24gpm0iSf"
      }
    },
    {
      "cell_type": "code",
      "execution_count": 7,
      "metadata": {
        "colab": {
          "base_uri": "https://localhost:8080/"
        },
        "id": "1md3DQFD0fVv",
        "outputId": "11ec4764-0c1f-42a2-df07-38a7b3ebb68e"
      },
      "outputs": [
        {
          "output_type": "execute_result",
          "data": {
            "text/plain": [
              "4"
            ]
          },
          "metadata": {},
          "execution_count": 7
        }
      ],
      "source": [
        "from collections import Counter\n",
        "nums = [1,2,2,3,1,4]\n",
        "mpp=Counter(nums)\n",
        "max_freq=max(mpp.values())\n",
        "sum(value for value in mpp.values() if value==max_freq)\n"
      ]
    },
    {
      "cell_type": "code",
      "source": [
        "mpp"
      ],
      "metadata": {
        "colab": {
          "base_uri": "https://localhost:8080/"
        },
        "id": "7PmAusuU0zdI",
        "outputId": "00535936-02a3-48fa-8924-f588db7fb1bf"
      },
      "execution_count": 2,
      "outputs": [
        {
          "output_type": "execute_result",
          "data": {
            "text/plain": [
              "Counter({1: 2, 2: 2, 3: 1, 4: 1})"
            ]
          },
          "metadata": {},
          "execution_count": 2
        }
      ]
    },
    {
      "cell_type": "markdown",
      "source": [],
      "metadata": {
        "id": "2Bi5ocnV0hYv"
      }
    }
  ]
}
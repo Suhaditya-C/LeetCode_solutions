{
 "cells": [
  {
   "cell_type": "markdown",
   "id": "08268bde",
   "metadata": {},
   "source": [
    "# 3403. Find the Lexicographically Largest String From the Box I\n",
    "\n",
    "You are given a string word, and an integer numFriends.\n",
    "\n",
    "Alice is organizing a game for her numFriends friends. There are multiple rounds in the game, where in each round:\n",
    "\n",
    "word is split into numFriends non-empty strings, such that no previous round has had the exact same split.\n",
    "All the split words are put into a box.\n",
    "Find the lexicographically largest string from the box after all the rounds are finished.\n",
    "\n",
    " \n",
    "\n",
    "Example 1:\n",
    "\n",
    "Input: word = \"dbca\", numFriends = 2\n",
    "\n",
    "Output: \"dbc\"\n",
    "\n",
    "Explanation: \n",
    "\n",
    "All possible splits are:\n",
    "\n",
    "\"d\" and \"bca\".\n",
    "\"db\" and \"ca\".\n",
    "\"dbc\" and \"a\".\n",
    "Example 2:\n",
    "\n",
    "Input: word = \"gggg\", numFriends = 4\n",
    "\n",
    "Output: \"g\"\n",
    "\n",
    "Explanation: \n",
    "\n",
    "The only possible split is: \"g\", \"g\", \"g\", and \"g\".\n",
    "\n",
    " \n",
    "\n",
    "Constraints:\n",
    "\n",
    "1 <= word.length <= 5 * 103\n",
    "word consists only of lowercase English letters.\n",
    "1 <= numFriends <= word.length"
   ]
  },
  {
   "cell_type": "markdown",
   "id": "1ec3286a",
   "metadata": {},
   "source": [
    "## Solution"
   ]
  },
  {
   "cell_type": "code",
   "execution_count": 8,
   "id": "3c62890f",
   "metadata": {},
   "outputs": [
    {
     "data": {
      "text/plain": [
       "'dbc'"
      ]
     },
     "execution_count": 8,
     "metadata": {},
     "output_type": "execute_result"
    }
   ],
   "source": [
    "word = \"dbca\"; numFriends = 2\n",
    "\n",
    "n=len(word)-numFriends+1\n",
    "res=''\n",
    "for i in range(len(word)):\n",
    "    temp=word[i:i+n]\n",
    "    if temp>res:\n",
    "        res=temp\n",
    "res if numFriends>1 else word"
   ]
  },
  {
   "cell_type": "markdown",
   "id": "2ef92ecc",
   "metadata": {},
   "source": [
    "## Final Solution"
   ]
  },
  {
   "cell_type": "code",
   "execution_count": 10,
   "id": "406a21a4",
   "metadata": {},
   "outputs": [
    {
     "data": {
      "text/plain": [
       "'dbc'"
      ]
     },
     "execution_count": 10,
     "metadata": {},
     "output_type": "execute_result"
    }
   ],
   "source": [
    "class Solution:\n",
    "    def answerString(self, word: str, numFriends: int) -> str:\n",
    "        if numFriends==1:\n",
    "            return word\n",
    "        n=len(word)-numFriends+1\n",
    "        res=''\n",
    "        for i in range(len(word)):\n",
    "            temp=word[i:i+n]\n",
    "            if temp>res:\n",
    "                res=temp\n",
    "        return res\n",
    "sol=Solution()\n",
    "sol.answerString(word = \"dbca\", numFriends = 2)"
   ]
  }
 ],
 "metadata": {
  "kernelspec": {
   "display_name": "base",
   "language": "python",
   "name": "python3"
  },
  "language_info": {
   "codemirror_mode": {
    "name": "ipython",
    "version": 3
   },
   "file_extension": ".py",
   "mimetype": "text/x-python",
   "name": "python",
   "nbconvert_exporter": "python",
   "pygments_lexer": "ipython3",
   "version": "3.12.7"
  }
 },
 "nbformat": 4,
 "nbformat_minor": 5
}

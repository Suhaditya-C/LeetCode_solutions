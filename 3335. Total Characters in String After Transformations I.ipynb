{
 "cells": [
  {
   "cell_type": "markdown",
   "id": "228594d1",
   "metadata": {},
   "source": [
    "# 3335. Total Characters in String After Transformations I\n",
    "You are given a string s and an integer t, representing the number of transformations to perform. In one transformation, every character in s is replaced according to the following rules:\n",
    "\n",
    "If the character is 'z', replace it with the string \"ab\".\n",
    "Otherwise, replace it with the next character in the alphabet. For example, 'a' is replaced with 'b', 'b' is replaced with 'c', and so on.\n",
    "Return the length of the resulting string after exactly t transformations.\n",
    "\n",
    "Since the answer may be very large, return it modulo 109 + 7.\n",
    "\n",
    " \n",
    "\n",
    "Example 1:\n",
    "\n",
    "Input: s = \"abcyy\", t = 2\n",
    "\n",
    "Output: 7\n",
    "\n",
    "Explanation:\n",
    "\n",
    "First Transformation (t = 1):\n",
    "'a' becomes 'b'\n",
    "'b' becomes 'c'\n",
    "'c' becomes 'd'\n",
    "'y' becomes 'z'\n",
    "'y' becomes 'z'\n",
    "String after the first transformation: \"bcdzz\"\n",
    "Second Transformation (t = 2):\n",
    "'b' becomes 'c'\n",
    "'c' becomes 'd'\n",
    "'d' becomes 'e'\n",
    "'z' becomes \"ab\"\n",
    "'z' becomes \"ab\"\n",
    "String after the second transformation: \"cdeabab\"\n",
    "Final Length of the string: The string is \"cdeabab\", which has 7 characters.\n",
    "Example 2:\n",
    "\n",
    "Input: s = \"azbk\", t = 1\n",
    "\n",
    "Output: 5\n",
    "\n",
    "Explanation:\n",
    "\n",
    "First Transformation (t = 1):\n",
    "'a' becomes 'b'\n",
    "'z' becomes \"ab\"\n",
    "'b' becomes 'c'\n",
    "'k' becomes 'l'\n",
    "String after the first transformation: \"babcl\"\n",
    "Final Length of the string: The string is \"babcl\", which has 5 characters.\n",
    " \n",
    "\n",
    "Constraints:\n",
    "\n",
    "1 <= s.length <= 105\n",
    "s consists only of lowercase English letters.\n",
    "1 <= t <= 105"
   ]
  },
  {
   "cell_type": "markdown",
   "id": "8f5a7972",
   "metadata": {},
   "source": [
    "# Solution\n",
    "Maintain the freq of each alphabet everytime throughout the transformations\n"
   ]
  },
  {
   "cell_type": "code",
   "execution_count": 32,
   "id": "54cabd58",
   "metadata": {},
   "outputs": [
    {
     "data": {
      "text/plain": [
       "79033769"
      ]
     },
     "execution_count": 32,
     "metadata": {},
     "output_type": "execute_result"
    }
   ],
   "source": [
    "s=\"jqktcurgdvlibczdsvnsg\"\n",
    "t=7517\n",
    "MOD=10**9+7\n",
    "freq=[0]*26 #maintains frequency of alphabet: freq[index]=count(index=ASCII of alphabet)\n",
    "for c in s:\n",
    "    freq[ord(c)-ord('a')]+=1\n",
    "#Running thru each transformation\n",
    "for _ in range(t):\n",
    "    #Update new freq\n",
    "    new_freq=[0]*26\n",
    "    for i in range(26):\n",
    "        if i<25: #Char not 'z': Simply shift the frequencies\n",
    "            new_freq[i+1]=(new_freq[i+1]+freq[i])%MOD\n",
    "        else: #If char is 'z' increment the frequencies of 'a' and 'b'\n",
    "            new_freq[0]=(new_freq[0]+freq[i])%MOD\n",
    "            new_freq[1]=(new_freq[1]+freq[i])%MOD\n",
    "    #for next iteration, the current freq is the previous one\n",
    "    freq=new_freq\n",
    "sum(freq)%MOD"
   ]
  }
 ],
 "metadata": {
  "kernelspec": {
   "display_name": "Python 3",
   "language": "python",
   "name": "python3"
  },
  "language_info": {
   "codemirror_mode": {
    "name": "ipython",
    "version": 3
   },
   "file_extension": ".py",
   "mimetype": "text/x-python",
   "name": "python",
   "nbconvert_exporter": "python",
   "pygments_lexer": "ipython3",
   "version": "3.12.4"
  }
 },
 "nbformat": 4,
 "nbformat_minor": 5
}

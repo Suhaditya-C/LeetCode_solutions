{
 "cells": [
  {
   "cell_type": "markdown",
   "id": "ddc2dab7",
   "metadata": {},
   "source": [
    "# Leetcode 346. Moving Average from Data Stream"
   ]
  },
  {
   "cell_type": "code",
   "execution_count": 2,
   "id": "5f717f12",
   "metadata": {},
   "outputs": [],
   "source": [
    "from collections import deque"
   ]
  },
  {
   "cell_type": "code",
   "execution_count": null,
   "id": "7a70826b",
   "metadata": {},
   "outputs": [],
   "source": [
    "class MovingAverage:\n",
    "\n",
    "    def __init__(self,size:int) -> None:\n",
    "        \"\"\"\n",
    "        Initialise your data structure here\n",
    "        \"\"\"\n",
    "        self.q=deque([])\n",
    "        self.cnt=0\n",
    "        self.sum=0\n",
    "        self.size=size\n",
    "\n",
    "    def next(self,val:int)->float:\n",
    "        self.cnt+=1\n",
    "        self.sum+=val\n",
    "        if self.cnt<=self.size:\n",
    "            self.q.append(val)\n",
    "            return self.sum/self.cnt\n",
    "        else:\n",
    "            self.sum-=self.q[0]\n",
    "            self.q.append(val)\n",
    "            return self.sum/self.size\n"
   ]
  },
  {
   "cell_type": "code",
   "execution_count": 48,
   "id": "f7385953",
   "metadata": {},
   "outputs": [
    {
     "data": {
      "text/plain": [
       "1.0"
      ]
     },
     "execution_count": 48,
     "metadata": {},
     "output_type": "execute_result"
    }
   ],
   "source": [
    "obj=MovingAverage(3)\n",
    "obj.next(1)"
   ]
  },
  {
   "cell_type": "code",
   "execution_count": 49,
   "id": "01ee7f3f",
   "metadata": {},
   "outputs": [
    {
     "data": {
      "text/plain": [
       "5.5"
      ]
     },
     "execution_count": 49,
     "metadata": {},
     "output_type": "execute_result"
    }
   ],
   "source": [
    "obj.next(10)"
   ]
  },
  {
   "cell_type": "code",
   "execution_count": 50,
   "id": "4d09a703",
   "metadata": {},
   "outputs": [
    {
     "data": {
      "text/plain": [
       "4.666666666666667"
      ]
     },
     "execution_count": 50,
     "metadata": {},
     "output_type": "execute_result"
    }
   ],
   "source": [
    "obj.next(3)"
   ]
  },
  {
   "cell_type": "code",
   "execution_count": 51,
   "id": "3c7b8afb",
   "metadata": {},
   "outputs": [
    {
     "name": "stdout",
     "output_type": "stream",
     "text": [
      "1\n"
     ]
    },
    {
     "data": {
      "text/plain": [
       "6.0"
      ]
     },
     "execution_count": 51,
     "metadata": {},
     "output_type": "execute_result"
    }
   ],
   "source": [
    "obj.next(5)"
   ]
  }
 ],
 "metadata": {
  "kernelspec": {
   "display_name": "Python 3",
   "language": "python",
   "name": "python3"
  },
  "language_info": {
   "codemirror_mode": {
    "name": "ipython",
    "version": 3
   },
   "file_extension": ".py",
   "mimetype": "text/x-python",
   "name": "python",
   "nbconvert_exporter": "python",
   "pygments_lexer": "ipython3",
   "version": "3.10.9"
  }
 },
 "nbformat": 4,
 "nbformat_minor": 5
}

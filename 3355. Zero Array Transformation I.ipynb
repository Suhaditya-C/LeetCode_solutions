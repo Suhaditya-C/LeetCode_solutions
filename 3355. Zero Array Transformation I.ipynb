{
 "cells": [
  {
   "cell_type": "markdown",
   "id": "ad15dcf2",
   "metadata": {},
   "source": [
    "# 3355. Zero Array Transformation I\n",
    "\n",
    "You are given an integer array nums of length n and a 2D array queries, where queries[i] = [li, ri].\n",
    "\n",
    "For each queries[i]:\n",
    "\n",
    "Select a subset of indices within the range [li, ri] in nums.\n",
    "Decrement the values at the selected indices by 1.\n",
    "A Zero Array is an array where all elements are equal to 0.\n",
    "\n",
    "Return true if it is possible to transform nums into a Zero Array after processing all the queries sequentially, otherwise return false.\n",
    "\n",
    " \n",
    "\n",
    "Example 1:\n",
    "\n",
    "Input: nums = [1,0,1], queries = [[0,2]]\n",
    "\n",
    "Output: true\n",
    "\n",
    "Explanation:\n",
    "\n",
    "For i = 0:\n",
    "Select the subset of indices as [0, 2] and decrement the values at these indices by 1.\n",
    "The array will become [0, 0, 0], which is a Zero Array.\n",
    "Example 2:\n",
    "\n",
    "Input: nums = [4,3,2,1], queries = [[1,3],[0,2]]\n",
    "\n",
    "Output: false\n",
    "\n",
    "Explanation:\n",
    "\n",
    "For i = 0:\n",
    "Select the subset of indices as [1, 2, 3] and decrement the values at these indices by 1.\n",
    "The array will become [4, 2, 1, 0].\n",
    "For i = 1:\n",
    "Select the subset of indices as [0, 1, 2] and decrement the values at these indices by 1.\n",
    "The array will become [3, 1, 0, 0], which is not a Zero Array.\n",
    " \n",
    "\n",
    "Constraints:\n",
    "\n",
    "1 <= nums.length <= 105\n",
    "0 <= nums[i] <= 105\n",
    "1 <= queries.length <= 105\n",
    "queries[i].length == 2\n",
    "0 <= li <= ri < nums.length"
   ]
  },
  {
   "cell_type": "markdown",
   "id": "42f41c3a",
   "metadata": {},
   "source": [
    "# Solution:\n",
    "Using prefix sum array: ops after going through all the queries. for each query [l,r], ops[l]-=1 and ops[r+1]+=1."
   ]
  },
  {
   "cell_type": "code",
   "execution_count": 17,
   "id": "97d3f628",
   "metadata": {},
   "outputs": [
    {
     "data": {
      "text/plain": [
       "False"
      ]
     },
     "execution_count": 17,
     "metadata": {},
     "output_type": "execute_result"
    }
   ],
   "source": [
    "nums = [7]; queries = [[0,0]]\n",
    "flag=True\n",
    "n=len(nums)\n",
    "ops = [0] * n\n",
    "for q in queries:\n",
    "    l, r = q\n",
    "    ops[l] -= 1\n",
    "    if r + 1 < n:\n",
    "        ops[r + 1]  +=  1\n",
    "        \n",
    "nums[0] += ops[0]\n",
    "if nums[0] > 0:\n",
    "    flag=False\n",
    "\n",
    "# Add the prefix sum of final ops array to nums (prefix sum of ops gives the final ops)\n",
    "for i in range(1,n):\n",
    "    ops[i] += ops[i-1]\n",
    "    nums[i] +=ops[i]\n",
    "    if nums[i] > 0:\n",
    "        flag=False\n",
    "        break\n",
    "flag"
   ]
  }
 ],
 "metadata": {
  "kernelspec": {
   "display_name": "Python 3",
   "language": "python",
   "name": "python3"
  },
  "language_info": {
   "codemirror_mode": {
    "name": "ipython",
    "version": 3
   },
   "file_extension": ".py",
   "mimetype": "text/x-python",
   "name": "python",
   "nbconvert_exporter": "python",
   "pygments_lexer": "ipython3",
   "version": "3.12.4"
  }
 },
 "nbformat": 4,
 "nbformat_minor": 5
}

{
 "cells": [
  {
   "cell_type": "markdown",
   "id": "dfa09c66",
   "metadata": {},
   "source": [
    "# 2094. Finding 3-Digit Even Numbers\n",
    "\n",
    "You are given an integer array digits, where each element is a digit. The array may contain duplicates.\n",
    "\n",
    "You need to find all the unique integers that follow the given requirements:\n",
    "\n",
    "The integer consists of the concatenation of three elements from digits in any arbitrary order.\n",
    "The integer does not have leading zeros.\n",
    "The integer is even.\n",
    "For example, if the given digits were [1, 2, 3], integers 132 and 312 follow the requirements.\n",
    "\n",
    "Return a sorted array of the unique integers.\n",
    "\n",
    " \n",
    "\n",
    "Example 1:\n",
    "\n",
    "Input: digits = [2,1,3,0]\n",
    "Output: [102,120,130,132,210,230,302,310,312,320]\n",
    "Explanation: All the possible integers that follow the requirements are in the output array. \n",
    "Notice that there are no odd integers or integers with leading zeros.\n",
    "Example 2:\n",
    "\n",
    "Input: digits = [2,2,8,8,2]\n",
    "Output: [222,228,282,288,822,828,882]\n",
    "Explanation: The same digit can be used as many times as it appears in digits. \n",
    "In this example, the digit 8 is used twice each time in 288, 828, and 882. \n",
    "Example 3:\n",
    "\n",
    "Input: digits = [3,7,5]\n",
    "Output: []\n",
    "Explanation: No even integers can be formed using the given digits.\n",
    " \n",
    "\n",
    "Constraints:\n",
    "\n",
    "3 <= digits.length <= 100\n",
    "0 <= digits[i] <= 9"
   ]
  },
  {
   "cell_type": "markdown",
   "id": "9ab2fd01",
   "metadata": {},
   "source": [
    "## Solution:\n",
    "Bactracking: Use permutations to get different numbers and add them to res only if satisfies the condition\n",
    "1. Time Limit Exceeded\n",
    "2. 78 / 79 testcases passed"
   ]
  },
  {
   "cell_type": "code",
   "execution_count": 3,
   "id": "d1245859",
   "metadata": {},
   "outputs": [
    {
     "data": {
      "text/plain": [
       "{102, 120, 130, 132, 210, 230, 302, 310, 312, 320}"
      ]
     },
     "execution_count": 3,
     "metadata": {},
     "output_type": "execute_result"
    }
   ],
   "source": [
    "digits = [2,1,3,0]\n",
    "res=set()\n",
    "def backtrack(s,used):\n",
    "    if len(s)==3:\n",
    "        if s[0]!='0' and int(s)%2==0:\n",
    "            res.add(int(s))\n",
    "        return\n",
    "    for i in range(len(digits)):\n",
    "        if i not in used:\n",
    "            used.add(i)\n",
    "            backtrack(s+str(digits[i]),used)\n",
    "            used.remove(i)\n",
    "backtrack('',set())\n",
    "res\n",
    "    "
   ]
  },
  {
   "cell_type": "markdown",
   "id": "45006f9b",
   "metadata": {},
   "source": [
    "## Keeping track of digits in a frequency map:\n",
    "Accepted"
   ]
  },
  {
   "cell_type": "code",
   "execution_count": 10,
   "id": "ebcf1586",
   "metadata": {},
   "outputs": [
    {
     "data": {
      "text/plain": [
       "[102, 120, 130, 132, 210, 230, 302, 310, 312, 320]"
      ]
     },
     "execution_count": 10,
     "metadata": {},
     "output_type": "execute_result"
    }
   ],
   "source": [
    "digits = [2,1,3,0]\n",
    "res=set()\n",
    "fm=[0]*10 #fm[index]=no. of times that number (the index) appears\n",
    "for i in range(len(digits)):\n",
    "    fm[digits[i]]+=1\n",
    "for i in range(1,10): #loop starts from 1 to avoid the leading 0\n",
    "    if fm[i]>0: #If the digit exists in digits\n",
    "        fm[i]-=1\n",
    "        for j in range(10):\n",
    "            if fm[j]>0:\n",
    "                fm[j]-=1\n",
    "                for k in range(0,10,2):\n",
    "                    if fm[k]>0:\n",
    "                        num=i*100+j*10+k\n",
    "                        res.add(num)\n",
    "                fm[j]+=1 #Restore the digit count\n",
    "        fm[i]+=1 #Restore the digit count\n",
    "sorted(list(res))\n",
    "\n"
   ]
  }
 ],
 "metadata": {
  "kernelspec": {
   "display_name": "Python 3",
   "language": "python",
   "name": "python3"
  },
  "language_info": {
   "codemirror_mode": {
    "name": "ipython",
    "version": 3
   },
   "file_extension": ".py",
   "mimetype": "text/x-python",
   "name": "python",
   "nbconvert_exporter": "python",
   "pygments_lexer": "ipython3",
   "version": "3.12.4"
  }
 },
 "nbformat": 4,
 "nbformat_minor": 5
}

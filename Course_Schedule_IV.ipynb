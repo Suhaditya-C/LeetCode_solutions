{
  "nbformat": 4,
  "nbformat_minor": 0,
  "metadata": {
    "colab": {
      "provenance": [],
      "authorship_tag": "ABX9TyO2G9sOUEEDZwCuI3sw5L0d",
      "include_colab_link": true
    },
    "kernelspec": {
      "name": "python3",
      "display_name": "Python 3"
    },
    "language_info": {
      "name": "python"
    }
  },
  "cells": [
    {
      "cell_type": "markdown",
      "metadata": {
        "id": "view-in-github",
        "colab_type": "text"
      },
      "source": [
        "<a href=\"https://colab.research.google.com/github/Suhaditya-C/LeetCode_solutions/blob/main/Course_Schedule_IV.ipynb\" target=\"_parent\"><img src=\"https://colab.research.google.com/assets/colab-badge.svg\" alt=\"Open In Colab\"/></a>"
      ]
    },
    {
      "cell_type": "markdown",
      "source": [
        "## 1462. Course Schedule IV\n",
        "\n",
        "There are a total of numCourses courses you have to take, labeled from 0 to numCourses - 1. You are given an array prerequisites where prerequisites[i] = [ai, bi] indicates that you must take course ai first if you want to take course bi.\n",
        "\n",
        "For example, the pair [0, 1] indicates that you have to take course 0 before you can take course 1.\n",
        "Prerequisites can also be indirect. If course a is a prerequisite of course b, and course b is a prerequisite of course c, then course a is a prerequisite of course c.\n",
        "\n",
        "You are also given an array queries where queries[j] = [uj, vj]. For the jth query, you should answer whether course uj is a prerequisite of course vj or not.\n",
        "\n",
        "Return a boolean array answer, where answer[j] is the answer to the jth query.\n",
        "\n",
        "Example 1:\n",
        "\n",
        "Input: numCourses = 2, prerequisites = [[1,0]], queries = [[0,1],[1,0]]\n",
        "Output: [false,true]\n",
        "Explanation: The pair [1, 0] indicates that you have to take course 1 before you can take course 0.\n",
        "Course 0 is not a prerequisite of course 1, but the opposite is true.\n",
        "Example 2:\n",
        "\n",
        "Input: numCourses = 2, prerequisites = [], queries = [[1,0],[0,1]]\n",
        "Output: [false,false]\n",
        "Explanation: There are no prerequisites, and each course is independent.\n",
        "Example 3:\n",
        "\n",
        "Input: numCourses = 3, prerequisites = [[1,2],[1,0],[2,0]], queries = [[1,0],[1,2]]\n",
        "Output: [true,true]\n",
        "\n",
        "Constraints:\n",
        "2 <= numCourses <= 100\n",
        "0 <= prerequisites.length <= (numCourses * (numCourses - 1) / 2)\n",
        "prerequisites[i].length == 2\n",
        "0 <= ai, bi <= numCourses - 1\n",
        "ai != bi\n",
        "All the pairs [ai, bi] are unique.\n",
        "The prerequisites graph has no cycles.\n",
        "1 <= queries.length <= 104\n",
        "0 <= ui, vi <= numCourses - 1\n",
        "ui != vi"
      ],
      "metadata": {
        "id": "NYGQ6Gq88HB-"
      }
    },
    {
      "cell_type": "code",
      "source": [
        "numCourses = 2; prerequisites = [[1,0]]; queries = [[0,1],[1,0]]\n",
        "#Floyd-Warshall's algorithm\n",
        "#Creating an adjacency matrix\n",
        "N=len(prerequisites)\n",
        "mat=[[False for _ in range(numCourses)] for _ in range(numCourses)]\n",
        "\n",
        "for arr in prerequisites:\n",
        "  s,d=arr\n",
        "  mat[s][d]=True\n",
        "\n",
        "# Creating source--via----destination route\n",
        "for v in range(numCourses):\n",
        "  for s in range(numCourses):\n",
        "    for d in range(numCourses):\n",
        "      mat[s][d]= mat[s][d] or mat[s][v] and mat[v][d]  # checks if s->d already true or (s->v is true and v->d is also true)\n",
        "res=[]      #Storing the Result\n",
        "for q in queries:\n",
        "  s,d=q\n",
        "  res.append(mat[s][d])\n",
        "res"
      ],
      "metadata": {
        "colab": {
          "base_uri": "https://localhost:8080/"
        },
        "id": "2c7Nwp1-RQl3",
        "outputId": "b41fabc2-4fe3-457b-f1c0-3a71ce67a99e"
      },
      "execution_count": 1,
      "outputs": [
        {
          "output_type": "execute_result",
          "data": {
            "text/plain": [
              "[True, True]"
            ]
          },
          "metadata": {},
          "execution_count": 1
        }
      ]
    },
    {
      "cell_type": "markdown",
      "source": [
        "Final Solution"
      ],
      "metadata": {
        "id": "Le-iBGl9ETbn"
      }
    },
    {
      "cell_type": "code",
      "source": [
        "class Solution:\n",
        "    def checkIfPrerequisite(self, numCourses: int, prerequisites: List[List[int]], queries: List[List[int]]) -> List[bool]:\n",
        "        #Floyd-Warshall's algorithm\n",
        "        #Creating an adjacency matrix\n",
        "        mat=[[False for _ in range(numCourses)] for _ in range(numCourses)]\n",
        "        for arr in prerequisites:\n",
        "          mat[arr[0]][arr[1]]=True\n",
        "\n",
        "        # Creating source--via----destination route\n",
        "        for v in range(numCourses):\n",
        "          for s in range(numCourses):\n",
        "            for d in range(numCourses):\n",
        "              mat[s][d]= mat[s][d] or mat[s][v] and mat[v][d]  # checks if s->d already true or (s->v is true and v->d is also true)\n",
        "        res=[]      #Storing the Result\n",
        "        for q in queries:\n",
        "          res.append(mat[q[0]][q[1]])\n",
        "        return res"
      ],
      "metadata": {
        "id": "2XzcMSvHBsN8"
      },
      "execution_count": null,
      "outputs": []
    }
  ]
}
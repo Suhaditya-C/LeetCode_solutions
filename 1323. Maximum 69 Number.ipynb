{
 "cells": [
  {
   "cell_type": "markdown",
   "id": "a0ef0d3a",
   "metadata": {},
   "source": [
    "# 1323. Maximum 69 Number\n",
    "\n",
    "You are given a positive integer num consisting only of digits 6 and 9.\n",
    "\n",
    "Return the maximum number you can get by changing at most one digit (6 becomes 9, and 9 becomes 6).\n",
    "\n",
    " \n",
    "\n",
    "Example 1:\n",
    "\n",
    "Input: num = 9669\n",
    "Output: 9969\n",
    "Explanation: \n",
    "Changing the first digit results in 6669.\n",
    "Changing the second digit results in 9969.\n",
    "Changing the third digit results in 9699.\n",
    "Changing the fourth digit results in 9666.\n",
    "The maximum number is 9969.\n",
    "Example 2:\n",
    "\n",
    "Input: num = 9996\n",
    "Output: 9999\n",
    "Explanation: Changing the last digit 6 to 9 results in the maximum number.\n",
    "Example 3:\n",
    "\n",
    "Input: num = 9999\n",
    "Output: 9999\n",
    "Explanation: It is better not to apply any change.\n",
    " \n",
    "\n",
    "Constraints:\n",
    "\n",
    "1 <= num <= 104\n",
    "num consists of only 6 and 9 digits."
   ]
  },
  {
   "cell_type": "markdown",
   "id": "ff70f6e9",
   "metadata": {},
   "source": [
    "## Solution"
   ]
  },
  {
   "cell_type": "code",
   "execution_count": 8,
   "id": "23011d08",
   "metadata": {},
   "outputs": [
    {
     "data": {
      "text/plain": [
       "9969"
      ]
     },
     "execution_count": 8,
     "metadata": {},
     "output_type": "execute_result"
    }
   ],
   "source": [
    "num = 9669\n",
    "l=list(str(num))\n",
    "for i in range(len(l)):\n",
    "    if l[i]=='6':\n",
    "        l[i]='9'\n",
    "        break\n",
    "int(''.join(l))"
   ]
  }
 ],
 "metadata": {
  "kernelspec": {
   "display_name": "Python 3",
   "language": "python",
   "name": "python3"
  },
  "language_info": {
   "codemirror_mode": {
    "name": "ipython",
    "version": 3
   },
   "file_extension": ".py",
   "mimetype": "text/x-python",
   "name": "python",
   "nbconvert_exporter": "python",
   "pygments_lexer": "ipython3",
   "version": "3.10.9"
  }
 },
 "nbformat": 4,
 "nbformat_minor": 5
}

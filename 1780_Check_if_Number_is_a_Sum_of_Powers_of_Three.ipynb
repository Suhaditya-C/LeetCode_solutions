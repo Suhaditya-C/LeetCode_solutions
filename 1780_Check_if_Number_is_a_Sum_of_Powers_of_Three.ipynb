{
  "nbformat": 4,
  "nbformat_minor": 0,
  "metadata": {
    "colab": {
      "provenance": [],
      "authorship_tag": "ABX9TyNcU283WWIjuMSq1jTf6XTT",
      "include_colab_link": true
    },
    "kernelspec": {
      "name": "python3",
      "display_name": "Python 3"
    },
    "language_info": {
      "name": "python"
    }
  },
  "cells": [
    {
      "cell_type": "markdown",
      "metadata": {
        "id": "view-in-github",
        "colab_type": "text"
      },
      "source": [
        "<a href=\"https://colab.research.google.com/github/Suhaditya-C/LeetCode_solutions/blob/main/1780_Check_if_Number_is_a_Sum_of_Powers_of_Three.ipynb\" target=\"_parent\"><img src=\"https://colab.research.google.com/assets/colab-badge.svg\" alt=\"Open In Colab\"/></a>"
      ]
    },
    {
      "cell_type": "markdown",
      "source": [
        "## 1780. Check if Number is a Sum of Powers of Three\n",
        "\n",
        "Given an integer n, return true if it is possible to represent n as the sum of distinct powers of three. Otherwise, return false.\n",
        "\n",
        "An integer y is a power of three if there exists an integer x such that y == 3x.\n",
        "\n",
        "\n",
        "\n",
        "Example 1:\n",
        "\n",
        "Input: n = 12\n",
        "Output: true\n",
        "Explanation: 12 = 31 + 32\n",
        "Example 2:\n",
        "\n",
        "Input: n = 91\n",
        "Output: true\n",
        "Explanation: 91 = 30 + 32 + 34\n",
        "Example 3:\n",
        "\n",
        "Input: n = 21\n",
        "Output: false\n",
        "\n",
        "\n",
        "Constraints:\n",
        "\n",
        "1 <= n <= 107"
      ],
      "metadata": {
        "id": "ae1DwupB2aBX"
      }
    },
    {
      "cell_type": "code",
      "source": [
        "n=91\n",
        "def dec_to_ter(n):\n",
        "    if n==0:\n",
        "        return 0\n",
        "    res=''\n",
        "    while n>0:\n",
        "        rem=n%3\n",
        "        res=str(rem)+res\n",
        "        n//=3\n",
        "    return res\n",
        "if '2' in dec_to_ter(n):\n",
        "    print(False)\n",
        "else:\n",
        "    print(True)\n",
        "dec_to_ter(n)"
      ],
      "metadata": {
        "id": "nDYllINA2f1l",
        "colab": {
          "base_uri": "https://localhost:8080/",
          "height": 53
        },
        "outputId": "e9b7e0c9-e89a-4dff-ce21-8789e8870168"
      },
      "execution_count": null,
      "outputs": [
        {
          "output_type": "stream",
          "name": "stdout",
          "text": [
            "True\n"
          ]
        },
        {
          "output_type": "execute_result",
          "data": {
            "text/plain": [
              "'10101'"
            ],
            "application/vnd.google.colaboratory.intrinsic+json": {
              "type": "string"
            }
          },
          "metadata": {},
          "execution_count": 6
        }
      ]
    },
    {
      "cell_type": "code",
      "source": [
        "import math\n",
        "class Solution:\n",
        "    def checkPowersOfThree(self, n: int) -> bool:\n",
        "        def dec_to_ter(n): #Conversion of decimal to ternary\n",
        "            if n==0:\n",
        "                return 0\n",
        "            res=''\n",
        "            while n>0:\n",
        "                rem=n%3\n",
        "                res=str(rem)+res\n",
        "                n//=3\n",
        "            return res\n",
        "        if '2' in dec_to_ter(n): #If 2 is in ternary-- no. cannot be represented as such\n",
        "            return (False)\n",
        "        else:\n",
        "            return (True)"
      ],
      "metadata": {
        "id": "zmV4RRCYD_wh"
      },
      "execution_count": null,
      "outputs": []
    }
  ]
}
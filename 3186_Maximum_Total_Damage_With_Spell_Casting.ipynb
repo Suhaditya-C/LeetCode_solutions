{
  "nbformat": 4,
  "nbformat_minor": 0,
  "metadata": {
    "colab": {
      "provenance": [],
      "authorship_tag": "ABX9TyPHpGt2umKrYfJDFHB+filY",
      "include_colab_link": true
    },
    "kernelspec": {
      "name": "python3",
      "display_name": "Python 3"
    },
    "language_info": {
      "name": "python"
    }
  },
  "cells": [
    {
      "cell_type": "markdown",
      "metadata": {
        "id": "view-in-github",
        "colab_type": "text"
      },
      "source": [
        "<a href=\"https://colab.research.google.com/github/Suhaditya-C/LeetCode_solutions/blob/main/3186_Maximum_Total_Damage_With_Spell_Casting.ipynb\" target=\"_parent\"><img src=\"https://colab.research.google.com/assets/colab-badge.svg\" alt=\"Open In Colab\"/></a>"
      ]
    },
    {
      "cell_type": "markdown",
      "source": [
        "# 3186. Maximum Total Damage With Spell Casting\n",
        "\n",
        "A magician has various spells.\n",
        "\n",
        "You are given an array power, where each element represents the damage of a spell. Multiple spells can have the same damage value.\n",
        "\n",
        "It is a known fact that if a magician decides to cast a spell with a damage of power[i], they cannot cast any spell with a damage of power[i] - 2, power[i] - 1, power[i] + 1, or power[i] + 2.\n",
        "\n",
        "Each spell can be cast only once.\n",
        "\n",
        "Return the maximum possible total damage that a magician can cast.\n",
        "\n",
        "\n",
        "\n",
        "Example 1:\n",
        "\n",
        "Input: power = [1,1,3,4]\n",
        "\n",
        "Output: 6\n",
        "\n",
        "Explanation:\n",
        "\n",
        "The maximum possible damage of 6 is produced by casting spells 0, 1, 3 with damage 1, 1, 4.\n",
        "\n",
        "Example 2:\n",
        "\n",
        "Input: power = [7,1,6,6]\n",
        "\n",
        "Output: 13\n",
        "\n",
        "Explanation:\n",
        "\n",
        "The maximum possible damage of 13 is produced by casting spells 1, 2, 3 with damage 1, 6, 6.\n",
        "\n",
        "\n",
        "\n",
        "Constraints:\n",
        "\n",
        "1 <= power.length <= 105\n",
        "1 <= power[i] <= 109"
      ],
      "metadata": {
        "id": "K8e6J2IpMMzE"
      }
    },
    {
      "cell_type": "markdown",
      "source": [
        "## Solution: Recursion with Memoisation"
      ],
      "metadata": {
        "id": "SskZApy4MYva"
      }
    },
    {
      "cell_type": "code",
      "source": [
        "from collections import Counter"
      ],
      "metadata": {
        "id": "4Jd3Hlm2SA4X"
      },
      "execution_count": null,
      "outputs": []
    },
    {
      "cell_type": "code",
      "execution_count": null,
      "metadata": {
        "colab": {
          "base_uri": "https://localhost:8080/"
        },
        "id": "4BsggvM3L3dr",
        "outputId": "57332dfa-6d1a-4744-9cd1-2957bcadc46d"
      },
      "outputs": [
        {
          "output_type": "execute_result",
          "data": {
            "text/plain": [
              "104"
            ]
          },
          "metadata": {},
          "execution_count": 19
        }
      ],
      "source": [
        "power=[3,4,5,6,6,7,1,1,1,1,1,9,9,9,9,9,9,9,9,9,6]  # list of power values\n",
        "mpp=Counter(power)                                 # frequency count of each unique power\n",
        "unique_powers = sorted(mpp.keys())                 # sorted list of unique power values\n",
        "memo={}                                            # memoization dictionary for DFS results\n",
        "dp=[0]*len(unique_powers)                          # dp array (not used in this version)\n",
        "def DFS(i):                                        # recursive DFS function with memoization\n",
        "    if i>=len(unique_powers):                      # base case: if index goes beyond last\n",
        "        return 0\n",
        "    if i in memo:                                  # return cached result if already computed\n",
        "        return memo[i]\n",
        "    ans=0\n",
        "    for j in range(i+1,len(unique_powers)):        # find next non-adjacent power (> current + 2)\n",
        "        if unique_powers[j]>unique_powers[i]+2:\n",
        "            ans=DFS(j)                             # recursively compute from next valid index\n",
        "            break\n",
        "\n",
        "    take=ans+unique_powers[i]*mpp[unique_powers[i]] # choose current element and skip adjacent ones\n",
        "    skip=DFS(i+1)                                   # skip current element\n",
        "    memo[i]=max(take,skip)                          # store best result in memo\n",
        "    return memo[i]                                  # return the best value\n",
        "\n",
        "DFS(0)                                              # call DFS starting from index 0"
      ]
    },
    {
      "cell_type": "code",
      "source": [
        "unique_powers"
      ],
      "metadata": {
        "colab": {
          "base_uri": "https://localhost:8080/"
        },
        "id": "gLIOdR_uSHUD",
        "outputId": "1b30387b-82f5-4b71-d583-537a29b4e9cf"
      },
      "execution_count": null,
      "outputs": [
        {
          "output_type": "execute_result",
          "data": {
            "text/plain": [
              "[1, 3, 4, 5, 6, 7, 9]"
            ]
          },
          "metadata": {},
          "execution_count": 10
        }
      ]
    },
    {
      "cell_type": "code",
      "source": [
        "mpp"
      ],
      "metadata": {
        "colab": {
          "base_uri": "https://localhost:8080/"
        },
        "id": "HaC-EJhLSINg",
        "outputId": "e17afc32-c2fc-4134-cb88-acd6c06c81f7"
      },
      "execution_count": null,
      "outputs": [
        {
          "output_type": "execute_result",
          "data": {
            "text/plain": [
              "Counter({3: 1, 4: 1, 5: 1, 6: 3, 7: 1, 1: 5, 9: 9})"
            ]
          },
          "metadata": {},
          "execution_count": 11
        }
      ]
    }
  ]
}
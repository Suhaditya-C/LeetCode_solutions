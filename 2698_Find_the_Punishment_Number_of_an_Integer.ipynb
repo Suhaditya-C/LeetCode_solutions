{
  "nbformat": 4,
  "nbformat_minor": 0,
  "metadata": {
    "colab": {
      "provenance": [],
      "authorship_tag": "ABX9TyOrOBFUEfr3cgtNRmN8DRWV",
      "include_colab_link": true
    },
    "kernelspec": {
      "name": "python3",
      "display_name": "Python 3"
    },
    "language_info": {
      "name": "python"
    }
  },
  "cells": [
    {
      "cell_type": "markdown",
      "metadata": {
        "id": "view-in-github",
        "colab_type": "text"
      },
      "source": [
        "<a href=\"https://colab.research.google.com/github/Suhaditya-C/LeetCode_solutions/blob/main/2698_Find_the_Punishment_Number_of_an_Integer.ipynb\" target=\"_parent\"><img src=\"https://colab.research.google.com/assets/colab-badge.svg\" alt=\"Open In Colab\"/></a>"
      ]
    },
    {
      "cell_type": "markdown",
      "source": [
        "## 2698. Find the Punishment Number of an Integer\n",
        "\n",
        "Given a positive integer n, return the punishment number of n.\n",
        "\n",
        "The punishment number of n is defined as the sum of the squares of all integers i such that:\n",
        "\n",
        "1 <= i <= n\n",
        "The decimal representation of i * i can be partitioned into contiguous substrings such that the sum of the integer values of these substrings equals i.\n",
        "\n",
        "\n",
        "Example 1:\n",
        "\n",
        "Input: n = 10\n",
        "Output: 182\n",
        "Explanation: There are exactly 3 integers i in the range [1, 10] that satisfy the conditions in the statement:\n",
        "- 1 since 1 * 1 = 1\n",
        "- 9 since 9 * 9 = 81 and 81 can be partitioned into 8 and 1 with a sum equal to 8 + 1 == 9.\n",
        "- 10 since 10 * 10 = 100 and 100 can be partitioned into 10 and 0 with a sum equal to 10 + 0 == 10.\n",
        "Hence, the punishment number of 10 is 1 + 81 + 100 = 182\n",
        "Example 2:\n",
        "\n",
        "Input: n = 37\n",
        "Output: 1478\n",
        "Explanation: There are exactly 4 integers i in the range [1, 37] that satisfy the conditions in the statement:\n",
        "- 1 since 1 * 1 = 1.\n",
        "- 9 since 9 * 9 = 81 and 81 can be partitioned into 8 + 1.\n",
        "- 10 since 10 * 10 = 100 and 100 can be partitioned into 10 + 0.\n",
        "- 36 since 36 * 36 = 1296 and 1296 can be partitioned into 1 + 29 + 6.\n",
        "Hence, the punishment number of 37 is 1 + 81 + 100 + 1296 = 1478\n",
        "\n",
        "\n",
        "Constraints:\n",
        "\n",
        "1 <= n <= 1000"
      ],
      "metadata": {
        "id": "ZLKZ-mcdRELM"
      }
    },
    {
      "cell_type": "code",
      "source": [
        "n=10\n",
        "# check partition recursively\n",
        "def canpart(num,target):\n",
        "    if target<0 or num<target:\n",
        "        return False\n",
        "    if num==target:\n",
        "        return True\n",
        "    #Recursively check by partitioning upto 1000's place because max num^2 is 10^6\n",
        "    return (canpart(num//10,target-num%10) or canpart(num//100,target-num%100) or canpart(num//1000,target-num%1000))\n",
        "    # at each recursion target is updated to original target - previous partitions\n",
        "\n",
        "sum=0\n",
        "for i in range(1,n+1):\n",
        "    if canpart(i*i,i):\n",
        "        sum+=i*i\n",
        "sum"
      ],
      "metadata": {
        "colab": {
          "base_uri": "https://localhost:8080/"
        },
        "id": "DOKqqRwgQ-do",
        "outputId": "8a740aff-df20-432d-eebc-35794005d278"
      },
      "execution_count": null,
      "outputs": [
        {
          "output_type": "execute_result",
          "data": {
            "text/plain": [
              "182"
            ]
          },
          "metadata": {},
          "execution_count": 12
        }
      ]
    },
    {
      "cell_type": "markdown",
      "source": [
        "Final Solution"
      ],
      "metadata": {
        "id": "i5b5dTvAXeV7"
      }
    },
    {
      "cell_type": "code",
      "source": [
        "class Solution:\n",
        "    def punishmentNumber(self, n: int) -> int:\n",
        "        # check partition recursively\n",
        "        def canpart(num,target):\n",
        "            if target<0 or num<target:\n",
        "                return False\n",
        "            if num==target:\n",
        "                return True\n",
        "            #Recursively check by partitioning upto 1000's place because max num^2 is 10^6\n",
        "            return (canpart(num//10,target-num%10) or canpart(num//100,target-num%100) or canpart(num//1000,target-num%1000))\n",
        "\n",
        "        sum=0\n",
        "        for i in range(1,n+1):\n",
        "            if canpart(i*i,i):\n",
        "                sum+=i*i\n",
        "        return sum\n",
        "\n",
        "sol=Solution()\n",
        "res=sol.punishmentNumber(100)\n",
        "res"
      ],
      "metadata": {
        "colab": {
          "base_uri": "https://localhost:8080/"
        },
        "id": "Rx2iuRceXeA1",
        "outputId": "495ee1e0-beae-4ea5-a8bb-ec773229696b"
      },
      "execution_count": 3,
      "outputs": [
        {
          "output_type": "execute_result",
          "data": {
            "text/plain": [
              "41334"
            ]
          },
          "metadata": {},
          "execution_count": 3
        }
      ]
    }
  ]
}
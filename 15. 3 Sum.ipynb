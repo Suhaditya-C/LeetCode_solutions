{
 "cells": [
  {
   "cell_type": "markdown",
   "id": "3dd41aca",
   "metadata": {},
   "source": [
    "# 15. 3 Sum\n",
    "\n",
    "Given an integer array nums, return all the triplets [nums[i], nums[j], nums[k]] such that i != j, i != k, and j != k, and nums[i] + nums[j] + nums[k] == 0.\n",
    "\n",
    "Notice that the solution set must not contain duplicate triplets.\n",
    "\n",
    "Example 1:\n",
    "\n",
    "Input: nums = [-1,0,1,2,-1,-4]\n",
    "Output: [[-1,-1,2],[-1,0,1]]\n",
    "Explanation: \n",
    "nums[0] + nums[1] + nums[2] = (-1) + 0 + 1 = 0.\n",
    "nums[1] + nums[2] + nums[4] = 0 + 1 + (-1) = 0.\n",
    "nums[0] + nums[3] + nums[4] = (-1) + 2 + (-1) = 0.\n",
    "The distinct triplets are [-1,0,1] and [-1,-1,2].\n",
    "Notice that the order of the output and the order of the triplets does not matter.\n",
    "Example 2:\n",
    "\n",
    "Input: nums = [0,1,1]\n",
    "Output: []\n",
    "Explanation: The only possible triplet does not sum up to 0.\n",
    "Example 3:\n",
    "\n",
    "Input: nums = [0,0,0]\n",
    "Output: [[0,0,0]]\n",
    "Explanation: The only possible triplet sums up to 0.\n",
    " \n",
    "Constraints:\n",
    "\n",
    "3 <= nums.length <= 3000\n",
    "-105 <= nums[i] <= 105"
   ]
  },
  {
   "cell_type": "markdown",
   "id": "00a01820",
   "metadata": {},
   "source": [
    "## Solution\n",
    "\n",
    "### 1. Two Pointer Approach"
   ]
  },
  {
   "cell_type": "code",
   "execution_count": 8,
   "id": "e06b2532",
   "metadata": {},
   "outputs": [
    {
     "data": {
      "text/plain": [
       "[[-10, 5, 5], [-5, 0, 5], [-4, 2, 2], [-3, -2, 5], [-3, 1, 2], [-2, 0, 2]]"
      ]
     },
     "execution_count": 8,
     "metadata": {},
     "output_type": "execute_result"
    }
   ],
   "source": [
    "nums = [2,-3,0,-2,-5,-5,-4,1,2,-2,2,0,2,-4,5,5,-10]\n",
    "nums.sort()\n",
    "n=len(nums)\n",
    "if n<3 or nums[0]>0:\n",
    "    res=[]\n",
    "else:\n",
    "    res=[]\n",
    "    for i in range(n):\n",
    "        if nums[i]>0:\n",
    "            break\n",
    "        if i>0 and nums[i]==nums[i-1]: #avoiding Duplicate Triplets\n",
    "            continue\n",
    "\n",
    "        high=n-1\n",
    "        low=i+1\n",
    "        while low<high:\n",
    "            s=nums[i]+nums[low]+nums[high]\n",
    "            if s>0: #Need more negative nos. to make sum 0\n",
    "                high-=1\n",
    "            elif s<0: #Need more positive nos. to make sum 0\n",
    "                low+=1\n",
    "            else: #Sum is 0\n",
    "                res.append([nums[i],nums[low],nums[high]])\n",
    "                last_low=low\n",
    "                last_high=high\n",
    "                #Avoiding Duplicates:\n",
    "                while low<high and nums[low]==nums[last_low]:\n",
    "                    low+=1\n",
    "                while low<high and nums[high]==nums[last_high]:\n",
    "                    high-=1\n",
    "res\n"
   ]
  },
  {
   "cell_type": "markdown",
   "id": "4bdb9682",
   "metadata": {},
   "source": [
    "### 2. Hashmap Approach"
   ]
  },
  {
   "cell_type": "code",
   "execution_count": 27,
   "id": "b61e4104",
   "metadata": {},
   "outputs": [
    {
     "data": {
      "text/plain": [
       "[[-10, 5, 5], [-5, 0, 5], [-4, 2, 2], [-3, -2, 5], [-3, 1, 2], [-2, 0, 2]]"
      ]
     },
     "execution_count": 27,
     "metadata": {},
     "output_type": "execute_result"
    }
   ],
   "source": [
    "nums = [2,-3,0,-2,-5,-5,-4,1,2,-2,2,0,2,-4,5,5,-10]\n",
    "nums.sort()\n",
    "n=len(nums)\n",
    "if n<3 or nums[0]>0:\n",
    "    res=[]\n",
    "else:\n",
    "    mpp={}\n",
    "    for i in range(n):\n",
    "        mpp[nums[i]]=i #num->index\n",
    "    res=[]\n",
    "    i=0\n",
    "    while i <(n):\n",
    "        if nums[i]>0:\n",
    "            break\n",
    "        if i>0 and nums[i]==nums[i-1]: #avoiding Duplicate Triplets\n",
    "            continue\n",
    "        j=i+1\n",
    "        while j < n-1:\n",
    "            req=-(nums[i]+nums[j])\n",
    "            if req in mpp and mpp[req]>j: #Faster search with hashmap\n",
    "                res.append([nums[i],nums[j],req])\n",
    "            #Update j to last occurence of nums[j]\n",
    "            j=mpp[nums[j]]\n",
    "            j+=1\n",
    "            \n",
    "        #Update i to last occurence of nums[i]\n",
    "        i=mpp[nums[i]]\n",
    "        i+=1\n",
    "res"
   ]
  }
 ],
 "metadata": {
  "kernelspec": {
   "display_name": "Python 3",
   "language": "python",
   "name": "python3"
  },
  "language_info": {
   "codemirror_mode": {
    "name": "ipython",
    "version": 3
   },
   "file_extension": ".py",
   "mimetype": "text/x-python",
   "name": "python",
   "nbconvert_exporter": "python",
   "pygments_lexer": "ipython3",
   "version": "3.10.9"
  }
 },
 "nbformat": 4,
 "nbformat_minor": 5
}

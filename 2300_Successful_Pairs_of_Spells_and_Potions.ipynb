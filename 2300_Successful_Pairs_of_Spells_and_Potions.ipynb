{
  "nbformat": 4,
  "nbformat_minor": 0,
  "metadata": {
    "colab": {
      "provenance": [],
      "authorship_tag": "ABX9TyOWhNvvpvYaatEOHSyOrBKN",
      "include_colab_link": true
    },
    "kernelspec": {
      "name": "python3",
      "display_name": "Python 3"
    },
    "language_info": {
      "name": "python"
    }
  },
  "cells": [
    {
      "cell_type": "markdown",
      "metadata": {
        "id": "view-in-github",
        "colab_type": "text"
      },
      "source": [
        "<a href=\"https://colab.research.google.com/github/Suhaditya-C/LeetCode_solutions/blob/main/2300_Successful_Pairs_of_Spells_and_Potions.ipynb\" target=\"_parent\"><img src=\"https://colab.research.google.com/assets/colab-badge.svg\" alt=\"Open In Colab\"/></a>"
      ]
    },
    {
      "cell_type": "markdown",
      "source": [
        "# 2300. Successful Pairs of Spells and Potions\n",
        "\n",
        "You are given two positive integer arrays spells and potions, of length n and m respectively, where spells[i] represents the strength of the ith spell and potions[j] represents the strength of the jth potion.\n",
        "\n",
        "You are also given an integer success. A spell and potion pair is considered successful if the product of their strengths is at least success.\n",
        "\n",
        "Return an integer array pairs of length n where pairs[i] is the number of potions that will form a successful pair with the ith spell.\n",
        "\n",
        "\n",
        "\n",
        "Example 1:\n",
        "\n",
        "Input: spells = [5,1,3], potions = [1,2,3,4,5], success = 7\n",
        "Output: [4,0,3]\n",
        "Explanation:\n",
        "- 0th spell: 5 * [1,2,3,4,5] = [5,10,15,20,25]. 4 pairs are successful.\n",
        "- 1st spell: 1 * [1,2,3,4,5] = [1,2,3,4,5]. 0 pairs are successful.\n",
        "- 2nd spell: 3 * [1,2,3,4,5] = [3,6,9,12,15]. 3 pairs are successful.\n",
        "Thus, [4,0,3] is returned.\n",
        "Example 2:\n",
        "\n",
        "Input: spells = [3,1,2], potions = [8,5,8], success = 16\n",
        "Output: [2,0,2]\n",
        "Explanation:\n",
        "- 0th spell: 3 * [8,5,8] = [24,15,24]. 2 pairs are successful.\n",
        "- 1st spell: 1 * [8,5,8] = [8,5,8]. 0 pairs are successful.\n",
        "- 2nd spell: 2 * [8,5,8] = [16,10,16]. 2 pairs are successful.\n",
        "Thus, [2,0,2] is returned.\n",
        "\n",
        "\n",
        "Constraints:\n",
        "\n",
        "n == spells.length\n",
        "m == potions.length\n",
        "1 <= n, m <= 105\n",
        "1 <= spells[i], potions[i] <= 105\n",
        "1 <= success <= 1010"
      ],
      "metadata": {
        "id": "0sN2Yv-XGdVQ"
      }
    },
    {
      "cell_type": "markdown",
      "source": [
        "## Solution: Binary Search"
      ],
      "metadata": {
        "id": "vgMr6QClGnMQ"
      }
    },
    {
      "cell_type": "code",
      "execution_count": 31,
      "metadata": {
        "colab": {
          "base_uri": "https://localhost:8080/"
        },
        "id": "zWX97gdjGbIh",
        "outputId": "67934655-1532-4f0f-d8ad-e103cec9925f"
      },
      "outputs": [
        {
          "output_type": "execute_result",
          "data": {
            "text/plain": [
              "[4, 0, 3]"
            ]
          },
          "metadata": {},
          "execution_count": 31
        }
      ],
      "source": [
        "from typing import List\n",
        "\n",
        "class Solution:\n",
        "    def successfulPairs(self, spells: List[int], potions: List[int], success: int) -> List[int]:\n",
        "        res = []\n",
        "        potions.sort()  # Sort potions so binary search can be applied\n",
        "\n",
        "        def bin_search(arr, target):\n",
        "            # Binary search to find the first index in 'arr' where potion >= target\n",
        "            l = 0\n",
        "            r = len(arr) - 1\n",
        "            while l < r:\n",
        "                mid = (l + r) // 2\n",
        "                # If current potion value is smaller than target, move right\n",
        "                if target > arr[mid]:\n",
        "                    l = mid + 1\n",
        "                else:\n",
        "                    # Otherwise, move left to find the first valid potion\n",
        "                    r = mid\n",
        "            return l  # 'l' points to the smallest index where potion >= target\n",
        "\n",
        "        for s in spells:\n",
        "            # For each spell, find minimum potion strength needed to reach 'success'\n",
        "            min_idx = bin_search(potions, success / s)\n",
        "\n",
        "            # If the smallest potion found satisfies success condition\n",
        "            # → number of successful pairs = total potions - min_idx\n",
        "            # Else → no potion can satisfy the condition for this spell\n",
        "            res.append(len(potions) - 1 - min_idx + 1) if s * potions[min_idx] >= success else res.append(0)\n",
        "\n",
        "        return res\n",
        "\n",
        "\n",
        "sol=Solution()\n",
        "sol.successfulPairs(spells = [5,1,3], potions = [1,2,3,4,5], success = 7)\n",
        ""
      ]
    }
  ]
}
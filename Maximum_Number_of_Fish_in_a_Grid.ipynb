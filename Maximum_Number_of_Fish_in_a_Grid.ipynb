{
  "nbformat": 4,
  "nbformat_minor": 0,
  "metadata": {
    "colab": {
      "provenance": [],
      "authorship_tag": "ABX9TyO24iJZNT5l2KS34Ba+Xyx/",
      "include_colab_link": true
    },
    "kernelspec": {
      "name": "python3",
      "display_name": "Python 3"
    },
    "language_info": {
      "name": "python"
    }
  },
  "cells": [
    {
      "cell_type": "markdown",
      "metadata": {
        "id": "view-in-github",
        "colab_type": "text"
      },
      "source": [
        "<a href=\"https://colab.research.google.com/github/Suhaditya-C/LeetCode_solutions/blob/main/Maximum_Number_of_Fish_in_a_Grid.ipynb\" target=\"_parent\"><img src=\"https://colab.research.google.com/assets/colab-badge.svg\" alt=\"Open In Colab\"/></a>"
      ]
    },
    {
      "cell_type": "markdown",
      "source": [
        "## 2658. Maximum Number of Fish in a Grid\n",
        "\n",
        "You are given a 0-indexed 2D matrix grid of size m x n, where (r, c) represents:\n",
        "\n",
        "A land cell if grid[r][c] = 0, or\n",
        "A water cell containing grid[r][c] fish, if grid[r][c] > 0.\n",
        "A fisher can start at any water cell (r, c) and can do the following operations any number of times:\n",
        "\n",
        "Catch all the fish at cell (r, c), or\n",
        "Move to any adjacent water cell.\n",
        "Return the maximum number of fish the fisher can catch if he chooses his starting cell optimally, or 0 if no water cell exists.\n",
        "\n",
        "An adjacent cell of the cell (r, c), is one of the cells (r, c + 1), (r, c - 1), (r + 1, c) or (r - 1, c) if it exists.\n",
        "\n",
        "\n",
        "\n",
        "Example 1:\n",
        "\n",
        "\n",
        "Input: grid = [[0,2,1,0],[4,0,0,3],[1,0,0,4],[0,3,2,0]]\n",
        "Output: 7\n",
        "Explanation: The fisher can start at cell (1,3) and collect 3 fish, then move to cell (2,3) and collect 4 fish.\n",
        "Example 2:\n",
        "\n",
        "\n",
        "Input: grid = [[1,0,0,0],[0,0,0,0],[0,0,0,0],[0,0,0,1]]\n",
        "Output: 1\n",
        "Explanation: The fisher can start at cells (0,0) or (3,3) and collect a single fish.\n",
        "\n",
        "\n",
        "Constraints:\n",
        "\n",
        "m == grid.length\n",
        "n == grid[i].length\n",
        "1 <= m, n <= 10\n",
        "0 <= grid[i][j] <= 10"
      ],
      "metadata": {
        "id": "3TEBTiyLCkbL"
      }
    },
    {
      "cell_type": "code",
      "execution_count": 1,
      "metadata": {
        "id": "0wtqeRy_CXSa"
      },
      "outputs": [],
      "source": [
        "from collections import deque"
      ]
    },
    {
      "cell_type": "code",
      "source": [
        "\n",
        "grid = [[0,2,1,0],[4,0,0,3],[1,0,0,4],[0,3,2,0]]\n",
        "m=len(grid)\n",
        "n=len(grid[0])\n",
        "visited=[[False for _ in range(n)]for _ in range (m)] # prepare matrix to track visited cells\n",
        "dir=[[0,-1],[0,1],[1,0],[-1,0]]\n",
        "maxfish=0\n",
        "for i in range(m):\n",
        "    for j in range(n):\n",
        "        if grid[i][j]>0 and visited[i][j]==False: #start from water cell\n",
        "            visited[i][j]=True #Mark true\n",
        "            q=deque([(i,j)])  #start BFS from here\n",
        "            fish=0 #reset fish count\n",
        "            while q: # start queue with the encountered water cell and traverse through its neighbours\n",
        "                r,c=q.popleft()\n",
        "                fish+=grid[r][c] # add no. of fishes in current cell\n",
        "                for d in dir:\n",
        "                    nr=r+d[0]\n",
        "                    nc=c+d[1]\n",
        "                    if 0<=nr<m and 0<=nc<n and grid[nr][nc]>0 and visited[nr][nc]==False:  #check if neighbouring cells are unvisited water cells\n",
        "                        visited[nr][nc]=True # mark visited cell\n",
        "                        q.append((nr,nc)) # push the neighbouring cell to the queue to make it a current cell\n",
        "            maxfish=max(maxfish,fish)\n",
        "maxfish"
      ],
      "metadata": {
        "id": "2xD_M-92MTSr",
        "colab": {
          "base_uri": "https://localhost:8080/"
        },
        "outputId": "382534a2-8dfc-4226-9485-ae923395f33a"
      },
      "execution_count": 16,
      "outputs": [
        {
          "output_type": "execute_result",
          "data": {
            "text/plain": [
              "7"
            ]
          },
          "metadata": {},
          "execution_count": 16
        }
      ]
    },
    {
      "cell_type": "markdown",
      "source": [
        "Solution without using visited matrix"
      ],
      "metadata": {
        "id": "Ng-kpOQyCt91"
      }
    },
    {
      "cell_type": "code",
      "source": [
        "\n",
        "grid = [[0,2,1,0],[4,0,0,3],[1,0,0,4],[0,3,2,0]]\n",
        "m=len(grid)\n",
        "n=len(grid[0])\n",
        "dir=[[0,-1],[0,1],[1,0],[-1,0]]\n",
        "maxfish=0\n",
        "for i in range(m):\n",
        "    for j in range(n):\n",
        "        if grid[i][j]>0: #start from water cell\n",
        "            q=deque([(i,j)])  #start BFS from here\n",
        "            fish=0 #reset fish count\n",
        "            while q: # start queue with the encountered water cell and traverse through its neighbours\n",
        "                r,c=q.popleft()\n",
        "                fish+=grid[r][c] # add no. of fishes in current cell\n",
        "                grid[r][c]=0 #mark its value 0 to denote it as already visited cell---i.e. it wont enter the loop again\n",
        "                for d in dir:\n",
        "                    nr=r+d[0]\n",
        "                    nc=c+d[1]\n",
        "                    if 0<=nr<m and 0<=nc<n and grid[nr][nc]>0:  #check if neighbouring cells are unvisited water cells\n",
        "                        q.append((nr,nc)) # push the neighbouring cell to the queue to make it a current cell\n",
        "            maxfish=max(maxfish,fish)\n",
        "maxfish\n"
      ],
      "metadata": {
        "id": "8udxmpN9laVa",
        "colab": {
          "base_uri": "https://localhost:8080/"
        },
        "outputId": "dfe78186-8174-4e6a-b395-3cec3005237f"
      },
      "execution_count": 17,
      "outputs": [
        {
          "output_type": "execute_result",
          "data": {
            "text/plain": [
              "7"
            ]
          },
          "metadata": {},
          "execution_count": 17
        }
      ]
    },
    {
      "cell_type": "markdown",
      "source": [
        "Final Solution"
      ],
      "metadata": {
        "id": "TDM2QGi7FSCH"
      }
    },
    {
      "cell_type": "code",
      "source": [
        "\n",
        "class Solution:\n",
        "    def findMaxFish(self, grid: List[List[int]]) -> int:\n",
        "        m=len(grid)\n",
        "        n=len(grid[0])\n",
        "        dir=[[0,-1],[0,1],[1,0],[-1,0]]\n",
        "        maxfish=0\n",
        "        for i in range(m):\n",
        "            for j in range(n):\n",
        "                if grid[i][j]>0: #start from water cell\n",
        "                    q=deque([(i,j)])  #start BFS from here\n",
        "                    fish=0 #reset fish count\n",
        "                    while q: # start queue with the encountered water cell and traverse through its neighbours\n",
        "                        r,c=q.popleft()\n",
        "                        fish+=grid[r][c] # add no. of fishes in current cell\n",
        "                        grid[r][c]=0 #mark its value 0 to denote it as already visited cell---i.e. it wont enter the loop again\n",
        "                        for d in dir:\n",
        "                            nr=r+d[0]\n",
        "                            nc=c+d[1]\n",
        "                            if 0<=nr<m and 0<=nc<n and grid[nr][nc]>0:  #check if neighbouring cells are unvisited water cells\n",
        "                                q.append((nr,nc)) # push the neighbouring cell to the queue to make it a current cell\n",
        "                    maxfish=max(maxfish,fish)\n",
        "        return maxfish"
      ],
      "metadata": {
        "id": "dWZZsSrYFMEl"
      },
      "execution_count": null,
      "outputs": []
    }
  ]
}
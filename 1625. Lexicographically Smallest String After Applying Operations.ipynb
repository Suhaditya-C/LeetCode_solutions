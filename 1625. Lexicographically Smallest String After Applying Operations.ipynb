{
 "cells": [
  {
   "cell_type": "markdown",
   "id": "68a98169",
   "metadata": {},
   "source": [
    "# 1625. Lexicographically Smallest String After Applying Operations\n",
    "\n",
    "You are given a string s of even length consisting of digits from 0 to 9, and two integers a and b.\n",
    "\n",
    "You can apply either of the following two operations any number of times and in any order on s:\n",
    "\n",
    "Add a to all odd indices of s (0-indexed). Digits post 9 are cycled back to 0. For example, if s = \"3456\" and a = 5, s becomes \"3951\".\n",
    "Rotate s to the right by b positions. For example, if s = \"3456\" and b = 1, s becomes \"6345\".\n",
    "Return the lexicographically smallest string you can obtain by applying the above operations any number of times on s.\n",
    "\n",
    "A string a is lexicographically smaller than a string b (of the same length) if in the first position where a and b differ, string a has a letter that appears earlier in the alphabet than the corresponding letter in b. For example, \"0158\" is lexicographically smaller than \"0190\" because the first position they differ is at the third letter, and '5' comes before '9'.\n",
    "\n",
    " \n",
    "\n",
    "Example 1:\n",
    "\n",
    "Input: s = \"5525\", a = 9, b = 2\n",
    "Output: \"2050\"\n",
    "Explanation: We can apply the following operations:\n",
    "Start:  \"5525\"\n",
    "Rotate: \"2555\"\n",
    "Add:    \"2454\"\n",
    "Add:    \"2353\"\n",
    "Rotate: \"5323\"\n",
    "Add:    \"5222\"\n",
    "Add:    \"5121\"\n",
    "Rotate: \"2151\"\n",
    "Add:    \"2050\"​​​​​\n",
    "There is no way to obtain a string that is lexicographically smaller than \"2050\".\n",
    "Example 2:\n",
    "\n",
    "Input: s = \"74\", a = 5, b = 1\n",
    "Output: \"24\"\n",
    "Explanation: We can apply the following operations:\n",
    "Start:  \"74\"\n",
    "Rotate: \"47\"\n",
    "​​​​​​​Add:    \"42\"\n",
    "​​​​​​​Rotate: \"24\"​​​​​​​​​​​​\n",
    "There is no way to obtain a string that is lexicographically smaller than \"24\".\n",
    "Example 3:\n",
    "\n",
    "Input: s = \"0011\", a = 4, b = 2\n",
    "Output: \"0011\"\n",
    "Explanation: There are no sequence of operations that will give us a lexicographically smaller string than \"0011\".\n",
    " \n",
    "\n",
    "Constraints:\n",
    "\n",
    "2 <= s.length <= 100\n",
    "s.length is even.\n",
    "s consists of digits from 0 to 9 only.\n",
    "1 <= a <= 9\n",
    "1 <= b <= s.length - 1"
   ]
  },
  {
   "cell_type": "markdown",
   "id": "9d723e47",
   "metadata": {},
   "source": [
    "## Solution: DFS with memoization: Enumeration of all possible cases"
   ]
  },
  {
   "cell_type": "code",
   "execution_count": 17,
   "id": "90724c60",
   "metadata": {},
   "outputs": [
    {
     "data": {
      "text/plain": [
       "'00553311'"
      ]
     },
     "execution_count": 17,
     "metadata": {},
     "output_type": "execute_result"
    }
   ],
   "source": [
    "class Solution:\n",
    "    def findLexSmallestString(self, s: str, a: int, b: int) -> str:\n",
    "        def rotate(s,b):\n",
    "            l=[s[(i+b)%(len(s))] for i in range(len(s))]\n",
    "            return ''.join(l)\n",
    "        \n",
    "        def add(s,a):\n",
    "            l=list(s)\n",
    "            for i in range(len(l)):\n",
    "                if i%2!=0:\n",
    "                    l[i]=str((int(l[i])+a)%10)\n",
    "            return ''.join(l)\n",
    "        \n",
    "        seen=set() #Stores all possible strings visited\n",
    "        self.res=s #Update global minimum (Lexicographically smallest string)\n",
    "\n",
    "        def DFS(cur_str):\n",
    "            if cur_str in seen:\n",
    "                return\n",
    "            \n",
    "            seen.add(cur_str) #Update visited\n",
    "\n",
    "            # Update global minimum\n",
    "            if cur_str < self.res:\n",
    "                self.res = cur_str\n",
    "\n",
    "            next_add=add(cur_str,a)\n",
    "            next_rotate=rotate(cur_str,b)\n",
    "\n",
    "            #Explore add\n",
    "            DFS(next_add)\n",
    "            #Explore rotate\n",
    "            DFS(next_rotate)\n",
    "            \n",
    "        DFS(s)\n",
    "        return self.res\n",
    "sol=Solution()\n",
    "sol.findLexSmallestString(s = \"43987654\", a = 7, b = 3)"
   ]
  }
 ],
 "metadata": {
  "kernelspec": {
   "display_name": "Python 3",
   "language": "python",
   "name": "python3"
  },
  "language_info": {
   "codemirror_mode": {
    "name": "ipython",
    "version": 3
   },
   "file_extension": ".py",
   "mimetype": "text/x-python",
   "name": "python",
   "nbconvert_exporter": "python",
   "pygments_lexer": "ipython3",
   "version": "3.10.9"
  }
 },
 "nbformat": 4,
 "nbformat_minor": 5
}

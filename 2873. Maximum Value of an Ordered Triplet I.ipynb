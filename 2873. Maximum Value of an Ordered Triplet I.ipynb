{
 "cells": [
  {
   "cell_type": "markdown",
   "id": "714b7304-3444-4eb9-9ac5-7c830488c008",
   "metadata": {},
   "source": [
    "# 2873. Maximum Value of an Ordered Triplet I\n",
    "\n",
    "You are given a 0-indexed integer array nums.\n",
    "\n",
    "Return the maximum value over all triplets of indices (i, j, k) such that i < j < k. If all such triplets have a negative value, return 0.\n",
    "\n",
    "The value of a triplet of indices (i, j, k) is equal to (nums[i] - nums[j]) * nums[k].\n",
    "\n",
    " \n",
    "\n",
    "Example 1:\n",
    "\n",
    "Input: nums = [12,6,1,2,7]\n",
    "Output: 77\n",
    "Explanation: The value of the triplet (0, 2, 4) is (nums[0] - nums[2]) * nums[4] = 77.\n",
    "It can be shown that there are no ordered triplets of indices with a value greater than 77. \n",
    "Example 2:\n",
    "\n",
    "Input: nums = [1,10,3,4,19]\n",
    "Output: 133\n",
    "Explanation: The value of the triplet (1, 2, 4) is (nums[1] - nums[2]) * nums[4] = 133.\n",
    "It can be shown that there are no ordered triplets of indices with a value greater than 133.\n",
    "Example 3:\n",
    "\n",
    "Input: nums = [1,2,3]\n",
    "Output: 0\n",
    "Explanation: The only ordered triplet of indices (0, 1, 2) has a negative value of (nums[0] - nums[1]) * nums[2] = -3. Hence, the answer would be 0.\n",
    " \n",
    "\n",
    "Constraints:\n",
    "\n",
    "3 <= nums.length <= 100\n",
    "1 <= nums[i] <= 106"
   ]
  },
  {
   "cell_type": "markdown",
   "id": "ac09a599-7f29-4b20-9517-0f339fa20435",
   "metadata": {},
   "source": [
    "### Brute Force Solution"
   ]
  },
  {
   "cell_type": "code",
   "execution_count": 2,
   "id": "64a7e852-e958-4281-9a1a-ff5363fe22b9",
   "metadata": {},
   "outputs": [
    {
     "data": {
      "text/plain": [
       "133"
      ]
     },
     "execution_count": 2,
     "metadata": {},
     "output_type": "execute_result"
    }
   ],
   "source": [
    "nums = [1,10,3,4,19]\n",
    "res=0\n",
    "n=len(nums)\n",
    "for i in range(n-2):\n",
    "    for j in range(i+1,n-1):\n",
    "        for k in range(j+1,n):\n",
    "            res=max(res,(nums[i] - nums[j]) * nums[k])\n",
    "res"
   ]
  },
  {
   "cell_type": "markdown",
   "id": "57c239c6-b589-46bf-9f61-36cfc0630bfb",
   "metadata": {},
   "source": [
    "### More Efficient Solution:\n",
    "### use 2 loops, minimise nums[j]"
   ]
  },
  {
   "cell_type": "code",
   "execution_count": 5,
   "id": "2efb9ff5-3a37-4abf-913f-923973e9ce88",
   "metadata": {},
   "outputs": [
    {
     "data": {
      "text/plain": [
       "133"
      ]
     },
     "execution_count": 5,
     "metadata": {},
     "output_type": "execute_result"
    }
   ],
   "source": [
    "nums = [1,10,3,4,19]\n",
    "i=0\n",
    "res=0\n",
    "n=len(nums)\n",
    "for j in range(i+1,n-1):\n",
    "    if nums[j]>nums[i]: #then shift the left pointer as the result will be negative\n",
    "        i=j\n",
    "        continue\n",
    "    else: #then check further\n",
    "        for k in range(j+1,n):\n",
    "            res=max(res,(nums[i] - nums[j]) * nums[k])\n",
    "res"
   ]
  }
 ],
 "metadata": {
  "kernelspec": {
   "display_name": "Python 3 (ipykernel)",
   "language": "python",
   "name": "python3"
  },
  "language_info": {
   "codemirror_mode": {
    "name": "ipython",
    "version": 3
   },
   "file_extension": ".py",
   "mimetype": "text/x-python",
   "name": "python",
   "nbconvert_exporter": "python",
   "pygments_lexer": "ipython3",
   "version": "3.12.4"
  }
 },
 "nbformat": 4,
 "nbformat_minor": 5
}

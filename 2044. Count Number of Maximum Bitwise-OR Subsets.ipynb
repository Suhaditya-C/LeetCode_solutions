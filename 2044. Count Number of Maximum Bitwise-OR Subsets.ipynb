{
 "cells": [
  {
   "cell_type": "markdown",
   "id": "95a0ba20",
   "metadata": {},
   "source": [
    "# 2044. Count Number of Maximum Bitwise-OR Subsets\n",
    "\n",
    "Given an integer array nums, find the maximum possible bitwise OR of a subset of nums and return the number of different non-empty subsets with the maximum bitwise OR.\n",
    "\n",
    "An array a is a subset of an array b if a can be obtained from b by deleting some (possibly zero) elements of b. Two subsets are considered different if the indices of the elements chosen are different.\n",
    "\n",
    "The bitwise OR of an array a is equal to a[0] OR a[1] OR ... OR a[a.length - 1] (0-indexed).\n",
    "\n",
    " \n",
    "\n",
    "Example 1:\n",
    "\n",
    "Input: nums = [3,1]\n",
    "Output: 2\n",
    "Explanation: The maximum possible bitwise OR of a subset is 3. There are 2 subsets with a bitwise OR of 3:\n",
    "- [3]\n",
    "- [3,1]\n",
    "Example 2:\n",
    "\n",
    "Input: nums = [2,2,2]\n",
    "Output: 7\n",
    "Explanation: All non-empty subsets of [2,2,2] have a bitwise OR of 2. There are 23 - 1 = 7 total subsets.\n",
    "Example 3:\n",
    "\n",
    "Input: nums = [3,2,1,5]\n",
    "Output: 6\n",
    "Explanation: The maximum possible bitwise OR of a subset is 7. There are 6 subsets with a bitwise OR of 7:\n",
    "- [3,5]\n",
    "- [3,1,5]\n",
    "- [3,2,5]\n",
    "- [3,2,1,5]\n",
    "- [2,5]\n",
    "- [2,1,5]\n",
    " \n",
    "\n",
    "Constraints:\n",
    "\n",
    "1 <= nums.length <= 16\n",
    "1 <= nums[i] <= 105"
   ]
  },
  {
   "cell_type": "markdown",
   "id": "64f444c7",
   "metadata": {},
   "source": [
    "## Solution:\n",
    "\n",
    "Hint:The maximum bitwise-OR is the bitwise-OR of the whole array.\n",
    "\n",
    "We can use recursive backtracking"
   ]
  },
  {
   "cell_type": "code",
   "execution_count": 10,
   "id": "a2930220",
   "metadata": {},
   "outputs": [
    {
     "data": {
      "text/plain": [
       "7"
      ]
     },
     "execution_count": 10,
     "metadata": {},
     "output_type": "execute_result"
    }
   ],
   "source": [
    "nums = [2,2,2]\n",
    "target=nums[0]\n",
    "for i in range(1,len(nums)):\n",
    "    target|=nums[i]\n",
    "cnt=0\n",
    "def backtrack(i,ans):\n",
    "    global cnt\n",
    "    if i==len(nums):\n",
    "        if ans==target:\n",
    "            cnt+=1\n",
    "        return \n",
    "    #skip\n",
    "    backtrack(i+1,ans)\n",
    "    #Include\n",
    "    backtrack(i+1,ans|nums[i])\n",
    "\n",
    "backtrack(0,0)\n",
    "cnt    "
   ]
  }
 ],
 "metadata": {
  "kernelspec": {
   "display_name": "Python 3",
   "language": "python",
   "name": "python3"
  },
  "language_info": {
   "codemirror_mode": {
    "name": "ipython",
    "version": 3
   },
   "file_extension": ".py",
   "mimetype": "text/x-python",
   "name": "python",
   "nbconvert_exporter": "python",
   "pygments_lexer": "ipython3",
   "version": "3.10.9"
  }
 },
 "nbformat": 4,
 "nbformat_minor": 5
}

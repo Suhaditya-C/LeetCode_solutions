{
 "cells": [
  {
   "cell_type": "markdown",
   "metadata": {},
   "source": [
    "# 3169. Count Days Without Meetings\n",
    "\n",
    "You are given a positive integer days representing the total number of days an employee is available for work (starting from day 1). You are also given a 2D array meetings of size n where, meetings[i] = [start_i, end_i] represents the starting and ending days of meeting i (inclusive).\n",
    "\n",
    "Return the count of days when the employee is available for work but no meetings are scheduled.\n",
    "\n",
    "Note: The meetings may overlap.\n",
    "\n",
    " \n",
    "\n",
    "Example 1:\n",
    "\n",
    "Input: days = 10, meetings = [[5,7],[1,3],[9,10]]\n",
    "\n",
    "Output: 2\n",
    "\n",
    "Explanation:\n",
    "\n",
    "There is no meeting scheduled on the 4th and 8th days.\n",
    "\n",
    "Example 2:\n",
    "\n",
    "Input: days = 5, meetings = [[2,4],[1,3]]\n",
    "\n",
    "Output: 1\n",
    "\n",
    "Explanation:\n",
    "\n",
    "There is no meeting scheduled on the 5th day.\n",
    "\n",
    "Example 3:\n",
    "\n",
    "Input: days = 6, meetings = [[1,6]]\n",
    "\n",
    "Output: 0\n",
    "\n",
    "Explanation:\n",
    "\n",
    "Meetings are scheduled for all working days.\n",
    "\n",
    " \n",
    "\n",
    "Constraints:\n",
    "\n",
    "1 <= days <= 109\n",
    "1 <= meetings.length <= 105\n",
    "meetings[i].length == 2\n",
    "1 <= meetings[i][0] <= meetings[i][1] <= days"
   ]
  },
  {
   "cell_type": "markdown",
   "metadata": {},
   "source": [
    "Brute Force (Time Limit Exceeded)"
   ]
  },
  {
   "cell_type": "code",
   "execution_count": 13,
   "metadata": {},
   "outputs": [
    {
     "data": {
      "text/plain": [
       "2"
      ]
     },
     "execution_count": 13,
     "metadata": {},
     "output_type": "execute_result"
    }
   ],
   "source": [
    "days = 10; meetings = [[5,7],[1,3],[9,10]]\n",
    "total=set()\n",
    "for m in meetings:\n",
    "    m=[i for i in range(m[0],m[1]+1)]\n",
    "    total=total.union(m)\n",
    "total\n",
    "days-len(total)"
   ]
  },
  {
   "cell_type": "markdown",
   "metadata": {},
   "source": [
    "Efficient Solution"
   ]
  },
  {
   "cell_type": "code",
   "execution_count": 18,
   "metadata": {},
   "outputs": [
    {
     "data": {
      "text/plain": [
       "[[1, 3], [5, 7], [9, 10]]"
      ]
     },
     "execution_count": 18,
     "metadata": {},
     "output_type": "execute_result"
    }
   ],
   "source": [
    "#sort the array\n",
    "meetings.sort()\n",
    "meetings"
   ]
  },
  {
   "cell_type": "code",
   "execution_count": null,
   "metadata": {},
   "outputs": [
    {
     "data": {
      "text/plain": [
       "0"
      ]
     },
     "execution_count": 21,
     "metadata": {},
     "output_type": "execute_result"
    }
   ],
   "source": [
    "days = 6; meetings = [[1,6]]\n",
    "#sort the array\n",
    "meetings.sort()\n",
    "\n",
    "#define start and end for the first sorted interval\n",
    "start=meetings[0][0]\n",
    "prev_end=meetings[0][1]\n",
    "days-=prev_end-start+1\n",
    "for i in range(1,len(meetings)):\n",
    "    cur_start=meetings[i][0]\n",
    "    cur_end=meetings[i][1]\n",
    "    start=max(cur_start,prev_end+1) #update start based on the overlap length\n",
    "    prev_end=max(cur_end,prev_end) #update the end\n",
    "    interval_length=cur_end-start+1 #calculate non overlapped interval region length\n",
    "    if interval_length>0: # <0 occurs when the current interval is within the previous interval, it is then ignored\n",
    "        days-=interval_length \n",
    "days\n"
   ]
  },
  {
   "cell_type": "markdown",
   "metadata": {},
   "source": [
    "More Concise Code\n"
   ]
  },
  {
   "cell_type": "code",
   "execution_count": 23,
   "metadata": {},
   "outputs": [
    {
     "data": {
      "text/plain": [
       "2"
      ]
     },
     "execution_count": 23,
     "metadata": {},
     "output_type": "execute_result"
    }
   ],
   "source": [
    "days = 10; meetings = [[5,7],[1,3],[9,10]]\n",
    "#sort the array\n",
    "meetings.sort()\n",
    "\n",
    "prev_end=0\n",
    "\n",
    "for start,end in meetings:\n",
    "    start=max(start,prev_end+1) #pdate start point\n",
    "    interval_length=end-start+1 #calculate interval length\n",
    "    prev_end=max(end,prev_end) # update end\n",
    "    days-=interval_length #update day count, <0 occurs when interval is completely within previous one\n",
    "days"
   ]
  }
 ],
 "metadata": {
  "kernelspec": {
   "display_name": "Python 3",
   "language": "python",
   "name": "python3"
  },
  "language_info": {
   "codemirror_mode": {
    "name": "ipython",
    "version": 3
   },
   "file_extension": ".py",
   "mimetype": "text/x-python",
   "name": "python",
   "nbconvert_exporter": "python",
   "pygments_lexer": "ipython3",
   "version": "3.12.4"
  }
 },
 "nbformat": 4,
 "nbformat_minor": 2
}

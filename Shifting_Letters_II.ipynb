{
 "cells": [
  {
   "cell_type": "markdown",
   "metadata": {},
   "source": [
    "You are given a string s of lowercase English letters and a 2D integer array shifts where shifts[i] = [starti, endi, directioni]. For every i, shift the characters in s from the index starti to the index endi (inclusive) forward if directioni = 1, or shift the characters backward if directioni = 0.\n",
    "\n",
    "Shifting a character forward means replacing it with the next letter in the alphabet (wrapping around so that 'z' becomes 'a'). Similarly, shifting a character backward means replacing it with the previous letter in the alphabet (wrapping around so that 'a' becomes 'z').\n",
    "\n",
    "Return the final string after all such shifts to s are applied.\n",
    "\n",
    " \n",
    "\n",
    "Example 1:\n",
    "\n",
    "Input: s = \"abc\", shifts = [[0,1,0],[1,2,1],[0,2,1]]\n",
    "Output: \"ace\"\n",
    "Explanation: Firstly, shift the characters from index 0 to index 1 backward. Now s = \"zac\".\n",
    "Secondly, shift the characters from index 1 to index 2 forward. Now s = \"zbd\".\n",
    "Finally, shift the characters from index 0 to index 2 forward. Now s = \"ace\"."
   ]
  },
  {
   "cell_type": "markdown",
   "metadata": {},
   "source": [
    "Brute Force Method"
   ]
  },
  {
   "cell_type": "code",
   "execution_count": 1,
   "metadata": {},
   "outputs": [
    {
     "data": {
      "text/plain": [
       "'ace'"
      ]
     },
     "execution_count": 1,
     "metadata": {},
     "output_type": "execute_result"
    }
   ],
   "source": [
    "s = \"abc\"; shifts = [[0,1,0],[1,2,1],[0,2,1]]\n",
    "\n",
    "for shift in shifts:\n",
    "  start,end,direction=shift\n",
    "  result=''\n",
    "  for i in range(len(s)):\n",
    "    if start<=i<=end:\n",
    "\n",
    "      if direction==1:\n",
    "        if s[i]=='z':\n",
    "          result=result+'a'\n",
    "        else:\n",
    "          result=result+chr(ord(s[i])+1)\n",
    "      elif direction==0:\n",
    "        if s[i]=='a':\n",
    "          result=result+'z'\n",
    "        else:\n",
    "          result=result+chr(ord(s[i])-1)\n",
    "\n",
    "    else:\n",
    "      result+=s[i]\n",
    "  s=result\n",
    "s\n"
   ]
  },
  {
   "cell_type": "markdown",
   "metadata": {},
   "source": [
    "Line Sweep Method"
   ]
  },
  {
   "cell_type": "code",
   "execution_count": 2,
   "metadata": {},
   "outputs": [
    {
     "data": {
      "text/plain": [
       "'ace'"
      ]
     },
     "execution_count": 2,
     "metadata": {},
     "output_type": "execute_result"
    }
   ],
   "source": [
    "s = \"abc\"; shifts = [[0,1,0],[1,2,1],[0,2,1]]\n",
    "\n",
    "track=[0]*len(s)\n",
    "for shift in shifts:\n",
    "  start,end,direction=shift\n",
    "  if direction==1:\n",
    "    track[start]+=1\n",
    "    if end+1<len(track):\n",
    "      track[end+1]-=1\n",
    "\n",
    "  elif direction==0:\n",
    "    track[start]-=1\n",
    "    if end+1<len(track):\n",
    "      track[end+1]+=1\n",
    "track\n",
    "sum=0\n",
    "new_s=''\n",
    "for i in range(len(s)):\n",
    "  sum=sum+track[i]\n",
    "  new_s+=chr(ord('a')+(ord(s[i])-ord('a') + sum)%26)\n",
    "new_s"
   ]
  },
  {
   "cell_type": "markdown",
   "metadata": {},
   "source": [
    "Final Solution in LeetCode Format"
   ]
  },
  {
   "cell_type": "code",
   "execution_count": 3,
   "metadata": {},
   "outputs": [
    {
     "ename": "NameError",
     "evalue": "name 'List' is not defined",
     "output_type": "error",
     "traceback": [
      "\u001b[1;31m---------------------------------------------------------------------------\u001b[0m",
      "\u001b[1;31mNameError\u001b[0m                                 Traceback (most recent call last)",
      "Cell \u001b[1;32mIn[3], line 1\u001b[0m\n\u001b[1;32m----> 1\u001b[0m \u001b[38;5;28;43;01mclass\u001b[39;49;00m\u001b[43m \u001b[49m\u001b[38;5;21;43;01mSolution\u001b[39;49;00m\u001b[43m:\u001b[49m\n\u001b[0;32m      2\u001b[0m \u001b[43m    \u001b[49m\u001b[38;5;28;43;01mdef\u001b[39;49;00m\u001b[43m \u001b[49m\u001b[38;5;21;43mshiftingLetters\u001b[39;49m\u001b[43m(\u001b[49m\u001b[38;5;28;43mself\u001b[39;49m\u001b[43m,\u001b[49m\u001b[43m \u001b[49m\u001b[43ms\u001b[49m\u001b[43m:\u001b[49m\u001b[43m \u001b[49m\u001b[38;5;28;43mstr\u001b[39;49m\u001b[43m,\u001b[49m\u001b[43m \u001b[49m\u001b[43mshifts\u001b[49m\u001b[43m:\u001b[49m\u001b[43m \u001b[49m\u001b[43mList\u001b[49m\u001b[43m[\u001b[49m\u001b[43mList\u001b[49m\u001b[43m[\u001b[49m\u001b[38;5;28;43mint\u001b[39;49m\u001b[43m]\u001b[49m\u001b[43m]\u001b[49m\u001b[43m)\u001b[49m\u001b[43m \u001b[49m\u001b[38;5;241;43m-\u001b[39;49m\u001b[38;5;241;43m>\u001b[39;49m\u001b[43m \u001b[49m\u001b[38;5;28;43mstr\u001b[39;49m\u001b[43m:\u001b[49m\n\u001b[0;32m      3\u001b[0m \u001b[43m        \u001b[49m\u001b[43mtrack\u001b[49m\u001b[38;5;241;43m=\u001b[39;49m\u001b[43m[\u001b[49m\u001b[38;5;241;43m0\u001b[39;49m\u001b[43m]\u001b[49m\u001b[38;5;241;43m*\u001b[39;49m\u001b[38;5;28;43mlen\u001b[39;49m\u001b[43m(\u001b[49m\u001b[43ms\u001b[49m\u001b[43m)\u001b[49m\n",
      "Cell \u001b[1;32mIn[3], line 2\u001b[0m, in \u001b[0;36mSolution\u001b[1;34m()\u001b[0m\n\u001b[0;32m      1\u001b[0m \u001b[38;5;28;01mclass\u001b[39;00m \u001b[38;5;21;01mSolution\u001b[39;00m:\n\u001b[1;32m----> 2\u001b[0m     \u001b[38;5;28;01mdef\u001b[39;00m \u001b[38;5;21mshiftingLetters\u001b[39m(\u001b[38;5;28mself\u001b[39m, s: \u001b[38;5;28mstr\u001b[39m, shifts: \u001b[43mList\u001b[49m[List[\u001b[38;5;28mint\u001b[39m]]) \u001b[38;5;241m-\u001b[39m\u001b[38;5;241m>\u001b[39m \u001b[38;5;28mstr\u001b[39m:\n\u001b[0;32m      3\u001b[0m         track\u001b[38;5;241m=\u001b[39m[\u001b[38;5;241m0\u001b[39m]\u001b[38;5;241m*\u001b[39m\u001b[38;5;28mlen\u001b[39m(s)\n\u001b[0;32m      4\u001b[0m         \u001b[38;5;28;01mfor\u001b[39;00m shift \u001b[38;5;129;01min\u001b[39;00m shifts:\n",
      "\u001b[1;31mNameError\u001b[0m: name 'List' is not defined"
     ]
    }
   ],
   "source": [
    "class Solution:\n",
    "    def shiftingLetters(self, s: str, shifts: List[List[int]]) -> str:\n",
    "        track=[0]*len(s)\n",
    "        for shift in shifts:\n",
    "            start,end,direction=shift\n",
    "            if direction==1:\n",
    "                track[start]+=1\n",
    "                if end+1<len(track):\n",
    "                    track[end+1]-=1\n",
    "\n",
    "            elif direction==0:\n",
    "                track[start]-=1\n",
    "                if end+1<len(track):\n",
    "                    track[end+1]+=1\n",
    "        sum=0\n",
    "        new_s=''\n",
    "        for i in range(len(s)):\n",
    "            sum=sum+track[i]\n",
    "            new_s+=chr(ord('a')+(ord(s[i])-ord('a') + sum)%26)\n",
    "        return new_s "
   ]
  }
 ],
 "metadata": {
  "kernelspec": {
   "display_name": "Python 3",
   "language": "python",
   "name": "python3"
  },
  "language_info": {
   "codemirror_mode": {
    "name": "ipython",
    "version": 3
   },
   "file_extension": ".py",
   "mimetype": "text/x-python",
   "name": "python",
   "nbconvert_exporter": "python",
   "pygments_lexer": "ipython3",
   "version": "3.12.4"
  }
 },
 "nbformat": 4,
 "nbformat_minor": 2
}

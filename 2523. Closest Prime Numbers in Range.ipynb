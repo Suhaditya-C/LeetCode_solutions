{
 "cells": [
  {
   "cell_type": "markdown",
   "metadata": {},
   "source": [
    "# 2523. Closest Prime Numbers in Range\n",
    "\n",
    "Given two positive integers left and right, find the two integers num1 and num2 such that:\n",
    "\n",
    "left <= num1 < num2 <= right .\n",
    "Both num1 and num2 are prime numbers.\n",
    "num2 - num1 is the minimum amongst all other pairs satisfying the above conditions.\n",
    "Return the positive integer array ans = [num1, num2]. If there are multiple pairs satisfying these conditions, return the one with the smallest num1 value. If no such numbers exist, return [-1, -1].\n",
    "\n",
    " \n",
    "\n",
    "Example 1:\n",
    "\n",
    "Input: left = 10, right = 19\n",
    "Output: [11,13]\n",
    "Explanation: The prime numbers between 10 and 19 are 11, 13, 17, and 19.\n",
    "The closest gap between any pair is 2, which can be achieved by [11,13] or [17,19].\n",
    "Since 11 is smaller than 17, we return the first pair.\n",
    "Example 2:\n",
    "\n",
    "Input: left = 4, right = 6\n",
    "Output: [-1,-1]\n",
    "Explanation: There exists only one prime number in the given range, so the conditions cannot be satisfied.\n",
    " \n",
    "\n",
    "Constraints:\n",
    "\n",
    "1 <= left <= right <= 106"
   ]
  },
  {
   "cell_type": "markdown",
   "metadata": {},
   "source": [
    "Using Sieve of Eratosthenes"
   ]
  },
  {
   "cell_type": "code",
   "execution_count": null,
   "metadata": {},
   "outputs": [
    {
     "data": {
      "text/plain": [
       "[10, 11, 12, 13, 14, 15, 16, 17, 18, 19]"
      ]
     },
     "execution_count": 1,
     "metadata": {},
     "output_type": "execute_result"
    }
   ],
   "source": [
    "left = 10; right = 19\n",
    "arr=[i for i in range(left,right+1)]\n",
    "arr"
   ]
  },
  {
   "cell_type": "code",
   "execution_count": 6,
   "metadata": {},
   "outputs": [
    {
     "name": "stdout",
     "output_type": "stream",
     "text": [
      "[1091, 1093]\n"
     ]
    }
   ],
   "source": [
    "left = 1087;right = 4441\n",
    "\n",
    "def soe(n):\n",
    "    arr=[True for i in range(n+1)]\n",
    "    p=2\n",
    "    while p*p<=n:\n",
    "        #if prime[p] not changed, it is a prime\n",
    "        if arr[p]:\n",
    "\n",
    "            #Update all multiples of p:\n",
    "            for i in range(p*p,n+1,p):\n",
    "                arr[i]=False\n",
    "        p+=1\n",
    "\n",
    "    primes=[]\n",
    "    for i in range(2,n+1):\n",
    "        if arr[i]==True:\n",
    "            primes.append(i)\n",
    "    return primes\n",
    "\n",
    "temp=soe(right)\n",
    "p_nums=[p for p in temp if p>=left]\n",
    "p_nums\n",
    "if len(p_nums)>=2:\n",
    "    res=[p_nums[0],p_nums[1]]\n",
    "#iterate from right to left to find the max difference between two consecutive prime nums\n",
    "    for i in range(1,len(p_nums)-1):\n",
    "        if p_nums[i+1]-p_nums[i]<res[1]-res[0]:\n",
    "            res=[p_nums[i],p_nums[i+1]]\n",
    "    print(res)\n",
    "else:\n",
    "    print([-1,-1])\n"
   ]
  },
  {
   "cell_type": "markdown",
   "metadata": {},
   "source": [
    "Final Solution"
   ]
  },
  {
   "cell_type": "code",
   "execution_count": null,
   "metadata": {},
   "outputs": [],
   "source": [
    "class Solution:\n",
    "    def closestPrimes(self, left: int, right: int) -> List[int]:\n",
    "        def soe(n):\n",
    "            arr=[True for i in range(n+1)]\n",
    "            p=2\n",
    "            while p*p<=n:\n",
    "                #if prime[p] not changed, it is a prime\n",
    "                if arr[p]:\n",
    "\n",
    "                    #Update all multiples of p:\n",
    "                    for i in range(p*p,n+1,p):\n",
    "                        arr[i]=False\n",
    "                p+=1\n",
    "\n",
    "            primes=[]\n",
    "            for i in range(2,n+1):\n",
    "                if arr[i]==True:\n",
    "                    primes.append(i)\n",
    "            return primes\n",
    "\n",
    "        temp=soe(right)\n",
    "        p_nums=[p for p in temp if p>=left]\n",
    "        p_nums\n",
    "        if len(p_nums)>=2:\n",
    "            res=[p_nums[0],p_nums[1]]\n",
    "        #iterate from right to left to find the max difference between two consecutive prime nums\n",
    "            for i in range(1,len(p_nums)-1): \n",
    "                if p_nums[i+1]-p_nums[i]<res[1]-res[0]:\n",
    "                    res=[p_nums[i],p_nums[i+1]]\n",
    "            return (res)\n",
    "        else:\n",
    "            return ([-1,-1])            "
   ]
  }
 ],
 "metadata": {
  "kernelspec": {
   "display_name": "Python 3",
   "language": "python",
   "name": "python3"
  },
  "language_info": {
   "codemirror_mode": {
    "name": "ipython",
    "version": 3
   },
   "file_extension": ".py",
   "mimetype": "text/x-python",
   "name": "python",
   "nbconvert_exporter": "python",
   "pygments_lexer": "ipython3",
   "version": "3.12.4"
  }
 },
 "nbformat": 4,
 "nbformat_minor": 2
}

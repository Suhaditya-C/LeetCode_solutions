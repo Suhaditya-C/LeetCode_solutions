{
  "nbformat": 4,
  "nbformat_minor": 0,
  "metadata": {
    "colab": {
      "provenance": [],
      "authorship_tag": "ABX9TyNAgoksskmzpYSLKzE3GoY4",
      "include_colab_link": true
    },
    "kernelspec": {
      "name": "python3",
      "display_name": "Python 3"
    },
    "language_info": {
      "name": "python"
    }
  },
  "cells": [
    {
      "cell_type": "markdown",
      "metadata": {
        "id": "view-in-github",
        "colab_type": "text"
      },
      "source": [
        "<a href=\"https://colab.research.google.com/github/Suhaditya-C/LeetCode_solutions/blob/main/3494_Find_the_Minimum_Amount_of_Time_to_Brew_Potions.ipynb\" target=\"_parent\"><img src=\"https://colab.research.google.com/assets/colab-badge.svg\" alt=\"Open In Colab\"/></a>"
      ]
    },
    {
      "cell_type": "markdown",
      "source": [
        "# 3494. Find the Minimum Amount of Time to Brew Potions\n",
        "\n",
        "You are given two integer arrays, skill and mana, of length n and m, respectively.\n",
        "\n",
        "In a laboratory, n wizards must brew m potions in order. Each potion has a mana capacity mana[j] and must pass through all the wizards sequentially to be brewed properly. The time taken by the ith wizard on the jth potion is timeij = skill[i] * mana[j].\n",
        "\n",
        "Since the brewing process is delicate, a potion must be passed to the next wizard immediately after the current wizard completes their work. This means the timing must be synchronized so that each wizard begins working on a potion exactly when it arrives. ​\n",
        "\n",
        "Return the minimum amount of time required for the potions to be brewed properly.\n",
        "\n",
        "\n",
        "\n",
        "Example 1:\n",
        "\n",
        "Input: skill = [1,5,2,4], mana = [5,1,4,2]\n",
        "\n",
        "Output: 110\n",
        "\n",
        "Explanation:\n",
        "\n",
        "Potion Number\tStart time\tWizard 0 done by\tWizard 1 done by\tWizard 2 done by\tWizard 3 done by\n",
        "0\t0\t5\t30\t40\t60\n",
        "1\t52\t53\t58\t60\t64\n",
        "2\t54\t58\t78\t86\t102\n",
        "3\t86\t88\t98\t102\t110\n",
        "As an example for why wizard 0 cannot start working on the 1st potion before time t = 52, consider the case where the wizards started preparing the 1st potion at time t = 50. At time t = 58, wizard 2 is done with the 1st potion, but wizard 3 will still be working on the 0th potion till time t = 60.\n",
        "\n",
        "Example 2:\n",
        "\n",
        "Input: skill = [1,1,1], mana = [1,1,1]\n",
        "\n",
        "Output: 5\n",
        "\n",
        "Explanation:\n",
        "\n",
        "Preparation of the 0th potion begins at time t = 0, and is completed by time t = 3.\n",
        "Preparation of the 1st potion begins at time t = 1, and is completed by time t = 4.\n",
        "Preparation of the 2nd potion begins at time t = 2, and is completed by time t = 5.\n",
        "Example 3:\n",
        "\n",
        "Input: skill = [1,2,3,4], mana = [1,2]\n",
        "\n",
        "Output: 21\n",
        "\n",
        "\n",
        "\n",
        "Constraints:\n",
        "\n",
        "n == skill.length\n",
        "m == mana.length\n",
        "1 <= n, m <= 5000\n",
        "1 <= mana[i], skill[i] <= 5000"
      ],
      "metadata": {
        "id": "y-TzqOeLB3pB"
      }
    },
    {
      "cell_type": "markdown",
      "source": [
        "## Solution:-\n",
        "\n",
        "Prefix_sum with simulation"
      ],
      "metadata": {
        "id": "ZFWDvYAUB7QF"
      }
    },
    {
      "cell_type": "code",
      "execution_count": 29,
      "metadata": {
        "colab": {
          "base_uri": "https://localhost:8080/"
        },
        "id": "JUFlQEwIB2HT",
        "outputId": "f50a56b3-abdd-48d3-9dcf-2605b1b00529"
      },
      "outputs": [
        {
          "output_type": "execute_result",
          "data": {
            "text/plain": [
              "110"
            ]
          },
          "metadata": {},
          "execution_count": 29
        }
      ],
      "source": [
        "skill = [1,5,2,4]\n",
        "mana = [5,1,4,2]\n",
        "\n",
        "m, n = len(skill), len(mana)\n",
        "\n",
        "# prefix_sum[i] = total skill of all wizards up to i\n",
        "prefix_sum = skill.copy()\n",
        "for i in range(1, m):\n",
        "    prefix_sum[i] = prefix_sum[i-1] + skill[i]\n",
        "\n",
        "next_start = 0                      # Earliest time the next potion can start brewing\n",
        "cur_end = [0] * m                   # cur_end[i] = time when wizard i finishes current potion\n",
        "\n",
        "# Loop through each potion (in given order)\n",
        "for j in range(n):\n",
        "\n",
        "    # Wizard 0 starts this potion at 'next_start' and finishes after skill[0]*mana[j]\n",
        "    cur_end[0] = next_start + skill[0] * mana[j]\n",
        "    prev_end = cur_end              # Keep reference to current potion's completion times\n",
        "\n",
        "    # Loop through remaining wizards for this potion\n",
        "    for i in range(1, m):\n",
        "\n",
        "        # Wizard i starts when wizard i-1 finishes and takes skill[i]*mana[j] time\n",
        "        cur_end[i] = prev_end[i-1] + skill[i] * mana[j]\n",
        "\n",
        "        # For all but the last potion, update the earliest possible start time\n",
        "        # of the next potion so that brewing stages don't overlap\n",
        "        if j < n - 1:  # next_start for the very last potion isn’t needed\n",
        "            next_start = max(next_start, cur_end[i] - prefix_sum[i-1] * mana[j+1])\n",
        "\n",
        "    # Also ensure the next potion doesn't start before wizard 0 finishes the current one\n",
        "    next_start = max(next_start, cur_end[0])\n",
        "\n",
        "# The total time when the last wizard finishes the last potion\n",
        "cur_end[m-1]\n"
      ]
    }
  ]
}
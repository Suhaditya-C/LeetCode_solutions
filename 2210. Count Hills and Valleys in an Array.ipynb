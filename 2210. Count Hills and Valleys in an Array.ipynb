{
 "cells": [
  {
   "cell_type": "markdown",
   "id": "4fdbced5",
   "metadata": {},
   "source": [
    "# You are given a 0-indexed integer array nums\n",
    "\n",
    "An index i is part of a hill in nums if the closest non-equal neighbors of i are smaller than nums[i]. Similarly, an index i is part of a valley in nums if the closest non-equal neighbors of i are larger than nums[i]. Adjacent indices i and j are part of the same hill or valley if nums[i] == nums[j].\n",
    "\n",
    "Note that for an index to be part of a hill or valley, it must have a non-equal neighbor on both the left and right of the index.\n",
    "\n",
    "Return the number of hills and valleys in nums.\n",
    "\n",
    " \n",
    "\n",
    "Example 1:\n",
    "\n",
    "Input: nums = [2,4,1,1,6,5]\n",
    "Output: 3\n",
    "Explanation:\n",
    "At index 0: There is no non-equal neighbor of 2 on the left, so index 0 is neither a hill nor a valley.\n",
    "At index 1: The closest non-equal neighbors of 4 are 2 and 1. Since 4 > 2 and 4 > 1, index 1 is a hill. \n",
    "At index 2: The closest non-equal neighbors of 1 are 4 and 6. Since 1 < 4 and 1 < 6, index 2 is a valley.\n",
    "At index 3: The closest non-equal neighbors of 1 are 4 and 6. Since 1 < 4 and 1 < 6, index 3 is a valley, but note that it is part of the same valley as index 2.\n",
    "At index 4: The closest non-equal neighbors of 6 are 1 and 5. Since 6 > 1 and 6 > 5, index 4 is a hill.\n",
    "At index 5: There is no non-equal neighbor of 5 on the right, so index 5 is neither a hill nor a valley. \n",
    "There are 3 hills and valleys so we return 3.\n",
    "Example 2:\n",
    "\n",
    "Input: nums = [6,6,5,5,4,1]\n",
    "Output: 0\n",
    "Explanation:\n",
    "At index 0: There is no non-equal neighbor of 6 on the left, so index 0 is neither a hill nor a valley.\n",
    "At index 1: There is no non-equal neighbor of 6 on the left, so index 1 is neither a hill nor a valley.\n",
    "At index 2: The closest non-equal neighbors of 5 are 6 and 4. Since 5 < 6 and 5 > 4, index 2 is neither a hill nor a valley.\n",
    "At index 3: The closest non-equal neighbors of 5 are 6 and 4. Since 5 < 6 and 5 > 4, index 3 is neither a hill nor a valley.\n",
    "At index 4: The closest non-equal neighbors of 4 are 5 and 1. Since 4 < 5 and 4 > 1, index 4 is neither a hill nor a valley.\n",
    "At index 5: There is no non-equal neighbor of 1 on the right, so index 5 is neither a hill nor a valley.\n",
    "There are 0 hills and valleys so we return 0.\n",
    " \n",
    "\n",
    "Constraints:\n",
    "\n",
    "3 <= nums.length <= 100\n",
    "1 <= nums[i] <= 100"
   ]
  },
  {
   "cell_type": "markdown",
   "id": "1a417e87",
   "metadata": {},
   "source": [
    "## Solution"
   ]
  },
  {
   "cell_type": "code",
   "execution_count": 2,
   "id": "dc3abc71",
   "metadata": {},
   "outputs": [
    {
     "data": {
      "text/plain": [
       "0"
      ]
     },
     "execution_count": 2,
     "metadata": {},
     "output_type": "execute_result"
    }
   ],
   "source": [
    "nums = [6,6,5,5,4,1]\n",
    "cnt=0\n",
    "left=0\n",
    "for i in range(1,len(nums)-1):\n",
    "    if nums[i]!=nums[i+1]:\n",
    "\n",
    "        if (nums[i]>nums[left] and nums[i]>nums[i+1]) or (nums[i]<nums[left] and nums[i]<nums[i+1]):\n",
    "            cnt+=1\n",
    "            left=i\n",
    "cnt"
   ]
  }
 ],
 "metadata": {
  "kernelspec": {
   "display_name": "Python 3",
   "language": "python",
   "name": "python3"
  },
  "language_info": {
   "codemirror_mode": {
    "name": "ipython",
    "version": 3
   },
   "file_extension": ".py",
   "mimetype": "text/x-python",
   "name": "python",
   "nbconvert_exporter": "python",
   "pygments_lexer": "ipython3",
   "version": "3.10.9"
  }
 },
 "nbformat": 4,
 "nbformat_minor": 5
}

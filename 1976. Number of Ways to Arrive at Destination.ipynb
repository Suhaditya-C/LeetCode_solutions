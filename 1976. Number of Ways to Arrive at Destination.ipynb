{
 "cells": [
  {
   "cell_type": "markdown",
   "id": "0cfca9de-b3d3-4973-9062-91d06678fe8a",
   "metadata": {},
   "source": [
    "# 1976. Number of Ways to Arrive at Destination\n",
    "\n",
    "You are in a city that consists of n intersections numbered from 0 to n - 1 with bi-directional roads between some intersections. The inputs are generated such that you can reach any intersection from any other intersection and that there is at most one road between any two intersections.\n",
    "\n",
    "You are given an integer n and a 2D integer array roads where roads[i] = [ui, vi, timei] means that there is a road between intersections ui and vi that takes timei minutes to travel. You want to know in how many ways you can travel from intersection 0 to intersection n - 1 in the shortest amount of time.\n",
    "\n",
    "Return the number of ways you can arrive at your destination in the shortest amount of time. Since the answer may be large, return it modulo 109 + 7.\n",
    "\n",
    " \n",
    "\n",
    "Example 1:\n",
    "\n",
    "\n",
    "Input: n = 7, roads = [[0,6,7],[0,1,2],[1,2,3],[1,3,3],[6,3,3],[3,5,1],[6,5,1],[2,5,1],[0,4,5],[4,6,2]]\n",
    "Output: 4\n",
    "Explanation: The shortest amount of time it takes to go from intersection 0 to intersection 6 is 7 minutes.\n",
    "The four ways to get there in 7 minutes are:\n",
    "- 0 ➝ 6\n",
    "- 0 ➝ 4 ➝ 6\n",
    "- 0 ➝ 1 ➝ 2 ➝ 5 ➝ 6\n",
    "- 0 ➝ 1 ➝ 3 ➝ 5 ➝ 6\n",
    "Example 2:\n",
    "\n",
    "Input: n = 2, roads = [[1,0,10]]\n",
    "Output: 1\n",
    "Explanation: There is only one way to go from intersection 0 to intersection 1, and it takes 10 minutes.\n",
    " \n",
    "\n",
    "Constraints:\n",
    "\n",
    "1 <= n <= 200\n",
    "n - 1 <= roads.length <= n * (n - 1) / 2\n",
    "roads[i].length == 3\n",
    "0 <= ui, vi <= n - 1\n",
    "1 <= timei <= 109\n",
    "ui != vi\n",
    "There is at most one road connecting any two intersections.\n",
    "You can reach any intersection from any other intersection."
   ]
  },
  {
   "cell_type": "markdown",
   "id": "1c3409a4-c51c-4a28-9c3c-196e5513f18e",
   "metadata": {},
   "source": [
    "### Use Dijkstra's algorithm - find the shortest path\n",
    "\n",
    "1. Initialise all distances from source as infinite\n",
    "2. From source node travel to all nodes connected to the source and update the ditances- dist=min(dist,cur_dist)\n",
    "3. Use a priority queue to choose the next node. The next node will be the node closest to the current node (source node at the beginning)\n",
    "4. Keep track of visited nodes\n",
    "5. Keep track of predecessors\n",
    "6. Using predecessors, the shortest path can be chalked out."
   ]
  },
  {
   "cell_type": "code",
   "execution_count": 18,
   "id": "9bca50a7-e2d4-40f6-b0ba-304c0f874931",
   "metadata": {},
   "outputs": [
    {
     "data": {
      "text/plain": [
       "4"
      ]
     },
     "execution_count": 18,
     "metadata": {},
     "output_type": "execute_result"
    }
   ],
   "source": [
    "roads = [[0,6,7],[0,1,2],[1,2,3],[1,3,3],[6,3,3],[3,5,1],[6,5,1],[2,5,1],[0,4,5],[4,6,2]]\n",
    "n=7\n",
    "#Create an Adjacency List\n",
    "from collections import defaultdict\n",
    "adj=defaultdict(list)\n",
    "for u,v,w in roads:\n",
    "    adj[u].append((w,v)) # Add connected nodes and their costs to reach their from the connected node\n",
    "    adj[v].append((w,u))\n",
    "mod=10**9+7\n",
    "#Import priority queue\n",
    "import heapq\n",
    "pq=[(0,0)] #(cost,node)\n",
    "min_cost=[float('inf')]*n #Tracks min cost to reach a node\n",
    "path_count=[0]*n #No. of ways to reach a node with min cost\n",
    "path_count[0]=1\n",
    "\n",
    "while pq:\n",
    "    cost,node=heapq.heappop(pq)\n",
    "\n",
    "    for nei_cost, nei  in adj[node]:\n",
    "        #if a new minimum is found, update the cost\n",
    "        if cost+nei_cost<min_cost[nei]:\n",
    "            #update Cost\n",
    "            min_cost[nei]=cost+nei_cost\n",
    "            #Update Path Count\n",
    "            path_count[nei]=path_count[node]\n",
    "            heapq.heappush(pq,(cost+nei_cost,nei)) #Push that node in the priority queue\n",
    "\n",
    "        #if costs are same then then the no. of path gets added to the existing no. of paths\n",
    "        elif cost+nei_cost==min_cost[nei]:\n",
    "            path_count[nei]=(path_count[nei]+path_count[node])%mod # as it can be a big number\n",
    "\n",
    "path_count[n-1]"
   ]
  },
  {
   "cell_type": "code",
   "execution_count": 19,
   "id": "c1d839d1-fe1d-484e-afc4-3fdce8e30172",
   "metadata": {},
   "outputs": [
    {
     "data": {
      "text/plain": [
       "defaultdict(list,\n",
       "            {0: [(7, 6), (2, 1), (5, 4)],\n",
       "             6: [(7, 0), (3, 3), (1, 5), (2, 4)],\n",
       "             1: [(2, 0), (3, 2), (3, 3)],\n",
       "             2: [(3, 1), (1, 5)],\n",
       "             3: [(3, 1), (3, 6), (1, 5)],\n",
       "             5: [(1, 3), (1, 6), (1, 2)],\n",
       "             4: [(5, 0), (2, 6)]})"
      ]
     },
     "execution_count": 19,
     "metadata": {},
     "output_type": "execute_result"
    }
   ],
   "source": [
    "adj"
   ]
  },
  {
   "cell_type": "code",
   "execution_count": 3,
   "id": "f8d808bd-d1a4-412e-9d62-0099e99942b7",
   "metadata": {},
   "outputs": [
    {
     "data": {
      "text/plain": [
       "[6, 1, 4]"
      ]
     },
     "execution_count": 3,
     "metadata": {},
     "output_type": "execute_result"
    }
   ],
   "source": [
    "adj[0]"
   ]
  }
 ],
 "metadata": {
  "kernelspec": {
   "display_name": "Python 3 (ipykernel)",
   "language": "python",
   "name": "python3"
  },
  "language_info": {
   "codemirror_mode": {
    "name": "ipython",
    "version": 3
   },
   "file_extension": ".py",
   "mimetype": "text/x-python",
   "name": "python",
   "nbconvert_exporter": "python",
   "pygments_lexer": "ipython3",
   "version": "3.12.4"
  }
 },
 "nbformat": 4,
 "nbformat_minor": 5
}

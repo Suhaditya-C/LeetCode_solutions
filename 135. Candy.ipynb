{
 "cells": [
  {
   "cell_type": "markdown",
   "id": "c130888d",
   "metadata": {},
   "source": [
    "# 135. Candy\n",
    "\n",
    "There are n children standing in a line. Each child is assigned a rating value given in the integer array ratings.\n",
    "\n",
    "You are giving candies to these children subjected to the following requirements:\n",
    "\n",
    "Each child must have at least one candy.\n",
    "Children with a higher rating get more candies than their neighbors.\n",
    "Return the minimum number of candies you need to have to distribute the candies to the children.\n",
    "\n",
    " \n",
    "\n",
    "Example 1:\n",
    "\n",
    "Input: ratings = [1,0,2]\n",
    "Output: 5\n",
    "Explanation: You can allocate to the first, second and third child with 2, 1, 2 candies respectively.\n",
    "Example 2:\n",
    "\n",
    "Input: ratings = [1,2,2]\n",
    "Output: 4\n",
    "Explanation: You can allocate to the first, second and third child with 1, 2, 1 candies respectively.\n",
    "The third child gets 1 candy because it satisfies the above two conditions.\n",
    " \n",
    "\n",
    "Constraints:\n",
    "\n",
    "n == ratings.length\n",
    "1 <= n <= 2 * 104\n",
    "0 <= ratings[i] <= 2 * 104"
   ]
  },
  {
   "cell_type": "markdown",
   "id": "f2d9d35a",
   "metadata": {},
   "source": [
    "## Solution: Double Pass"
   ]
  },
  {
   "cell_type": "code",
   "execution_count": 11,
   "id": "e121ba4b",
   "metadata": {},
   "outputs": [
    {
     "data": {
      "text/plain": [
       "13"
      ]
     },
     "execution_count": 11,
     "metadata": {},
     "output_type": "execute_result"
    }
   ],
   "source": [
    "ratings = [1,2,87,87,87,2,1]\n",
    "n=len(ratings)\n",
    "candies=[1]*n\n",
    "\n",
    "#Forward Pass\n",
    "for i in range(1,n):\n",
    "    if ratings[i]>ratings[i-1]: #Checking with left neighbour\n",
    "        candies[i]=candies[i-1]+1\n",
    "#Backward Pass\n",
    "for i in reversed(range(0,n-1)):\n",
    "    if ratings[i]>ratings[i+1]: #Checking with right neighbour\n",
    "        if candies[i]<=candies[i+1]:\n",
    "            candies[i]=candies[i+1]+1\n",
    "sum(candies)"
   ]
  }
 ],
 "metadata": {
  "kernelspec": {
   "display_name": "base",
   "language": "python",
   "name": "python3"
  },
  "language_info": {
   "codemirror_mode": {
    "name": "ipython",
    "version": 3
   },
   "file_extension": ".py",
   "mimetype": "text/x-python",
   "name": "python",
   "nbconvert_exporter": "python",
   "pygments_lexer": "ipython3",
   "version": "3.12.7"
  }
 },
 "nbformat": 4,
 "nbformat_minor": 5
}

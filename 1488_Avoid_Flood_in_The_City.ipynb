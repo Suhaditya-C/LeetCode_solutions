{
  "nbformat": 4,
  "nbformat_minor": 0,
  "metadata": {
    "colab": {
      "provenance": [],
      "authorship_tag": "ABX9TyOdts9H5rXXy53cF2xaygCR",
      "include_colab_link": true
    },
    "kernelspec": {
      "name": "python3",
      "display_name": "Python 3"
    },
    "language_info": {
      "name": "python"
    }
  },
  "cells": [
    {
      "cell_type": "markdown",
      "metadata": {
        "id": "view-in-github",
        "colab_type": "text"
      },
      "source": [
        "<a href=\"https://colab.research.google.com/github/Suhaditya-C/LeetCode_solutions/blob/main/1488_Avoid_Flood_in_The_City.ipynb\" target=\"_parent\"><img src=\"https://colab.research.google.com/assets/colab-badge.svg\" alt=\"Open In Colab\"/></a>"
      ]
    },
    {
      "cell_type": "markdown",
      "source": [
        "# 1488. Avoid Flood in The City\n",
        "\n",
        "Your country has an infinite number of lakes. Initially, all the lakes are empty, but when it rains over the nth lake, the nth lake becomes full of water. If it rains over a lake that is full of water, there will be a flood. Your goal is to avoid floods in any lake.\n",
        "\n",
        "Given an integer array rains where:\n",
        "\n",
        "rains[i] > 0 means there will be rains over the rains[i] lake.\n",
        "rains[i] == 0 means there are no rains this day and you can choose one lake this day and dry it.\n",
        "Return an array ans where:\n",
        "\n",
        "ans.length == rains.length\n",
        "ans[i] == -1 if rains[i] > 0.\n",
        "ans[i] is the lake you choose to dry in the ith day if rains[i] == 0.\n",
        "If there are multiple valid answers return any of them. If it is impossible to avoid flood return an empty array.\n",
        "\n",
        "Notice that if you chose to dry a full lake, it becomes empty, but if you chose to dry an empty lake, nothing changes.\n",
        "\n",
        "\n",
        "\n",
        "Example 1:\n",
        "\n",
        "Input: rains = [1,2,3,4]\n",
        "Output: [-1,-1,-1,-1]\n",
        "Explanation: After the first day full lakes are [1]\n",
        "After the second day full lakes are [1,2]\n",
        "After the third day full lakes are [1,2,3]\n",
        "After the fourth day full lakes are [1,2,3,4]\n",
        "There's no day to dry any lake and there is no flood in any lake.\n",
        "Example 2:\n",
        "\n",
        "Input: rains = [1,2,0,0,2,1]\n",
        "Output: [-1,-1,2,1,-1,-1]\n",
        "Explanation: After the first day full lakes are [1]\n",
        "After the second day full lakes are [1,2]\n",
        "After the third day, we dry lake 2. Full lakes are [1]\n",
        "After the fourth day, we dry lake 1. There is no full lakes.\n",
        "After the fifth day, full lakes are [2].\n",
        "After the sixth day, full lakes are [1,2].\n",
        "It is easy that this scenario is flood-free. [-1,-1,1,2,-1,-1] is another acceptable scenario.\n",
        "Example 3:\n",
        "\n",
        "Input: rains = [1,2,0,1,2]\n",
        "Output: []\n",
        "Explanation: After the second day, full lakes are  [1,2]. We have to dry one lake in the third day.\n",
        "After that, it will rain over lakes [1,2]. It's easy to prove that no matter which lake you choose to dry in the 3rd day, the other one will flood.\n",
        "\n",
        "\n",
        "Constraints:\n",
        "\n",
        "1 <= rains.length <= 105\n",
        "0 <= rains[i] <= 109"
      ],
      "metadata": {
        "id": "rLg_kXKPKCTd"
      }
    },
    {
      "cell_type": "markdown",
      "source": [
        "## Solution: Greedy"
      ],
      "metadata": {
        "id": "AZBMRqiWKFzd"
      }
    },
    {
      "cell_type": "code",
      "execution_count": null,
      "metadata": {
        "colab": {
          "base_uri": "https://localhost:8080/"
        },
        "id": "LbYXUROeKAqG",
        "outputId": "abef7a6d-bbf7-415c-c951-8474e5982edd"
      },
      "outputs": [
        {
          "output_type": "execute_result",
          "data": {
            "text/plain": [
              "[]"
            ]
          },
          "metadata": {},
          "execution_count": 13
        }
      ],
      "source": [
        "rains = [1,2,0,3,0,3,0,0,3,3,3,0]\n",
        "filled={}\n",
        "dry_days=[]\n",
        "ans=[-1]*len(rains)\n",
        "\n",
        "for i,r in enumerate(rains):\n",
        "    if r==0:\n",
        "        # If there are no filled lakes, we can dry any lake, so we choose lake 1.\n",
        "        # Otherwise, we add the dry day index to dry_days list.\n",
        "        if not filled:\n",
        "            ans[i]=1\n",
        "        else:\n",
        "            dry_days.append(i)\n",
        "\n",
        "    else:\n",
        "        if r in filled:\n",
        "            # If the current lake is already filled, we need to find a dry day\n",
        "            # that occurs after the lake was filled.\n",
        "            emptied = False\n",
        "            # Iterate over a copy of dry_days to avoid modifying the list during iteration\n",
        "            for d in dry_days[:]:\n",
        "                if d > filled[r]:\n",
        "                    ans[d]=r\n",
        "                    dry_days.remove(d)\n",
        "                    emptied=True\n",
        "                    break\n",
        "\n",
        "            if not emptied:\n",
        "                # If no suitable dry day is found, a flood is unavoidable.\n",
        "                ans=[]\n",
        "                break\n",
        "        # Update the last seen index for the current lake.\n",
        "        filled[r]=i\n",
        "\n",
        "# If there are remaining dry days after processing all rains, assign them to lake 1.\n",
        "if ans and dry_days:\n",
        "    for d in dry_days:\n",
        "        ans[d]=1\n",
        "ans"
      ]
    },
    {
      "cell_type": "markdown",
      "source": [
        "### Improvement in Solution: Use Binary Search instead of linear search"
      ],
      "metadata": {
        "id": "4kgl9WgmGoCR"
      }
    },
    {
      "cell_type": "code",
      "source": [
        "rains = [1,2,0,3,0,3,0,0,3,3,3,0]\n",
        "filled={}\n",
        "dry_days=[]\n",
        "ans=[-1]*len(rains)\n",
        "\n",
        "def bin_search(arr, target):\n",
        "            # Binary search to find the first index in 'arr' where potion >= target\n",
        "            l = 0\n",
        "            r = len(arr)\n",
        "            while l < r:\n",
        "                mid = (l + r) // 2\n",
        "                # If current potion value is smaller than target, move right\n",
        "                if target >= arr[mid]:\n",
        "                    l = mid + 1\n",
        "                else:\n",
        "                    # Otherwise, move left to find the first valid potion\n",
        "                    r = mid\n",
        "            return l  # 'l' points to the smallest index where potion >= target\n",
        "\n",
        "for i,r in enumerate(rains):\n",
        "    if r==0:\n",
        "        # If there are no filled lakes, we can dry any lake, so we choose lake 1.\n",
        "        # Otherwise, we add the dry day index to dry_days list.\n",
        "        if not filled:\n",
        "            ans[i]=1\n",
        "        else:\n",
        "            dry_days.append(i)\n",
        "\n",
        "    else:\n",
        "        if r in filled:\n",
        "            # If the current lake is already filled, we need to find a dry day\n",
        "            # that occurs after the lake was filled.\n",
        "\n",
        "            # Do Binary Search (Improvement over previous solution)\n",
        "            idx = bin_search(dry_days, filled[r])\n",
        "            if idx == len(dry_days):\n",
        "                # No dry day available after it was last filled → flood unavoidable\n",
        "                ans = []\n",
        "                break\n",
        "\n",
        "            # Assign that dry day to dry this lake\n",
        "            ans[dry_days[idx]] = r  # Dry lake 'r' on that dry day\n",
        "            dry_days.pop(idx)       # Remove used dry day\n",
        "        # Update the last seen index for the current lake.\n",
        "\n",
        "        filled[r]=i\n",
        "\n",
        "# If there are remaining dry days after processing all rains, assign them to lake 1.\n",
        "if ans and dry_days:\n",
        "    for d in dry_days:\n",
        "        ans[d]=1\n",
        "ans"
      ],
      "metadata": {
        "colab": {
          "base_uri": "https://localhost:8080/"
        },
        "id": "Hmkv-SNbGrDv",
        "outputId": "663a94dd-7d6f-4312-c7f1-e783100a2bf6"
      },
      "execution_count": 7,
      "outputs": [
        {
          "output_type": "execute_result",
          "data": {
            "text/plain": [
              "[]"
            ]
          },
          "metadata": {},
          "execution_count": 7
        }
      ]
    }
  ]
}
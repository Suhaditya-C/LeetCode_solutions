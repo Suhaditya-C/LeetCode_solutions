{
 "cells": [
  {
   "cell_type": "markdown",
   "id": "a8e779ac",
   "metadata": {},
   "source": [
    "# 1792. Maximum Average Pass Ratio\n",
    "\n",
    "There is a school that has classes of students and each class will be having a final exam. You are given a 2D integer array classes, where classes[i] = [passi, totali]. You know beforehand that in the ith class, there are totali total students, but only passi number of students will pass the exam.\n",
    "\n",
    "You are also given an integer extraStudents. There are another extraStudents brilliant students that are guaranteed to pass the exam of any class they are assigned to. You want to assign each of the extraStudents students to a class in a way that maximizes the average pass ratio across all the classes.\n",
    "\n",
    "The pass ratio of a class is equal to the number of students of the class that will pass the exam divided by the total number of students of the class. The average pass ratio is the sum of pass ratios of all the classes divided by the number of the classes.\n",
    "\n",
    "Return the maximum possible average pass ratio after assigning the extraStudents students. Answers within 10-5 of the actual answer will be accepted.\n",
    "\n",
    " \n",
    "\n",
    "Example 1:\n",
    "\n",
    "Input: classes = [[1,2],[3,5],[2,2]], extraStudents = 2\n",
    "Output: 0.78333\n",
    "Explanation: You can assign the two extra students to the first class. The average pass ratio will be equal to (3/4 + 3/5 + 2/2) / 3 = 0.78333.\n",
    "Example 2:\n",
    "\n",
    "Input: classes = [[2,4],[3,9],[4,5],[2,10]], extraStudents = 4\n",
    "Output: 0.53485"
   ]
  },
  {
   "cell_type": "markdown",
   "id": "28773037",
   "metadata": {},
   "source": [
    "## Solution:\n",
    "Greedy Aproach: Use a priority queue"
   ]
  },
  {
   "cell_type": "markdown",
   "id": "4ea1413a",
   "metadata": {},
   "source": [
    "Time Limit Exceeded"
   ]
  },
  {
   "cell_type": "code",
   "execution_count": 2,
   "id": "7b4653df",
   "metadata": {},
   "outputs": [],
   "source": [
    "import heapq #Priority queue"
   ]
  },
  {
   "cell_type": "code",
   "execution_count": 19,
   "id": "8bb4c6ea",
   "metadata": {},
   "outputs": [
    {
     "data": {
      "text/plain": [
       "0.7833333333333333"
      ]
     },
     "execution_count": 19,
     "metadata": {},
     "output_type": "execute_result"
    }
   ],
   "source": [
    "classes = [[1,2],[3,5],[2,2]]; extraStudents = 2\n",
    "pq=[]\n",
    "while extraStudents>0:\n",
    "    for i,c in enumerate(classes):\n",
    "        gain=((c[0]+1)/(c[1]+1))-(c[0]/c[1])\n",
    "        heapq.heappush(pq,(-gain,i))\n",
    "\n",
    "    highest_gain,idx=pq[0]\n",
    "    classes[idx][0]+=1\n",
    "    classes[idx][1]+=1\n",
    "    pq=[]\n",
    "    extraStudents-=1\n",
    "res=0\n",
    "for c in classes:\n",
    "    res+=c[0]/c[1]\n",
    "res=res/len(classes)\n",
    "res"
   ]
  },
  {
   "cell_type": "code",
   "execution_count": 16,
   "id": "d4db680c",
   "metadata": {},
   "outputs": [
    {
     "data": {
      "text/plain": [
       "[[4, 6], [4, 10], [4, 5], [3, 11]]"
      ]
     },
     "execution_count": 16,
     "metadata": {},
     "output_type": "execute_result"
    }
   ],
   "source": [
    "classes"
   ]
  },
  {
   "cell_type": "markdown",
   "id": "f8e9b6ae",
   "metadata": {},
   "source": [
    "## Accepted Solution"
   ]
  },
  {
   "cell_type": "code",
   "execution_count": null,
   "id": "add44e6f",
   "metadata": {},
   "outputs": [
    {
     "data": {
      "text/plain": [
       "0.7833333333333333"
      ]
     },
     "execution_count": 22,
     "metadata": {},
     "output_type": "execute_result"
    }
   ],
   "source": [
    "classes = [[1,2],[3,5],[2,2]]; extraStudents = 2\n",
    "# Priority queue (max heap using negative values)\n",
    "pq = []\n",
    "for i, c in enumerate(classes):\n",
    "    gain = (c[0]+1)/(c[1]+1) - (c[0]/c[1])\n",
    "    heapq.heappush(pq, (-gain, i))\n",
    "\n",
    "while extraStudents > 0:\n",
    "    # Pop the class with highest gain\n",
    "    highest_gain, idx = heapq.heappop(pq)\n",
    "\n",
    "    # Assign one student\n",
    "    classes[idx][0] += 1\n",
    "    classes[idx][1] += 1\n",
    "    \n",
    "    # Recompute the gain for this class and push back into heap\n",
    "    new_gain = (classes[idx][0]+1)/(classes[idx][1]+1) - (classes[idx][0]/classes[idx][1])\n",
    "    heapq.heappush(pq, (-new_gain, idx))\n",
    "    \n",
    "    extraStudents -= 1\n",
    "\n",
    "# Final average\n",
    "res = sum(c[0]/c[1] for c in classes) / len(classes)\n",
    "res"
   ]
  }
 ],
 "metadata": {
  "kernelspec": {
   "display_name": "Python 3",
   "language": "python",
   "name": "python3"
  },
  "language_info": {
   "codemirror_mode": {
    "name": "ipython",
    "version": 3
   },
   "file_extension": ".py",
   "mimetype": "text/x-python",
   "name": "python",
   "nbconvert_exporter": "python",
   "pygments_lexer": "ipython3",
   "version": "3.10.9"
  }
 },
 "nbformat": 4,
 "nbformat_minor": 5
}

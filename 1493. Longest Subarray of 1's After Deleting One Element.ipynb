{
 "cells": [
  {
   "cell_type": "markdown",
   "id": "505a71be",
   "metadata": {},
   "source": [
    "# 1493. Longest Subarray of 1's After Deleting One Element\n",
    "\n",
    "Given a binary array nums, you should delete one element from it.\n",
    "\n",
    "Return the size of the longest non-empty subarray containing only 1's in the resulting array. Return 0 if there is no such subarray.\n",
    "\n",
    " \n",
    "\n",
    "Example 1:\n",
    "\n",
    "Input: nums = [1,1,0,1]\n",
    "Output: 3\n",
    "Explanation: After deleting the number in position 2, [1,1,1] contains 3 numbers with value of 1's.\n",
    "Example 2:\n",
    "\n",
    "Input: nums = [0,1,1,1,0,1,1,0,1]\n",
    "Output: 5\n",
    "Explanation: After deleting the number in position 4, [0,1,1,1,1,1,0,1] longest subarray with value of 1's is [1,1,1,1,1].\n",
    "Example 3:\n",
    "\n",
    "Input: nums = [1,1,1]\n",
    "Output: 2\n",
    "Explanation: You must delete one element.\n",
    " \n",
    "\n",
    "Constraints:\n",
    "\n",
    "1 <= nums.length <= 105\n",
    "nums[i] is either 0 or 1."
   ]
  },
  {
   "cell_type": "markdown",
   "id": "0365c3df",
   "metadata": {},
   "source": [
    "## Solution"
   ]
  },
  {
   "cell_type": "code",
   "execution_count": null,
   "id": "1efcc020",
   "metadata": {},
   "outputs": [
    {
     "data": {
      "text/plain": [
       "2"
      ]
     },
     "execution_count": 4,
     "metadata": {},
     "output_type": "execute_result"
    }
   ],
   "source": [
    "nums = [1,1,1]                  # Input binary array\n",
    "cnt = 0                         # Counter for number of zeros in current window\n",
    "res = 0                         # Result: length of longest valid window\n",
    "l = 0                           # Left pointer for sliding window\n",
    "\n",
    "for r in range(len(nums)):       # Iterate with right pointer over array\n",
    "    if nums[r] != 1:            # If current element is zero\n",
    "        cnt += 1                # Increment zero counter\n",
    "    while cnt > 1:              # If more than one zero in window\n",
    "        if nums[l] != 1:        # If left element is zero\n",
    "            cnt -= 1            # Decrement zero counter\n",
    "        l += 1                  # Move left pointer right\n",
    "    res = max(res, r - l + 1)   # Update result with current window size\n",
    "\n",
    "res - 1                         # Subtract one for the required deletion, return final answer"
   ]
  }
 ],
 "metadata": {
  "kernelspec": {
   "display_name": "Python 3",
   "language": "python",
   "name": "python3"
  },
  "language_info": {
   "codemirror_mode": {
    "name": "ipython",
    "version": 3
   },
   "file_extension": ".py",
   "mimetype": "text/x-python",
   "name": "python",
   "nbconvert_exporter": "python",
   "pygments_lexer": "ipython3",
   "version": "3.10.9"
  }
 },
 "nbformat": 4,
 "nbformat_minor": 5
}

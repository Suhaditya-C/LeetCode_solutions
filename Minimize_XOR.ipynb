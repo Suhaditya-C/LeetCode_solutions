{
 "cells": [
  {
   "cell_type": "markdown",
   "metadata": {},
   "source": [
    "## 2429. Minimize XOR\n",
    "\n",
    "Given two positive integers num1 and num2, find the positive integer x such that:\n",
    "\n",
    "x has the same number of set bits as num2, and\n",
    "The value x XOR num1 is minimal.\n",
    "Note that XOR is the bitwise XOR operation.\n",
    "\n",
    "Return the integer x. The test cases are generated such that x is uniquely determined.\n",
    "\n",
    "The number of set bits of an integer is the number of 1's in its binary representation.\n",
    "\n",
    " \n",
    "\n",
    "Example 1:\n",
    "\n",
    "Input: num1 = 3, num2 = 5\n",
    "Output: 3\n",
    "Explanation:\n",
    "The binary representations of num1 and num2 are 0011 and 0101, respectively.\n",
    "The integer 3 has the same number of set bits as num2, and the value 3 XOR 3 = 0 is minimal.\n",
    "Example 2:\n",
    "\n",
    "Input: num1 = 1, num2 = 12\n",
    "Output: 3\n",
    "Explanation:\n",
    "The binary representations of num1 and num2 are 0001 and 1100, respectively.\n",
    "The integer 3 has the same number of set bits as num2, and the value 3 XOR 1 = 2 is minimal.\n",
    " \n",
    "\n",
    "Constraints:\n",
    "\n",
    "1 <= num1, num2 <= 109"
   ]
  },
  {
   "cell_type": "markdown",
   "metadata": {},
   "source": [
    "Solution- By string conversion (not Bit Manipulation)"
   ]
  },
  {
   "cell_type": "code",
   "execution_count": 1,
   "metadata": {},
   "outputs": [
    {
     "data": {
      "text/plain": [
       "8"
      ]
     },
     "execution_count": 1,
     "metadata": {},
     "output_type": "execute_result"
    }
   ],
   "source": [
    "num1 = 12 ; num2 = 1\n",
    "bit2=bin(num2)[2:]\n",
    "c2=bit2.count('1')\n",
    "bit1=bin(num1)[2:]\n",
    "c1=bit1.count('1')\n",
    "maxlen=max(len(bit1),len(bit2))\n",
    "maxlen\n",
    "x=list(bit1.zfill(maxlen))\n",
    "i=0\n",
    "while x.count('1')<c2:\n",
    "  if x[maxlen-1-i]=='0':\n",
    "    x[maxlen-1-i]='1'\n",
    "  i+=1\n",
    "\n",
    "while x.count('1')>c2:\n",
    "  if x[maxlen-1-i]=='1':\n",
    "    x[maxlen-1-i]='0'\n",
    "  i+=1\n",
    "\n",
    "string=''.join(x)\n",
    "res=int(string,2)\n",
    "res    "
   ]
  },
  {
   "cell_type": "markdown",
   "metadata": {},
   "source": [
    "Final Solution"
   ]
  },
  {
   "cell_type": "code",
   "execution_count": null,
   "metadata": {},
   "outputs": [],
   "source": [
    "class Solution:\n",
    "    def minimizeXor(self, num1: int, num2: int) -> int:\n",
    "\n",
    "        bit2=bin(num2)[2:]\n",
    "        c2=bit2.count('1')\n",
    "        bit1=bin(num1)[2:]\n",
    "        c1=bit1.count('1')\n",
    "        maxlen=max(len(bit1),len(bit2))\n",
    "        maxlen\n",
    "        x=list(bit1.zfill(maxlen))\n",
    "        i=0\n",
    "        while x.count('1')<c2:\n",
    "            if x[maxlen-1-i]=='0':\n",
    "                x[maxlen-1-i]='1'\n",
    "            i+=1\n",
    "\n",
    "        while x.count('1')>c2:\n",
    "            if x[maxlen-1-i]=='1':\n",
    "                x[maxlen-1-i]='0'\n",
    "            i+=1\n",
    "\n",
    "        string=''.join(x)\n",
    "        res=int(string,2)\n",
    "        return res"
   ]
  },
  {
   "cell_type": "markdown",
   "metadata": {},
   "source": []
  }
 ],
 "metadata": {
  "kernelspec": {
   "display_name": "Python 3",
   "language": "python",
   "name": "python3"
  },
  "language_info": {
   "codemirror_mode": {
    "name": "ipython",
    "version": 3
   },
   "file_extension": ".py",
   "mimetype": "text/x-python",
   "name": "python",
   "nbconvert_exporter": "python",
   "pygments_lexer": "ipython3",
   "version": "3.12.4"
  }
 },
 "nbformat": 4,
 "nbformat_minor": 2
}
